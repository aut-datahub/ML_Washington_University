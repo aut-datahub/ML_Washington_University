{
  "nbformat": 4,
  "nbformat_minor": 0,
  "metadata": {
    "kernelspec": {
      "display_name": "Python 3",
      "language": "python",
      "name": "python3"
    },
    "language_info": {
      "codemirror_mode": {
        "name": "ipython",
        "version": 3
      },
      "file_extension": ".py",
      "mimetype": "text/x-python",
      "name": "python",
      "nbconvert_exporter": "python",
      "pygments_lexer": "ipython3",
      "version": "3.6.8"
    },
    "colab": {
      "name": "Precision Recall",
      "provenance": [],
      "collapsed_sections": []
    }
  },
  "cells": [
    {
      "cell_type": "markdown",
      "metadata": {
        "id": "_WdyB4PrLAVr"
      },
      "source": [
        "# Exploring precision and recall\n",
        "\n",
        "The goal of this second notebook is to understand precision-recall in the context of classifiers.\n",
        "\n",
        " * Use Amazon review data in its entirety.\n",
        " * Train a logistic regression model.\n",
        " * Explore various evaluation metrics: accuracy, confusion matrix, precision, recall.\n",
        " * Explore how various metrics can be combined to produce a cost of making an error.\n",
        " * Explore precision and recall curves.\n",
        " \n",
        "Because we are using the full Amazon review dataset (not a subset of words or reviews), in this assignment we return to using Turi Create for its efficiency. As usual, let's start by **firing up Turi Create**.\n",
        "\n",
        "Make sure you have the latest version of Turi Create."
      ]
    },
    {
      "cell_type": "code",
      "metadata": {
        "id": "eOOZWdvTLAV9"
      },
      "source": [
        "from __future__ import division\n",
        "import turicreate\n",
        "import numpy as np"
      ],
      "execution_count": 1,
      "outputs": []
    },
    {
      "cell_type": "markdown",
      "metadata": {
        "id": "Z-0ypyw4LAWD"
      },
      "source": [
        "# Load amazon review dataset"
      ]
    },
    {
      "cell_type": "code",
      "metadata": {
        "id": "VSLvtuw3LAWG"
      },
      "source": [
        "products = turicreate.SFrame('/content/drive/MyDrive/amazon_baby.sframe/')"
      ],
      "execution_count": 2,
      "outputs": []
    },
    {
      "cell_type": "markdown",
      "metadata": {
        "id": "Uk8YkL_-LAWI"
      },
      "source": [
        "# Extract word counts and sentiments"
      ]
    },
    {
      "cell_type": "markdown",
      "metadata": {
        "id": "AWjPdEP-LAWK"
      },
      "source": [
        "As in the first assignment of this course, we compute the word counts for individual words and extract positive and negative sentiments from ratings. To summarize, we perform the following:\n",
        "\n",
        "1. Remove punctuation.\n",
        "2. Remove reviews with \"neutral\" sentiment (rating 3).\n",
        "3. Set reviews with rating 4 or more to be positive and those with 2 or less to be negative."
      ]
    },
    {
      "cell_type": "code",
      "metadata": {
        "collapsed": true,
        "id": "xKCKNy3dLAWN"
      },
      "source": [
        "import string\n",
        "\n",
        "def remove_punctuation(text):\n",
        "    try: # python 2.x\n",
        "        text = text.translate(None, string.punctuation) \n",
        "    except: # python 3.x\n",
        "        translator = text.maketrans('', '', string.punctuation)\n",
        "        text = text.translate(translator)\n",
        "    return text\n",
        "\n",
        "# Remove punctuation.\n",
        "review_clean = products['review'].apply(remove_punctuation)\n",
        "\n",
        "# Count words\n",
        "products['word_count'] = turicreate.text_analytics.count_words(review_clean)\n",
        "\n",
        "# Drop neutral sentiment reviews.\n",
        "products = products[products['rating'] != 3]\n",
        "\n",
        "# Positive sentiment to +1 and negative sentiment to -1\n",
        "products['sentiment'] = products['rating'].apply(lambda rating : +1 if rating > 3 else -1)"
      ],
      "execution_count": 3,
      "outputs": []
    },
    {
      "cell_type": "markdown",
      "metadata": {
        "id": "Ol_yqH3tLAWS"
      },
      "source": [
        "Now, let's remember what the dataset looks like by taking a quick peek:"
      ]
    },
    {
      "cell_type": "code",
      "metadata": {
        "colab": {
          "base_uri": "https://localhost:8080/",
          "height": 457
        },
        "id": "tUvs3Qu-LAWV",
        "outputId": "eee71dcc-dbf3-4900-b6fc-9cd852f26007"
      },
      "source": [
        "products"
      ],
      "execution_count": 4,
      "outputs": [
        {
          "output_type": "execute_result",
          "data": {
            "text/html": [
              "<div style=\"max-height:1000px;max-width:1500px;overflow:auto;\"><table frame=\"box\" rules=\"cols\">\n",
              "    <tr>\n",
              "        <th style=\"padding-left: 1em; padding-right: 1em; text-align: center\">name</th>\n",
              "        <th style=\"padding-left: 1em; padding-right: 1em; text-align: center\">review</th>\n",
              "        <th style=\"padding-left: 1em; padding-right: 1em; text-align: center\">rating</th>\n",
              "        <th style=\"padding-left: 1em; padding-right: 1em; text-align: center\">word_count</th>\n",
              "        <th style=\"padding-left: 1em; padding-right: 1em; text-align: center\">sentiment</th>\n",
              "    </tr>\n",
              "    <tr>\n",
              "        <td style=\"padding-left: 1em; padding-right: 1em; text-align: center; vertical-align: top\">Planetwise Wipe Pouch</td>\n",
              "        <td style=\"padding-left: 1em; padding-right: 1em; text-align: center; vertical-align: top\">it came early and was not<br>disappointed. i love ...</td>\n",
              "        <td style=\"padding-left: 1em; padding-right: 1em; text-align: center; vertical-align: top\">5.0</td>\n",
              "        <td style=\"padding-left: 1em; padding-right: 1em; text-align: center; vertical-align: top\">{&#x27;recommend&#x27;: 1.0,<br>&#x27;highly&#x27;: 1.0, ...</td>\n",
              "        <td style=\"padding-left: 1em; padding-right: 1em; text-align: center; vertical-align: top\">1</td>\n",
              "    </tr>\n",
              "    <tr>\n",
              "        <td style=\"padding-left: 1em; padding-right: 1em; text-align: center; vertical-align: top\">Annas Dream Full Quilt<br>with 2 Shams ...</td>\n",
              "        <td style=\"padding-left: 1em; padding-right: 1em; text-align: center; vertical-align: top\">Very soft and comfortable<br>and warmer than it ...</td>\n",
              "        <td style=\"padding-left: 1em; padding-right: 1em; text-align: center; vertical-align: top\">5.0</td>\n",
              "        <td style=\"padding-left: 1em; padding-right: 1em; text-align: center; vertical-align: top\">{&#x27;quilt&#x27;: 1.0, &#x27;this&#x27;:<br>1.0, &#x27;for&#x27;: 1.0, ...</td>\n",
              "        <td style=\"padding-left: 1em; padding-right: 1em; text-align: center; vertical-align: top\">1</td>\n",
              "    </tr>\n",
              "    <tr>\n",
              "        <td style=\"padding-left: 1em; padding-right: 1em; text-align: center; vertical-align: top\">Stop Pacifier Sucking<br>without tears with ...</td>\n",
              "        <td style=\"padding-left: 1em; padding-right: 1em; text-align: center; vertical-align: top\">This is a product well<br>worth the purchase.  I ...</td>\n",
              "        <td style=\"padding-left: 1em; padding-right: 1em; text-align: center; vertical-align: top\">5.0</td>\n",
              "        <td style=\"padding-left: 1em; padding-right: 1em; text-align: center; vertical-align: top\">{&#x27;tool&#x27;: 1.0, &#x27;clever&#x27;:<br>1.0, &#x27;approach&#x27;: 2.0, ...</td>\n",
              "        <td style=\"padding-left: 1em; padding-right: 1em; text-align: center; vertical-align: top\">1</td>\n",
              "    </tr>\n",
              "    <tr>\n",
              "        <td style=\"padding-left: 1em; padding-right: 1em; text-align: center; vertical-align: top\">Stop Pacifier Sucking<br>without tears with ...</td>\n",
              "        <td style=\"padding-left: 1em; padding-right: 1em; text-align: center; vertical-align: top\">All of my kids have cried<br>non-stop when I tried to ...</td>\n",
              "        <td style=\"padding-left: 1em; padding-right: 1em; text-align: center; vertical-align: top\">5.0</td>\n",
              "        <td style=\"padding-left: 1em; padding-right: 1em; text-align: center; vertical-align: top\">{&#x27;rock&#x27;: 1.0,<br>&#x27;headachesthanks&#x27;: 1.0, ...</td>\n",
              "        <td style=\"padding-left: 1em; padding-right: 1em; text-align: center; vertical-align: top\">1</td>\n",
              "    </tr>\n",
              "    <tr>\n",
              "        <td style=\"padding-left: 1em; padding-right: 1em; text-align: center; vertical-align: top\">Stop Pacifier Sucking<br>without tears with ...</td>\n",
              "        <td style=\"padding-left: 1em; padding-right: 1em; text-align: center; vertical-align: top\">When the Binky Fairy came<br>to our house, we didn&#x27;t ...</td>\n",
              "        <td style=\"padding-left: 1em; padding-right: 1em; text-align: center; vertical-align: top\">5.0</td>\n",
              "        <td style=\"padding-left: 1em; padding-right: 1em; text-align: center; vertical-align: top\">{&#x27;thumb&#x27;: 1.0, &#x27;or&#x27;: 1.0,<br>&#x27;break&#x27;: 1.0, &#x27;trying&#x27;: ...</td>\n",
              "        <td style=\"padding-left: 1em; padding-right: 1em; text-align: center; vertical-align: top\">1</td>\n",
              "    </tr>\n",
              "    <tr>\n",
              "        <td style=\"padding-left: 1em; padding-right: 1em; text-align: center; vertical-align: top\">A Tale of Baby&#x27;s Days<br>with Peter Rabbit ...</td>\n",
              "        <td style=\"padding-left: 1em; padding-right: 1em; text-align: center; vertical-align: top\">Lovely book, it&#x27;s bound<br>tightly so you may no ...</td>\n",
              "        <td style=\"padding-left: 1em; padding-right: 1em; text-align: center; vertical-align: top\">4.0</td>\n",
              "        <td style=\"padding-left: 1em; padding-right: 1em; text-align: center; vertical-align: top\">{&#x27;2995&#x27;: 1.0, &#x27;for&#x27;: 1.0,<br>&#x27;barnes&#x27;: 1.0, &#x27;at&#x27;:  ...</td>\n",
              "        <td style=\"padding-left: 1em; padding-right: 1em; text-align: center; vertical-align: top\">1</td>\n",
              "    </tr>\n",
              "    <tr>\n",
              "        <td style=\"padding-left: 1em; padding-right: 1em; text-align: center; vertical-align: top\">Baby Tracker&amp;reg; - Daily<br>Childcare Journal, ...</td>\n",
              "        <td style=\"padding-left: 1em; padding-right: 1em; text-align: center; vertical-align: top\">Perfect for new parents.<br>We were able to keep ...</td>\n",
              "        <td style=\"padding-left: 1em; padding-right: 1em; text-align: center; vertical-align: top\">5.0</td>\n",
              "        <td style=\"padding-left: 1em; padding-right: 1em; text-align: center; vertical-align: top\">{&#x27;right&#x27;: 1.0, &#x27;because&#x27;:<br>1.0, &#x27;questions&#x27;: 1.0, ...</td>\n",
              "        <td style=\"padding-left: 1em; padding-right: 1em; text-align: center; vertical-align: top\">1</td>\n",
              "    </tr>\n",
              "    <tr>\n",
              "        <td style=\"padding-left: 1em; padding-right: 1em; text-align: center; vertical-align: top\">Baby Tracker&amp;reg; - Daily<br>Childcare Journal, ...</td>\n",
              "        <td style=\"padding-left: 1em; padding-right: 1em; text-align: center; vertical-align: top\">A friend of mine pinned<br>this product on Pinte ...</td>\n",
              "        <td style=\"padding-left: 1em; padding-right: 1em; text-align: center; vertical-align: top\">5.0</td>\n",
              "        <td style=\"padding-left: 1em; padding-right: 1em; text-align: center; vertical-align: top\">{&#x27;like&#x27;: 1.0, &#x27;and&#x27;: 1.0,<br>&#x27;changes&#x27;: 1.0, &#x27;the&#x27;: ...</td>\n",
              "        <td style=\"padding-left: 1em; padding-right: 1em; text-align: center; vertical-align: top\">1</td>\n",
              "    </tr>\n",
              "    <tr>\n",
              "        <td style=\"padding-left: 1em; padding-right: 1em; text-align: center; vertical-align: top\">Baby Tracker&amp;reg; - Daily<br>Childcare Journal, ...</td>\n",
              "        <td style=\"padding-left: 1em; padding-right: 1em; text-align: center; vertical-align: top\">This has been an easy way<br>for my nanny to record ...</td>\n",
              "        <td style=\"padding-left: 1em; padding-right: 1em; text-align: center; vertical-align: top\">4.0</td>\n",
              "        <td style=\"padding-left: 1em; padding-right: 1em; text-align: center; vertical-align: top\">{&#x27;in&#x27;: 1.0, &#x27;pages&#x27;: 1.0,<br>&#x27;out&#x27;: 1.0, &#x27;run&#x27;: 1.0, ...</td>\n",
              "        <td style=\"padding-left: 1em; padding-right: 1em; text-align: center; vertical-align: top\">1</td>\n",
              "    </tr>\n",
              "    <tr>\n",
              "        <td style=\"padding-left: 1em; padding-right: 1em; text-align: center; vertical-align: top\">Baby Tracker&amp;reg; - Daily<br>Childcare Journal, ...</td>\n",
              "        <td style=\"padding-left: 1em; padding-right: 1em; text-align: center; vertical-align: top\">I love this journal and<br>our nanny uses it ...</td>\n",
              "        <td style=\"padding-left: 1em; padding-right: 1em; text-align: center; vertical-align: top\">4.0</td>\n",
              "        <td style=\"padding-left: 1em; padding-right: 1em; text-align: center; vertical-align: top\">{&#x27;tracker&#x27;: 1.0, &#x27;now&#x27;:<br>1.0, &#x27;postits&#x27;: 1.0, ...</td>\n",
              "        <td style=\"padding-left: 1em; padding-right: 1em; text-align: center; vertical-align: top\">1</td>\n",
              "    </tr>\n",
              "</table>\n",
              "[166752 rows x 5 columns]<br/>Note: Only the head of the SFrame is printed.<br/>You can use print_rows(num_rows=m, num_columns=n) to print more rows and columns.\n",
              "</div>"
            ],
            "text/plain": [
              "Columns:\n",
              "\tname\tstr\n",
              "\treview\tstr\n",
              "\trating\tfloat\n",
              "\tword_count\tdict\n",
              "\tsentiment\tint\n",
              "\n",
              "Rows: 166752\n",
              "\n",
              "Data:\n",
              "+-------------------------------+-------------------------------+--------+\n",
              "|              name             |             review            | rating |\n",
              "+-------------------------------+-------------------------------+--------+\n",
              "|     Planetwise Wipe Pouch     | it came early and was not ... |  5.0   |\n",
              "| Annas Dream Full Quilt wit... | Very soft and comfortable ... |  5.0   |\n",
              "| Stop Pacifier Sucking with... | This is a product well wor... |  5.0   |\n",
              "| Stop Pacifier Sucking with... | All of my kids have cried ... |  5.0   |\n",
              "| Stop Pacifier Sucking with... | When the Binky Fairy came ... |  5.0   |\n",
              "| A Tale of Baby's Days with... | Lovely book, it's bound ti... |  4.0   |\n",
              "| Baby Tracker&reg; - Daily ... | Perfect for new parents. W... |  5.0   |\n",
              "| Baby Tracker&reg; - Daily ... | A friend of mine pinned th... |  5.0   |\n",
              "| Baby Tracker&reg; - Daily ... | This has been an easy way ... |  4.0   |\n",
              "| Baby Tracker&reg; - Daily ... | I love this journal and ou... |  4.0   |\n",
              "+-------------------------------+-------------------------------+--------+\n",
              "+-------------------------------+-----------+\n",
              "|           word_count          | sentiment |\n",
              "+-------------------------------+-----------+\n",
              "| {'recommend': 1.0, 'highly... |     1     |\n",
              "| {'quilt': 1.0, 'this': 1.0... |     1     |\n",
              "| {'tool': 1.0, 'clever': 1.... |     1     |\n",
              "| {'rock': 1.0, 'headachesth... |     1     |\n",
              "| {'thumb': 1.0, 'or': 1.0, ... |     1     |\n",
              "| {'2995': 1.0, 'for': 1.0, ... |     1     |\n",
              "| {'right': 1.0, 'because': ... |     1     |\n",
              "| {'like': 1.0, 'and': 1.0, ... |     1     |\n",
              "| {'in': 1.0, 'pages': 1.0, ... |     1     |\n",
              "| {'tracker': 1.0, 'now': 1.... |     1     |\n",
              "+-------------------------------+-----------+\n",
              "[166752 rows x 5 columns]\n",
              "Note: Only the head of the SFrame is printed.\n",
              "You can use print_rows(num_rows=m, num_columns=n) to print more rows and columns."
            ]
          },
          "metadata": {
            "tags": []
          },
          "execution_count": 4
        }
      ]
    },
    {
      "cell_type": "markdown",
      "metadata": {
        "id": "4XpqlnpZLAWZ"
      },
      "source": [
        "## Split data into training and test sets\n",
        "\n",
        "We split the data into a 80-20 split where 80% is in the training set and 20% is in the test set."
      ]
    },
    {
      "cell_type": "code",
      "metadata": {
        "collapsed": true,
        "id": "QCqlZ6UdLAWb"
      },
      "source": [
        "train_data, test_data = products.random_split(.8, seed=1)"
      ],
      "execution_count": 5,
      "outputs": []
    },
    {
      "cell_type": "markdown",
      "metadata": {
        "id": "GEWZvS3jLAWb"
      },
      "source": [
        "## Train a logistic regression classifier\n",
        "\n",
        "We will now train a logistic regression classifier with **sentiment** as the target and **word_count** as the features. We will set `validation_set=None` to make sure everyone gets exactly the same results.  \n",
        "\n",
        "Remember, even though we now know how to implement logistic regression, we will use Turi Create for its efficiency at processing this Amazon dataset in its entirety.  The focus of this assignment is instead on the topic of precision and recall."
      ]
    },
    {
      "cell_type": "code",
      "metadata": {
        "scrolled": true,
        "colab": {
          "base_uri": "https://localhost:8080/",
          "height": 347
        },
        "id": "kuy98jzjLAWd",
        "outputId": "ee817fa0-5996-4536-bd9d-ea6f5e4dedf9"
      },
      "source": [
        "model = turicreate.logistic_classifier.create(train_data, target='sentiment',\n",
        "                                              features=['word_count'],\n",
        "                                              validation_set=None)"
      ],
      "execution_count": 6,
      "outputs": [
        {
          "output_type": "display_data",
          "data": {
            "text/html": [
              "<pre>Logistic regression:</pre>"
            ],
            "text/plain": [
              "Logistic regression:"
            ]
          },
          "metadata": {
            "tags": []
          }
        },
        {
          "output_type": "display_data",
          "data": {
            "text/html": [
              "<pre>--------------------------------------------------------</pre>"
            ],
            "text/plain": [
              "--------------------------------------------------------"
            ]
          },
          "metadata": {
            "tags": []
          }
        },
        {
          "output_type": "display_data",
          "data": {
            "text/html": [
              "<pre>Number of examples          : 133416</pre>"
            ],
            "text/plain": [
              "Number of examples          : 133416"
            ]
          },
          "metadata": {
            "tags": []
          }
        },
        {
          "output_type": "display_data",
          "data": {
            "text/html": [
              "<pre>Number of classes           : 2</pre>"
            ],
            "text/plain": [
              "Number of classes           : 2"
            ]
          },
          "metadata": {
            "tags": []
          }
        },
        {
          "output_type": "display_data",
          "data": {
            "text/html": [
              "<pre>Number of feature columns   : 1</pre>"
            ],
            "text/plain": [
              "Number of feature columns   : 1"
            ]
          },
          "metadata": {
            "tags": []
          }
        },
        {
          "output_type": "display_data",
          "data": {
            "text/html": [
              "<pre>Number of unpacked features : 121712</pre>"
            ],
            "text/plain": [
              "Number of unpacked features : 121712"
            ]
          },
          "metadata": {
            "tags": []
          }
        },
        {
          "output_type": "display_data",
          "data": {
            "text/html": [
              "<pre>Number of coefficients      : 121713</pre>"
            ],
            "text/plain": [
              "Number of coefficients      : 121713"
            ]
          },
          "metadata": {
            "tags": []
          }
        },
        {
          "output_type": "display_data",
          "data": {
            "text/html": [
              "<pre>Starting L-BFGS</pre>"
            ],
            "text/plain": [
              "Starting L-BFGS"
            ]
          },
          "metadata": {
            "tags": []
          }
        },
        {
          "output_type": "display_data",
          "data": {
            "text/html": [
              "<pre>--------------------------------------------------------</pre>"
            ],
            "text/plain": [
              "--------------------------------------------------------"
            ]
          },
          "metadata": {
            "tags": []
          }
        },
        {
          "output_type": "display_data",
          "data": {
            "text/html": [
              "<pre>+-----------+----------+-----------+--------------+-------------------+</pre>"
            ],
            "text/plain": [
              "+-----------+----------+-----------+--------------+-------------------+"
            ]
          },
          "metadata": {
            "tags": []
          }
        },
        {
          "output_type": "display_data",
          "data": {
            "text/html": [
              "<pre>| Iteration | Passes   | Step size | Elapsed Time | Training Accuracy |</pre>"
            ],
            "text/plain": [
              "| Iteration | Passes   | Step size | Elapsed Time | Training Accuracy |"
            ]
          },
          "metadata": {
            "tags": []
          }
        },
        {
          "output_type": "display_data",
          "data": {
            "text/html": [
              "<pre>+-----------+----------+-----------+--------------+-------------------+</pre>"
            ],
            "text/plain": [
              "+-----------+----------+-----------+--------------+-------------------+"
            ]
          },
          "metadata": {
            "tags": []
          }
        },
        {
          "output_type": "display_data",
          "data": {
            "text/html": [
              "<pre>| 0         | 4        | 0.250000  | 2.445167     | 0.840754          |</pre>"
            ],
            "text/plain": [
              "| 0         | 4        | 0.250000  | 2.445167     | 0.840754          |"
            ]
          },
          "metadata": {
            "tags": []
          }
        },
        {
          "output_type": "display_data",
          "data": {
            "text/html": [
              "<pre>| 1         | 9        | 3.250000  | 4.474683     | 0.941514          |</pre>"
            ],
            "text/plain": [
              "| 1         | 9        | 3.250000  | 4.474683     | 0.941514          |"
            ]
          },
          "metadata": {
            "tags": []
          }
        },
        {
          "output_type": "display_data",
          "data": {
            "text/html": [
              "<pre>| 2         | 11       | 2.778177  | 5.427481     | 0.942638          |</pre>"
            ],
            "text/plain": [
              "| 2         | 11       | 2.778177  | 5.427481     | 0.942638          |"
            ]
          },
          "metadata": {
            "tags": []
          }
        },
        {
          "output_type": "display_data",
          "data": {
            "text/html": [
              "<pre>| 3         | 12       | 2.778177  | 6.023426     | 0.967822          |</pre>"
            ],
            "text/plain": [
              "| 3         | 12       | 2.778177  | 6.023426     | 0.967822          |"
            ]
          },
          "metadata": {
            "tags": []
          }
        },
        {
          "output_type": "display_data",
          "data": {
            "text/html": [
              "<pre>| 4         | 13       | 2.778177  | 6.629665     | 0.976495          |</pre>"
            ],
            "text/plain": [
              "| 4         | 13       | 2.778177  | 6.629665     | 0.976495          |"
            ]
          },
          "metadata": {
            "tags": []
          }
        },
        {
          "output_type": "display_data",
          "data": {
            "text/html": [
              "<pre>| 5         | 14       | 2.778177  | 7.218819     | 0.976495          |</pre>"
            ],
            "text/plain": [
              "| 5         | 14       | 2.778177  | 7.218819     | 0.976495          |"
            ]
          },
          "metadata": {
            "tags": []
          }
        },
        {
          "output_type": "display_data",
          "data": {
            "text/html": [
              "<pre>+-----------+----------+-----------+--------------+-------------------+</pre>"
            ],
            "text/plain": [
              "+-----------+----------+-----------+--------------+-------------------+"
            ]
          },
          "metadata": {
            "tags": []
          }
        }
      ]
    },
    {
      "cell_type": "markdown",
      "metadata": {
        "id": "82BiNE6wLAWe"
      },
      "source": [
        "# Model Evaluation"
      ]
    },
    {
      "cell_type": "markdown",
      "metadata": {
        "id": "MRwnbYVtLAWf"
      },
      "source": [
        "We will explore the advanced model evaluation concepts that were discussed in the lectures.\n",
        "\n",
        "## Accuracy\n",
        "\n",
        "One performance metric we will use for our more advanced exploration is accuracy, which we have seen many times in past assignments.  Recall that the accuracy is given by\n",
        "\n",
        "$$\n",
        "\\mbox{accuracy} = \\frac{\\mbox{# correctly classified data points}}{\\mbox{# total data points}}\n",
        "$$\n",
        "\n",
        "To obtain the accuracy of our trained models using Turi Create, simply pass the option `metric='accuracy'` to the `evaluate` function. We compute the **accuracy** of our logistic regression model on the **test_data** as follows:"
      ]
    },
    {
      "cell_type": "code",
      "metadata": {
        "colab": {
          "base_uri": "https://localhost:8080/"
        },
        "id": "O9FcFv7rLAWf",
        "outputId": "d6d2c1fa-a60b-4c18-db21-031174b91139"
      },
      "source": [
        "accuracy= model.evaluate(test_data, metric='accuracy')['accuracy']\n",
        "print(\"Test Accuracy: %s\" % accuracy)"
      ],
      "execution_count": 7,
      "outputs": [
        {
          "output_type": "stream",
          "text": [
            "Test Accuracy: 0.9221862251019919\n"
          ],
          "name": "stdout"
        }
      ]
    },
    {
      "cell_type": "markdown",
      "metadata": {
        "id": "DcWe728_LAWg"
      },
      "source": [
        "## Baseline: Majority class prediction\n",
        "\n",
        "Recall from an earlier assignment that we used the **majority class classifier** as a baseline (i.e reference) model for a point of comparison with a more sophisticated classifier. The majority classifier model predicts the majority class for all data points. \n",
        "\n",
        "Typically, a good model should beat the majority class classifier. Since the majority class in this dataset is the positive class (i.e., there are more positive than negative reviews), the accuracy of the majority class classifier can be computed as follows:"
      ]
    },
    {
      "cell_type": "code",
      "metadata": {
        "colab": {
          "base_uri": "https://localhost:8080/"
        },
        "id": "nCVI77igLAWg",
        "outputId": "cc377653-cdd0-4c59-c529-2e2d5b574468"
      },
      "source": [
        "baseline = len(test_data[test_data['sentiment'] == 1])/len(test_data)\n",
        "print(\"Baseline accuracy (majority class classifier): %s\" % baseline)"
      ],
      "execution_count": 8,
      "outputs": [
        {
          "output_type": "stream",
          "text": [
            "Baseline accuracy (majority class classifier): 0.8427825773938085\n"
          ],
          "name": "stdout"
        }
      ]
    },
    {
      "cell_type": "markdown",
      "metadata": {
        "id": "aeTislKQLAWh"
      },
      "source": [
        "**Quiz Question:** Using accuracy as the evaluation metric, was our **logistic regression model** better than the baseline (majority class classifier)?"
      ]
    },
    {
      "cell_type": "markdown",
      "metadata": {
        "id": "o8FbKoseLAWh"
      },
      "source": [
        "## Confusion Matrix\n",
        "\n",
        "The accuracy, while convenient, does not tell the whole story. For a fuller picture, we turn to the **confusion matrix**. In the case of binary classification, the confusion matrix is a 2-by-2 matrix laying out correct and incorrect predictions made in each label as follows:\n",
        "```\n",
        "              +---------------------------------------------+\n",
        "              |                Predicted label              |\n",
        "              +----------------------+----------------------+\n",
        "              |          (+1)        |         (-1)         |\n",
        "+-------+-----+----------------------+----------------------+\n",
        "| True  |(+1) | # of true positives  | # of false negatives |\n",
        "| label +-----+----------------------+----------------------+\n",
        "|       |(-1) | # of false positives | # of true negatives  |\n",
        "+-------+-----+----------------------+----------------------+\n",
        "```\n",
        "To print out the confusion matrix for a classifier, use `metric='confusion_matrix'`:"
      ]
    },
    {
      "cell_type": "code",
      "metadata": {
        "colab": {
          "base_uri": "https://localhost:8080/",
          "height": 133
        },
        "id": "3BHU96H_LAWi",
        "outputId": "609bf978-0e93-406f-edd8-01a7bb70fde4"
      },
      "source": [
        "confusion_matrix = model.evaluate(test_data, metric='confusion_matrix')['confusion_matrix']\n",
        "confusion_matrix"
      ],
      "execution_count": 9,
      "outputs": [
        {
          "output_type": "execute_result",
          "data": {
            "text/html": [
              "<div style=\"max-height:1000px;max-width:1500px;overflow:auto;\"><table frame=\"box\" rules=\"cols\">\n",
              "    <tr>\n",
              "        <th style=\"padding-left: 1em; padding-right: 1em; text-align: center\">target_label</th>\n",
              "        <th style=\"padding-left: 1em; padding-right: 1em; text-align: center\">predicted_label</th>\n",
              "        <th style=\"padding-left: 1em; padding-right: 1em; text-align: center\">count</th>\n",
              "    </tr>\n",
              "    <tr>\n",
              "        <td style=\"padding-left: 1em; padding-right: 1em; text-align: center; vertical-align: top\">1</td>\n",
              "        <td style=\"padding-left: 1em; padding-right: 1em; text-align: center; vertical-align: top\">-1</td>\n",
              "        <td style=\"padding-left: 1em; padding-right: 1em; text-align: center; vertical-align: top\">896</td>\n",
              "    </tr>\n",
              "    <tr>\n",
              "        <td style=\"padding-left: 1em; padding-right: 1em; text-align: center; vertical-align: top\">-1</td>\n",
              "        <td style=\"padding-left: 1em; padding-right: 1em; text-align: center; vertical-align: top\">-1</td>\n",
              "        <td style=\"padding-left: 1em; padding-right: 1em; text-align: center; vertical-align: top\">3543</td>\n",
              "    </tr>\n",
              "    <tr>\n",
              "        <td style=\"padding-left: 1em; padding-right: 1em; text-align: center; vertical-align: top\">-1</td>\n",
              "        <td style=\"padding-left: 1em; padding-right: 1em; text-align: center; vertical-align: top\">1</td>\n",
              "        <td style=\"padding-left: 1em; padding-right: 1em; text-align: center; vertical-align: top\">1698</td>\n",
              "    </tr>\n",
              "    <tr>\n",
              "        <td style=\"padding-left: 1em; padding-right: 1em; text-align: center; vertical-align: top\">1</td>\n",
              "        <td style=\"padding-left: 1em; padding-right: 1em; text-align: center; vertical-align: top\">1</td>\n",
              "        <td style=\"padding-left: 1em; padding-right: 1em; text-align: center; vertical-align: top\">27199</td>\n",
              "    </tr>\n",
              "</table>\n",
              "[4 rows x 3 columns]<br/>\n",
              "</div>"
            ],
            "text/plain": [
              "Columns:\n",
              "\ttarget_label\tint\n",
              "\tpredicted_label\tint\n",
              "\tcount\tint\n",
              "\n",
              "Rows: 4\n",
              "\n",
              "Data:\n",
              "+--------------+-----------------+-------+\n",
              "| target_label | predicted_label | count |\n",
              "+--------------+-----------------+-------+\n",
              "|      1       |        -1       |  896  |\n",
              "|      -1      |        -1       |  3543 |\n",
              "|      -1      |        1        |  1698 |\n",
              "|      1       |        1        | 27199 |\n",
              "+--------------+-----------------+-------+\n",
              "[4 rows x 3 columns]"
            ]
          },
          "metadata": {
            "tags": []
          },
          "execution_count": 9
        }
      ]
    },
    {
      "cell_type": "markdown",
      "metadata": {
        "id": "iq-Eq47OLAWj"
      },
      "source": [
        "**Quiz Question**: How many predicted values in the **test set** are **false positives**?"
      ]
    },
    {
      "cell_type": "code",
      "metadata": {
        "id": "g2WTxQ48LAWj"
      },
      "source": [
        ""
      ],
      "execution_count": 9,
      "outputs": []
    },
    {
      "cell_type": "markdown",
      "metadata": {
        "id": "2KBnQuIPLAWk"
      },
      "source": [
        "## Computing the cost of mistakes\n",
        "\n",
        "\n",
        "Put yourself in the shoes of a manufacturer that sells a baby product on Amazon.com and you want to monitor your product's reviews in order to respond to complaints.  Even a few negative reviews may generate a lot of bad publicity about the product. So you don't want to miss any reviews with negative sentiments --- you'd rather put up with false alarms about potentially negative reviews instead of missing negative reviews entirely. In other words, **false positives cost more than false negatives**. (It may be the other way around for other scenarios, but let's stick with the manufacturer's scenario for now.)\n",
        "\n",
        "Suppose you know the costs involved in each kind of mistake: \n",
        "1. \\$100 for each false positive.\n",
        "2. \\$1 for each false negative.\n",
        "3. Correctly classified reviews incur no cost.\n",
        "\n",
        "**Quiz Question**: Given the stipulation, what is the cost associated with the logistic regression classifier's performance on the **test set**?"
      ]
    },
    {
      "cell_type": "code",
      "metadata": {
        "colab": {
          "base_uri": "https://localhost:8080/"
        },
        "id": "3B8OKYbyLAWl",
        "outputId": "4875a575-d976-4bfb-e4b5-cac26aaa73f5"
      },
      "source": [
        "false_positives = confusion_matrix['count'][2]\n",
        "false_negatives = confusion_matrix['count'][0]\n",
        "cost = false_negatives * 1 + false_positives * 100\n",
        "cost"
      ],
      "execution_count": 10,
      "outputs": [
        {
          "output_type": "execute_result",
          "data": {
            "text/plain": [
              "170696"
            ]
          },
          "metadata": {
            "tags": []
          },
          "execution_count": 10
        }
      ]
    },
    {
      "cell_type": "markdown",
      "metadata": {
        "id": "n9MvcXwTLAWm"
      },
      "source": [
        "## Precision and Recall"
      ]
    },
    {
      "cell_type": "markdown",
      "metadata": {
        "id": "lpZAI8UkLAWm"
      },
      "source": [
        "You may not have exact dollar amounts for each kind of mistake. Instead, you may simply prefer to reduce the percentage of false positives to be less than, say, 3.5% of all positive predictions. This is where **precision** comes in:\n",
        "\n",
        "$$\n",
        "[\\text{precision}] = \\frac{[\\text{# positive data points with positive predicitions}]}{\\text{[# all data points with positive predictions]}} = \\frac{[\\text{# true positives}]}{[\\text{# true positives}] + [\\text{# false positives}]}\n",
        "$$"
      ]
    },
    {
      "cell_type": "markdown",
      "metadata": {
        "id": "4iV-p475LAWn"
      },
      "source": [
        "So to keep the percentage of false positives below 3.5% of positive predictions, we must raise the precision to 96.5% or higher. \n",
        "\n",
        "**First**, let us compute the precision of the logistic regression classifier on the **test_data**."
      ]
    },
    {
      "cell_type": "code",
      "metadata": {
        "colab": {
          "base_uri": "https://localhost:8080/"
        },
        "id": "hY-JmR-ALAWn",
        "outputId": "b37ddb62-9c5f-4d4a-c176-aa186a6cf861"
      },
      "source": [
        "precision = model.evaluate(test_data, metric='precision')['precision']\n",
        "print(\"Precision on test data: %s\" % precision)"
      ],
      "execution_count": 11,
      "outputs": [
        {
          "output_type": "stream",
          "text": [
            "Precision on test data: 0.941239575042392\n"
          ],
          "name": "stdout"
        }
      ]
    },
    {
      "cell_type": "markdown",
      "metadata": {
        "id": "hBFswRASLAWo"
      },
      "source": [
        "**Quiz Question**: Out of all reviews in the **test set** that are predicted to be positive, what fraction of them are **false positives**? (Round to the second decimal place e.g. 0.25)"
      ]
    },
    {
      "cell_type": "code",
      "metadata": {
        "id": "XGcb3M7KLAWo"
      },
      "source": [
        ""
      ],
      "execution_count": 11,
      "outputs": []
    },
    {
      "cell_type": "markdown",
      "metadata": {
        "id": "RZK8vd9xLAWp"
      },
      "source": [
        "**Quiz Question:** Based on what we learned in lecture, if we wanted to reduce this fraction of false positives to be below 3.5%, we would (select one):\n",
        "\n",
        "- Discard a sufficient number of positive predictions\n",
        "- Discard a sufficient number of negative predictins\n",
        "- Increase threshold for predicting the positive class ($y_{hat} = +1$)\n",
        "- Decrease threshold for predicting the positive class ($y_{hat} = +1$)\n",
        "\n"
      ]
    },
    {
      "cell_type": "markdown",
      "metadata": {
        "id": "6rZyTORTLAWp"
      },
      "source": [
        "A complementary metric is **recall**, which measures the ratio between the number of true positives and that of (ground-truth) positive reviews:\n",
        "\n",
        "$$\n",
        "[\\text{recall}] = \\frac{[\\text{# positive data points with positive predicitions}]}{\\text{[# all positive data points]}} = \\frac{[\\text{# true positives}]}{[\\text{# true positives}] + [\\text{# false negatives}]}\n",
        "$$\n",
        "\n",
        "Let us compute the recall on the **test_data**."
      ]
    },
    {
      "cell_type": "code",
      "metadata": {
        "colab": {
          "base_uri": "https://localhost:8080/"
        },
        "id": "T4NSoapXLAWq",
        "outputId": "34d09f20-8d3f-4900-e37a-ddfc5bf60f34"
      },
      "source": [
        "recall = model.evaluate(test_data, metric='recall')['recall']\n",
        "print(\"Recall on test data: %s\" % recall)"
      ],
      "execution_count": 12,
      "outputs": [
        {
          "output_type": "stream",
          "text": [
            "Recall on test data: 0.9681082043068162\n"
          ],
          "name": "stdout"
        }
      ]
    },
    {
      "cell_type": "markdown",
      "metadata": {
        "id": "mmD2ngPnLAWq"
      },
      "source": [
        "**Quiz Question**: What fraction of the positive reviews in the **test_set** were correctly predicted as positive by the classifier?\n",
        "\n",
        "**Quiz Question**: What is the recall value for a classifier that predicts **+1** for all data points in the **test_data**?"
      ]
    },
    {
      "cell_type": "markdown",
      "metadata": {
        "collapsed": true,
        "id": "O608i6oELAWq"
      },
      "source": [
        "# Precision-recall tradeoff\n",
        "\n",
        "In this part, we will explore the trade-off between precision and recall discussed in the lecture.  We first examine what happens when we use a different threshold value for making class predictions.  We then explore a range of threshold values and plot the associated precision-recall curve.  \n"
      ]
    },
    {
      "cell_type": "markdown",
      "metadata": {
        "id": "MYCAOeBTLAWr"
      },
      "source": [
        "## Varying the threshold\n",
        "\n",
        "False positives are costly in our example, so we may want to be more conservative about making positive predictions. To achieve this, instead of thresholding class probabilities at 0.5, we can choose a higher threshold. \n",
        "\n",
        "Write a function called `apply_threshold` that accepts two things\n",
        "* `probabilities` (an SArray of probability values)\n",
        "* `threshold` (a float between 0 and 1).\n",
        "\n",
        "The function should return an SArray, where each element is set to +1 or -1 depending whether the corresponding probability exceeds `threshold`."
      ]
    },
    {
      "cell_type": "code",
      "metadata": {
        "id": "nqI5jSmZLAWs"
      },
      "source": [
        "def apply_threshold(probabilities, threshold):\n",
        "    # +1 if >= threshold and -1 otherwise.\n",
        "    return probabilities.apply(lambda p: +1 if p >= threshold else -1)"
      ],
      "execution_count": 13,
      "outputs": []
    },
    {
      "cell_type": "markdown",
      "metadata": {
        "id": "TZfqBVUmLAWt"
      },
      "source": [
        "Run prediction with `output_type='probability'` to get the list of probability values. Then use thresholds set at 0.5 (default) and 0.9 to make predictions from these probability values."
      ]
    },
    {
      "cell_type": "code",
      "metadata": {
        "id": "12ZlyFHqLAWt"
      },
      "source": [
        "probabilities = model.predict(test_data, output_type='probability')\n",
        "predictions_with_default_threshold = apply_threshold(probabilities, 0.5)\n",
        "predictions_with_high_threshold = apply_threshold(probabilities, 0.9)"
      ],
      "execution_count": 14,
      "outputs": []
    },
    {
      "cell_type": "code",
      "metadata": {
        "colab": {
          "base_uri": "https://localhost:8080/"
        },
        "id": "EwopQ558LAWu",
        "outputId": "bdedd918-b78a-4be7-d346-2d41b776fe40"
      },
      "source": [
        "print(\"Number of positive predicted reviews (threshold = 0.5): %s\" % (predictions_with_default_threshold == 1).sum())"
      ],
      "execution_count": 15,
      "outputs": [
        {
          "output_type": "stream",
          "text": [
            "Number of positive predicted reviews (threshold = 0.5): 28897\n"
          ],
          "name": "stdout"
        }
      ]
    },
    {
      "cell_type": "code",
      "metadata": {
        "colab": {
          "base_uri": "https://localhost:8080/"
        },
        "id": "VawXGzz8LAWu",
        "outputId": "ffb4e443-fa65-4de5-b384-3ba2ebeeeb77"
      },
      "source": [
        "print(\"Number of positive predicted reviews (threshold = 0.9): %s\" % (predictions_with_high_threshold == 1).sum())"
      ],
      "execution_count": 16,
      "outputs": [
        {
          "output_type": "stream",
          "text": [
            "Number of positive predicted reviews (threshold = 0.9): 25031\n"
          ],
          "name": "stdout"
        }
      ]
    },
    {
      "cell_type": "markdown",
      "metadata": {
        "id": "8SvpuDKWLAWv"
      },
      "source": [
        "**Quiz Question**: What happens to the number of positive predicted reviews as the threshold increased from 0.5 to 0.9?"
      ]
    },
    {
      "cell_type": "markdown",
      "metadata": {
        "id": "0YyIh6M1LAWv"
      },
      "source": [
        "## Exploring the associated precision and recall as the threshold varies"
      ]
    },
    {
      "cell_type": "markdown",
      "metadata": {
        "id": "er_LFg4nLAWw"
      },
      "source": [
        "By changing the probability threshold, it is possible to influence precision and recall. We can explore this as follows:"
      ]
    },
    {
      "cell_type": "code",
      "metadata": {
        "collapsed": true,
        "id": "vu0SVD7TLAWw"
      },
      "source": [
        "# Threshold = 0.5\n",
        "precision_with_default_threshold = turicreate.evaluation.precision(test_data['sentiment'],\n",
        "                                        predictions_with_default_threshold)\n",
        "\n",
        "recall_with_default_threshold = turicreate.evaluation.recall(test_data['sentiment'],\n",
        "                                        predictions_with_default_threshold)\n",
        "\n",
        "# Threshold = 0.9\n",
        "precision_with_high_threshold = turicreate.evaluation.precision(test_data['sentiment'],\n",
        "                                        predictions_with_high_threshold)\n",
        "recall_with_high_threshold = turicreate.evaluation.recall(test_data['sentiment'],\n",
        "                                        predictions_with_high_threshold)"
      ],
      "execution_count": 17,
      "outputs": []
    },
    {
      "cell_type": "code",
      "metadata": {
        "colab": {
          "base_uri": "https://localhost:8080/"
        },
        "id": "tyq41B4NLAWw",
        "outputId": "2bf0c3ee-4364-46f4-a063-a8d5c9ae8e54"
      },
      "source": [
        "print(\"Precision (threshold = 0.5): %s\" % precision_with_default_threshold)\n",
        "print(\"Recall (threshold = 0.5)   : %s\" % recall_with_default_threshold)"
      ],
      "execution_count": 18,
      "outputs": [
        {
          "output_type": "stream",
          "text": [
            "Precision (threshold = 0.5): 0.941239575042392\n",
            "Recall (threshold = 0.5)   : 0.9681082043068162\n"
          ],
          "name": "stdout"
        }
      ]
    },
    {
      "cell_type": "code",
      "metadata": {
        "colab": {
          "base_uri": "https://localhost:8080/"
        },
        "id": "L0jbjk6MLAWx",
        "outputId": "79649471-9d04-4857-99b9-5a75469b32c3"
      },
      "source": [
        "print(\"Precision (threshold = 0.9): %s\" % precision_with_high_threshold)\n",
        "print(\"Recall (threshold = 0.9)   : %s\" % recall_with_high_threshold)"
      ],
      "execution_count": 19,
      "outputs": [
        {
          "output_type": "stream",
          "text": [
            "Precision (threshold = 0.9): 0.9728736366905038\n",
            "Recall (threshold = 0.9)   : 0.8667734472326036\n"
          ],
          "name": "stdout"
        }
      ]
    },
    {
      "cell_type": "markdown",
      "metadata": {
        "id": "zCZYmL7eLAWx"
      },
      "source": [
        "**Quiz Question (variant 1)**: Does the **precision** increase with a higher threshold?\n",
        "\n",
        "**Quiz Question (variant 2)**: Does the **recall** increase with a higher threshold?"
      ]
    },
    {
      "cell_type": "markdown",
      "metadata": {
        "id": "W75WBRQbLAWx"
      },
      "source": [
        "## Precision-recall curve\n",
        "\n",
        "Now, we will explore various different values of tresholds, compute the precision and recall scores, and then plot the precision-recall curve."
      ]
    },
    {
      "cell_type": "code",
      "metadata": {
        "colab": {
          "base_uri": "https://localhost:8080/"
        },
        "id": "x4DNJe5QLAWx",
        "outputId": "605ba3e1-dc0a-4df1-ee93-071bec16d003"
      },
      "source": [
        "threshold_values = np.linspace(0.5, 1, num=100)\n",
        "print(threshold_values)"
      ],
      "execution_count": 20,
      "outputs": [
        {
          "output_type": "stream",
          "text": [
            "[0.5        0.50505051 0.51010101 0.51515152 0.52020202 0.52525253\n",
            " 0.53030303 0.53535354 0.54040404 0.54545455 0.55050505 0.55555556\n",
            " 0.56060606 0.56565657 0.57070707 0.57575758 0.58080808 0.58585859\n",
            " 0.59090909 0.5959596  0.6010101  0.60606061 0.61111111 0.61616162\n",
            " 0.62121212 0.62626263 0.63131313 0.63636364 0.64141414 0.64646465\n",
            " 0.65151515 0.65656566 0.66161616 0.66666667 0.67171717 0.67676768\n",
            " 0.68181818 0.68686869 0.69191919 0.6969697  0.7020202  0.70707071\n",
            " 0.71212121 0.71717172 0.72222222 0.72727273 0.73232323 0.73737374\n",
            " 0.74242424 0.74747475 0.75252525 0.75757576 0.76262626 0.76767677\n",
            " 0.77272727 0.77777778 0.78282828 0.78787879 0.79292929 0.7979798\n",
            " 0.8030303  0.80808081 0.81313131 0.81818182 0.82323232 0.82828283\n",
            " 0.83333333 0.83838384 0.84343434 0.84848485 0.85353535 0.85858586\n",
            " 0.86363636 0.86868687 0.87373737 0.87878788 0.88383838 0.88888889\n",
            " 0.89393939 0.8989899  0.9040404  0.90909091 0.91414141 0.91919192\n",
            " 0.92424242 0.92929293 0.93434343 0.93939394 0.94444444 0.94949495\n",
            " 0.95454545 0.95959596 0.96464646 0.96969697 0.97474747 0.97979798\n",
            " 0.98484848 0.98989899 0.99494949 1.        ]\n"
          ],
          "name": "stdout"
        }
      ]
    },
    {
      "cell_type": "markdown",
      "metadata": {
        "id": "CYDwh1GkLAWy"
      },
      "source": [
        "For each of the values of threshold, we compute the precision and recall scores."
      ]
    },
    {
      "cell_type": "code",
      "metadata": {
        "id": "7ykhSgbULAWy"
      },
      "source": [
        "precision_all = []\n",
        "recall_all = []\n",
        "\n",
        "probabilities = model.predict(test_data, output_type='probability')\n",
        "for threshold in threshold_values:\n",
        "    predictions = apply_threshold(probabilities, threshold)\n",
        "    \n",
        "    precision = turicreate.evaluation.precision(test_data['sentiment'], predictions)\n",
        "    recall = turicreate.evaluation.recall(test_data['sentiment'], predictions)\n",
        "    \n",
        "    precision_all.append(precision)\n",
        "    recall_all.append(recall)"
      ],
      "execution_count": 21,
      "outputs": []
    },
    {
      "cell_type": "markdown",
      "metadata": {
        "id": "5zbZs70VLAWy"
      },
      "source": [
        "Now, let's plot the precision-recall curve to visualize the precision-recall tradeoff as we vary the threshold."
      ]
    },
    {
      "cell_type": "code",
      "metadata": {
        "colab": {
          "base_uri": "https://localhost:8080/",
          "height": 350
        },
        "id": "QuGvYj60LAWz",
        "outputId": "d4f5f4bd-f73a-40a4-863e-933f3c2b35d6"
      },
      "source": [
        "import matplotlib.pyplot as plt\n",
        "%matplotlib inline\n",
        "\n",
        "def plot_pr_curve(precision, recall, title):\n",
        "    plt.rcParams['figure.figsize'] = 7, 5\n",
        "    plt.locator_params(axis = 'x', nbins = 5)\n",
        "    plt.plot(precision, recall, 'b-', linewidth=4.0, color = '#B0017F')\n",
        "    plt.title(title)\n",
        "    plt.xlabel('Precision')\n",
        "    plt.ylabel('Recall')\n",
        "    plt.rcParams.update({'font.size': 16})\n",
        "    \n",
        "plot_pr_curve(precision_all, recall_all, 'Precision recall curve (all)')"
      ],
      "execution_count": 22,
      "outputs": [
        {
          "output_type": "display_data",
          "data": {
            "image/png": "[encoded data removed]",
            "text/plain": [
              "<Figure size 504x360 with 1 Axes>"
            ]
          },
          "metadata": {
            "tags": [],
            "needs_background": "light"
          }
        }
      ]
    },
    {
      "cell_type": "markdown",
      "metadata": {
        "id": "zuPb8MusLAWz"
      },
      "source": [
        "**Quiz Question**: Among all the threshold values tried, what is the **smallest** threshold value that achieves a precision of 96.5% or better? Round your answer to 3 decimal places."
      ]
    },
    {
      "cell_type": "code",
      "metadata": {
        "colab": {
          "base_uri": "https://localhost:8080/"
        },
        "id": "HB-XKeMeLAWz",
        "outputId": "19319617-1cbc-475e-bcb8-c8ce964f5615"
      },
      "source": [
        "i = 0\n",
        "for p in precision_all:\n",
        "  if p >= 0.965:\n",
        "    break\n",
        "  i += 1\n",
        "threshold_values[i]"
      ],
      "execution_count": 23,
      "outputs": [
        {
          "output_type": "execute_result",
          "data": {
            "text/plain": [
              "0.8131313131313131"
            ]
          },
          "metadata": {
            "tags": []
          },
          "execution_count": 23
        }
      ]
    },
    {
      "cell_type": "markdown",
      "metadata": {
        "id": "UySWGflkLAWz"
      },
      "source": [
        "**Quiz Question**: Using `threshold` = 0.98, how many **false negatives** do we get on the **test_data**? (**Hint**: You may use the `turicreate.evaluation.confusion_matrix` function implemented in Turi Create.)"
      ]
    },
    {
      "cell_type": "code",
      "metadata": {
        "colab": {
          "base_uri": "https://localhost:8080/",
          "height": 133
        },
        "id": "Wjin_cFBLAWz",
        "outputId": "518a500f-52ba-4a1a-8491-44333b4761d4"
      },
      "source": [
        "turicreate.evaluation.confusion_matrix(test_data['sentiment'], apply_threshold(probabilities, 0.98))"
      ],
      "execution_count": 24,
      "outputs": [
        {
          "output_type": "execute_result",
          "data": {
            "text/html": [
              "<div style=\"max-height:1000px;max-width:1500px;overflow:auto;\"><table frame=\"box\" rules=\"cols\">\n",
              "    <tr>\n",
              "        <th style=\"padding-left: 1em; padding-right: 1em; text-align: center\">target_label</th>\n",
              "        <th style=\"padding-left: 1em; padding-right: 1em; text-align: center\">predicted_label</th>\n",
              "        <th style=\"padding-left: 1em; padding-right: 1em; text-align: center\">count</th>\n",
              "    </tr>\n",
              "    <tr>\n",
              "        <td style=\"padding-left: 1em; padding-right: 1em; text-align: center; vertical-align: top\">1</td>\n",
              "        <td style=\"padding-left: 1em; padding-right: 1em; text-align: center; vertical-align: top\">-1</td>\n",
              "        <td style=\"padding-left: 1em; padding-right: 1em; text-align: center; vertical-align: top\">9056</td>\n",
              "    </tr>\n",
              "    <tr>\n",
              "        <td style=\"padding-left: 1em; padding-right: 1em; text-align: center; vertical-align: top\">1</td>\n",
              "        <td style=\"padding-left: 1em; padding-right: 1em; text-align: center; vertical-align: top\">1</td>\n",
              "        <td style=\"padding-left: 1em; padding-right: 1em; text-align: center; vertical-align: top\">19039</td>\n",
              "    </tr>\n",
              "    <tr>\n",
              "        <td style=\"padding-left: 1em; padding-right: 1em; text-align: center; vertical-align: top\">-1</td>\n",
              "        <td style=\"padding-left: 1em; padding-right: 1em; text-align: center; vertical-align: top\">-1</td>\n",
              "        <td style=\"padding-left: 1em; padding-right: 1em; text-align: center; vertical-align: top\">4943</td>\n",
              "    </tr>\n",
              "    <tr>\n",
              "        <td style=\"padding-left: 1em; padding-right: 1em; text-align: center; vertical-align: top\">-1</td>\n",
              "        <td style=\"padding-left: 1em; padding-right: 1em; text-align: center; vertical-align: top\">1</td>\n",
              "        <td style=\"padding-left: 1em; padding-right: 1em; text-align: center; vertical-align: top\">298</td>\n",
              "    </tr>\n",
              "</table>\n",
              "[4 rows x 3 columns]<br/>\n",
              "</div>"
            ],
            "text/plain": [
              "Columns:\n",
              "\ttarget_label\tint\n",
              "\tpredicted_label\tint\n",
              "\tcount\tint\n",
              "\n",
              "Rows: 4\n",
              "\n",
              "Data:\n",
              "+--------------+-----------------+-------+\n",
              "| target_label | predicted_label | count |\n",
              "+--------------+-----------------+-------+\n",
              "|      1       |        -1       |  9056 |\n",
              "|      1       |        1        | 19039 |\n",
              "|      -1      |        -1       |  4943 |\n",
              "|      -1      |        1        |  298  |\n",
              "+--------------+-----------------+-------+\n",
              "[4 rows x 3 columns]"
            ]
          },
          "metadata": {
            "tags": []
          },
          "execution_count": 24
        }
      ]
    },
    {
      "cell_type": "markdown",
      "metadata": {
        "id": "5pKRUT86LAW0"
      },
      "source": [
        "This is the number of false negatives (i.e the number of reviews to look at when not needed) that we have to deal with using this classifier."
      ]
    },
    {
      "cell_type": "markdown",
      "metadata": {
        "id": "-rvfh4CYLAW0"
      },
      "source": [
        "# Evaluating specific search terms"
      ]
    },
    {
      "cell_type": "markdown",
      "metadata": {
        "id": "LL8T3ZTrLAW0"
      },
      "source": [
        "So far, we looked at the number of false positives for the **entire test set**. In this section, let's select reviews using a specific search term and optimize the precision on these reviews only. After all, a manufacturer would be interested in tuning the false positive rate just for their products (the reviews they want to read) rather than that of the entire set of products on Amazon.\n",
        "\n",
        "## Precision-Recall on all baby related items\n",
        "\n",
        "From the **test set**, select all the reviews for all products with the word 'baby' in them."
      ]
    },
    {
      "cell_type": "code",
      "metadata": {
        "id": "LfXQEJuKLAW0"
      },
      "source": [
        "baby_reviews =  test_data[test_data['name'].apply(lambda x: 'baby' in x.lower())]"
      ],
      "execution_count": 25,
      "outputs": []
    },
    {
      "cell_type": "markdown",
      "metadata": {
        "id": "TEqhHQ60LAW1"
      },
      "source": [
        "Now, let's predict the probability of classifying these reviews as positive:"
      ]
    },
    {
      "cell_type": "code",
      "metadata": {
        "id": "YHmwfEliLAW1"
      },
      "source": [
        "probabilities = model.predict(baby_reviews, output_type='probability')"
      ],
      "execution_count": 26,
      "outputs": []
    },
    {
      "cell_type": "markdown",
      "metadata": {
        "id": "eYWfWQ8DLAW1"
      },
      "source": [
        "Let's plot the precision-recall curve for the **baby_reviews** dataset.\n",
        "\n",
        "**First**, let's consider the following `threshold_values` ranging from 0.5 to 1:"
      ]
    },
    {
      "cell_type": "code",
      "metadata": {
        "collapsed": true,
        "id": "1JguM1q2LAW1"
      },
      "source": [
        "threshold_values = np.linspace(0.5, 1, num=100)"
      ],
      "execution_count": 27,
      "outputs": []
    },
    {
      "cell_type": "markdown",
      "metadata": {
        "id": "5EdlbFKELAW2"
      },
      "source": [
        "**Second**, as we did above, let's compute precision and recall for each value in `threshold_values` on the **baby_reviews** dataset.  Complete the code block below."
      ]
    },
    {
      "cell_type": "code",
      "metadata": {
        "id": "op6m8pKJLAW2"
      },
      "source": [
        "precision_all = []\n",
        "recall_all = []\n",
        "\n",
        "for threshold in threshold_values:\n",
        "    \n",
        "    # Make predictions. Use the `apply_threshold` function \n",
        "    ## YOUR CODE HERE \n",
        "    predictions = apply_threshold(probabilities,threshold)\n",
        "\n",
        "    # Calculate the precision.\n",
        "    # YOUR CODE HERE\n",
        "    precision = turicreate.evaluation.precision(baby_reviews['sentiment'], predictions)\n",
        "    \n",
        "    # YOUR CODE HERE\n",
        "    recall = turicreate.evaluation.recall(baby_reviews['sentiment'], predictions)\n",
        "    \n",
        "    # Append the precision and recall scores.\n",
        "    precision_all.append(precision)\n",
        "    recall_all.append(recall)"
      ],
      "execution_count": 28,
      "outputs": []
    },
    {
      "cell_type": "markdown",
      "metadata": {
        "id": "yrJdD7slLAW2"
      },
      "source": [
        "**Quiz Question**: Among all the threshold values tried, what is the **smallest** threshold value that achieves a precision of 96.5% or better for the reviews of data in **baby_reviews**? Round your answer to 3 decimal places."
      ]
    },
    {
      "cell_type": "code",
      "metadata": {
        "colab": {
          "base_uri": "https://localhost:8080/"
        },
        "id": "2iUh0zF5LAW2",
        "outputId": "dbb3e2f8-a531-4e97-fa4d-494da03f633f"
      },
      "source": [
        "i = 0\n",
        "for p in precision_all:\n",
        "  if p >= 0.965:\n",
        "    break\n",
        "  i += 1\n",
        "threshold_values[i]"
      ],
      "execution_count": 29,
      "outputs": [
        {
          "output_type": "execute_result",
          "data": {
            "text/plain": [
              "0.8484848484848485"
            ]
          },
          "metadata": {
            "tags": []
          },
          "execution_count": 29
        }
      ]
    },
    {
      "cell_type": "markdown",
      "metadata": {
        "id": "05VJTQrOLAW3"
      },
      "source": [
        "**Quiz Question:** Is this threshold value smaller or larger than the threshold used for the entire dataset to achieve the same specified precision of 96.5%?\n",
        "\n",
        "**Finally**, let's plot the precision recall curve."
      ]
    },
    {
      "cell_type": "code",
      "metadata": {
        "colab": {
          "base_uri": "https://localhost:8080/",
          "height": 365
        },
        "id": "b0TIXUDwLAW3",
        "outputId": "5609b1fe-6016-46f2-ad77-8d47166b1cdc"
      },
      "source": [
        "plot_pr_curve(precision_all, recall_all, \"Precision-Recall (Baby)\")"
      ],
      "execution_count": 30,
      "outputs": [
        {
          "output_type": "display_data",
          "data": {
            "image/png": "[encoded data removed]",
            "text/plain": [
              "<Figure size 504x360 with 1 Axes>"
            ]
          },
          "metadata": {
            "tags": [],
            "needs_background": "light"
          }
        }
      ]
    },
    {
      "cell_type": "code",
      "metadata": {
        "collapsed": true,
        "id": "k-GycVACLAW3"
      },
      "source": [
        ""
      ],
      "execution_count": 30,
      "outputs": []
    }
  ]
}