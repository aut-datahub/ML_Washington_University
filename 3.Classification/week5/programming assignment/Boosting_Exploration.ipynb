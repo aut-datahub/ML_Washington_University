{
  "nbformat": 4,
  "nbformat_minor": 0,
  "metadata": {
    "kernelspec": {
      "display_name": "Python 3",
      "language": "python",
      "name": "python3"
    },
    "language_info": {
      "codemirror_mode": {
        "name": "ipython",
        "version": 3
      },
      "file_extension": ".py",
      "mimetype": "text/x-python",
      "name": "python",
      "nbconvert_exporter": "python",
      "pygments_lexer": "ipython3",
      "version": "3.6.0"
    },
    "colab": {
      "name": "Boosting Exploration",
      "provenance": []
    }
  },
  "cells": [
    {
      "cell_type": "markdown",
      "metadata": {
        "id": "hW1TWvL2YTc1"
      },
      "source": [
        "# Exploring Ensemble Methods"
      ]
    },
    {
      "cell_type": "markdown",
      "metadata": {
        "id": "mF-m_TgEYTdA"
      },
      "source": [
        "In this assignment, we will explore the use of boosting. We will use the pre-implemented gradient boosted trees in Turi Create. You will:\n",
        "\n",
        "* Use SFrames to do some feature engineering.\n",
        "* Train a boosted ensemble of decision-trees (gradient boosted trees) on the LendingClub dataset.\n",
        "* Predict whether a loan will default along with prediction probabilities (on a validation set).\n",
        "* Evaluate the trained model and compare it with a baseline.\n",
        "* Find the most positive and negative loans using the learned model.\n",
        "* Explore how the number of trees influences classification performance.\n",
        "\n",
        "Let's get started!\n",
        "\n",
        "## Fire up Turi Create"
      ]
    },
    {
      "cell_type": "code",
      "metadata": {
        "id": "NGUcSHnPYTdH"
      },
      "source": [
        "import turicreate"
      ],
      "execution_count": 1,
      "outputs": []
    },
    {
      "cell_type": "markdown",
      "metadata": {
        "id": "MRV7VWcIYTdM"
      },
      "source": [
        "# Load LendingClub dataset\n",
        "\n",
        "We will be using the [LendingClub](https://www.lendingclub.com/) data. As discussed earlier, the [LendingClub](https://www.lendingclub.com/) is a peer-to-peer leading company that directly connects borrowers and potential lenders/investors. \n",
        "\n",
        "Just like we did in previous assignments, we will build a classification model to predict whether or not a loan provided by lending club is likely to default.\n",
        "\n",
        "Let us start by loading the data."
      ]
    },
    {
      "cell_type": "code",
      "metadata": {
        "id": "mC2kL6x0YTdP"
      },
      "source": [
        "loans = turicreate.SFrame('/content/drive/MyDrive/lending-club-data.sframe/')"
      ],
      "execution_count": 2,
      "outputs": []
    },
    {
      "cell_type": "markdown",
      "metadata": {
        "id": "Dv2o-sVxYTdR"
      },
      "source": [
        "Let's quickly explore what the dataset looks like. First, let's print out the column names to see what features we have in this dataset. We have done this in previous assignments, so we won't belabor this here."
      ]
    },
    {
      "cell_type": "code",
      "metadata": {
        "colab": {
          "base_uri": "https://localhost:8080/"
        },
        "id": "dUAdUXQjYTdV",
        "outputId": "4f3473b8-2a6b-4867-f303-6f57c45bf22e"
      },
      "source": [
        "loans.column_names()"
      ],
      "execution_count": 3,
      "outputs": [
        {
          "output_type": "execute_result",
          "data": {
            "text/plain": [
              "['id',\n",
              " 'member_id',\n",
              " 'loan_amnt',\n",
              " 'funded_amnt',\n",
              " 'funded_amnt_inv',\n",
              " 'term',\n",
              " 'int_rate',\n",
              " 'installment',\n",
              " 'grade',\n",
              " 'sub_grade',\n",
              " 'emp_title',\n",
              " 'emp_length',\n",
              " 'home_ownership',\n",
              " 'annual_inc',\n",
              " 'is_inc_v',\n",
              " 'issue_d',\n",
              " 'loan_status',\n",
              " 'pymnt_plan',\n",
              " 'url',\n",
              " 'desc',\n",
              " 'purpose',\n",
              " 'title',\n",
              " 'zip_code',\n",
              " 'addr_state',\n",
              " 'dti',\n",
              " 'delinq_2yrs',\n",
              " 'earliest_cr_line',\n",
              " 'inq_last_6mths',\n",
              " 'mths_since_last_delinq',\n",
              " 'mths_since_last_record',\n",
              " 'open_acc',\n",
              " 'pub_rec',\n",
              " 'revol_bal',\n",
              " 'revol_util',\n",
              " 'total_acc',\n",
              " 'initial_list_status',\n",
              " 'out_prncp',\n",
              " 'out_prncp_inv',\n",
              " 'total_pymnt',\n",
              " 'total_pymnt_inv',\n",
              " 'total_rec_prncp',\n",
              " 'total_rec_int',\n",
              " 'total_rec_late_fee',\n",
              " 'recoveries',\n",
              " 'collection_recovery_fee',\n",
              " 'last_pymnt_d',\n",
              " 'last_pymnt_amnt',\n",
              " 'next_pymnt_d',\n",
              " 'last_credit_pull_d',\n",
              " 'collections_12_mths_ex_med',\n",
              " 'mths_since_last_major_derog',\n",
              " 'policy_code',\n",
              " 'not_compliant',\n",
              " 'status',\n",
              " 'inactive_loans',\n",
              " 'bad_loans',\n",
              " 'emp_length_num',\n",
              " 'grade_num',\n",
              " 'sub_grade_num',\n",
              " 'delinq_2yrs_zero',\n",
              " 'pub_rec_zero',\n",
              " 'collections_12_mths_zero',\n",
              " 'short_emp',\n",
              " 'payment_inc_ratio',\n",
              " 'final_d',\n",
              " 'last_delinq_none',\n",
              " 'last_record_none',\n",
              " 'last_major_derog_none']"
            ]
          },
          "metadata": {
            "tags": []
          },
          "execution_count": 3
        }
      ]
    },
    {
      "cell_type": "markdown",
      "metadata": {
        "id": "_qAvq1NxYTda"
      },
      "source": [
        "## Modifying the target column\n",
        "\n",
        "The target column (label column) of the dataset that we are interested in is called `bad_loans`. In this column **1** means a risky (bad) loan **0** means a safe  loan.\n",
        "\n",
        "As in past assignments, in order to make this more intuitive and consistent with the lectures, we reassign the target to be:\n",
        "* **+1** as a safe  loan, \n",
        "* **-1** as a risky (bad) loan. \n",
        "\n",
        "We put this in a new column called `safe_loans`."
      ]
    },
    {
      "cell_type": "code",
      "metadata": {
        "collapsed": true,
        "id": "L96uGrJdYTde"
      },
      "source": [
        "loans['safe_loans'] = loans['bad_loans'].apply(lambda x : +1 if x==0 else -1)\n",
        "loans = loans.remove_column('bad_loans')"
      ],
      "execution_count": 4,
      "outputs": []
    },
    {
      "cell_type": "markdown",
      "metadata": {
        "id": "ee2wKGLwYTdj"
      },
      "source": [
        "## Selecting features\n",
        "\n",
        "In this assignment, we will be using a subset of features (categorical and numeric). The features we will be using are **described in the code comments** below. If you are a finance geek, the [LendingClub](https://www.lendingclub.com/) website has a lot more details about these features.\n",
        "\n",
        "The features we will be using are described in the code comments below:"
      ]
    },
    {
      "cell_type": "code",
      "metadata": {
        "id": "Qic3AFieYTdl"
      },
      "source": [
        "target = 'safe_loans'\n",
        "features = ['grade',                     # grade of the loan (categorical)\n",
        "            'sub_grade_num',             # sub-grade of the loan as a number from 0 to 1\n",
        "            'short_emp',                 # one year or less of employment\n",
        "            'emp_length_num',            # number of years of employment\n",
        "            'home_ownership',            # home_ownership status: own, mortgage or rent\n",
        "            'dti',                       # debt to income ratio\n",
        "            'purpose',                   # the purpose of the loan\n",
        "            'payment_inc_ratio',         # ratio of the monthly payment to income\n",
        "            'delinq_2yrs',               # number of delinquincies \n",
        "            'delinq_2yrs_zero',          # no delinquincies in last 2 years\n",
        "            'inq_last_6mths',            # number of creditor inquiries in last 6 months\n",
        "            'last_delinq_none',          # has borrower had a delinquincy\n",
        "            'last_major_derog_none',     # has borrower had 90 day or worse rating\n",
        "            'open_acc',                  # number of open credit accounts\n",
        "            'pub_rec',                   # number of derogatory public records\n",
        "            'pub_rec_zero',              # no derogatory public records\n",
        "            'revol_util',                # percent of available credit being used\n",
        "            'total_rec_late_fee',        # total late fees received to day\n",
        "            'int_rate',                  # interest rate of the loan\n",
        "            'total_rec_int',             # interest received to date\n",
        "            'annual_inc',                # annual income of borrower\n",
        "            'funded_amnt',               # amount committed to the loan\n",
        "            'funded_amnt_inv',           # amount committed by investors for the loan\n",
        "            'installment',               # monthly payment owed by the borrower\n",
        "           ]"
      ],
      "execution_count": 5,
      "outputs": []
    },
    {
      "cell_type": "markdown",
      "metadata": {
        "id": "1pcZAkCRYTdn"
      },
      "source": [
        "## Skipping observations with missing values\n",
        "\n",
        "Recall from the lectures that one common approach to coping with missing values is to **skip** observations that contain missing values.\n",
        "\n",
        "We run the following code to do so:"
      ]
    },
    {
      "cell_type": "code",
      "metadata": {
        "colab": {
          "base_uri": "https://localhost:8080/"
        },
        "id": "pAcyi6C9YTdo",
        "outputId": "e4cd69d2-7437-4d6b-bbde-a04a54e3c4be"
      },
      "source": [
        "loans, loans_with_na = loans[[target] + features].dropna_split()\n",
        "\n",
        "# Count the number of rows with missing data\n",
        "num_rows_with_na = loans_with_na.num_rows()\n",
        "num_rows = loans.num_rows()\n",
        "print('Dropping %s observations; keeping %s ' % (num_rows_with_na, num_rows))"
      ],
      "execution_count": 6,
      "outputs": [
        {
          "output_type": "stream",
          "text": [
            "Dropping 29 observations; keeping 122578 \n"
          ],
          "name": "stdout"
        }
      ]
    },
    {
      "cell_type": "markdown",
      "metadata": {
        "id": "oUFE24oxYTdr"
      },
      "source": [
        "Fortunately, there are not too many missing values. We are retaining most of the data."
      ]
    },
    {
      "cell_type": "markdown",
      "metadata": {
        "id": "WPP8owpCYTdt"
      },
      "source": [
        "## Make sure the classes are balanced"
      ]
    },
    {
      "cell_type": "markdown",
      "metadata": {
        "id": "Awlpp6JFYTdu"
      },
      "source": [
        "We saw in an earlier assignment that this dataset is also imbalanced. We will undersample the larger class (safe loans) in order to balance out our dataset. We used `seed=1` to make sure everyone gets the same results."
      ]
    },
    {
      "cell_type": "code",
      "metadata": {
        "colab": {
          "base_uri": "https://localhost:8080/"
        },
        "id": "Joh-oNOUYTdv",
        "outputId": "2251f552-2203-4795-c0cb-41f03582d43d"
      },
      "source": [
        "safe_loans_raw = loans[loans[target] == 1]\n",
        "risky_loans_raw = loans[loans[target] == -1]\n",
        "\n",
        "# Undersample the safe loans.\n",
        "percentage = len(risky_loans_raw)/float(len(safe_loans_raw))\n",
        "safe_loans = safe_loans_raw.sample(percentage, seed = 1)\n",
        "risky_loans = risky_loans_raw\n",
        "loans_data = risky_loans.append(safe_loans)\n",
        "\n",
        "print(\"Percentage of safe loans                 :\", len(safe_loans) / float(len(loans_data)))\n",
        "print(\"Percentage of risky loans                :\", len(risky_loans) / float(len(loans_data)))\n",
        "print(\"Total number of loans in our new dataset :\", len(loans_data))"
      ],
      "execution_count": 7,
      "outputs": [
        {
          "output_type": "stream",
          "text": [
            "Percentage of safe loans                 : 0.5022471668494506\n",
            "Percentage of risky loans                : 0.4977528331505494\n",
            "Total number of loans in our new dataset : 46503\n"
          ],
          "name": "stdout"
        }
      ]
    },
    {
      "cell_type": "markdown",
      "metadata": {
        "id": "VjOsKyD5YTdw"
      },
      "source": [
        "**Checkpoint:** You should now see that the dataset is balanced (approximately 50-50 safe vs risky loans)."
      ]
    },
    {
      "cell_type": "markdown",
      "metadata": {
        "id": "N2jj_1aQYTdx"
      },
      "source": [
        "**Note:** There are many approaches for dealing with imbalanced data, including some where we modify the learning algorithm. These approaches are beyond the scope of this course, but some of them are reviewed in this [paper](http://ieeexplore.ieee.org/xpl/login.jsp?tp=&arnumber=5128907&url=http%3A%2F%2Fieeexplore.ieee.org%2Fiel5%2F69%2F5173046%2F05128907.pdf%3Farnumber%3D5128907 ). For this assignment, we use the simplest possible approach, where we subsample the overly represented class to get a more balanced dataset. In general, and especially when the data is highly imbalanced, we recommend using more advanced methods."
      ]
    },
    {
      "cell_type": "markdown",
      "metadata": {
        "id": "0PN34557YTdy"
      },
      "source": [
        "## Split data into training and validation sets"
      ]
    },
    {
      "cell_type": "markdown",
      "metadata": {
        "id": "gmunmA3NYTdy"
      },
      "source": [
        "We split the data into training data and validation data. We used `seed=1` to make sure everyone gets the same results. We will use the validation data to help us select model parameters."
      ]
    },
    {
      "cell_type": "code",
      "metadata": {
        "id": "wVEAmmfZYTdz"
      },
      "source": [
        "train_data, validation_data = loans_data.random_split(.8, seed=1)"
      ],
      "execution_count": 8,
      "outputs": []
    },
    {
      "cell_type": "markdown",
      "metadata": {
        "id": "bq5_vU-jYTd0"
      },
      "source": [
        "# Gradient boosted tree classifier"
      ]
    },
    {
      "cell_type": "markdown",
      "metadata": {
        "id": "ferbCDdYYTd1"
      },
      "source": [
        "Gradient boosted trees are a powerful variant of boosting methods; they have been used to win many [Kaggle](https://www.kaggle.com/) competitions, and have been widely used in industry.  We will explore the predictive power of multiple decision trees as opposed to a single decision tree.\n",
        "\n",
        "**Additional reading:** If you are interested in gradient boosted trees, here is some additional reading material:\n",
        "* [Turi Create user guide](https://apple.github.io/turicreate/docs/api/generated/turicreate.boosted_trees_classifier.BoostedTreesClassifier.html)\n",
        "* [Advanced material on boosted trees](http://homes.cs.washington.edu/~tqchen/pdf/BoostedTree.pdf)\n",
        "\n",
        "\n",
        "We will now train models to predict `safe_loans` using the features above. In this section, we will experiment with training an ensemble of 5 trees. To cap the ensemble classifier at 5 trees, we call the function with **max_iterations=5** (recall that each iterations corresponds to adding a tree). We set `validation_set=None` to make sure everyone gets the same results."
      ]
    },
    {
      "cell_type": "code",
      "metadata": {
        "colab": {
          "base_uri": "https://localhost:8080/",
          "height": 0
        },
        "id": "LpXsX-6gYTd2",
        "outputId": "b7f0f29d-8b29-449d-b20d-e802bc9ea1f6"
      },
      "source": [
        "model_5 = turicreate.boosted_trees_classifier.create(train_data, validation_set=None, \n",
        "        target = target, features = features, max_iterations = 5)"
      ],
      "execution_count": 9,
      "outputs": [
        {
          "output_type": "display_data",
          "data": {
            "text/html": [
              "<pre>Boosted trees classifier:</pre>"
            ],
            "text/plain": [
              "Boosted trees classifier:"
            ]
          },
          "metadata": {
            "tags": []
          }
        },
        {
          "output_type": "display_data",
          "data": {
            "text/html": [
              "<pre>--------------------------------------------------------</pre>"
            ],
            "text/plain": [
              "--------------------------------------------------------"
            ]
          },
          "metadata": {
            "tags": []
          }
        },
        {
          "output_type": "display_data",
          "data": {
            "text/html": [
              "<pre>Number of examples          : 37219</pre>"
            ],
            "text/plain": [
              "Number of examples          : 37219"
            ]
          },
          "metadata": {
            "tags": []
          }
        },
        {
          "output_type": "display_data",
          "data": {
            "text/html": [
              "<pre>Number of classes           : 2</pre>"
            ],
            "text/plain": [
              "Number of classes           : 2"
            ]
          },
          "metadata": {
            "tags": []
          }
        },
        {
          "output_type": "display_data",
          "data": {
            "text/html": [
              "<pre>Number of feature columns   : 24</pre>"
            ],
            "text/plain": [
              "Number of feature columns   : 24"
            ]
          },
          "metadata": {
            "tags": []
          }
        },
        {
          "output_type": "display_data",
          "data": {
            "text/html": [
              "<pre>Number of unpacked features : 24</pre>"
            ],
            "text/plain": [
              "Number of unpacked features : 24"
            ]
          },
          "metadata": {
            "tags": []
          }
        },
        {
          "output_type": "display_data",
          "data": {
            "text/html": [
              "<pre>+-----------+--------------+-------------------+-------------------+</pre>"
            ],
            "text/plain": [
              "+-----------+--------------+-------------------+-------------------+"
            ]
          },
          "metadata": {
            "tags": []
          }
        },
        {
          "output_type": "display_data",
          "data": {
            "text/html": [
              "<pre>| Iteration | Elapsed Time | Training Accuracy | Training Log Loss |</pre>"
            ],
            "text/plain": [
              "| Iteration | Elapsed Time | Training Accuracy | Training Log Loss |"
            ]
          },
          "metadata": {
            "tags": []
          }
        },
        {
          "output_type": "display_data",
          "data": {
            "text/html": [
              "<pre>+-----------+--------------+-------------------+-------------------+</pre>"
            ],
            "text/plain": [
              "+-----------+--------------+-------------------+-------------------+"
            ]
          },
          "metadata": {
            "tags": []
          }
        },
        {
          "output_type": "display_data",
          "data": {
            "text/html": [
              "<pre>| 1         | 0.081192     | 0.657541          | 0.657139          |</pre>"
            ],
            "text/plain": [
              "| 1         | 0.081192     | 0.657541          | 0.657139          |"
            ]
          },
          "metadata": {
            "tags": []
          }
        },
        {
          "output_type": "display_data",
          "data": {
            "text/html": [
              "<pre>| 2         | 0.161302     | 0.656976          | 0.636157          |</pre>"
            ],
            "text/plain": [
              "| 2         | 0.161302     | 0.656976          | 0.636157          |"
            ]
          },
          "metadata": {
            "tags": []
          }
        },
        {
          "output_type": "display_data",
          "data": {
            "text/html": [
              "<pre>| 3         | 0.246976     | 0.664983          | 0.623206          |</pre>"
            ],
            "text/plain": [
              "| 3         | 0.246976     | 0.664983          | 0.623206          |"
            ]
          },
          "metadata": {
            "tags": []
          }
        },
        {
          "output_type": "display_data",
          "data": {
            "text/html": [
              "<pre>| 4         | 0.320087     | 0.668476          | 0.613783          |</pre>"
            ],
            "text/plain": [
              "| 4         | 0.320087     | 0.668476          | 0.613783          |"
            ]
          },
          "metadata": {
            "tags": []
          }
        },
        {
          "output_type": "display_data",
          "data": {
            "text/html": [
              "<pre>| 5         | 0.399605     | 0.673339          | 0.606229          |</pre>"
            ],
            "text/plain": [
              "| 5         | 0.399605     | 0.673339          | 0.606229          |"
            ]
          },
          "metadata": {
            "tags": []
          }
        },
        {
          "output_type": "display_data",
          "data": {
            "text/html": [
              "<pre>+-----------+--------------+-------------------+-------------------+</pre>"
            ],
            "text/plain": [
              "+-----------+--------------+-------------------+-------------------+"
            ]
          },
          "metadata": {
            "tags": []
          }
        }
      ]
    },
    {
      "cell_type": "markdown",
      "metadata": {
        "id": "HuEyarIwYTd9"
      },
      "source": [
        "# Making predictions\n",
        "\n",
        "Just like we did in previous sections, let us consider a few positive and negative examples **from the validation set**. We will do the following:\n",
        "* Predict whether or not a loan is likely to default.\n",
        "* Predict the probability with which the loan is likely to default."
      ]
    },
    {
      "cell_type": "code",
      "metadata": {
        "colab": {
          "base_uri": "https://localhost:8080/",
          "height": 429
        },
        "id": "UhR_L9eLYTd-",
        "outputId": "3edd002a-c441-44db-99fc-d40ed6bab55e"
      },
      "source": [
        "# Select all positive and negative examples.\n",
        "validation_safe_loans = validation_data[validation_data[target] == 1]\n",
        "validation_risky_loans = validation_data[validation_data[target] == -1]\n",
        "\n",
        "# Select 2 examples from the validation set for positive & negative loans\n",
        "sample_validation_data_risky = validation_risky_loans[0:2]\n",
        "sample_validation_data_safe = validation_safe_loans[0:2]\n",
        "\n",
        "# Append the 4 examples into a single dataset\n",
        "sample_validation_data = sample_validation_data_safe.append(sample_validation_data_risky)\n",
        "sample_validation_data"
      ],
      "execution_count": 10,
      "outputs": [
        {
          "output_type": "execute_result",
          "data": {
            "text/html": [
              "<div style=\"max-height:1000px;max-width:1500px;overflow:auto;\"><table frame=\"box\" rules=\"cols\">\n",
              "    <tr>\n",
              "        <th style=\"padding-left: 1em; padding-right: 1em; text-align: center\">safe_loans</th>\n",
              "        <th style=\"padding-left: 1em; padding-right: 1em; text-align: center\">grade</th>\n",
              "        <th style=\"padding-left: 1em; padding-right: 1em; text-align: center\">sub_grade_num</th>\n",
              "        <th style=\"padding-left: 1em; padding-right: 1em; text-align: center\">short_emp</th>\n",
              "        <th style=\"padding-left: 1em; padding-right: 1em; text-align: center\">emp_length_num</th>\n",
              "        <th style=\"padding-left: 1em; padding-right: 1em; text-align: center\">home_ownership</th>\n",
              "        <th style=\"padding-left: 1em; padding-right: 1em; text-align: center\">dti</th>\n",
              "        <th style=\"padding-left: 1em; padding-right: 1em; text-align: center\">purpose</th>\n",
              "    </tr>\n",
              "    <tr>\n",
              "        <td style=\"padding-left: 1em; padding-right: 1em; text-align: center; vertical-align: top\">1</td>\n",
              "        <td style=\"padding-left: 1em; padding-right: 1em; text-align: center; vertical-align: top\">B</td>\n",
              "        <td style=\"padding-left: 1em; padding-right: 1em; text-align: center; vertical-align: top\">0.2</td>\n",
              "        <td style=\"padding-left: 1em; padding-right: 1em; text-align: center; vertical-align: top\">0</td>\n",
              "        <td style=\"padding-left: 1em; padding-right: 1em; text-align: center; vertical-align: top\">3</td>\n",
              "        <td style=\"padding-left: 1em; padding-right: 1em; text-align: center; vertical-align: top\">MORTGAGE</td>\n",
              "        <td style=\"padding-left: 1em; padding-right: 1em; text-align: center; vertical-align: top\">29.44</td>\n",
              "        <td style=\"padding-left: 1em; padding-right: 1em; text-align: center; vertical-align: top\">credit_card</td>\n",
              "    </tr>\n",
              "    <tr>\n",
              "        <td style=\"padding-left: 1em; padding-right: 1em; text-align: center; vertical-align: top\">1</td>\n",
              "        <td style=\"padding-left: 1em; padding-right: 1em; text-align: center; vertical-align: top\">B</td>\n",
              "        <td style=\"padding-left: 1em; padding-right: 1em; text-align: center; vertical-align: top\">0.6</td>\n",
              "        <td style=\"padding-left: 1em; padding-right: 1em; text-align: center; vertical-align: top\">1</td>\n",
              "        <td style=\"padding-left: 1em; padding-right: 1em; text-align: center; vertical-align: top\">1</td>\n",
              "        <td style=\"padding-left: 1em; padding-right: 1em; text-align: center; vertical-align: top\">RENT</td>\n",
              "        <td style=\"padding-left: 1em; padding-right: 1em; text-align: center; vertical-align: top\">12.19</td>\n",
              "        <td style=\"padding-left: 1em; padding-right: 1em; text-align: center; vertical-align: top\">credit_card</td>\n",
              "    </tr>\n",
              "    <tr>\n",
              "        <td style=\"padding-left: 1em; padding-right: 1em; text-align: center; vertical-align: top\">-1</td>\n",
              "        <td style=\"padding-left: 1em; padding-right: 1em; text-align: center; vertical-align: top\">D</td>\n",
              "        <td style=\"padding-left: 1em; padding-right: 1em; text-align: center; vertical-align: top\">0.4</td>\n",
              "        <td style=\"padding-left: 1em; padding-right: 1em; text-align: center; vertical-align: top\">0</td>\n",
              "        <td style=\"padding-left: 1em; padding-right: 1em; text-align: center; vertical-align: top\">3</td>\n",
              "        <td style=\"padding-left: 1em; padding-right: 1em; text-align: center; vertical-align: top\">RENT</td>\n",
              "        <td style=\"padding-left: 1em; padding-right: 1em; text-align: center; vertical-align: top\">13.97</td>\n",
              "        <td style=\"padding-left: 1em; padding-right: 1em; text-align: center; vertical-align: top\">other</td>\n",
              "    </tr>\n",
              "    <tr>\n",
              "        <td style=\"padding-left: 1em; padding-right: 1em; text-align: center; vertical-align: top\">-1</td>\n",
              "        <td style=\"padding-left: 1em; padding-right: 1em; text-align: center; vertical-align: top\">A</td>\n",
              "        <td style=\"padding-left: 1em; padding-right: 1em; text-align: center; vertical-align: top\">1.0</td>\n",
              "        <td style=\"padding-left: 1em; padding-right: 1em; text-align: center; vertical-align: top\">0</td>\n",
              "        <td style=\"padding-left: 1em; padding-right: 1em; text-align: center; vertical-align: top\">11</td>\n",
              "        <td style=\"padding-left: 1em; padding-right: 1em; text-align: center; vertical-align: top\">MORTGAGE</td>\n",
              "        <td style=\"padding-left: 1em; padding-right: 1em; text-align: center; vertical-align: top\">16.33</td>\n",
              "        <td style=\"padding-left: 1em; padding-right: 1em; text-align: center; vertical-align: top\">debt_consolidation</td>\n",
              "    </tr>\n",
              "</table>\n",
              "<table frame=\"box\" rules=\"cols\">\n",
              "    <tr>\n",
              "        <th style=\"padding-left: 1em; padding-right: 1em; text-align: center\">payment_inc_ratio</th>\n",
              "        <th style=\"padding-left: 1em; padding-right: 1em; text-align: center\">delinq_2yrs</th>\n",
              "        <th style=\"padding-left: 1em; padding-right: 1em; text-align: center\">delinq_2yrs_zero</th>\n",
              "        <th style=\"padding-left: 1em; padding-right: 1em; text-align: center\">inq_last_6mths</th>\n",
              "        <th style=\"padding-left: 1em; padding-right: 1em; text-align: center\">last_delinq_none</th>\n",
              "        <th style=\"padding-left: 1em; padding-right: 1em; text-align: center\">last_major_derog_none</th>\n",
              "        <th style=\"padding-left: 1em; padding-right: 1em; text-align: center\">open_acc</th>\n",
              "    </tr>\n",
              "    <tr>\n",
              "        <td style=\"padding-left: 1em; padding-right: 1em; text-align: center; vertical-align: top\">6.30496</td>\n",
              "        <td style=\"padding-left: 1em; padding-right: 1em; text-align: center; vertical-align: top\">0</td>\n",
              "        <td style=\"padding-left: 1em; padding-right: 1em; text-align: center; vertical-align: top\">1</td>\n",
              "        <td style=\"padding-left: 1em; padding-right: 1em; text-align: center; vertical-align: top\">0</td>\n",
              "        <td style=\"padding-left: 1em; padding-right: 1em; text-align: center; vertical-align: top\">1</td>\n",
              "        <td style=\"padding-left: 1em; padding-right: 1em; text-align: center; vertical-align: top\">1</td>\n",
              "        <td style=\"padding-left: 1em; padding-right: 1em; text-align: center; vertical-align: top\">8</td>\n",
              "    </tr>\n",
              "    <tr>\n",
              "        <td style=\"padding-left: 1em; padding-right: 1em; text-align: center; vertical-align: top\">13.4952</td>\n",
              "        <td style=\"padding-left: 1em; padding-right: 1em; text-align: center; vertical-align: top\">0</td>\n",
              "        <td style=\"padding-left: 1em; padding-right: 1em; text-align: center; vertical-align: top\">1</td>\n",
              "        <td style=\"padding-left: 1em; padding-right: 1em; text-align: center; vertical-align: top\">0</td>\n",
              "        <td style=\"padding-left: 1em; padding-right: 1em; text-align: center; vertical-align: top\">1</td>\n",
              "        <td style=\"padding-left: 1em; padding-right: 1em; text-align: center; vertical-align: top\">1</td>\n",
              "        <td style=\"padding-left: 1em; padding-right: 1em; text-align: center; vertical-align: top\">8</td>\n",
              "    </tr>\n",
              "    <tr>\n",
              "        <td style=\"padding-left: 1em; padding-right: 1em; text-align: center; vertical-align: top\">2.96736</td>\n",
              "        <td style=\"padding-left: 1em; padding-right: 1em; text-align: center; vertical-align: top\">3</td>\n",
              "        <td style=\"padding-left: 1em; padding-right: 1em; text-align: center; vertical-align: top\">0</td>\n",
              "        <td style=\"padding-left: 1em; padding-right: 1em; text-align: center; vertical-align: top\">0</td>\n",
              "        <td style=\"padding-left: 1em; padding-right: 1em; text-align: center; vertical-align: top\">0</td>\n",
              "        <td style=\"padding-left: 1em; padding-right: 1em; text-align: center; vertical-align: top\">1</td>\n",
              "        <td style=\"padding-left: 1em; padding-right: 1em; text-align: center; vertical-align: top\">14</td>\n",
              "    </tr>\n",
              "    <tr>\n",
              "        <td style=\"padding-left: 1em; padding-right: 1em; text-align: center; vertical-align: top\">1.90524</td>\n",
              "        <td style=\"padding-left: 1em; padding-right: 1em; text-align: center; vertical-align: top\">0</td>\n",
              "        <td style=\"padding-left: 1em; padding-right: 1em; text-align: center; vertical-align: top\">1</td>\n",
              "        <td style=\"padding-left: 1em; padding-right: 1em; text-align: center; vertical-align: top\">0</td>\n",
              "        <td style=\"padding-left: 1em; padding-right: 1em; text-align: center; vertical-align: top\">1</td>\n",
              "        <td style=\"padding-left: 1em; padding-right: 1em; text-align: center; vertical-align: top\">1</td>\n",
              "        <td style=\"padding-left: 1em; padding-right: 1em; text-align: center; vertical-align: top\">17</td>\n",
              "    </tr>\n",
              "</table>\n",
              "<table frame=\"box\" rules=\"cols\">\n",
              "    <tr>\n",
              "        <th style=\"padding-left: 1em; padding-right: 1em; text-align: center\">pub_rec</th>\n",
              "        <th style=\"padding-left: 1em; padding-right: 1em; text-align: center\">pub_rec_zero</th>\n",
              "        <th style=\"padding-left: 1em; padding-right: 1em; text-align: center\">revol_util</th>\n",
              "        <th style=\"padding-left: 1em; padding-right: 1em; text-align: center\">total_rec_late_fee</th>\n",
              "        <th style=\"padding-left: 1em; padding-right: 1em; text-align: center\">int_rate</th>\n",
              "        <th style=\"padding-left: 1em; padding-right: 1em; text-align: center\">total_rec_int</th>\n",
              "        <th style=\"padding-left: 1em; padding-right: 1em; text-align: center\">annual_inc</th>\n",
              "        <th style=\"padding-left: 1em; padding-right: 1em; text-align: center\">funded_amnt</th>\n",
              "        <th style=\"padding-left: 1em; padding-right: 1em; text-align: center\">funded_amnt_inv</th>\n",
              "    </tr>\n",
              "    <tr>\n",
              "        <td style=\"padding-left: 1em; padding-right: 1em; text-align: center; vertical-align: top\">0</td>\n",
              "        <td style=\"padding-left: 1em; padding-right: 1em; text-align: center; vertical-align: top\">1</td>\n",
              "        <td style=\"padding-left: 1em; padding-right: 1em; text-align: center; vertical-align: top\">93.9</td>\n",
              "        <td style=\"padding-left: 1em; padding-right: 1em; text-align: center; vertical-align: top\">0.0</td>\n",
              "        <td style=\"padding-left: 1em; padding-right: 1em; text-align: center; vertical-align: top\">9.91</td>\n",
              "        <td style=\"padding-left: 1em; padding-right: 1em; text-align: center; vertical-align: top\">823.48</td>\n",
              "        <td style=\"padding-left: 1em; padding-right: 1em; text-align: center; vertical-align: top\">92000</td>\n",
              "        <td style=\"padding-left: 1em; padding-right: 1em; text-align: center; vertical-align: top\">15000</td>\n",
              "        <td style=\"padding-left: 1em; padding-right: 1em; text-align: center; vertical-align: top\">15000</td>\n",
              "    </tr>\n",
              "    <tr>\n",
              "        <td style=\"padding-left: 1em; padding-right: 1em; text-align: center; vertical-align: top\">0</td>\n",
              "        <td style=\"padding-left: 1em; padding-right: 1em; text-align: center; vertical-align: top\">1</td>\n",
              "        <td style=\"padding-left: 1em; padding-right: 1em; text-align: center; vertical-align: top\">59.1</td>\n",
              "        <td style=\"padding-left: 1em; padding-right: 1em; text-align: center; vertical-align: top\">0.0</td>\n",
              "        <td style=\"padding-left: 1em; padding-right: 1em; text-align: center; vertical-align: top\">11.71</td>\n",
              "        <td style=\"padding-left: 1em; padding-right: 1em; text-align: center; vertical-align: top\">1622.21</td>\n",
              "        <td style=\"padding-left: 1em; padding-right: 1em; text-align: center; vertical-align: top\">25000</td>\n",
              "        <td style=\"padding-left: 1em; padding-right: 1em; text-align: center; vertical-align: top\">8500</td>\n",
              "        <td style=\"padding-left: 1em; padding-right: 1em; text-align: center; vertical-align: top\">8500</td>\n",
              "    </tr>\n",
              "    <tr>\n",
              "        <td style=\"padding-left: 1em; padding-right: 1em; text-align: center; vertical-align: top\">0</td>\n",
              "        <td style=\"padding-left: 1em; padding-right: 1em; text-align: center; vertical-align: top\">1</td>\n",
              "        <td style=\"padding-left: 1em; padding-right: 1em; text-align: center; vertical-align: top\">59.5</td>\n",
              "        <td style=\"padding-left: 1em; padding-right: 1em; text-align: center; vertical-align: top\">0.0</td>\n",
              "        <td style=\"padding-left: 1em; padding-right: 1em; text-align: center; vertical-align: top\">16.77</td>\n",
              "        <td style=\"padding-left: 1em; padding-right: 1em; text-align: center; vertical-align: top\">719.11</td>\n",
              "        <td style=\"padding-left: 1em; padding-right: 1em; text-align: center; vertical-align: top\">50004</td>\n",
              "        <td style=\"padding-left: 1em; padding-right: 1em; text-align: center; vertical-align: top\">5000</td>\n",
              "        <td style=\"padding-left: 1em; padding-right: 1em; text-align: center; vertical-align: top\">5000</td>\n",
              "    </tr>\n",
              "    <tr>\n",
              "        <td style=\"padding-left: 1em; padding-right: 1em; text-align: center; vertical-align: top\">0</td>\n",
              "        <td style=\"padding-left: 1em; padding-right: 1em; text-align: center; vertical-align: top\">1</td>\n",
              "        <td style=\"padding-left: 1em; padding-right: 1em; text-align: center; vertical-align: top\">62.1</td>\n",
              "        <td style=\"padding-left: 1em; padding-right: 1em; text-align: center; vertical-align: top\">0.0</td>\n",
              "        <td style=\"padding-left: 1em; padding-right: 1em; text-align: center; vertical-align: top\">8.9</td>\n",
              "        <td style=\"padding-left: 1em; padding-right: 1em; text-align: center; vertical-align: top\">696.99</td>\n",
              "        <td style=\"padding-left: 1em; padding-right: 1em; text-align: center; vertical-align: top\">100000</td>\n",
              "        <td style=\"padding-left: 1em; padding-right: 1em; text-align: center; vertical-align: top\">5000</td>\n",
              "        <td style=\"padding-left: 1em; padding-right: 1em; text-align: center; vertical-align: top\">5000</td>\n",
              "    </tr>\n",
              "</table>\n",
              "<table frame=\"box\" rules=\"cols\">\n",
              "    <tr>\n",
              "        <th style=\"padding-left: 1em; padding-right: 1em; text-align: center\">installment</th>\n",
              "    </tr>\n",
              "    <tr>\n",
              "        <td style=\"padding-left: 1em; padding-right: 1em; text-align: center; vertical-align: top\">483.38</td>\n",
              "    </tr>\n",
              "    <tr>\n",
              "        <td style=\"padding-left: 1em; padding-right: 1em; text-align: center; vertical-align: top\">281.15</td>\n",
              "    </tr>\n",
              "    <tr>\n",
              "        <td style=\"padding-left: 1em; padding-right: 1em; text-align: center; vertical-align: top\">123.65</td>\n",
              "    </tr>\n",
              "    <tr>\n",
              "        <td style=\"padding-left: 1em; padding-right: 1em; text-align: center; vertical-align: top\">158.77</td>\n",
              "    </tr>\n",
              "</table>\n",
              "[4 rows x 25 columns]<br/>\n",
              "</div>"
            ],
            "text/plain": [
              "Columns:\n",
              "\tsafe_loans\tint\n",
              "\tgrade\tstr\n",
              "\tsub_grade_num\tfloat\n",
              "\tshort_emp\tint\n",
              "\temp_length_num\tint\n",
              "\thome_ownership\tstr\n",
              "\tdti\tfloat\n",
              "\tpurpose\tstr\n",
              "\tpayment_inc_ratio\tfloat\n",
              "\tdelinq_2yrs\tint\n",
              "\tdelinq_2yrs_zero\tint\n",
              "\tinq_last_6mths\tint\n",
              "\tlast_delinq_none\tint\n",
              "\tlast_major_derog_none\tint\n",
              "\topen_acc\tint\n",
              "\tpub_rec\tint\n",
              "\tpub_rec_zero\tint\n",
              "\trevol_util\tfloat\n",
              "\ttotal_rec_late_fee\tfloat\n",
              "\tint_rate\tfloat\n",
              "\ttotal_rec_int\tfloat\n",
              "\tannual_inc\tint\n",
              "\tfunded_amnt\tint\n",
              "\tfunded_amnt_inv\tint\n",
              "\tinstallment\tfloat\n",
              "\n",
              "Rows: 4\n",
              "\n",
              "Data:\n",
              "+------------+-------+---------------+-----------+----------------+----------------+\n",
              "| safe_loans | grade | sub_grade_num | short_emp | emp_length_num | home_ownership |\n",
              "+------------+-------+---------------+-----------+----------------+----------------+\n",
              "|     1      |   B   |      0.2      |     0     |       3        |    MORTGAGE    |\n",
              "|     1      |   B   |      0.6      |     1     |       1        |      RENT      |\n",
              "|     -1     |   D   |      0.4      |     0     |       3        |      RENT      |\n",
              "|     -1     |   A   |      1.0      |     0     |       11       |    MORTGAGE    |\n",
              "+------------+-------+---------------+-----------+----------------+----------------+\n",
              "+-------+--------------------+-------------------+-------------+------------------+\n",
              "|  dti  |      purpose       | payment_inc_ratio | delinq_2yrs | delinq_2yrs_zero |\n",
              "+-------+--------------------+-------------------+-------------+------------------+\n",
              "| 29.44 |    credit_card     |      6.30496      |      0      |        1         |\n",
              "| 12.19 |    credit_card     |      13.4952      |      0      |        1         |\n",
              "| 13.97 |       other        |      2.96736      |      3      |        0         |\n",
              "| 16.33 | debt_consolidation |      1.90524      |      0      |        1         |\n",
              "+-------+--------------------+-------------------+-------------+------------------+\n",
              "+----------------+------------------+-----------------------+----------+---------+\n",
              "| inq_last_6mths | last_delinq_none | last_major_derog_none | open_acc | pub_rec |\n",
              "+----------------+------------------+-----------------------+----------+---------+\n",
              "|       0        |        1         |           1           |    8     |    0    |\n",
              "|       0        |        1         |           1           |    8     |    0    |\n",
              "|       0        |        0         |           1           |    14    |    0    |\n",
              "|       0        |        1         |           1           |    17    |    0    |\n",
              "+----------------+------------------+-----------------------+----------+---------+\n",
              "+--------------+------------+--------------------+----------+-----+\n",
              "| pub_rec_zero | revol_util | total_rec_late_fee | int_rate | ... |\n",
              "+--------------+------------+--------------------+----------+-----+\n",
              "|      1       |    93.9    |        0.0         |   9.91   | ... |\n",
              "|      1       |    59.1    |        0.0         |  11.71   | ... |\n",
              "|      1       |    59.5    |        0.0         |  16.77   | ... |\n",
              "|      1       |    62.1    |        0.0         |   8.9    | ... |\n",
              "+--------------+------------+--------------------+----------+-----+\n",
              "[4 rows x 25 columns]"
            ]
          },
          "metadata": {
            "tags": []
          },
          "execution_count": 10
        }
      ]
    },
    {
      "cell_type": "markdown",
      "metadata": {
        "id": "FkdnFhmIYTd_"
      },
      "source": [
        "### Predicting on sample validation data\n",
        "\n",
        "For each row in the **sample_validation_data**, write code to make **model_5** predict whether or not the loan is classified as a **safe loan**.\n",
        "\n",
        "**Hint:** Use the `predict` method in `model_5` for this."
      ]
    },
    {
      "cell_type": "code",
      "metadata": {
        "colab": {
          "base_uri": "https://localhost:8080/"
        },
        "id": "3esGrkQqYTeA",
        "outputId": "de6c4c71-89f1-4a26-ed49-1f0759313f16"
      },
      "source": [
        "model_5_predictions = model_5.predict(sample_validation_data)\n",
        "model_5_predictions"
      ],
      "execution_count": 11,
      "outputs": [
        {
          "output_type": "execute_result",
          "data": {
            "text/plain": [
              "dtype: int\n",
              "Rows: 4\n",
              "[1, 1, -1, 1]"
            ]
          },
          "metadata": {
            "tags": []
          },
          "execution_count": 11
        }
      ]
    },
    {
      "cell_type": "code",
      "metadata": {
        "colab": {
          "base_uri": "https://localhost:8080/"
        },
        "id": "r0kWP-5WdlFi",
        "outputId": "1dd7453d-3720-4963-d260-854acaa7ee33"
      },
      "source": [
        "sample_validation_data['safe_loans']"
      ],
      "execution_count": 12,
      "outputs": [
        {
          "output_type": "execute_result",
          "data": {
            "text/plain": [
              "dtype: int\n",
              "Rows: 4\n",
              "[1, 1, -1, -1]"
            ]
          },
          "metadata": {
            "tags": []
          },
          "execution_count": 12
        }
      ]
    },
    {
      "cell_type": "markdown",
      "metadata": {
        "id": "Q0_aQwrdYTeA"
      },
      "source": [
        "**Quiz Question:** What percentage of the predictions on `sample_validation_data` did `model_5` get correct?\n",
        "\n",
        "### Prediction probabilities\n",
        "\n",
        "For each row in the **sample_validation_data**, what is the probability (according **model_5**) of a loan being classified as **safe**? \n",
        "\n",
        "**Hint:** Set `output_type='probability'` to make **probability** predictions using `model_5` on `sample_validation_data`:"
      ]
    },
    {
      "cell_type": "code",
      "metadata": {
        "colab": {
          "base_uri": "https://localhost:8080/"
        },
        "id": "hCgz2KMUYTeC",
        "outputId": "d2c08864-c053-4016-d47f-b362e8035abb"
      },
      "source": [
        "model_5_predictions = model_5.predict(sample_validation_data,output_type='probability')\n",
        "model_5_predictions"
      ],
      "execution_count": 13,
      "outputs": [
        {
          "output_type": "execute_result",
          "data": {
            "text/plain": [
              "dtype: float\n",
              "Rows: 4\n",
              "[0.7045905590057373, 0.5963408946990967, 0.44925159215927124, 0.6119099855422974]"
            ]
          },
          "metadata": {
            "tags": []
          },
          "execution_count": 13
        }
      ]
    },
    {
      "cell_type": "markdown",
      "metadata": {
        "id": "9jrdtibwYTeC"
      },
      "source": [
        "**Quiz Question:** According to **model_5**, which loan is the least likely to be a safe loan?\n",
        "\n",
        "**Checkpoint:** Can you verify that for all the predictions with `probability >= 0.5`, the model predicted the label **+1**?"
      ]
    },
    {
      "cell_type": "markdown",
      "metadata": {
        "collapsed": true,
        "id": "i2Bz2JVaYTeD"
      },
      "source": [
        "## Evaluating the model on the validation data"
      ]
    },
    {
      "cell_type": "markdown",
      "metadata": {
        "id": "BLl1Hc6nYTeE"
      },
      "source": [
        "Recall that the accuracy is defined as follows:\n",
        "$$\n",
        "\\mbox{accuracy} = \\frac{\\mbox{# correctly classified examples}}{\\mbox{# total examples}}\n",
        "$$\n",
        "\n",
        "Evaluate the accuracy of the **model_5** on the **validation_data**.\n",
        "\n",
        "**Hint**: Use the `.evaluate()` method in the model."
      ]
    },
    {
      "cell_type": "code",
      "metadata": {
        "colab": {
          "base_uri": "https://localhost:8080/"
        },
        "id": "fzjQrzgGYTeE",
        "outputId": "b698f716-b5e7-44b6-d395-00f11d9dd778"
      },
      "source": [
        "model_5.evaluate(validation_data)"
      ],
      "execution_count": 14,
      "outputs": [
        {
          "output_type": "execute_result",
          "data": {
            "text/plain": [
              "{'accuracy': 0.66813873330461,\n",
              " 'auc': 0.7246842336920359,\n",
              " 'confusion_matrix': Columns:\n",
              " \ttarget_label\tint\n",
              " \tpredicted_label\tint\n",
              " \tcount\tint\n",
              " \n",
              " Rows: 4\n",
              " \n",
              " Data:\n",
              " +--------------+-----------------+-------+\n",
              " | target_label | predicted_label | count |\n",
              " +--------------+-----------------+-------+\n",
              " |      -1      |        1        |  1618 |\n",
              " |      -1      |        -1       |  3054 |\n",
              " |      1       |        -1       |  1463 |\n",
              " |      1       |        1        |  3149 |\n",
              " +--------------+-----------------+-------+\n",
              " [4 rows x 3 columns],\n",
              " 'f1_score': 0.6715001599317625,\n",
              " 'log_loss': 0.6176131769693957,\n",
              " 'precision': 0.6605831760016782,\n",
              " 'recall': 0.6827840416305291,\n",
              " 'roc_curve': Columns:\n",
              " \tthreshold\tfloat\n",
              " \tfpr\tfloat\n",
              " \ttpr\tfloat\n",
              " \tp\tint\n",
              " \tn\tint\n",
              " \n",
              " Rows: 1001\n",
              " \n",
              " Data:\n",
              " +-----------+-----+-----+------+------+\n",
              " | threshold | fpr | tpr |  p   |  n   |\n",
              " +-----------+-----+-----+------+------+\n",
              " |    0.0    | 1.0 | 1.0 | 4612 | 4672 |\n",
              " |   0.001   | 1.0 | 1.0 | 4612 | 4672 |\n",
              " |   0.002   | 1.0 | 1.0 | 4612 | 4672 |\n",
              " |   0.003   | 1.0 | 1.0 | 4612 | 4672 |\n",
              " |   0.004   | 1.0 | 1.0 | 4612 | 4672 |\n",
              " |   0.005   | 1.0 | 1.0 | 4612 | 4672 |\n",
              " |   0.006   | 1.0 | 1.0 | 4612 | 4672 |\n",
              " |   0.007   | 1.0 | 1.0 | 4612 | 4672 |\n",
              " |   0.008   | 1.0 | 1.0 | 4612 | 4672 |\n",
              " |   0.009   | 1.0 | 1.0 | 4612 | 4672 |\n",
              " +-----------+-----+-----+------+------+\n",
              " [1001 rows x 5 columns]\n",
              " Note: Only the head of the SFrame is printed.\n",
              " You can use print_rows(num_rows=m, num_columns=n) to print more rows and columns.}"
            ]
          },
          "metadata": {
            "tags": []
          },
          "execution_count": 14
        }
      ]
    },
    {
      "cell_type": "markdown",
      "metadata": {
        "id": "Xn0bv19oYTeF"
      },
      "source": [
        "Calculate the number of **false positives** made by the model."
      ]
    },
    {
      "cell_type": "code",
      "metadata": {
        "id": "t0RkcptQYTeF"
      },
      "source": [
        "model_5_predictions = model_5.predict(validation_data)"
      ],
      "execution_count": 15,
      "outputs": []
    },
    {
      "cell_type": "markdown",
      "metadata": {
        "id": "tIRZcBOuYTeG"
      },
      "source": [
        "**Quiz Question**: What is the number of **false positives** on the **validation_data**?"
      ]
    },
    {
      "cell_type": "code",
      "metadata": {
        "id": "6nkyWg-6fnc3"
      },
      "source": [
        "false_positive_num ,false_negative_num = 0, 0 \n",
        "diff = model_5_predictions - validation_data['safe_loans']\n",
        "for i in diff:\n",
        "  if i == 2:\n",
        "    false_positive_num += 1\n",
        "  elif i == -2:\n",
        "    false_negative_num += 1"
      ],
      "execution_count": 16,
      "outputs": []
    },
    {
      "cell_type": "code",
      "metadata": {
        "colab": {
          "base_uri": "https://localhost:8080/"
        },
        "id": "FdC1yOxehTrj",
        "outputId": "c96c034f-9588-4579-e4ad-37352aed2eb7"
      },
      "source": [
        "false_positive_num"
      ],
      "execution_count": 17,
      "outputs": [
        {
          "output_type": "execute_result",
          "data": {
            "text/plain": [
              "1618"
            ]
          },
          "metadata": {
            "tags": []
          },
          "execution_count": 17
        }
      ]
    },
    {
      "cell_type": "markdown",
      "metadata": {
        "id": "pfm1gyyXYTeH"
      },
      "source": [
        "Calculate the number of **false negatives** made by the model."
      ]
    },
    {
      "cell_type": "code",
      "metadata": {
        "colab": {
          "base_uri": "https://localhost:8080/"
        },
        "id": "XMRZKAr9YTeH",
        "outputId": "6b0cab47-f97c-49ce-8f1f-0973705ed3a2"
      },
      "source": [
        "false_negative_num"
      ],
      "execution_count": 18,
      "outputs": [
        {
          "output_type": "execute_result",
          "data": {
            "text/plain": [
              "1463"
            ]
          },
          "metadata": {
            "tags": []
          },
          "execution_count": 18
        }
      ]
    },
    {
      "cell_type": "markdown",
      "metadata": {
        "id": "gOaQ3K--YTeI"
      },
      "source": [
        "## Comparison with decision trees\n",
        "\n",
        "In the earlier assignment, we saw that the prediction accuracy of the decision trees was around **0.64** (rounded). In this assignment, we saw that **model_5** has an accuracy of **0.67** (rounded).\n",
        "\n",
        "Here, we quantify the benefit of the extra 3% increase in accuracy of **model_5** in comparison with a single decision tree from the original decision tree assignment.\n",
        "\n",
        "As we explored in the earlier assignment, we calculated the cost of the mistakes made by the model. We again consider the same costs as follows:\n",
        "\n",
        "* **False negatives**: Assume a cost of \\$10,000 per false negative.\n",
        "* **False positives**: Assume a cost of \\$20,000 per false positive.\n",
        "\n",
        "Assume that the number of false positives and false negatives for the learned decision tree was\n",
        "\n",
        "* **False negatives**: 1936\n",
        "* **False positives**: 1503\n",
        "\n",
        "Using the costs defined above and the number of false positives and false negatives for the decision tree, we can calculate the total cost of the mistakes made by the decision tree model as follows:\n",
        "\n",
        "```\n",
        "cost = $10,000 * 1936  + $20,000 * 1503 = $49,420,000\n",
        "```\n",
        "\n",
        "The total cost of the mistakes of the model is $49.42M. That is a **lot of money**!.\n",
        "\n",
        "**Quiz Question**: Using the same costs of the false positives and false negatives, what is the cost of the mistakes made by the boosted tree model (**model_5**) as evaluated on the **validation_set**?"
      ]
    },
    {
      "cell_type": "code",
      "metadata": {
        "colab": {
          "base_uri": "https://localhost:8080/"
        },
        "id": "FEG7kR0PYTeI",
        "outputId": "bf97b084-5374-43d1-9886-8706ead70e9d"
      },
      "source": [
        "false_negative_num * 10000 + false_positive_num * 20000"
      ],
      "execution_count": 19,
      "outputs": [
        {
          "output_type": "execute_result",
          "data": {
            "text/plain": [
              "46990000"
            ]
          },
          "metadata": {
            "tags": []
          },
          "execution_count": 19
        }
      ]
    },
    {
      "cell_type": "markdown",
      "metadata": {
        "id": "NGMBBIOSYTeJ"
      },
      "source": [
        "**Reminder**: Compare the cost of the mistakes made by the boosted trees model with the decision tree model. The extra 3% improvement in prediction accuracy can translate to several million dollars!  And, it was so easy to get by simply boosting our decision trees."
      ]
    },
    {
      "cell_type": "markdown",
      "metadata": {
        "id": "_O5uW2ImYTeJ"
      },
      "source": [
        "## Most positive & negative loans.\n",
        "\n",
        "In this section, we will find the loans that are most likely to be predicted **safe**. We can do this in a few steps:\n",
        "\n",
        "* **Step 1**: Use the **model_5** (the model with 5 trees) and make **probability predictions** for all the loans in the **validation_data**.\n",
        "* **Step 2**: Similar to what we did in the very first assignment, add the probability predictions as a column called **predictions** into the validation_data.\n",
        "* **Step 3**: Sort the data (in descreasing order) by the probability predictions.\n",
        "\n",
        "Start here with **Step 1** & **Step 2**. Make predictions using **model_5** for examples in the **validation_data**. Use `output_type = probability`."
      ]
    },
    {
      "cell_type": "code",
      "metadata": {
        "id": "DXkV8smvYTeJ"
      },
      "source": [
        "probabilities = model_5.predict(validation_data, output_type='probability')"
      ],
      "execution_count": 20,
      "outputs": []
    },
    {
      "cell_type": "code",
      "metadata": {
        "id": "9zFVDGaXi7ba"
      },
      "source": [
        "validation_data['predictions'] = probabilities"
      ],
      "execution_count": 21,
      "outputs": []
    },
    {
      "cell_type": "markdown",
      "metadata": {
        "id": "28cHmTiMYTeK"
      },
      "source": [
        "**Checkpoint:** For each row, the probabilities should be a number in the range **[0, 1]**. We have provided a simple check here to make sure your answers are correct."
      ]
    },
    {
      "cell_type": "code",
      "metadata": {
        "colab": {
          "base_uri": "https://localhost:8080/"
        },
        "id": "l_qOd3lTYTeK",
        "outputId": "886e86a1-23dd-44ef-fb1d-d1755de6218d"
      },
      "source": [
        "print(\"Your loans      : %s\\n\" % validation_data['predictions'].head(4))\n",
        "print(\"Expected answer : %s\" % [0.4492515948736132, 0.6119100103640573,\n",
        "                                0.3835981314851436, 0.3693306705994325])"
      ],
      "execution_count": 22,
      "outputs": [
        {
          "output_type": "stream",
          "text": [
            "Your loans      : [0.44925159215927124, 0.6119099855422974, 0.38359811902046204, 0.3693307042121887]\n",
            "\n",
            "Expected answer : [0.4492515948736132, 0.6119100103640573, 0.3835981314851436, 0.3693306705994325]\n"
          ],
          "name": "stdout"
        }
      ]
    },
    {
      "cell_type": "markdown",
      "metadata": {
        "id": "TVraxaISYTeL"
      },
      "source": [
        "Now, we are ready to go to **Step 3**. You can now use the `prediction` column to sort the loans in **validation_data** (in descending order) by prediction probability. Find the top 5 loans with the highest probability of being predicted as a **safe loan**."
      ]
    },
    {
      "cell_type": "code",
      "metadata": {
        "id": "K2bNKo8qYTeL"
      },
      "source": [
        "validation_data_sorted  = validation_data.sort('predictions',ascending=False)"
      ],
      "execution_count": 23,
      "outputs": []
    },
    {
      "cell_type": "markdown",
      "metadata": {
        "id": "_tIi3wBBYTeL"
      },
      "source": [
        "**Quiz Question**: What grades are the top 5 loans?\n",
        "\n",
        "Let us repeat this excercise to find the top 5 loans (in the **validation_data**) with the **lowest probability** of being predicted as a **safe loan**:"
      ]
    },
    {
      "cell_type": "code",
      "metadata": {
        "colab": {
          "base_uri": "https://localhost:8080/",
          "height": 507
        },
        "id": "WEG43qmUYTeM",
        "outputId": "000244cc-32e4-4324-96fe-b8a17c48a6ae"
      },
      "source": [
        "validation_data_sorted[:5]"
      ],
      "execution_count": 24,
      "outputs": [
        {
          "output_type": "execute_result",
          "data": {
            "text/html": [
              "<div style=\"max-height:1000px;max-width:1500px;overflow:auto;\"><table frame=\"box\" rules=\"cols\">\n",
              "    <tr>\n",
              "        <th style=\"padding-left: 1em; padding-right: 1em; text-align: center\">safe_loans</th>\n",
              "        <th style=\"padding-left: 1em; padding-right: 1em; text-align: center\">grade</th>\n",
              "        <th style=\"padding-left: 1em; padding-right: 1em; text-align: center\">sub_grade_num</th>\n",
              "        <th style=\"padding-left: 1em; padding-right: 1em; text-align: center\">short_emp</th>\n",
              "        <th style=\"padding-left: 1em; padding-right: 1em; text-align: center\">emp_length_num</th>\n",
              "        <th style=\"padding-left: 1em; padding-right: 1em; text-align: center\">home_ownership</th>\n",
              "        <th style=\"padding-left: 1em; padding-right: 1em; text-align: center\">dti</th>\n",
              "        <th style=\"padding-left: 1em; padding-right: 1em; text-align: center\">purpose</th>\n",
              "        <th style=\"padding-left: 1em; padding-right: 1em; text-align: center\">payment_inc_ratio</th>\n",
              "    </tr>\n",
              "    <tr>\n",
              "        <td style=\"padding-left: 1em; padding-right: 1em; text-align: center; vertical-align: top\">1</td>\n",
              "        <td style=\"padding-left: 1em; padding-right: 1em; text-align: center; vertical-align: top\">A</td>\n",
              "        <td style=\"padding-left: 1em; padding-right: 1em; text-align: center; vertical-align: top\">0.2</td>\n",
              "        <td style=\"padding-left: 1em; padding-right: 1em; text-align: center; vertical-align: top\">0</td>\n",
              "        <td style=\"padding-left: 1em; padding-right: 1em; text-align: center; vertical-align: top\">11</td>\n",
              "        <td style=\"padding-left: 1em; padding-right: 1em; text-align: center; vertical-align: top\">MORTGAGE</td>\n",
              "        <td style=\"padding-left: 1em; padding-right: 1em; text-align: center; vertical-align: top\">4.21</td>\n",
              "        <td style=\"padding-left: 1em; padding-right: 1em; text-align: center; vertical-align: top\">credit_card</td>\n",
              "        <td style=\"padding-left: 1em; padding-right: 1em; text-align: center; vertical-align: top\">0.955726</td>\n",
              "    </tr>\n",
              "    <tr>\n",
              "        <td style=\"padding-left: 1em; padding-right: 1em; text-align: center; vertical-align: top\">1</td>\n",
              "        <td style=\"padding-left: 1em; padding-right: 1em; text-align: center; vertical-align: top\">A</td>\n",
              "        <td style=\"padding-left: 1em; padding-right: 1em; text-align: center; vertical-align: top\">0.4</td>\n",
              "        <td style=\"padding-left: 1em; padding-right: 1em; text-align: center; vertical-align: top\">0</td>\n",
              "        <td style=\"padding-left: 1em; padding-right: 1em; text-align: center; vertical-align: top\">4</td>\n",
              "        <td style=\"padding-left: 1em; padding-right: 1em; text-align: center; vertical-align: top\">MORTGAGE</td>\n",
              "        <td style=\"padding-left: 1em; padding-right: 1em; text-align: center; vertical-align: top\">12.76</td>\n",
              "        <td style=\"padding-left: 1em; padding-right: 1em; text-align: center; vertical-align: top\">car</td>\n",
              "        <td style=\"padding-left: 1em; padding-right: 1em; text-align: center; vertical-align: top\">1.7376</td>\n",
              "    </tr>\n",
              "    <tr>\n",
              "        <td style=\"padding-left: 1em; padding-right: 1em; text-align: center; vertical-align: top\">1</td>\n",
              "        <td style=\"padding-left: 1em; padding-right: 1em; text-align: center; vertical-align: top\">A</td>\n",
              "        <td style=\"padding-left: 1em; padding-right: 1em; text-align: center; vertical-align: top\">0.6</td>\n",
              "        <td style=\"padding-left: 1em; padding-right: 1em; text-align: center; vertical-align: top\">0</td>\n",
              "        <td style=\"padding-left: 1em; padding-right: 1em; text-align: center; vertical-align: top\">11</td>\n",
              "        <td style=\"padding-left: 1em; padding-right: 1em; text-align: center; vertical-align: top\">MORTGAGE</td>\n",
              "        <td style=\"padding-left: 1em; padding-right: 1em; text-align: center; vertical-align: top\">2.4</td>\n",
              "        <td style=\"padding-left: 1em; padding-right: 1em; text-align: center; vertical-align: top\">car</td>\n",
              "        <td style=\"padding-left: 1em; padding-right: 1em; text-align: center; vertical-align: top\">2.49545</td>\n",
              "    </tr>\n",
              "    <tr>\n",
              "        <td style=\"padding-left: 1em; padding-right: 1em; text-align: center; vertical-align: top\">1</td>\n",
              "        <td style=\"padding-left: 1em; padding-right: 1em; text-align: center; vertical-align: top\">A</td>\n",
              "        <td style=\"padding-left: 1em; padding-right: 1em; text-align: center; vertical-align: top\">0.2</td>\n",
              "        <td style=\"padding-left: 1em; padding-right: 1em; text-align: center; vertical-align: top\">0</td>\n",
              "        <td style=\"padding-left: 1em; padding-right: 1em; text-align: center; vertical-align: top\">11</td>\n",
              "        <td style=\"padding-left: 1em; padding-right: 1em; text-align: center; vertical-align: top\">MORTGAGE</td>\n",
              "        <td style=\"padding-left: 1em; padding-right: 1em; text-align: center; vertical-align: top\">6.47</td>\n",
              "        <td style=\"padding-left: 1em; padding-right: 1em; text-align: center; vertical-align: top\">major_purchase</td>\n",
              "        <td style=\"padding-left: 1em; padding-right: 1em; text-align: center; vertical-align: top\">1.131</td>\n",
              "    </tr>\n",
              "    <tr>\n",
              "        <td style=\"padding-left: 1em; padding-right: 1em; text-align: center; vertical-align: top\">1</td>\n",
              "        <td style=\"padding-left: 1em; padding-right: 1em; text-align: center; vertical-align: top\">A</td>\n",
              "        <td style=\"padding-left: 1em; padding-right: 1em; text-align: center; vertical-align: top\">0.2</td>\n",
              "        <td style=\"padding-left: 1em; padding-right: 1em; text-align: center; vertical-align: top\">0</td>\n",
              "        <td style=\"padding-left: 1em; padding-right: 1em; text-align: center; vertical-align: top\">11</td>\n",
              "        <td style=\"padding-left: 1em; padding-right: 1em; text-align: center; vertical-align: top\">OWN</td>\n",
              "        <td style=\"padding-left: 1em; padding-right: 1em; text-align: center; vertical-align: top\">0.69</td>\n",
              "        <td style=\"padding-left: 1em; padding-right: 1em; text-align: center; vertical-align: top\">car</td>\n",
              "        <td style=\"padding-left: 1em; padding-right: 1em; text-align: center; vertical-align: top\">3.17372</td>\n",
              "    </tr>\n",
              "</table>\n",
              "<table frame=\"box\" rules=\"cols\">\n",
              "    <tr>\n",
              "        <th style=\"padding-left: 1em; padding-right: 1em; text-align: center\">delinq_2yrs</th>\n",
              "        <th style=\"padding-left: 1em; padding-right: 1em; text-align: center\">delinq_2yrs_zero</th>\n",
              "        <th style=\"padding-left: 1em; padding-right: 1em; text-align: center\">inq_last_6mths</th>\n",
              "        <th style=\"padding-left: 1em; padding-right: 1em; text-align: center\">last_delinq_none</th>\n",
              "        <th style=\"padding-left: 1em; padding-right: 1em; text-align: center\">last_major_derog_none</th>\n",
              "        <th style=\"padding-left: 1em; padding-right: 1em; text-align: center\">open_acc</th>\n",
              "        <th style=\"padding-left: 1em; padding-right: 1em; text-align: center\">pub_rec</th>\n",
              "        <th style=\"padding-left: 1em; padding-right: 1em; text-align: center\">pub_rec_zero</th>\n",
              "    </tr>\n",
              "    <tr>\n",
              "        <td style=\"padding-left: 1em; padding-right: 1em; text-align: center; vertical-align: top\">0</td>\n",
              "        <td style=\"padding-left: 1em; padding-right: 1em; text-align: center; vertical-align: top\">1</td>\n",
              "        <td style=\"padding-left: 1em; padding-right: 1em; text-align: center; vertical-align: top\">2</td>\n",
              "        <td style=\"padding-left: 1em; padding-right: 1em; text-align: center; vertical-align: top\">1</td>\n",
              "        <td style=\"padding-left: 1em; padding-right: 1em; text-align: center; vertical-align: top\">1</td>\n",
              "        <td style=\"padding-left: 1em; padding-right: 1em; text-align: center; vertical-align: top\">9</td>\n",
              "        <td style=\"padding-left: 1em; padding-right: 1em; text-align: center; vertical-align: top\">0</td>\n",
              "        <td style=\"padding-left: 1em; padding-right: 1em; text-align: center; vertical-align: top\">1</td>\n",
              "    </tr>\n",
              "    <tr>\n",
              "        <td style=\"padding-left: 1em; padding-right: 1em; text-align: center; vertical-align: top\">0</td>\n",
              "        <td style=\"padding-left: 1em; padding-right: 1em; text-align: center; vertical-align: top\">1</td>\n",
              "        <td style=\"padding-left: 1em; padding-right: 1em; text-align: center; vertical-align: top\">2</td>\n",
              "        <td style=\"padding-left: 1em; padding-right: 1em; text-align: center; vertical-align: top\">1</td>\n",
              "        <td style=\"padding-left: 1em; padding-right: 1em; text-align: center; vertical-align: top\">1</td>\n",
              "        <td style=\"padding-left: 1em; padding-right: 1em; text-align: center; vertical-align: top\">11</td>\n",
              "        <td style=\"padding-left: 1em; padding-right: 1em; text-align: center; vertical-align: top\">0</td>\n",
              "        <td style=\"padding-left: 1em; padding-right: 1em; text-align: center; vertical-align: top\">1</td>\n",
              "    </tr>\n",
              "    <tr>\n",
              "        <td style=\"padding-left: 1em; padding-right: 1em; text-align: center; vertical-align: top\">0</td>\n",
              "        <td style=\"padding-left: 1em; padding-right: 1em; text-align: center; vertical-align: top\">1</td>\n",
              "        <td style=\"padding-left: 1em; padding-right: 1em; text-align: center; vertical-align: top\">0</td>\n",
              "        <td style=\"padding-left: 1em; padding-right: 1em; text-align: center; vertical-align: top\">1</td>\n",
              "        <td style=\"padding-left: 1em; padding-right: 1em; text-align: center; vertical-align: top\">1</td>\n",
              "        <td style=\"padding-left: 1em; padding-right: 1em; text-align: center; vertical-align: top\">6</td>\n",
              "        <td style=\"padding-left: 1em; padding-right: 1em; text-align: center; vertical-align: top\">0</td>\n",
              "        <td style=\"padding-left: 1em; padding-right: 1em; text-align: center; vertical-align: top\">1</td>\n",
              "    </tr>\n",
              "    <tr>\n",
              "        <td style=\"padding-left: 1em; padding-right: 1em; text-align: center; vertical-align: top\">1</td>\n",
              "        <td style=\"padding-left: 1em; padding-right: 1em; text-align: center; vertical-align: top\">0</td>\n",
              "        <td style=\"padding-left: 1em; padding-right: 1em; text-align: center; vertical-align: top\">0</td>\n",
              "        <td style=\"padding-left: 1em; padding-right: 1em; text-align: center; vertical-align: top\">0</td>\n",
              "        <td style=\"padding-left: 1em; padding-right: 1em; text-align: center; vertical-align: top\">1</td>\n",
              "        <td style=\"padding-left: 1em; padding-right: 1em; text-align: center; vertical-align: top\">9</td>\n",
              "        <td style=\"padding-left: 1em; padding-right: 1em; text-align: center; vertical-align: top\">0</td>\n",
              "        <td style=\"padding-left: 1em; padding-right: 1em; text-align: center; vertical-align: top\">1</td>\n",
              "    </tr>\n",
              "    <tr>\n",
              "        <td style=\"padding-left: 1em; padding-right: 1em; text-align: center; vertical-align: top\">0</td>\n",
              "        <td style=\"padding-left: 1em; padding-right: 1em; text-align: center; vertical-align: top\">1</td>\n",
              "        <td style=\"padding-left: 1em; padding-right: 1em; text-align: center; vertical-align: top\">0</td>\n",
              "        <td style=\"padding-left: 1em; padding-right: 1em; text-align: center; vertical-align: top\">1</td>\n",
              "        <td style=\"padding-left: 1em; padding-right: 1em; text-align: center; vertical-align: top\">1</td>\n",
              "        <td style=\"padding-left: 1em; padding-right: 1em; text-align: center; vertical-align: top\">4</td>\n",
              "        <td style=\"padding-left: 1em; padding-right: 1em; text-align: center; vertical-align: top\">0</td>\n",
              "        <td style=\"padding-left: 1em; padding-right: 1em; text-align: center; vertical-align: top\">1</td>\n",
              "    </tr>\n",
              "</table>\n",
              "<table frame=\"box\" rules=\"cols\">\n",
              "    <tr>\n",
              "        <th style=\"padding-left: 1em; padding-right: 1em; text-align: center\">revol_util</th>\n",
              "        <th style=\"padding-left: 1em; padding-right: 1em; text-align: center\">total_rec_late_fee</th>\n",
              "        <th style=\"padding-left: 1em; padding-right: 1em; text-align: center\">int_rate</th>\n",
              "        <th style=\"padding-left: 1em; padding-right: 1em; text-align: center\">total_rec_int</th>\n",
              "        <th style=\"padding-left: 1em; padding-right: 1em; text-align: center\">annual_inc</th>\n",
              "        <th style=\"padding-left: 1em; padding-right: 1em; text-align: center\">funded_amnt</th>\n",
              "        <th style=\"padding-left: 1em; padding-right: 1em; text-align: center\">funded_amnt_inv</th>\n",
              "        <th style=\"padding-left: 1em; padding-right: 1em; text-align: center\">installment</th>\n",
              "    </tr>\n",
              "    <tr>\n",
              "        <td style=\"padding-left: 1em; padding-right: 1em; text-align: center; vertical-align: top\">7.9</td>\n",
              "        <td style=\"padding-left: 1em; padding-right: 1em; text-align: center; vertical-align: top\">0.0</td>\n",
              "        <td style=\"padding-left: 1em; padding-right: 1em; text-align: center; vertical-align: top\">6.39</td>\n",
              "        <td style=\"padding-left: 1em; padding-right: 1em; text-align: center; vertical-align: top\">179.18</td>\n",
              "        <td style=\"padding-left: 1em; padding-right: 1em; text-align: center; vertical-align: top\">146000</td>\n",
              "        <td style=\"padding-left: 1em; padding-right: 1em; text-align: center; vertical-align: top\">3800</td>\n",
              "        <td style=\"padding-left: 1em; padding-right: 1em; text-align: center; vertical-align: top\">3650</td>\n",
              "        <td style=\"padding-left: 1em; padding-right: 1em; text-align: center; vertical-align: top\">116.28</td>\n",
              "    </tr>\n",
              "    <tr>\n",
              "        <td style=\"padding-left: 1em; padding-right: 1em; text-align: center; vertical-align: top\">5.5</td>\n",
              "        <td style=\"padding-left: 1em; padding-right: 1em; text-align: center; vertical-align: top\">0.0</td>\n",
              "        <td style=\"padding-left: 1em; padding-right: 1em; text-align: center; vertical-align: top\">6.76</td>\n",
              "        <td style=\"padding-left: 1em; padding-right: 1em; text-align: center; vertical-align: top\">429.63</td>\n",
              "        <td style=\"padding-left: 1em; padding-right: 1em; text-align: center; vertical-align: top\">85000</td>\n",
              "        <td style=\"padding-left: 1em; padding-right: 1em; text-align: center; vertical-align: top\">4000</td>\n",
              "        <td style=\"padding-left: 1em; padding-right: 1em; text-align: center; vertical-align: top\">4000</td>\n",
              "        <td style=\"padding-left: 1em; padding-right: 1em; text-align: center; vertical-align: top\">123.08</td>\n",
              "    </tr>\n",
              "    <tr>\n",
              "        <td style=\"padding-left: 1em; padding-right: 1em; text-align: center; vertical-align: top\">0.0</td>\n",
              "        <td style=\"padding-left: 1em; padding-right: 1em; text-align: center; vertical-align: top\">0.0</td>\n",
              "        <td style=\"padding-left: 1em; padding-right: 1em; text-align: center; vertical-align: top\">6.17</td>\n",
              "        <td style=\"padding-left: 1em; padding-right: 1em; text-align: center; vertical-align: top\">671.39</td>\n",
              "        <td style=\"padding-left: 1em; padding-right: 1em; text-align: center; vertical-align: top\">110000</td>\n",
              "        <td style=\"padding-left: 1em; padding-right: 1em; text-align: center; vertical-align: top\">7500</td>\n",
              "        <td style=\"padding-left: 1em; padding-right: 1em; text-align: center; vertical-align: top\">7500</td>\n",
              "        <td style=\"padding-left: 1em; padding-right: 1em; text-align: center; vertical-align: top\">228.75</td>\n",
              "    </tr>\n",
              "    <tr>\n",
              "        <td style=\"padding-left: 1em; padding-right: 1em; text-align: center; vertical-align: top\">9.6</td>\n",
              "        <td style=\"padding-left: 1em; padding-right: 1em; text-align: center; vertical-align: top\">0.0</td>\n",
              "        <td style=\"padding-left: 1em; padding-right: 1em; text-align: center; vertical-align: top\">5.42</td>\n",
              "        <td style=\"padding-left: 1em; padding-right: 1em; text-align: center; vertical-align: top\">311.4</td>\n",
              "        <td style=\"padding-left: 1em; padding-right: 1em; text-align: center; vertical-align: top\">120000</td>\n",
              "        <td style=\"padding-left: 1em; padding-right: 1em; text-align: center; vertical-align: top\">3750</td>\n",
              "        <td style=\"padding-left: 1em; padding-right: 1em; text-align: center; vertical-align: top\">3750</td>\n",
              "        <td style=\"padding-left: 1em; padding-right: 1em; text-align: center; vertical-align: top\">113.1</td>\n",
              "    </tr>\n",
              "    <tr>\n",
              "        <td style=\"padding-left: 1em; padding-right: 1em; text-align: center; vertical-align: top\">9.1</td>\n",
              "        <td style=\"padding-left: 1em; padding-right: 1em; text-align: center; vertical-align: top\">0.0</td>\n",
              "        <td style=\"padding-left: 1em; padding-right: 1em; text-align: center; vertical-align: top\">6.03</td>\n",
              "        <td style=\"padding-left: 1em; padding-right: 1em; text-align: center; vertical-align: top\">88.81</td>\n",
              "        <td style=\"padding-left: 1em; padding-right: 1em; text-align: center; vertical-align: top\">102996</td>\n",
              "        <td style=\"padding-left: 1em; padding-right: 1em; text-align: center; vertical-align: top\">8950</td>\n",
              "        <td style=\"padding-left: 1em; padding-right: 1em; text-align: center; vertical-align: top\">8950</td>\n",
              "        <td style=\"padding-left: 1em; padding-right: 1em; text-align: center; vertical-align: top\">272.4</td>\n",
              "    </tr>\n",
              "</table>\n",
              "<table frame=\"box\" rules=\"cols\">\n",
              "    <tr>\n",
              "        <th style=\"padding-left: 1em; padding-right: 1em; text-align: center\">predictions</th>\n",
              "    </tr>\n",
              "    <tr>\n",
              "        <td style=\"padding-left: 1em; padding-right: 1em; text-align: center; vertical-align: top\">0.848508358001709</td>\n",
              "    </tr>\n",
              "    <tr>\n",
              "        <td style=\"padding-left: 1em; padding-right: 1em; text-align: center; vertical-align: top\">0.848508358001709</td>\n",
              "    </tr>\n",
              "    <tr>\n",
              "        <td style=\"padding-left: 1em; padding-right: 1em; text-align: center; vertical-align: top\">0.8412954211235046</td>\n",
              "    </tr>\n",
              "    <tr>\n",
              "        <td style=\"padding-left: 1em; padding-right: 1em; text-align: center; vertical-align: top\">0.8412954211235046</td>\n",
              "    </tr>\n",
              "    <tr>\n",
              "        <td style=\"padding-left: 1em; padding-right: 1em; text-align: center; vertical-align: top\">0.8412954211235046</td>\n",
              "    </tr>\n",
              "</table>\n",
              "[5 rows x 26 columns]<br/>\n",
              "</div>"
            ],
            "text/plain": [
              "Columns:\n",
              "\tsafe_loans\tint\n",
              "\tgrade\tstr\n",
              "\tsub_grade_num\tfloat\n",
              "\tshort_emp\tint\n",
              "\temp_length_num\tint\n",
              "\thome_ownership\tstr\n",
              "\tdti\tfloat\n",
              "\tpurpose\tstr\n",
              "\tpayment_inc_ratio\tfloat\n",
              "\tdelinq_2yrs\tint\n",
              "\tdelinq_2yrs_zero\tint\n",
              "\tinq_last_6mths\tint\n",
              "\tlast_delinq_none\tint\n",
              "\tlast_major_derog_none\tint\n",
              "\topen_acc\tint\n",
              "\tpub_rec\tint\n",
              "\tpub_rec_zero\tint\n",
              "\trevol_util\tfloat\n",
              "\ttotal_rec_late_fee\tfloat\n",
              "\tint_rate\tfloat\n",
              "\ttotal_rec_int\tfloat\n",
              "\tannual_inc\tint\n",
              "\tfunded_amnt\tint\n",
              "\tfunded_amnt_inv\tint\n",
              "\tinstallment\tfloat\n",
              "\tpredictions\tfloat\n",
              "\n",
              "Rows: 5\n",
              "\n",
              "Data:\n",
              "+------------+-------+---------------+-----------+----------------+----------------+\n",
              "| safe_loans | grade | sub_grade_num | short_emp | emp_length_num | home_ownership |\n",
              "+------------+-------+---------------+-----------+----------------+----------------+\n",
              "|     1      |   A   |      0.2      |     0     |       11       |    MORTGAGE    |\n",
              "|     1      |   A   |      0.4      |     0     |       4        |    MORTGAGE    |\n",
              "|     1      |   A   |      0.6      |     0     |       11       |    MORTGAGE    |\n",
              "|     1      |   A   |      0.2      |     0     |       11       |    MORTGAGE    |\n",
              "|     1      |   A   |      0.2      |     0     |       11       |      OWN       |\n",
              "+------------+-------+---------------+-----------+----------------+----------------+\n",
              "+-------+----------------+-------------------+-------------+------------------+\n",
              "|  dti  |    purpose     | payment_inc_ratio | delinq_2yrs | delinq_2yrs_zero |\n",
              "+-------+----------------+-------------------+-------------+------------------+\n",
              "|  4.21 |  credit_card   |      0.955726     |      0      |        1         |\n",
              "| 12.76 |      car       |       1.7376      |      0      |        1         |\n",
              "|  2.4  |      car       |      2.49545      |      0      |        1         |\n",
              "|  6.47 | major_purchase |       1.131       |      1      |        0         |\n",
              "|  0.69 |      car       |      3.17372      |      0      |        1         |\n",
              "+-------+----------------+-------------------+-------------+------------------+\n",
              "+----------------+------------------+-----------------------+----------+---------+\n",
              "| inq_last_6mths | last_delinq_none | last_major_derog_none | open_acc | pub_rec |\n",
              "+----------------+------------------+-----------------------+----------+---------+\n",
              "|       2        |        1         |           1           |    9     |    0    |\n",
              "|       2        |        1         |           1           |    11    |    0    |\n",
              "|       0        |        1         |           1           |    6     |    0    |\n",
              "|       0        |        0         |           1           |    9     |    0    |\n",
              "|       0        |        1         |           1           |    4     |    0    |\n",
              "+----------------+------------------+-----------------------+----------+---------+\n",
              "+--------------+------------+--------------------+----------+-----+\n",
              "| pub_rec_zero | revol_util | total_rec_late_fee | int_rate | ... |\n",
              "+--------------+------------+--------------------+----------+-----+\n",
              "|      1       |    7.9     |        0.0         |   6.39   | ... |\n",
              "|      1       |    5.5     |        0.0         |   6.76   | ... |\n",
              "|      1       |    0.0     |        0.0         |   6.17   | ... |\n",
              "|      1       |    9.6     |        0.0         |   5.42   | ... |\n",
              "|      1       |    9.1     |        0.0         |   6.03   | ... |\n",
              "+--------------+------------+--------------------+----------+-----+\n",
              "[5 rows x 26 columns]"
            ]
          },
          "metadata": {
            "tags": []
          },
          "execution_count": 24
        }
      ]
    },
    {
      "cell_type": "code",
      "metadata": {
        "colab": {
          "base_uri": "https://localhost:8080/",
          "height": 507
        },
        "id": "isP1lrYxkUt5",
        "outputId": "8f106d18-a805-4fce-b074-1a3ef420f38e"
      },
      "source": [
        "validation_data_sorted[-5:]"
      ],
      "execution_count": 25,
      "outputs": [
        {
          "output_type": "execute_result",
          "data": {
            "text/html": [
              "<div style=\"max-height:1000px;max-width:1500px;overflow:auto;\"><table frame=\"box\" rules=\"cols\">\n",
              "    <tr>\n",
              "        <th style=\"padding-left: 1em; padding-right: 1em; text-align: center\">safe_loans</th>\n",
              "        <th style=\"padding-left: 1em; padding-right: 1em; text-align: center\">grade</th>\n",
              "        <th style=\"padding-left: 1em; padding-right: 1em; text-align: center\">sub_grade_num</th>\n",
              "        <th style=\"padding-left: 1em; padding-right: 1em; text-align: center\">short_emp</th>\n",
              "        <th style=\"padding-left: 1em; padding-right: 1em; text-align: center\">emp_length_num</th>\n",
              "        <th style=\"padding-left: 1em; padding-right: 1em; text-align: center\">home_ownership</th>\n",
              "        <th style=\"padding-left: 1em; padding-right: 1em; text-align: center\">dti</th>\n",
              "        <th style=\"padding-left: 1em; padding-right: 1em; text-align: center\">purpose</th>\n",
              "    </tr>\n",
              "    <tr>\n",
              "        <td style=\"padding-left: 1em; padding-right: 1em; text-align: center; vertical-align: top\">-1</td>\n",
              "        <td style=\"padding-left: 1em; padding-right: 1em; text-align: center; vertical-align: top\">B</td>\n",
              "        <td style=\"padding-left: 1em; padding-right: 1em; text-align: center; vertical-align: top\">1.0</td>\n",
              "        <td style=\"padding-left: 1em; padding-right: 1em; text-align: center; vertical-align: top\">0</td>\n",
              "        <td style=\"padding-left: 1em; padding-right: 1em; text-align: center; vertical-align: top\">5</td>\n",
              "        <td style=\"padding-left: 1em; padding-right: 1em; text-align: center; vertical-align: top\">RENT</td>\n",
              "        <td style=\"padding-left: 1em; padding-right: 1em; text-align: center; vertical-align: top\">29.42</td>\n",
              "        <td style=\"padding-left: 1em; padding-right: 1em; text-align: center; vertical-align: top\">debt_consolidation</td>\n",
              "    </tr>\n",
              "    <tr>\n",
              "        <td style=\"padding-left: 1em; padding-right: 1em; text-align: center; vertical-align: top\">-1</td>\n",
              "        <td style=\"padding-left: 1em; padding-right: 1em; text-align: center; vertical-align: top\">C</td>\n",
              "        <td style=\"padding-left: 1em; padding-right: 1em; text-align: center; vertical-align: top\">0.4</td>\n",
              "        <td style=\"padding-left: 1em; padding-right: 1em; text-align: center; vertical-align: top\">0</td>\n",
              "        <td style=\"padding-left: 1em; padding-right: 1em; text-align: center; vertical-align: top\">4</td>\n",
              "        <td style=\"padding-left: 1em; padding-right: 1em; text-align: center; vertical-align: top\">RENT</td>\n",
              "        <td style=\"padding-left: 1em; padding-right: 1em; text-align: center; vertical-align: top\">8.4</td>\n",
              "        <td style=\"padding-left: 1em; padding-right: 1em; text-align: center; vertical-align: top\">credit_card</td>\n",
              "    </tr>\n",
              "    <tr>\n",
              "        <td style=\"padding-left: 1em; padding-right: 1em; text-align: center; vertical-align: top\">-1</td>\n",
              "        <td style=\"padding-left: 1em; padding-right: 1em; text-align: center; vertical-align: top\">D</td>\n",
              "        <td style=\"padding-left: 1em; padding-right: 1em; text-align: center; vertical-align: top\">0.8</td>\n",
              "        <td style=\"padding-left: 1em; padding-right: 1em; text-align: center; vertical-align: top\">0</td>\n",
              "        <td style=\"padding-left: 1em; padding-right: 1em; text-align: center; vertical-align: top\">3</td>\n",
              "        <td style=\"padding-left: 1em; padding-right: 1em; text-align: center; vertical-align: top\">RENT</td>\n",
              "        <td style=\"padding-left: 1em; padding-right: 1em; text-align: center; vertical-align: top\">8.95</td>\n",
              "        <td style=\"padding-left: 1em; padding-right: 1em; text-align: center; vertical-align: top\">small_business</td>\n",
              "    </tr>\n",
              "    <tr>\n",
              "        <td style=\"padding-left: 1em; padding-right: 1em; text-align: center; vertical-align: top\">-1</td>\n",
              "        <td style=\"padding-left: 1em; padding-right: 1em; text-align: center; vertical-align: top\">C</td>\n",
              "        <td style=\"padding-left: 1em; padding-right: 1em; text-align: center; vertical-align: top\">0.8</td>\n",
              "        <td style=\"padding-left: 1em; padding-right: 1em; text-align: center; vertical-align: top\">1</td>\n",
              "        <td style=\"padding-left: 1em; padding-right: 1em; text-align: center; vertical-align: top\">0</td>\n",
              "        <td style=\"padding-left: 1em; padding-right: 1em; text-align: center; vertical-align: top\">MORTGAGE</td>\n",
              "        <td style=\"padding-left: 1em; padding-right: 1em; text-align: center; vertical-align: top\">17.37</td>\n",
              "        <td style=\"padding-left: 1em; padding-right: 1em; text-align: center; vertical-align: top\">home_improvement</td>\n",
              "    </tr>\n",
              "    <tr>\n",
              "        <td style=\"padding-left: 1em; padding-right: 1em; text-align: center; vertical-align: top\">-1</td>\n",
              "        <td style=\"padding-left: 1em; padding-right: 1em; text-align: center; vertical-align: top\">C</td>\n",
              "        <td style=\"padding-left: 1em; padding-right: 1em; text-align: center; vertical-align: top\">0.2</td>\n",
              "        <td style=\"padding-left: 1em; padding-right: 1em; text-align: center; vertical-align: top\">0</td>\n",
              "        <td style=\"padding-left: 1em; padding-right: 1em; text-align: center; vertical-align: top\">5</td>\n",
              "        <td style=\"padding-left: 1em; padding-right: 1em; text-align: center; vertical-align: top\">RENT</td>\n",
              "        <td style=\"padding-left: 1em; padding-right: 1em; text-align: center; vertical-align: top\">30.17</td>\n",
              "        <td style=\"padding-left: 1em; padding-right: 1em; text-align: center; vertical-align: top\">debt_consolidation</td>\n",
              "    </tr>\n",
              "</table>\n",
              "<table frame=\"box\" rules=\"cols\">\n",
              "    <tr>\n",
              "        <th style=\"padding-left: 1em; padding-right: 1em; text-align: center\">payment_inc_ratio</th>\n",
              "        <th style=\"padding-left: 1em; padding-right: 1em; text-align: center\">delinq_2yrs</th>\n",
              "        <th style=\"padding-left: 1em; padding-right: 1em; text-align: center\">delinq_2yrs_zero</th>\n",
              "        <th style=\"padding-left: 1em; padding-right: 1em; text-align: center\">inq_last_6mths</th>\n",
              "        <th style=\"padding-left: 1em; padding-right: 1em; text-align: center\">last_delinq_none</th>\n",
              "        <th style=\"padding-left: 1em; padding-right: 1em; text-align: center\">last_major_derog_none</th>\n",
              "        <th style=\"padding-left: 1em; padding-right: 1em; text-align: center\">open_acc</th>\n",
              "    </tr>\n",
              "    <tr>\n",
              "        <td style=\"padding-left: 1em; padding-right: 1em; text-align: center; vertical-align: top\">14.3733</td>\n",
              "        <td style=\"padding-left: 1em; padding-right: 1em; text-align: center; vertical-align: top\">0</td>\n",
              "        <td style=\"padding-left: 1em; padding-right: 1em; text-align: center; vertical-align: top\">1</td>\n",
              "        <td style=\"padding-left: 1em; padding-right: 1em; text-align: center; vertical-align: top\">0</td>\n",
              "        <td style=\"padding-left: 1em; padding-right: 1em; text-align: center; vertical-align: top\">0</td>\n",
              "        <td style=\"padding-left: 1em; padding-right: 1em; text-align: center; vertical-align: top\">1</td>\n",
              "        <td style=\"padding-left: 1em; padding-right: 1em; text-align: center; vertical-align: top\">14</td>\n",
              "    </tr>\n",
              "    <tr>\n",
              "        <td style=\"padding-left: 1em; padding-right: 1em; text-align: center; vertical-align: top\">11.8779</td>\n",
              "        <td style=\"padding-left: 1em; padding-right: 1em; text-align: center; vertical-align: top\">0</td>\n",
              "        <td style=\"padding-left: 1em; padding-right: 1em; text-align: center; vertical-align: top\">1</td>\n",
              "        <td style=\"padding-left: 1em; padding-right: 1em; text-align: center; vertical-align: top\">0</td>\n",
              "        <td style=\"padding-left: 1em; padding-right: 1em; text-align: center; vertical-align: top\">1</td>\n",
              "        <td style=\"padding-left: 1em; padding-right: 1em; text-align: center; vertical-align: top\">1</td>\n",
              "        <td style=\"padding-left: 1em; padding-right: 1em; text-align: center; vertical-align: top\">9</td>\n",
              "    </tr>\n",
              "    <tr>\n",
              "        <td style=\"padding-left: 1em; padding-right: 1em; text-align: center; vertical-align: top\">16.727</td>\n",
              "        <td style=\"padding-left: 1em; padding-right: 1em; text-align: center; vertical-align: top\">0</td>\n",
              "        <td style=\"padding-left: 1em; padding-right: 1em; text-align: center; vertical-align: top\">1</td>\n",
              "        <td style=\"padding-left: 1em; padding-right: 1em; text-align: center; vertical-align: top\">2</td>\n",
              "        <td style=\"padding-left: 1em; padding-right: 1em; text-align: center; vertical-align: top\">1</td>\n",
              "        <td style=\"padding-left: 1em; padding-right: 1em; text-align: center; vertical-align: top\">1</td>\n",
              "        <td style=\"padding-left: 1em; padding-right: 1em; text-align: center; vertical-align: top\">7</td>\n",
              "    </tr>\n",
              "    <tr>\n",
              "        <td style=\"padding-left: 1em; padding-right: 1em; text-align: center; vertical-align: top\">12.5753</td>\n",
              "        <td style=\"padding-left: 1em; padding-right: 1em; text-align: center; vertical-align: top\">0</td>\n",
              "        <td style=\"padding-left: 1em; padding-right: 1em; text-align: center; vertical-align: top\">1</td>\n",
              "        <td style=\"padding-left: 1em; padding-right: 1em; text-align: center; vertical-align: top\">0</td>\n",
              "        <td style=\"padding-left: 1em; padding-right: 1em; text-align: center; vertical-align: top\">1</td>\n",
              "        <td style=\"padding-left: 1em; padding-right: 1em; text-align: center; vertical-align: top\">1</td>\n",
              "        <td style=\"padding-left: 1em; padding-right: 1em; text-align: center; vertical-align: top\">8</td>\n",
              "    </tr>\n",
              "    <tr>\n",
              "        <td style=\"padding-left: 1em; padding-right: 1em; text-align: center; vertical-align: top\">13.5391</td>\n",
              "        <td style=\"padding-left: 1em; padding-right: 1em; text-align: center; vertical-align: top\">0</td>\n",
              "        <td style=\"padding-left: 1em; padding-right: 1em; text-align: center; vertical-align: top\">1</td>\n",
              "        <td style=\"padding-left: 1em; padding-right: 1em; text-align: center; vertical-align: top\">1</td>\n",
              "        <td style=\"padding-left: 1em; padding-right: 1em; text-align: center; vertical-align: top\">1</td>\n",
              "        <td style=\"padding-left: 1em; padding-right: 1em; text-align: center; vertical-align: top\">1</td>\n",
              "        <td style=\"padding-left: 1em; padding-right: 1em; text-align: center; vertical-align: top\">7</td>\n",
              "    </tr>\n",
              "</table>\n",
              "<table frame=\"box\" rules=\"cols\">\n",
              "    <tr>\n",
              "        <th style=\"padding-left: 1em; padding-right: 1em; text-align: center\">pub_rec</th>\n",
              "        <th style=\"padding-left: 1em; padding-right: 1em; text-align: center\">pub_rec_zero</th>\n",
              "        <th style=\"padding-left: 1em; padding-right: 1em; text-align: center\">revol_util</th>\n",
              "        <th style=\"padding-left: 1em; padding-right: 1em; text-align: center\">total_rec_late_fee</th>\n",
              "        <th style=\"padding-left: 1em; padding-right: 1em; text-align: center\">int_rate</th>\n",
              "        <th style=\"padding-left: 1em; padding-right: 1em; text-align: center\">total_rec_int</th>\n",
              "        <th style=\"padding-left: 1em; padding-right: 1em; text-align: center\">annual_inc</th>\n",
              "        <th style=\"padding-left: 1em; padding-right: 1em; text-align: center\">funded_amnt</th>\n",
              "        <th style=\"padding-left: 1em; padding-right: 1em; text-align: center\">funded_amnt_inv</th>\n",
              "    </tr>\n",
              "    <tr>\n",
              "        <td style=\"padding-left: 1em; padding-right: 1em; text-align: center; vertical-align: top\">0</td>\n",
              "        <td style=\"padding-left: 1em; padding-right: 1em; text-align: center; vertical-align: top\">1</td>\n",
              "        <td style=\"padding-left: 1em; padding-right: 1em; text-align: center; vertical-align: top\">57.5</td>\n",
              "        <td style=\"padding-left: 1em; padding-right: 1em; text-align: center; vertical-align: top\">20.9132</td>\n",
              "        <td style=\"padding-left: 1em; padding-right: 1em; text-align: center; vertical-align: top\">14.09</td>\n",
              "        <td style=\"padding-left: 1em; padding-right: 1em; text-align: center; vertical-align: top\">1891.71</td>\n",
              "        <td style=\"padding-left: 1em; padding-right: 1em; text-align: center; vertical-align: top\">35000</td>\n",
              "        <td style=\"padding-left: 1em; padding-right: 1em; text-align: center; vertical-align: top\">12250</td>\n",
              "        <td style=\"padding-left: 1em; padding-right: 1em; text-align: center; vertical-align: top\">12250</td>\n",
              "    </tr>\n",
              "    <tr>\n",
              "        <td style=\"padding-left: 1em; padding-right: 1em; text-align: center; vertical-align: top\">0</td>\n",
              "        <td style=\"padding-left: 1em; padding-right: 1em; text-align: center; vertical-align: top\">1</td>\n",
              "        <td style=\"padding-left: 1em; padding-right: 1em; text-align: center; vertical-align: top\">60.0</td>\n",
              "        <td style=\"padding-left: 1em; padding-right: 1em; text-align: center; vertical-align: top\">34.64</td>\n",
              "        <td style=\"padding-left: 1em; padding-right: 1em; text-align: center; vertical-align: top\">15.31</td>\n",
              "        <td style=\"padding-left: 1em; padding-right: 1em; text-align: center; vertical-align: top\">2152.67</td>\n",
              "        <td style=\"padding-left: 1em; padding-right: 1em; text-align: center; vertical-align: top\">35000</td>\n",
              "        <td style=\"padding-left: 1em; padding-right: 1em; text-align: center; vertical-align: top\">9950</td>\n",
              "        <td style=\"padding-left: 1em; padding-right: 1em; text-align: center; vertical-align: top\">9950</td>\n",
              "    </tr>\n",
              "    <tr>\n",
              "        <td style=\"padding-left: 1em; padding-right: 1em; text-align: center; vertical-align: top\">0</td>\n",
              "        <td style=\"padding-left: 1em; padding-right: 1em; text-align: center; vertical-align: top\">1</td>\n",
              "        <td style=\"padding-left: 1em; padding-right: 1em; text-align: center; vertical-align: top\">41.6</td>\n",
              "        <td style=\"padding-left: 1em; padding-right: 1em; text-align: center; vertical-align: top\">16.7025</td>\n",
              "        <td style=\"padding-left: 1em; padding-right: 1em; text-align: center; vertical-align: top\">15.2</td>\n",
              "        <td style=\"padding-left: 1em; padding-right: 1em; text-align: center; vertical-align: top\">1519.65</td>\n",
              "        <td style=\"padding-left: 1em; padding-right: 1em; text-align: center; vertical-align: top\">24000</td>\n",
              "        <td style=\"padding-left: 1em; padding-right: 1em; text-align: center; vertical-align: top\">14000</td>\n",
              "        <td style=\"padding-left: 1em; padding-right: 1em; text-align: center; vertical-align: top\">14000</td>\n",
              "    </tr>\n",
              "    <tr>\n",
              "        <td style=\"padding-left: 1em; padding-right: 1em; text-align: center; vertical-align: top\">0</td>\n",
              "        <td style=\"padding-left: 1em; padding-right: 1em; text-align: center; vertical-align: top\">1</td>\n",
              "        <td style=\"padding-left: 1em; padding-right: 1em; text-align: center; vertical-align: top\">46.1</td>\n",
              "        <td style=\"padding-left: 1em; padding-right: 1em; text-align: center; vertical-align: top\">18.86</td>\n",
              "        <td style=\"padding-left: 1em; padding-right: 1em; text-align: center; vertical-align: top\">15.31</td>\n",
              "        <td style=\"padding-left: 1em; padding-right: 1em; text-align: center; vertical-align: top\">1089.84</td>\n",
              "        <td style=\"padding-left: 1em; padding-right: 1em; text-align: center; vertical-align: top\">36000</td>\n",
              "        <td style=\"padding-left: 1em; padding-right: 1em; text-align: center; vertical-align: top\">15750</td>\n",
              "        <td style=\"padding-left: 1em; padding-right: 1em; text-align: center; vertical-align: top\">15750</td>\n",
              "    </tr>\n",
              "    <tr>\n",
              "        <td style=\"padding-left: 1em; padding-right: 1em; text-align: center; vertical-align: top\">0</td>\n",
              "        <td style=\"padding-left: 1em; padding-right: 1em; text-align: center; vertical-align: top\">1</td>\n",
              "        <td style=\"padding-left: 1em; padding-right: 1em; text-align: center; vertical-align: top\">80.7</td>\n",
              "        <td style=\"padding-left: 1em; padding-right: 1em; text-align: center; vertical-align: top\">19.7362</td>\n",
              "        <td style=\"padding-left: 1em; padding-right: 1em; text-align: center; vertical-align: top\">14.33</td>\n",
              "        <td style=\"padding-left: 1em; padding-right: 1em; text-align: center; vertical-align: top\">1632.01</td>\n",
              "        <td style=\"padding-left: 1em; padding-right: 1em; text-align: center; vertical-align: top\">35000</td>\n",
              "        <td style=\"padding-left: 1em; padding-right: 1em; text-align: center; vertical-align: top\">11500</td>\n",
              "        <td style=\"padding-left: 1em; padding-right: 1em; text-align: center; vertical-align: top\">11500</td>\n",
              "    </tr>\n",
              "</table>\n",
              "<table frame=\"box\" rules=\"cols\">\n",
              "    <tr>\n",
              "        <th style=\"padding-left: 1em; padding-right: 1em; text-align: center\">installment</th>\n",
              "        <th style=\"padding-left: 1em; padding-right: 1em; text-align: center\">predictions</th>\n",
              "    </tr>\n",
              "    <tr>\n",
              "        <td style=\"padding-left: 1em; padding-right: 1em; text-align: center; vertical-align: top\">419.22</td>\n",
              "        <td style=\"padding-left: 1em; padding-right: 1em; text-align: center; vertical-align: top\">0.13427510857582092</td>\n",
              "    </tr>\n",
              "    <tr>\n",
              "        <td style=\"padding-left: 1em; padding-right: 1em; text-align: center; vertical-align: top\">346.44</td>\n",
              "        <td style=\"padding-left: 1em; padding-right: 1em; text-align: center; vertical-align: top\">0.13427510857582092</td>\n",
              "    </tr>\n",
              "    <tr>\n",
              "        <td style=\"padding-left: 1em; padding-right: 1em; text-align: center; vertical-align: top\">334.54</td>\n",
              "        <td style=\"padding-left: 1em; padding-right: 1em; text-align: center; vertical-align: top\">0.13427510857582092</td>\n",
              "    </tr>\n",
              "    <tr>\n",
              "        <td style=\"padding-left: 1em; padding-right: 1em; text-align: center; vertical-align: top\">377.26</td>\n",
              "        <td style=\"padding-left: 1em; padding-right: 1em; text-align: center; vertical-align: top\">0.13427510857582092</td>\n",
              "    </tr>\n",
              "    <tr>\n",
              "        <td style=\"padding-left: 1em; padding-right: 1em; text-align: center; vertical-align: top\">394.89</td>\n",
              "        <td style=\"padding-left: 1em; padding-right: 1em; text-align: center; vertical-align: top\">0.13427510857582092</td>\n",
              "    </tr>\n",
              "</table>\n",
              "[5 rows x 26 columns]<br/>\n",
              "</div>"
            ],
            "text/plain": [
              "Columns:\n",
              "\tsafe_loans\tint\n",
              "\tgrade\tstr\n",
              "\tsub_grade_num\tfloat\n",
              "\tshort_emp\tint\n",
              "\temp_length_num\tint\n",
              "\thome_ownership\tstr\n",
              "\tdti\tfloat\n",
              "\tpurpose\tstr\n",
              "\tpayment_inc_ratio\tfloat\n",
              "\tdelinq_2yrs\tint\n",
              "\tdelinq_2yrs_zero\tint\n",
              "\tinq_last_6mths\tint\n",
              "\tlast_delinq_none\tint\n",
              "\tlast_major_derog_none\tint\n",
              "\topen_acc\tint\n",
              "\tpub_rec\tint\n",
              "\tpub_rec_zero\tint\n",
              "\trevol_util\tfloat\n",
              "\ttotal_rec_late_fee\tfloat\n",
              "\tint_rate\tfloat\n",
              "\ttotal_rec_int\tfloat\n",
              "\tannual_inc\tint\n",
              "\tfunded_amnt\tint\n",
              "\tfunded_amnt_inv\tint\n",
              "\tinstallment\tfloat\n",
              "\tpredictions\tfloat\n",
              "\n",
              "Rows: 5\n",
              "\n",
              "Data:\n",
              "+------------+-------+---------------+-----------+----------------+----------------+\n",
              "| safe_loans | grade | sub_grade_num | short_emp | emp_length_num | home_ownership |\n",
              "+------------+-------+---------------+-----------+----------------+----------------+\n",
              "|     -1     |   B   |      1.0      |     0     |       5        |      RENT      |\n",
              "|     -1     |   C   |      0.4      |     0     |       4        |      RENT      |\n",
              "|     -1     |   D   |      0.8      |     0     |       3        |      RENT      |\n",
              "|     -1     |   C   |      0.8      |     1     |       0        |    MORTGAGE    |\n",
              "|     -1     |   C   |      0.2      |     0     |       5        |      RENT      |\n",
              "+------------+-------+---------------+-----------+----------------+----------------+\n",
              "+-------+--------------------+-------------------+-------------+------------------+\n",
              "|  dti  |      purpose       | payment_inc_ratio | delinq_2yrs | delinq_2yrs_zero |\n",
              "+-------+--------------------+-------------------+-------------+------------------+\n",
              "| 29.42 | debt_consolidation |      14.3733      |      0      |        1         |\n",
              "|  8.4  |    credit_card     |      11.8779      |      0      |        1         |\n",
              "|  8.95 |   small_business   |       16.727      |      0      |        1         |\n",
              "| 17.37 |  home_improvement  |      12.5753      |      0      |        1         |\n",
              "| 30.17 | debt_consolidation |      13.5391      |      0      |        1         |\n",
              "+-------+--------------------+-------------------+-------------+------------------+\n",
              "+----------------+------------------+-----------------------+----------+---------+\n",
              "| inq_last_6mths | last_delinq_none | last_major_derog_none | open_acc | pub_rec |\n",
              "+----------------+------------------+-----------------------+----------+---------+\n",
              "|       0        |        0         |           1           |    14    |    0    |\n",
              "|       0        |        1         |           1           |    9     |    0    |\n",
              "|       2        |        1         |           1           |    7     |    0    |\n",
              "|       0        |        1         |           1           |    8     |    0    |\n",
              "|       1        |        1         |           1           |    7     |    0    |\n",
              "+----------------+------------------+-----------------------+----------+---------+\n",
              "+--------------+------------+--------------------+----------+-----+\n",
              "| pub_rec_zero | revol_util | total_rec_late_fee | int_rate | ... |\n",
              "+--------------+------------+--------------------+----------+-----+\n",
              "|      1       |    57.5    |      20.9132       |  14.09   | ... |\n",
              "|      1       |    60.0    |       34.64        |  15.31   | ... |\n",
              "|      1       |    41.6    |      16.7025       |   15.2   | ... |\n",
              "|      1       |    46.1    |       18.86        |  15.31   | ... |\n",
              "|      1       |    80.7    |      19.7362       |  14.33   | ... |\n",
              "+--------------+------------+--------------------+----------+-----+\n",
              "[5 rows x 26 columns]"
            ]
          },
          "metadata": {
            "tags": []
          },
          "execution_count": 25
        }
      ]
    },
    {
      "cell_type": "markdown",
      "metadata": {
        "id": "9J3oXWqzYTeM"
      },
      "source": [
        "**Checkpoint:** You should expect to see 5 loans with the grade ['**D**', '**C**', '**C**', '**C**', '**B**'] or with ['**D**', '**C**', '**B**', '**C**', '**C**']."
      ]
    },
    {
      "cell_type": "markdown",
      "metadata": {
        "id": "bPqYFifZYTeM"
      },
      "source": [
        "## Effect of adding more trees"
      ]
    },
    {
      "cell_type": "markdown",
      "metadata": {
        "id": "u4xOnYmIYTeN"
      },
      "source": [
        "In this assignment, we will train 5 different ensemble classifiers in the form of gradient boosted trees. We will train models with 10, 50, 100, 200, and 500 trees.  We use the **max_iterations** parameter in the boosted tree module. \n",
        "\n",
        "Let's get sarted with a model with **max_iterations = 10**:"
      ]
    },
    {
      "cell_type": "code",
      "metadata": {
        "id": "qsJrlftbYTeN"
      },
      "source": [
        "model_10 = turicreate.boosted_trees_classifier.create(train_data, validation_set=None, \n",
        "        target = target, features = features, max_iterations = 10, verbose=False)"
      ],
      "execution_count": 26,
      "outputs": []
    },
    {
      "cell_type": "markdown",
      "metadata": {
        "id": "RKyQJ6H8YTeO"
      },
      "source": [
        "Now, train 4 models with **max_iterations** to be:\n",
        "* `max_iterations = 50`, \n",
        "* `max_iterations = 100`\n",
        "* `max_iterations = 200`\n",
        "* `max_iterations = 500`. \n",
        "\n",
        "Let us call these models **model_50**, **model_100**, **model_200**, and **model_500**. You can pass in `verbose=False` in order to suppress the printed output.\n",
        "\n",
        "**Warning:** This could take a couple of minutes to run."
      ]
    },
    {
      "cell_type": "code",
      "metadata": {
        "id": "6CVvvKfmYTeO"
      },
      "source": [
        "model_50 = turicreate.boosted_trees_classifier.create(train_data, validation_set=None, \n",
        "        target = target, features = features, max_iterations = 50, verbose=False)\n",
        "\n",
        "model_100 = turicreate.boosted_trees_classifier.create(train_data, validation_set=None, \n",
        "        target = target, features = features, max_iterations = 100, verbose=False)\n",
        "\n",
        "model_200 = turicreate.boosted_trees_classifier.create(train_data, validation_set=None, \n",
        "        target = target, features = features, max_iterations = 200, verbose=False)\n",
        "\n",
        "model_500 = turicreate.boosted_trees_classifier.create(train_data, validation_set=None, \n",
        "        target = target, features = features, max_iterations = 500, verbose=False)"
      ],
      "execution_count": 27,
      "outputs": []
    },
    {
      "cell_type": "markdown",
      "metadata": {
        "id": "xyqL_Zl-YTeP"
      },
      "source": [
        "## Compare accuracy on entire validation set"
      ]
    },
    {
      "cell_type": "markdown",
      "metadata": {
        "id": "Ofd_ytqFYTeP"
      },
      "source": [
        "Now we will compare the predicitve accuracy of our models on the validation set. Evaluate the **accuracy** of the 10, 50, 100, 200, and 500 tree models on the **validation_data**. Use the `.evaluate` method."
      ]
    },
    {
      "cell_type": "code",
      "metadata": {
        "colab": {
          "base_uri": "https://localhost:8080/"
        },
        "id": "nuDIiOB1YTeQ",
        "outputId": "78eafa99-3d56-432f-e48f-a582ea6daa30"
      },
      "source": [
        "model_10.evaluate(validation_data)['accuracy']"
      ],
      "execution_count": 28,
      "outputs": [
        {
          "output_type": "execute_result",
          "data": {
            "text/plain": [
              "0.6727703576044808"
            ]
          },
          "metadata": {
            "tags": []
          },
          "execution_count": 28
        }
      ]
    },
    {
      "cell_type": "code",
      "metadata": {
        "colab": {
          "base_uri": "https://localhost:8080/"
        },
        "id": "QnYRyFoIk812",
        "outputId": "76fe83fe-e5d6-4ff0-a9e6-0ba0a0602510"
      },
      "source": [
        "model_50.evaluate(validation_data)['accuracy']"
      ],
      "execution_count": 29,
      "outputs": [
        {
          "output_type": "execute_result",
          "data": {
            "text/plain": [
              "0.6907582938388626"
            ]
          },
          "metadata": {
            "tags": []
          },
          "execution_count": 29
        }
      ]
    },
    {
      "cell_type": "code",
      "metadata": {
        "colab": {
          "base_uri": "https://localhost:8080/"
        },
        "id": "TJeJg8Yck-x5",
        "outputId": "8be20c31-3a7b-44cd-ca1c-51d1eac1a4be"
      },
      "source": [
        "model_100.evaluate(validation_data)['accuracy']"
      ],
      "execution_count": 30,
      "outputs": [
        {
          "output_type": "execute_result",
          "data": {
            "text/plain": [
              "0.6917277035760449"
            ]
          },
          "metadata": {
            "tags": []
          },
          "execution_count": 30
        }
      ]
    },
    {
      "cell_type": "code",
      "metadata": {
        "colab": {
          "base_uri": "https://localhost:8080/"
        },
        "id": "BefZToJ9k-eH",
        "outputId": "63a25c97-378f-4cb5-db9a-1140945f3335"
      },
      "source": [
        "model_200.evaluate(validation_data)['accuracy']"
      ],
      "execution_count": 31,
      "outputs": [
        {
          "output_type": "execute_result",
          "data": {
            "text/plain": [
              "0.684510986643688"
            ]
          },
          "metadata": {
            "tags": []
          },
          "execution_count": 31
        }
      ]
    },
    {
      "cell_type": "code",
      "metadata": {
        "colab": {
          "base_uri": "https://localhost:8080/"
        },
        "id": "5CbcptjYk_mw",
        "outputId": "67fb3bf0-615e-4e74-8ea6-e1836a8da19d"
      },
      "source": [
        "model_500.evaluate(validation_data)['accuracy']"
      ],
      "execution_count": 32,
      "outputs": [
        {
          "output_type": "execute_result",
          "data": {
            "text/plain": [
              "0.6718009478672986"
            ]
          },
          "metadata": {
            "tags": []
          },
          "execution_count": 32
        }
      ]
    },
    {
      "cell_type": "markdown",
      "metadata": {
        "id": "LPJ3VrTkYTeQ"
      },
      "source": [
        "**Quiz Question:** Which model has the **best** accuracy on the **validation_data**?\n",
        "\n",
        "**Quiz Question:** Is it always true that the model with the most trees will perform best on test data?"
      ]
    },
    {
      "cell_type": "markdown",
      "metadata": {
        "id": "meRiC_VDYTeR"
      },
      "source": [
        "## Plot the training and validation error vs. number of trees"
      ]
    },
    {
      "cell_type": "markdown",
      "metadata": {
        "id": "ltwFYW8YYTeR"
      },
      "source": [
        "Recall from the lecture that the classification error is defined as\n",
        "\n",
        "$$\n",
        "\\mbox{classification error} = 1 - \\mbox{accuracy} \n",
        "$$\n",
        "\n",
        "In this section, we will plot the **training and validation errors versus the number of trees** to get a sense of how these models are performing. We will compare the 10, 50, 100, 200, and 500 tree models. You will need [matplotlib](http://matplotlib.org/downloads.html) in order to visualize the plots. \n",
        "\n",
        "First, make sure this block of code runs on your computer."
      ]
    },
    {
      "cell_type": "code",
      "metadata": {
        "collapsed": true,
        "id": "xNpd5IshYTeS"
      },
      "source": [
        "import matplotlib.pyplot as plt\n",
        "%matplotlib inline\n",
        "def make_figure(dim, title, xlabel, ylabel, legend):\n",
        "    plt.rcParams['figure.figsize'] = dim\n",
        "    plt.title(title)\n",
        "    plt.xlabel(xlabel)\n",
        "    plt.ylabel(ylabel)\n",
        "    if legend is not None:\n",
        "        plt.legend(loc=legend, prop={'size':15})\n",
        "    plt.rcParams.update({'font.size': 16})\n",
        "    plt.tight_layout()"
      ],
      "execution_count": 33,
      "outputs": []
    },
    {
      "cell_type": "markdown",
      "metadata": {
        "id": "9-HIZ2c2YTeS"
      },
      "source": [
        "In order to plot the classification errors (on the **train_data** and **validation_data**) versus the number of trees, we will need lists of these accuracies, which we get by applying the method `.evaluate`. \n",
        "\n",
        "**Steps to follow:**\n",
        "\n",
        "* **Step 1:** Calculate the classification error for model on the training data (**train_data**).\n",
        "* **Step 2:** Store the training errors into a list (called `training_errors`) that looks like this:\n",
        "```\n",
        "[train_err_10, train_err_50, ..., train_err_500]\n",
        "```\n",
        "* **Step 3:** Calculate the classification error of each model on the validation data (**validation_data**).\n",
        "* **Step 4:** Store the validation classification error into a list (called `validation_errors`) that looks like this:\n",
        "```\n",
        "[validation_err_10, validation_err_50, ..., validation_err_500]\n",
        "```\n",
        "Once that has been completed, the rest of the code should be able to evaluate correctly and generate the plot.\n",
        "\n",
        "\n",
        "Let us start with **Step 1**. Write code to compute the classification error on the **train_data** for models **model_10**, **model_50**, **model_100**, **model_200**, and **model_500**."
      ]
    },
    {
      "cell_type": "code",
      "metadata": {
        "id": "wia4-FdRYTeT"
      },
      "source": [
        "def get_classification_error(model, data):\n",
        "  predictions = model.predict(data)\n",
        "  evaluations = predictions * data['safe_loans']\n",
        "  mistakes_num = 0\n",
        "  for e in evaluations:\n",
        "    if e == -1:\n",
        "      mistakes_num += 1\n",
        "  return mistakes_num / len(data)"
      ],
      "execution_count": 34,
      "outputs": []
    },
    {
      "cell_type": "code",
      "metadata": {
        "id": "v8JO-ZOimkC4"
      },
      "source": [
        "train_err_10   = get_classification_error(model_10, train_data)\n",
        "train_err_50   = get_classification_error(model_50, train_data)\n",
        "train_err_100  = get_classification_error(model_100, train_data)\n",
        "train_err_200  = get_classification_error(model_200, train_data)\n",
        "train_err_500  = get_classification_error(model_500, train_data)"
      ],
      "execution_count": 35,
      "outputs": []
    },
    {
      "cell_type": "markdown",
      "metadata": {
        "id": "PEL9SCB6YTeT"
      },
      "source": [
        "Now, let us run **Step 2**. Save the training errors into a list called **training_errors**"
      ]
    },
    {
      "cell_type": "code",
      "metadata": {
        "collapsed": true,
        "colab": {
          "base_uri": "https://localhost:8080/"
        },
        "id": "GDTVfCR8YTeT",
        "outputId": "2377ab0f-2a03-4c01-aa61-8d1542857a82"
      },
      "source": [
        "training_errors = [train_err_10, train_err_50, train_err_100, \n",
        "                   train_err_200, train_err_500]\n",
        "training_errors"
      ],
      "execution_count": 36,
      "outputs": [
        {
          "output_type": "execute_result",
          "data": {
            "text/plain": [
              "[0.3117493753190575,\n",
              " 0.24605712136274482,\n",
              " 0.20043526155995595,\n",
              " 0.1364356914479164,\n",
              " 0.03823316048254924]"
            ]
          },
          "metadata": {
            "tags": []
          },
          "execution_count": 36
        }
      ]
    },
    {
      "cell_type": "markdown",
      "metadata": {
        "id": "RR_1qAqTYTeU"
      },
      "source": [
        "Now, onto **Step 3**. Write code to compute the classification error on the **validation_data** for models **model_10**, **model_50**, **model_100**, **model_200**, and **model_500**."
      ]
    },
    {
      "cell_type": "code",
      "metadata": {
        "collapsed": true,
        "id": "hvXEWrEIYTeU"
      },
      "source": [
        "validation_err_10   = get_classification_error(model_10, validation_data)\n",
        "validation_err_50   = get_classification_error(model_50, validation_data)\n",
        "validation_err_100  = get_classification_error(model_100, validation_data)\n",
        "validation_err_200  = get_classification_error(model_200, validation_data)\n",
        "validation_err_500  = get_classification_error(model_500, validation_data)"
      ],
      "execution_count": 37,
      "outputs": []
    },
    {
      "cell_type": "markdown",
      "metadata": {
        "id": "vRr9mplKYTeV"
      },
      "source": [
        "Now, let us run **Step 4**. Save the training errors into a list called **validation_errors**"
      ]
    },
    {
      "cell_type": "code",
      "metadata": {
        "colab": {
          "base_uri": "https://localhost:8080/"
        },
        "id": "TWSrrMwFYTeV",
        "outputId": "cea5994f-ae37-47ea-85c7-e6225b918ae4"
      },
      "source": [
        "validation_errors = [validation_err_10, validation_err_50, validation_err_100, \n",
        "                     validation_err_200, validation_err_500]\n",
        "validation_errors"
      ],
      "execution_count": 38,
      "outputs": [
        {
          "output_type": "execute_result",
          "data": {
            "text/plain": [
              "[0.32722964239551916,\n",
              " 0.30924170616113744,\n",
              " 0.3082722964239552,\n",
              " 0.3154890133563119,\n",
              " 0.3281990521327014]"
            ]
          },
          "metadata": {
            "tags": []
          },
          "execution_count": 38
        }
      ]
    },
    {
      "cell_type": "markdown",
      "metadata": {
        "id": "O522Mx6yYTeW"
      },
      "source": [
        "Now, we will plot the **training_errors** and **validation_errors** versus the number of trees. We will compare the 10, 50, 100, 200, and 500 tree models. We provide some plotting code to visualize the plots within this notebook. \n",
        "\n",
        "Run the following code to visualize the plots."
      ]
    },
    {
      "cell_type": "code",
      "metadata": {
        "colab": {
          "base_uri": "https://localhost:8080/",
          "height": 284
        },
        "id": "_uLBjPGNYTeX",
        "outputId": "1a81b7b2-2b6d-437d-a17f-4825c2898873"
      },
      "source": [
        "plt.plot([10, 50, 100, 200, 500], training_errors, linewidth=4.0, label='Training error')\n",
        "plt.plot([10, 50, 100, 200, 500], validation_errors, linewidth=4.0, label='Validation error')\n",
        "\n",
        "make_figure(dim=(10,5), title='Error vs number of trees',\n",
        "            xlabel='Number of trees',\n",
        "            ylabel='Classification error',\n",
        "            legend='best')"
      ],
      "execution_count": 39,
      "outputs": [
        {
          "output_type": "display_data",
          "data": {
            "image/png": "[encoded data removed]",
            "text/plain": [
              "<Figure size 432x288 with 1 Axes>"
            ]
          },
          "metadata": {
            "tags": [],
            "needs_background": "light"
          }
        }
      ]
    },
    {
      "cell_type": "markdown",
      "metadata": {
        "id": "o5GtjqZyYTeX"
      },
      "source": [
        "**Quiz Question**: Does the training error reduce as the number of trees increases?\n",
        "\n",
        "**Quiz Question**: Is it always true that the validation error will reduce as the number of trees increases?"
      ]
    },
    {
      "cell_type": "code",
      "metadata": {
        "collapsed": true,
        "colab": {
          "base_uri": "https://localhost:8080/"
        },
        "id": "cFHVNzg6YTeY",
        "outputId": "14688e3c-465a-447b-89e5-475e517a7b69"
      },
      "source": [
        "True"
      ],
      "execution_count": 40,
      "outputs": [
        {
          "output_type": "execute_result",
          "data": {
            "text/plain": [
              "True"
            ]
          },
          "metadata": {
            "tags": []
          },
          "execution_count": 40
        }
      ]
    },
    {
      "cell_type": "code",
      "metadata": {
        "colab": {
          "base_uri": "https://localhost:8080/"
        },
        "id": "9o0m-kfafeJU",
        "outputId": "786af8e4-26c8-4267-8cf6-2f4ec0ac2bd6"
      },
      "source": [
        "False"
      ],
      "execution_count": 41,
      "outputs": [
        {
          "output_type": "execute_result",
          "data": {
            "text/plain": [
              "False"
            ]
          },
          "metadata": {
            "tags": []
          },
          "execution_count": 41
        }
      ]
    },
    {
      "cell_type": "code",
      "metadata": {
        "id": "lZgAKur8nxuA"
      },
      "source": [
        ""
      ],
      "execution_count": 41,
      "outputs": []
    }
  ]
}