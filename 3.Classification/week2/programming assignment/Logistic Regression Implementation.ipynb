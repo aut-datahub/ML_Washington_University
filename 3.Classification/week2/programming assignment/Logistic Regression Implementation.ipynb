{
  "cells":[
    {
      "cell_type":"markdown",
      "source":[
        "# Implementing logistic regression from scratch\n",
        "\n",
        "The goal of this notebook is to implement your own logistic regression classifier. You will:\n",
        "\n",
        " * Extract features from Amazon product reviews.\n",
        " * Convert an SFrame into a NumPy array.\n",
        " * Implement the link function for logistic regression.\n",
        " * Write a function to compute the derivative of the log likelihood function with respect to a single coefficient.\n",
        " * Implement gradient ascent.\n",
        " * Given a set of coefficients, predict sentiments.\n",
        " * Compute classification accuracy for the logistic regression model.\n",
        " \n",
        "Let's get started!\n",
        "    \n",
        "## Fire up Turi Create\n",
        "\n",
        "Make sure you have the latest version of Turi Create."
      ],
      "attachments":{
        
      },
      "metadata":{
        
      }
    },
    {
      "cell_type":"code",
      "source":[
        "import turicreate"
      ],
      "execution_count":1,
      "outputs":[
        
      ],
      "metadata":{
        
      }
    },
    {
      "cell_type":"markdown",
      "source":[
        "## Load review dataset"
      ],
      "attachments":{
        
      },
      "metadata":{
        
      }
    },
    {
      "cell_type":"markdown",
      "source":[
        "For this assignment, we will use a subset of the Amazon product review dataset. The subset was chosen to contain similar numbers of positive and negative reviews, as the original dataset consisted primarily of positive reviews."
      ],
      "attachments":{
        
      },
      "metadata":{
        
      }
    },
    {
      "cell_type":"code",
      "source":[
        "products = turicreate.SFrame('\/data\/workspace_files\/amazon_baby_subset.sframe\/')\n",
        "products"
      ],
      "execution_count":2,
      "outputs":[
        
      ],
      "metadata":{
        
      }
    },
    {
      "cell_type":"markdown",
      "source":[
        "One column of this dataset is 'sentiment', corresponding to the class label with +1 indicating a review with positive sentiment and -1 indicating one with negative sentiment."
      ],
      "attachments":{
        
      },
      "metadata":{
        
      }
    },
    {
      "cell_type":"code",
      "source":[
        "products['sentiment']"
      ],
      "execution_count":3,
      "outputs":[
        
      ],
      "metadata":{
        
      }
    },
    {
      "cell_type":"markdown",
      "source":[
        "Let us quickly explore more of this dataset.  The 'name' column indicates the name of the product.  Here we list the first 10 products in the dataset.  We then count the number of positive and negative reviews."
      ],
      "attachments":{
        
      },
      "metadata":{
        
      }
    },
    {
      "cell_type":"code",
      "source":[
        "products.head(10)['name']"
      ],
      "execution_count":4,
      "outputs":[
        
      ],
      "metadata":{
        
      }
    },
    {
      "cell_type":"code",
      "source":[
        "print('# of positive reviews =', len(products[products['sentiment']==1]))\n",
        "print('# of negative reviews =', len(products[products['sentiment']==-1]))"
      ],
      "execution_count":5,
      "outputs":[
        
      ],
      "metadata":{
        
      }
    },
    {
      "cell_type":"markdown",
      "source":[
        "**Note:** For this assignment, we eliminated class imbalance by choosing \n",
        "a subset of the data with a similar number of positive and negative reviews. \n",
        "\n",
        "## Apply text cleaning on the review data\n",
        "\n",
        "In this section, we will perform some simple feature cleaning using **SFrames**. The last assignment used all words in building bag-of-words features, but here we limit ourselves to 193 words (for simplicity). We compiled a list of 193 most frequent words into a JSON file. \n",
        "\n",
        "Now, we will load these words from this JSON file:"
      ],
      "attachments":{
        
      },
      "metadata":{
        
      }
    },
    {
      "cell_type":"code",
      "source":[
        "import json\n",
        "with open('\/data\/workspace_files\/important_words.json', 'r') as f: # Reads the list of most frequent words\n",
        "    important_words = json.load(f)\n",
        "important_words = [str(s) for s in important_words]"
      ],
      "execution_count":6,
      "outputs":[
        
      ],
      "metadata":{
        
      }
    },
    {
      "cell_type":"code",
      "source":[
        "print(important_words)"
      ],
      "execution_count":7,
      "outputs":[
        
      ],
      "metadata":{
        
      }
    },
    {
      "cell_type":"markdown",
      "source":[
        "Now, we will perform 2 simple data transformations:\n",
        "\n",
        "1. Remove punctuation using [Python's built-in](https:\/\/docs.python.org\/2\/library\/string.html) string functionality.\n",
        "2. Compute word counts (only for **important_words**)\n",
        "\n",
        "We start with *Step 1* which can be done as follows:"
      ],
      "attachments":{
        
      },
      "metadata":{
        
      }
    },
    {
      "cell_type":"code",
      "source":[
        "import string \n",
        "def remove_punctuation(text):\n",
        "    try: # python 2.x\n",
        "        text = text.translate(None, string.punctuation) \n",
        "    except: # python 3.x\n",
        "        translator = text.maketrans('', '', string.punctuation)\n",
        "        text = text.translate(translator)\n",
        "    return text\n",
        "\n",
        "products['review_clean'] = products['review'].apply(remove_punctuation)"
      ],
      "execution_count":8,
      "outputs":[
        
      ],
      "metadata":{
        
      }
    },
    {
      "cell_type":"markdown",
      "source":[
        "Now we proceed with *Step 2*. For each word in **important_words**, we compute a count for the number of times the word occurs in the review. We will store this count in a separate column (one for each word). The result of this feature processing is a single column for each word in **important_words** which keeps a count of the number of times the respective word occurs in the review text.\n",
        "\n",
        "\n",
        "**Note:** There are several ways of doing this. In this assignment, we use the built-in *count* function for Python lists. Each review string is first split into individual words and the number of occurances of a given word is counted."
      ],
      "attachments":{
        
      },
      "metadata":{
        
      }
    },
    {
      "cell_type":"code",
      "source":[
        "for word in important_words:\n",
        "    products[word] = products['review_clean'].apply(lambda s : s.split().count(word))"
      ],
      "execution_count":9,
      "outputs":[
        
      ],
      "metadata":{
        
      }
    },
    {
      "cell_type":"markdown",
      "source":[
        "The SFrame **products** now contains one column for each of the 193 **important_words**. As an example, the column **perfect** contains a count of the number of times the word **perfect** occurs in each of the reviews."
      ],
      "attachments":{
        
      },
      "metadata":{
        
      }
    },
    {
      "cell_type":"code",
      "source":[
        "products['perfect']"
      ],
      "execution_count":10,
      "outputs":[
        
      ],
      "metadata":{
        
      }
    },
    {
      "cell_type":"markdown",
      "source":[
        "Now, write some code to compute the number of product reviews that contain the word **perfect**.\n",
        "\n",
        "**Hint**: \n",
        "* First create a column called `contains_perfect` which is set to 1 if the count of the word **perfect** (stored in column **perfect**) is >= 1.\n",
        "* Sum the number of 1s in the column `contains_perfect`."
      ],
      "attachments":{
        
      },
      "metadata":{
        
      }
    },
    {
      "cell_type":"code",
      "source":[
        "products['contains_perfect'] = products['perfect'].apply(lambda c : 1 if c > 0 else 0)\n",
        "contains_perfect_num = products['contains_perfect'].sum()"
      ],
      "execution_count":11,
      "outputs":[
        
      ],
      "metadata":{
        
      }
    },
    {
      "cell_type":"markdown",
      "source":[
        "**Quiz Question**. How many reviews contain the word **perfect**?"
      ],
      "attachments":{
        
      },
      "metadata":{
        
      }
    },
    {
      "cell_type":"code",
      "source":[
        "contains_perfect_num"
      ],
      "execution_count":12,
      "outputs":[
        
      ],
      "metadata":{
        
      }
    },
    {
      "cell_type":"markdown",
      "source":[
        "## Convert SFrame to NumPy array\n",
        "\n",
        "As you have seen previously, NumPy is a powerful library for doing matrix manipulation. Let us convert our data to matrices and then implement our algorithms with matrices.\n",
        "\n",
        "First, make sure you can perform the following import. If it doesn't work, you need to go back to the terminal and run\n",
        "\n",
        "`pip install numpy`."
      ],
      "attachments":{
        
      },
      "metadata":{
        
      }
    },
    {
      "cell_type":"code",
      "source":[
        "import numpy as np"
      ],
      "execution_count":13,
      "outputs":[
        
      ],
      "metadata":{
        
      }
    },
    {
      "cell_type":"markdown",
      "source":[
        "We now provide you with a function that extracts columns from an SFrame and converts them into a NumPy array. Two arrays are returned: one representing features and another representing class labels. Note that the feature matrix includes an additional column 'intercept' to take account of the intercept term."
      ],
      "attachments":{
        
      },
      "metadata":{
        
      }
    },
    {
      "cell_type":"code",
      "source":[
        "def get_numpy_data(data_sframe, features, label):\n",
        "    data_sframe['intercept'] = 1\n",
        "    features = ['intercept'] + features\n",
        "\n",
        "    features_sframe = data_sframe[features]\n",
        "    feature_matrix = features_sframe.to_numpy()\n",
        "\n",
        "    label_sarray = data_sframe[label]\n",
        "    label_array = label_sarray.to_numpy()\n",
        "\n",
        "    return feature_matrix, label_array"
      ],
      "execution_count":14,
      "outputs":[
        
      ],
      "metadata":{
        
      }
    },
    {
      "cell_type":"markdown",
      "source":[
        "Let us convert the data into NumPy arrays."
      ],
      "attachments":{
        
      },
      "metadata":{
        
      }
    },
    {
      "cell_type":"code",
      "source":[
        "# Warning: This may take a few minutes...\n",
        "# feature_matrix, sentiment = get_numpy_data(products, important_words, 'sentiment') "
      ],
      "execution_count":15,
      "outputs":[
        
      ],
      "metadata":{
        
      }
    },
    {
      "cell_type":"markdown",
      "source":[
        "**Are you running this notebook on an Amazon EC2 t2.micro instance?** (If you are using your own machine, please skip this section)\n",
        "\n",
        "It has been reported that t2.micro instances do not provide sufficient power to complete the conversion in acceptable amount of time. For interest of time, please refrain from running `get_numpy_data` function. Instead, download the [binary file](https:\/\/s3.amazonaws.com\/static.dato.com\/files\/coursera\/course-3\/numpy-arrays\/module-3-assignment-numpy-arrays.npz) containing the four NumPy arrays you'll need for the assignment. To load the arrays, run the following commands:\n",
        "```\n",
        "arrays = np.load('module-3-assignment-numpy-arrays.npz')\n",
        "feature_matrix, sentiment = arrays['feature_matrix'], arrays['sentiment']\n",
        "```"
      ],
      "attachments":{
        
      },
      "metadata":{
        
      }
    },
    {
      "cell_type":"code",
      "source":[
        "arrays = np.load('\/data\/workspace_files\/module-3-assignment-numpy-arrays.npz')\n",
        "feature_matrix, sentiment = arrays['feature_matrix'], arrays['sentiment']"
      ],
      "execution_count":16,
      "outputs":[
        
      ],
      "metadata":{
        
      }
    },
    {
      "cell_type":"code",
      "source":[
        "feature_matrix.shape"
      ],
      "execution_count":17,
      "outputs":[
        
      ],
      "metadata":{
        
      }
    },
    {
      "cell_type":"markdown",
      "source":[
        "**Quiz Question:** How many features are there in the **feature_matrix**?\n",
        "\n",
        "**Quiz Question:** Assuming that the intercept is present, how does the number of features in **feature_matrix** relate to the number of features in the logistic regression model?"
      ],
      "attachments":{
        
      },
      "metadata":{
        
      }
    },
    {
      "cell_type":"markdown",
      "source":[
        "Now, let us see what the **sentiment** column looks like:"
      ],
      "attachments":{
        
      },
      "metadata":{
        
      }
    },
    {
      "cell_type":"code",
      "source":[
        "sentiment"
      ],
      "execution_count":18,
      "outputs":[
        
      ],
      "metadata":{
        
      }
    },
    {
      "cell_type":"markdown",
      "source":[
        "## Estimating conditional probability with link function"
      ],
      "attachments":{
        
      },
      "metadata":{
        
      }
    },
    {
      "cell_type":"markdown",
      "source":[
        "Recall from lecture that the link function is given by:\n",
        "$$\n",
        "P(y_i = +1 | \\mathbf{x}_i,\\mathbf{w}) = \\frac{1}{1 + \\exp(-\\mathbf{w}^T h(\\mathbf{x}_i))},\n",
        "$$\n",
        "\n",
        "where the feature vector $h(\\mathbf{x}_i)$ represents the word counts of **important_words** in the review  $\\mathbf{x}_i$. Complete the following function that implements the link function:"
      ],
      "attachments":{
        
      },
      "metadata":{
        
      }
    },
    {
      "cell_type":"code",
      "source":[
        "'''\n",
        "produces probablistic estimate for P(y_i = +1 | x_i, w).\n",
        "estimate ranges between 0 and 1.\n",
        "'''\n",
        "\n",
        "\n",
        "def predict_probability(feature_matrix, coefficients):\n",
        "    # Take dot product of feature_matrix and coefficients  \n",
        "    # Compute P(y_i = +1 | x_i, w) using the link function\n",
        "    predictions = 1. \/ (1 + np.exp(-1 * np.dot(feature_matrix, coefficients)))\n",
        "\n",
        "    # return predictions\n",
        "    return predictions"
      ],
      "execution_count":19,
      "outputs":[
        
      ],
      "metadata":{
        
      }
    },
    {
      "cell_type":"markdown",
      "source":[
        "**Aside**. How the link function works with matrix algebra\n",
        "\n",
        "Since the word counts are stored as columns in **feature_matrix**, each $i$-th row of the matrix corresponds to the feature vector $h(\\mathbf{x}_i)$:\n",
        "$$\n",
        "[\\text{feature_matrix}] =\n",
        "\\left[\n",
        "\\begin{array}{c}\n",
        "h(\\mathbf{x}_1)^T \\\\\n",
        "h(\\mathbf{x}_2)^T \\\\\n",
        "\\vdots \\\\\n",
        "h(\\mathbf{x}_N)^T\n",
        "\\end{array}\n",
        "\\right] =\n",
        "\\left[\n",
        "\\begin{array}{cccc}\n",
        "h_0(\\mathbf{x}_1) & h_1(\\mathbf{x}_1) & \\cdots & h_D(\\mathbf{x}_1) \\\\\n",
        "h_0(\\mathbf{x}_2) & h_1(\\mathbf{x}_2) & \\cdots & h_D(\\mathbf{x}_2) \\\\\n",
        "\\vdots & \\vdots & \\ddots & \\vdots \\\\\n",
        "h_0(\\mathbf{x}_N) & h_1(\\mathbf{x}_N) & \\cdots & h_D(\\mathbf{x}_N)\n",
        "\\end{array}\n",
        "\\right]\n",
        "$$\n",
        "\n",
        "By the rules of matrix multiplication, the score vector containing elements $\\mathbf{w}^T h(\\mathbf{x}_i)$ is obtained by multiplying **feature_matrix** and the coefficient vector $\\mathbf{w}$.\n",
        "$$\n",
        "[\\text{score}] =\n",
        "[\\text{feature_matrix}]\\mathbf{w} =\n",
        "\\left[\n",
        "\\begin{array}{c}\n",
        "h(\\mathbf{x}_1)^T \\\\\n",
        "h(\\mathbf{x}_2)^T \\\\\n",
        "\\vdots \\\\\n",
        "h(\\mathbf{x}_N)^T\n",
        "\\end{array}\n",
        "\\right]\n",
        "\\mathbf{w}\n",
        "= \\left[\n",
        "\\begin{array}{c}\n",
        "h(\\mathbf{x}_1)^T\\mathbf{w} \\\\\n",
        "h(\\mathbf{x}_2)^T\\mathbf{w} \\\\\n",
        "\\vdots \\\\\n",
        "h(\\mathbf{x}_N)^T\\mathbf{w}\n",
        "\\end{array}\n",
        "\\right]\n",
        "= \\left[\n",
        "\\begin{array}{c}\n",
        "\\mathbf{w}^T h(\\mathbf{x}_1) \\\\\n",
        "\\mathbf{w}^T h(\\mathbf{x}_2) \\\\\n",
        "\\vdots \\\\\n",
        "\\mathbf{w}^T h(\\mathbf{x}_N)\n",
        "\\end{array}\n",
        "\\right]\n",
        "$$"
      ],
      "attachments":{
        
      },
      "metadata":{
        
      }
    },
    {
      "cell_type":"markdown",
      "source":[
        "**Checkpoint**\n",
        "\n",
        "Just to make sure you are on the right track, we have provided a few examples. If your `predict_probability` function is implemented correctly, then the outputs will match:"
      ],
      "attachments":{
        
      },
      "metadata":{
        
      }
    },
    {
      "cell_type":"code",
      "source":[
        "dummy_feature_matrix = np.array([[1.,2.,3.], [1.,-1.,-1]])\n",
        "dummy_coefficients = np.array([1., 3., -1.])\n",
        "\n",
        "correct_scores      = np.array( [ 1.*1. + 2.*3. + 3.*(-1.),          1.*1. + (-1.)*3. + (-1.)*(-1.) ] )\n",
        "correct_predictions = np.array( [ 1.\/(1+np.exp(-correct_scores[0])), 1.\/(1+np.exp(-correct_scores[1])) ] )\n",
        "\n",
        "print('The following outputs must match ')\n",
        "print('------------------------------------------------')\n",
        "print('correct_predictions           =', correct_predictions)\n",
        "print('output of predict_probability =', predict_probability(dummy_feature_matrix, dummy_coefficients))"
      ],
      "execution_count":20,
      "outputs":[
        
      ],
      "metadata":{
        
      }
    },
    {
      "cell_type":"markdown",
      "source":[
        "## Compute derivative of log likelihood with respect to a single coefficient\n",
        "\n",
        "Recall from lecture:\n",
        "$$\n",
        "\\frac{\\partial\\ell}{\\partial w_j} = \\sum_{i=1}^N h_j(\\mathbf{x}_i)\\left(\\mathbf{1}[y_i = +1] - P(y_i = +1 | \\mathbf{x}_i, \\mathbf{w})\\right)\n",
        "$$\n",
        "\n",
        "We will now write a function that computes the derivative of log likelihood with respect to a single coefficient $w_j$. The function accepts two arguments:\n",
        "* `errors` vector containing $\\mathbf{1}[y_i = +1] - P(y_i = +1 | \\mathbf{x}_i, \\mathbf{w})$ for all $i$.\n",
        "* `feature` vector containing $h_j(\\mathbf{x}_i)$  for all $i$. \n",
        "\n",
        "Complete the following code block:"
      ],
      "attachments":{
        
      },
      "metadata":{
        
      }
    },
    {
      "cell_type":"code",
      "source":[
        "def feature_derivative(errors, feature):     \n",
        "    # Compute the dot product of errors and feature\n",
        "    derivative = np.dot(errors,feature)\n",
        "    \n",
        "    # Return the derivative\n",
        "    return derivative"
      ],
      "execution_count":21,
      "outputs":[
        
      ],
      "metadata":{
        
      }
    },
    {
      "cell_type":"markdown",
      "source":[
        "In the main lecture, our focus was on the likelihood.  In the advanced optional video, however, we introduced a transformation of this likelihood---called the log likelihood---that simplifies the derivation of the gradient and is more numerically stable.  Due to its numerical stability, we will use the log likelihood instead of the likelihood to assess the algorithm.\n",
        "\n",
        "The log likelihood is computed using the following formula (see the advanced optional video if you are curious about the derivation of this equation):\n",
        "\n",
        "$$\\ell\\ell(\\mathbf{w}) = \\sum_{i=1}^N \\Big( (\\mathbf{1}[y_i = +1] - 1)\\mathbf{w}^T h(\\mathbf{x}_i) - \\ln\\left(1 + \\exp(-\\mathbf{w}^T h(\\mathbf{x}_i))\\right) \\Big) $$\n",
        "\n",
        "We provide a function to compute the log likelihood for the entire dataset. "
      ],
      "attachments":{
        
      },
      "metadata":{
        
      }
    },
    {
      "cell_type":"code",
      "source":[
        "def compute_log_likelihood(feature_matrix, sentiment, coefficients):\n",
        "    indicator = (sentiment==+1)\n",
        "    scores = np.dot(feature_matrix, coefficients)\n",
        "    logexp = np.log(1. + np.exp(-scores))\n",
        "    \n",
        "    # Simple check to prevent overflow\n",
        "    mask = np.isinf(logexp)\n",
        "    logexp[mask] = -scores[mask]\n",
        "    \n",
        "    lp = np.sum((indicator-1)*scores - logexp)\n",
        "    return lp"
      ],
      "execution_count":22,
      "outputs":[
        
      ],
      "metadata":{
        
      }
    },
    {
      "cell_type":"markdown",
      "source":[
        "**Checkpoint**\n",
        "\n",
        "Just to make sure we are on the same page, run the following code block and check that the outputs match."
      ],
      "attachments":{
        
      },
      "metadata":{
        
      }
    },
    {
      "cell_type":"code",
      "source":[
        "dummy_feature_matrix = np.array([[1.,2.,3.], [1.,-1.,-1]])\n",
        "dummy_coefficients = np.array([1., 3., -1.])\n",
        "dummy_sentiment = np.array([-1, 1])\n",
        "\n",
        "correct_indicators  = np.array( [ -1==+1,                                       1==+1 ] )\n",
        "correct_scores      = np.array( [ 1.*1. + 2.*3. + 3.*(-1.),                     1.*1. + (-1.)*3. + (-1.)*(-1.) ] )\n",
        "correct_first_term  = np.array( [ (correct_indicators[0]-1)*correct_scores[0],  (correct_indicators[1]-1)*correct_scores[1] ] )\n",
        "correct_second_term = np.array( [ np.log(1. + np.exp(-correct_scores[0])),      np.log(1. + np.exp(-correct_scores[1])) ] )\n",
        "\n",
        "correct_ll          =      sum( [ correct_first_term[0]-correct_second_term[0], correct_first_term[1]-correct_second_term[1] ] ) \n",
        "\n",
        "print('The following outputs must match ')\n",
        "print('------------------------------------------------')\n",
        "print('correct_log_likelihood           =', correct_ll)\n",
        "print('output of compute_log_likelihood =', compute_log_likelihood(dummy_feature_matrix, dummy_sentiment, dummy_coefficients))"
      ],
      "execution_count":23,
      "outputs":[
        
      ],
      "metadata":{
        
      }
    },
    {
      "cell_type":"markdown",
      "source":[
        "## Taking gradient steps"
      ],
      "attachments":{
        
      },
      "metadata":{
        
      }
    },
    {
      "cell_type":"markdown",
      "source":[
        "Now we are ready to implement our own logistic regression. All we have to do is to write a gradient ascent function that takes gradient steps towards the optimum. \n",
        "\n",
        "Complete the following function to solve the logistic regression model using gradient ascent:"
      ],
      "attachments":{
        
      },
      "metadata":{
        
      }
    },
    {
      "cell_type":"code",
      "source":[
        "from math import sqrt\n",
        "\n",
        "def logistic_regression(feature_matrix, sentiment, initial_coefficients, step_size, max_iter):\n",
        "    coefficients = np.array(initial_coefficients) # make sure it's a numpy array\n",
        "    for itr in range(max_iter):\n",
        "\n",
        "        # Predict P(y_i = +1|x_i,w) using your predict_probability() function\n",
        "        predictions = predict_probability(feature_matrix,coefficients)\n",
        "        \n",
        "        # Compute indicator value for (y_i = +1)\n",
        "        indicator = (sentiment==+1)\n",
        "        \n",
        "        # Compute the errors as indicator - predictions\n",
        "        errors = indicator - predictions\n",
        "        for j in range(len(coefficients)): # loop over each coefficient\n",
        "            \n",
        "            # Recall that feature_matrix[:,j] is the feature column associated with coefficients[j].\n",
        "            # Compute the derivative for coefficients[j]. Save it in a variable called derivative\n",
        "            # YOUR CODE HERE\n",
        "            derivative = feature_derivative(errors,feature_matrix[:,j])\n",
        "            \n",
        "            # add the step size times the derivative to the current coefficient\n",
        "            ## YOUR CODE HERE\n",
        "            coefficients[j] += step_size * derivative\n",
        "        \n",
        "        # Checking whether log likelihood is increasing\n",
        "        if itr <= 15 or (itr <= 100 and itr % 10 == 0) or (itr <= 1000 and itr % 100 == 0) \\\n",
        "        or (itr <= 10000 and itr % 1000 == 0) or itr % 10000 == 0:\n",
        "            lp = compute_log_likelihood(feature_matrix, sentiment, coefficients)\n",
        "            print('iteration %*d: log likelihood of observed labels = %.8f' % \\\n",
        "                (int(np.ceil(np.log10(max_iter))), itr, lp))\n",
        "    return coefficients"
      ],
      "execution_count":24,
      "outputs":[
        
      ],
      "metadata":{
        
      }
    },
    {
      "cell_type":"markdown",
      "source":[
        "Now, let us run the logistic regression solver."
      ],
      "attachments":{
        
      },
      "metadata":{
        
      }
    },
    {
      "cell_type":"code",
      "source":[
        "coefficients = logistic_regression(feature_matrix, sentiment, initial_coefficients=np.zeros(194),\n",
        "                                   step_size=1e-7, max_iter=301)"
      ],
      "execution_count":25,
      "outputs":[
        
      ],
      "metadata":{
        
      }
    },
    {
      "cell_type":"markdown",
      "source":[
        "**Quiz Question:** As each iteration of gradient ascent passes, does the log likelihood increase or decrease?"
      ],
      "attachments":{
        
      },
      "metadata":{
        
      }
    },
    {
      "cell_type":"markdown",
      "source":[
        "## Predicting sentiments"
      ],
      "attachments":{
        
      },
      "metadata":{
        
      }
    },
    {
      "cell_type":"markdown",
      "source":[
        "Recall from lecture that class predictions for a data point $\\mathbf{x}$ can be computed from the coefficients $\\mathbf{w}$ using the following formula:\n",
        "$$\n",
        "\\hat{y}_i = \n",
        "\\left\\{\n",
        "\\begin{array}{ll}\n",
        "      +1 & \\mathbf{x}_i^T\\mathbf{w} > 0 \\\\\n",
        "      -1 & \\mathbf{x}_i^T\\mathbf{w} \\leq 0 \\\\\n",
        "\\end{array} \n",
        "\\right.\n",
        "$$\n",
        "\n",
        "Now, we will write some code to compute class predictions. We will do this in two steps:\n",
        "* **Step 1**: First compute the **scores** using **feature_matrix** and **coefficients** using a dot product.\n",
        "* **Step 2**: Using the formula above, compute the class predictions from the scores.\n",
        "\n",
        "Step 1 can be implemented as follows:"
      ],
      "attachments":{
        
      },
      "metadata":{
        
      }
    },
    {
      "cell_type":"code",
      "source":[
        "# Compute the scores as a dot product between feature_matrix and coefficients.\n",
        "scores = np.dot(feature_matrix, coefficients)"
      ],
      "execution_count":26,
      "outputs":[
        
      ],
      "metadata":{
        
      }
    },
    {
      "cell_type":"markdown",
      "source":[
        "Now, complete the following code block for **Step 2** to compute the class predictions using the **scores** obtained above:"
      ],
      "attachments":{
        
      },
      "metadata":{
        
      }
    },
    {
      "cell_type":"code",
      "source":[
        "class_predictions = []\n",
        "positive_sentiment_num = 0\n",
        "for s in scores:\n",
        "    if s >= 0:\n",
        "        class_predictions.append(1)\n",
        "        positive_sentiment_num += 1\n",
        "    else:\n",
        "        class_predictions.append(-1)\n",
        "class_predictions"
      ],
      "execution_count":27,
      "outputs":[
        
      ],
      "metadata":{
        
      }
    },
    {
      "cell_type":"markdown",
      "source":[
        "**Quiz Question:** How many reviews were predicted to have positive sentiment?"
      ],
      "attachments":{
        
      },
      "metadata":{
        
      }
    },
    {
      "cell_type":"code",
      "source":[
        "positive_sentiment_num"
      ],
      "execution_count":28,
      "outputs":[
        
      ],
      "metadata":{
        
      }
    },
    {
      "cell_type":"markdown",
      "source":[
        "## Measuring accuracy\n",
        "\n",
        "We will now measure the classification accuracy of the model. Recall from the lecture that the classification accuracy can be computed as follows:\n",
        "\n",
        "$$\n",
        "\\mbox{accuracy} = \\frac{\\mbox{# correctly classified data points}}{\\mbox{# total data points}}\n",
        "$$\n",
        "\n",
        "Complete the following code block to compute the accuracy of the model."
      ],
      "attachments":{
        
      },
      "metadata":{
        
      }
    },
    {
      "cell_type":"code",
      "source":[
        "num_mistakes = 0\n",
        "for i in range(len(class_predictions)):\n",
        "    if class_predictions[i] * sentiment[i] < 0:\n",
        "        num_mistakes += 1\n",
        "\n",
        "accuracy = 1. - (num_mistakes \/ len(class_predictions))\n",
        "print(\"-----------------------------------------------------\")\n",
        "print('# Reviews   correctly classified =', len(products) - num_mistakes)\n",
        "print('# Reviews incorrectly classified =', num_mistakes)\n",
        "print('# Reviews total                  =', len(products))\n",
        "print(\"-----------------------------------------------------\")\n",
        "print('Accuracy = %.2f' % accuracy)"
      ],
      "execution_count":29,
      "outputs":[
        
      ],
      "metadata":{
        
      }
    },
    {
      "cell_type":"markdown",
      "source":[
        "**Quiz Question**: What is the accuracy of the model on predictions made above? (round to 2 digits of accuracy)"
      ],
      "attachments":{
        
      },
      "metadata":{
        
      }
    },
    {
      "cell_type":"markdown",
      "source":[
        "## Which words contribute most to positive & negative sentiments?"
      ],
      "attachments":{
        
      },
      "metadata":{
        
      }
    },
    {
      "cell_type":"markdown",
      "source":[
        "Recall that in Module 2 assignment, we were able to compute the \"**most positive words**\". These are words that correspond most strongly with positive reviews. In order to do this, we will first do the following:\n",
        "* Treat each coefficient as a tuple, i.e. (**word**, **coefficient_value**).\n",
        "* Sort all the (**word**, **coefficient_value**) tuples by **coefficient_value** in descending order."
      ],
      "attachments":{
        
      },
      "metadata":{
        
      }
    },
    {
      "cell_type":"code",
      "source":[
        "coefficients = list(coefficients[1:]) # exclude intercept\n",
        "word_coefficient_tuples = [(word, coefficient) for word, coefficient in zip(important_words, coefficients)]\n",
        "word_coefficient_tuples = sorted(word_coefficient_tuples, key=lambda x:x[1], reverse=True)"
      ],
      "execution_count":30,
      "outputs":[
        
      ],
      "metadata":{
        
      }
    },
    {
      "cell_type":"markdown",
      "source":[
        "Now, **word_coefficient_tuples** contains a sorted list of (**word**, **coefficient_value**) tuples. The first 10 elements in this list correspond to the words that are most positive."
      ],
      "attachments":{
        
      },
      "metadata":{
        
      }
    },
    {
      "cell_type":"markdown",
      "source":[
        "### Ten \"most positive\" words\n",
        "\n",
        "Now, we compute the 10 words that have the most positive coefficient values. These words are associated with positive sentiment."
      ],
      "attachments":{
        
      },
      "metadata":{
        
      }
    },
    {
      "cell_type":"code",
      "source":[
        "word_coefficient_tuples[:10]"
      ],
      "execution_count":31,
      "outputs":[
        
      ],
      "metadata":{
        
      }
    },
    {
      "cell_type":"markdown",
      "source":[
        "**Quiz Question:** Which word is **not** present in the top 10 \"most positive\" words?\n",
        "\n",
        "- love\n",
        "- easy\n",
        "- great\n",
        "- perfect\n",
        "- cheap"
      ],
      "attachments":{
        
      },
      "metadata":{
        
      }
    },
    {
      "cell_type":"markdown",
      "source":[
        "### Ten \"most negative\" words\n",
        "\n",
        "Next, we repeat this exercise on the 10 most negative words.  That is, we compute the 10 words that have the most negative coefficient values. These words are associated with negative sentiment."
      ],
      "attachments":{
        
      },
      "metadata":{
        
      }
    },
    {
      "cell_type":"code",
      "source":[
        "word_coefficient_tuples[-10:]"
      ],
      "execution_count":32,
      "outputs":[
        
      ],
      "metadata":{
        
      }
    },
    {
      "cell_type":"markdown",
      "source":[
        "**Quiz Question:** Which word is **not** present in the top 10 \"most negative\" words?\n",
        "\n",
        "- need\n",
        "- work\n",
        "- disappointed\n",
        "- even\n",
        "- return"
      ],
      "attachments":{
        
      },
      "metadata":{
        
      }
    }
  ],
  "metadata":{
    
  },
  "nbformat":4,
  "nbformat_minor":0
}