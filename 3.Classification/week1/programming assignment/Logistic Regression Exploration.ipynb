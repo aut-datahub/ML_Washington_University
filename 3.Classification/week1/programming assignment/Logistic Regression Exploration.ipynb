{
  "cells":[
    {
      "cell_type":"markdown",
      "source":[
        "# Predicting sentiment from product reviews\n",
        "\n",
        "\n",
        "The goal of this first notebook is to explore logistic regression and feature engineering with existing Turi Create functions.\n",
        "\n",
        "In this notebook you will use product review data from Amazon.com to predict whether the sentiments about a product (from its reviews) are positive or negative.\n",
        "\n",
        "* Use SFrames to do some feature engineering\n",
        "* Train a logistic regression model to predict the sentiment of product reviews.\n",
        "* Inspect the weights (coefficients) of a trained logistic regression model.\n",
        "* Make a prediction (both class and probability) of sentiment for a new product review.\n",
        "* Given the logistic regression weights, predictors and ground truth labels, write a function to compute the **accuracy** of the model.\n",
        "* Inspect the coefficients of the logistic regression model and interpret their meanings.\n",
        "* Compare multiple logistic regression models.\n",
        "\n",
        "Let's get started!\n",
        "    \n",
        "## Fire up Turi Create"
      ],
      "attachments":{
        
      },
      "metadata":{
        
      }
    },
    {
      "cell_type":"markdown",
      "source":[
        "Make sure you have the latest version of Turi Create."
      ],
      "attachments":{
        
      },
      "metadata":{
        
      }
    },
    {
      "cell_type":"code",
      "source":[
        "from __future__ import division\n",
        "import turicreate\n",
        "import math\n",
        "import string"
      ],
      "execution_count":1,
      "outputs":[
        
      ],
      "metadata":{
        
      }
    },
    {
      "cell_type":"markdown",
      "source":[
        "# Data preparation\n",
        "\n",
        "We will use a dataset consisting of baby product reviews on Amazon.com."
      ],
      "attachments":{
        
      },
      "metadata":{
        
      }
    },
    {
      "cell_type":"code",
      "source":[
        "products = turicreate.SFrame('\/data\/workspace_files\/amazon_baby.sframe\/')"
      ],
      "execution_count":2,
      "outputs":[
        
      ],
      "metadata":{
        
      }
    },
    {
      "cell_type":"markdown",
      "source":[
        "Now, let us see a preview of what the dataset looks like."
      ],
      "attachments":{
        
      },
      "metadata":{
        
      }
    },
    {
      "cell_type":"code",
      "source":[
        "products"
      ],
      "execution_count":3,
      "outputs":[
        
      ],
      "metadata":{
        
      }
    },
    {
      "cell_type":"markdown",
      "source":[
        "## Build the word count vector for each review"
      ],
      "attachments":{
        
      },
      "metadata":{
        
      }
    },
    {
      "cell_type":"markdown",
      "source":[
        "Let us explore a specific example of a baby product."
      ],
      "attachments":{
        
      },
      "metadata":{
        
      }
    },
    {
      "cell_type":"code",
      "source":[
        "products[269]"
      ],
      "execution_count":4,
      "outputs":[
        
      ],
      "metadata":{
        
      }
    },
    {
      "cell_type":"markdown",
      "source":[
        "Now, we will perform 2 simple data transformations:\n",
        "\n",
        "1. Remove punctuation using [Python's built-in](https:\/\/docs.python.org\/2\/library\/string.html) string functionality.\n",
        "2. Transform the reviews into word-counts.\n",
        "\n",
        "**Aside**. In this notebook, we remove all punctuations for the sake of simplicity. A smarter approach to punctuations would preserve phrases such as \"I'd\", \"would've\", \"hadn't\" and so forth. See [this page](https:\/\/www.cis.upenn.edu\/~treebank\/tokenization.html) for an example of smart handling of punctuations."
      ],
      "attachments":{
        
      },
      "metadata":{
        
      }
    },
    {
      "cell_type":"code",
      "source":[
        "def remove_punctuation(text):\n",
        "    try:\n",
        "        text = text.translate(None, string.punctuation) \n",
        "    except:\n",
        "        translator = text.maketrans('', '', string.punctuation)\n",
        "        text = text.translate(translator)\n",
        "        \n",
        "    return text"
      ],
      "execution_count":5,
      "outputs":[
        
      ],
      "metadata":{
        
      }
    },
    {
      "cell_type":"code",
      "source":[
        "review_without_punctuation = products['review'].apply(remove_punctuation)\n",
        "products['word_count'] = turicreate.text_analytics.count_words(review_without_punctuation)"
      ],
      "execution_count":6,
      "outputs":[
        
      ],
      "metadata":{
        
      }
    },
    {
      "cell_type":"markdown",
      "source":[
        "Now, let us explore what the sample example above looks like after these 2 transformations. Here, each entry in the **word_count** column is a dictionary where the key is the word and the value is a count of the number of times the word occurs."
      ],
      "attachments":{
        
      },
      "metadata":{
        
      }
    },
    {
      "cell_type":"code",
      "source":[
        "products[269]['word_count']"
      ],
      "execution_count":7,
      "outputs":[
        
      ],
      "metadata":{
        
      }
    },
    {
      "cell_type":"markdown",
      "source":[
        "## Extract sentiments\n",
        "\n",
        "We will **ignore** all reviews with *rating = 3*, since they tend to have a neutral sentiment."
      ],
      "attachments":{
        
      },
      "metadata":{
        
      }
    },
    {
      "cell_type":"code",
      "source":[
        "edited_products = products[products['rating'] != 3]\n",
        "len(edited_products)"
      ],
      "execution_count":8,
      "outputs":[
        
      ],
      "metadata":{
        
      }
    },
    {
      "cell_type":"markdown",
      "source":[
        "Now, we will assign reviews with a rating of 4 or higher to be *positive* reviews, while the ones with rating of 2 or lower are *negative*. For the sentiment column, we use +1 for the positive class label and -1 for the negative class label."
      ],
      "attachments":{
        
      },
      "metadata":{
        
      }
    },
    {
      "cell_type":"code",
      "source":[
        "edited_products['sentiment'] = edited_products['rating'].apply(lambda rating : +1 if rating > 3 else -1)\n",
        "edited_products"
      ],
      "execution_count":9,
      "outputs":[
        
      ],
      "metadata":{
        
      }
    },
    {
      "cell_type":"markdown",
      "source":[
        "Now, we can see that the dataset contains an extra column called **sentiment** which is either positive (+1) or negative (-1)."
      ],
      "attachments":{
        
      },
      "metadata":{
        
      }
    },
    {
      "cell_type":"markdown",
      "source":[
        "## Split data into training and test sets"
      ],
      "attachments":{
        
      },
      "metadata":{
        
      }
    },
    {
      "cell_type":"markdown",
      "source":[
        "Let's perform a train\/test split with 80% of the data in the training set and 20% of the data in the test set. We use `seed=1` so that everyone gets the same result."
      ],
      "attachments":{
        
      },
      "metadata":{
        
      }
    },
    {
      "cell_type":"code",
      "source":[
        "train_data, test_data = edited_products.random_split(.8, seed=1)\n",
        "print(len(train_data))\n",
        "print(len(test_data))"
      ],
      "execution_count":10,
      "outputs":[
        
      ],
      "metadata":{
        
      }
    },
    {
      "cell_type":"markdown",
      "source":[
        "# Train a sentiment classifier with logistic regression\n",
        "\n",
        "We will now use logistic regression to create a sentiment classifier on the training data. This model will use the column **word_count** as a feature and the column **sentiment** as the target. We will use `validation_set=None` to obtain same results as everyone else.\n",
        "\n",
        "**Note:** This line may take 1-2 minutes."
      ],
      "attachments":{
        
      },
      "metadata":{
        
      }
    },
    {
      "cell_type":"code",
      "source":[
        "sentiment_model = turicreate.logistic_classifier.create(train_data,\n",
        "                                                        target = 'sentiment',\n",
        "                                                        features=['word_count'],\n",
        "                                                        validation_set=None)"
      ],
      "execution_count":11,
      "outputs":[
        
      ],
      "metadata":{
        
      }
    },
    {
      "cell_type":"code",
      "source":[
        "sentiment_model"
      ],
      "execution_count":12,
      "outputs":[
        
      ],
      "metadata":{
        
      }
    },
    {
      "cell_type":"markdown",
      "source":[
        "**Aside**. You may get a warning to the effect of \"Terminated due to numerical difficulties --- this model may not be ideal\". It means that the quality metric (to be covered in Module 3) failed to improve in the last iteration of the run. The difficulty arises as the sentiment model puts too much weight on extremely rare words. A way to rectify this is to apply regularization, to be covered in Module 4. Regularization lessens the effect of extremely rare words. For the purpose of this assignment, however, please proceed with the model above."
      ],
      "attachments":{
        
      },
      "metadata":{
        
      }
    },
    {
      "cell_type":"markdown",
      "source":[
        "Now that we have fitted the model, we can extract the weights (coefficients) as an SFrame as follows:"
      ],
      "attachments":{
        
      },
      "metadata":{
        
      }
    },
    {
      "cell_type":"code",
      "source":[
        "weights = sentiment_model.coefficients\n",
        "weights.column_names()"
      ],
      "execution_count":13,
      "outputs":[
        
      ],
      "metadata":{
        
      }
    },
    {
      "cell_type":"markdown",
      "source":[
        "There are a total of `121713` coefficients in the model. Recall from the lecture that positive weights $w_j$ correspond to weights that cause positive sentiment, while negative weights correspond to negative sentiment. \n",
        "\n",
        "Fill in the following block of code to calculate how many *weights* are positive ( >= 0). (**Hint**: The `'value'` column in SFrame *weights* must be positive ( >= 0))."
      ],
      "attachments":{
        
      },
      "metadata":{
        
      }
    },
    {
      "cell_type":"markdown",
      "source":[
        "**Quiz Question:** How many weights are >= 0?"
      ],
      "attachments":{
        
      },
      "metadata":{
        
      }
    },
    {
      "cell_type":"code",
      "source":[
        "num_positive_weights = len(weights[weights['value'] >= 0])\n",
        "num_negative_weights = len(weights) - num_positive_weights\n",
        "\n",
        "print(\"Number of positive weights: %s \" % num_positive_weights)\n",
        "print(\"Number of negative weights: %s \" % num_negative_weights)"
      ],
      "execution_count":14,
      "outputs":[
        
      ],
      "metadata":{
        
      }
    },
    {
      "cell_type":"markdown",
      "source":[
        "## Making predictions with logistic regression\n",
        "\n",
        "Now that a model is trained, we can make predictions on the **test data**. In this section, we will explore this in the context of 3 examples in the test dataset.  We refer to this set of 3 examples as the **sample_test_data**."
      ],
      "attachments":{
        
      },
      "metadata":{
        
      }
    },
    {
      "cell_type":"code",
      "source":[
        "sample_test_data = test_data[10:13]\n",
        "print(sample_test_data['rating'])\n",
        "sample_test_data"
      ],
      "execution_count":15,
      "outputs":[
        
      ],
      "metadata":{
        
      }
    },
    {
      "cell_type":"markdown",
      "source":[
        "Let's dig deeper into the first row of the **sample_test_data**. Here's the full review:"
      ],
      "attachments":{
        
      },
      "metadata":{
        
      }
    },
    {
      "cell_type":"code",
      "source":[
        "sample_test_data[0]['review']"
      ],
      "execution_count":16,
      "outputs":[
        
      ],
      "metadata":{
        
      }
    },
    {
      "cell_type":"markdown",
      "source":[
        "That review seems pretty positive.\n",
        "\n",
        "Now, let's see what the next row of the **sample_test_data** looks like. As we could guess from the sentiment (-1), the review is quite negative."
      ],
      "attachments":{
        
      },
      "metadata":{
        
      }
    },
    {
      "cell_type":"code",
      "source":[
        "sample_test_data[1]['review']"
      ],
      "execution_count":17,
      "outputs":[
        
      ],
      "metadata":{
        
      }
    },
    {
      "cell_type":"markdown",
      "source":[
        "We will now make a **class** prediction for the **sample_test_data**. The `sentiment_model` should predict **+1** if the sentiment is positive and **-1** if the sentiment is negative. Recall from the lecture that the **score** (sometimes called **margin**) for the logistic regression model  is defined as:\n",
        "\n",
        "$$\n",
        "\\mbox{score}_i = \\mathbf{w}^T h(\\mathbf{x}_i)\n",
        "$$ \n",
        "\n",
        "where $h(\\mathbf{x}_i)$ represents the features for example $i$.  We will write some code to obtain the **scores** using Turi Create. For each row, the **score** (or margin) is a number in the range **[-inf, inf]**."
      ],
      "attachments":{
        
      },
      "metadata":{
        
      }
    },
    {
      "cell_type":"code",
      "source":[
        "scores = sentiment_model.predict(sample_test_data, output_type='margin')\n",
        "print(scores)"
      ],
      "execution_count":18,
      "outputs":[
        
      ],
      "metadata":{
        
      }
    },
    {
      "cell_type":"markdown",
      "source":[
        "### Predicting sentiment\n",
        "\n",
        "These scores can be used to make class predictions as follows:\n",
        "\n",
        "$$\n",
        "\\hat{y} = \n",
        "\\left\\{\n",
        "\\begin{array}{ll}\n",
        "      +1 & \\mathbf{w}^T h(\\mathbf{x}_i) > 0 \\\\\n",
        "      -1 & \\mathbf{w}^T h(\\mathbf{x}_i) \\leq 0 \\\\\n",
        "\\end{array} \n",
        "\\right.\n",
        "$$\n",
        "\n",
        "Using scores, write code to calculate $\\hat{y}$, the class predictions:"
      ],
      "attachments":{
        
      },
      "metadata":{
        
      }
    },
    {
      "cell_type":"code",
      "source":[
        "class_predictions = scores.apply(lambda class_type : +1 if class_type > 0 else -1)\n",
        "class_predictions"
      ],
      "execution_count":19,
      "outputs":[
        
      ],
      "metadata":{
        
      }
    },
    {
      "cell_type":"markdown",
      "source":[
        "Run the following code to verify that the class predictions obtained by your calculations are the same as that obtained from Turi Create."
      ],
      "attachments":{
        
      },
      "metadata":{
        
      }
    },
    {
      "cell_type":"code",
      "source":[
        "print(\"Class predictions according to Turi Create:\")\n",
        "print(sentiment_model.predict(sample_test_data))"
      ],
      "execution_count":20,
      "outputs":[
        
      ],
      "metadata":{
        
      }
    },
    {
      "cell_type":"markdown",
      "source":[
        "**Checkpoint**: Make sure your class predictions match with the one obtained from Turi Create.\n",
        "\n",
        "### Probability predictions\n",
        "\n",
        "Recall from the lectures that we can also calculate the probability predictions from the scores using:\n",
        "$$\n",
        "P(y_i = +1 | \\mathbf{x}_i,\\mathbf{w}) = \\frac{1}{1 + \\exp(-\\mathbf{w}^T h(\\mathbf{x}_i))}.\n",
        "$$\n",
        "\n",
        "Using the variable **scores** calculated previously, write code to calculate the probability that a sentiment is positive using the above formula. For each row, the probabilities should be a number in the range **[0, 1]**."
      ],
      "attachments":{
        
      },
      "metadata":{
        
      }
    },
    {
      "cell_type":"markdown",
      "source":[
        "** Quiz Question:** Of the three data points in **sample_test_data**, which one (first, second, or third) has the **lowest probability** of being classified as a positive review?"
      ],
      "attachments":{
        
      },
      "metadata":{
        
      }
    },
    {
      "cell_type":"code",
      "source":[
        "probability_predictions = 1. \/ (1. + math.e ** (-1 * scores))\n",
        "probability_predictions"
      ],
      "execution_count":21,
      "outputs":[
        
      ],
      "metadata":{
        
      }
    },
    {
      "cell_type":"code",
      "source":[
        "print(\"Class predictions according to Turi Create:\")\n",
        "print(sentiment_model.predict(sample_test_data, output_type='probability'))"
      ],
      "execution_count":22,
      "outputs":[
        
      ],
      "metadata":{
        
      }
    },
    {
      "cell_type":"markdown",
      "source":[
        "**Checkpoint**: Make sure your probability predictions match the ones obtained from Turi Create."
      ],
      "attachments":{
        
      },
      "metadata":{
        
      }
    },
    {
      "cell_type":"markdown",
      "source":[
        "# Find the most positive (and negative) review"
      ],
      "attachments":{
        
      },
      "metadata":{
        
      }
    },
    {
      "cell_type":"markdown",
      "source":[
        "We now turn to examining the full test dataset, **test_data**, and use Turi Create to form predictions on all of the test data points for faster performance.\n",
        "\n",
        "Using the `sentiment_model`, find the 20 reviews in the entire **test_data** with the **highest probability** of being classified as a **positive review**. We refer to these as the \"most positive reviews.\"\n",
        "\n",
        "To calculate these top-20 reviews, use the following steps:\n",
        "1.  Make probability predictions on **test_data** using the `sentiment_model`. (**Hint:** When you call `.predict` to make predictions on the test data, use option `output_type='probability'` to output the probability rather than just the most likely class.)\n",
        "2.  Sort the data according to those predictions and pick the top 20. (**Hint:** You can use the `.topk` method on an SFrame to find the top k rows sorted according to the value of a specified column.)"
      ],
      "attachments":{
        
      },
      "metadata":{
        
      }
    },
    {
      "cell_type":"code",
      "source":[
        "probability_predictions = sentiment_model.predict(test_data, output_type='probability')\n",
        "probability_predictions"
      ],
      "execution_count":23,
      "outputs":[
        
      ],
      "metadata":{
        
      }
    },
    {
      "cell_type":"code",
      "source":[
        "test_data['probability prediction'] = probability_predictions\n",
        "test_data.topk('probability prediction',k=20).print_rows(num_rows=20)"
      ],
      "execution_count":24,
      "outputs":[
        
      ],
      "metadata":{
        
      }
    },
    {
      "cell_type":"code",
      "source":[
        "test_data.sort('probability prediction',ascending=True).print_rows(num_rows=20)"
      ],
      "execution_count":25,
      "outputs":[
        
      ],
      "metadata":{
        
      }
    },
    {
      "cell_type":"markdown",
      "source":[
        "**Quiz Question**: Which of the following products are represented in the 20 most positive reviews? [multiple choice]\n",
        "\n",
        "\n",
        "Now, let us repeat this exercise to find the \"most negative reviews.\" Use the prediction probabilities to find the  20 reviews in the **test_data** with the **lowest probability** of being classified as a **positive review**. Repeat the same steps above but make sure you **sort in the opposite order**."
      ],
      "attachments":{
        
      },
      "metadata":{
        
      }
    },
    {
      "cell_type":"code",
      "source":[
        
      ],
      "execution_count":25,
      "outputs":[
        
      ],
      "metadata":{
        
      }
    },
    {
      "cell_type":"markdown",
      "source":[
        "**Quiz Question**: Which of the following products are represented in the 20 most negative reviews?  [multiple choice]"
      ],
      "attachments":{
        
      },
      "metadata":{
        
      }
    },
    {
      "cell_type":"markdown",
      "source":[
        "## Compute accuracy of the classifier\n",
        "\n",
        "We will now evaluate the accuracy of the trained classifier. Recall that the accuracy is given by\n",
        "\n",
        "\n",
        "$$\n",
        "\\mbox{accuracy} = \\frac{\\mbox{# correctly classified examples}}{\\mbox{# total examples}}\n",
        "$$\n",
        "\n",
        "This can be computed as follows:\n",
        "\n",
        "* **Step 1:** Use the trained model to compute class predictions (**Hint:** Use the `predict` method)\n",
        "* **Step 2:** Count the number of data points when the predicted class labels match the ground truth labels (called `true_labels` below).\n",
        "* **Step 3:** Divide the total number of correct predictions by the total number of data points in the dataset.\n",
        "\n",
        "Complete the function below to compute the classification accuracy:"
      ],
      "attachments":{
        
      },
      "metadata":{
        
      }
    },
    {
      "cell_type":"code",
      "source":[
        "def get_classification_accuracy(model, data, true_labels):\n",
        "    predictions = model.predict(data)\n",
        "\n",
        "    correctly_classified_counter = 0.\n",
        "    for i in range(len(predictions)):\n",
        "        if predictions[i]*true_labels[i] > 0:\n",
        "            correctly_classified_counter +=1\n",
        "    \n",
        "    accuracy = correctly_classified_counter \/ len(predictions)\n",
        "    \n",
        "    return accuracy"
      ],
      "execution_count":26,
      "outputs":[
        
      ],
      "metadata":{
        
      }
    },
    {
      "cell_type":"markdown",
      "source":[
        "Now, let's compute the classification accuracy of the **sentiment_model** on the **test_data**."
      ],
      "attachments":{
        
      },
      "metadata":{
        
      }
    },
    {
      "cell_type":"code",
      "source":[
        "get_classification_accuracy(sentiment_model, test_data, test_data['sentiment'])"
      ],
      "execution_count":27,
      "outputs":[
        
      ],
      "metadata":{
        
      }
    },
    {
      "cell_type":"markdown",
      "source":[
        "**Quiz Question**: What is the accuracy of the **sentiment_model** on the **test_data**? Round your answer to 2 decimal places (e.g. 0.76).\n",
        "\n",
        "**Quiz Question**: Does a higher accuracy value on the **training_data** always imply that the classifier is better?"
      ],
      "attachments":{
        
      },
      "metadata":{
        
      }
    },
    {
      "cell_type":"markdown",
      "source":[
        "## Learn another classifier with fewer words\n",
        "\n",
        "There were a lot of words in the model we trained above. We will now train a simpler logistic regression model using only a subset of words that occur in the reviews. For this assignment, we selected a 20 words to work with. These are:"
      ],
      "attachments":{
        
      },
      "metadata":{
        
      }
    },
    {
      "cell_type":"code",
      "source":[
        "significant_words = ['love', 'great', 'easy', 'old', 'little', 'perfect', 'loves', \n",
        "      'well', 'able', 'car', 'broke', 'less', 'even', 'waste', 'disappointed', \n",
        "      'work', 'product', 'money', 'would', 'return']"
      ],
      "execution_count":28,
      "outputs":[
        
      ],
      "metadata":{
        
      }
    },
    {
      "cell_type":"code",
      "source":[
        "len(significant_words)"
      ],
      "execution_count":29,
      "outputs":[
        
      ],
      "metadata":{
        
      }
    },
    {
      "cell_type":"markdown",
      "source":[
        "For each review, we will use the **word_count** column and trim out all words that are **not** in the **significant_words** list above. We will use the [SArray dictionary trim by keys functionality]( https:\/\/dato.com\/products\/create\/docs\/generated\/graphlab.SArray.dict_trim_by_keys.html). Note that we are performing this on both the training and test set."
      ],
      "attachments":{
        
      },
      "metadata":{
        
      }
    },
    {
      "cell_type":"code",
      "source":[
        "train_data['word_count_subset'] = train_data['word_count'].dict_trim_by_keys(significant_words, exclude=False)\n",
        "test_data['word_count_subset'] = test_data['word_count'].dict_trim_by_keys(significant_words, exclude=False)"
      ],
      "execution_count":30,
      "outputs":[
        
      ],
      "metadata":{
        
      }
    },
    {
      "cell_type":"markdown",
      "source":[
        "Let's see what the first example of the dataset looks like:"
      ],
      "attachments":{
        
      },
      "metadata":{
        
      }
    },
    {
      "cell_type":"code",
      "source":[
        "train_data[0]['review']"
      ],
      "execution_count":31,
      "outputs":[
        
      ],
      "metadata":{
        
      }
    },
    {
      "cell_type":"markdown",
      "source":[
        "The **word_count** column had been working with before looks like the following:"
      ],
      "attachments":{
        
      },
      "metadata":{
        
      }
    },
    {
      "cell_type":"code",
      "source":[
        "print(train_data[0]['word_count'])"
      ],
      "execution_count":32,
      "outputs":[
        
      ],
      "metadata":{
        
      }
    },
    {
      "cell_type":"markdown",
      "source":[
        "Since we are only working with a subset of these words, the column **word_count_subset** is a subset of the above dictionary. In this example, only 2 `significant words` are present in this review."
      ],
      "attachments":{
        
      },
      "metadata":{
        
      }
    },
    {
      "cell_type":"code",
      "source":[
        "print(train_data[0]['word_count_subset'])"
      ],
      "execution_count":33,
      "outputs":[
        
      ],
      "metadata":{
        
      }
    },
    {
      "cell_type":"markdown",
      "source":[
        "## Train a logistic regression model on a subset of data"
      ],
      "attachments":{
        
      },
      "metadata":{
        
      }
    },
    {
      "cell_type":"markdown",
      "source":[
        "We will now build a classifier with **word_count_subset** as the feature and **sentiment** as the target. "
      ],
      "attachments":{
        
      },
      "metadata":{
        
      }
    },
    {
      "cell_type":"code",
      "source":[
        "simple_model = turicreate.logistic_classifier.create(train_data,\n",
        "                                                     target = 'sentiment',\n",
        "                                                     features=['word_count_subset'],\n",
        "                                                     validation_set=None)\n",
        "simple_model"
      ],
      "execution_count":34,
      "outputs":[
        
      ],
      "metadata":{
        
      }
    },
    {
      "cell_type":"markdown",
      "source":[
        "We can compute the classification accuracy using the `get_classification_accuracy` function you implemented earlier."
      ],
      "attachments":{
        
      },
      "metadata":{
        
      }
    },
    {
      "cell_type":"code",
      "source":[
        "get_classification_accuracy(simple_model, test_data, test_data['sentiment'])"
      ],
      "execution_count":35,
      "outputs":[
        
      ],
      "metadata":{
        
      }
    },
    {
      "cell_type":"markdown",
      "source":[
        "Now, we will inspect the weights (coefficients) of the **simple_model**:"
      ],
      "attachments":{
        
      },
      "metadata":{
        
      }
    },
    {
      "cell_type":"code",
      "source":[
        "simple_model.coefficients"
      ],
      "execution_count":36,
      "outputs":[
        
      ],
      "metadata":{
        
      }
    },
    {
      "cell_type":"markdown",
      "source":[
        "Let's sort the coefficients (in descending order) by the **value** to obtain the coefficients with the most positive effect on the sentiment."
      ],
      "attachments":{
        
      },
      "metadata":{
        
      }
    },
    {
      "cell_type":"code",
      "source":[
        "simple_model_coefficients = simple_model.coefficients.sort('value', ascending=False).print_rows(num_rows=21)"
      ],
      "execution_count":37,
      "outputs":[
        
      ],
      "metadata":{
        
      }
    },
    {
      "cell_type":"markdown",
      "source":[
        "**Quiz Question**: Consider the coefficients of **simple_model**. There should be 21 of them, an intercept term + one for each word in **significant_words**. How many of the 20 coefficients (corresponding to the 20 **significant_words** and *excluding the intercept term*) are positive for the `simple_model`?"
      ],
      "attachments":{
        
      },
      "metadata":{
        
      }
    },
    {
      "cell_type":"markdown",
      "source":[
        "**Quiz Question**: Are the positive words in the **simple_model** (let us call them `positive_significant_words`) also positive words in the **sentiment_model**?"
      ],
      "attachments":{
        
      },
      "metadata":{
        
      }
    },
    {
      "cell_type":"code",
      "source":[
        "sentiment_model_coefficients = sentiment_model.coefficients.sort('value', ascending=False).print_rows(num_rows=21)"
      ],
      "execution_count":38,
      "outputs":[
        
      ],
      "metadata":{
        
      }
    },
    {
      "cell_type":"markdown",
      "source":[
        "# Comparing models"
      ],
      "attachments":{
        
      },
      "metadata":{
        
      }
    },
    {
      "cell_type":"markdown",
      "source":[
        "We will now compare the accuracy of the **sentiment_model** and the **simple_model** using the `get_classification_accuracy` method you implemented above.\n",
        "\n",
        "First, compute the classification accuracy of the **sentiment_model** on the **train_data**:"
      ],
      "attachments":{
        
      },
      "metadata":{
        
      }
    },
    {
      "cell_type":"code",
      "source":[
        "sentiment_accuracy = get_classification_accuracy(sentiment_model,train_data,train_data['sentiment'])\n",
        "sentiment_accuracy"
      ],
      "execution_count":39,
      "outputs":[
        
      ],
      "metadata":{
        
      }
    },
    {
      "cell_type":"markdown",
      "source":[
        "Now, compute the classification accuracy of the **simple_model** on the **train_data**:"
      ],
      "attachments":{
        
      },
      "metadata":{
        
      }
    },
    {
      "cell_type":"code",
      "source":[
        "simple_accuracy = get_classification_accuracy(simple_model,train_data,train_data['sentiment'])\n",
        "simple_accuracy"
      ],
      "execution_count":40,
      "outputs":[
        
      ],
      "metadata":{
        
      }
    },
    {
      "cell_type":"markdown",
      "source":[
        "**Quiz Question**: Which model (**sentiment_model** or **simple_model**) has higher accuracy on the TRAINING set?"
      ],
      "attachments":{
        
      },
      "metadata":{
        
      }
    },
    {
      "cell_type":"code",
      "source":[
        "simple_accuracy < sentiment_accuracy"
      ],
      "execution_count":41,
      "outputs":[
        
      ],
      "metadata":{
        
      }
    },
    {
      "cell_type":"markdown",
      "source":[
        "Now, we will repeat this exercise on the **test_data**. Start by computing the classification accuracy of the **sentiment_model** on the **test_data**:"
      ],
      "attachments":{
        
      },
      "metadata":{
        
      }
    },
    {
      "cell_type":"code",
      "source":[
        "sentiment_accuracy = get_classification_accuracy(sentiment_model,test_data,test_data['sentiment'])\n",
        "sentiment_accuracy"
      ],
      "execution_count":42,
      "outputs":[
        
      ],
      "metadata":{
        
      }
    },
    {
      "cell_type":"markdown",
      "source":[
        "Next, we will compute the classification accuracy of the **simple_model** on the **test_data**:"
      ],
      "attachments":{
        
      },
      "metadata":{
        
      }
    },
    {
      "cell_type":"code",
      "source":[
        "simple_accuracy = get_classification_accuracy(simple_model,test_data,test_data['sentiment'])\n",
        "simple_accuracy"
      ],
      "execution_count":43,
      "outputs":[
        
      ],
      "metadata":{
        
      }
    },
    {
      "cell_type":"markdown",
      "source":[
        "**Quiz Question**: Which model (**sentiment_model** or **simple_model**) has higher accuracy on the TEST set?"
      ],
      "attachments":{
        
      },
      "metadata":{
        
      }
    },
    {
      "cell_type":"code",
      "source":[
        "simple_accuracy < sentiment_accuracy"
      ],
      "execution_count":44,
      "outputs":[
        
      ],
      "metadata":{
        
      }
    },
    {
      "cell_type":"markdown",
      "source":[
        "## Baseline: Majority class prediction\n",
        "\n",
        "It is quite common to use the **majority class classifier** as the a baseline (or reference) model for comparison with your classifier model. The majority classifier model predicts the majority class for all data points. At the very least, you should healthily beat the majority class classifier, otherwise, the model is (usually) pointless.\n",
        "\n",
        "What is the majority class in the **train_data**?"
      ],
      "attachments":{
        
      },
      "metadata":{
        
      }
    },
    {
      "cell_type":"code",
      "source":[
        "num_positive  = (train_data['sentiment'] == +1).sum()\n",
        "num_negative = (train_data['sentiment'] == -1).sum()\n",
        "print(num_positive)\n",
        "print(num_negative)"
      ],
      "execution_count":45,
      "outputs":[
        
      ],
      "metadata":{
        
      }
    },
    {
      "cell_type":"markdown",
      "source":[
        "Now compute the accuracy of the majority class classifier on **test_data**.\n",
        "\n",
        "**Quiz Question**: Enter the accuracy of the majority class classifier model on the **test_data**. Round your answer to two decimal places (e.g. 0.76)."
      ],
      "attachments":{
        
      },
      "metadata":{
        
      }
    },
    {
      "cell_type":"code",
      "source":[
        "num_positive = (test_data['sentiment'] == +1).sum()\n",
        "num_negative = (test_data['sentiment'] == -1).sum()\n",
        "print(num_positive * 1. \/ (num_positive + num_negative))"
      ],
      "execution_count":46,
      "outputs":[
        
      ],
      "metadata":{
        
      }
    },
    {
      "cell_type":"markdown",
      "source":[
        "**Quiz Question**: Is the **sentiment_model** definitely better than the majority class classifier (the baseline)?"
      ],
      "attachments":{
        
      },
      "metadata":{
        
      }
    }
  ],
  "metadata":{
    
  },
  "nbformat":4,
  "nbformat_minor":0
}