{
  "cells":[
    {
      "cell_type":"markdown",
      "source":[
        "# Regression Week 5: LASSO (coordinate descent)"
      ],
      "attachments":{
        
      },
      "metadata":{
        
      }
    },
    {
      "cell_type":"markdown",
      "source":[
        "In this notebook, you will implement your very own LASSO solver via coordinate descent. You will:\n",
        "* Write a function to normalize features\n",
        "* Implement coordinate descent for LASSO\n",
        "* Explore effects of L1 penalty"
      ],
      "attachments":{
        
      },
      "metadata":{
        
      }
    },
    {
      "cell_type":"markdown",
      "source":[
        "# Fire up Turi Create"
      ],
      "attachments":{
        
      },
      "metadata":{
        
      }
    },
    {
      "cell_type":"code",
      "source":[
        "import turicreate"
      ],
      "execution_count":1,
      "outputs":[
        
      ],
      "metadata":{
        
      }
    },
    {
      "cell_type":"markdown",
      "source":[
        "# Load in house sales data\n",
        "\n",
        "Dataset is from house sales in King County, the region where the city of Seattle, WA is located."
      ],
      "attachments":{
        
      },
      "metadata":{
        
      }
    },
    {
      "cell_type":"code",
      "source":[
        "sales = turicreate.SFrame('home_data.sframe\/')\n",
        "# In the dataset, 'floors' was defined with type string, \n",
        "# so we'll convert them to float and then to int, before using it below\n",
        "sales['floors'] = sales['floors'].astype(float).astype(int)"
      ],
      "execution_count":2,
      "outputs":[
        
      ],
      "metadata":{
        
      }
    },
    {
      "cell_type":"markdown",
      "source":[
        "If we want to do any \"feature engineering\" like creating new features or adjusting existing ones we should do this directly using the SFrames as seen in the first notebook of Week 2. For this notebook, however, we will work with the existing features."
      ],
      "attachments":{
        
      },
      "metadata":{
        
      }
    },
    {
      "cell_type":"markdown",
      "source":[
        "# Import useful functions from previous notebook"
      ],
      "attachments":{
        
      },
      "metadata":{
        
      }
    },
    {
      "cell_type":"markdown",
      "source":[
        "As in Week 2, we convert the SFrame into a 2D Numpy array. Copy and paste `get_num_data()` from the second notebook of Week 2."
      ],
      "attachments":{
        
      },
      "metadata":{
        
      }
    },
    {
      "cell_type":"code",
      "source":[
        "import numpy as np"
      ],
      "execution_count":3,
      "outputs":[
        
      ],
      "metadata":{
        
      }
    },
    {
      "cell_type":"code",
      "source":[
        "def get_numpy_data(data_sframe, features, output):\n",
        "    data_sframe['constant'] = 1\n",
        "    features = ['constant'] + features\n",
        "    feature_matrix = data_sframe[features].to_numpy()\n",
        "    output_array = data_sframe[output].to_numpy()\n",
        "    return (feature_matrix, output_array)"
      ],
      "execution_count":4,
      "outputs":[
        
      ],
      "metadata":{
        
      }
    },
    {
      "cell_type":"markdown",
      "source":[
        "Also, copy and paste the `predict_output()` function to compute the predictions for an entire matrix of features given the matrix and the weights:"
      ],
      "attachments":{
        
      },
      "metadata":{
        
      }
    },
    {
      "cell_type":"code",
      "source":[
        "def predict_output(feature_matrix, weights):\n",
        "    predictions =  np.dot(feature_matrix,weights)\n",
        "    return predictions"
      ],
      "execution_count":5,
      "outputs":[
        
      ],
      "metadata":{
        
      }
    },
    {
      "cell_type":"markdown",
      "source":[
        "# Normalize features\n",
        "In the house dataset, features vary wildly in their relative magnitude: `sqft_living` is very large overall compared to `bedrooms`, for instance. As a result, weight for `sqft_living` would be much smaller than weight for `bedrooms`. This is problematic because \"small\" weights are dropped first as `l1_penalty` goes up. \n",
        "\n",
        "To give equal considerations for all features, we need to **normalize features** as discussed in the lectures: we divide each feature by its 2-norm so that the transformed feature has norm 1."
      ],
      "attachments":{
        
      },
      "metadata":{
        
      }
    },
    {
      "cell_type":"markdown",
      "source":[
        "Write function called `normalize_features(feature_matrix)`, which normalizes columns of a given feature matrix. The function should return a pair `(normalized_features, norms)`, where the second item contains the norms of original features. As discussed in the lectures, we will use these norms to normalize the test data in the same way as we normalized the training data. "
      ],
      "attachments":{
        
      },
      "metadata":{
        
      }
    },
    {
      "cell_type":"code",
      "source":[
        "def normalize_features(feature_matrix):\n",
        "    norms = np.linalg.norm(feature_matrix, axis=0)\n",
        "    return feature_matrix \/ norms, norms"
      ],
      "execution_count":6,
      "outputs":[
        
      ],
      "metadata":{
        
      }
    },
    {
      "cell_type":"markdown",
      "source":[
        "# Implementing Coordinate Descent with normalized features"
      ],
      "attachments":{
        
      },
      "metadata":{
        
      }
    },
    {
      "cell_type":"markdown",
      "source":[
        "We seek to obtain a sparse set of weights by minimizing the LASSO cost function\n",
        "```\n",
        "SUM[ (prediction - output)^2 ] + lambda*( |w[1]| + ... + |w[k]|).\n",
        "```\n",
        "(By convention, we do not include `w[0]` in the L1 penalty term. We never want to push the intercept to zero.)\n",
        "\n",
        "The absolute value sign makes the cost function non-differentiable, so simple gradient descent is not viable (you would need to implement a method called subgradient descent). Instead, we will use **coordinate descent**: at each iteration, we will fix all weights but weight `i` and find the value of weight `i` that minimizes the objective. That is, we look for\n",
        "```\n",
        "argmin_{w[i]} [ SUM[ (prediction - output)^2 ] + lambda*( |w[1]| + ... + |w[k]|) ]\n",
        "```\n",
        "where all weights other than `w[i]` are held to be constant. We will optimize one `w[i]` at a time, circling through the weights multiple times.  \n",
        "  1. Pick a coordinate `i`\n",
        "  2. Compute `w[i]` that minimizes the cost function `SUM[ (prediction - output)^2 ] + lambda*( |w[1]| + ... + |w[k]|)`\n",
        "  3. Repeat Steps 1 and 2 for all coordinates, multiple times"
      ],
      "attachments":{
        
      },
      "metadata":{
        
      }
    },
    {
      "cell_type":"markdown",
      "source":[
        "For this notebook, we use **cyclical coordinate descent with normalized features**, where we cycle through coordinates 0 to (d-1) in order, and assume the features were normalized as discussed above. The formula for optimizing each coordinate is as follows:\n",
        "```\n",
        "       ┌ (ro[i] + lambda\/2)     if ro[i] < -lambda\/2\n",
        "w[i] = ├ 0                      if -lambda\/2 <= ro[i] <= lambda\/2\n",
        "       └ (ro[i] - lambda\/2)     if ro[i] > lambda\/2\n",
        "```\n",
        "where\n",
        "```\n",
        "ro[i] = SUM[ [feature_i]*(output - prediction + w[i]*[feature_i]) ].\n",
        "```\n",
        "\n",
        "Note that we do not regularize the weight of the constant feature (intercept) `w[0]`, so, for this weight, the update is simply:\n",
        "```\n",
        "w[0] = ro[i]\n",
        "```"
      ],
      "attachments":{
        
      },
      "metadata":{
        
      }
    },
    {
      "cell_type":"markdown",
      "source":[
        "## Effect of L1 penalty"
      ],
      "attachments":{
        
      },
      "metadata":{
        
      }
    },
    {
      "cell_type":"markdown",
      "source":[
        "Let us consider a simple model with 2 features:"
      ],
      "attachments":{
        
      },
      "metadata":{
        
      }
    },
    {
      "cell_type":"code",
      "source":[
        "simple_features = ['sqft_living', 'bedrooms']\n",
        "my_output = 'price'\n",
        "(simple_feature_matrix, output) = get_numpy_data(sales, simple_features, my_output)"
      ],
      "execution_count":7,
      "outputs":[
        
      ],
      "metadata":{
        
      }
    },
    {
      "cell_type":"markdown",
      "source":[
        "Don't forget to normalize features:"
      ],
      "attachments":{
        
      },
      "metadata":{
        
      }
    },
    {
      "cell_type":"code",
      "source":[
        "simple_feature_matrix, norms = normalize_features(simple_feature_matrix)\n",
        "simple_feature_matrix"
      ],
      "execution_count":8,
      "outputs":[
        
      ],
      "metadata":{
        
      }
    },
    {
      "cell_type":"markdown",
      "source":[
        "We assign some random set of initial weights and inspect the values of `ro[i]`:"
      ],
      "attachments":{
        
      },
      "metadata":{
        
      }
    },
    {
      "cell_type":"code",
      "source":[
        "weights = np.array([1., 4., 1.])"
      ],
      "execution_count":9,
      "outputs":[
        
      ],
      "metadata":{
        
      }
    },
    {
      "cell_type":"markdown",
      "source":[
        "Use `predict_output()` to make predictions on this data."
      ],
      "attachments":{
        
      },
      "metadata":{
        
      }
    },
    {
      "cell_type":"code",
      "source":[
        "prediction = predict_output(simple_feature_matrix,weights)\n",
        "prediction"
      ],
      "execution_count":10,
      "outputs":[
        
      ],
      "metadata":{
        
      }
    },
    {
      "cell_type":"markdown",
      "source":[
        "Compute the values of `ro[i]` for each feature in this simple model, using the formula given above, using the formula:\n",
        "```\n",
        "ro[i] = SUM[ [feature_i]*(output - prediction + w[i]*[feature_i]) ]\n",
        "```\n",
        "\n",
        "*Hint: You can get a Numpy vector for feature_i using:*\n",
        "```\n",
        "simple_feature_matrix[:,i]\n",
        "```"
      ],
      "attachments":{
        
      },
      "metadata":{
        
      }
    },
    {
      "cell_type":"code",
      "source":[
        "ro = [\n",
        "    sum(simple_feature_matrix[:, i] * (output - prediction + weights[i] * simple_feature_matrix[:, i]))\n",
        "    for i in range(len(simple_features))\n",
        "]\n",
        "ro"
      ],
      "execution_count":11,
      "outputs":[
        
      ],
      "metadata":{
        
      }
    },
    {
      "cell_type":"markdown",
      "source":[
        "***QUIZ QUESTION***\n",
        "\n",
        "Recall that, whenever `ro[i]` falls between `-l1_penalty\/2` and `l1_penalty\/2`, the corresponding weight `w[i]` is sent to zero. Now suppose we were to take one step of coordinate descent on either feature 1 or feature 2. What range of values of `l1_penalty` **would not** set `w[1]` zero, but **would** set `w[2]` to zero, if we were to take a step in that coordinate? \n",
        "\n",
        "***QUIZ QUESTION***\n",
        "\n",
        "What range of values of `l1_penalty` would set **both** `w[1]` and `w[2]` to zero, if we were to take a step in that coordinate? "
      ],
      "attachments":{
        
      },
      "metadata":{
        
      }
    },
    {
      "cell_type":"code",
      "source":[
        "def test_l1(feature_matrix, output, weights, l1_penalty):\n",
        "    prediction = predict_output(feature_matrix, weights)\n",
        "    for i in range(3):\n",
        "        ro_i = np.dot(feature_matrix[:, i], output - prediction + weights[i] * feature_matrix[:, i])\n",
        "        if ro_i < -l1_penalty \/ 2.:\n",
        "            new_weight_i = ro_i + l1_penalty \/ 2\n",
        "        elif ro_i > l1_penalty \/ 2.:\n",
        "            new_weight_i = ro_i - l1_penalty \/ 2\n",
        "        else:\n",
        "            new_weight_i = 0.\n",
        "        print(new_weight_i)\n",
        "\n",
        "\n",
        "test_l1_list = [1.4e8, 1.64e8, 1.73e8, 1.9e8, 2.3e8]\n",
        "\n",
        "for l1 in test_l1_list:\n",
        "    print(l1)\n",
        "    test_l1(simple_feature_matrix, output, weights, l1)\n",
        "    print()"
      ],
      "execution_count":12,
      "outputs":[
        
      ],
      "metadata":{
        
      }
    },
    {
      "cell_type":"markdown",
      "source":[
        
      ],
      "attachments":{
        
      },
      "metadata":{
        
      }
    },
    {
      "cell_type":"markdown",
      "source":[
        "So we can say that `ro[i]` quantifies the significance of the i-th feature: the larger `ro[i]` is, the more likely it is for the i-th feature to be retained."
      ],
      "attachments":{
        
      },
      "metadata":{
        
      }
    },
    {
      "cell_type":"markdown",
      "source":[
        "## Single Coordinate Descent Step"
      ],
      "attachments":{
        
      },
      "metadata":{
        
      }
    },
    {
      "cell_type":"markdown",
      "source":[
        "Using the formula above, implement coordinate descent that minimizes the cost function over a single feature i. Note that the intercept (weight 0) is not regularized. The function should accept feature matrix, output, current weights, l1 penalty, and index of feature to optimize over. The function should return new weight for feature i."
      ],
      "attachments":{
        
      },
      "metadata":{
        
      }
    },
    {
      "cell_type":"code",
      "source":[
        "def lasso_coordinate_descent_step(i, feature_matrix, output, weights, l1_penalty):\n",
        "    prediction = predict_output(feature_matrix, weights)\n",
        "    ro_i = np.sum(feature_matrix[:, i] * (output - prediction + weights[i] * feature_matrix[:, i]))\n",
        "    if i == 0:  # intercept -- do not regularize\n",
        "        new_weight_i = ro_i\n",
        "    elif ro_i < -l1_penalty \/ 2.:\n",
        "        new_weight_i = ro_i + l1_penalty \/ 2.\n",
        "    elif ro_i > l1_penalty \/ 2.:\n",
        "        new_weight_i = ro_i - l1_penalty \/ 2.\n",
        "    else:\n",
        "        new_weight_i = 0.\n",
        "\n",
        "    return new_weight_i"
      ],
      "execution_count":13,
      "outputs":[
        
      ],
      "metadata":{
        
      }
    },
    {
      "cell_type":"markdown",
      "source":[
        "To test the function, run the following cell:"
      ],
      "attachments":{
        
      },
      "metadata":{
        
      }
    },
    {
      "cell_type":"code",
      "source":[
        "# should print 0.425558846691\n",
        "import math\n",
        "print (lasso_coordinate_descent_step(1, np.array([[3.\/math.sqrt(13),1.\/math.sqrt(10)],[2.\/math.sqrt(13),3.\/math.sqrt(10)]]), \n",
        "                                    np.array([1., 1.]), np.array([1., 4.]), 0.1))"
      ],
      "execution_count":14,
      "outputs":[
        
      ],
      "metadata":{
        
      }
    },
    {
      "cell_type":"markdown",
      "source":[
        "## Cyclical coordinate descent "
      ],
      "attachments":{
        
      },
      "metadata":{
        
      }
    },
    {
      "cell_type":"markdown",
      "source":[
        "Now that we have a function that optimizes the cost function over a single coordinate, let us implement cyclical coordinate descent where we optimize coordinates 0, 1, ..., (d-1) in order and repeat.\n",
        "\n",
        "When do we know to stop? Each time we scan all the coordinates (features) once, we measure the change in weight for each coordinate. If no coordinate changes by more than a specified threshold, we stop."
      ],
      "attachments":{
        
      },
      "metadata":{
        
      }
    },
    {
      "cell_type":"markdown",
      "source":[
        "For each iteration:\n",
        "1. As you loop over features in order and perform coordinate descent, measure how much each coordinate changes.\n",
        "2. After the loop, if the maximum change across all coordinates is falls below the tolerance, stop. Otherwise, go back to step 1.\n",
        "\n",
        "Return weights\n",
        "\n",
        "**IMPORTANT: when computing a new weight for coordinate i, make sure to incorporate the new weights for coordinates 0, 1, ..., i-1. One good way is to update your weights variable in-place. See following pseudocode for illustration.**\n",
        "```\n",
        "for i in range(len(weights)):\n",
        "    old_weights_i = weights[i] # remember old value of weight[i], as it will be overwritten\n",
        "    # the following line uses new values for weight[0], weight[1], ..., weight[i-1]\n",
        "    #     and old values for weight[i], ..., weight[d-1]\n",
        "    weights[i] = lasso_coordinate_descent_step(i, feature_matrix, output, weights, l1_penalty)\n",
        "    \n",
        "    # use old_weights_i to compute change in coordinate\n",
        "    ...\n",
        "```"
      ],
      "attachments":{
        
      },
      "metadata":{
        
      }
    },
    {
      "cell_type":"code",
      "source":[
        "def lasso_cyclical_coordinate_descent(feature_matrix, output, initial_weights, l1_penalty, tolerance):\n",
        "    is_converged = True\n",
        "    while is_converged:\n",
        "        coordinate_change = [0 for i in range(len(initial_weights))]\n",
        "        for i in range(len(initial_weights)):\n",
        "            old_weights_i = initial_weights[i]  # remember old value of weight[i] as it will be overwritten\n",
        "            initial_weights[i] = lasso_coordinate_descent_step(i, feature_matrix, output, initial_weights, l1_penalty)\n",
        "            coordinate_change[i] = np.abs(old_weights_i - initial_weights[i])\n",
        "        if max(coordinate_change) < tolerance:\n",
        "            is_converged = False\n",
        "\n",
        "    return initial_weights"
      ],
      "execution_count":15,
      "outputs":[
        
      ],
      "metadata":{
        
      }
    },
    {
      "cell_type":"code",
      "source":[
        "def lasso_cyclical_coordinate_descent(feature_matrix, output, initial_weights, l1_penalty, tolerance):\n",
        "    weights = np.array(initial_weights)\n",
        "    while True:\n",
        "        max_change = None\n",
        "        for i in range(feature_matrix.shape[1]):\n",
        "            new_weight = lasso_coordinate_descent_step(i, feature_matrix, output, weights, l1_penalty)\n",
        "            change = abs(new_weight - weights[i])\n",
        "            if not max_change or max_change < change:\n",
        "                max_change = change\n",
        "            weights[i] = new_weight\n",
        "        if max_change < tolerance:\n",
        "            break\n",
        "    return(weights)"
      ],
      "execution_count":16,
      "outputs":[
        
      ],
      "metadata":{
        
      }
    },
    {
      "cell_type":"code",
      "source":[
        
      ],
      "execution_count":16,
      "outputs":[
        
      ],
      "metadata":{
        
      }
    },
    {
      "cell_type":"markdown",
      "source":[
        "Using the following parameters, learn the weights on the sales dataset. "
      ],
      "attachments":{
        
      },
      "metadata":{
        
      }
    },
    {
      "cell_type":"code",
      "source":[
        "simple_features = ['sqft_living', 'bedrooms']\n",
        "my_output = 'price'\n",
        "initial_weights = np.zeros(3)\n",
        "l1_penalty = 1e7\n",
        "tolerance = 1"
      ],
      "execution_count":17,
      "outputs":[
        
      ],
      "metadata":{
        
      }
    },
    {
      "cell_type":"markdown",
      "source":[
        "First create a normalized version of the feature matrix, `normalized_simple_feature_matrix`."
      ],
      "attachments":{
        
      },
      "metadata":{
        
      }
    },
    {
      "cell_type":"code",
      "source":[
        "(simple_feature_matrix, output) = get_numpy_data(sales, simple_features, my_output)\n",
        "(normalized_simple_feature_matrix, simple_norms) = normalize_features(simple_feature_matrix) # normalize features"
      ],
      "execution_count":18,
      "outputs":[
        
      ],
      "metadata":{
        
      }
    },
    {
      "cell_type":"markdown",
      "source":[
        "Then, run your implementation of LASSO coordinate descent:"
      ],
      "attachments":{
        
      },
      "metadata":{
        
      }
    },
    {
      "cell_type":"code",
      "source":[
        "weights = lasso_cyclical_coordinate_descent(normalized_simple_feature_matrix, output,\n",
        "                                            initial_weights, l1_penalty, tolerance)"
      ],
      "execution_count":19,
      "outputs":[
        
      ],
      "metadata":{
        
      }
    },
    {
      "cell_type":"code",
      "source":[
        "weights"
      ],
      "execution_count":20,
      "outputs":[
        
      ],
      "metadata":{
        
      }
    },
    {
      "cell_type":"markdown",
      "source":[
        "***QUIZ QUESTIONS***\n",
        "1. What is the RSS of the learned model on the normalized dataset? (Hint: use the normalized feature matrix when you make predictions.)\n",
        "2. Which features had weight zero at convergence?"
      ],
      "attachments":{
        
      },
      "metadata":{
        
      }
    },
    {
      "cell_type":"code",
      "source":[
        "prediction = predict_output(normalized_simple_feature_matrix, weights)\n",
        "RSS = np.sum(pow(prediction - output, 2))"
      ],
      "execution_count":21,
      "outputs":[
        
      ],
      "metadata":{
        
      }
    },
    {
      "cell_type":"code",
      "source":[
        "1e15<RSS<3e15"
      ],
      "execution_count":22,
      "outputs":[
        
      ],
      "metadata":{
        
      }
    },
    {
      "cell_type":"markdown",
      "source":[
        "# Evaluating LASSO fit with more features"
      ],
      "attachments":{
        
      },
      "metadata":{
        
      }
    },
    {
      "cell_type":"markdown",
      "source":[
        "Let us split the sales dataset into training and test sets."
      ],
      "attachments":{
        
      },
      "metadata":{
        
      }
    },
    {
      "cell_type":"code",
      "source":[
        "train_data,test_data = sales.random_split(.8,seed=0)"
      ],
      "execution_count":23,
      "outputs":[
        
      ],
      "metadata":{
        
      }
    },
    {
      "cell_type":"markdown",
      "source":[
        "Let us consider the following set of features."
      ],
      "attachments":{
        
      },
      "metadata":{
        
      }
    },
    {
      "cell_type":"code",
      "source":[
        "all_features = ['bedrooms',\n",
        "                'bathrooms',\n",
        "                'sqft_living',\n",
        "                'sqft_lot',\n",
        "                'floors',\n",
        "                'waterfront', \n",
        "                'view', \n",
        "                'condition', \n",
        "                'grade',\n",
        "                'sqft_above',\n",
        "                'sqft_basement',\n",
        "                'yr_built', \n",
        "                'yr_renovated']"
      ],
      "execution_count":24,
      "outputs":[
        
      ],
      "metadata":{
        
      }
    },
    {
      "cell_type":"markdown",
      "source":[
        "First, create a normalized feature matrix from the TRAINING data with these features.  (Make you store the norms for the normalization, since we'll use them later)"
      ],
      "attachments":{
        
      },
      "metadata":{
        
      }
    },
    {
      "cell_type":"code",
      "source":[
        "initial_weights = np.array([0.] * (len(all_features) + 1))"
      ],
      "execution_count":25,
      "outputs":[
        
      ],
      "metadata":{
        
      }
    },
    {
      "cell_type":"code",
      "source":[
        "train_feature_matrix,train_output = get_numpy_data(sales,all_features,'price')\n",
        "normalized_train_feature_matrix,norms = normalize_features(train_feature_matrix)"
      ],
      "execution_count":26,
      "outputs":[
        
      ],
      "metadata":{
        
      }
    },
    {
      "cell_type":"markdown",
      "source":[
        "First, learn the weights with `l1_penalty=1e7`, on the training data. Initialize weights to all zeros, and set the `tolerance=1`.  Call resulting weights `weights1e7`, you will need them later."
      ],
      "attachments":{
        
      },
      "metadata":{
        
      }
    },
    {
      "cell_type":"code",
      "source":[
        "weights1e7 = lasso_cyclical_coordinate_descent(normalized_train_feature_matrix, train_output,\n",
        "                                               initial_weights, 1e7, 1)"
      ],
      "execution_count":27,
      "outputs":[
        
      ],
      "metadata":{
        
      }
    },
    {
      "cell_type":"markdown",
      "source":[
        "***QUIZ QUESTION***\n",
        "\n",
        "What features had non-zero weight in this case?"
      ],
      "attachments":{
        
      },
      "metadata":{
        
      }
    },
    {
      "cell_type":"code",
      "source":[
        "for i in range(len(all_features)):\n",
        "    if i == 0:\n",
        "        print('constant' + '\\t\\t\\t' + str(weights1e7[i]))\n",
        "    else:\n",
        "        print(all_features[i] + '\\t\\t\\t' + str(weights1e7[i]))"
      ],
      "execution_count":28,
      "outputs":[
        
      ],
      "metadata":{
        
      }
    },
    {
      "cell_type":"markdown",
      "source":[
        "Next, learn the weights with `l1_penalty=1e8`, on the training data. Initialize weights to all zeros, and set the `tolerance=1`.  Call resulting weights `weights1e8`, you will need them later."
      ],
      "attachments":{
        
      },
      "metadata":{
        
      }
    },
    {
      "cell_type":"code",
      "source":[
        "weights1e8 = lasso_cyclical_coordinate_descent(normalized_train_feature_matrix, train_output,\n",
        "                                               np.zeros(len(all_features) + 1), 1e8, 1)"
      ],
      "execution_count":29,
      "outputs":[
        
      ],
      "metadata":{
        
      }
    },
    {
      "cell_type":"markdown",
      "source":[
        "***QUIZ QUESTION***\n",
        "\n",
        "What features had non-zero weight in this case?"
      ],
      "attachments":{
        
      },
      "metadata":{
        
      }
    },
    {
      "cell_type":"code",
      "source":[
        "for i in range(len(all_features)):\n",
        "    if i == 0:\n",
        "        print('constant' + '\\t\\t\\t' + str(weights1e8[i]))\n",
        "    else:\n",
        "        print(all_features[i] + '\\t\\t\\t' + str(weights1e8[i]))"
      ],
      "execution_count":30,
      "outputs":[
        
      ],
      "metadata":{
        
      }
    },
    {
      "cell_type":"markdown",
      "source":[
        "Finally, learn the weights with `l1_penalty=1e4`, on the training data. Initialize weights to all zeros, and set the `tolerance=5e5`.  Call resulting weights `weights1e4`, you will need them later.  (This case will take quite a bit longer to converge than the others above.)"
      ],
      "attachments":{
        
      },
      "metadata":{
        
      }
    },
    {
      "cell_type":"code",
      "source":[
        "weights1e4 = lasso_cyclical_coordinate_descent(normalized_train_feature_matrix, train_output,\n",
        "                                               np.zeros(len(all_features) + 1), 1e4, 5e5)"
      ],
      "execution_count":31,
      "outputs":[
        
      ],
      "metadata":{
        
      }
    },
    {
      "cell_type":"markdown",
      "source":[
        "***QUIZ QUESTION***\n",
        "\n",
        "What features had non-zero weight in this case?"
      ],
      "attachments":{
        
      },
      "metadata":{
        
      }
    },
    {
      "cell_type":"code",
      "source":[
        "for i in range(len(all_features)):\n",
        "    if i == 0:\n",
        "        print('constant' + '\\t\\t\\t' + str(weights1e4[i]))\n",
        "    else:\n",
        "        print(all_features[i] + '\\t\\t\\t' + str(weights1e4[i]))"
      ],
      "execution_count":32,
      "outputs":[
        
      ],
      "metadata":{
        
      }
    },
    {
      "cell_type":"markdown",
      "source":[
        "## Rescaling learned weights"
      ],
      "attachments":{
        
      },
      "metadata":{
        
      }
    },
    {
      "cell_type":"markdown",
      "source":[
        "Recall that we normalized our feature matrix, before learning the weights.  To use these weights on a test set, we must normalize the test data in the same way.\n",
        "\n",
        "Alternatively, we can rescale the learned weights to include the normalization, so we never have to worry about normalizing the test data: \n",
        "\n",
        "In this case, we must scale the resulting weights so that we can make predictions with *original* features:\n",
        " 1. Store the norms of the original features to a vector called `norms`:\n",
        "```\n",
        "features, norms = normalize_features(features)\n",
        "```\n",
        " 2. Run Lasso on the normalized features and obtain a `weights` vector\n",
        " 3. Compute the weights for the original features by performing element-wise division, i.e.\n",
        "```\n",
        "weights_normalized = weights \/ norms\n",
        "```\n",
        "Now, we can apply `weights_normalized` to the test data, without normalizing it!"
      ],
      "attachments":{
        
      },
      "metadata":{
        
      }
    },
    {
      "cell_type":"markdown",
      "source":[
        "Create a normalized version of each of the weights learned above. (`weights1e4`, `weights1e7`, `weights1e8`)."
      ],
      "attachments":{
        
      },
      "metadata":{
        
      }
    },
    {
      "cell_type":"code",
      "source":[
        "weights1e4_normalized = weights1e4 \/ norms\n",
        "weights1e7_normalized = weights1e7 \/ norms\n",
        "weights1e8_normalized = weights1e8 \/ norms"
      ],
      "execution_count":33,
      "outputs":[
        
      ],
      "metadata":{
        
      }
    },
    {
      "cell_type":"markdown",
      "source":[
        "To check your results, if you call `normalized_weights1e7` the normalized version of `weights1e7`, then:\n",
        "```\n",
        "print normalized_weights1e7[3]\n",
        "```\n",
        "should return 161.31745624837794."
      ],
      "attachments":{
        
      },
      "metadata":{
        
      }
    },
    {
      "cell_type":"code",
      "source":[
        "weights1e7_normalized[3]"
      ],
      "execution_count":34,
      "outputs":[
        
      ],
      "metadata":{
        
      }
    },
    {
      "cell_type":"markdown",
      "source":[
        "## Evaluating each of the learned models on the test data"
      ],
      "attachments":{
        
      },
      "metadata":{
        
      }
    },
    {
      "cell_type":"markdown",
      "source":[
        "Let's now evaluate the three models on the test data:"
      ],
      "attachments":{
        
      },
      "metadata":{
        
      }
    },
    {
      "cell_type":"code",
      "source":[
        "(test_feature_matrix, test_output) = get_numpy_data(test_data, all_features, 'price')"
      ],
      "execution_count":35,
      "outputs":[
        
      ],
      "metadata":{
        
      }
    },
    {
      "cell_type":"markdown",
      "source":[
        "Compute the RSS of each of the three normalized weights on the (unnormalized) `test_feature_matrix`:"
      ],
      "attachments":{
        
      },
      "metadata":{
        
      }
    },
    {
      "cell_type":"code",
      "source":[
        "prediction = predict_output(test_feature_matrix, weights1e4_normalized)\n",
        "rss1e4 = np.sum(pow(prediction - test_output, 2))\n",
        "rss1e4"
      ],
      "execution_count":36,
      "outputs":[
        
      ],
      "metadata":{
        
      }
    },
    {
      "cell_type":"code",
      "source":[
        "prediction = predict_output(test_feature_matrix, weights1e7_normalized)\n",
        "rss1e7 = np.sum(pow(prediction - test_output, 2))\n",
        "rss1e7"
      ],
      "execution_count":37,
      "outputs":[
        
      ],
      "metadata":{
        
      }
    },
    {
      "cell_type":"code",
      "source":[
        "prediction = predict_output(test_feature_matrix, weights1e8_normalized)\n",
        "rss1e8 = np.sum(pow(prediction - test_output, 2))\n",
        "rss1e8"
      ],
      "execution_count":38,
      "outputs":[
        
      ],
      "metadata":{
        
      }
    },
    {
      "cell_type":"markdown",
      "source":[
        "***QUIZ QUESTION***\n",
        "\n",
        "Which model performed best on the test data?"
      ],
      "attachments":{
        
      },
      "metadata":{
        
      }
    },
    {
      "cell_type":"code",
      "source":[
        "rss1e4 < rss1e7 < rss1e8"
      ],
      "execution_count":39,
      "outputs":[
        
      ],
      "metadata":{
        
      }
    }
  ],
  "metadata":{
    
  },
  "nbformat":4,
  "nbformat_minor":0
}