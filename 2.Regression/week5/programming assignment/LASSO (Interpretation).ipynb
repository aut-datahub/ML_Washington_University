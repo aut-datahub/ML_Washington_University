{
  "cells":[
    {
      "cell_type":"markdown",
      "source":[
        "# Regression Week 5: Feature Selection and LASSO (Interpretation)"
      ],
      "attachments":{
        
      },
      "metadata":{
        
      }
    },
    {
      "cell_type":"markdown",
      "source":[
        "In this notebook, you will use LASSO to select features, building on a pre-implemented solver for LASSO (using Turi Create, though you can use other solvers). You will:\n",
        "* Run LASSO with different L1 penalties.\n",
        "* Choose best L1 penalty using a validation set.\n",
        "* Choose best L1 penalty using a validation set, with additional constraint on the size of subset.\n",
        "\n",
        "In the second notebook, you will implement your own LASSO solver, using coordinate descent. "
      ],
      "attachments":{
        
      },
      "metadata":{
        
      }
    },
    {
      "cell_type":"markdown",
      "source":[
        "# Fire up Turi Create"
      ],
      "attachments":{
        
      },
      "metadata":{
        
      }
    },
    {
      "cell_type":"code",
      "source":[
        "import turicreate\n",
        "import numpy as np"
      ],
      "execution_count":1,
      "outputs":[
        
      ],
      "metadata":{
        
      }
    },
    {
      "cell_type":"markdown",
      "source":[
        "# Load in house sales data\n",
        "\n",
        "Dataset is from house sales in King County, the region where the city of Seattle, WA is located."
      ],
      "attachments":{
        
      },
      "metadata":{
        
      }
    },
    {
      "cell_type":"code",
      "source":[
        "sales = turicreate.SFrame('home_data.sframe\/')"
      ],
      "execution_count":2,
      "outputs":[
        
      ],
      "metadata":{
        
      }
    },
    {
      "cell_type":"markdown",
      "source":[
        "# Create new features"
      ],
      "attachments":{
        
      },
      "metadata":{
        
      }
    },
    {
      "cell_type":"markdown",
      "source":[
        "As in Week 2, we consider features that are some transformations of inputs."
      ],
      "attachments":{
        
      },
      "metadata":{
        
      }
    },
    {
      "cell_type":"code",
      "source":[
        "from math import log, sqrt\n",
        "sales['sqft_living_sqrt'] = sales['sqft_living'].apply(sqrt)\n",
        "sales['sqft_lot_sqrt'] = sales['sqft_lot'].apply(sqrt)\n",
        "sales['bedrooms_square'] = sales['bedrooms']*sales['bedrooms']\n",
        "\n",
        "# In the dataset, 'floors' was defined with type string, \n",
        "# so we'll convert them to float, before creating a new feature.\n",
        "sales['floors'] = sales['floors'].astype(float) \n",
        "sales['floors_square'] = sales['floors']*sales['floors']"
      ],
      "execution_count":3,
      "outputs":[
        
      ],
      "metadata":{
        
      }
    },
    {
      "cell_type":"markdown",
      "source":[
        "* Squaring bedrooms will increase the separation between not many bedrooms (e.g. 1) and lots of bedrooms (e.g. 4) since 1^2 = 1 but 4^2 = 16. Consequently this variable will mostly affect houses with many bedrooms.\n",
        "* On the other hand, taking square root of sqft_living will decrease the separation between big house and small house. The owner may not be exactly twice as happy for getting a house that is twice as big."
      ],
      "attachments":{
        
      },
      "metadata":{
        
      }
    },
    {
      "cell_type":"markdown",
      "source":[
        "# Learn regression weights with L1 penalty"
      ],
      "attachments":{
        
      },
      "metadata":{
        
      }
    },
    {
      "cell_type":"markdown",
      "source":[
        "Let us fit a model with all the features available, plus the features we just created above."
      ],
      "attachments":{
        
      },
      "metadata":{
        
      }
    },
    {
      "cell_type":"code",
      "source":[
        "all_features = ['bedrooms', 'bedrooms_square',\n",
        "                'bathrooms',\n",
        "                'sqft_living', 'sqft_living_sqrt',\n",
        "                'sqft_lot', 'sqft_lot_sqrt',\n",
        "                'floors', 'floors_square',\n",
        "                'waterfront', 'view', 'condition', 'grade',\n",
        "                'sqft_above',\n",
        "                'sqft_basement',\n",
        "                'yr_built', 'yr_renovated']"
      ],
      "execution_count":4,
      "outputs":[
        
      ],
      "metadata":{
        
      }
    },
    {
      "cell_type":"markdown",
      "source":[
        "Applying L1 penalty requires adding an extra parameter (`l1_penalty`) to the linear regression call in Turi Create. (Other tools may have separate implementations of LASSO.)  Note that it's important to set `l2_penalty=0` to ensure we don't introduce an additional L2 penalty."
      ],
      "attachments":{
        
      },
      "metadata":{
        
      }
    },
    {
      "cell_type":"code",
      "source":[
        "model_all = turicreate.linear_regression.create(sales, target='price', features=all_features,\n",
        "                                                validation_set=None, \n",
        "                                                l2_penalty=0., l1_penalty=1e10)"
      ],
      "execution_count":5,
      "outputs":[
        
      ],
      "metadata":{
        
      }
    },
    {
      "cell_type":"markdown",
      "source":[
        "Find what features had non-zero weight."
      ],
      "attachments":{
        
      },
      "metadata":{
        
      }
    },
    {
      "cell_type":"code",
      "source":[
        "model_all.coefficients"
      ],
      "execution_count":6,
      "outputs":[
        
      ],
      "metadata":{
        
      }
    },
    {
      "cell_type":"code",
      "source":[
        "co = model_all.coefficients\n",
        "nonzero_coefficients = co[co['value'] != 0]\n",
        "nonzero_coefficients"
      ],
      "execution_count":7,
      "outputs":[
        
      ],
      "metadata":{
        
      }
    },
    {
      "cell_type":"code",
      "source":[
        "co['value'].nnz()"
      ],
      "execution_count":8,
      "outputs":[
        
      ],
      "metadata":{
        
      }
    },
    {
      "cell_type":"markdown",
      "source":[
        "Note that a majority of the weights have been set to zero. So by setting an L1 penalty that's large enough, we are performing a subset selection. \n",
        "\n",
        "***QUIZ QUESTION***:\n",
        "According to this list of weights, which of the features have been chosen? "
      ],
      "attachments":{
        
      },
      "metadata":{
        
      }
    },
    {
      "cell_type":"markdown",
      "source":[
        "# Selecting an L1 penalty"
      ],
      "attachments":{
        
      },
      "metadata":{
        
      }
    },
    {
      "cell_type":"markdown",
      "source":[
        "To find a good L1 penalty, we will explore multiple values using a validation set. Let us do three way split into train, validation, and test sets:\n",
        "* Split our sales data into 2 sets: training and test\n",
        "* Further split our training data into two sets: train, validation\n",
        "\n",
        "Be *very* careful that you use seed = 1 to ensure you get the same answer!"
      ],
      "attachments":{
        
      },
      "metadata":{
        
      }
    },
    {
      "cell_type":"code",
      "source":[
        "(training_and_validation, testing) = sales.random_split(.9,seed=1) # initial train\/test split\n",
        "(training, validation) = training_and_validation.random_split(0.5, seed=1) # split training into train and validate"
      ],
      "execution_count":9,
      "outputs":[
        
      ],
      "metadata":{
        
      }
    },
    {
      "cell_type":"markdown",
      "source":[
        "Next, we write a loop that does the following:\n",
        "* For `l1_penalty` in [10^1, 10^1.5, 10^2, 10^2.5, ..., 10^7] (to get this in Python, type `np.logspace(1, 7, num=13)`.)\n",
        "    * Fit a regression model with a given `l1_penalty` on TRAIN data. Specify `l1_penalty=l1_penalty` and `l2_penalty=0.` in the parameter list.\n",
        "    * Compute the RSS on VALIDATION data (here you will want to use `.predict()`) for that `l1_penalty`\n",
        "* Report which `l1_penalty` produced the lowest RSS on validation data.\n",
        "\n",
        "When you call `linear_regression.create()` make sure you set `validation_set = None`.\n",
        "\n",
        "Note: you can turn off the print out of `linear_regression.create()` with `verbose = False`"
      ],
      "attachments":{
        
      },
      "metadata":{
        
      }
    },
    {
      "cell_type":"code",
      "source":[
        "l1_penalties = np.logspace(1, 7, num=13)\n",
        "bestl1 = -1\n",
        "least_rss = -1\n",
        "for l1 in l1_penalties:\n",
        "    model = turicreate.linear_regression.create(dataset=training, target='price', features=all_features,\n",
        "                                                l2_penalty=0, l1_penalty=l1, validation_set=None, verbose=False)\n",
        "    predicted = model.predict(validation)\n",
        "    cur_rss = sum(pow(predicted - validation['price'],2))\n",
        "\n",
        "    if least_rss == -1 or cur_rss < least_rss:\n",
        "        least_rss = cur_rss\n",
        "        bestl1 = l1\n",
        "    print(l1, cur_rss)"
      ],
      "execution_count":10,
      "outputs":[
        
      ],
      "metadata":{
        
      }
    },
    {
      "cell_type":"markdown",
      "source":[
        "*** QUIZ QUESTION. *** What was the best value for the `l1_penalty`?"
      ],
      "attachments":{
        
      },
      "metadata":{
        
      }
    },
    {
      "cell_type":"code",
      "source":[
        "print(bestl1)"
      ],
      "execution_count":11,
      "outputs":[
        
      ],
      "metadata":{
        
      }
    },
    {
      "cell_type":"markdown",
      "source":[
        "***QUIZ QUESTION***\n",
        "Also, using this value of L1 penalty, how many nonzero weights do you have?"
      ],
      "attachments":{
        
      },
      "metadata":{
        
      }
    },
    {
      "cell_type":"code",
      "source":[
        "model = turicreate.linear_regression.create(dataset=training, target='price', features=all_features,\n",
        "                                            l2_penalty=0, l1_penalty=bestl1, validation_set=None, verbose=False)\n",
        "model.coefficients"
      ],
      "execution_count":12,
      "outputs":[
        
      ],
      "metadata":{
        
      }
    },
    {
      "cell_type":"code",
      "source":[
        "model.coefficients['value'].nnz()"
      ],
      "execution_count":13,
      "outputs":[
        
      ],
      "metadata":{
        
      }
    },
    {
      "cell_type":"markdown",
      "source":[
        "# Limit the number of nonzero weights\n",
        "\n",
        "What if we absolutely wanted to limit ourselves to, say, 7 features? This may be important if we want to derive \"a rule of thumb\" --- an interpretable model that has only a few features in them."
      ],
      "attachments":{
        
      },
      "metadata":{
        
      }
    },
    {
      "cell_type":"markdown",
      "source":[
        "In this section, you are going to implement a simple, two phase procedure to achive this goal:\n",
        "1. Explore a large range of `l1_penalty` values to find a narrow region of `l1_penalty` values where models are likely to have the desired number of non-zero weights.\n",
        "2. Further explore the narrow region you found to find a good value for `l1_penalty` that achieves the desired sparsity.  Here, we will again use a validation set to choose the best value for `l1_penalty`."
      ],
      "attachments":{
        
      },
      "metadata":{
        
      }
    },
    {
      "cell_type":"code",
      "source":[
        "max_nonzeros = 7"
      ],
      "execution_count":15,
      "outputs":[
        
      ],
      "metadata":{
        
      }
    },
    {
      "cell_type":"markdown",
      "source":[
        "## Exploring the larger range of values to find a narrow range with the desired sparsity\n",
        "\n",
        "Let's define a wide range of possible `l1_penalty_values`:"
      ],
      "attachments":{
        
      },
      "metadata":{
        
      }
    },
    {
      "cell_type":"code",
      "source":[
        "l1_penalty_values = np.logspace(8, 10, num=20)"
      ],
      "execution_count":16,
      "outputs":[
        
      ],
      "metadata":{
        
      }
    },
    {
      "cell_type":"markdown",
      "source":[
        "Now, implement a loop that search through this space of possible `l1_penalty` values:\n",
        "\n",
        "* For `l1_penalty` in `np.logspace(8, 10, num=20)`:\n",
        "    * Fit a regression model with a given `l1_penalty` on TRAIN data. Specify `l1_penalty=l1_penalty` and `l2_penalty=0.` in the parameter list. When you call `linear_regression.create()` make sure you set `validation_set = None`\n",
        "    * Extract the weights of the model and count the number of nonzeros. Save the number of nonzeros to a list.\n",
        "        * *Hint: `model.coefficients['value']` gives you an SArray with the parameters you learned.  If you call the method `.nnz()` on it, you will find the number of non-zero parameters!* \n",
        "\n",
        "Out of this large range, we want to find the two ends of our desired narrow range of `l1_penalty`.  At one end, we will have `l1_penalty` values that have too few non-zeros, and at the other end, we will have an `l1_penalty` that has too many non-zeros.  \n",
        "\n",
        "More formally, find:\n",
        "* The largest `l1_penalty` that has more non-zeros than `max_nonzeros` (if we pick a penalty smaller than this value, we will definitely have too many non-zero weights)\n",
        "    * Store this value in the variable `l1_penalty_min` (we will use it later)\n",
        "* The smallest `l1_penalty` that has fewer non-zeros than `max_nonzeros` (if we pick a penalty larger than this value, we will definitely have too few non-zero weights)\n",
        "    * Store this value in the variable `l1_penalty_max` (we will use it later)"
      ],
      "attachments":{
        
      },
      "metadata":{
        
      }
    },
    {
      "cell_type":"code",
      "source":[
        "l1_penalty_min = -1\n",
        "l1_penalty_max = -1\n",
        "\n",
        "l1_penalties = np.logspace(8, 10, num=20)\n",
        "\n",
        "for l1 in l1_penalties:\n",
        "    model = turicreate.linear_regression.create(dataset=training, target='price', features=all_features,\n",
        "                                                l2_penalty=0, l1_penalty=l1, validation_set=None, verbose=False)\n",
        "    nonzero_num = model.coefficients['value'].nnz()\n",
        "\n",
        "    if l1_penalty_min == -1:\n",
        "        l1_penalty_min = l1\n",
        "    elif l1_penalty_min < l1 and nonzero_num > max_nonzeros:\n",
        "        l1_penalty_min = l1\n",
        "\n",
        "    if nonzero_num < max_nonzeros:\n",
        "        if l1_penalty_max == -1:\n",
        "            l1_penalty_max = l1\n",
        "        elif l1_penalty_max > l1:\n",
        "            l1_penalty_max = l1\n",
        "\n",
        "    print('l1 : ', l1)\n",
        "    print('max: ', l1_penalty_max)\n",
        "    print('min: ', l1_penalty_min)\n",
        "    print('nnz: ', nonzero_num)\n",
        "    print()"
      ],
      "execution_count":17,
      "outputs":[
        
      ],
      "metadata":{
        
      }
    },
    {
      "cell_type":"code",
      "source":[
        "l1_penalty_min,l1_penalty_max"
      ],
      "execution_count":18,
      "outputs":[
        
      ],
      "metadata":{
        
      }
    },
    {
      "cell_type":"markdown",
      "source":[
        "***QUIZ QUESTION.*** What values did you find for `l1_penalty_min` and `l1_penalty_max`, respectively? "
      ],
      "attachments":{
        
      },
      "metadata":{
        
      }
    },
    {
      "cell_type":"markdown",
      "source":[
        "## Exploring the narrow range of values to find the solution with the right number of non-zeros that has lowest RSS on the validation set \n",
        "\n",
        "We will now explore the narrow region of `l1_penalty` values we found:"
      ],
      "attachments":{
        
      },
      "metadata":{
        
      }
    },
    {
      "cell_type":"code",
      "source":[
        "l1_penalty_values = np.linspace(l1_penalty_min,l1_penalty_max,20)"
      ],
      "execution_count":19,
      "outputs":[
        
      ],
      "metadata":{
        
      }
    },
    {
      "cell_type":"markdown",
      "source":[
        "* For `l1_penalty` in `np.linspace(l1_penalty_min,l1_penalty_max,20)`:\n",
        "    * Fit a regression model with a given `l1_penalty` on TRAIN data. Specify `l1_penalty=l1_penalty` and `l2_penalty=0.` in the parameter list. When you call `linear_regression.create()` make sure you set `validation_set = None`\n",
        "    * Measure the RSS of the learned model on the VALIDATION set\n",
        "\n",
        "Find the model that the lowest RSS on the VALIDATION set and has sparsity *equal* to `max_nonzeros`."
      ],
      "attachments":{
        
      },
      "metadata":{
        
      }
    },
    {
      "cell_type":"code",
      "source":[
        "least_rss = -1\n",
        "least_rss_l1 = -1\n",
        "best_model = None\n",
        "for l1 in l1_penalty_values:\n",
        "    model = turicreate.linear_regression.create(dataset=training, target='price', features=all_features,\n",
        "                                                l2_penalty=0, l1_penalty=l1, validation_set=None, verbose=False)\n",
        "    nonzero_num = model.coefficients['value'].nnz()\n",
        "    if nonzero_num == max_nonzeros:\n",
        "        predicted = model.predict(validation)\n",
        "        cur_rss = sum(abs(predicted - validation['price']))\n",
        "        if least_rss == -1 or cur_rss < least_rss:\n",
        "            least_rss = cur_rss\n",
        "            least_rss_l1 = l1\n",
        "            best_model = model"
      ],
      "execution_count":20,
      "outputs":[
        
      ],
      "metadata":{
        
      }
    },
    {
      "cell_type":"markdown",
      "source":[
        "***QUIZ QUESTIONS***\n",
        "1. What value of `l1_penalty` in our narrow range has the lowest RSS on the VALIDATION set and has sparsity *equal* to `max_nonzeros`?\n",
        "2. What features in this model have non-zero coefficients?"
      ],
      "attachments":{
        
      },
      "metadata":{
        
      }
    },
    {
      "cell_type":"code",
      "source":[
        "least_rss_l1"
      ],
      "execution_count":21,
      "outputs":[
        
      ],
      "metadata":{
        
      }
    },
    {
      "cell_type":"code",
      "source":[
        "best_model_co = best_model.coefficients\n",
        "nonzero_coefficients = best_model_co[best_model_co['value'] != 0]\n",
        "nonzero_coefficients"
      ],
      "execution_count":22,
      "outputs":[
        
      ],
      "metadata":{
        
      }
    },
    {
      "cell_type":"code",
      "source":[
        
      ],
      "execution_count":22,
      "outputs":[
        
      ],
      "metadata":{
        
      }
    }
  ],
  "metadata":{
    
  },
  "nbformat":4,
  "nbformat_minor":0
}