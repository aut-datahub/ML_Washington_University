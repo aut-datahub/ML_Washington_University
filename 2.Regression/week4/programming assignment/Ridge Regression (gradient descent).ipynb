{
  "cells":[
    {
      "cell_type":"markdown",
      "source":[
        "# Regression Week 4: Ridge Regression (gradient descent)"
      ],
      "attachments":{
        
      },
      "metadata":{
        
      }
    },
    {
      "cell_type":"markdown",
      "source":[
        "In this notebook, you will implement ridge regression via gradient descent. You will:\n",
        "* Convert an SFrame into a Numpy array\n",
        "* Write a Numpy function to compute the derivative of the regression weights with respect to a single feature\n",
        "* Write gradient descent function to compute the regression weights given an initial weight vector, step size, tolerance, and L2 penalty"
      ],
      "attachments":{
        
      },
      "metadata":{
        
      }
    },
    {
      "cell_type":"markdown",
      "source":[
        "# Fire up Turi Create"
      ],
      "attachments":{
        
      },
      "metadata":{
        
      }
    },
    {
      "cell_type":"markdown",
      "source":[
        "Make sure you have the latest version of Turi Create"
      ],
      "attachments":{
        
      },
      "metadata":{
        
      }
    },
    {
      "cell_type":"code",
      "source":[
        "import turicreate"
      ],
      "execution_count":1,
      "outputs":[
        
      ],
      "metadata":{
        
      }
    },
    {
      "cell_type":"markdown",
      "source":[
        "# Load in house sales data\n",
        "\n",
        "Dataset is from house sales in King County, the region where the city of Seattle, WA is located."
      ],
      "attachments":{
        
      },
      "metadata":{
        
      }
    },
    {
      "cell_type":"code",
      "source":[
        "sales = turicreate.SFrame('home_data.sframe\/')"
      ],
      "execution_count":2,
      "outputs":[
        
      ],
      "metadata":{
        
      }
    },
    {
      "cell_type":"markdown",
      "source":[
        "If we want to do any \"feature engineering\" like creating new features or adjusting existing ones we should do this directly using the SFrames as seen in the first notebook of Week 2. For this notebook, however, we will work with the existing features."
      ],
      "attachments":{
        
      },
      "metadata":{
        
      }
    },
    {
      "cell_type":"markdown",
      "source":[
        "# Import useful functions from previous notebook"
      ],
      "attachments":{
        
      },
      "metadata":{
        
      }
    },
    {
      "cell_type":"markdown",
      "source":[
        "As in Week 2, we convert the SFrame into a 2D Numpy array. Copy and paste `get_numpy_data()` from the second notebook of Week 2."
      ],
      "attachments":{
        
      },
      "metadata":{
        
      }
    },
    {
      "cell_type":"code",
      "source":[
        "import numpy as np # note this allows us to refer to numpy as np instead "
      ],
      "execution_count":3,
      "outputs":[
        
      ],
      "metadata":{
        
      }
    },
    {
      "cell_type":"code",
      "source":[
        "def get_numpy_data(data_sframe, features, output):\n",
        "    data_sframe['constant'] = 1\n",
        "    features = ['constant'] + features\n",
        "    feature_matrix = data_sframe[features].to_numpy()\n",
        "    output_array = data_sframe[output].to_numpy()\n",
        "    return (feature_matrix, output_array)"
      ],
      "execution_count":4,
      "outputs":[
        
      ],
      "metadata":{
        
      }
    },
    {
      "cell_type":"markdown",
      "source":[
        "Also, copy and paste the `predict_output()` function to compute the predictions for an entire matrix of features given the matrix and the weights:"
      ],
      "attachments":{
        
      },
      "metadata":{
        
      }
    },
    {
      "cell_type":"code",
      "source":[
        "def predict_output(feature_matrix, weights):\n",
        "    predictions = np.dot(feature_matrix, weights)\n",
        "    return (predictions)"
      ],
      "execution_count":5,
      "outputs":[
        
      ],
      "metadata":{
        
      }
    },
    {
      "cell_type":"markdown",
      "source":[
        "# Computing the Derivative"
      ],
      "attachments":{
        
      },
      "metadata":{
        
      }
    },
    {
      "cell_type":"markdown",
      "source":[
        "We are now going to move to computing the derivative of the regression cost function. Recall that the cost function is the sum over the data points of the squared difference between an observed output and a predicted output, plus the L2 penalty term.\n",
        "```\n",
        "Cost(w)\n",
        "= SUM[ (prediction - output)^2 ]\n",
        "+ l2_penalty*(w[0]^2 + w[1]^2 + ... + w[k]^2).\n",
        "```\n",
        "\n",
        "Since the derivative of a sum is the sum of the derivatives, we can take the derivative of the first part (the RSS) as we did in the notebook for the unregularized case in Week 2 and add the derivative of the regularization part.  As we saw, the derivative of the RSS with respect to `w[i]` can be written as: \n",
        "```\n",
        "2*SUM[ error*[feature_i] ].\n",
        "```\n",
        "The derivative of the regularization term with respect to `w[i]` is:\n",
        "```\n",
        "2*l2_penalty*w[i].\n",
        "```\n",
        "Summing both, we get\n",
        "```\n",
        "2*SUM[ error*[feature_i] ] + 2*l2_penalty*w[i].\n",
        "```\n",
        "That is, the derivative for the weight for feature i is the sum (over data points) of 2 times the product of the error and the feature itself, plus `2*l2_penalty*w[i]`. \n",
        "\n",
        "**We will not regularize the constant.**  Thus, in the case of the constant, the derivative is just twice the sum of the errors (without the `2*l2_penalty*w[0]` term).\n",
        "\n",
        "Recall that twice the sum of the product of two vectors is just twice the dot product of the two vectors. Therefore the derivative for the weight for feature_i is just two times the dot product between the values of feature_i and the current errors, plus `2*l2_penalty*w[i]`.\n",
        "\n",
        "With this in mind complete the following derivative function which computes the derivative of the weight given the value of the feature (over all data points) and the errors (over all data points).  To decide when to we are dealing with the constant (so we don't regularize it) we added the extra parameter to the call `feature_is_constant` which you should set to `True` when computing the derivative of the constant and `False` otherwise."
      ],
      "attachments":{
        
      },
      "metadata":{
        
      }
    },
    {
      "cell_type":"code",
      "source":[
        "def feature_derivative_ridge(errors, feature, weight, l2_penalty, feature_is_constant):\n",
        "    # If feature_is_constant is True, derivative is twice the dot product of errors and feature\n",
        "    # Otherwise, derivative is twice the dot product plus 2*l2_penalty*weight\n",
        "    derivative = 2 * np.dot(errors, feature)\n",
        "    if not feature_is_constant:\n",
        "        derivative += 2 * l2_penalty * weight\n",
        "    return derivative"
      ],
      "execution_count":6,
      "outputs":[
        
      ],
      "metadata":{
        
      }
    },
    {
      "cell_type":"markdown",
      "source":[
        "# Gradient Descent"
      ],
      "attachments":{
        
      },
      "metadata":{
        
      }
    },
    {
      "cell_type":"markdown",
      "source":[
        "Now we will write a function that performs a gradient descent. The basic premise is simple. Given a starting point we update the current weights by moving in the negative gradient direction. Recall that the gradient is the direction of *increase* and therefore the negative gradient is the direction of *decrease* and we're trying to *minimize* a cost function. \n",
        "\n",
        "The amount by which we move in the negative gradient *direction*  is called the 'step size'. We stop when we are 'sufficiently close' to the optimum. Unlike in Week 2, this time we will set a **maximum number of iterations** and take gradient steps until we reach this maximum number. If no maximum number is supplied, the maximum should be set 100 by default. (Use default parameter values in Python.)\n",
        "\n",
        "With this in mind, complete the following gradient descent function below using your derivative function above. For each step in the gradient descent, we update the weight for each feature before computing our stopping criteria."
      ],
      "attachments":{
        
      },
      "metadata":{
        
      }
    },
    {
      "cell_type":"code",
      "source":[
        "def ridge_regression_gradient_descent(feature_matrix, output, initial_weights, step_size, l2_penalty, max_iterations=100):\n",
        "    print('Starting gradient descent with l2_penalty = ' + str(l2_penalty))\n",
        "\n",
        "    weights = np.array(initial_weights)  # make sure it's a numpy array\n",
        "    iteration = 0  # iteration counter\n",
        "    print_frequency = 1  # for adjusting frequency of debugging output\n",
        "\n",
        "    while iteration < max_iterations:\n",
        "        iteration += 1  # increment iteration counter\n",
        "        ### === code section for adjusting frequency of debugging output. ===\n",
        "        if iteration == 10:\n",
        "            print_frequency = 10\n",
        "        if iteration == 100:\n",
        "            print_frequency = 100\n",
        "        if iteration % print_frequency == 0:\n",
        "            print('Iteration = ' + str(iteration))\n",
        "        ### === end code section ===\n",
        "\n",
        "        predictions = predict_output(feature_matrix, weights)\n",
        "        errors = predictions - output\n",
        "\n",
        "        # from time to time, print the value of the cost function\n",
        "        if iteration % print_frequency == 0:\n",
        "            print('Cost function = ', str(np.dot(errors, errors) + l2_penalty * (\n",
        "                    np.dot(weights, weights) - weights[0] ** 2)))\n",
        "\n",
        "        for i in range(len(weights)):  # loop over each weight\n",
        "            derivative = feature_derivative_ridge(errors, feature_matrix[:, i], weights[i], l2_penalty, i == 0)\n",
        "            weights[i] = weights[i] - step_size * derivative\n",
        "\n",
        "    print('Done with gradient descent at iteration ', iteration)\n",
        "    print('Learned weights = ', str(weights))\n",
        "    return weights"
      ],
      "execution_count":7,
      "outputs":[
        
      ],
      "metadata":{
        
      }
    },
    {
      "cell_type":"markdown",
      "source":[
        "# Visualizing effect of L2 penalty"
      ],
      "attachments":{
        
      },
      "metadata":{
        
      }
    },
    {
      "cell_type":"markdown",
      "source":[
        "The L2 penalty gets its name because it causes weights to have small L2 norms than otherwise. Let's see how large weights get penalized. Let us consider a simple model with 1 feature:"
      ],
      "attachments":{
        
      },
      "metadata":{
        
      }
    },
    {
      "cell_type":"code",
      "source":[
        "simple_features = ['sqft_living']\n",
        "my_output = 'price'"
      ],
      "execution_count":8,
      "outputs":[
        
      ],
      "metadata":{
        
      }
    },
    {
      "cell_type":"markdown",
      "source":[
        "Let us split the dataset into training set and test set. Make sure to use `seed=0`:"
      ],
      "attachments":{
        
      },
      "metadata":{
        
      }
    },
    {
      "cell_type":"code",
      "source":[
        "train_data,test_data = sales.random_split(.8,seed=0)"
      ],
      "execution_count":9,
      "outputs":[
        
      ],
      "metadata":{
        
      }
    },
    {
      "cell_type":"markdown",
      "source":[
        "In this part, we will only use `'sqft_living'` to predict `'price'`. Use the `get_numpy_data` function to get a Numpy versions of your data with only this feature, for both the `train_data` and the `test_data`. "
      ],
      "attachments":{
        
      },
      "metadata":{
        
      }
    },
    {
      "cell_type":"code",
      "source":[
        "(simple_feature_matrix, output) = get_numpy_data(train_data, simple_features, my_output)\n",
        "(simple_test_feature_matrix, test_output) = get_numpy_data(test_data, simple_features, my_output)"
      ],
      "execution_count":10,
      "outputs":[
        
      ],
      "metadata":{
        
      }
    },
    {
      "cell_type":"markdown",
      "source":[
        "Let's set the parameters for our optimization:"
      ],
      "attachments":{
        
      },
      "metadata":{
        
      }
    },
    {
      "cell_type":"code",
      "source":[
        "initial_weights = np.array([0., 0.])\n",
        "step_size = 1e-12\n",
        "max_iterations=1000"
      ],
      "execution_count":11,
      "outputs":[
        
      ],
      "metadata":{
        
      }
    },
    {
      "cell_type":"markdown",
      "source":[
        "First, let's consider no regularization.  Set the `l2_penalty` to `0.0` and run your ridge regression algorithm to learn the weights of your model.  Call your weights:\n",
        "\n",
        "`simple_weights_0_penalty`\n",
        "\n",
        "we'll use them later."
      ],
      "attachments":{
        
      },
      "metadata":{
        
      }
    },
    {
      "cell_type":"code",
      "source":[
        "simple_weights_0_penalty = ridge_regression_gradient_descent(simple_feature_matrix, output,\n",
        "                                                             initial_weights, step_size, 0, max_iterations)"
      ],
      "execution_count":12,
      "outputs":[
        
      ],
      "metadata":{
        
      }
    },
    {
      "cell_type":"markdown",
      "source":[
        "Next, let's consider high regularization.  Set the `l2_penalty` to `1e11` and run your ridge regression algorithm to learn the weights of your model.  Call your weights:\n",
        "\n",
        "`simple_weights_high_penalty`\n",
        "\n",
        "we'll use them later."
      ],
      "attachments":{
        
      },
      "metadata":{
        
      }
    },
    {
      "cell_type":"code",
      "source":[
        "simple_weights_high_penalty = ridge_regression_gradient_descent(simple_feature_matrix, output,\n",
        "                                                             initial_weights, step_size, 1e11, max_iterations)"
      ],
      "execution_count":13,
      "outputs":[
        
      ],
      "metadata":{
        
      }
    },
    {
      "cell_type":"markdown",
      "source":[
        "This code will plot the two learned models.  (The blue line is for the model with no regularization and the red line is for the one with high regularization.)"
      ],
      "attachments":{
        
      },
      "metadata":{
        
      }
    },
    {
      "cell_type":"code",
      "source":[
        "import matplotlib.pyplot as plt\n",
        "%matplotlib inline\n",
        "plt.plot(simple_feature_matrix,output,'k.',\n",
        "         simple_feature_matrix,predict_output(simple_feature_matrix, simple_weights_0_penalty),'b-',\n",
        "        simple_feature_matrix,predict_output(simple_feature_matrix, simple_weights_high_penalty),'r-')"
      ],
      "execution_count":14,
      "outputs":[
        
      ],
      "metadata":{
        
      }
    },
    {
      "cell_type":"markdown",
      "source":[
        "Compute the RSS on the TEST data for the following three sets of weights:\n",
        "1. The initial weights (all zeros)\n",
        "2. The weights learned with no regularization\n",
        "3. The weights learned with high regularization\n",
        "\n",
        "Which weights perform best?"
      ],
      "attachments":{
        
      },
      "metadata":{
        
      }
    },
    {
      "cell_type":"code",
      "source":[
        "errors = predict_output(simple_test_feature_matrix, initial_weights) - test_output\n",
        "rss0 = (errors * errors).sum()"
      ],
      "execution_count":15,
      "outputs":[
        
      ],
      "metadata":{
        
      }
    },
    {
      "cell_type":"code",
      "source":[
        "errors = predict_output(simple_test_feature_matrix, simple_weights_0_penalty) - test_output\n",
        "rss1 = (errors * errors).sum()"
      ],
      "execution_count":16,
      "outputs":[
        
      ],
      "metadata":{
        
      }
    },
    {
      "cell_type":"code",
      "source":[
        "errors = predict_output(simple_test_feature_matrix, simple_weights_high_penalty) - test_output\n",
        "rss2 = (errors * errors).sum()"
      ],
      "execution_count":17,
      "outputs":[
        
      ],
      "metadata":{
        
      }
    },
    {
      "cell_type":"code",
      "source":[
        "rss1 < rss2 < rss0"
      ],
      "execution_count":18,
      "outputs":[
        
      ],
      "metadata":{
        
      }
    },
    {
      "cell_type":"markdown",
      "source":[
        "***QUIZ QUESTIONS***\n",
        "1. What is the value of the coefficient for `sqft_living` that you learned with no regularization, rounded to 1 decimal place?  What about the one with high regularization?\n",
        "2. Comparing the lines you fit with the with no regularization versus high regularization, which one is steeper?\n",
        "3. What are the RSS on the test data for each of the set of weights above (initial, no regularization, high regularization)? "
      ],
      "attachments":{
        
      },
      "metadata":{
        
      }
    },
    {
      "cell_type":"markdown",
      "source":[
        "# Running a multiple regression with L2 penalty"
      ],
      "attachments":{
        
      },
      "metadata":{
        
      }
    },
    {
      "cell_type":"markdown",
      "source":[
        "Let us now consider a model with 2 features: `['sqft_living', 'sqft_living15']`."
      ],
      "attachments":{
        
      },
      "metadata":{
        
      }
    },
    {
      "cell_type":"markdown",
      "source":[
        "First, create Numpy versions of your training and test data with these two features. "
      ],
      "attachments":{
        
      },
      "metadata":{
        
      }
    },
    {
      "cell_type":"code",
      "source":[
        "model_features = ['sqft_living', 'sqft_living15'] # sqft_living15 is the average squarefeet for the nearest 15 neighbors. \n",
        "my_output = 'price'\n",
        "(feature_matrix, output) = get_numpy_data(train_data, model_features, my_output)\n",
        "(test_feature_matrix, test_output) = get_numpy_data(test_data, model_features, my_output)"
      ],
      "execution_count":19,
      "outputs":[
        
      ],
      "metadata":{
        
      }
    },
    {
      "cell_type":"markdown",
      "source":[
        "We need to re-inialize the weights, since we have one extra parameter. Let us also set the step size and maximum number of iterations."
      ],
      "attachments":{
        
      },
      "metadata":{
        
      }
    },
    {
      "cell_type":"code",
      "source":[
        "initial_weights = np.array([0.0,0.0,0.0])\n",
        "step_size = 1e-12\n",
        "max_iterations = 1000"
      ],
      "execution_count":20,
      "outputs":[
        
      ],
      "metadata":{
        
      }
    },
    {
      "cell_type":"markdown",
      "source":[
        "First, let's consider no regularization.  Set the `l2_penalty` to `0.0` and run your ridge regression algorithm to learn the weights of your model.  Call your weights:\n",
        "\n",
        "`multiple_weights_0_penalty`"
      ],
      "attachments":{
        
      },
      "metadata":{
        
      }
    },
    {
      "cell_type":"code",
      "source":[
        "multiple_weights_0_penalty = ridge_regression_gradient_descent(feature_matrix,output,initial_weights,\n",
        "                                                               step_size,0,max_iterations)"
      ],
      "execution_count":21,
      "outputs":[
        
      ],
      "metadata":{
        
      }
    },
    {
      "cell_type":"markdown",
      "source":[
        "Next, let's consider high regularization.  Set the `l2_penalty` to `1e11` and run your ridge regression algorithm to learn the weights of your model.  Call your weights:\n",
        "\n",
        "`multiple_weights_high_penalty`"
      ],
      "attachments":{
        
      },
      "metadata":{
        
      }
    },
    {
      "cell_type":"code",
      "source":[
        "multiple_weights_high_penalty = ridge_regression_gradient_descent(feature_matrix, output, initial_weights,\n",
        "                                                                  step_size, 1e11, max_iterations)"
      ],
      "execution_count":22,
      "outputs":[
        
      ],
      "metadata":{
        
      }
    },
    {
      "cell_type":"markdown",
      "source":[
        "Compute the RSS on the TEST data for the following three sets of weights:\n",
        "1. The initial weights (all zeros)\n",
        "2. The weights learned with no regularization\n",
        "3. The weights learned with high regularization\n",
        "\n",
        "Which weights perform best?"
      ],
      "attachments":{
        
      },
      "metadata":{
        
      }
    },
    {
      "cell_type":"code",
      "source":[
        "errors = predict_output(test_feature_matrix, initial_weights) - test_output\n",
        "rss0 = (errors * errors).sum()\n",
        "rss0"
      ],
      "execution_count":23,
      "outputs":[
        
      ],
      "metadata":{
        
      }
    },
    {
      "cell_type":"code",
      "source":[
        "errors = predict_output(test_feature_matrix, multiple_weights_0_penalty) - test_output\n",
        "rss1 = (errors * errors).sum()\n",
        "rss1"
      ],
      "execution_count":24,
      "outputs":[
        
      ],
      "metadata":{
        
      }
    },
    {
      "cell_type":"code",
      "source":[
        "errors = predict_output(test_feature_matrix, multiple_weights_high_penalty) - test_output\n",
        "rss2 = (errors * errors).sum()\n",
        "rss2"
      ],
      "execution_count":25,
      "outputs":[
        
      ],
      "metadata":{
        
      }
    },
    {
      "cell_type":"markdown",
      "source":[
        "Predict the house price for the 1st house in the test set using the no regularization and high regularization models. (Remember that python starts indexing from 0.) How far is the prediction from the actual price?  Which weights perform best for the 1st house?"
      ],
      "attachments":{
        
      },
      "metadata":{
        
      }
    },
    {
      "cell_type":"code",
      "source":[
        "errors = predict_output(test_feature_matrix[0], multiple_weights_high_penalty) - test_output[0]\n",
        "rss = (errors * errors).sum()\n",
        "rss"
      ],
      "execution_count":26,
      "outputs":[
        
      ],
      "metadata":{
        
      }
    },
    {
      "cell_type":"code",
      "source":[
        "errors = predict_output(test_feature_matrix[0], multiple_weights_0_penalty) - test_output[0]\n",
        "rss = (errors * errors).sum()\n",
        "rss"
      ],
      "execution_count":27,
      "outputs":[
        
      ],
      "metadata":{
        
      }
    },
    {
      "cell_type":"markdown",
      "source":[
        "***QUIZ QUESTIONS***\n",
        "1. What is the value of the coefficient for `sqft_living` that you learned with no regularization, rounded to 1 decimal place?  What about the one with high regularization?\n",
        "2. What are the RSS on the test data for each of the set of weights above (initial, no regularization, high regularization)? \n",
        "3. We make prediction for the first house in the test set using two sets of weights (no regularization vs high regularization). Which weights make better prediction <u>for that particular house<\/u>?"
      ],
      "attachments":{
        
      },
      "metadata":{
        
      }
    },
    {
      "cell_type":"code",
      "source":[
        
      ],
      "execution_count":27,
      "outputs":[
        
      ],
      "metadata":{
        
      }
    }
  ],
  "metadata":{
    
  },
  "nbformat":4,
  "nbformat_minor":0
}