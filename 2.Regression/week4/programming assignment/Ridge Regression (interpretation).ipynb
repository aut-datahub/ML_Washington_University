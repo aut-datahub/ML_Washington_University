{
  "cells":[
    {
      "cell_type":"markdown",
      "source":[
        "# Regression Week 4: Ridge Regression (interpretation)"
      ],
      "attachments":{
        
      },
      "metadata":{
        
      }
    },
    {
      "cell_type":"markdown",
      "source":[
        "In this notebook, we will run ridge regression multiple times with different L2 penalties to see which one produces the best fit. We will revisit the example of polynomial regression as a means to see the effect of L2 regularization. In particular, we will:\n",
        "* Use a pre-built implementation of regression (Turi Create) to run polynomial regression\n",
        "* Use matplotlib to visualize polynomial regressions\n",
        "* Use a pre-built implementation of regression (Turi Create) to run polynomial regression, this time with L2 penalty\n",
        "* Use matplotlib to visualize polynomial regressions under L2 regularization\n",
        "* Choose best L2 penalty using cross-validation.\n",
        "* Assess the final fit using test data.\n",
        "\n",
        "We will continue to use the House data from previous notebooks.  (In the next programming assignment for this module, you will implement your own ridge regression learning algorithm using gradient descent.)"
      ],
      "attachments":{
        
      },
      "metadata":{
        
      }
    },
    {
      "cell_type":"markdown",
      "source":[
        "# Fire up Turi Create"
      ],
      "attachments":{
        
      },
      "metadata":{
        
      }
    },
    {
      "cell_type":"code",
      "source":[
        "import turicreate"
      ],
      "execution_count":1,
      "outputs":[
        
      ],
      "metadata":{
        
      }
    },
    {
      "cell_type":"markdown",
      "source":[
        "# Polynomial regression, revisited"
      ],
      "attachments":{
        
      },
      "metadata":{
        
      }
    },
    {
      "cell_type":"markdown",
      "source":[
        "We build on the material from Week 3, where we wrote the function to produce an SFrame with columns containing the powers of a given input. Copy and paste the function `polynomial_sframe` from Week 3:"
      ],
      "attachments":{
        
      },
      "metadata":{
        
      }
    },
    {
      "cell_type":"code",
      "source":[
        "def polynomial_sframe(feature, degree):\n",
        "    poly_sframe = turicreate.SFrame()\n",
        "    poly_sframe['power_1'] = feature\n",
        "    if degree > 1:\n",
        "        for power in range(2, degree + 1):\n",
        "            name = 'power_' + str(power)\n",
        "            poly_sframe[name] = poly_sframe['power_1'].apply(lambda x: x ** power)\n",
        "    return poly_sframe"
      ],
      "execution_count":2,
      "outputs":[
        
      ],
      "metadata":{
        
      }
    },
    {
      "cell_type":"markdown",
      "source":[
        "Let's use matplotlib to visualize what a polynomial regression looks like on the house data."
      ],
      "attachments":{
        
      },
      "metadata":{
        
      }
    },
    {
      "cell_type":"code",
      "source":[
        "import matplotlib.pyplot as plt\n",
        "%matplotlib inline"
      ],
      "execution_count":3,
      "outputs":[
        
      ],
      "metadata":{
        
      }
    },
    {
      "cell_type":"code",
      "source":[
        "sales = turicreate.SFrame('home_data.sframe')"
      ],
      "execution_count":4,
      "outputs":[
        
      ],
      "metadata":{
        
      }
    },
    {
      "cell_type":"markdown",
      "source":[
        "As in Week 3, we will use the sqft_living variable. For plotting purposes (connecting the dots), you'll need to sort by the values of sqft_living. For houses with identical square footage, we break the tie by their prices."
      ],
      "attachments":{
        
      },
      "metadata":{
        
      }
    },
    {
      "cell_type":"code",
      "source":[
        "sales = sales.sort(['sqft_living','price'])"
      ],
      "execution_count":5,
      "outputs":[
        
      ],
      "metadata":{
        
      }
    },
    {
      "cell_type":"markdown",
      "source":[
        "Let us revisit the 15th-order polynomial model using the 'sqft_living' input. Generate polynomial features up to degree 15 using `polynomial_sframe()` and fit a model with these features. When fitting the model, use an L2 penalty of `1e-5`:"
      ],
      "attachments":{
        
      },
      "metadata":{
        
      }
    },
    {
      "cell_type":"code",
      "source":[
        "l2_small_penalty = 1e-5"
      ],
      "execution_count":6,
      "outputs":[
        
      ],
      "metadata":{
        
      }
    },
    {
      "cell_type":"markdown",
      "source":[
        "Note: When we have so many features and so few data points, the solution can become highly numerically unstable, which can sometimes lead to strange unpredictable results.  Thus, rather than using no regularization, we will introduce a tiny amount of regularization (`l2_penalty=1e-5`) to make the solution numerically stable.  (In lecture, we discussed the fact that regularization can also help with numerical stability, and here we are seeing a practical example.)\n",
        "\n",
        "With the L2 penalty specified above, fit the model and print out the learned weights.\n",
        "\n",
        "Hint: make sure to add 'price' column to the new SFrame before calling `turicreate.linear_regression.create()`. Also, make sure Turi Create doesn't create its own validation set by using the option `validation_set=None` in this call."
      ],
      "attachments":{
        
      },
      "metadata":{
        
      }
    },
    {
      "cell_type":"code",
      "source":[
        "poly_15_data = polynomial_sframe(sales['sqft_living'], 15)\n",
        "my_features = poly_15_data.column_names()\n",
        "poly_15_data['price'] = sales['price']\n",
        "model = turicreate.linear_regression.create(poly_15_data, target='price', features=my_features, l2_penalty=l2_small_penalty, verbose=False, validation_set = None)"
      ],
      "execution_count":7,
      "outputs":[
        
      ],
      "metadata":{
        
      }
    },
    {
      "cell_type":"markdown",
      "source":[
        "***QUIZ QUESTION:  What's the learned value for the coefficient of feature `power_1`?***"
      ],
      "attachments":{
        
      },
      "metadata":{
        
      }
    },
    {
      "cell_type":"code",
      "source":[
        "model.coefficients.print_rows(2)"
      ],
      "execution_count":8,
      "outputs":[
        
      ],
      "metadata":{
        
      }
    },
    {
      "cell_type":"markdown",
      "source":[
        "# Observe overfitting"
      ],
      "attachments":{
        
      },
      "metadata":{
        
      }
    },
    {
      "cell_type":"markdown",
      "source":[
        "Recall from Week 3 that the polynomial fit of degree 15 changed wildly whenever the data changed. In particular, when we split the sales data into four subsets and fit the model of degree 15, the result came out to be very different for each subset. The model had a *high variance*. We will see in a moment that ridge regression reduces such variance. But first, we must reproduce the experiment we did in Week 3."
      ],
      "attachments":{
        
      },
      "metadata":{
        
      }
    },
    {
      "cell_type":"markdown",
      "source":[
        "First, split the data into split the sales data into four subsets of roughly equal size and call them `set_1`, `set_2`, `set_3`, and `set_4`. Use `.random_split` function and make sure you set `seed=0`. "
      ],
      "attachments":{
        
      },
      "metadata":{
        
      }
    },
    {
      "cell_type":"code",
      "source":[
        "(semi_split1, semi_split2) = sales.random_split(.5,seed=0)\n",
        "(set_1, set_2) = semi_split1.random_split(0.5, seed=0)\n",
        "(set_3, set_4) = semi_split2.random_split(0.5, seed=0)"
      ],
      "execution_count":9,
      "outputs":[
        
      ],
      "metadata":{
        
      }
    },
    {
      "cell_type":"markdown",
      "source":[
        "Next, fit a 15th degree polynomial on `set_1`, `set_2`, `set_3`, and `set_4`, using 'sqft_living' to predict prices. Print the weights and make a plot of the resulting model.\n",
        "\n",
        "Hint: When calling `turicreate.linear_regression.create()`, use the same L2 penalty as before (i.e. `l2_small_penalty`).  Also, make sure Turi Create doesn't create its own validation set by using the option `validation_set = None` in this call."
      ],
      "attachments":{
        
      },
      "metadata":{
        
      }
    },
    {
      "cell_type":"code",
      "source":[
        "poly_15_sframe = polynomial_sframe(set_1['sqft_living'], 15)\n",
        "my_features = poly_15_sframe.column_names()\n",
        "poly_15_sframe['price'] = set_1['price']\n",
        "model = turicreate.linear_regression.create(poly_15_sframe, 'price', my_features, l2_small_penalty, validation_set=None, verbose=False)"
      ],
      "execution_count":10,
      "outputs":[
        
      ],
      "metadata":{
        
      }
    },
    {
      "cell_type":"code",
      "source":[
        "plt.plot(poly_15_sframe['power_1'], poly_15_sframe['price'], '.',\n",
        "         poly_15_sframe['power_1'], model.predict(poly_15_sframe), '-')"
      ],
      "execution_count":11,
      "outputs":[
        
      ],
      "metadata":{
        
      }
    },
    {
      "cell_type":"code",
      "source":[
        "model.coefficients.print_rows(2)"
      ],
      "execution_count":12,
      "outputs":[
        
      ],
      "metadata":{
        
      }
    },
    {
      "cell_type":"code",
      "source":[
        "poly_15_sframe = polynomial_sframe(set_2['sqft_living'], 15)\n",
        "my_features = poly_15_sframe.column_names()\n",
        "poly_15_sframe['price'] = set_2['price']\n",
        "model = turicreate.linear_regression.create(poly_15_sframe, 'price', my_features, l2_small_penalty, validation_set=None, verbose=False)"
      ],
      "execution_count":13,
      "outputs":[
        
      ],
      "metadata":{
        
      }
    },
    {
      "cell_type":"code",
      "source":[
        "plt.plot(poly_15_sframe['power_1'], poly_15_sframe['price'], '.',\n",
        "         poly_15_sframe['power_1'], model.predict(poly_15_sframe), '-')\n",
        "         "
      ],
      "execution_count":14,
      "outputs":[
        
      ],
      "metadata":{
        
      }
    },
    {
      "cell_type":"code",
      "source":[
        "model.coefficients.print_rows(2)"
      ],
      "execution_count":15,
      "outputs":[
        
      ],
      "metadata":{
        
      }
    },
    {
      "cell_type":"code",
      "source":[
        "poly_15_sframe = polynomial_sframe(set_3['sqft_living'], 15)\n",
        "my_features = poly_15_sframe.column_names()\n",
        "poly_15_sframe['price'] = set_3['price']\n",
        "model = turicreate.linear_regression.create(poly_15_sframe, 'price', my_features, l2_small_penalty, validation_set=None, verbose=False)"
      ],
      "execution_count":16,
      "outputs":[
        
      ],
      "metadata":{
        
      }
    },
    {
      "cell_type":"code",
      "source":[
        "plt.plot(poly_15_sframe['power_1'], poly_15_sframe['price'], '.',\n",
        "         poly_15_sframe['power_1'], model.predict(poly_15_sframe), '-')"
      ],
      "execution_count":17,
      "outputs":[
        
      ],
      "metadata":{
        
      }
    },
    {
      "cell_type":"code",
      "source":[
        "model.coefficients.print_rows(2)"
      ],
      "execution_count":18,
      "outputs":[
        
      ],
      "metadata":{
        
      }
    },
    {
      "cell_type":"code",
      "source":[
        "poly_15_sframe = polynomial_sframe(set_4['sqft_living'], 15)\n",
        "my_features = poly_15_sframe.column_names()\n",
        "poly_15_sframe['price'] = set_4['price']\n",
        "model = turicreate.linear_regression.create(poly_15_sframe, 'price', my_features, l2_small_penalty, validation_set=None, verbose=False)"
      ],
      "execution_count":19,
      "outputs":[
        
      ],
      "metadata":{
        
      }
    },
    {
      "cell_type":"code",
      "source":[
        "plt.plot(poly_15_sframe['power_1'], poly_15_sframe['price'], '.',\n",
        "         poly_15_sframe['power_1'], model.predict(poly_15_sframe), '-')"
      ],
      "execution_count":20,
      "outputs":[
        
      ],
      "metadata":{
        
      }
    },
    {
      "cell_type":"markdown",
      "source":[
        "The four curves should differ from one another a lot, as should the coefficients you learned.\n",
        "\n",
        "***QUIZ QUESTION:  For the models learned in each of these training sets, what are the smallest and largest values you learned for the coefficient of feature `power_1`?***  (For the purpose of answering this question, negative numbers are considered \"smaller\" than positive numbers. So -5 is smaller than -3, and -3 is smaller than 5 and so forth.)"
      ],
      "attachments":{
        
      },
      "metadata":{
        
      }
    },
    {
      "cell_type":"code",
      "source":[
        "model.coefficients.print_rows(2)"
      ],
      "execution_count":21,
      "outputs":[
        
      ],
      "metadata":{
        
      }
    },
    {
      "cell_type":"markdown",
      "source":[
        "# Ridge regression comes to rescue"
      ],
      "attachments":{
        
      },
      "metadata":{
        
      }
    },
    {
      "cell_type":"markdown",
      "source":[
        "Generally, whenever we see weights change so much in response to change in data, we believe the variance of our estimate to be large. Ridge regression aims to address this issue by penalizing \"large\" weights. (Weights of `model15` looked quite small, but they are not that small because 'sqft_living' input is in the order of thousands.)\n",
        "\n",
        "With the argument `l2_penalty=1e5`, fit a 15th-order polynomial model on `set_1`, `set_2`, `set_3`, and `set_4`. Other than the change in the `l2_penalty` parameter, the code should be the same as the experiment above. Also, make sure Turi Create doesn't create its own validation set by using the option `validation_set = None` in this call."
      ],
      "attachments":{
        
      },
      "metadata":{
        
      }
    },
    {
      "cell_type":"code",
      "source":[
        "poly_15_sframe = polynomial_sframe(set_1['sqft_living'], 15)\n",
        "my_features = poly_15_sframe.column_names()\n",
        "poly_15_sframe['price'] = set_1['price']\n",
        "model = turicreate.linear_regression.create(poly_15_sframe, target='price', features=my_features, l2_penalty=1e5, validation_set=None, verbose=False)\n",
        "plt.plot(poly_15_sframe['power_1'], poly_15_sframe['price'], '.',\n",
        "         poly_15_sframe['power_1'], model.predict(poly_15_sframe), '-')"
      ],
      "execution_count":22,
      "outputs":[
        
      ],
      "metadata":{
        
      }
    },
    {
      "cell_type":"code",
      "source":[
        "model.coefficients.print_rows(2)"
      ],
      "execution_count":23,
      "outputs":[
        
      ],
      "metadata":{
        
      }
    },
    {
      "cell_type":"code",
      "source":[
        "poly_15_sframe = polynomial_sframe(set_2['sqft_living'], 15)\n",
        "my_features = poly_15_sframe.column_names()\n",
        "poly_15_sframe['price'] = set_2['price']\n",
        "model = turicreate.linear_regression.create(poly_15_sframe, target='price', features=my_features, l2_penalty=1e5, validation_set=None, verbose=False)\n",
        "plt.plot(poly_15_sframe['power_1'], poly_15_sframe['price'], '.',\n",
        "         poly_15_sframe['power_1'], model.predict(poly_15_sframe), '-')"
      ],
      "execution_count":24,
      "outputs":[
        
      ],
      "metadata":{
        
      }
    },
    {
      "cell_type":"code",
      "source":[
        "model.coefficients.print_rows(2)"
      ],
      "execution_count":25,
      "outputs":[
        
      ],
      "metadata":{
        
      }
    },
    {
      "cell_type":"code",
      "source":[
        "poly_15_sframe = polynomial_sframe(set_3['sqft_living'], 15)\n",
        "my_features = poly_15_sframe.column_names()\n",
        "poly_15_sframe['price'] = set_3['price']\n",
        "model = turicreate.linear_regression.create(poly_15_sframe, target='price', features=my_features, l2_penalty=1e5, validation_set=None, verbose=False)\n",
        "plt.plot(poly_15_sframe['power_1'], poly_15_sframe['price'], '.',\n",
        "         poly_15_sframe['power_1'], model.predict(poly_15_sframe), '-')"
      ],
      "execution_count":26,
      "outputs":[
        
      ],
      "metadata":{
        
      }
    },
    {
      "cell_type":"code",
      "source":[
        "model.coefficients.print_rows(2)"
      ],
      "execution_count":27,
      "outputs":[
        
      ],
      "metadata":{
        
      }
    },
    {
      "cell_type":"code",
      "source":[
        "poly_15_sframe = polynomial_sframe(set_4['sqft_living'], 15)\n",
        "my_features = poly_15_sframe.column_names()\n",
        "poly_15_sframe['price'] = set_4['price']\n",
        "model = turicreate.linear_regression.create(poly_15_sframe, target='price', features=my_features, l2_penalty=1e5, validation_set=None, verbose=False)\n",
        "plt.plot(poly_15_sframe['power_1'], poly_15_sframe['price'], '.',\n",
        "         poly_15_sframe['power_1'], model.predict(poly_15_sframe), '-')"
      ],
      "execution_count":28,
      "outputs":[
        
      ],
      "metadata":{
        
      }
    },
    {
      "cell_type":"code",
      "source":[
        "model.coefficients.print_rows(2)"
      ],
      "execution_count":29,
      "outputs":[
        
      ],
      "metadata":{
        
      }
    },
    {
      "cell_type":"markdown",
      "source":[
        "These curves should vary a lot less, now that you applied a high degree of regularization.\n",
        "\n",
        "***QUIZ QUESTION:  For the models learned with the high level of regularization in each of these training sets, what are the smallest and largest values you learned for the coefficient of feature `power_1`?*** (For the purpose of answering this question, negative numbers are considered \"smaller\" than positive numbers. So -5 is smaller than -3, and -3 is smaller than 5 and so forth.)"
      ],
      "attachments":{
        
      },
      "metadata":{
        
      }
    },
    {
      "cell_type":"markdown",
      "source":[
        "# Selecting an L2 penalty via cross-validation"
      ],
      "attachments":{
        
      },
      "metadata":{
        
      }
    },
    {
      "cell_type":"markdown",
      "source":[
        "Just like the polynomial degree, the L2 penalty is a \"magic\" parameter we need to select. We could use the validation set approach as we did in the last module, but that approach has a major disadvantage: it leaves fewer observations available for training. **Cross-validation** seeks to overcome this issue by using all of the training set in a smart way.\n",
        "\n",
        "We will implement a kind of cross-validation called **k-fold cross-validation**. The method gets its name because it involves dividing the training set into k segments of roughtly equal size. Similar to the validation set method, we measure the validation error with one of the segments designated as the validation set. The major difference is that we repeat the process k times as follows:\n",
        "\n",
        "Set aside segment 0 as the validation set, and fit a model on rest of data, and evalutate it on this validation set<br>\n",
        "Set aside segment 1 as the validation set, and fit a model on rest of data, and evalutate it on this validation set<br>\n",
        "...<br>\n",
        "Set aside segment k-1 as the validation set, and fit a model on rest of data, and evalutate it on this validation set\n",
        "\n",
        "After this process, we compute the average of the k validation errors, and use it as an estimate of the generalization error. Notice that  all observations are used for both training and validation, as we iterate over segments of data. \n",
        "\n",
        "To estimate the generalization error well, it is crucial to shuffle the training data before dividing them into segments. The package turicreate_cross_validation (see below) has a utility function for shuffling a given SFrame. We reserve 10% of the data as the test set and shuffle the remainder. (Make sure to use `seed=1` to get consistent answer.)\n",
        "\n",
        "  \n",
        "_Note:_ For applying cross-validation, we will import a package called `turicreate_cross_validation`. To install it, please run this command on your terminal:\n",
        "\n",
        "`pip install -e git+https:\/\/github.com\/Kagandi\/turicreate-cross-validation.git#egg=turicreate_cross_validation`\n",
        "\n",
        "You can find the documentation on this package here: https:\/\/github.com\/Kagandi\/turicreate-cross-validation"
      ],
      "attachments":{
        
      },
      "metadata":{
        
      }
    },
    {
      "cell_type":"code",
      "source":[
        "import turicreate_cross_validation.cross_validation as tcv\n",
        "\n",
        "(train_valid, test) = sales.random_split(.9, seed=1)\n",
        "train_valid_shuffled = tcv.shuffle_sframe(train_valid, random_seed=1)"
      ],
      "execution_count":30,
      "outputs":[
        
      ],
      "metadata":{
        
      }
    },
    {
      "cell_type":"markdown",
      "source":[
        "Once the data is shuffled, we divide it into equal segments. Each segment should receive `n\/k` elements, where `n` is the number of observations in the training set and `k` is the number of segments. Since the segment 0 starts at index 0 and contains `n\/k` elements, it ends at index `(n\/k)-1`. The segment 1 starts where the segment 0 left off, at index `(n\/k)`. With `n\/k` elements, the segment 1 ends at index `(n*2\/k)-1`. Continuing in this fashion, we deduce that the segment `i` starts at index `(n*i\/k)` and ends at `(n*(i+1)\/k)-1`."
      ],
      "attachments":{
        
      },
      "metadata":{
        
      }
    },
    {
      "cell_type":"markdown",
      "source":[
        "Now let us extract individual segments with array slicing. Consider the scenario where we group the houses in the `train_valid_shuffled` dataframe into k=10 segments of roughly equal size, with starting and ending indices computed as above.\n",
        "Extract the fourth segment (segment 3) and assign it to a variable called `validation4`."
      ],
      "attachments":{
        
      },
      "metadata":{
        
      }
    },
    {
      "cell_type":"code",
      "source":[
        "n = len(train_valid_shuffled)\n",
        "start = 3 * n \/ 10\n",
        "end = 4 * n \/10 - 1\n",
        "validation4 = train_valid_shuffled[start:end]"
      ],
      "execution_count":32,
      "outputs":[
        
      ],
      "metadata":{
        
      }
    },
    {
      "cell_type":"markdown",
      "source":[
        "Extract the remainder of the data after *excluding* fourth segment (segment 3) and assign the subset to `train4`."
      ],
      "attachments":{
        
      },
      "metadata":{
        
      }
    },
    {
      "cell_type":"code",
      "source":[
        "train4 = train_valid_shuffled[:start]\n",
        "train4 = train4.append(train_valid_shuffled[end+1:])"
      ],
      "execution_count":33,
      "outputs":[
        
      ],
      "metadata":{
        
      }
    },
    {
      "cell_type":"markdown",
      "source":[
        "Now we are ready to implement k-fold cross-validation. Write a function that computes k validation errors by designating each of the k segments as the validation set. It accepts as parameters (i) `k`, (ii) `l2_penalty`, (iii) dataframe, (iv) name of output column (e.g. `price`) and (v) list of feature names. The function returns the average validation error using k segments as validation sets.\n",
        "\n",
        "* For each i in [0, 1, ..., k-1]:\n",
        "  * Compute starting and ending indices of segment i and call 'start' and 'end'\n",
        "  * Form validation set by taking a slice (start:end+1) from the data.\n",
        "  * Form training set by appending slice (end+1:n) to the end of slice (0:start).\n",
        "  * Train a linear model using training set just formed, with a given l2_penalty\n",
        "  * Compute validation error using validation set just formed"
      ],
      "attachments":{
        
      },
      "metadata":{
        
      }
    },
    {
      "cell_type":"code",
      "source":[
        "import numpy as np"
      ],
      "execution_count":34,
      "outputs":[
        
      ],
      "metadata":{
        
      }
    },
    {
      "cell_type":"code",
      "source":[
        "def k_fold_cross_validation(k, l2_penalty, data, output_name, features_list):\n",
        "    n = len(data)\n",
        "    v_errors = []\n",
        "    for i in range(k):\n",
        "        s = n * i \/ k\n",
        "        e = n * (i + 1) \/ k - 1\n",
        "        validation_set = data[s:e]\n",
        "        train_set = data[:s]\n",
        "        train_set = train_set.append(data[e + 1:])\n",
        "        model = turicreate.linear_regression.create(dataset=train_set, target=output_name,\n",
        "                                                    features=features_list, l2_penalty=l2_penalty,\n",
        "                                                    validation_set=None, verbose=False)\n",
        "            \n",
        "        predicated = model.predict(validation_set)\n",
        "        v_errors.append(sum(abs( predicated- validation_set[output_name])))\n",
        "\n",
        "    return np.mean(v_errors)"
      ],
      "execution_count":35,
      "outputs":[
        
      ],
      "metadata":{
        
      }
    },
    {
      "cell_type":"markdown",
      "source":[
        "Once we have a function to compute the average validation error for a model, we can write a loop to find the model that minimizes the average validation error. Write a loop that does the following:\n",
        "* We will again be aiming to fit a 15th-order polynomial model using the `sqft_living` input\n",
        "* For `l2_penalty` in [10^1, 10^1.5, 10^2, 10^2.5, ..., 10^7] (to get this in Python, you can use this Numpy function: `np.logspace(1, 7, num=13)`.)\n",
        "    * Run 10-fold cross-validation with `l2_penalty`\n",
        "* Report which L2 penalty produced the lowest average validation error.\n",
        "\n",
        "Note: since the degree of the polynomial is now fixed to 15, to make things faster, you should generate polynomial features in advance and re-use them throughout the loop. Make sure to use `train_valid_shuffled` when generating polynomial features!"
      ],
      "attachments":{
        
      },
      "metadata":{
        
      }
    },
    {
      "cell_type":"code",
      "source":[
        "polydata = polynomial_sframe(train_valid_shuffled['sqft_living'], 15)\n",
        "my_features = polydata.column_names()\n",
        "polydata['price'] = train_valid_shuffled['price']\n",
        "for l2p in np.logspace(1, 7, num=13):\n",
        "    print(k_fold_cross_validation(10, l2p, polydata, 'price', my_features))"
      ],
      "execution_count":38,
      "outputs":[
        
      ],
      "metadata":{
        
      }
    },
    {
      "cell_type":"markdown",
      "source":[
        "***QUIZ QUESTIONS:  What is the best value for the L2 penalty according to 10-fold validation?*** 1e3"
      ],
      "attachments":{
        
      },
      "metadata":{
        
      }
    },
    {
      "cell_type":"markdown",
      "source":[
        "You may find it useful to plot the k-fold cross-validation errors you have obtained to better understand the behavior of the method.  "
      ],
      "attachments":{
        
      },
      "metadata":{
        
      }
    },
    {
      "cell_type":"code",
      "source":[
        "# Plot the l2_penalty values in the x axis and the cross-validation error in the y axis.\n",
        "# Using plt.xscale('log') will make your plot more intuitive.\n",
        "l2ps = np.logspace(1, 7, num=13)\n",
        "cvs = [\n",
        "    327609812.5545342,\n",
        "    325026533.7146784,\n",
        "    322225004.4220914,\n",
        "    320044722.35322845,\n",
        "    319826890.39609164,\n",
        "    323356201.9128192,\n",
        "    338746807.7407397,\n",
        "    374195023.75581396,\n",
        "    414417115.59281003,\n",
        "    438079198.06296575,\n",
        "    447826271.2281003,\n",
        "    451249528.2657939,\n",
        "    452579484.8805688\n",
        "]\n",
        "plt.xscale('log')\n",
        "plt.plot(l2ps, cvs, '.')"
      ],
      "execution_count":39,
      "outputs":[
        
      ],
      "metadata":{
        
      }
    },
    {
      "cell_type":"markdown",
      "source":[
        "Once you found the best value for the L2 penalty using cross-validation, it is important to retrain a final model on all of the training data using this value of `l2_penalty`. This way, your final model will be trained on the entire dataset."
      ],
      "attachments":{
        
      },
      "metadata":{
        
      }
    },
    {
      "cell_type":"code",
      "source":[
        "poly_15_data = polynomial_sframe(sales['sqft_living'], 15)\n",
        "my_features = poly_15_data.column_names()\n",
        "poly_15_data['price'] = sales['price']\n",
        "model = turicreate.linear_regression.create(poly_15_data, target='price',\n",
        "                                            features=my_features, l2_penalty=1e3,\n",
        "                                            verbose=False, validation_set=None)\n",
        "plt.plot(poly_15_data['power_1'], poly_15_data['price'], '.',\n",
        "         poly_15_data['power_1'], model.predict(poly_15_data), '-')"
      ],
      "execution_count":40,
      "outputs":[
        
      ],
      "metadata":{
        
      }
    },
    {
      "cell_type":"markdown",
      "source":[
        "***QUIZ QUESTION: Using the best L2 penalty found above, train a model using all training data. What is the RSS on the TEST data of the model you learn with this L2 penalty? ***"
      ],
      "attachments":{
        
      },
      "metadata":{
        
      }
    },
    {
      "cell_type":"code",
      "source":[
        "def getRSS(predicated, actual):\n",
        "    residuals = predicated - actual\n",
        "    return (residuals ** 2).sum()"
      ],
      "execution_count":41,
      "outputs":[
        
      ],
      "metadata":{
        
      }
    },
    {
      "cell_type":"code",
      "source":[
        "test_data = polynomial_sframe(test['sqft_living'], 15)\n",
        "predictions_test = model.predict(test_data)\n",
        "print (getRSS(predictions_test,test['price']))"
      ],
      "execution_count":46,
      "outputs":[
        
      ],
      "metadata":{
        
      }
    },
    {
      "cell_type":"code",
      "source":[
        "8e13 < 128492616720876.94 < 4e14"
      ],
      "execution_count":51,
      "outputs":[
        
      ],
      "metadata":{
        
      }
    },
    {
      "cell_type":"code",
      "source":[
        
      ],
      "execution_count":0,
      "outputs":[
        
      ],
      "metadata":{
        
      }
    }
  ],
  "metadata":{
    
  },
  "nbformat":4,
  "nbformat_minor":0
}