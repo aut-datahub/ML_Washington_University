{
  "cells":[
    {
      "cell_type":"markdown",
      "source":[
        "# Predicting house prices using k-nearest neighbors regression\n",
        "In this notebook, you will implement k-nearest neighbors regression. You will:\n",
        "  * Find the k-nearest neighbors of a given query input\n",
        "  * Predict the output for the query input using the k-nearest neighbors\n",
        "  * Choose the best value of k using a validation set"
      ],
      "attachments":{
        
      },
      "metadata":{
        
      }
    },
    {
      "cell_type":"markdown",
      "source":[
        "# Fire up Turi Create"
      ],
      "attachments":{
        
      },
      "metadata":{
        
      }
    },
    {
      "cell_type":"code",
      "source":[
        "import turicreate"
      ],
      "execution_count":1,
      "outputs":[
        
      ],
      "metadata":{
        
      }
    },
    {
      "cell_type":"markdown",
      "source":[
        "# Load in house sales data"
      ],
      "attachments":{
        
      },
      "metadata":{
        
      }
    },
    {
      "cell_type":"markdown",
      "source":[
        "For this notebook, we use a subset of the King County housing dataset created by randomly selecting 40% of the houses in the full dataset."
      ],
      "attachments":{
        
      },
      "metadata":{
        
      }
    },
    {
      "cell_type":"code",
      "source":[
        "sales = turicreate.SFrame('home_data_small.sframe\/')"
      ],
      "execution_count":2,
      "outputs":[
        
      ],
      "metadata":{
        
      }
    },
    {
      "cell_type":"markdown",
      "source":[
        "# Import useful functions from previous notebooks"
      ],
      "attachments":{
        
      },
      "metadata":{
        
      }
    },
    {
      "cell_type":"markdown",
      "source":[
        "To efficiently compute pairwise distances among data points, we will convert the SFrame into a 2D Numpy array. First import the numpy library and then copy and paste `get_numpy_data()` from the second notebook of Week 2."
      ],
      "attachments":{
        
      },
      "metadata":{
        
      }
    },
    {
      "cell_type":"code",
      "source":[
        "import numpy as np"
      ],
      "execution_count":3,
      "outputs":[
        
      ],
      "metadata":{
        
      }
    },
    {
      "cell_type":"code",
      "source":[
        "def get_numpy_data(data_sframe, features, output):\n",
        "    data_sframe['constant'] = 1\n",
        "    features = ['constant'] + features\n",
        "    feature_matrix = data_sframe[features].to_numpy()\n",
        "    output_array = data_sframe[output].to_numpy()\n",
        "    return feature_matrix, output_array"
      ],
      "execution_count":4,
      "outputs":[
        
      ],
      "metadata":{
        
      }
    },
    {
      "cell_type":"markdown",
      "source":[
        "We will also need the `normalize_features()` function from Week 5 that normalizes all feature columns to unit norm. Paste this function below."
      ],
      "attachments":{
        
      },
      "metadata":{
        
      }
    },
    {
      "cell_type":"code",
      "source":[
        "def normalize_features(feature_matrix):\n",
        "    norms = np.linalg.norm(feature_matrix, axis=0)\n",
        "    normalized = feature_matrix \/ norms\n",
        "    return normalized, norms"
      ],
      "execution_count":5,
      "outputs":[
        
      ],
      "metadata":{
        
      }
    },
    {
      "cell_type":"markdown",
      "source":[
        "# Split data into training, test, and validation sets"
      ],
      "attachments":{
        
      },
      "metadata":{
        
      }
    },
    {
      "cell_type":"code",
      "source":[
        "(train_and_validation, test) = sales.random_split(.8, seed=1) # initial train\/test split\n",
        "(train, validation) = train_and_validation.random_split(.8, seed=1) # split training set into training and validation sets"
      ],
      "execution_count":6,
      "outputs":[
        
      ],
      "metadata":{
        
      }
    },
    {
      "cell_type":"markdown",
      "source":[
        "# Extract features and normalize"
      ],
      "attachments":{
        
      },
      "metadata":{
        
      }
    },
    {
      "cell_type":"markdown",
      "source":[
        "Using all of the numerical inputs listed in `feature_list`, transform the training, test, and validation SFrames into Numpy arrays:"
      ],
      "attachments":{
        
      },
      "metadata":{
        
      }
    },
    {
      "cell_type":"code",
      "source":[
        "feature_list = ['bedrooms',  \n",
        "                'bathrooms',  \n",
        "                'sqft_living',  \n",
        "                'sqft_lot',  \n",
        "                'floors',\n",
        "                'waterfront',  \n",
        "                'view',  \n",
        "                'condition',  \n",
        "                'grade',  \n",
        "                'sqft_above',  \n",
        "                'sqft_basement',\n",
        "                'yr_built',  \n",
        "                'yr_renovated',  \n",
        "                'lat',  \n",
        "                'long',  \n",
        "                'sqft_living15',  \n",
        "                'sqft_lot15']\n",
        "features_train, output_train = get_numpy_data(train, feature_list, 'price')\n",
        "features_test, output_test = get_numpy_data(test, feature_list, 'price')\n",
        "features_valid, output_valid = get_numpy_data(validation, feature_list, 'price')"
      ],
      "execution_count":7,
      "outputs":[
        
      ],
      "metadata":{
        
      }
    },
    {
      "cell_type":"markdown",
      "source":[
        "In computing distances, it is crucial to normalize features. Otherwise, for example, the `sqft_living` feature (typically on the order of thousands) would exert a much larger influence on distance than the `bedrooms` feature (typically on the order of ones). We divide each column of the training feature matrix by its 2-norm, so that the transformed column has unit norm.\n",
        "\n",
        "IMPORTANT: Make sure to store the norms of the features in the training set. The features in the test and validation sets must be divided by these same norms, so that the training, test, and validation sets are normalized consistently."
      ],
      "attachments":{
        
      },
      "metadata":{
        
      }
    },
    {
      "cell_type":"code",
      "source":[
        "features_train, norms = normalize_features(features_train) # normalize training set features (columns)\n",
        "features_test = features_test \/ norms # normalize test set by training set norms\n",
        "features_valid = features_valid \/ norms # normalize validation set by training set norms"
      ],
      "execution_count":8,
      "outputs":[
        
      ],
      "metadata":{
        
      }
    },
    {
      "cell_type":"markdown",
      "source":[
        "# Compute a single distance"
      ],
      "attachments":{
        
      },
      "metadata":{
        
      }
    },
    {
      "cell_type":"markdown",
      "source":[
        "To start, let's just explore computing the \"distance\" between two given houses.  We will take our **query house** to be the first house of the test set and look at the distance between this house and the 10th house of the training set.\n",
        "\n",
        "To see the features associated with the query house, print the first row (index 0) of the test feature matrix. You should get an 18-dimensional vector whose components are between 0 and 1."
      ],
      "attachments":{
        
      },
      "metadata":{
        
      }
    },
    {
      "cell_type":"code",
      "source":[
        "features_test[0]"
      ],
      "execution_count":9,
      "outputs":[
        
      ],
      "metadata":{
        
      }
    },
    {
      "cell_type":"markdown",
      "source":[
        "Now print the 10th row (index 9) of the training feature matrix. Again, you get an 18-dimensional vector with components between 0 and 1."
      ],
      "attachments":{
        
      },
      "metadata":{
        
      }
    },
    {
      "cell_type":"code",
      "source":[
        "features_test[9]"
      ],
      "execution_count":10,
      "outputs":[
        
      ],
      "metadata":{
        
      }
    },
    {
      "cell_type":"markdown",
      "source":[
        "***QUIZ QUESTION ***\n",
        "\n",
        "What is the Euclidean distance between the query house and the 10th house of the training set? \n",
        "\n",
        "Note: Do not use the `np.linalg.norm` function; use `np.sqrt`, `np.sum`, and the power operator (`**`) instead. The latter approach is more easily adapted to computing multiple distances at once."
      ],
      "attachments":{
        
      },
      "metadata":{
        
      }
    },
    {
      "cell_type":"code",
      "source":[
        "np.linalg.norm(features_test[0] - features_test[9])"
      ],
      "execution_count":11,
      "outputs":[
        
      ],
      "metadata":{
        
      }
    },
    {
      "cell_type":"code",
      "source":[
        "eu_distance = np.sqrt(np.sum(pow(features_test[0] - features_test[9], 2)))\n",
        "eu_distance"
      ],
      "execution_count":12,
      "outputs":[
        
      ],
      "metadata":{
        
      }
    },
    {
      "cell_type":"markdown",
      "source":[
        "# Compute multiple distances"
      ],
      "attachments":{
        
      },
      "metadata":{
        
      }
    },
    {
      "cell_type":"markdown",
      "source":[
        "Of course, to do nearest neighbor regression, we need to compute the distance between our query house and *all* houses in the training set.  \n",
        "\n",
        "To visualize this nearest-neighbor search, let's first compute the distance from our query house (`features_test[0]`) to the first 10 houses of the training set (`features_train[0:10]`) and then search for the nearest neighbor within this small set of houses.  Through restricting ourselves to a small set of houses to begin with, we can visually scan the list of 10 distances to verify that our code for finding the nearest neighbor is working.\n",
        "\n",
        "Write a loop to compute the Euclidean distance from the query house to each of the first 10 houses in the training set."
      ],
      "attachments":{
        
      },
      "metadata":{
        
      }
    },
    {
      "cell_type":"code",
      "source":[
        "eu_distances = []\n",
        "for i in range(10):\n",
        "    eu_distances.append(np.sqrt(np.sum(pow(features_test[0] - features_train[i], 2))))\n",
        "print(eu_distances)"
      ],
      "execution_count":13,
      "outputs":[
        
      ],
      "metadata":{
        
      }
    },
    {
      "cell_type":"markdown",
      "source":[
        "*** QUIZ QUESTION ***\n",
        "\n",
        "Among the first 10 training houses, which house is the closest to the query house?"
      ],
      "attachments":{
        
      },
      "metadata":{
        
      }
    },
    {
      "cell_type":"code",
      "source":[
        "min_index = np.argmin(eu_distances)\n",
        "output_train[min_index]"
      ],
      "execution_count":14,
      "outputs":[
        
      ],
      "metadata":{
        
      }
    },
    {
      "cell_type":"markdown",
      "source":[
        "It is computationally inefficient to loop over computing distances to all houses in our training dataset. Fortunately, many of the Numpy functions can be **vectorized**, applying the same operation over multiple values or vectors.  We now walk through this process."
      ],
      "attachments":{
        
      },
      "metadata":{
        
      }
    },
    {
      "cell_type":"markdown",
      "source":[
        "Consider the following loop that computes the element-wise difference between the features of the query house (`features_test[0]`) and the first 3 training houses (`features_train[0:3]`):"
      ],
      "attachments":{
        
      },
      "metadata":{
        
      }
    },
    {
      "cell_type":"code",
      "source":[
        "for i in range(3):\n",
        "    print (features_train[i]-features_test[0])\n",
        "    # should print 3 vectors of length 18"
      ],
      "execution_count":15,
      "outputs":[
        
      ],
      "metadata":{
        
      }
    },
    {
      "cell_type":"markdown",
      "source":[
        "The subtraction operator (`-`) in Numpy is vectorized as follows:"
      ],
      "attachments":{
        
      },
      "metadata":{
        
      }
    },
    {
      "cell_type":"code",
      "source":[
        "print (features_train[0:3] - features_test[0])"
      ],
      "execution_count":16,
      "outputs":[
        
      ],
      "metadata":{
        
      }
    },
    {
      "cell_type":"markdown",
      "source":[
        "Note that the output of this vectorized operation is identical to that of the loop above, which can be verified below:"
      ],
      "attachments":{
        
      },
      "metadata":{
        
      }
    },
    {
      "cell_type":"code",
      "source":[
        "# verify that vectorization works\n",
        "results = features_train[0:3] - features_test[0]\n",
        "print(results[0] - (features_train[0] - features_test[0]))\n",
        "# should print all 0's if results[0] == (features_train[0]-features_test[0])\n",
        "print(results[1] - (features_train[1] - features_test[0]))\n",
        "# should print all 0's if results[1] == (features_train[1]-features_test[0])\n",
        "print(results[2] - (features_train[2] - features_test[0]))\n",
        "# should print all 0's if results[2] == (features_train[2]-features_test[0])"
      ],
      "execution_count":17,
      "outputs":[
        
      ],
      "metadata":{
        
      }
    },
    {
      "cell_type":"markdown",
      "source":[
        "Aside: it is a good idea to write tests like this cell whenever you are vectorizing a complicated operation."
      ],
      "attachments":{
        
      },
      "metadata":{
        
      }
    },
    {
      "cell_type":"markdown",
      "source":[
        "# Perform 1-nearest neighbor regression\n",
        "\n",
        "Now that we have the element-wise differences, it is not too hard to compute the Euclidean distances between our query house and all of the training houses. First, write a single-line expression to define a variable `diff` such that `diff[i]` gives the element-wise difference between the features of the query house and the `i`-th training house."
      ],
      "attachments":{
        
      },
      "metadata":{
        
      }
    },
    {
      "cell_type":"code",
      "source":[
        "query_house = features_test[0]"
      ],
      "execution_count":18,
      "outputs":[
        
      ],
      "metadata":{
        
      }
    },
    {
      "cell_type":"code",
      "source":[
        "diff = features_train - query_house"
      ],
      "execution_count":19,
      "outputs":[
        
      ],
      "metadata":{
        
      }
    },
    {
      "cell_type":"markdown",
      "source":[
        "To test the code above, run the following cell, which should output a value -0.0934339605842:"
      ],
      "attachments":{
        
      },
      "metadata":{
        
      }
    },
    {
      "cell_type":"code",
      "source":[
        "print (diff[-1].sum()) # sum of the feature differences between the query and last training house\n",
        "# should print -0.0934339605842"
      ],
      "execution_count":20,
      "outputs":[
        
      ],
      "metadata":{
        
      }
    },
    {
      "cell_type":"markdown",
      "source":[
        "The next step in computing the Euclidean distances is to take these feature-by-feature differences in `diff`, square each, and take the sum over feature indices.  That is, compute the sum of square feature differences for each training house (row in `diff`).\n",
        "\n",
        "By default, `np.sum` sums up everything in the matrix and returns a single number. To instead sum only over a row or column, we need to specifiy the `axis` parameter described in the `np.sum` [documentation](http:\/\/docs.scipy.org\/doc\/numpy-1.10.1\/reference\/generated\/numpy.sum.html). In particular, `axis=1` computes the sum across each row.\n",
        "\n",
        "Below, we compute this sum of square feature differences for all training houses and verify that the output for the 16th house in the training set is equivalent to having examined only the 16th row of `diff` and computing the sum of squares on that row alone."
      ],
      "attachments":{
        
      },
      "metadata":{
        
      }
    },
    {
      "cell_type":"code",
      "source":[
        "print (np.sum(diff**2, axis=1)[15]) # take sum of squares across each row, and print the 16th sum\n",
        "print (np.sum(diff[15]**2)) # print the sum of squares for the 16th row -- should be same as above"
      ],
      "execution_count":21,
      "outputs":[
        
      ],
      "metadata":{
        
      }
    },
    {
      "cell_type":"markdown",
      "source":[
        "With this result in mind, write a single-line expression to compute the Euclidean distances between the query house and all houses in the training set. Assign the result to a variable `distances`.\n",
        "\n",
        "**Hint**: Do not forget to take the square root of the sum of squares."
      ],
      "attachments":{
        
      },
      "metadata":{
        
      }
    },
    {
      "cell_type":"code",
      "source":[
        "distances = np.sqrt(np.sum(diff ** 2, axis=1))"
      ],
      "execution_count":22,
      "outputs":[
        
      ],
      "metadata":{
        
      }
    },
    {
      "cell_type":"markdown",
      "source":[
        "To test the code above, run the following cell, which should output a value 0.0237082324496:"
      ],
      "attachments":{
        
      },
      "metadata":{
        
      }
    },
    {
      "cell_type":"code",
      "source":[
        "print (distances[100]) # Euclidean distance between the query house and the 101th training house\n",
        "# should print 0.0237082324496"
      ],
      "execution_count":23,
      "outputs":[
        
      ],
      "metadata":{
        
      }
    },
    {
      "cell_type":"markdown",
      "source":[
        "Now you are ready to write a function that computes the distances from a query house to all training houses. The function should take two parameters: (i) the matrix of training features and (ii) the single feature vector associated with the query."
      ],
      "attachments":{
        
      },
      "metadata":{
        
      }
    },
    {
      "cell_type":"code",
      "source":[
        "def get_distances(training_features, query_feature):\n",
        "    return np.sqrt(np.sum((training_features - query_feature) ** 2, axis=1))"
      ],
      "execution_count":24,
      "outputs":[
        
      ],
      "metadata":{
        
      }
    },
    {
      "cell_type":"markdown",
      "source":[
        "*** QUIZ QUESTIONS ***\n",
        "\n",
        "1.  Take the query house to be third house of the test set (`features_test[2]`).  What is the index of the house in the training set that is closest to this query house?\n",
        "2.  What is the predicted value of the query house based on 1-nearest neighbor regression?"
      ],
      "attachments":{
        
      },
      "metadata":{
        
      }
    },
    {
      "cell_type":"code",
      "source":[
        "distances = get_distances(features_train, features_test[2])\n",
        "min_index = np.argmin(distances)\n",
        "min_index"
      ],
      "execution_count":25,
      "outputs":[
        
      ],
      "metadata":{
        
      }
    },
    {
      "cell_type":"code",
      "source":[
        "output_train[min_index]"
      ],
      "execution_count":26,
      "outputs":[
        
      ],
      "metadata":{
        
      }
    },
    {
      "cell_type":"markdown",
      "source":[
        "# Perform k-nearest neighbor regression"
      ],
      "attachments":{
        
      },
      "metadata":{
        
      }
    },
    {
      "cell_type":"markdown",
      "source":[
        "For k-nearest neighbors, we need to find a *set* of k houses in the training set closest to a given query house. We then make predictions based on these k nearest neighbors."
      ],
      "attachments":{
        
      },
      "metadata":{
        
      }
    },
    {
      "cell_type":"markdown",
      "source":[
        "## Fetch k-nearest neighbors\n",
        "\n",
        "Using the functions above, implement a function that takes in\n",
        " * the value of k;\n",
        " * the feature matrix for the training houses; and\n",
        " * the feature vector of the query house\n",
        " \n",
        "and returns the indices of the k closest training houses. For instance, with 2-nearest neighbor, a return value of [5, 10] would indicate that the 6th and 11th training houses are closest to the query house.\n",
        "\n",
        "**Hint**: Look at the [documentation for `np.argsort`](http:\/\/docs.scipy.org\/doc\/numpy\/reference\/generated\/numpy.argsort.html)."
      ],
      "attachments":{
        
      },
      "metadata":{
        
      }
    },
    {
      "cell_type":"code",
      "source":[
        "def k_nn_indices(k, feature_matrix, query):\n",
        "    d = get_distances(feature_matrix, query)\n",
        "    return np.argsort(d)[:k]"
      ],
      "execution_count":27,
      "outputs":[
        
      ],
      "metadata":{
        
      }
    },
    {
      "cell_type":"markdown",
      "source":[
        "*** QUIZ QUESTION ***\n",
        "\n",
        "Take the query house to be third house of the test set (`features_test[2]`).  What are the indices of the 4 training houses closest to the query house?"
      ],
      "attachments":{
        
      },
      "metadata":{
        
      }
    },
    {
      "cell_type":"code",
      "source":[
        "k_nn_indices(4,features_train,features_test[2])"
      ],
      "execution_count":28,
      "outputs":[
        
      ],
      "metadata":{
        
      }
    },
    {
      "cell_type":"markdown",
      "source":[
        "## Make a single prediction by averaging k nearest neighbor outputs"
      ],
      "attachments":{
        
      },
      "metadata":{
        
      }
    },
    {
      "cell_type":"markdown",
      "source":[
        "Now that we know how to find the k-nearest neighbors, write a function that predicts the value of a given query house. **For simplicity, take the average of the prices of the k nearest neighbors in the training set**. The function should have the following parameters:\n",
        " * the value of k;\n",
        " * the feature matrix for the training houses;\n",
        " * the output values (prices) of the training houses; and\n",
        " * the feature vector of the query house, whose price we are predicting.\n",
        " \n",
        "The function should return a predicted value of the query house.\n",
        "\n",
        "**Hint**: You can extract multiple items from a Numpy array using a list of indices. For instance, `output_train[[6, 10]]` returns the prices of the 7th and 11th training houses."
      ],
      "attachments":{
        
      },
      "metadata":{
        
      }
    },
    {
      "cell_type":"code",
      "source":[
        "def k_nn_of_single_query(k, feature_matrix, output_matrix, query_feature):\n",
        "    indices = k_nn_indices(k, feature_matrix, query_feature)\n",
        "    sum_of_prices = 0\n",
        "    for i in indices:\n",
        "        sum_of_prices += output_matrix[i]\n",
        "    return sum_of_prices \/ k"
      ],
      "execution_count":29,
      "outputs":[
        
      ],
      "metadata":{
        
      }
    },
    {
      "cell_type":"markdown",
      "source":[
        "*** QUIZ QUESTION ***\n",
        "\n",
        "Again taking the query house to be third house of the test set (`features_test[2]`), predict the value of the query house using k-nearest neighbors with `k=4` and the simple averaging method described and implemented above."
      ],
      "attachments":{
        
      },
      "metadata":{
        
      }
    },
    {
      "cell_type":"code",
      "source":[
        "k_nn_of_single_query(4,features_train,output_train,features_test[2])"
      ],
      "execution_count":30,
      "outputs":[
        
      ],
      "metadata":{
        
      }
    },
    {
      "cell_type":"markdown",
      "source":[
        "Compare this predicted value using 4-nearest neighbors to the predicted value using 1-nearest neighbor computed earlier."
      ],
      "attachments":{
        
      },
      "metadata":{
        
      }
    },
    {
      "cell_type":"markdown",
      "source":[
        "## Make multiple predictions"
      ],
      "attachments":{
        
      },
      "metadata":{
        
      }
    },
    {
      "cell_type":"markdown",
      "source":[
        "Write a function to predict the value of *each and every* house in a query set. (The query set can be any subset of the dataset, be it the test set or validation set.) The idea is to have a loop where we take each house in the query set as the query house and make a prediction for that specific house. The new function should take the following parameters:\n",
        " * the value of k;\n",
        " * the feature matrix for the training houses;\n",
        " * the output values (prices) of the training houses; and\n",
        " * the feature matrix for the query set.\n",
        " \n",
        "The function should return a set of predicted values, one for each house in the query set.\n",
        "\n",
        "**Hint**: To get the number of houses in the query set, use the `.shape` field of the query features matrix. See [the documentation](http:\/\/docs.scipy.org\/doc\/numpy-1.10.1\/reference\/generated\/numpy.ndarray.shape.html)."
      ],
      "attachments":{
        
      },
      "metadata":{
        
      }
    },
    {
      "cell_type":"code",
      "source":[
        "def k_nn(k, feature_matrix, output_matrix, query_matrix):\n",
        "    predictions = []\n",
        "    for query in query_matrix:\n",
        "        predictions.append(k_nn_of_single_query(k, feature_matrix, output_matrix, query))\n",
        "    return predictions"
      ],
      "execution_count":31,
      "outputs":[
        
      ],
      "metadata":{
        
      }
    },
    {
      "cell_type":"markdown",
      "source":[
        "*** QUIZ QUESTION ***\n",
        "\n",
        "Make predictions for the first 10 houses in the test set using k-nearest neighbors with `k=10`. \n",
        "\n",
        "1. What is the index of the house in this query set that has the lowest predicted value? \n",
        "2. What is the predicted value of this house?"
      ],
      "attachments":{
        
      },
      "metadata":{
        
      }
    },
    {
      "cell_type":"code",
      "source":[
        "np.argmin(k_nn(10,features_train,output_train,features_test[:9]))"
      ],
      "execution_count":32,
      "outputs":[
        
      ],
      "metadata":{
        
      }
    },
    {
      "cell_type":"markdown",
      "source":[
        "## Choosing the best value of k using a validation set"
      ],
      "attachments":{
        
      },
      "metadata":{
        
      }
    },
    {
      "cell_type":"markdown",
      "source":[
        "There remains a question of choosing the value of k to use in making predictions. Here, we use a validation set to choose this value. Write a loop that does the following:\n",
        "\n",
        "* For `k` in [1, 2, ..., 15]:\n",
        "    * Makes predictions for each house in the VALIDATION set using the k-nearest neighbors from the TRAINING set.\n",
        "    * Computes the RSS for these predictions on the VALIDATION set\n",
        "    * Stores the RSS computed above in `rss_all`\n",
        "* Report which `k` produced the lowest RSS on VALIDATION set."
      ],
      "attachments":{
        
      },
      "metadata":{
        
      }
    },
    {
      "cell_type":"markdown",
      "source":[
        "(Depending on your computing environment, this computation may take 10-15 minutes.)"
      ],
      "attachments":{
        
      },
      "metadata":{
        
      }
    },
    {
      "cell_type":"code",
      "source":[
        "rss_all = []\n",
        "for k in range(1, 16):\n",
        "    predictions = k_nn(k, features_train, output_train, features_valid)\n",
        "    cur_rss = np.sum(pow(predictions - output_valid, 2))\n",
        "    rss_all.append(cur_rss)"
      ],
      "execution_count":33,
      "outputs":[
        
      ],
      "metadata":{
        
      }
    },
    {
      "cell_type":"code",
      "source":[
        "np.argmin(rss_all)"
      ],
      "execution_count":34,
      "outputs":[
        
      ],
      "metadata":{
        
      }
    },
    {
      "cell_type":"markdown",
      "source":[
        "To visualize the performance as a function of `k`, plot the RSS on the VALIDATION set for each considered `k` value:"
      ],
      "attachments":{
        
      },
      "metadata":{
        
      }
    },
    {
      "cell_type":"code",
      "source":[
        "import matplotlib.pyplot as plt\n",
        "%matplotlib inline\n",
        "\n",
        "kvals = range(1, 16)\n",
        "plt.plot(kvals, rss_all,'bo-')"
      ],
      "execution_count":35,
      "outputs":[
        
      ],
      "metadata":{
        
      }
    },
    {
      "cell_type":"markdown",
      "source":[
        "***QUIZ QUESTION ***\n",
        "\n",
        "What is the RSS on the TEST data using the value of k found above?  To be clear, sum over all houses in the TEST set."
      ],
      "attachments":{
        
      },
      "metadata":{
        
      }
    },
    {
      "cell_type":"code",
      "source":[
        "predictions = k_nn(8, features_train, output_train, features_test)\n",
        "rss = np.sum(pow(predictions - output_test, 2))\n",
        "rss"
      ],
      "execution_count":36,
      "outputs":[
        
      ],
      "metadata":{
        
      }
    },
    {
      "cell_type":"code",
      "source":[
        "8e13 < rss < 2e14"
      ],
      "execution_count":37,
      "outputs":[
        
      ],
      "metadata":{
        
      }
    },
    {
      "cell_type":"code",
      "source":[
        
      ],
      "execution_count":37,
      "outputs":[
        
      ],
      "metadata":{
        
      }
    }
  ],
  "metadata":{
    
  },
  "nbformat":4,
  "nbformat_minor":0
}