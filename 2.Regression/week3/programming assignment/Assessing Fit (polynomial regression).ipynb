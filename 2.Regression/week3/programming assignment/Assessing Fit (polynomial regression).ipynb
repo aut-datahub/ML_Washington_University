{
  "cells":[
    {
      "cell_type":"markdown",
      "source":[
        "# Regression Week 3: Assessing Fit (polynomial regression)"
      ],
      "attachments":{
        
      },
      "metadata":{
        
      }
    },
    {
      "cell_type":"markdown",
      "source":[
        "In this notebook you will compare different regression models in order to assess which model fits best. We will be using polynomial regression as a means to examine this topic. In particular you will:\n",
        "* Write a function to take an SArray and a degree and return an SFrame where each column is the SArray to a polynomial value up to the total degree e.g. degree = 3 then column 1 is the SArray column 2 is the SArray squared and column 3 is the SArray cubed\n",
        "* Use matplotlib to visualize polynomial regressions\n",
        "* Use matplotlib to visualize the same polynomial degree on different subsets of the data\n",
        "* Use a validation set to select a polynomial degree\n",
        "* Assess the final fit using test data\n",
        "\n",
        "We will continue to use the House data from previous notebooks."
      ],
      "attachments":{
        
      },
      "metadata":{
        
      }
    },
    {
      "cell_type":"markdown",
      "source":[
        "# Fire up Turi Create"
      ],
      "attachments":{
        
      },
      "metadata":{
        
      }
    },
    {
      "cell_type":"code",
      "source":[
        "import turicreate\n",
        "import sys\n",
        "MAX = sys.maxsize"
      ],
      "execution_count":56,
      "outputs":[
        
      ],
      "metadata":{
        
      }
    },
    {
      "cell_type":"markdown",
      "source":[
        "Next we're going to write a polynomial function that takes an SArray and a maximal degree and returns an SFrame with columns containing the SArray to all the powers up to the maximal degree.\n",
        "\n",
        "The easiest way to apply a power to an SArray is to use the .apply() and lambda x: functions. \n",
        "For example to take the example array and compute the third power we can do as follows: (note running this cell the first time may take longer than expected since it loads Turi Create)"
      ],
      "attachments":{
        
      },
      "metadata":{
        
      }
    },
    {
      "cell_type":"code",
      "source":[
        "tmp = turicreate.SArray([1., 2., 3.])\n",
        "tmp_cubed = tmp.apply(lambda x: x**3)\n",
        "print (tmp)\n",
        "print (tmp_cubed)"
      ],
      "execution_count":3,
      "outputs":[
        
      ],
      "metadata":{
        
      }
    },
    {
      "cell_type":"markdown",
      "source":[
        "We can create an empty SFrame using turicreate.SFrame() and then add any columns to it with ex_sframe['column_name'] = value. For example we create an empty SFrame and make the column 'power_1' to be the first power of tmp (i.e. tmp itself)."
      ],
      "attachments":{
        
      },
      "metadata":{
        
      }
    },
    {
      "cell_type":"code",
      "source":[
        "ex_sframe = turicreate.SFrame()\n",
        "ex_sframe['power_1'] = tmp\n",
        "print (ex_sframe)"
      ],
      "execution_count":4,
      "outputs":[
        
      ],
      "metadata":{
        
      }
    },
    {
      "cell_type":"markdown",
      "source":[
        "# Polynomial_sframe function"
      ],
      "attachments":{
        
      },
      "metadata":{
        
      }
    },
    {
      "cell_type":"markdown",
      "source":[
        "Using the hints above complete the following function to create an SFrame consisting of the powers of an SArray up to a specific degree:"
      ],
      "attachments":{
        
      },
      "metadata":{
        
      }
    },
    {
      "cell_type":"code",
      "source":[
        "def polynomial_sframe(feature, degree):\n",
        "    # assume that degree >= 1\n",
        "    # initialize the SFrame:\n",
        "    poly_sframe = turicreate.SFrame()\n",
        "    # and set poly_sframe['power_1'] equal to the passed feature\n",
        "    poly_sframe['power_1'] = feature\n",
        "\n",
        "    # first check if degree > 1\n",
        "    if degree > 1:\n",
        "        # then loop over the remaining degrees:\n",
        "        # range usually starts at 0 and stops at the endpoint-1. We want it to start at 2 and stop at degree\n",
        "        for power in range(2, degree+1): \n",
        "            # first we'll give the column a name:\n",
        "            name = 'power_' + str(power)\n",
        "            # then assign poly_sframe[name] to the appropriate power of feature\n",
        "            poly_sframe[name]= poly_sframe['power_1'].apply(lambda  x : x ** power)\n",
        "\n",
        "    return poly_sframe"
      ],
      "execution_count":25,
      "outputs":[
        
      ],
      "metadata":{
        
      }
    },
    {
      "cell_type":"markdown",
      "source":[
        "To test your function consider the smaller tmp variable and what you would expect the outcome of the following call:"
      ],
      "attachments":{
        
      },
      "metadata":{
        
      }
    },
    {
      "cell_type":"code",
      "source":[
        "print (polynomial_sframe(tmp, 5))"
      ],
      "execution_count":6,
      "outputs":[
        
      ],
      "metadata":{
        
      }
    },
    {
      "cell_type":"markdown",
      "source":[
        "# Visualizing polynomial regression"
      ],
      "attachments":{
        
      },
      "metadata":{
        
      }
    },
    {
      "cell_type":"markdown",
      "source":[
        "Let's use matplotlib to visualize what a polynomial regression looks like on some real data."
      ],
      "attachments":{
        
      },
      "metadata":{
        
      }
    },
    {
      "cell_type":"code",
      "source":[
        "sales = turicreate.SFrame('home_data.sframe\/')"
      ],
      "execution_count":27,
      "outputs":[
        
      ],
      "metadata":{
        
      }
    },
    {
      "cell_type":"markdown",
      "source":[
        "As in Week 3, we will use the sqft_living variable. For plotting purposes (connecting the dots), you'll need to sort by the values of sqft_living. For houses with identical square footage, we break the tie by their prices."
      ],
      "attachments":{
        
      },
      "metadata":{
        
      }
    },
    {
      "cell_type":"code",
      "source":[
        "sales = sales.sort(['sqft_living', 'price'])"
      ],
      "execution_count":28,
      "outputs":[
        
      ],
      "metadata":{
        
      }
    },
    {
      "cell_type":"code",
      "source":[
        "sales"
      ],
      "execution_count":9,
      "outputs":[
        
      ],
      "metadata":{
        
      }
    },
    {
      "cell_type":"markdown",
      "source":[
        "Let's start with a degree 1 polynomial using 'sqft_living' (i.e. a line) to predict 'price' and plot what it looks like."
      ],
      "attachments":{
        
      },
      "metadata":{
        
      }
    },
    {
      "cell_type":"code",
      "source":[
        "poly1_data = polynomial_sframe(sales['sqft_living'], 1)\n",
        "poly1_data['price'] = sales['price'] # add price to the data since it's the target"
      ],
      "execution_count":10,
      "outputs":[
        
      ],
      "metadata":{
        
      }
    },
    {
      "cell_type":"code",
      "source":[
        "poly1_data"
      ],
      "execution_count":11,
      "outputs":[
        
      ],
      "metadata":{
        
      }
    },
    {
      "cell_type":"markdown",
      "source":[
        "NOTE: for all the models in this notebook use validation_set = None to ensure that all results are consistent across users."
      ],
      "attachments":{
        
      },
      "metadata":{
        
      }
    },
    {
      "cell_type":"code",
      "source":[
        "model1 = turicreate.linear_regression.create(poly1_data, target = 'price', features = ['power_1'], validation_set = None)"
      ],
      "execution_count":12,
      "outputs":[
        
      ],
      "metadata":{
        
      }
    },
    {
      "cell_type":"code",
      "source":[
        "#let's take a look at the weights before we plot\n",
        "model1.coefficients"
      ],
      "execution_count":13,
      "outputs":[
        
      ],
      "metadata":{
        
      }
    },
    {
      "cell_type":"code",
      "source":[
        "import matplotlib.pyplot as plt\n",
        "%matplotlib inline"
      ],
      "execution_count":14,
      "outputs":[
        
      ],
      "metadata":{
        
      }
    },
    {
      "cell_type":"code",
      "source":[
        "plt.plot(poly1_data['power_1'],poly1_data['price'],'.',\n",
        "         poly1_data['power_1'], model1.predict(poly1_data),'-')"
      ],
      "execution_count":15,
      "outputs":[
        
      ],
      "metadata":{
        
      }
    },
    {
      "cell_type":"markdown",
      "source":[
        "Let's unpack that plt.plot() command. The first pair of SArrays we passed are the 1st power of sqft and the actual price we then ask it to print these as dots '.'. The next pair we pass is the 1st power of sqft and the predicted values from the linear model. We ask these to be plotted as a line '-'. \n",
        "\n",
        "We can see, not surprisingly, that the predicted values all fall on a line, specifically the one with slope 280 and intercept -43579. What if we wanted to plot a second degree polynomial?"
      ],
      "attachments":{
        
      },
      "metadata":{
        
      }
    },
    {
      "cell_type":"code",
      "source":[
        "poly2_data = polynomial_sframe(sales['sqft_living'], 2)\n",
        "my_features = poly2_data.column_names() \n",
        "poly2_data['price'] = sales['price'] "
      ],
      "execution_count":16,
      "outputs":[
        
      ],
      "metadata":{
        
      }
    },
    {
      "cell_type":"code",
      "source":[
        "poly2_data"
      ],
      "execution_count":17,
      "outputs":[
        
      ],
      "metadata":{
        
      }
    },
    {
      "cell_type":"code",
      "source":[
        "model2 = turicreate.linear_regression.create(poly2_data, target = 'price', features = my_features, validation_set = None)\n",
        "model2.coefficients"
      ],
      "execution_count":18,
      "outputs":[
        
      ],
      "metadata":{
        
      }
    },
    {
      "cell_type":"code",
      "source":[
        "plt.plot(poly2_data['power_1'],poly2_data['price'],'.',\n",
        "         poly2_data['power_1'], model2.predict(poly2_data),'-')"
      ],
      "execution_count":19,
      "outputs":[
        
      ],
      "metadata":{
        
      }
    },
    {
      "cell_type":"markdown",
      "source":[
        "The resulting model looks like half a parabola. Try on your own to see what the cubic looks like:"
      ],
      "attachments":{
        
      },
      "metadata":{
        
      }
    },
    {
      "cell_type":"code",
      "source":[
        "poly3_data = polynomial_sframe(sales['sqft_living'], 3)\n",
        "my_features = poly3_data.column_names()  # get the name of the features\n",
        "poly3_data['price'] = sales['price']  # add price to the data since it's the target\n",
        "model3 = turicreate.linear_regression.create(poly3_data, target = 'price', features = my_features, validation_set = None)"
      ],
      "execution_count":15,
      "outputs":[
        
      ],
      "metadata":{
        
      }
    },
    {
      "cell_type":"code",
      "source":[
        "plt.plot(poly3_data['power_1'],poly3_data['price'],'.',\n",
        "         poly3_data['power_1'], model3.predict(poly3_data),'-')"
      ],
      "execution_count":21,
      "outputs":[
        
      ],
      "metadata":{
        
      }
    },
    {
      "cell_type":"markdown",
      "source":[
        "Now try a 15th degree polynomial:"
      ],
      "attachments":{
        
      },
      "metadata":{
        
      }
    },
    {
      "cell_type":"code",
      "source":[
        "poly15_data = polynomial_sframe(sales['sqft_living'], 15)\n",
        "my_features = poly15_data.column_names()  # get the name of the features\n",
        "poly15_data['price'] = sales['price']  # add price to the data since it's the target\n",
        "model15 = turicreate.linear_regression.create(poly15_data, target = 'price', features = my_features, validation_set = None)\n",
        "plt.plot(poly15_data['power_1'],poly15_data['price'],'.',\n",
        "         poly15_data['power_1'], model15.predict(poly15_data),'-')"
      ],
      "execution_count":9,
      "outputs":[
        
      ],
      "metadata":{
        
      }
    },
    {
      "cell_type":"markdown",
      "source":[
        "What do you think of the 15th degree polynomial? Do you think this is appropriate? If we were to change the data do you think you'd get pretty much the same curve? Let's take a look."
      ],
      "attachments":{
        
      },
      "metadata":{
        
      }
    },
    {
      "cell_type":"markdown",
      "source":[
        "# Changing the data and re-learning"
      ],
      "attachments":{
        
      },
      "metadata":{
        
      }
    },
    {
      "cell_type":"markdown",
      "source":[
        "We're going to split the sales data into four subsets of roughly equal size. Then you will estimate a 15th degree polynomial model on all four subsets of the data. Print the coefficients (you should use .print_rows(num_rows = 16) to view all of them) and plot the resulting fit (as we did above). The quiz will ask you some questions about these results.\n",
        "\n",
        "To split the sales data into four subsets, we perform the following steps:\n",
        "* First split sales into 2 subsets with `.random_split(0.5, seed=0)`. \n",
        "* Next split the resulting subsets into 2 more subsets each. Use `.random_split(0.5, seed=0)`.\n",
        "\n",
        "We set `seed=0` in these steps so that different users get consistent results.\n",
        "You should end up with 4 subsets (`set_1`, `set_2`, `set_3`, `set_4`) of approximately equal size. "
      ],
      "attachments":{
        
      },
      "metadata":{
        
      }
    },
    {
      "cell_type":"code",
      "source":[
        "set_1,set_3 = sales.random_split(0.5, seed=0)\n",
        "set_1,set_2 = set_1.random_split(0.5, seed=0)\n",
        "set_3,set_4 = set_3.random_split(0.5, seed=0)"
      ],
      "execution_count":28,
      "outputs":[
        
      ],
      "metadata":{
        
      }
    },
    {
      "cell_type":"markdown",
      "source":[
        "Fit a 15th degree polynomial on set_1, set_2, set_3, and set_4 using sqft_living to predict prices. Print the coefficients and make a plot of the resulting model."
      ],
      "attachments":{
        
      },
      "metadata":{
        
      }
    },
    {
      "cell_type":"code",
      "source":[
        "poly15_data_set1 = polynomial_sframe(set_1['sqft_living'], 15)\n",
        "my_features = poly15_data_set1.column_names()  \n",
        "poly15_data_set1['price'] = set_1['price'] \n",
        "model15_1 = turicreate.linear_regression.create(poly15_data_set1, target = 'price', features = my_features, validation_set = None)\n",
        "print(model15_1.coefficients.print_rows(16))\n",
        "plt.plot(poly15_data_set1['power_1'],poly15_data_set1['price'],'.',\n",
        "         poly15_data_set1['power_1'], model15_1.predict(poly15_data_set1),'-')"
      ],
      "execution_count":41,
      "outputs":[
        
      ],
      "metadata":{
        
      }
    },
    {
      "cell_type":"code",
      "source":[
        "poly15_data_set2 = polynomial_sframe(set_2['sqft_living'], 15)\n",
        "my_features = poly15_data_set2.column_names() \n",
        "poly15_data_set2['price'] = set_2['price']  \n",
        "model15_2 = turicreate.linear_regression.create(poly15_data_set2, target = 'price', features = my_features, validation_set = None)\n",
        "print(model15_2.coefficients.print_rows(16))\n",
        "plt.plot(poly15_data_set2['power_1'],poly15_data_set2['price'],'.',\n",
        "         poly15_data_set2['power_1'], model15_2.predict(poly15_data_set2),'-')"
      ],
      "execution_count":42,
      "outputs":[
        
      ],
      "metadata":{
        
      }
    },
    {
      "cell_type":"code",
      "source":[
        "poly15_data_set3 = polynomial_sframe(set_3['sqft_living'], 15)\n",
        "my_features = poly15_data_set3.column_names()  \n",
        "poly15_data_set3['price'] = set_3['price']  \n",
        "model15_3 = turicreate.linear_regression.create(poly15_data_set3, target = 'price', features = my_features, validation_set = None)\n",
        "print(model15_2.coefficients.print_rows(16))\n",
        "plt.plot(poly15_data_set3['power_1'],poly15_data_set3['price'],'.',\n",
        "         poly15_data_set3['power_1'], model15_3.predict(poly15_data_set3),'-')"
      ],
      "execution_count":44,
      "outputs":[
        
      ],
      "metadata":{
        
      }
    },
    {
      "cell_type":"code",
      "source":[
        "poly15_data_set4 = polynomial_sframe(set_4['sqft_living'], 15)\n",
        "my_features = poly15_data_set4.column_names()  \n",
        "poly15_data_set4['price'] = set_4['price']  \n",
        "model15_4 = turicreate.linear_regression.create(poly15_data_set4, target = 'price', features = my_features, validation_set = None)\n",
        "print(model15_4.coefficients.print_rows(16))\n",
        "plt.plot(poly15_data_set4['power_1'],poly15_data_set4['price'],'.',\n",
        "         poly15_data_set4['power_1'], model15_4.predict(poly15_data_set4),'-')"
      ],
      "execution_count":43,
      "outputs":[
        
      ],
      "metadata":{
        
      }
    },
    {
      "cell_type":"markdown",
      "source":[
        "Some questions you will be asked on your quiz:\n",
        "\n",
        "**Quiz Question: Is the sign (positive or negative) for power_15 the same in all four models?** NO\n",
        "\n",
        "**Quiz Question: (True\/False) the plotted fitted lines look the same in all four plots** False"
      ],
      "attachments":{
        
      },
      "metadata":{
        
      }
    },
    {
      "cell_type":"markdown",
      "source":[
        "# Selecting a Polynomial Degree"
      ],
      "attachments":{
        
      },
      "metadata":{
        
      }
    },
    {
      "cell_type":"markdown",
      "source":[
        "Whenever we have a \"magic\" parameter like the degree of the polynomial there is one well-known way to select these parameters: validation set. (We will explore another approach in week 4).\n",
        "\n",
        "We split the sales dataset 3-way into training set, test set, and validation set as follows:\n",
        "\n",
        "* Split our sales data into 2 sets: `training_and_validation` and `testing`. Use `random_split(0.9, seed=1)`.\n",
        "* Further split our training data into two sets: `training` and `validation`. Use `random_split(0.5, seed=1)`.\n",
        "\n",
        "Again, we set `seed=1` to obtain consistent results for different users."
      ],
      "attachments":{
        
      },
      "metadata":{
        
      }
    },
    {
      "cell_type":"code",
      "source":[
        "training_and_validation_set, testing_set = sales.random_split(0.9, seed=1)\n",
        "training_set, validation_set = training_and_validation_set.random_split(0.5, seed=1)"
      ],
      "execution_count":30,
      "outputs":[
        
      ],
      "metadata":{
        
      }
    },
    {
      "cell_type":"markdown",
      "source":[
        "Next you should write a loop that does the following:\n",
        "* For degree in [1, 2, 3, 4, 5, 6, 7, 8, 9, 10, 11, 12, 13, 14, 15] (to get this in python type range(1, 15+1))\n",
        "    * Build an SFrame of polynomial data of train_data['sqft_living'] at the current degree\n",
        "    * hint: my_features = poly_data.column_names() gives you a list e.g. ['power_1', 'power_2', 'power_3'] which you might find useful for turicreate.linear_regression.create( features = my_features)\n",
        "    * Add train_data['price'] to the polynomial SFrame\n",
        "    * Learn a polynomial regression model to sqft vs price with that degree on TRAIN data\n",
        "    * Compute the RSS on VALIDATION data (here you will want to use .predict()) for that degree and you will need to make a polynmial SFrame using validation data.\n",
        "* Report which degree had the lowest RSS on validation data (remember python indexes from 0)\n",
        "\n",
        "(Note you can turn off the print out of linear_regression.create() with verbose = False)"
      ],
      "attachments":{
        
      },
      "metadata":{
        
      }
    },
    {
      "cell_type":"code",
      "source":[
        "def getRSS(predicated, actual):\n",
        "    residuals = predicated - actual\n",
        "    return (residuals ** 2).sum()"
      ],
      "execution_count":57,
      "outputs":[
        
      ],
      "metadata":{
        
      }
    },
    {
      "cell_type":"code",
      "source":[
        "def tune_model(training_set, features, validation_set):\n",
        "    model = turicreate.linear_regression.create(training_set, target='price', features=features, validation_set=None, verbose=False)\n",
        "    return getRSS(model.predict(validation_set), validation_set['price'])"
      ],
      "execution_count":58,
      "outputs":[
        
      ],
      "metadata":{
        
      }
    },
    {
      "cell_type":"code",
      "source":[
        "best_degree = 0\n",
        "least_RSS = MAX\n",
        "for i in range(1, 16):\n",
        "    poly_i_train_set = polynomial_sframe(training_set['sqft_living'], i)\n",
        "    my_features = poly_i_train_set.column_names()\n",
        "    poly_i_train_set['price'] = training_set['price']\n",
        "\n",
        "    poly_i_validation_set = polynomial_sframe(validation_set['sqft_living'], i)\n",
        "    poly_i_validation_set['price'] = validation_set['price']\n",
        "\n",
        "    RSS_of_i = tune_model(poly_i_train_set, my_features, poly_i_validation_set)\n",
        "    print(i, RSS_of_i)\n",
        "    if least_RSS > RSS_of_i:\n",
        "        least_RSS = RSS_of_i\n",
        "        best_degree = i\n",
        "print(f'best choice is {best_degree} degree with RSS of {least_RSS}')"
      ],
      "execution_count":60,
      "outputs":[
        
      ],
      "metadata":{
        
      }
    },
    {
      "cell_type":"markdown",
      "source":[
        "**Quiz Question: Which degree (1, 2, …, 15) had the lowest RSS on Validation data?** 6"
      ],
      "attachments":{
        
      },
      "metadata":{
        
      }
    },
    {
      "cell_type":"markdown",
      "source":[
        "Now that you have chosen the degree of your polynomial using validation data, compute the RSS of this model on TEST data. Report the RSS on your quiz."
      ],
      "attachments":{
        
      },
      "metadata":{
        
      }
    },
    {
      "cell_type":"code",
      "source":[
        "poly_i_train_set = polynomial_sframe(training_set['sqft_living'], 6)\n",
        "my_features = poly_i_train_set.column_names()\n",
        "poly_i_train_set['price'] = training_set['price']\n",
        "\n",
        "poly_i_test_set = polynomial_sframe(testing_set['sqft_living'], 6)\n",
        "poly_i_test_set['price'] = testing_set['price']\n",
        "\n",
        "model = turicreate.linear_regression.create(poly_i_train_set, target='price', features=my_features, validation_set=None, verbose=False)"
      ],
      "execution_count":63,
      "outputs":[
        
      ],
      "metadata":{
        
      }
    },
    {
      "cell_type":"markdown",
      "source":[
        "**Quiz Question: what is the RSS on TEST data for the model with the degree selected from Validation data?**"
      ],
      "attachments":{
        
      },
      "metadata":{
        
      }
    },
    {
      "cell_type":"code",
      "source":[
        "print(getRSS(model.predict(poly_i_test_set),testing_set['price']))"
      ],
      "execution_count":64,
      "outputs":[
        
      ],
      "metadata":{
        
      }
    }
  ],
  "metadata":{
    
  },
  "nbformat":4,
  "nbformat_minor":0
}