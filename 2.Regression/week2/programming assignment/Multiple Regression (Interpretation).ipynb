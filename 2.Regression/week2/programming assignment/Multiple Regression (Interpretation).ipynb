{
  "cells":[
    {
      "cell_type":"markdown",
      "source":[
        "# Regression Week 2: Multiple Regression (Interpretation)"
      ],
      "attachments":{
        
      },
      "metadata":{
        
      }
    },
    {
      "cell_type":"markdown",
      "source":[
        "The goal of this first notebook is to explore multiple regression and feature engineering with existing Turi Create functions.\n",
        "\n",
        "In this notebook you will use data on house sales in King County to predict prices using multiple regression. You will:\n",
        "* Use SFrames to do some feature engineering\n",
        "* Use built-in Turi Create functions to compute the regression weights (coefficients\/parameters)\n",
        "* Given the regression weights, predictors and outcome write a function to compute the Residual Sum of Squares\n",
        "* Look at coefficients and interpret their meanings\n",
        "* Evaluate multiple models via RSS"
      ],
      "attachments":{
        
      },
      "metadata":{
        
      }
    },
    {
      "cell_type":"markdown",
      "source":[
        "# Fire up Turi Create"
      ],
      "attachments":{
        
      },
      "metadata":{
        
      }
    },
    {
      "cell_type":"code",
      "source":[
        "import turicreate"
      ],
      "execution_count":6,
      "outputs":[
        
      ],
      "metadata":{
        
      }
    },
    {
      "cell_type":"markdown",
      "source":[
        "# Load in house sales data\n",
        "\n",
        "Dataset is from house sales in King County, the region where the city of Seattle, WA is located."
      ],
      "attachments":{
        
      },
      "metadata":{
        
      }
    },
    {
      "cell_type":"code",
      "source":[
        "sales = turicreate.SFrame('home_data.sframe\/')"
      ],
      "execution_count":7,
      "outputs":[
        
      ],
      "metadata":{
        
      }
    },
    {
      "cell_type":"markdown",
      "source":[
        "# Split data into training and testing.\n",
        "We use seed=0 so that everyone running this notebook gets the same results.  In practice, you may set a random seed (or let Turi Create pick a random seed for you).  "
      ],
      "attachments":{
        
      },
      "metadata":{
        
      }
    },
    {
      "cell_type":"code",
      "source":[
        "train_data,test_data = sales.random_split(.8,seed=0)"
      ],
      "execution_count":8,
      "outputs":[
        
      ],
      "metadata":{
        
      }
    },
    {
      "cell_type":"markdown",
      "source":[
        "# Learning a multiple regression model"
      ],
      "attachments":{
        
      },
      "metadata":{
        
      }
    },
    {
      "cell_type":"markdown",
      "source":[
        "Recall we can use the following code to learn a multiple regression model predicting 'price' based on the following features:\n",
        "example_features = ['sqft_living', 'bedrooms', 'bathrooms'] on training data with the following code:\n",
        "\n",
        "(Aside: We set validation_set = None to ensure that the results are always the same)"
      ],
      "attachments":{
        
      },
      "metadata":{
        
      }
    },
    {
      "cell_type":"code",
      "source":[
        "example_features = ['sqft_living', 'bedrooms', 'bathrooms']\n",
        "example_model = turicreate.linear_regression.create(train_data, target = 'price', features = example_features, \n",
        "                                                    validation_set = None)"
      ],
      "execution_count":9,
      "outputs":[
        
      ],
      "metadata":{
        
      }
    },
    {
      "cell_type":"markdown",
      "source":[
        "Now that we have fitted the model we can extract the regression weights (coefficients) as an SFrame as follows:"
      ],
      "attachments":{
        
      },
      "metadata":{
        
      }
    },
    {
      "cell_type":"code",
      "source":[
        "example_weight_summary = example_model.coefficients\n",
        "print (example_weight_summary)"
      ],
      "execution_count":10,
      "outputs":[
        
      ],
      "metadata":{
        
      }
    },
    {
      "cell_type":"markdown",
      "source":[
        "# Making Predictions\n",
        "\n",
        "In the gradient descent notebook we use numpy to do our regression. In this book we will use existing Turi Create functions to analyze multiple regressions. \n",
        "\n",
        "Recall that once a model is built we can use the .predict() function to find the predicted values for data we pass. For example using the example model above:"
      ],
      "attachments":{
        
      },
      "metadata":{
        
      }
    },
    {
      "cell_type":"code",
      "source":[
        "example_predictions = example_model.predict(train_data)\n",
        "print( example_predictions[0]) # should be 271789.505878"
      ],
      "execution_count":11,
      "outputs":[
        
      ],
      "metadata":{
        
      }
    },
    {
      "cell_type":"markdown",
      "source":[
        "# Compute RSS"
      ],
      "attachments":{
        
      },
      "metadata":{
        
      }
    },
    {
      "cell_type":"markdown",
      "source":[
        "Now that we can make predictions given the model, let's write a function to compute the RSS of the model. Complete the function below to calculate RSS given the model, data, and the outcome."
      ],
      "attachments":{
        
      },
      "metadata":{
        
      }
    },
    {
      "cell_type":"code",
      "source":[
        "def get_residual_sum_of_squares(model, data, outcome):\n",
        "    # First get the predictions\n",
        "    predictions = model.predict(data)\n",
        "    # Then compute the residuals\/errors\n",
        "    residuals = predictions - outcome\n",
        "    # Then square and add them up\n",
        "    RSS = (residuals**2).sum()\n",
        "    return(RSS)    "
      ],
      "execution_count":14,
      "outputs":[
        
      ],
      "metadata":{
        
      }
    },
    {
      "cell_type":"markdown",
      "source":[
        "Test your function by computing the RSS on TEST data for the example model:"
      ],
      "attachments":{
        
      },
      "metadata":{
        
      }
    },
    {
      "cell_type":"code",
      "source":[
        "rss_example_train = get_residual_sum_of_squares(example_model, test_data, test_data['price'])\n",
        "print (rss_example_train) # should be 2.7376153833e+14"
      ],
      "execution_count":15,
      "outputs":[
        
      ],
      "metadata":{
        
      }
    },
    {
      "cell_type":"markdown",
      "source":[
        "# Create some new features"
      ],
      "attachments":{
        
      },
      "metadata":{
        
      }
    },
    {
      "cell_type":"markdown",
      "source":[
        "Although we often think of multiple regression as including multiple different features (e.g. # of bedrooms, squarefeet, and # of bathrooms) but we can also consider transformations of existing features e.g. the log of the squarefeet or even \"interaction\" features such as the product of bedrooms and bathrooms."
      ],
      "attachments":{
        
      },
      "metadata":{
        
      }
    },
    {
      "cell_type":"markdown",
      "source":[
        "You will use the logarithm function to create a new feature. so first you should import it from the math library."
      ],
      "attachments":{
        
      },
      "metadata":{
        
      }
    },
    {
      "cell_type":"code",
      "source":[
        "from math import log"
      ],
      "execution_count":16,
      "outputs":[
        
      ],
      "metadata":{
        
      }
    },
    {
      "cell_type":"markdown",
      "source":[
        "Next create the following 4 new features as column in both TEST and TRAIN data:\n",
        "* bedrooms_squared = bedrooms\\*bedrooms\n",
        "* bed_bath_rooms = bedrooms\\*bathrooms\n",
        "* log_sqft_living = log(sqft_living)\n",
        "* lat_plus_long = lat + long \n",
        "As an example here's the first one:"
      ],
      "attachments":{
        
      },
      "metadata":{
        
      }
    },
    {
      "cell_type":"code",
      "source":[
        "train_data['bedrooms_squared'] = train_data['bedrooms'].apply(lambda x: x ** 2)\n",
        "test_data['bedrooms_squared'] = test_data['bedrooms'].apply(lambda x: x ** 2)"
      ],
      "execution_count":20,
      "outputs":[
        
      ],
      "metadata":{
        
      }
    },
    {
      "cell_type":"code",
      "source":[
        "# create the remaining 3 features in both TEST and TRAIN data\n",
        "\n",
        "train_data['bed_bath_rooms'] = train_data['bedrooms'] * train_data['bathrooms']\n",
        "test_data['bed_bath_rooms'] = test_data['bedrooms'] * test_data['bathrooms']\n",
        "\n",
        "train_data['log_sqft_living'] = train_data['sqft_living'].apply(lambda x: log(x))\n",
        "test_data['log_sqft_living'] = test_data['sqft_living'].apply(lambda x: log(x))\n",
        "\n",
        "train_data['lat_plus_long'] = train_data['lat'] + train_data['long']\n",
        "test_data['lat_plus_long'] = test_data['lat'] + test_data['long']"
      ],
      "execution_count":21,
      "outputs":[
        
      ],
      "metadata":{
        
      }
    },
    {
      "cell_type":"markdown",
      "source":[
        "* Squaring bedrooms will increase the separation between not many bedrooms (e.g. 1) and lots of bedrooms (e.g. 4) since 1^2 = 1 but 4^2 = 16. Consequently this feature will mostly affect houses with many bedrooms.\n",
        "* bedrooms times bathrooms gives what's called an \"interaction\" feature. It is large when *both* of them are large.\n",
        "* Taking the log of squarefeet has the effect of bringing large values closer together and spreading out small values.\n",
        "* Adding latitude to longitude is totally non-sensical but we will do it anyway (you'll see why)"
      ],
      "attachments":{
        
      },
      "metadata":{
        
      }
    },
    {
      "cell_type":"markdown",
      "source":[
        "**Quiz Question: What is the mean (arithmetic average) value of your 4 new features on TEST data? (round to 2 digits)**"
      ],
      "attachments":{
        
      },
      "metadata":{
        
      }
    },
    {
      "cell_type":"code",
      "source":[
        "print(\"bedrooms_squared test mean:\" + str(test_data['bedrooms_squared'].mean()))\n",
        "print(\"bed_bath_rooms test mean:\" + str(test_data['bed_bath_rooms'].mean()))\n",
        "print(\"log_sqft_living test mean:\" + str(test_data['log_sqft_living'].mean()))\n",
        "print(\"lat_plus_long test mean:\" + str(test_data['lat_plus_long'].mean()))"
      ],
      "execution_count":29,
      "outputs":[
        
      ],
      "metadata":{
        
      }
    },
    {
      "cell_type":"markdown",
      "source":[
        "# Learning Multiple Models"
      ],
      "attachments":{
        
      },
      "metadata":{
        
      }
    },
    {
      "cell_type":"markdown",
      "source":[
        "Now we will learn the weights for three (nested) models for predicting house prices. The first model will have the fewest features the second model will add one more feature and the third will add a few more:\n",
        "* Model 1: squarefeet, # bedrooms, # bathrooms, latitude & longitude\n",
        "* Model 2: add bedrooms\\*bathrooms\n",
        "* Model 3: Add log squarefeet, bedrooms squared, and the (nonsensical) latitude + longitude"
      ],
      "attachments":{
        
      },
      "metadata":{
        
      }
    },
    {
      "cell_type":"code",
      "source":[
        "model_1_features = ['sqft_living', 'bedrooms', 'bathrooms', 'lat', 'long']\n",
        "model_2_features = model_1_features + ['bed_bath_rooms']\n",
        "model_3_features = model_2_features + ['bedrooms_squared', 'log_sqft_living', 'lat_plus_long']"
      ],
      "execution_count":30,
      "outputs":[
        
      ],
      "metadata":{
        
      }
    },
    {
      "cell_type":"markdown",
      "source":[
        "Now that you have the features, learn the weights for the three different models for predicting target = 'price' using turicreate.linear_regression.create() and look at the value of the weights\/coefficients:"
      ],
      "attachments":{
        
      },
      "metadata":{
        
      }
    },
    {
      "cell_type":"code",
      "source":[
        "# Learn the three models: (don't forget to set validation_set = None)\n",
        "model_1 = turicreate.linear_regression.create(train_data, target='price', features=model_1_features, validation_set=None)\n",
        "model_2 = turicreate.linear_regression.create(train_data, target='price', features=model_2_features, validation_set=None)\n",
        "model_3 = turicreate.linear_regression.create(train_data, target='price', features=model_3_features, validation_set=None)"
      ],
      "execution_count":37,
      "outputs":[
        
      ],
      "metadata":{
        
      }
    },
    {
      "cell_type":"code",
      "source":[
        "# Examine\/extract each model's coefficients:\n",
        "print(model_1.coefficients)\n",
        "print(model_2.coefficients)\n",
        "print(model_3.coefficients)"
      ],
      "execution_count":38,
      "outputs":[
        
      ],
      "metadata":{
        
      }
    },
    {
      "cell_type":"markdown",
      "source":[
        "**Quiz Question: What is the sign (positive or negative) for the coefficient\/weight for 'bathrooms' in model 1?**\n",
        "\n",
        "**Quiz Question: What is the sign (positive or negative) for the coefficient\/weight for 'bathrooms' in model 2?**\n",
        "\n",
        "Think about what this means."
      ],
      "attachments":{
        
      },
      "metadata":{
        
      }
    },
    {
      "cell_type":"code",
      "source":[
        "print(model_1.coefficients[model_1.coefficients['name']=='bathrooms']['value']>0)\n",
        "print(model_2.coefficients[model_2.coefficients['name']=='bathrooms']['value']>0)"
      ],
      "execution_count":50,
      "outputs":[
        
      ],
      "metadata":{
        
      }
    },
    {
      "cell_type":"markdown",
      "source":[
        "# Comparing multiple models\n",
        "\n",
        "Now that you've learned three models and extracted the model weights we want to evaluate which model is best."
      ],
      "attachments":{
        
      },
      "metadata":{
        
      }
    },
    {
      "cell_type":"markdown",
      "source":[
        "First use your functions from earlier to compute the RSS on TRAINING Data for each of the three models."
      ],
      "attachments":{
        
      },
      "metadata":{
        
      }
    },
    {
      "cell_type":"code",
      "source":[
        "# Compute the RSS on TRAINING data for each of the three models and record the values:\n",
        "print(get_residual_sum_of_squares(model_1,train_data,train_data['price']))\n",
        "print(get_residual_sum_of_squares(model_2,train_data,train_data['price']))\n",
        "print(get_residual_sum_of_squares(model_3,train_data,train_data['price']))"
      ],
      "execution_count":52,
      "outputs":[
        
      ],
      "metadata":{
        
      }
    },
    {
      "cell_type":"markdown",
      "source":[
        "**Quiz Question: Which model (1, 2 or 3) has lowest RSS on TRAINING Data?** Is this what you expected?"
      ],
      "attachments":{
        
      },
      "metadata":{
        
      }
    },
    {
      "cell_type":"markdown",
      "source":[
        "Now compute the RSS on on TEST data for each of the three models."
      ],
      "attachments":{
        
      },
      "metadata":{
        
      }
    },
    {
      "cell_type":"code",
      "source":[
        "# Compute the RSS on TESTING data for each of the three models and record the values:\n",
        "print(get_residual_sum_of_squares(model_1,test_data,test_data['price']))\n",
        "print(get_residual_sum_of_squares(model_2,test_data,test_data['price']))\n",
        "print(get_residual_sum_of_squares(model_3,test_data,test_data['price']))"
      ],
      "execution_count":53,
      "outputs":[
        
      ],
      "metadata":{
        
      }
    },
    {
      "cell_type":"markdown",
      "source":[
        "**Quiz Question: Which model (1, 2 or 3) has lowest RSS on TESTING Data?** Is this what you expected? Think about the features that were added to each model from the previous."
      ],
      "attachments":{
        
      },
      "metadata":{
        
      }
    },
    {
      "cell_type":"code",
      "source":[
        
      ],
      "execution_count":0,
      "outputs":[
        
      ],
      "metadata":{
        
      }
    }
  ],
  "metadata":{
    
  },
  "nbformat":4,
  "nbformat_minor":0
}