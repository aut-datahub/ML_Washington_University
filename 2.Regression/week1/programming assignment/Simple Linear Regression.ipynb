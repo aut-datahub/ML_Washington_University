{
  "cells":[
    {
      "cell_type":"markdown",
      "source":[
        "# Regression Week 1: Simple Linear Regression"
      ],
      "attachments":{
        
      },
      "metadata":{
        
      }
    },
    {
      "cell_type":"markdown",
      "source":[
        "In this notebook we will use data on house sales in King County to predict house prices using simple (one input) linear regression. You will:\n",
        "* Use Turi Create SArray and SFrame functions to compute important summary statistics\n",
        "* Write a function to compute the Simple Linear Regression weights using the closed form solution\n",
        "* Write a function to make predictions of the output given the input feature\n",
        "* Turn the regression around to predict the input given the output\n",
        "* Compare two different models for predicting house prices\n",
        "\n",
        "In this notebook you will be provided with some already complete code as well as some code that you should complete yourself in order to answer quiz questions. The code we provide to complte is optional and is there to assist you with solving the problems but feel free to ignore the helper code and write your own."
      ],
      "attachments":{
        
      },
      "metadata":{
        
      }
    },
    {
      "cell_type":"markdown",
      "source":[
        "# Fire up Turi Create"
      ],
      "attachments":{
        
      },
      "metadata":{
        
      }
    },
    {
      "cell_type":"code",
      "source":[
        "import turicreate"
      ],
      "execution_count":10,
      "outputs":[
        
      ],
      "metadata":{
        
      }
    },
    {
      "cell_type":"markdown",
      "source":[
        "# Load house sales data\n",
        "\n",
        "Dataset is from house sales in King County, the region where the city of Seattle, WA is located."
      ],
      "attachments":{
        
      },
      "metadata":{
        
      }
    },
    {
      "cell_type":"code",
      "source":[
        "sales = turicreate.SFrame('home_data.sframe\/')"
      ],
      "execution_count":11,
      "outputs":[
        
      ],
      "metadata":{
        
      }
    },
    {
      "cell_type":"code",
      "source":[
        "sales.head()"
      ],
      "execution_count":12,
      "outputs":[
        
      ],
      "metadata":{
        
      }
    },
    {
      "cell_type":"markdown",
      "source":[
        "# Split data into training and testing"
      ],
      "attachments":{
        
      },
      "metadata":{
        
      }
    },
    {
      "cell_type":"markdown",
      "source":[
        "We use seed=0 so that everyone running this notebook gets the same results.  In practice, you may set a random seed (or let Turi Create pick a random seed for you).  "
      ],
      "attachments":{
        
      },
      "metadata":{
        
      }
    },
    {
      "cell_type":"code",
      "source":[
        "train_data,test_data = sales.random_split(.8,seed=0)"
      ],
      "execution_count":13,
      "outputs":[
        
      ],
      "metadata":{
        
      }
    },
    {
      "cell_type":"markdown",
      "source":[
        "# Useful SFrame summary functions"
      ],
      "attachments":{
        
      },
      "metadata":{
        
      }
    },
    {
      "cell_type":"markdown",
      "source":[
        "In order to make use of the closed form solution as well as take advantage of turi create's built in functions we will review some important ones. In particular:\n",
        "* Computing the sum of an SArray\n",
        "* Computing the arithmetic average (mean) of an SArray\n",
        "* multiplying SArrays by constants\n",
        "* multiplying SArrays by other SArrays"
      ],
      "attachments":{
        
      },
      "metadata":{
        
      }
    },
    {
      "cell_type":"code",
      "source":[
        "# Let's compute the mean of the House Prices in King County in 2 different ways.\n",
        "prices = sales['price'] # extract the price column of the sales SFrame -- this is now an SArray\n",
        "\n",
        "# recall that the arithmetic average (the mean) is the sum of the prices divided by the total number of houses:\n",
        "sum_prices = prices.sum()\n",
        "num_houses = len(prices) # when prices is an SArray len() returns its length\n",
        "avg_price_1 = sum_prices\/num_houses\n",
        "avg_price_2 = prices.mean() # if you just want the average, the .mean() function\n",
        "print (\"average price via method 1: \" + str(avg_price_1))\n",
        "print (\"average price via method 2: \" + str(avg_price_2))"
      ],
      "execution_count":15,
      "outputs":[
        
      ],
      "metadata":{
        
      }
    },
    {
      "cell_type":"markdown",
      "source":[
        "As we see we get the same answer both ways"
      ],
      "attachments":{
        
      },
      "metadata":{
        
      }
    },
    {
      "cell_type":"code",
      "source":[
        "# if we want to multiply every price by 0.5 it's a simple as:\n",
        "half_prices = 0.5*prices\n",
        "# Let's compute the sum of squares of price. We can multiply two SArrays of the same length elementwise also with *\n",
        "prices_squared = prices*prices\n",
        "sum_prices_squared = prices_squared.sum() # price_squared is an SArray of the squares and we want to add them up.\n",
        "print (\"the sum of price squared is: \" + str(sum_prices_squared))"
      ],
      "execution_count":0,
      "outputs":[
        
      ],
      "metadata":{
        
      }
    },
    {
      "cell_type":"markdown",
      "source":[
        "Aside: The python notation x.xxe+yy means x.xx \\* 10^(yy). e.g 100 = 10^2 = 1*10^2 = 1e2 "
      ],
      "attachments":{
        
      },
      "metadata":{
        
      }
    },
    {
      "cell_type":"markdown",
      "source":[
        "# Build a generic simple linear regression function "
      ],
      "attachments":{
        
      },
      "metadata":{
        
      }
    },
    {
      "cell_type":"markdown",
      "source":[
        "Armed with these SArray functions we can use the closed form solution found from lecture to compute the slope and intercept for a simple linear regression on observations stored as SArrays: input_feature, output.\n",
        "\n",
        "Complete the following function (or write your own) to compute the simple linear regression slope and intercept:"
      ],
      "attachments":{
        
      },
      "metadata":{
        
      }
    },
    {
      "cell_type":"code",
      "source":[
        "def simple_linear_regression(input_feature, output):\n",
        "    # compute the sum of input_feature and output\n",
        "    n=len(input_feature)\n",
        "    input_feature_sum = input_feature.sum()\n",
        "    output_sum = output.sum()\n",
        "    # compute the product of the output and the input_feature and its sum\n",
        "    product = (input_feature*output).sum()\n",
        "    # compute the squared value of the input_feature and its sum\n",
        "    sq = (input_feature**2).sum()\n",
        "    # use the formula for the slope\n",
        "    slope = (product - (input_feature_sum*output_sum\/n))\/(sq - input_feature_sum*input_feature_sum\/n)\n",
        "    # use the formula for the intercept\n",
        "    intercept = (output_sum\/n) - slope*(input_feature_sum\/n) \n",
        "    return intercept, slope"
      ],
      "execution_count":31,
      "outputs":[
        
      ],
      "metadata":{
        
      }
    },
    {
      "cell_type":"markdown",
      "source":[
        "We can test that our function works by passing it something where we know the answer. In particular we can generate a feature and then put the output exactly on a line: output = 1 + 1\\*input_feature then we know both our slope and intercept should be 1"
      ],
      "attachments":{
        
      },
      "metadata":{
        
      }
    },
    {
      "cell_type":"code",
      "source":[
        "test_feature = turicreate.SArray(range(5))\n",
        "test_output = turicreate.SArray(1 + 1 * test_feature)\n",
        "(test_intercept, test_slope) = simple_linear_regression(test_feature, test_output)\n",
        "print(\"Intercept: \" + str(test_intercept))\n",
        "print(\"Slope: \" + str(test_slope))"
      ],
      "execution_count":32,
      "outputs":[
        
      ],
      "metadata":{
        
      }
    },
    {
      "cell_type":"markdown",
      "source":[
        "Now that we know it works let's build a regression model for predicting price based on sqft_living. Rembember that we train on train_data!"
      ],
      "attachments":{
        
      },
      "metadata":{
        
      }
    },
    {
      "cell_type":"code",
      "source":[
        "sqft_intercept, sqft_slope = simple_linear_regression(train_data['sqft_living'], train_data['price'])\n",
        "\n",
        "print (\"Intercept: \" + str(sqft_intercept))\n",
        "print (\"Slope: \" + str(sqft_slope))"
      ],
      "execution_count":48,
      "outputs":[
        
      ],
      "metadata":{
        
      }
    },
    {
      "cell_type":"markdown",
      "source":[
        "# Predicting Values"
      ],
      "attachments":{
        
      },
      "metadata":{
        
      }
    },
    {
      "cell_type":"markdown",
      "source":[
        "Now that we have the model parameters: intercept & slope we can make predictions. Using SArrays it's easy to multiply an SArray by a constant and add a constant value. Complete the following function to return the predicted output given the input_feature, slope and intercept:"
      ],
      "attachments":{
        
      },
      "metadata":{
        
      }
    },
    {
      "cell_type":"code",
      "source":[
        "def get_regression_predictions(input_feature, intercept, slope):\n",
        "    # calculate the predicted values:\n",
        "    return input_feature*slope+intercept"
      ],
      "execution_count":35,
      "outputs":[
        
      ],
      "metadata":{
        
      }
    },
    {
      "cell_type":"markdown",
      "source":[
        "Now that we can calculate a prediction given the slope and intercept let's make a prediction. Use (or alter) the following to find out the estimated price for a house with 2650 squarefeet according to the squarefeet model we estiamted above.\n",
        "\n",
        "**Quiz Question: Using your Slope and Intercept from (4), What is the predicted price for a house with 2650 sqft?**"
      ],
      "attachments":{
        
      },
      "metadata":{
        
      }
    },
    {
      "cell_type":"code",
      "source":[
        "my_house_sqft = 2650\n",
        "estimated_price = get_regression_predictions(my_house_sqft, sqft_intercept, sqft_slope)\n",
        "print (\"The estimated price for a house with %d squarefeet is $%.2f\" % (my_house_sqft, estimated_price))"
      ],
      "execution_count":37,
      "outputs":[
        
      ],
      "metadata":{
        
      }
    },
    {
      "cell_type":"markdown",
      "source":[
        "# Residual Sum of Squares"
      ],
      "attachments":{
        
      },
      "metadata":{
        
      }
    },
    {
      "cell_type":"markdown",
      "source":[
        "Now that we have a model and can make predictions let's evaluate our model using Residual Sum of Squares (RSS). Recall that RSS is the sum of the squares of the residuals and the residuals is just a fancy word for the difference between the predicted output and the true output. \n",
        "\n",
        "Complete the following (or write your own) function to compute the RSS of a simple linear regression model given the input_feature, output, intercept and slope:"
      ],
      "attachments":{
        
      },
      "metadata":{
        
      }
    },
    {
      "cell_type":"code",
      "source":[
        "def get_residual_sum_of_squares(input_feature, output, intercept, slope):\n",
        "    # First get the predictions\n",
        "    predictions = input_feature*slope+intercept\n",
        "    # then compute the residuals (since we are squaring it doesn't matter which order you subtract)\n",
        "    residuals = predictions - output\n",
        "    # square the residuals and add them up\n",
        "    RSS = (residuals**2).sum()\n",
        "    return(RSS)"
      ],
      "execution_count":40,
      "outputs":[
        
      ],
      "metadata":{
        
      }
    },
    {
      "cell_type":"markdown",
      "source":[
        "Let's test our get_residual_sum_of_squares function by applying it to the test model where the data lie exactly on a line. Since they lie exactly on a line the residual sum of squares should be zero!"
      ],
      "attachments":{
        
      },
      "metadata":{
        
      }
    },
    {
      "cell_type":"code",
      "source":[
        "print( get_residual_sum_of_squares(test_feature, test_output, test_intercept, test_slope)) # should be 0.0"
      ],
      "execution_count":41,
      "outputs":[
        
      ],
      "metadata":{
        
      }
    },
    {
      "cell_type":"markdown",
      "source":[
        "Now use your function to calculate the RSS on training data from the squarefeet model calculated above.\n",
        "\n",
        "**Quiz Question: According to this function and the slope and intercept from the squarefeet model What is the RSS for the simple linear regression using squarefeet to predict prices on TRAINING data?**"
      ],
      "attachments":{
        
      },
      "metadata":{
        
      }
    },
    {
      "cell_type":"code",
      "source":[
        "rss_prices_on_sqft = get_residual_sum_of_squares(train_data['sqft_living'], train_data['price'], sqft_intercept, sqft_slope)\n",
        "print ('The RSS of predicting Prices based on Square Feet is : ' + str(rss_prices_on_sqft))"
      ],
      "execution_count":42,
      "outputs":[
        
      ],
      "metadata":{
        
      }
    },
    {
      "cell_type":"markdown",
      "source":[
        "# Predict the squarefeet given price"
      ],
      "attachments":{
        
      },
      "metadata":{
        
      }
    },
    {
      "cell_type":"markdown",
      "source":[
        "What if we want to predict the squarefoot given the price? Since we have an equation y = a + b\\*x we can solve the function for x. So that if we have the intercept (a) and the slope (b) and the price (y) we can solve for the estimated squarefeet (x).\n",
        "\n",
        "Complete the following function to compute the inverse regression estimate, i.e. predict the input_feature given the output."
      ],
      "attachments":{
        
      },
      "metadata":{
        
      }
    },
    {
      "cell_type":"code",
      "source":[
        "def inverse_regression_predictions(output, intercept, slope):\n",
        "    # solve output = intercept + slope*input_feature for input_feature. Use this equation to compute the inverse predictions:\n",
        "    estimated_feature = (output-intercept)\/slope\n",
        "    return estimated_feature"
      ],
      "execution_count":43,
      "outputs":[
        
      ],
      "metadata":{
        
      }
    },
    {
      "cell_type":"markdown",
      "source":[
        "Now that we have a function to compute the squarefeet given the price from our simple regression model let's see how big we might expect a house that costs $800,000 to be.\n",
        "\n",
        "**Quiz Question: According to this function and the regression slope and intercept from (3) what is the estimated square-feet for a house costing $800,000?**"
      ],
      "attachments":{
        
      },
      "metadata":{
        
      }
    },
    {
      "cell_type":"code",
      "source":[
        "my_house_price = 800000\n",
        "estimated_squarefeet = inverse_regression_predictions(my_house_price, sqft_intercept, sqft_slope)\n",
        "print (\"The estimated squarefeet for a house worth $%.2f is %d\" % (my_house_price, estimated_squarefeet))"
      ],
      "execution_count":45,
      "outputs":[
        
      ],
      "metadata":{
        
      }
    },
    {
      "cell_type":"markdown",
      "source":[
        "# New Model: estimate prices from bedrooms"
      ],
      "attachments":{
        
      },
      "metadata":{
        
      }
    },
    {
      "cell_type":"markdown",
      "source":[
        "We have made one model for predicting house prices using squarefeet, but there are many other features in the sales SFrame. \n",
        "Use your simple linear regression function to estimate the regression parameters from predicting Prices based on number of bedrooms. Use the training data!"
      ],
      "attachments":{
        
      },
      "metadata":{
        
      }
    },
    {
      "cell_type":"code",
      "source":[
        "# Estimate the slope and intercept for predicting 'price' based on 'bedrooms'\n",
        "bed_feature = train_data['bedrooms']\n",
        "price_output = train_data['price']\n",
        "(bed_intercept, bed_slope) = simple_linear_regression(bed_feature, price_output)\n",
        "print(\"Intercept: \" + str(test_intercept))\n",
        "print(\"Slope: \" + str(test_slope))"
      ],
      "execution_count":49,
      "outputs":[
        
      ],
      "metadata":{
        
      }
    },
    {
      "cell_type":"markdown",
      "source":[
        "# Test your Linear Regression Algorithm"
      ],
      "attachments":{
        
      },
      "metadata":{
        
      }
    },
    {
      "cell_type":"markdown",
      "source":[
        "Now we have two models for predicting the price of a house. How do we know which one is better? Calculate the RSS on the TEST data (remember this data wasn't involved in learning the model). Compute the RSS from predicting prices using bedrooms and from predicting prices using squarefeet.\n",
        "\n",
        "**Quiz Question: Which model (square feet or bedrooms) has lowest RSS on TEST data? Think about why this might be the case.**"
      ],
      "attachments":{
        
      },
      "metadata":{
        
      }
    },
    {
      "cell_type":"code",
      "source":[
        "# Compute RSS when using bedrooms on TEST data:\n",
        "bedrss=get_residual_sum_of_squares(test_data['bedrooms'],test_data['price'],bed_intercept,bed_slope)\n",
        "bedrss"
      ],
      "execution_count":60,
      "outputs":[
        
      ],
      "metadata":{
        
      }
    },
    {
      "cell_type":"code",
      "source":[
        "# Compute RSS when using squarefeet on TEST data:\n",
        "sqftrss=get_residual_sum_of_squares(test_data['sqft_living'], test_data['price'], sqft_intercept, sqft_slope)\n",
        "sqftrss"
      ],
      "execution_count":61,
      "outputs":[
        
      ],
      "metadata":{
        
      }
    },
    {
      "cell_type":"code",
      "source":[
        "bedrss>sqftrss"
      ],
      "execution_count":62,
      "outputs":[
        
      ],
      "metadata":{
        
      }
    },
    {
      "cell_type":"code",
      "source":[
        
      ],
      "execution_count":0,
      "outputs":[
        
      ],
      "metadata":{
        
      }
    }
  ],
  "metadata":{
    
  },
  "nbformat":4,
  "nbformat_minor":0
}