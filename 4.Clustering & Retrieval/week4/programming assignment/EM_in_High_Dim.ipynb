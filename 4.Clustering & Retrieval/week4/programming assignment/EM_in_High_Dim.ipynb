{
  "nbformat": 4,
  "nbformat_minor": 0,
  "metadata": {
    "anaconda-cloud": {},
    "kernelspec": {
      "display_name": "Python 3",
      "language": "python",
      "name": "python3"
    },
    "language_info": {
      "codemirror_mode": {
        "name": "ipython",
        "version": 3
      },
      "file_extension": ".py",
      "mimetype": "text/x-python",
      "name": "python",
      "nbconvert_exporter": "python",
      "pygments_lexer": "ipython3",
      "version": "3.6.8"
    },
    "colab": {
      "name": "EM in High Dim",
      "provenance": [],
      "collapsed_sections": []
    }
  },
  "cells": [
    {
      "cell_type": "markdown",
      "metadata": {
        "id": "jF6SNLJZ-1wg"
      },
      "source": [
        "## Fitting a diagonal covariance Gaussian mixture model to text data\n",
        "\n",
        "In a previous assignment, we explored k-means clustering for a high-dimensional Wikipedia dataset. We can also model this data with a mixture of Gaussians, though with increasing dimension we run into two important issues associated with using a full covariance matrix for each component.\n",
        " * Computational cost becomes prohibitive in high dimensions: score calculations have complexity cubic in the number of dimensions M if the Gaussian has a full covariance matrix.\n",
        " * A model with many parameters require more data: observe that a full covariance matrix for an M-dimensional Gaussian will have M(M+1)/2 parameters to fit. With the number of parameters growing roughly as the square of the dimension, it may quickly become impossible to find a sufficient amount of data to make good inferences.\n",
        "\n",
        "Both of these issues are avoided if we require the covariance matrix of each component to be diagonal, as then it has only M parameters to fit and the score computation decomposes into M univariate score calculations. Recall from the lecture that the M-step for the full covariance is:\n",
        "\n",
        "\\begin{align*}\n",
        "\\hat{\\Sigma}_k &= \\frac{1}{N_k^{soft}} \\sum_{i=1}^N r_{ik} (x_i-\\hat{\\mu}_k)(x_i - \\hat{\\mu}_k)^T\n",
        "\\end{align*}\n",
        "\n",
        "Note that this is a square matrix with M rows and M columns, and the above equation implies that the (v, w) element is computed by\n",
        "\n",
        "\\begin{align*}\n",
        "\\hat{\\Sigma}_{k, v, w} &= \\frac{1}{N_k^{soft}} \\sum_{i=1}^N r_{ik} (x_{iv}-\\hat{\\mu}_{kv})(x_{iw} - \\hat{\\mu}_{kw})\n",
        "\\end{align*}\n",
        "\n",
        "When we assume that this is a diagonal matrix, then non-diagonal elements are assumed to be zero and we only need to compute each of the M elements along the diagonal independently using the following equation. \n",
        "\n",
        "\\begin{align*}\n",
        "\\hat{\\sigma}^2_{k, v} &= \\hat{\\Sigma}_{k, v, v}  \\\\\n",
        "&= \\frac{1}{N_k^{soft}} \\sum_{i=1}^N r_{ik} (x_{iv}-\\hat{\\mu}_{kv})^2\n",
        "\\end{align*}\n",
        "\n",
        "In this section, we will use an EM implementation to fit a Gaussian mixture model with **diagonal** covariances to a subset of the Wikipedia dataset. The implementation uses the above equation to compute each variance term. \n",
        "\n",
        "We'll begin by importing the dataset and coming up with a useful representation for each article. After running our algorithm on the data, we will explore the output to see whether we can give a meaningful interpretation to the fitted parameters in our model."
      ]
    },
    {
      "cell_type": "markdown",
      "metadata": {
        "id": "Yv_Z-YMm-1wk"
      },
      "source": [
        "**Note to Amazon EC2 users**: To conserve memory, make sure to stop all the other notebooks before running this notebook."
      ]
    },
    {
      "cell_type": "markdown",
      "metadata": {
        "id": "DjjJ8d9T-1wl"
      },
      "source": [
        "## Import necessary packages"
      ]
    },
    {
      "cell_type": "code",
      "metadata": {
        "id": "W4yWL6mz-1wl"
      },
      "source": [
        "from __future__ import print_function # to conform python 2.x print to python 3.x\n",
        "import turicreate"
      ],
      "execution_count": 1,
      "outputs": []
    },
    {
      "cell_type": "markdown",
      "metadata": {
        "id": "OhAxPE54-1wm"
      },
      "source": [
        "We provide the complete implementation for you in the following cells For those who are interested, you can read through the code to see how the sparse matrix implementation differs from the previous assignment. "
      ]
    },
    {
      "cell_type": "code",
      "metadata": {
        "id": "eLQwfQnj-1wm"
      },
      "source": [
        "from scipy.sparse import csr_matrix\n",
        "from scipy.sparse import spdiags\n",
        "from scipy.stats import multivariate_normal\n",
        "import turicreate\n",
        "import numpy as np\n",
        "import sys\n",
        "import time\n",
        "from copy import deepcopy\n",
        "from sklearn.metrics import pairwise_distances\n",
        "from sklearn.preprocessing import normalize\n",
        "\n",
        "def sframe_to_scipy(x, column_name):\n",
        "    '''\n",
        "    Convert a dictionary column of an SFrame into a sparse matrix format where\n",
        "    each (row_id, column_id, value) triple corresponds to the value of\n",
        "    x[row_id][column_id], where column_id is a key in the dictionary.\n",
        "       \n",
        "    Example\n",
        "    >>> sparse_matrix, map_key_to_index = sframe_to_scipy(sframe, column_name)\n",
        "    '''\n",
        "    assert type(x[column_name][0]) == dict, \\\n",
        "        'The chosen column must be dict type, representing sparse data.'\n",
        "    \n",
        "    # Stack will transform x to have a row for each unique (row, key) pair.\n",
        "    x = x.stack(column_name, ['feature', 'value'])\n",
        "    \n",
        "    # Map feature words to integers \n",
        "    unique_words = sorted(x['feature'].unique())\n",
        "    mapping = {word:i for i, word in enumerate(unique_words)}\n",
        "    x['feature_id'] = x['feature'].apply(lambda x: mapping[x])\n",
        "    \n",
        "    # Create numpy arrays that contain the data for the sparse matrix.\n",
        "    row_id = np.array(x['id'])\n",
        "    col_id = np.array(x['feature_id'])\n",
        "    data = np.array(x['value'])\n",
        "    \n",
        "    width = x['id'].max() + 1\n",
        "    height = x['feature_id'].max() + 1\n",
        "    \n",
        "    # Create a sparse matrix.\n",
        "    mat = csr_matrix((data, (row_id, col_id)), shape=(width, height))\n",
        "    return mat, mapping\n"
      ],
      "execution_count": 2,
      "outputs": []
    },
    {
      "cell_type": "code",
      "metadata": {
        "id": "mp1pfzUxJ6RV"
      },
      "source": [
        "'''\n",
        "def sframe_to_scipy_old(x, column_name):\n",
        "    ''' '''\n",
        "    Convert a dictionary column of an SFrame into a sparse matrix format where\n",
        "    each (row_id, column_id, value) triple corresponds to the value of\n",
        "    x[row_id][column_id], where column_id is a key in the dictionary.\n",
        "\n",
        "    Example\n",
        "    >>> sparse_matrix, map_key_to_index = sframe_to_scipy(sframe, column_name)\n",
        "    ''' '''\n",
        "    assert x[column_name].dtype() == dict, \\\n",
        "        'The chosen column must be dict type, representing sparse data.'\n",
        "\n",
        "    # Create triples of (row_id, feature_id, count).\n",
        "    # 1. Add a row number.\n",
        "    x = x.add_row_number()\n",
        "    # 2. Stack will transform x to have a row for each unique (row, key) pair.\n",
        "    x = x.stack(column_name, ['feature', 'value'])\n",
        "\n",
        "    # Map words into integers using a OneHotEncoder feature transformation.\n",
        "    f = graphlab.feature_engineering.OneHotEncoder(features=['feature'])\n",
        "    # 1. Fit the transformer using the above data.\n",
        "    f.fit(x)\n",
        "    # 2. The transform takes 'feature' column and adds a new column 'feature_encoding'.\n",
        "    x = f.transform(x)\n",
        "    # 3. Get the feature \n",
        "    \n",
        "    .\n",
        "    mapping = f['feature_encoding']\n",
        "    # 4. Get the feature id to use for each key.\n",
        "    x['feature_id'] = x['encoded_features'].dict_keys().apply(lambda x: x[0])\n",
        "\n",
        "    # Create numpy arrays that contain the data for the sparse matrix.\n",
        "    i = np.array(x['id'])\n",
        "    j = np.array(x['feature_id'])\n",
        "    v = np.array(x['value'])\n",
        "    width = x['id'].max() + 1\n",
        "    height = x['feature_id'].max() + 1\n",
        "\n",
        "    # Create a sparse matrix.\n",
        "    mat = csr_matrix((v, (i, j)), shape=(width, height))\n",
        "\n",
        "    return mat, mapping\n",
        "'''\n",
        "\n",
        "def diag(array):\n",
        "    n = len(array)\n",
        "    return spdiags(array, 0, n, n)\n"
      ],
      "execution_count": 3,
      "outputs": []
    },
    {
      "cell_type": "code",
      "metadata": {
        "id": "TYheAs3tKAqF"
      },
      "source": [
        "\n",
        "def logpdf_diagonal_gaussian(x, mean, cov):\n",
        "    '''\n",
        "    Compute logpdf of a multivariate Gaussian distribution with diagonal covariance at a given point x.\n",
        "    A multivariate Gaussian distribution with a diagonal covariance is equivalent\n",
        "    to a collection of independent Gaussian random variables.\n",
        "\n",
        "    x should be a sparse matrix. The logpdf will be computed for each row of x.\n",
        "    mean and cov should be given as 1D numpy arrays\n",
        "    mean[i] : mean of i-th variable\n",
        "    cov[i] : variance of i-th variable'''\n",
        "\n",
        "    n = x.shape[0]\n",
        "    dim = x.shape[1]\n",
        "    assert(dim == len(mean) and dim == len(cov))\n",
        "\n",
        "    # multiply each i-th column of x by (1/(2*sigma_i)), where sigma_i is sqrt of variance of i-th variable.\n",
        "    scaled_x = x.dot( diag(1./(2*np.sqrt(cov))) )\n",
        "    # multiply each i-th entry of mean by (1/(2*sigma_i))\n",
        "    scaled_mean = mean/(2*np.sqrt(cov))\n",
        "\n",
        "    # sum of pairwise squared Eulidean distances gives SUM[(x_i - mean_i)^2/(2*sigma_i^2)]\n",
        "    return -np.sum(np.log(np.sqrt(2*np.pi*cov))) - pairwise_distances(scaled_x, [scaled_mean], 'euclidean').flatten()**2\n"
      ],
      "execution_count": 4,
      "outputs": []
    },
    {
      "cell_type": "code",
      "metadata": {
        "id": "qhcEWHbMJ-qH"
      },
      "source": [
        "\n",
        "def log_sum_exp(x, axis):\n",
        "    '''Compute the log of a sum of exponentials'''\n",
        "    x_max = np.max(x, axis=axis)\n",
        "    if axis == 1:\n",
        "        return x_max + np.log( np.sum(np.exp(x-x_max[:,np.newaxis]), axis=1) )\n",
        "    else:\n",
        "        return x_max + np.log( np.sum(np.exp(x-x_max), axis=0) )\n",
        "\n"
      ],
      "execution_count": 5,
      "outputs": []
    },
    {
      "cell_type": "code",
      "metadata": {
        "id": "pFe2mBigJ8Y8"
      },
      "source": [
        "def EM_for_high_dimension(data, means, covs, weights, cov_smoothing=1e-5, maxiter=int(1e3), thresh=1e-4, verbose=False):\n",
        "    # cov_smoothing: specifies the default variance assigned to absent features in a cluster.\n",
        "    #                If we were to assign zero variances to absent features, we would be overconfient,\n",
        "    #                as we hastily conclude that those featurese would NEVER appear in the cluster.\n",
        "    #                We'd like to leave a little bit of possibility for absent features to show up later.\n",
        "    n = data.shape[0]\n",
        "    dim = data.shape[1]\n",
        "    mu = deepcopy(means)\n",
        "    Sigma = deepcopy(covs)\n",
        "    K = len(mu)\n",
        "    weights = np.array(weights)\n",
        "\n",
        "    ll = None\n",
        "    ll_trace = []\n",
        "\n",
        "    for i in range(maxiter):\n",
        "        # E-step: compute responsibilities\n",
        "        logresp = np.zeros((n,K))\n",
        "        for k in range(K):\n",
        "            logresp[:,k] = np.log(weights[k]) + logpdf_diagonal_gaussian(data, mu[k], Sigma[k])\n",
        "        ll_new = np.sum(log_sum_exp(logresp, axis=1))\n",
        "        if verbose:\n",
        "            print(ll_new)\n",
        "        sys.stdout.flush()\n",
        "        logresp -= np.vstack(log_sum_exp(logresp, axis=1))\n",
        "        resp = np.exp(logresp)\n",
        "        counts = np.sum(resp, axis=0)\n",
        "\n",
        "        # M-step: update weights, means, covariances\n",
        "        weights = counts / np.sum(counts)\n",
        "        for k in range(K):\n",
        "            mu[k] = (diag(resp[:,k]).dot(data)).sum(axis=0)/counts[k]\n",
        "            mu[k] = mu[k].A1\n",
        "\n",
        "            Sigma[k] = diag(resp[:,k]).dot( data.multiply(data)-2*data.dot(diag(mu[k])) ).sum(axis=0) \\\n",
        "                       + (mu[k]**2)*counts[k]\n",
        "            Sigma[k] = Sigma[k].A1 / counts[k] + cov_smoothing*np.ones(dim)\n",
        "\n",
        "        # check for convergence in log-likelihood\n",
        "        ll_trace.append(ll_new)\n",
        "        if ll is not None and (ll_new-ll) < thresh and ll_new > -np.inf:\n",
        "            ll = ll_new\n",
        "            break\n",
        "        else:\n",
        "            ll = ll_new\n",
        "\n",
        "    out = {'weights':weights,'means':mu,'covs':Sigma,'loglik':ll_trace,'resp':resp}\n",
        "\n",
        "    return out\n"
      ],
      "execution_count": 6,
      "outputs": []
    },
    {
      "cell_type": "markdown",
      "metadata": {
        "id": "PDoDMiE2-1wn"
      },
      "source": [
        "## Load Wikipedia data and extract TF-IDF features"
      ]
    },
    {
      "cell_type": "markdown",
      "metadata": {
        "id": "3Sz4lkdE-1wn"
      },
      "source": [
        "Load Wikipedia data and transform each of the first 5000 document into a TF-IDF representation."
      ]
    },
    {
      "cell_type": "code",
      "metadata": {
        "id": "1d2-9CAH-1wo"
      },
      "source": [
        "wiki = turicreate.SFrame('/content/drive/MyDrive/people_wiki.sframe/').head(5000)\n",
        "wiki['tf_idf'] = turicreate.text_analytics.tf_idf(wiki['text'])"
      ],
      "execution_count": 7,
      "outputs": []
    },
    {
      "cell_type": "markdown",
      "metadata": {
        "id": "L1KhiEkb-1wp"
      },
      "source": [
        "Using a utility we provide, we will create a sparse matrix representation of the documents. This is the same utility function you used during the previous assignment on k-means with text data."
      ]
    },
    {
      "cell_type": "code",
      "metadata": {
        "id": "48fyUNZg-1wp"
      },
      "source": [
        "wiki = wiki.add_row_number()\n",
        "tf_idf, map_word_to_index = sframe_to_scipy(wiki, 'tf_idf')\n",
        "map_index_to_word = dict([[map_word_to_index[i], i] for i in map_word_to_index.keys()])"
      ],
      "execution_count": 8,
      "outputs": []
    },
    {
      "cell_type": "markdown",
      "metadata": {
        "id": "5nd6As4f-1wq"
      },
      "source": [
        "As in the previous assignment, we will normalize each document's TF-IDF vector to be a unit vector. "
      ]
    },
    {
      "cell_type": "code",
      "metadata": {
        "id": "gH6j3OCO-1wq",
        "colab": {
          "base_uri": "https://localhost:8080/"
        },
        "outputId": "00d44276-4536-4a65-a90c-01a796d4f4ed"
      },
      "source": [
        "%%time\n",
        "tf_idf = normalize(tf_idf)"
      ],
      "execution_count": 9,
      "outputs": [
        {
          "output_type": "stream",
          "text": [
            "CPU times: user 7.66 ms, sys: 3.04 ms, total: 10.7 ms\n",
            "Wall time: 15.4 ms\n"
          ],
          "name": "stdout"
        }
      ]
    },
    {
      "cell_type": "markdown",
      "metadata": {
        "id": "tHcLRoB_-1wr"
      },
      "source": [
        "We can check that the length (Euclidean norm) of each row is now 1.0, as expected."
      ]
    },
    {
      "cell_type": "code",
      "metadata": {
        "scrolled": true,
        "id": "fc1duRGU-1wr",
        "colab": {
          "base_uri": "https://localhost:8080/"
        },
        "outputId": "c2be32a5-ac70-458c-9b8c-d6a0b6887a88"
      },
      "source": [
        "for i in range(5):\n",
        "    doc = tf_idf[i]\n",
        "    print(np.linalg.norm(doc.todense()))"
      ],
      "execution_count": 10,
      "outputs": [
        {
          "output_type": "stream",
          "text": [
            "1.0\n",
            "1.0\n",
            "0.9999999999999997\n",
            "1.0000000000000007\n",
            "1.0\n"
          ],
          "name": "stdout"
        }
      ]
    },
    {
      "cell_type": "markdown",
      "metadata": {
        "id": "qMXBdJHz-1wr"
      },
      "source": [
        "## EM in high dimensions\n",
        "\n",
        "EM for high-dimensional data requires some special treatment:\n",
        " * E step and M step must be vectorized as much as possible, as explicit loops are dreadfully slow in Python.\n",
        " * All operations must be cast in terms of sparse matrix operations, to take advantage of computational savings enabled by sparsity of data.\n",
        " * Initially, some words may be entirely absent from a cluster, causing the M step to produce zero mean and variance for those words.  This means any data point with one of those words will have 0 probability of being assigned to that cluster since the cluster allows for no variability (0 variance) around that count being 0 (0 mean). Since there is a small chance for those words to later appear in the cluster, we instead assign a small positive variance (~1e-10). Doing so also prevents numerical overflow.\n",
        " \n",
        "\n",
        "You are expected to answer some quiz questions using the results of clustering."
      ]
    },
    {
      "cell_type": "markdown",
      "metadata": {
        "id": "kVGT_fKq-1ws"
      },
      "source": [
        "**Initializing mean parameters using k-means**\n",
        "\n",
        "Recall from the lectures that EM for Gaussian mixtures is very sensitive to the choice of initial means. With a bad initial set of means, EM may produce clusters that span a large area and are mostly overlapping. To eliminate such bad outcomes, we first produce a suitable set of initial means by using the cluster centers from running k-means.  That is, we first run k-means and then take the final set of means from the converged solution as the initial means in our EM algorithm."
      ]
    },
    {
      "cell_type": "code",
      "metadata": {
        "id": "pNSwt1X8-1ws",
        "colab": {
          "base_uri": "https://localhost:8080/"
        },
        "outputId": "4c720f43-7d76-41c0-9884-c9fbd2a7c47f"
      },
      "source": [
        "%%time \n",
        "\n",
        "from sklearn.cluster import KMeans\n",
        "\n",
        "np.random.seed(5)\n",
        "num_clusters = 25\n",
        "\n",
        "# Use scikit-learn's k-means to simplify workflow\n",
        "#kmeans_model = KMeans(n_clusters=num_clusters, n_init=5, max_iter=400, random_state=1, n_jobs=-1) # uncomment to use parallelism -- may break on your installation\n",
        "kmeans_model = KMeans(n_clusters=num_clusters, n_init=5, max_iter=400, random_state=1, n_jobs=1)\n",
        "kmeans_model.fit(tf_idf)\n",
        "centroids, cluster_assignment = kmeans_model.cluster_centers_, kmeans_model.labels_\n",
        "\n",
        "means = [centroid for centroid in centroids]"
      ],
      "execution_count": 11,
      "outputs": [
        {
          "output_type": "stream",
          "text": [
            "CPU times: user 2min 32s, sys: 15.2 s, total: 2min 47s\n",
            "Wall time: 2min 29s\n"
          ],
          "name": "stdout"
        }
      ]
    },
    {
      "cell_type": "markdown",
      "metadata": {
        "id": "gPrb0R0W-1wt"
      },
      "source": [
        "**Initializing cluster weights**\n",
        "\n",
        "We will initialize each cluster weight to be the proportion of documents assigned to that cluster by k-means above."
      ]
    },
    {
      "cell_type": "code",
      "metadata": {
        "id": "Nyj9NymC-1wt",
        "colab": {
          "base_uri": "https://localhost:8080/"
        },
        "outputId": "633c704e-038e-406e-db4f-ca0e90b71217"
      },
      "source": [
        "%%time \n",
        "\n",
        "num_docs = tf_idf.shape[0]\n",
        "weights = []\n",
        "for i in range(num_clusters):\n",
        "    # Compute the number of data points assigned to cluster i:\n",
        "    num_assigned = np.sum(cluster_assignment[cluster_assignment==i])\n",
        "    if num_assigned==0:\n",
        "      num_assigned=1.\n",
        "    w = float(num_assigned) / num_docs\n",
        "    weights.append(w)"
      ],
      "execution_count": 12,
      "outputs": [
        {
          "output_type": "stream",
          "text": [
            "CPU times: user 3.52 ms, sys: 1.03 ms, total: 4.55 ms\n",
            "Wall time: 3.74 ms\n"
          ],
          "name": "stdout"
        }
      ]
    },
    {
      "cell_type": "markdown",
      "metadata": {
        "id": "5jc31jxi-1wt"
      },
      "source": [
        "**Initializing covariances**\n",
        "\n",
        "To initialize our covariance parameters, we compute $\\hat{\\sigma}_{k, j}^2 = \\sum_{i=1}^{N}(x_{i,j} - \\hat{\\mu}_{k, j})^2$ for each feature $j$.  For features with really tiny variances, we assign 1e-8 instead to prevent numerical instability. We do this computation in a vectorized fashion in the following code block."
      ]
    },
    {
      "cell_type": "code",
      "metadata": {
        "id": "vMpG-c7G-1wt"
      },
      "source": [
        "covs = []\n",
        "for i in range(num_clusters):\n",
        "    member_rows = tf_idf[cluster_assignment==i]\n",
        "    cov = (member_rows.multiply(member_rows) - 2*member_rows.dot(diag(means[i]))).sum(axis=0).A1 / member_rows.shape[0] \\\n",
        "          + means[i]**2\n",
        "    cov[cov < 1e-8] = 1e-8\n",
        "    covs.append(cov)"
      ],
      "execution_count": 13,
      "outputs": []
    },
    {
      "cell_type": "markdown",
      "metadata": {
        "id": "03UqRAWx-1wt"
      },
      "source": [
        "**Running EM**\n",
        "\n",
        "Now that we have initialized all of our parameters, run EM."
      ]
    },
    {
      "cell_type": "code",
      "metadata": {
        "scrolled": true,
        "id": "swN8ct6c-1wt"
      },
      "source": [
        "out = EM_for_high_dimension(tf_idf, means, covs, weights, cov_smoothing=1e-10)"
      ],
      "execution_count": 14,
      "outputs": []
    },
    {
      "cell_type": "code",
      "metadata": {
        "id": "eP_DaH4l-1wu",
        "colab": {
          "base_uri": "https://localhost:8080/"
        },
        "outputId": "deedd867-ddf2-4bba-c9c5-aa67f0fece90"
      },
      "source": [
        "out['loglik']"
      ],
      "execution_count": 15,
      "outputs": [
        {
          "output_type": "execute_result",
          "data": {
            "text/plain": [
              "[3855857146.0866046, 4844053202.46348, 4844053202.46348]"
            ]
          },
          "metadata": {},
          "execution_count": 15
        }
      ]
    },
    {
      "cell_type": "markdown",
      "metadata": {
        "id": "KCuFsd3J-1wu"
      },
      "source": [
        "## Interpret clustering results"
      ]
    },
    {
      "cell_type": "markdown",
      "metadata": {
        "id": "OhpvPSvq-1wu"
      },
      "source": [
        "In contrast to k-means, EM is able to explicitly model clusters of varying sizes and proportions. The relative magnitude of variances in the word dimensions tell us much about the nature of the clusters.\n",
        "\n",
        "Write yourself a cluster visualizer as follows.  Examining each cluster's mean vector, list the 5 words with the largest mean values (5 most common words in the cluster). For each word, also include the associated variance parameter (diagonal element of the covariance matrix). \n",
        "\n",
        "A sample output may be:\n",
        "```\n",
        "==========================================================\n",
        "Cluster 0: Largest mean parameters in cluster \n",
        "\n",
        "Word        Mean        Variance    \n",
        "football    1.08e-01    8.64e-03\n",
        "season      5.80e-02    2.93e-03\n",
        "club        4.48e-02    1.99e-03\n",
        "league      3.94e-02    1.08e-03\n",
        "played      3.83e-02    8.45e-04\n",
        "...\n",
        "```"
      ]
    },
    {
      "cell_type": "code",
      "metadata": {
        "id": "MX02qjIS-1wu"
      },
      "source": [
        "# Fill in the blanks\n",
        "def visualize_EM_clusters(tf_idf, means, covs, map_index_to_word):\n",
        "    print('')\n",
        "    print('==========================================================')\n",
        "    \n",
        "    num_clusters = len(means)\n",
        "    for c in range(num_clusters):\n",
        "        print('Cluster {0:d}: Largest mean parameters in cluster '.format(c))\n",
        "        print('\\n{0: <12}{1: <12}{2: <12}'.format('Word', 'Mean', 'Variance'))\n",
        "        \n",
        "        # The k'th element of sorted_word_ids should be the index of the word \n",
        "        # that has the k'th-largest value in the cluster mean. Hint: Use np.argsort().\n",
        "        sorted_word_ids = np.argsort(-means[c])\n",
        "\n",
        "        for i in sorted_word_ids[:5]:\n",
        "            print('{0: <12}{1:<10.2e}{2:10.2e}'.format(map_index_to_word[i], \n",
        "                                                       means[c][i],\n",
        "                                                       covs[c][i]))\n",
        "        print('\\n==========================================================')"
      ],
      "execution_count": 16,
      "outputs": []
    },
    {
      "cell_type": "code",
      "metadata": {
        "id": "PMM80dwd-1wu",
        "colab": {
          "base_uri": "https://localhost:8080/"
        },
        "outputId": "49f4e590-5249-4102-8867-0a624f1a87a9"
      },
      "source": [
        "'''By EM'''\n",
        "visualize_EM_clusters(tf_idf, out['means'], out['covs'], map_index_to_word)"
      ],
      "execution_count": 17,
      "outputs": [
        {
          "output_type": "stream",
          "text": [
            "\n",
            "==========================================================\n",
            "Cluster 0: Largest mean parameters in cluster \n",
            "\n",
            "Word        Mean        Variance    \n",
            "minister    7.57e-02    7.42e-03\n",
            "election    5.89e-02    3.21e-03\n",
            "party       5.89e-02    2.61e-03\n",
            "liberal     2.93e-02    4.55e-03\n",
            "elected     2.91e-02    8.95e-04\n",
            "\n",
            "==========================================================\n",
            "Cluster 1: Largest mean parameters in cluster \n",
            "\n",
            "Word        Mean        Variance    \n",
            "film        1.76e-01    6.07e-03\n",
            "films       5.50e-02    2.97e-03\n",
            "festival    4.66e-02    3.60e-03\n",
            "feature     3.69e-02    1.81e-03\n",
            "directed    3.39e-02    2.22e-03\n",
            "\n",
            "==========================================================\n",
            "Cluster 2: Largest mean parameters in cluster \n",
            "\n",
            "Word        Mean        Variance    \n",
            "art         1.26e-01    6.83e-03\n",
            "museum      5.62e-02    7.27e-03\n",
            "gallery     3.65e-02    3.40e-03\n",
            "artist      3.61e-02    1.44e-03\n",
            "design      3.20e-02    4.59e-03\n",
            "\n",
            "==========================================================\n",
            "Cluster 3: Largest mean parameters in cluster \n",
            "\n",
            "Word        Mean        Variance    \n",
            "basketball  1.86e-01    7.78e-03\n",
            "nba         1.01e-01    1.22e-02\n",
            "points      6.25e-02    5.92e-03\n",
            "coach       5.57e-02    5.91e-03\n",
            "team        4.68e-02    1.30e-03\n",
            "\n",
            "==========================================================\n",
            "Cluster 4: Largest mean parameters in cluster \n",
            "\n",
            "Word        Mean        Variance    \n",
            "hockey      2.45e-01    1.64e-02\n",
            "nhl         1.56e-01    1.64e-02\n",
            "ice         6.40e-02    2.97e-03\n",
            "season      5.05e-02    2.52e-03\n",
            "league      4.31e-02    1.53e-03\n",
            "\n",
            "==========================================================\n",
            "Cluster 5: Largest mean parameters in cluster \n",
            "\n",
            "Word        Mean        Variance    \n",
            "republican  7.93e-02    5.20e-03\n",
            "senate      5.41e-02    6.28e-03\n",
            "house       4.64e-02    2.41e-03\n",
            "district    4.60e-02    2.37e-03\n",
            "democratic  4.46e-02    3.02e-03\n",
            "\n",
            "==========================================================\n",
            "Cluster 6: Largest mean parameters in cluster \n",
            "\n",
            "Word        Mean        Variance    \n",
            "she         1.60e-01    4.65e-03\n",
            "her         1.00e-01    3.14e-03\n",
            "miss        2.22e-02    7.76e-03\n",
            "women       1.43e-02    1.36e-03\n",
            "womens      1.21e-02    1.46e-03\n",
            "\n",
            "==========================================================\n",
            "Cluster 7: Largest mean parameters in cluster \n",
            "\n",
            "Word        Mean        Variance    \n",
            "championships7.78e-02    5.17e-03\n",
            "m           4.70e-02    7.58e-03\n",
            "olympics    4.69e-02    2.59e-03\n",
            "medal       4.28e-02    2.44e-03\n",
            "she         4.18e-02    5.99e-03\n",
            "\n",
            "==========================================================\n",
            "Cluster 8: Largest mean parameters in cluster \n",
            "\n",
            "Word        Mean        Variance    \n",
            "book        1.45e-02    9.38e-04\n",
            "published   1.23e-02    6.16e-04\n",
            "that        1.10e-02    1.73e-04\n",
            "novel       1.07e-02    1.43e-03\n",
            "he          1.04e-02    6.05e-05\n",
            "\n",
            "==========================================================\n",
            "Cluster 9: Largest mean parameters in cluster \n",
            "\n",
            "Word        Mean        Variance    \n",
            "she         1.37e-01    4.25e-03\n",
            "her         8.99e-02    2.74e-03\n",
            "actress     7.65e-02    4.29e-03\n",
            "film        5.98e-02    3.44e-03\n",
            "drama       5.03e-02    6.40e-03\n",
            "\n",
            "==========================================================\n",
            "Cluster 10: Largest mean parameters in cluster \n",
            "\n",
            "Word        Mean        Variance    \n",
            "soccer      1.15e-01    2.86e-02\n",
            "chess       4.52e-02    1.66e-02\n",
            "team        4.13e-02    2.15e-03\n",
            "coach       3.09e-02    4.45e-03\n",
            "league      3.07e-02    2.01e-03\n",
            "\n",
            "==========================================================\n",
            "Cluster 11: Largest mean parameters in cluster \n",
            "\n",
            "Word        Mean        Variance    \n",
            "president   2.52e-02    1.29e-03\n",
            "chairman    2.44e-02    1.97e-03\n",
            "committee   2.34e-02    2.38e-03\n",
            "served      2.24e-02    6.99e-04\n",
            "executive   2.15e-02    1.23e-03\n",
            "\n",
            "==========================================================\n",
            "Cluster 12: Largest mean parameters in cluster \n",
            "\n",
            "Word        Mean        Variance    \n",
            "music       7.26e-02    3.48e-03\n",
            "jazz        6.07e-02    1.14e-02\n",
            "hong        3.78e-02    9.92e-03\n",
            "kong        3.50e-02    8.64e-03\n",
            "chinese     3.12e-02    5.33e-03\n",
            "\n",
            "==========================================================\n",
            "Cluster 13: Largest mean parameters in cluster \n",
            "\n",
            "Word        Mean        Variance    \n",
            "university  3.47e-02    8.89e-04\n",
            "history     3.38e-02    2.81e-03\n",
            "philosophy  2.86e-02    5.35e-03\n",
            "professor   2.74e-02    1.08e-03\n",
            "studies     2.41e-02    1.95e-03\n",
            "\n",
            "==========================================================\n",
            "Cluster 14: Largest mean parameters in cluster \n",
            "\n",
            "Word        Mean        Variance    \n",
            "theatre     4.93e-02    6.17e-03\n",
            "actor       3.56e-02    2.91e-03\n",
            "television  3.21e-02    1.67e-03\n",
            "film        2.93e-02    1.16e-03\n",
            "comedy      2.86e-02    3.91e-03\n",
            "\n",
            "==========================================================\n",
            "Cluster 15: Largest mean parameters in cluster \n",
            "\n",
            "Word        Mean        Variance    \n",
            "album       6.76e-02    4.78e-03\n",
            "band        5.35e-02    4.21e-03\n",
            "music       4.18e-02    1.96e-03\n",
            "released    3.13e-02    1.11e-03\n",
            "song        2.50e-02    1.81e-03\n",
            "\n",
            "==========================================================\n",
            "Cluster 16: Largest mean parameters in cluster \n",
            "\n",
            "Word        Mean        Variance    \n",
            "tour        1.14e-01    1.92e-02\n",
            "pga         1.08e-01    2.65e-02\n",
            "racing      8.45e-02    8.26e-03\n",
            "championship6.27e-02    4.54e-03\n",
            "formula     6.06e-02    1.31e-02\n",
            "\n",
            "==========================================================\n",
            "Cluster 17: Largest mean parameters in cluster \n",
            "\n",
            "Word        Mean        Variance    \n",
            "news        5.76e-02    8.06e-03\n",
            "radio       5.18e-02    4.62e-03\n",
            "show        3.75e-02    2.56e-03\n",
            "bbc         3.63e-02    7.41e-03\n",
            "chef        3.27e-02    1.18e-02\n",
            "\n",
            "==========================================================\n",
            "Cluster 18: Largest mean parameters in cluster \n",
            "\n",
            "Word        Mean        Variance    \n",
            "football    1.11e-01    5.60e-03\n",
            "yards       7.37e-02    1.72e-02\n",
            "nfl         6.98e-02    9.15e-03\n",
            "coach       6.74e-02    7.85e-03\n",
            "quarterback 4.02e-02    7.16e-03\n",
            "\n",
            "==========================================================\n",
            "Cluster 19: Largest mean parameters in cluster \n",
            "\n",
            "Word        Mean        Variance    \n",
            "league      5.21e-02    3.13e-03\n",
            "club        5.04e-02    2.64e-03\n",
            "season      4.77e-02    2.30e-03\n",
            "rugby       4.35e-02    8.18e-03\n",
            "cup         4.22e-02    2.46e-03\n",
            "\n",
            "==========================================================\n",
            "Cluster 20: Largest mean parameters in cluster \n",
            "\n",
            "Word        Mean        Variance    \n",
            "orchestra   1.31e-01    1.06e-02\n",
            "music       1.23e-01    6.15e-03\n",
            "symphony    8.70e-02    1.08e-02\n",
            "conductor   8.16e-02    1.01e-02\n",
            "philharmonic4.96e-02    3.27e-03\n",
            "\n",
            "==========================================================\n",
            "Cluster 21: Largest mean parameters in cluster \n",
            "\n",
            "Word        Mean        Variance    \n",
            "law         9.52e-02    8.35e-03\n",
            "court       6.84e-02    5.24e-03\n",
            "judge       4.59e-02    4.44e-03\n",
            "attorney    3.74e-02    4.30e-03\n",
            "district    3.72e-02    4.20e-03\n",
            "\n",
            "==========================================================\n",
            "Cluster 22: Largest mean parameters in cluster \n",
            "\n",
            "Word        Mean        Variance    \n",
            "football    1.21e-01    6.14e-03\n",
            "afl         9.58e-02    1.31e-02\n",
            "australian  7.91e-02    1.58e-03\n",
            "club        5.93e-02    1.76e-03\n",
            "season      5.58e-02    1.83e-03\n",
            "\n",
            "==========================================================\n",
            "Cluster 23: Largest mean parameters in cluster \n",
            "\n",
            "Word        Mean        Variance    \n",
            "research    5.70e-02    2.68e-03\n",
            "science     3.50e-02    2.95e-03\n",
            "university  3.34e-02    7.14e-04\n",
            "professor   3.20e-02    1.26e-03\n",
            "physics     2.61e-02    5.43e-03\n",
            "\n",
            "==========================================================\n",
            "Cluster 24: Largest mean parameters in cluster \n",
            "\n",
            "Word        Mean        Variance    \n",
            "baseball    1.16e-01    5.57e-03\n",
            "league      1.03e-01    3.63e-03\n",
            "major       5.09e-02    1.19e-03\n",
            "games       4.66e-02    1.93e-03\n",
            "sox         4.55e-02    6.28e-03\n",
            "\n",
            "==========================================================\n"
          ],
          "name": "stdout"
        }
      ]
    },
    {
      "cell_type": "markdown",
      "metadata": {
        "id": "RJwrO9Ri-1wv"
      },
      "source": [
        "**Quiz Question**. Select all the topics that have a cluster in the model created above. [multiple choice]\n",
        "\n",
        "- Baseball\n",
        "- Basketball\n",
        "- Soccer/Football\n",
        "- Music\n",
        "- Politics\n",
        "- Law\n",
        "- Finance"
      ]
    },
    {
      "cell_type": "markdown",
      "metadata": {
        "id": "R-zXXiEJ-1wv"
      },
      "source": [
        "## Comparing to random initialization"
      ]
    },
    {
      "cell_type": "markdown",
      "metadata": {
        "id": "B8kW59wm-1wv"
      },
      "source": [
        "Create variables for randomly initializing the EM algorithm. Complete the following code block."
      ]
    },
    {
      "cell_type": "code",
      "metadata": {
        "id": "Z37HbWyR-1wv"
      },
      "source": [
        "np.random.seed(5) # See the note below to see why we set seed=5.\n",
        "num_clusters = len(means)\n",
        "num_docs, num_words = tf_idf.shape\n",
        "\n",
        "random_means = []\n",
        "random_covs = []\n",
        "random_weights = []\n",
        "\n",
        "for k in range(num_clusters):\n",
        "    \n",
        "    # Create a numpy array of length num_words with random normally distributed values.\n",
        "    # Use the standard univariate normal distribution (mean 0, variance 1).\n",
        "    mean = np.random.normal(0, 1, num_words)\n",
        "    \n",
        "    # Create a numpy array of length num_words with random values uniformly distributed between 1 and 5.\n",
        "    cov = np.random.uniform(1, 5, num_words)\n",
        "\n",
        "    # Initially give each cluster equal weight.\n",
        "    weight = num_clusters/float(num_docs)\n",
        "    \n",
        "    random_means.append(mean)\n",
        "    random_covs.append(cov)\n",
        "    random_weights.append(weight)"
      ],
      "execution_count": 18,
      "outputs": []
    },
    {
      "cell_type": "markdown",
      "metadata": {
        "id": "phI8aftJ-1wv"
      },
      "source": [
        "**Quiz Question**: Try fitting EM with the random initial parameters you created above. (Use `cov_smoothing=1e-5`.) Store the result to `out_random_init`. What is the final loglikelihood that the algorithm converges to?"
      ]
    },
    {
      "cell_type": "code",
      "metadata": {
        "id": "tQ0RJbUg-1wv",
        "colab": {
          "base_uri": "https://localhost:8080/"
        },
        "outputId": "f8a9076a-b6c9-49a9-df58-8df7d53311bf"
      },
      "source": [
        "out_random_init = EM_for_high_dimension(tf_idf, random_means, random_covs, random_weights, cov_smoothing=1e-5)\n",
        "out_random_init['loglik'][-1]"
      ],
      "execution_count": 19,
      "outputs": [
        {
          "output_type": "execute_result",
          "data": {
            "text/plain": [
              "2362457265.2187605"
            ]
          },
          "metadata": {},
          "execution_count": 19
        }
      ]
    },
    {
      "cell_type": "markdown",
      "metadata": {
        "id": "T61SGNcW-1wv"
      },
      "source": [
        "**Quiz Question:** Is the final loglikelihood larger or smaller than the final loglikelihood we obtained above when initializing EM with the results from running k-means?"
      ]
    },
    {
      "cell_type": "code",
      "metadata": {
        "id": "xl6WhEWJ-1wv",
        "colab": {
          "base_uri": "https://localhost:8080/"
        },
        "outputId": "62d9d2b8-b8e7-4bde-d446-cb1a1ab2068a"
      },
      "source": [
        "out_random_init['loglik'][-1] > out['loglik'][-1]"
      ],
      "execution_count": 20,
      "outputs": [
        {
          "output_type": "execute_result",
          "data": {
            "text/plain": [
              "False"
            ]
          },
          "metadata": {},
          "execution_count": 20
        }
      ]
    },
    {
      "cell_type": "markdown",
      "metadata": {
        "id": "C_S4E6kx-1wv"
      },
      "source": [
        "**Quiz Question**: For the above model, `out_random_init`, use the `visualize_EM_clusters` method you created above. Are the clusters more or less interpretable than the ones found after initializing using k-means?"
      ]
    },
    {
      "cell_type": "code",
      "metadata": {
        "id": "6KXQzIoP-1ww",
        "colab": {
          "base_uri": "https://localhost:8080/"
        },
        "outputId": "e6170bbd-6be4-48d9-918e-4fd1d878c493"
      },
      "source": [
        "# YOUR CODE HERE. Use visualize_EM_clusters, which will require you to pass in tf_idf and map_index_to_word.\n",
        "visualize_EM_clusters(tf_idf,out_random_init['means'], out_random_init['covs'], map_index_to_word)"
      ],
      "execution_count": 21,
      "outputs": [
        {
          "output_type": "stream",
          "text": [
            "\n",
            "==========================================================\n",
            "Cluster 0: Largest mean parameters in cluster \n",
            "\n",
            "Word        Mean        Variance    \n",
            "she         2.24e-02    3.54e-03\n",
            "award       1.53e-02    1.18e-03\n",
            "music       1.45e-02    1.29e-03\n",
            "university  1.43e-02    6.32e-04\n",
            "law         1.27e-02    2.59e-03\n",
            "\n",
            "==========================================================\n",
            "Cluster 1: Largest mean parameters in cluster \n",
            "\n",
            "Word        Mean        Variance    \n",
            "she         1.99e-02    2.80e-03\n",
            "league      1.91e-02    2.14e-03\n",
            "season      1.59e-02    1.17e-03\n",
            "football    1.53e-02    2.15e-03\n",
            "he          1.36e-02    1.13e-04\n",
            "\n",
            "==========================================================\n",
            "Cluster 2: Largest mean parameters in cluster \n",
            "\n",
            "Word        Mean        Variance    \n",
            "she         5.65e-02    6.39e-03\n",
            "her         5.21e-02    5.62e-03\n",
            "music       1.13e-02    9.50e-04\n",
            "de          1.08e-02    1.92e-03\n",
            "opera       1.03e-02    3.26e-03\n",
            "\n",
            "==========================================================\n",
            "Cluster 3: Largest mean parameters in cluster \n",
            "\n",
            "Word        Mean        Variance    \n",
            "film        2.98e-02    5.79e-03\n",
            "he          1.38e-02    1.07e-04\n",
            "hockey      1.33e-02    5.33e-03\n",
            "she         1.31e-02    1.69e-03\n",
            "her         1.24e-02    1.20e-03\n",
            "\n",
            "==========================================================\n",
            "Cluster 4: Largest mean parameters in cluster \n",
            "\n",
            "Word        Mean        Variance    \n",
            "she         1.96e-02    3.21e-03\n",
            "film        1.38e-02    1.72e-03\n",
            "he          1.36e-02    1.14e-04\n",
            "her         1.35e-02    1.09e-03\n",
            "university  1.31e-02    5.36e-04\n",
            "\n",
            "==========================================================\n",
            "Cluster 5: Largest mean parameters in cluster \n",
            "\n",
            "Word        Mean        Variance    \n",
            "she         2.03e-02    2.65e-03\n",
            "her         1.37e-02    1.09e-03\n",
            "he          1.31e-02    1.21e-04\n",
            "law         9.93e-03    1.96e-03\n",
            "court       9.54e-03    1.47e-03\n",
            "\n",
            "==========================================================\n",
            "Cluster 6: Largest mean parameters in cluster \n",
            "\n",
            "Word        Mean        Variance    \n",
            "she         2.70e-02    3.62e-03\n",
            "her         1.44e-02    1.18e-03\n",
            "he          1.18e-02    1.06e-04\n",
            "served      1.11e-02    3.79e-04\n",
            "state       1.03e-02    5.08e-04\n",
            "\n",
            "==========================================================\n",
            "Cluster 7: Largest mean parameters in cluster \n",
            "\n",
            "Word        Mean        Variance    \n",
            "she         3.41e-02    4.33e-03\n",
            "her         2.17e-02    1.89e-03\n",
            "music       1.73e-02    2.16e-03\n",
            "album       1.52e-02    2.38e-03\n",
            "marathon    1.25e-02    5.52e-03\n",
            "\n",
            "==========================================================\n",
            "Cluster 8: Largest mean parameters in cluster \n",
            "\n",
            "Word        Mean        Variance    \n",
            "league      1.87e-02    2.01e-03\n",
            "she         1.73e-02    2.67e-03\n",
            "he          1.46e-02    1.17e-04\n",
            "season      1.38e-02    8.80e-04\n",
            "played      1.35e-02    6.32e-04\n",
            "\n",
            "==========================================================\n",
            "Cluster 9: Largest mean parameters in cluster \n",
            "\n",
            "Word        Mean        Variance    \n",
            "she         3.38e-02    4.81e-03\n",
            "her         1.52e-02    1.23e-03\n",
            "team        1.46e-02    8.86e-04\n",
            "played      1.45e-02    7.99e-04\n",
            "cup         1.39e-02    1.44e-03\n",
            "\n",
            "==========================================================\n",
            "Cluster 10: Largest mean parameters in cluster \n",
            "\n",
            "Word        Mean        Variance    \n",
            "music       1.54e-02    1.51e-03\n",
            "york        1.49e-02    8.13e-04\n",
            "he          1.31e-02    1.01e-04\n",
            "university  1.23e-02    5.72e-04\n",
            "she         1.22e-02    2.06e-03\n",
            "\n",
            "==========================================================\n",
            "Cluster 11: Largest mean parameters in cluster \n",
            "\n",
            "Word        Mean        Variance    \n",
            "she         2.07e-02    2.65e-03\n",
            "her         1.61e-02    1.67e-03\n",
            "film        1.55e-02    2.19e-03\n",
            "music       1.36e-02    1.71e-03\n",
            "university  1.36e-02    3.43e-04\n",
            "\n",
            "==========================================================\n",
            "Cluster 12: Largest mean parameters in cluster \n",
            "\n",
            "Word        Mean        Variance    \n",
            "she         2.06e-02    2.98e-03\n",
            "tour        1.46e-02    3.64e-03\n",
            "he          1.42e-02    1.22e-04\n",
            "her         1.26e-02    1.11e-03\n",
            "music       1.25e-02    1.40e-03\n",
            "\n",
            "==========================================================\n",
            "Cluster 13: Largest mean parameters in cluster \n",
            "\n",
            "Word        Mean        Variance    \n",
            "she         2.12e-02    2.25e-03\n",
            "her         1.65e-02    1.35e-03\n",
            "art         1.60e-02    2.76e-03\n",
            "nixon       1.50e-02    9.78e-03\n",
            "music       1.44e-02    1.41e-03\n",
            "\n",
            "==========================================================\n",
            "Cluster 14: Largest mean parameters in cluster \n",
            "\n",
            "Word        Mean        Variance    \n",
            "music       1.85e-02    2.31e-03\n",
            "film        1.69e-02    2.75e-03\n",
            "he          1.31e-02    9.45e-05\n",
            "research    1.08e-02    1.06e-03\n",
            "university  1.04e-02    2.96e-04\n",
            "\n",
            "==========================================================\n",
            "Cluster 15: Largest mean parameters in cluster \n",
            "\n",
            "Word        Mean        Variance    \n",
            "she         2.14e-02    3.05e-03\n",
            "he          1.35e-02    1.11e-04\n",
            "league      1.32e-02    1.34e-03\n",
            "her         1.30e-02    1.32e-03\n",
            "season      1.22e-02    1.01e-03\n",
            "\n",
            "==========================================================\n",
            "Cluster 16: Largest mean parameters in cluster \n",
            "\n",
            "Word        Mean        Variance    \n",
            "she         2.12e-02    2.73e-03\n",
            "her         1.65e-02    1.29e-03\n",
            "film        1.36e-02    1.26e-03\n",
            "he          1.17e-02    1.01e-04\n",
            "show        1.14e-02    9.72e-04\n",
            "\n",
            "==========================================================\n",
            "Cluster 17: Largest mean parameters in cluster \n",
            "\n",
            "Word        Mean        Variance    \n",
            "film        1.66e-02    3.18e-03\n",
            "music       1.28e-02    1.23e-03\n",
            "he          1.18e-02    9.96e-05\n",
            "she         1.11e-02    1.28e-03\n",
            "her         1.05e-02    1.17e-03\n",
            "\n",
            "==========================================================\n",
            "Cluster 18: Largest mean parameters in cluster \n",
            "\n",
            "Word        Mean        Variance    \n",
            "she         4.03e-02    5.17e-03\n",
            "her         2.28e-02    1.75e-03\n",
            "band        1.64e-02    2.43e-03\n",
            "music       1.24e-02    9.29e-04\n",
            "university  1.19e-02    3.84e-04\n",
            "\n",
            "==========================================================\n",
            "Cluster 19: Largest mean parameters in cluster \n",
            "\n",
            "Word        Mean        Variance    \n",
            "league      1.51e-02    1.26e-03\n",
            "season      1.43e-02    1.04e-03\n",
            "he          1.33e-02    9.20e-05\n",
            "she         1.33e-02    1.71e-03\n",
            "club        1.11e-02    8.05e-04\n",
            "\n",
            "==========================================================\n",
            "Cluster 20: Largest mean parameters in cluster \n",
            "\n",
            "Word        Mean        Variance    \n",
            "she         2.63e-02    3.91e-03\n",
            "film        1.82e-02    1.93e-03\n",
            "her         1.45e-02    1.43e-03\n",
            "he          1.26e-02    1.05e-04\n",
            "law         1.24e-02    2.35e-03\n",
            "\n",
            "==========================================================\n",
            "Cluster 21: Largest mean parameters in cluster \n",
            "\n",
            "Word        Mean        Variance    \n",
            "she         1.86e-02    2.57e-03\n",
            "he          1.39e-02    1.30e-04\n",
            "league      1.37e-02    1.27e-03\n",
            "season      1.22e-02    1.09e-03\n",
            "her         1.21e-02    1.09e-03\n",
            "\n",
            "==========================================================\n",
            "Cluster 22: Largest mean parameters in cluster \n",
            "\n",
            "Word        Mean        Variance    \n",
            "she         1.50e-02    2.21e-03\n",
            "music       1.49e-02    1.63e-03\n",
            "he          1.29e-02    1.08e-04\n",
            "party       1.12e-02    8.99e-04\n",
            "her         1.00e-02    1.08e-03\n",
            "\n",
            "==========================================================\n",
            "Cluster 23: Largest mean parameters in cluster \n",
            "\n",
            "Word        Mean        Variance    \n",
            "she         2.27e-02    2.67e-03\n",
            "her         1.79e-02    1.67e-03\n",
            "music       1.62e-02    1.32e-03\n",
            "band        1.20e-02    1.10e-03\n",
            "york        1.18e-02    6.68e-04\n",
            "\n",
            "==========================================================\n",
            "Cluster 24: Largest mean parameters in cluster \n",
            "\n",
            "Word        Mean        Variance    \n",
            "she         2.62e-02    3.89e-03\n",
            "her         1.77e-02    1.67e-03\n",
            "album       1.50e-02    2.47e-03\n",
            "he          1.28e-02    1.26e-04\n",
            "soccer      1.16e-02    4.19e-03\n",
            "\n",
            "==========================================================\n"
          ],
          "name": "stdout"
        }
      ]
    },
    {
      "cell_type": "markdown",
      "metadata": {
        "collapsed": true,
        "id": "BQvZ0kT_-1ww"
      },
      "source": [
        "**Note**: Random initialization may sometimes produce a superior fit than k-means initialization. We do not claim that random initialization is always worse. However, this section does illustrate that random initialization often produces much worse clustering than k-means counterpart. This is the reason why we provide the particular random seed (`np.random.seed(5)`)."
      ]
    },
    {
      "cell_type": "markdown",
      "metadata": {
        "collapsed": true,
        "id": "CoUJNaQd-1ww"
      },
      "source": [
        "## Takeaway\n",
        "\n",
        "In this assignment we were able to apply the EM algorithm to a mixture of Gaussians model of text data. This was made possible by modifying the model to assume a diagonal covariance for each cluster, and by modifying the implementation to use a sparse matrix representation. In the second part you explored the role of k-means initialization on the convergence of the model as well as the interpretability of the clusters."
      ]
    },
    {
      "cell_type": "code",
      "metadata": {
        "id": "ZHtMCVcP-1ww"
      },
      "source": [
        ""
      ],
      "execution_count": 21,
      "outputs": []
    }
  ]
}