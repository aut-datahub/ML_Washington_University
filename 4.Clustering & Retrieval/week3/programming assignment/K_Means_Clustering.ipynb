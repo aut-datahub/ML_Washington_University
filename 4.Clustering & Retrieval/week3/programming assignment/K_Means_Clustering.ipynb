{
  "nbformat": 4,
  "nbformat_minor": 0,
  "metadata": {
    "kernelspec": {
      "display_name": "Python 3",
      "language": "python",
      "name": "python3"
    },
    "language_info": {
      "codemirror_mode": {
        "name": "ipython",
        "version": 3
      },
      "file_extension": ".py",
      "mimetype": "text/x-python",
      "name": "python",
      "nbconvert_exporter": "python",
      "pygments_lexer": "ipython3",
      "version": "3.6.0"
    },
    "colab": {
      "name": "K-Mean Clustering",
      "provenance": []
    }
  },
  "cells": [
    {
      "cell_type": "markdown",
      "metadata": {
        "id": "MBHrePRoNeeD"
      },
      "source": [
        "# Clustering text data with K-means"
      ]
    },
    {
      "cell_type": "markdown",
      "metadata": {
        "id": "IVqx42hdNeeE"
      },
      "source": [
        "In this assignment you will\n",
        "* Cluster Wikipedia documents using k-means\n",
        "* Explore the role of random initialization on the quality of the clustering\n",
        "* Explore how results differ after changing the number of clusters\n",
        "* Evaluate clustering, both quantitatively and qualitatively\n",
        "\n",
        "When properly executed, clustering uncovers valuable insights from a set of unlabeled documents."
      ]
    },
    {
      "cell_type": "markdown",
      "metadata": {
        "id": "M4OP9IvGNeeF"
      },
      "source": [
        "**Note to Amazon EC2 users**: To conserve memory, make sure to stop all the other notebooks before running this notebook."
      ]
    },
    {
      "cell_type": "markdown",
      "metadata": {
        "id": "K52HWVRZNeeF"
      },
      "source": [
        "## Import necessary packages"
      ]
    },
    {
      "cell_type": "code",
      "metadata": {
        "id": "pk2g-nZINeeF"
      },
      "source": [
        "from __future__ import print_function # to conform python 2.x print to python 3.x\n",
        "import turicreate\n",
        "import matplotlib.pyplot as plt\n",
        "import numpy as np\n",
        "import sys\n",
        "import os\n",
        "from scipy.sparse import csr_matrix\n",
        "from sklearn.preprocessing import OneHotEncoder, LabelEncoder\n",
        "\n",
        "%matplotlib inline"
      ],
      "execution_count": 1,
      "outputs": []
    },
    {
      "cell_type": "markdown",
      "metadata": {
        "id": "zJIb1xFSNeeG"
      },
      "source": [
        "## Load data, extract features"
      ]
    },
    {
      "cell_type": "markdown",
      "metadata": {
        "id": "AMCx46QhNeeG"
      },
      "source": [
        "To work with text data, we must first convert the documents into numerical features. As in the first assignment, let's extract TF-IDF features for each article."
      ]
    },
    {
      "cell_type": "code",
      "metadata": {
        "id": "yz5uFqqCNeeG"
      },
      "source": [
        "wiki = turicreate.SFrame('/content/drive/MyDrive/people_wiki.sframe/')"
      ],
      "execution_count": 2,
      "outputs": []
    },
    {
      "cell_type": "code",
      "metadata": {
        "id": "LkSDaSF3NeeG"
      },
      "source": [
        "wiki['tf_idf'] = turicreate.text_analytics.tf_idf(wiki['text'])"
      ],
      "execution_count": 3,
      "outputs": []
    },
    {
      "cell_type": "markdown",
      "metadata": {
        "id": "P9scrcOfNeeH"
      },
      "source": [
        "For the remainder of the assignment, we will use sparse matrices. Sparse matrices are matrices that have a small number of nonzero entries. A good data structure for sparse matrices would only store the nonzero entries to save space and speed up computation. SciPy provides a highly-optimized library for sparse matrices. Many matrix operations available for NumPy arrays are also available for SciPy sparse matrices.\n",
        "\n",
        "We first convert the TF-IDF column (in dictionary format) into the SciPy sparse matrix format. We included plenty of comments for the curious; if you'd like, you may skip the next block and treat the function as a black box."
      ]
    },
    {
      "cell_type": "code",
      "metadata": {
        "id": "w3GO3jgRNeeH"
      },
      "source": [
        "def sframe_to_scipy(x, column_name):\n",
        "    '''\n",
        "    Convert a dictionary column of an SFrame into a sparse matrix format where\n",
        "    each (row_id, column_id, value) triple corresponds to the value of\n",
        "    x[row_id][column_id], where column_id is a key in the dictionary.\n",
        "       \n",
        "    Example\n",
        "    >>> sparse_matrix, map_key_to_index = sframe_to_scipy(sframe, column_name)\n",
        "    '''\n",
        "    assert type(x[column_name][0]) == dict, \\\n",
        "        'The chosen column must be dict type, representing sparse data.'\n",
        "    \n",
        "    # 1. Add a row number (id)\n",
        "    x = x.add_row_number()\n",
        "\n",
        "    # 2. Stack will transform x to have a row for each unique (row, key) pair.\n",
        "    x = x.stack(column_name, ['feature', 'value'])\n",
        "\n",
        "    # Map feature words to integers \n",
        "    unique_words = sorted(x['feature'].unique())\n",
        "    mapping = {word:i for i, word in enumerate(unique_words)}\n",
        "    x['feature_id'] = x['feature'].apply(lambda x: mapping[x])\n",
        "\n",
        "    # Create numpy arrays that contain the data for the sparse matrix.\n",
        "    row_id = np.array(x['id'])\n",
        "    col_id = np.array(x['feature_id'])\n",
        "    data = np.array(x['value'])\n",
        "    \n",
        "    width = x['id'].max() + 1\n",
        "    height = x['feature_id'].max() + 1\n",
        "    \n",
        "    # Create a sparse matrix.\n",
        "    mat = csr_matrix((data, (row_id, col_id)), shape=(width, height))\n",
        "    return mat, mapping"
      ],
      "execution_count": 4,
      "outputs": []
    },
    {
      "cell_type": "code",
      "metadata": {
        "colab": {
          "base_uri": "https://localhost:8080/"
        },
        "id": "qUnLGhG6NeeI",
        "outputId": "d935bc03-a523-401e-eccf-deba34692766"
      },
      "source": [
        "%%time\n",
        "# The conversion will take about a minute or two.\n",
        "tf_idf, map_index_to_word = sframe_to_scipy(wiki, 'tf_idf')"
      ],
      "execution_count": 5,
      "outputs": [
        {
          "output_type": "stream",
          "text": [
            "CPU times: user 2min 19s, sys: 8.17 s, total: 2min 27s\n",
            "Wall time: 1min 46s\n"
          ],
          "name": "stdout"
        }
      ]
    },
    {
      "cell_type": "markdown",
      "metadata": {
        "id": "Mx1kYJcINeeI"
      },
      "source": [
        "The above matrix contains a TF-IDF score for each of the 59071 pages in the data set and each of the 547979 unique words."
      ]
    },
    {
      "cell_type": "code",
      "metadata": {
        "colab": {
          "base_uri": "https://localhost:8080/"
        },
        "id": "moZ0XA-WNeeI",
        "outputId": "60200fda-e6c9-4006-d4fe-4ee331e8df73"
      },
      "source": [
        "tf_idf.shape"
      ],
      "execution_count": 6,
      "outputs": [
        {
          "output_type": "execute_result",
          "data": {
            "text/plain": [
              "(59071, 547979)"
            ]
          },
          "metadata": {},
          "execution_count": 6
        }
      ]
    },
    {
      "cell_type": "markdown",
      "metadata": {
        "id": "ig1QkR8gNeeI"
      },
      "source": [
        "## Normalize all vectors"
      ]
    },
    {
      "cell_type": "markdown",
      "metadata": {
        "id": "-fSw0-WmNeeI"
      },
      "source": [
        "As discussed in the previous assignment, Euclidean distance can be a poor metric of similarity between documents, as it unfairly penalizes long articles. For a reasonable assessment of similarity, we should disregard the length information and use length-agnostic metrics, such as cosine distance.\n",
        "\n",
        "The k-means algorithm does not directly work with cosine distance, so we take an alternative route to remove length information: we normalize all vectors to be unit length. It turns out that Euclidean distance closely mimics cosine distance when all vectors are unit length. In particular, the squared Euclidean distance between any two vectors of length one is directly proportional to their cosine distance.\n",
        "\n",
        "We can prove this as follows. Let $\\mathbf{x}$ and $\\mathbf{y}$ be normalized vectors, i.e. unit vectors, so that $\\|\\mathbf{x}\\|=\\|\\mathbf{y}\\|=1$. Write the squared Euclidean distance as the dot product of $(\\mathbf{x} - \\mathbf{y})$ to itself:\n",
        "\\begin{align*}\n",
        "\\|\\mathbf{x} - \\mathbf{y}\\|^2 &= (\\mathbf{x} - \\mathbf{y})^T(\\mathbf{x} - \\mathbf{y})\\\\\n",
        "                              &= (\\mathbf{x}^T \\mathbf{x}) - 2(\\mathbf{x}^T \\mathbf{y}) + (\\mathbf{y}^T \\mathbf{y})\\\\\n",
        "                              &= \\|\\mathbf{x}\\|^2 - 2(\\mathbf{x}^T \\mathbf{y}) + \\|\\mathbf{y}\\|^2\\\\\n",
        "                              &= 2 - 2(\\mathbf{x}^T \\mathbf{y})\\\\\n",
        "                              &= 2(1 - (\\mathbf{x}^T \\mathbf{y}))\\\\\n",
        "                              &= 2\\left(1 - \\frac{\\mathbf{x}^T \\mathbf{y}}{\\|\\mathbf{x}\\|\\|\\mathbf{y}\\|}\\right)\\\\\n",
        "                              &= 2\\left[\\text{cosine distance}\\right]\n",
        "\\end{align*}\n",
        "\n",
        "This tells us that two **unit vectors** that are close in Euclidean distance are also close in cosine distance. Thus, the k-means algorithm (which naturally uses Euclidean distances) on normalized vectors will produce the same results as clustering using cosine distance as a distance metric.\n",
        "\n",
        "We import the [`normalize()` function](http://scikit-learn.org/stable/modules/generated/sklearn.preprocessing.normalize.html) from scikit-learn to normalize all vectors to unit length."
      ]
    },
    {
      "cell_type": "code",
      "metadata": {
        "id": "D3k5waoRNeeK"
      },
      "source": [
        "from sklearn.preprocessing import normalize\n",
        "tf_idf = normalize(tf_idf)"
      ],
      "execution_count": 7,
      "outputs": []
    },
    {
      "cell_type": "markdown",
      "metadata": {
        "id": "LR20b64wNeeK"
      },
      "source": [
        "## Implement k-means"
      ]
    },
    {
      "cell_type": "markdown",
      "metadata": {
        "id": "iSr8pbsxNeeK"
      },
      "source": [
        "Let us implement the k-means algorithm. First, we choose an initial set of centroids. A common practice is to choose randomly from the data points.\n",
        "\n",
        "**Note:** We specify a seed here, so that everyone gets the same answer. In practice, we highly recommend to use different seeds every time (for instance, by using the current timestamp)."
      ]
    },
    {
      "cell_type": "code",
      "metadata": {
        "id": "ktwePdg3NeeL"
      },
      "source": [
        "def get_initial_centroids(data, k, seed=None):\n",
        "    '''Randomly choose k data points as initial centroids'''\n",
        "    if seed is not None: # useful for obtaining consistent results\n",
        "        np.random.seed(seed)\n",
        "    n = data.shape[0] # number of data points\n",
        "        \n",
        "    # Pick K indices from range [0, N).\n",
        "    rand_indices = np.random.randint(0, n, k)\n",
        "    \n",
        "    # Keep centroids as dense format, as many entries will be nonzero due to averaging.\n",
        "    # As long as at least one document in a cluster contains a word,\n",
        "    # it will carry a nonzero weight in the TF-IDF vector of the centroid.\n",
        "    centroids = data[rand_indices,:].toarray()\n",
        "    \n",
        "    return centroids"
      ],
      "execution_count": 8,
      "outputs": []
    },
    {
      "cell_type": "markdown",
      "metadata": {
        "id": "TXHY9MGeNeeL"
      },
      "source": [
        "After initialization, the k-means algorithm iterates between the following two steps:\n",
        "1. Assign each data point to the closest centroid.\n",
        "$$\n",
        "z_i \\gets \\mathrm{argmin}_j \\|\\mu_j - \\mathbf{x}_i\\|^2\n",
        "$$\n",
        "2. Revise centroids as the mean of the assigned data points.\n",
        "$$\n",
        "\\mu_j \\gets \\frac{1}{n_j}\\sum_{i:z_i=j} \\mathbf{x}_i\n",
        "$$"
      ]
    },
    {
      "cell_type": "markdown",
      "metadata": {
        "id": "zGhbMJ75NeeL"
      },
      "source": [
        "In pseudocode, we iteratively do the following:\n",
        "```\n",
        "cluster_assignment = assign_clusters(data, centroids)\n",
        "centroids = revise_centroids(data, k, cluster_assignment)\n",
        "```"
      ]
    },
    {
      "cell_type": "markdown",
      "metadata": {
        "id": "cinV1UfsNeeL"
      },
      "source": [
        "### Assigning clusters"
      ]
    },
    {
      "cell_type": "markdown",
      "metadata": {
        "id": "1o93yma5NeeM"
      },
      "source": [
        "How do we implement Step 1 of the main k-means loop above? First import `pairwise_distances` function from scikit-learn, which calculates Euclidean distances between rows of given arrays. See [this documentation](http://scikit-learn.org/stable/modules/generated/sklearn.metrics.pairwise.pairwise_distances.html) for more information.\n",
        "\n",
        "For the sake of demonstration, let's look at documents 100 through 102 as query documents and compute the distances between each of these documents and every other document in the corpus. In the k-means algorithm, we will have to compute pairwise distances between the set of centroids and the set of documents."
      ]
    },
    {
      "cell_type": "code",
      "metadata": {
        "colab": {
          "base_uri": "https://localhost:8080/"
        },
        "id": "v-QN4tPwNeeM",
        "outputId": "14e20c70-fce0-428e-aed5-2ec97d74b439"
      },
      "source": [
        "from sklearn.metrics import pairwise_distances\n",
        "\n",
        "# Get the TF-IDF vectors for documents 100 through 102.\n",
        "queries = tf_idf[100:102,:]\n",
        "\n",
        "# Compute pairwise distances from every data point to each query vector.\n",
        "dist = pairwise_distances(tf_idf, queries, metric='euclidean')\n",
        "\n",
        "print(dist)\n",
        "print(dist.shape)"
      ],
      "execution_count": 9,
      "outputs": [
        {
          "output_type": "stream",
          "text": [
            "[[1.41000789 1.36894636]\n",
            " [1.40935215 1.41023886]\n",
            " [1.39855967 1.40890299]\n",
            " ...\n",
            " [1.41108296 1.39123646]\n",
            " [1.41022804 1.31468652]\n",
            " [1.39899784 1.41072448]]\n",
            "(59071, 2)\n"
          ],
          "name": "stdout"
        }
      ]
    },
    {
      "cell_type": "markdown",
      "metadata": {
        "id": "eMpZkLsoNeeM"
      },
      "source": [
        "More formally, `dist[i,j]` is assigned the distance between the `i`th row of `X` (i.e., `X[i,:]`) and the `j`th row of `Y` (i.e., `Y[j,:]`)."
      ]
    },
    {
      "cell_type": "markdown",
      "metadata": {
        "id": "l00Sq54gNeeM"
      },
      "source": [
        "**Checkpoint:** For a moment, suppose that we initialize three centroids with the first 3 rows of `tf_idf`. Write code to compute distances from each of the centroids to all data points in `tf_idf`. Then find the distance between row 430 of `tf_idf` and the second centroid and save it to `dist`."
      ]
    },
    {
      "cell_type": "code",
      "metadata": {
        "id": "AzRoD5evNeeM"
      },
      "source": [
        "# Students should write code here\n",
        "queries = tf_idf[:3,:]\n",
        "# Compute pairwise distances from every data point to each query vector.\n",
        "dist = pairwise_distances(tf_idf, queries, metric='euclidean')[430][1]"
      ],
      "execution_count": 10,
      "outputs": []
    },
    {
      "cell_type": "code",
      "metadata": {
        "colab": {
          "base_uri": "https://localhost:8080/"
        },
        "id": "lOESBVkpNeeN",
        "outputId": "c167c479-7587-45ae-e3f3-886d31170fbd"
      },
      "source": [
        "'''Test cell'''\n",
        "if np.allclose(dist, pairwise_distances(tf_idf[430,:], tf_idf[1,:])):\n",
        "    print('Pass')\n",
        "else:\n",
        "    print('Check your code again')"
      ],
      "execution_count": 11,
      "outputs": [
        {
          "output_type": "stream",
          "text": [
            "Pass\n"
          ],
          "name": "stdout"
        }
      ]
    },
    {
      "cell_type": "markdown",
      "metadata": {
        "id": "yl7prrX9NeeN"
      },
      "source": [
        "**Checkpoint:** Next, given the pairwise distances, we take the minimum of the distances for each data point. Fittingly, NumPy provides an `argmin` function. See [this documentation](http://docs.scipy.org/doc/numpy-1.10.1/reference/generated/numpy.argmin.html) for details.\n",
        "\n",
        "Read the documentation and write code to produce a 1D array whose i-th entry indicates the centroid that is the closest to the i-th data point. Use the list of distances from the previous checkpoint and save them as `distances`. The value 0 indicates closeness to the first centroid, 1 indicates closeness to the second centroid, and so forth. Save this array as `closest_cluster`.\n",
        "\n",
        "**Hint:** the resulting array should be as long as the number of data points."
      ]
    },
    {
      "cell_type": "code",
      "metadata": {
        "colab": {
          "base_uri": "https://localhost:8080/"
        },
        "id": "2LXYuMraNeeN",
        "outputId": "11b1dea9-9e4d-4cfd-be2d-d32fb4fba402"
      },
      "source": [
        "# Students should write code here\n",
        "distances = pairwise_distances(tf_idf, queries, metric='euclidean')\n",
        "closest_cluster = np.argmin(distances, axis=1)\n",
        "closest_cluster"
      ],
      "execution_count": 12,
      "outputs": [
        {
          "output_type": "execute_result",
          "data": {
            "text/plain": [
              "array([0, 1, 2, ..., 0, 0, 0])"
            ]
          },
          "metadata": {},
          "execution_count": 12
        }
      ]
    },
    {
      "cell_type": "code",
      "metadata": {
        "colab": {
          "base_uri": "https://localhost:8080/"
        },
        "id": "-tfhnFSENeeN",
        "outputId": "17655b69-60ac-45d2-8722-0c9f3ddbe124"
      },
      "source": [
        "'''Test cell'''\n",
        "reference = [list(row).index(min(row)) for row in distances]\n",
        "if np.allclose(closest_cluster, reference):\n",
        "    print('Pass')\n",
        "else:\n",
        "    print('Check your code again')"
      ],
      "execution_count": 13,
      "outputs": [
        {
          "output_type": "stream",
          "text": [
            "Pass\n"
          ],
          "name": "stdout"
        }
      ]
    },
    {
      "cell_type": "markdown",
      "metadata": {
        "id": "XBsLNcoFNeeO"
      },
      "source": [
        "**Checkpoint:** Let's put these steps together.  First, initialize three centroids with the first 3 rows of `tf_idf`. Then, compute distances from each of the centroids to all data points in `tf_idf`. Finally, use these distance calculations to compute cluster assignments and assign them to `cluster_assignment`."
      ]
    },
    {
      "cell_type": "code",
      "metadata": {
        "id": "qvEcjMgHNeeO"
      },
      "source": [
        "# Students should write code here\n",
        "queries = tf_idf[:3, :]\n",
        "distances = pairwise_distances(tf_idf, queries)\n",
        "cluster_assignment = np.argmin(distances, axis=1)"
      ],
      "execution_count": 14,
      "outputs": []
    },
    {
      "cell_type": "code",
      "metadata": {
        "colab": {
          "base_uri": "https://localhost:8080/"
        },
        "id": "mxKwab0SNeeO",
        "outputId": "8b4b28a8-b98d-420e-fad4-139b768a0138"
      },
      "source": [
        "if len(cluster_assignment)==59071 and \\\n",
        "   np.array_equal(np.bincount(cluster_assignment), np.array([23061, 10086, 25924])):\n",
        "    print('Pass') # count number of data points for each cluster\n",
        "else:\n",
        "    print('Check your code again.')"
      ],
      "execution_count": 15,
      "outputs": [
        {
          "output_type": "stream",
          "text": [
            "Pass\n"
          ],
          "name": "stdout"
        }
      ]
    },
    {
      "cell_type": "markdown",
      "metadata": {
        "id": "iVi0INWxNeeO"
      },
      "source": [
        "Now we are ready to fill in the blanks in this function:"
      ]
    },
    {
      "cell_type": "code",
      "metadata": {
        "id": "xrSXak9FNeeP"
      },
      "source": [
        "def assign_clusters(data, centroids):\n",
        "    \n",
        "    # Compute distances between each data point and the set of centroids:\n",
        "    # Fill in the blank (RHS only)\n",
        "    distances_from_centroids = pairwise_distances(data, centroids)\n",
        "    \n",
        "    # Compute cluster assignments for each data point:\n",
        "    # Fill in the blank (RHS only)\n",
        "    cluster_assignment = np.argmin(distances_from_centroids, axis=1)\n",
        "    \n",
        "    return cluster_assignment"
      ],
      "execution_count": 16,
      "outputs": []
    },
    {
      "cell_type": "markdown",
      "metadata": {
        "id": "9yBE1BpkNeeP"
      },
      "source": [
        "**Checkpoint**. For the last time, let us check if Step 1 was implemented correctly. With rows 0, 2, 4, and 6 of `tf_idf` as an initial set of centroids, we assign cluster labels to rows 0, 10, 20, ..., and 90 of `tf_idf`. The resulting cluster labels should be `[0, 1, 1, 0, 0, 2, 0, 2, 2, 1]`."
      ]
    },
    {
      "cell_type": "code",
      "metadata": {
        "colab": {
          "base_uri": "https://localhost:8080/"
        },
        "id": "Ll5XkVxYNeeP",
        "outputId": "895998a4-981e-4af4-c01e-63abc5ef9479"
      },
      "source": [
        "if np.allclose(assign_clusters(tf_idf[0:100:10], tf_idf[0:8:2]), np.array([0, 1, 1, 0, 0, 2, 0, 2, 2, 1])):\n",
        "    print('Pass')\n",
        "else:\n",
        "    print('Check your code again.')"
      ],
      "execution_count": 17,
      "outputs": [
        {
          "output_type": "stream",
          "text": [
            "Pass\n"
          ],
          "name": "stdout"
        }
      ]
    },
    {
      "cell_type": "markdown",
      "metadata": {
        "id": "DVFOZJRINeeP"
      },
      "source": [
        "### Revising clusters"
      ]
    },
    {
      "cell_type": "markdown",
      "metadata": {
        "id": "z15P7ObdNeeP"
      },
      "source": [
        "Let's turn to Step 2, where we compute the new centroids given the cluster assignments. "
      ]
    },
    {
      "cell_type": "markdown",
      "metadata": {
        "id": "oRfbZWh7NeeP"
      },
      "source": [
        "SciPy and NumPy arrays allow for filtering via Boolean masks. For instance, we filter all data points that are assigned to cluster 0 by writing\n",
        "```\n",
        "data[cluster_assignment==0,:]\n",
        "```"
      ]
    },
    {
      "cell_type": "markdown",
      "metadata": {
        "id": "D-tsLxdsNeeP"
      },
      "source": [
        "To develop intuition about filtering, let's look at a toy example consisting of 3 data points and 2 clusters."
      ]
    },
    {
      "cell_type": "code",
      "metadata": {
        "id": "edTh-iYuNeeQ"
      },
      "source": [
        "data = np.array([[1., 2., 0.],\n",
        "                 [0., 0., 0.],\n",
        "                 [2., 2., 0.]])\n",
        "centroids = np.array([[0.5, 0.5, 0.],\n",
        "                      [0., -0.5, 0.]])"
      ],
      "execution_count": 18,
      "outputs": []
    },
    {
      "cell_type": "markdown",
      "metadata": {
        "id": "InG8WlXQNeeQ"
      },
      "source": [
        "Let's assign these data points to the closest centroid."
      ]
    },
    {
      "cell_type": "code",
      "metadata": {
        "colab": {
          "base_uri": "https://localhost:8080/"
        },
        "id": "gq7PBzweNeeQ",
        "outputId": "3b12b553-cf56-4289-9902-4db89a762752"
      },
      "source": [
        "cluster_assignment = assign_clusters(data, centroids)\n",
        "print(cluster_assignment)"
      ],
      "execution_count": 19,
      "outputs": [
        {
          "output_type": "stream",
          "text": [
            "[0 1 0]\n"
          ],
          "name": "stdout"
        }
      ]
    },
    {
      "cell_type": "markdown",
      "metadata": {
        "id": "NZ9PjMpbNeeQ"
      },
      "source": [
        "The expression `cluster_assignment==1` gives a list of Booleans that says whether each data point is assigned to cluster 1 or not:"
      ]
    },
    {
      "cell_type": "code",
      "metadata": {
        "colab": {
          "base_uri": "https://localhost:8080/"
        },
        "id": "jHtDQFhiNeeQ",
        "outputId": "82e11856-dbd7-4959-8667-1558d4b5884f"
      },
      "source": [
        "cluster_assignment==1"
      ],
      "execution_count": 20,
      "outputs": [
        {
          "output_type": "execute_result",
          "data": {
            "text/plain": [
              "array([False,  True, False])"
            ]
          },
          "metadata": {},
          "execution_count": 20
        }
      ]
    },
    {
      "cell_type": "markdown",
      "metadata": {
        "id": "jRtJF12RNeeQ"
      },
      "source": [
        "Likewise for cluster 0:"
      ]
    },
    {
      "cell_type": "code",
      "metadata": {
        "colab": {
          "base_uri": "https://localhost:8080/"
        },
        "id": "KzxgdiNjNeeQ",
        "outputId": "139dc8c5-1b58-4f6a-ff91-6456b1e1375f"
      },
      "source": [
        "cluster_assignment==0"
      ],
      "execution_count": 21,
      "outputs": [
        {
          "output_type": "execute_result",
          "data": {
            "text/plain": [
              "array([ True, False,  True])"
            ]
          },
          "metadata": {},
          "execution_count": 21
        }
      ]
    },
    {
      "cell_type": "markdown",
      "metadata": {
        "id": "4ZvhD56zNeeR"
      },
      "source": [
        "In lieu of indices, we can put in the list of Booleans to pick and choose rows. Only the rows that correspond to a `True` entry will be retained.\n",
        "\n",
        "First, let's look at the data points (i.e., their values) assigned to cluster 1:"
      ]
    },
    {
      "cell_type": "code",
      "metadata": {
        "colab": {
          "base_uri": "https://localhost:8080/"
        },
        "id": "UTGcAvMnNeeR",
        "outputId": "c16c5bf6-92e9-4727-d873-e498bae5e90c"
      },
      "source": [
        "data[cluster_assignment==1]"
      ],
      "execution_count": 22,
      "outputs": [
        {
          "output_type": "execute_result",
          "data": {
            "text/plain": [
              "array([[0., 0., 0.]])"
            ]
          },
          "metadata": {},
          "execution_count": 22
        }
      ]
    },
    {
      "cell_type": "markdown",
      "metadata": {
        "id": "_2QBwbnANeeR"
      },
      "source": [
        "This makes sense since [0 0 0] is closer to [0 -0.5 0] than to [0.5 0.5 0].\n",
        "\n",
        "Now let's look at the data points assigned to cluster 0:"
      ]
    },
    {
      "cell_type": "code",
      "metadata": {
        "colab": {
          "base_uri": "https://localhost:8080/"
        },
        "id": "altBXNFlNeeR",
        "outputId": "49a0cb3b-c22e-4b47-b4e9-24b083c33b97"
      },
      "source": [
        "data[cluster_assignment==0]"
      ],
      "execution_count": 23,
      "outputs": [
        {
          "output_type": "execute_result",
          "data": {
            "text/plain": [
              "array([[1., 2., 0.],\n",
              "       [2., 2., 0.]])"
            ]
          },
          "metadata": {},
          "execution_count": 23
        }
      ]
    },
    {
      "cell_type": "markdown",
      "metadata": {
        "id": "6wvyPLQKNeeR"
      },
      "source": [
        "Again, this makes sense since these values are each closer to [0.5 0.5 0] than to [0 -0.5 0].\n",
        "\n",
        "Given all the data points in a cluster, it only remains to compute the mean. Use [np.mean()](http://docs.scipy.org/doc/numpy-1.10.0/reference/generated/numpy.mean.html). By default, the function averages all elements in a 2D array. To compute row-wise or column-wise means, add the `axis` argument. See the linked documentation for details. \n",
        "\n",
        "Use this function to average the data points in cluster 0:"
      ]
    },
    {
      "cell_type": "code",
      "metadata": {
        "colab": {
          "base_uri": "https://localhost:8080/"
        },
        "id": "CLd1VnM0NeeR",
        "outputId": "b866c2b6-b97d-47b2-f563-9f649c419125"
      },
      "source": [
        "data[cluster_assignment==0].mean(axis=0)"
      ],
      "execution_count": 24,
      "outputs": [
        {
          "output_type": "execute_result",
          "data": {
            "text/plain": [
              "array([1.5, 2. , 0. ])"
            ]
          },
          "metadata": {},
          "execution_count": 24
        }
      ]
    },
    {
      "cell_type": "markdown",
      "metadata": {
        "id": "2xIW_JgRNeeR"
      },
      "source": [
        "We are now ready to complete this function:"
      ]
    },
    {
      "cell_type": "code",
      "metadata": {
        "id": "DYnsV8NdNeeR"
      },
      "source": [
        "def revise_centroids(data, k, cluster_assignment):\n",
        "    new_centroids = []\n",
        "    for i in range(k):\n",
        "        # Select all data points that belong to cluster i. Fill in the blank (RHS only)\n",
        "        member_data_points = data[cluster_assignment == i]\n",
        "        # Compute the mean of the data points. Fill in the blank (RHS only)\n",
        "        centroid = np.mean(member_data_points, axis=0)\n",
        "        \n",
        "        # Convert numpy.matrix type to numpy.ndarray type\n",
        "        centroid = centroid.A1\n",
        "        new_centroids.append(centroid)\n",
        "    new_centroids = np.array(new_centroids)\n",
        "    \n",
        "    return new_centroids"
      ],
      "execution_count": 25,
      "outputs": []
    },
    {
      "cell_type": "markdown",
      "metadata": {
        "id": "TtLZ8j0oNeeS"
      },
      "source": [
        "**Checkpoint**. Let's check our Step 2 implementation. Letting rows 0, 10, ..., 90 of `tf_idf` as the data points and the cluster labels `[0, 1, 1, 0, 0, 2, 0, 2, 2, 1]`, we compute the next set of centroids. Each centroid is given by the average of all member data points in corresponding cluster."
      ]
    },
    {
      "cell_type": "code",
      "metadata": {
        "colab": {
          "base_uri": "https://localhost:8080/"
        },
        "id": "UdeQdUZcNeeS",
        "outputId": "3bda3843-6639-40d5-b3d1-d6dc5de146df"
      },
      "source": [
        "result = revise_centroids(tf_idf[0:100:10], 3, np.array([0, 1, 1, 0, 0, 2, 0, 2, 2, 1]))\n",
        "if np.allclose(result[0], np.mean(tf_idf[[0,30,40,60]].toarray(), axis=0)) and \\\n",
        "   np.allclose(result[1], np.mean(tf_idf[[10,20,90]].toarray(), axis=0))   and \\\n",
        "   np.allclose(result[2], np.mean(tf_idf[[50,70,80]].toarray(), axis=0)):\n",
        "    print('Pass')\n",
        "else:\n",
        "    print('Check your code')"
      ],
      "execution_count": 26,
      "outputs": [
        {
          "output_type": "stream",
          "text": [
            "Pass\n"
          ],
          "name": "stdout"
        }
      ]
    },
    {
      "cell_type": "markdown",
      "metadata": {
        "id": "WXHTQJdaNeeS"
      },
      "source": [
        "### Assessing convergence"
      ]
    },
    {
      "cell_type": "markdown",
      "metadata": {
        "id": "qY-T5WieNeeS"
      },
      "source": [
        "How can we tell if the k-means algorithm is converging? We can look at the cluster assignments and see if they stabilize over time. In fact, we'll be running the algorithm until the cluster assignments stop changing at all. To be extra safe, and to assess the clustering performance, we'll be looking at an additional criteria: the sum of all squared distances between data points and centroids. This is defined as\n",
        "$$\n",
        "J(\\mathcal{Z},\\mu) = \\sum_{j=1}^k \\sum_{i:z_i = j} \\|\\mathbf{x}_i - \\mu_j\\|^2.\n",
        "$$\n",
        "The smaller the distances, the more homogeneous the clusters are. In other words, we'd like to have \"tight\" clusters."
      ]
    },
    {
      "cell_type": "code",
      "metadata": {
        "id": "trFYurbHNeeS"
      },
      "source": [
        "def compute_heterogeneity(data, k, centroids, cluster_assignment):\n",
        "    \n",
        "    heterogeneity = 0.0\n",
        "    for i in range(k):\n",
        "        \n",
        "        # Select all data points that belong to cluster i. Fill in the blank (RHS only)\n",
        "        member_data_points = data[cluster_assignment==i, :]\n",
        "        \n",
        "        if member_data_points.shape[0] > 0: # check if i-th cluster is non-empty\n",
        "            # Compute distances from centroid to data points (RHS only)\n",
        "            distances = pairwise_distances(member_data_points, [centroids[i]], metric='euclidean')\n",
        "            squared_distances = distances**2\n",
        "            heterogeneity += np.sum(squared_distances)\n",
        "        \n",
        "    return heterogeneity"
      ],
      "execution_count": 27,
      "outputs": []
    },
    {
      "cell_type": "markdown",
      "metadata": {
        "id": "7vfGjT3wNeeS"
      },
      "source": [
        "Let's compute the cluster heterogeneity for the 2-cluster example we've been considering based on our current cluster assignments and centroids."
      ]
    },
    {
      "cell_type": "code",
      "metadata": {
        "colab": {
          "base_uri": "https://localhost:8080/"
        },
        "id": "D-Pa2YxwNeeT",
        "outputId": "248abe9f-bbfb-4dd5-b211-0d2cbdb3ca8f"
      },
      "source": [
        "compute_heterogeneity(data, 2, centroids, cluster_assignment)"
      ],
      "execution_count": 28,
      "outputs": [
        {
          "output_type": "execute_result",
          "data": {
            "text/plain": [
              "7.25"
            ]
          },
          "metadata": {},
          "execution_count": 28
        }
      ]
    },
    {
      "cell_type": "markdown",
      "metadata": {
        "id": "blpcFR7CNeeT"
      },
      "source": [
        "### Combining into a single function"
      ]
    },
    {
      "cell_type": "markdown",
      "metadata": {
        "id": "Up2cXWQJNeeT"
      },
      "source": [
        "Once the two k-means steps have been implemented, as well as our heterogeneity metric we wish to monitor, it is only a matter of putting these functions together to write a k-means algorithm that\n",
        "\n",
        "* Repeatedly performs Steps 1 and 2\n",
        "* Tracks convergence metrics\n",
        "* Stops if either no assignment changed or we reach a certain number of iterations."
      ]
    },
    {
      "cell_type": "code",
      "metadata": {
        "id": "w-JMuRIBNeeT"
      },
      "source": [
        "# Fill in the blanks\n",
        "def kmeans(data, k, initial_centroids, maxiter, record_heterogeneity=None, verbose=False):\n",
        "    '''This function runs k-means on given data and initial set of centroids.\n",
        "       maxiter: maximum number of iterations to run.\n",
        "       record_heterogeneity: (optional) a list, to store the history of heterogeneity as function of iterations\n",
        "                             if None, do not store the history.\n",
        "       verbose: if True, print how many data points changed their cluster labels in each iteration'''\n",
        "    centroids = initial_centroids[:]\n",
        "    prev_cluster_assignment = None\n",
        "    \n",
        "    for itr in range(maxiter):        \n",
        "        if verbose:\n",
        "            print(itr)\n",
        "        \n",
        "        # 1. Make cluster assignments using nearest centroids\n",
        "        cluster_assignment = assign_clusters(data, centroids)\n",
        "            \n",
        "        # 2. Compute a new centroid for each of the k clusters, averaging all data points assigned to that cluster.\n",
        "        centroids = revise_centroids(data, k, cluster_assignment)\n",
        "            \n",
        "        # Check for convergence: if none of the assignments changed, stop\n",
        "        if prev_cluster_assignment is not None and (prev_cluster_assignment==cluster_assignment).all():\n",
        "            break\n",
        "        \n",
        "        # Print number of new assignments \n",
        "        if prev_cluster_assignment is not None:\n",
        "            num_changed = np.sum(prev_cluster_assignment!=cluster_assignment)\n",
        "            if verbose:\n",
        "                print('    {0:5d} elements changed their cluster assignment.'.format(num_changed))   \n",
        "        \n",
        "        # Record heterogeneity convergence metric\n",
        "        if record_heterogeneity is not None:\n",
        "            score = compute_heterogeneity(data, k, centroids, cluster_assignment)\n",
        "            record_heterogeneity.append(score)\n",
        "        \n",
        "        prev_cluster_assignment = cluster_assignment[:]\n",
        "        \n",
        "    return centroids, cluster_assignment"
      ],
      "execution_count": 29,
      "outputs": []
    },
    {
      "cell_type": "markdown",
      "metadata": {
        "id": "cE7cXkiMNeeT"
      },
      "source": [
        "## Plotting convergence metric"
      ]
    },
    {
      "cell_type": "markdown",
      "metadata": {
        "id": "EPUBXhBoNeeT"
      },
      "source": [
        "We can use the above function to plot the convergence metric across iterations."
      ]
    },
    {
      "cell_type": "code",
      "metadata": {
        "id": "u6dtJb9jNeeT"
      },
      "source": [
        "def plot_heterogeneity(heterogeneity, k):\n",
        "    plt.figure(figsize=(7,4))\n",
        "    plt.plot(heterogeneity, linewidth=4)\n",
        "    plt.xlabel('# Iterations')\n",
        "    plt.ylabel('Heterogeneity')\n",
        "    plt.title('Heterogeneity of clustering over time, K={0:d}'.format(k))\n",
        "    plt.rcParams.update({'font.size': 16})\n",
        "    plt.tight_layout()"
      ],
      "execution_count": 30,
      "outputs": []
    },
    {
      "cell_type": "markdown",
      "metadata": {
        "id": "5rHHjWVjNeeT"
      },
      "source": [
        "Let's consider running k-means with K=3 clusters for a maximum of 400 iterations, recording cluster heterogeneity at every step.  Then, let's plot the heterogeneity over iterations using the plotting function above."
      ]
    },
    {
      "cell_type": "code",
      "metadata": {
        "scrolled": true,
        "colab": {
          "base_uri": "https://localhost:8080/",
          "height": 1000
        },
        "id": "Qj14F1EgNeeT",
        "outputId": "e9c5a999-6237-4637-9833-f02f9b3cb5e2"
      },
      "source": [
        "k = 3\n",
        "heterogeneity = []\n",
        "initial_centroids = get_initial_centroids(tf_idf, k, seed=0)\n",
        "centroids, cluster_assignment = kmeans(tf_idf, k, initial_centroids, maxiter=400,\n",
        "                                       record_heterogeneity=heterogeneity, verbose=True)\n",
        "plot_heterogeneity(heterogeneity, k)"
      ],
      "execution_count": 31,
      "outputs": [
        {
          "output_type": "stream",
          "text": [
            "0\n",
            "1\n",
            "    19157 elements changed their cluster assignment.\n",
            "2\n",
            "     7739 elements changed their cluster assignment.\n",
            "3\n",
            "     5119 elements changed their cluster assignment.\n",
            "4\n",
            "     3370 elements changed their cluster assignment.\n",
            "5\n",
            "     2811 elements changed their cluster assignment.\n",
            "6\n",
            "     3233 elements changed their cluster assignment.\n",
            "7\n",
            "     3815 elements changed their cluster assignment.\n",
            "8\n",
            "     3172 elements changed their cluster assignment.\n",
            "9\n",
            "     1149 elements changed their cluster assignment.\n",
            "10\n",
            "      498 elements changed their cluster assignment.\n",
            "11\n",
            "      265 elements changed their cluster assignment.\n",
            "12\n",
            "      149 elements changed their cluster assignment.\n",
            "13\n",
            "      100 elements changed their cluster assignment.\n",
            "14\n",
            "       76 elements changed their cluster assignment.\n",
            "15\n",
            "       67 elements changed their cluster assignment.\n",
            "16\n",
            "       51 elements changed their cluster assignment.\n",
            "17\n",
            "       47 elements changed their cluster assignment.\n",
            "18\n",
            "       40 elements changed their cluster assignment.\n",
            "19\n",
            "       34 elements changed their cluster assignment.\n",
            "20\n",
            "       35 elements changed their cluster assignment.\n",
            "21\n",
            "       39 elements changed their cluster assignment.\n",
            "22\n",
            "       24 elements changed their cluster assignment.\n",
            "23\n",
            "       16 elements changed their cluster assignment.\n",
            "24\n",
            "       12 elements changed their cluster assignment.\n",
            "25\n",
            "       14 elements changed their cluster assignment.\n",
            "26\n",
            "       17 elements changed their cluster assignment.\n",
            "27\n",
            "       15 elements changed their cluster assignment.\n",
            "28\n",
            "       14 elements changed their cluster assignment.\n",
            "29\n",
            "       16 elements changed their cluster assignment.\n",
            "30\n",
            "       21 elements changed their cluster assignment.\n",
            "31\n",
            "       22 elements changed their cluster assignment.\n",
            "32\n",
            "       33 elements changed their cluster assignment.\n",
            "33\n",
            "       35 elements changed their cluster assignment.\n",
            "34\n",
            "       39 elements changed their cluster assignment.\n",
            "35\n",
            "       36 elements changed their cluster assignment.\n",
            "36\n",
            "       36 elements changed their cluster assignment.\n",
            "37\n",
            "       25 elements changed their cluster assignment.\n",
            "38\n",
            "       27 elements changed their cluster assignment.\n",
            "39\n",
            "       25 elements changed their cluster assignment.\n",
            "40\n",
            "       28 elements changed their cluster assignment.\n",
            "41\n",
            "       35 elements changed their cluster assignment.\n",
            "42\n",
            "       31 elements changed their cluster assignment.\n",
            "43\n",
            "       25 elements changed their cluster assignment.\n",
            "44\n",
            "       18 elements changed their cluster assignment.\n",
            "45\n",
            "       15 elements changed their cluster assignment.\n",
            "46\n",
            "       10 elements changed their cluster assignment.\n",
            "47\n",
            "        8 elements changed their cluster assignment.\n",
            "48\n",
            "        8 elements changed their cluster assignment.\n",
            "49\n",
            "        8 elements changed their cluster assignment.\n",
            "50\n",
            "        7 elements changed their cluster assignment.\n",
            "51\n",
            "        8 elements changed their cluster assignment.\n",
            "52\n",
            "        3 elements changed their cluster assignment.\n",
            "53\n",
            "        3 elements changed their cluster assignment.\n",
            "54\n",
            "        4 elements changed their cluster assignment.\n",
            "55\n",
            "        2 elements changed their cluster assignment.\n",
            "56\n",
            "        3 elements changed their cluster assignment.\n",
            "57\n",
            "        3 elements changed their cluster assignment.\n",
            "58\n",
            "        1 elements changed their cluster assignment.\n",
            "59\n",
            "        1 elements changed their cluster assignment.\n",
            "60\n"
          ],
          "name": "stdout"
        },
        {
          "output_type": "display_data",
          "data": {
            "image/png": "[encoded data removed]",
            "text/plain": [
              "<Figure size 504x288 with 1 Axes>"
            ]
          },
          "metadata": {
            "needs_background": "light"
          }
        }
      ]
    },
    {
      "cell_type": "markdown",
      "metadata": {
        "id": "Zg3eY_x0NeeU"
      },
      "source": [
        "**Quiz Question**. (True/False) The clustering objective (heterogeneity) is non-increasing for this example."
      ]
    },
    {
      "cell_type": "markdown",
      "metadata": {
        "id": "xO2XB2W-NeeU"
      },
      "source": [
        "**Quiz Question**. Let's step back from this particular example. If the clustering objective (heterogeneity) would ever increase when running k-means, that would indicate: (choose one)\n",
        "\n",
        "1. k-means algorithm got stuck in a bad local minimum\n",
        "2. There is a bug in the k-means code\n",
        "3. All data points consist of exact duplicates\n",
        "4. Nothing is wrong. The objective should generally go down sooner or later."
      ]
    },
    {
      "cell_type": "markdown",
      "metadata": {
        "id": "__hkYenPNeeU"
      },
      "source": [
        "**Quiz Question**. Which of the cluster contains the greatest number of data points in the end? Hint: Use [`np.bincount()`](http://docs.scipy.org/doc/numpy-1.11.0/reference/generated/numpy.bincount.html) to count occurrences of each cluster label.\n",
        " 1. Cluster #0\n",
        " 2. Cluster #1\n",
        " 3. Cluster #2"
      ]
    },
    {
      "cell_type": "code",
      "metadata": {
        "colab": {
          "base_uri": "https://localhost:8080/"
        },
        "id": "mierhZ38NeeU",
        "outputId": "39b35bfd-50ac-4771-aa00-2312682c7da9"
      },
      "source": [
        "np.bincount(cluster_assignment)"
      ],
      "execution_count": 32,
      "outputs": [
        {
          "output_type": "execute_result",
          "data": {
            "text/plain": [
              "array([19595, 10427, 29049])"
            ]
          },
          "metadata": {},
          "execution_count": 32
        }
      ]
    },
    {
      "cell_type": "markdown",
      "metadata": {
        "id": "jyAPbMsbNeeU"
      },
      "source": [
        "## Beware of local maxima"
      ]
    },
    {
      "cell_type": "markdown",
      "metadata": {
        "id": "r1qsvMQzNeeU"
      },
      "source": [
        "One weakness of k-means is that it tends to get stuck in a local minimum. To see this, let us run k-means multiple times, with different initial centroids created using different random seeds.\n",
        "\n",
        "**Note:** Again, in practice, you should set different seeds for every run. We give you a list of seeds for this assignment so that everyone gets the same answer.\n",
        "\n",
        "This may take several minutes to run."
      ]
    },
    {
      "cell_type": "code",
      "metadata": {
        "scrolled": false,
        "colab": {
          "base_uri": "https://localhost:8080/"
        },
        "id": "SC5b9UjpNeeU",
        "outputId": "0178a939-8be2-4503-bf90-ca82ddb73724"
      },
      "source": [
        "k = 10\n",
        "heterogeneity = {}\n",
        "cluster_assignment_dict = {}\n",
        "import time\n",
        "start = time.time()\n",
        "for seed in [0, 20000, 40000, 60000, 80000, 100000, 120000]:\n",
        "    initial_centroids = get_initial_centroids(tf_idf, k, seed)\n",
        "    centroids, cluster_assignment = kmeans(tf_idf, k, initial_centroids, maxiter=400,\n",
        "                                           record_heterogeneity=None, verbose=False)\n",
        "    # To save time, compute heterogeneity only once in the end\n",
        "    heterogeneity[seed] = compute_heterogeneity(tf_idf, k, centroids, cluster_assignment)\n",
        "\n",
        "    # This is the line we added for the next quiz question\n",
        "    cluster_assignment_dict[seed] = np.bincount(cluster_assignment)\n",
        "    \n",
        "#    print('seed={0:06d}, heterogeneity={1:.5f}'.format(seed, heterogeneity[seed]))\n",
        "    # And this is the modified print statement\n",
        "    print('seed={0:06d}, heterogeneity={1:.5f}, cluster_distribution={2}'.format(seed, heterogeneity[seed], \n",
        "                                           cluster_assignment_dict[seed]))\n",
        "    sys.stdout.flush()\n",
        "end = time.time()\n",
        "print(end-start)"
      ],
      "execution_count": 33,
      "outputs": [
        {
          "output_type": "stream",
          "text": [
            "seed=000000, heterogeneity=57457.52442, cluster_distribution=[18047  3824  5671  6983  1492  1730  3882  3449  7139  6854]\n",
            "seed=020000, heterogeneity=57533.20100, cluster_distribution=[ 3142   768  3566  2277 15779  7278  6146  7964  6666  5485]\n",
            "seed=040000, heterogeneity=57512.69257, cluster_distribution=[ 5551  6623   186  2999  8487  3893  6807  2921  3472 18132]\n",
            "seed=060000, heterogeneity=57466.97925, cluster_distribution=[ 3014  3089  6681  3856  8080  7222  3424   424  5381 17900]\n",
            "seed=080000, heterogeneity=57494.92990, cluster_distribution=[17582  1785  7215  3314  6285   809  5930  6791  5536  3824]\n",
            "seed=100000, heterogeneity=57484.42210, cluster_distribution=[ 6618  1337  6191  2890 16969  4983  5242  3892  5562  5387]\n",
            "seed=120000, heterogeneity=57554.62410, cluster_distribution=[ 6118  5841  4964  8423  4302  3183 16481  1608  5524  2627]\n",
            "188.72146677970886\n"
          ],
          "name": "stdout"
        }
      ]
    },
    {
      "cell_type": "markdown",
      "metadata": {
        "id": "GBGLZc3UNeeU"
      },
      "source": [
        "Notice the variation in heterogeneity for different initializations. This indicates that k-means sometimes gets stuck at a bad local minimum."
      ]
    },
    {
      "cell_type": "markdown",
      "metadata": {
        "id": "anizBi9ONeeU"
      },
      "source": [
        "**Quiz Question**. Another way to capture the effect of changing initialization is to look at the distribution of cluster assignments. Add a line to the code above to compute the size (# of member data points) of clusters for each run of k-means. Look at the size of the largest cluster (most # of member data points) across multiple runs, with seeds 0, 20000, ..., 120000. How much does this measure vary across the runs? What is the minimum and maximum values this quantity takes?"
      ]
    },
    {
      "cell_type": "markdown",
      "metadata": {
        "id": "kK5GEwAcNeeV"
      },
      "source": [
        "One effective way to counter this tendency is to use **k-means++** to provide a smart initialization. This method tries to spread out the initial set of centroids so that they are not too close together. It is known to improve the quality of local optima and lower average runtime."
      ]
    },
    {
      "cell_type": "code",
      "metadata": {
        "id": "BFfaeBtTNeeV"
      },
      "source": [
        "def smart_initialize(data, k, seed=None):\n",
        "    '''Use k-means++ to initialize a good set of centroids'''\n",
        "    if seed is not None: # useful for obtaining consistent results\n",
        "        np.random.seed(seed)\n",
        "    centroids = np.zeros((k, data.shape[1]))\n",
        "    \n",
        "    # Randomly choose the first centroid.\n",
        "    # Since we have no prior knowledge, choose uniformly at random\n",
        "    idx = np.random.randint(data.shape[0])\n",
        "    centroids[0] = data[idx,:].toarray()\n",
        "    # Compute distances from the first centroid chosen to all the other data points\n",
        "    squared_distances = pairwise_distances(data, centroids[0:1], metric='euclidean').flatten()**2\n",
        "    \n",
        "    for i in range(1, k):\n",
        "        # Choose the next centroid randomly, so that the probability for each data point to be chosen\n",
        "        # is directly proportional to its squared distance from the nearest centroid.\n",
        "        # Roughtly speaking, a new centroid should be as far as from ohter centroids as possible.\n",
        "        idx = np.random.choice(data.shape[0], 1, p=squared_distances/sum(squared_distances))\n",
        "        centroids[i] = data[idx,:].toarray()\n",
        "        # Now compute distances from the centroids to all data points\n",
        "        squared_distances = np.min(pairwise_distances(data, centroids[0:i+1], metric='euclidean')**2,axis=1)\n",
        "    \n",
        "    return centroids"
      ],
      "execution_count": 34,
      "outputs": []
    },
    {
      "cell_type": "markdown",
      "metadata": {
        "id": "cvfjqTdNNeeV"
      },
      "source": [
        "Let's now rerun k-means with 10 clusters using the same set of seeds, but always using k-means++ to initialize the algorithm.\n",
        "\n",
        "This may take several minutes to run."
      ]
    },
    {
      "cell_type": "code",
      "metadata": {
        "colab": {
          "base_uri": "https://localhost:8080/"
        },
        "id": "P_y1iKTxNeeV",
        "outputId": "48290d06-de89-4b93-d742-04e3052b3027"
      },
      "source": [
        "%%time \n",
        "\n",
        "k = 10\n",
        "heterogeneity_smart = {}\n",
        "seeds = [0, 20000, 40000, 60000, 80000, 100000, 120000]\n",
        "for seed in seeds:\n",
        "    initial_centroids = smart_initialize(tf_idf, k, seed)\n",
        "    centroids, cluster_assignment = kmeans(tf_idf, k, initial_centroids, maxiter=400,\n",
        "                                           record_heterogeneity=None, verbose=False)\n",
        "    # To save time, compute heterogeneity only once in the end\n",
        "    heterogeneity_smart[seed] = compute_heterogeneity(tf_idf, k, centroids, cluster_assignment)\n",
        "    print('seed={0:06d}, heterogeneity={1:.5f}'.format(seed, heterogeneity_smart[seed]))\n",
        "    sys.stdout.flush()\n"
      ],
      "execution_count": 35,
      "outputs": [
        {
          "output_type": "stream",
          "text": [
            "seed=000000, heterogeneity=57468.63808\n",
            "seed=020000, heterogeneity=57486.94263\n",
            "seed=040000, heterogeneity=57454.35926\n",
            "seed=060000, heterogeneity=57530.43659\n",
            "seed=080000, heterogeneity=57454.51852\n",
            "seed=100000, heterogeneity=57471.56674\n",
            "seed=120000, heterogeneity=57523.28839\n",
            "CPU times: user 3min 41s, sys: 4.98 s, total: 3min 46s\n",
            "Wall time: 3min 45s\n"
          ],
          "name": "stdout"
        }
      ]
    },
    {
      "cell_type": "markdown",
      "metadata": {
        "id": "cxE_awnKNeeV"
      },
      "source": [
        "Let's compare the set of cluster heterogeneities we got from our 7 restarts of k-means using random initialization compared to the 7 restarts of k-means using k-means++ as a smart initialization.\n",
        "\n",
        "The following code produces a [box plot](http://matplotlib.org/api/pyplot_api.html) for each of these methods, indicating the spread of values produced by each method."
      ]
    },
    {
      "cell_type": "code",
      "metadata": {
        "colab": {
          "base_uri": "https://localhost:8080/",
          "height": 356
        },
        "id": "TclblUHFNeeV",
        "outputId": "1b911bce-9d7f-4f08-8121-21113b1dcfc1"
      },
      "source": [
        "plt.figure(figsize=(8,5))\n",
        "plt.boxplot([list(heterogeneity.values()), list(heterogeneity_smart.values())], vert=False)\n",
        "plt.yticks([1, 2], ['k-means', 'k-means++'])\n",
        "plt.rcParams.update({'font.size': 16})\n",
        "plt.tight_layout()"
      ],
      "execution_count": 36,
      "outputs": [
        {
          "output_type": "display_data",
          "data": {
            "image/png": "[encoded data removed]",
            "text/plain": [
              "<Figure size 576x360 with 1 Axes>"
            ]
          },
          "metadata": {
            "needs_background": "light"
          }
        }
      ]
    },
    {
      "cell_type": "markdown",
      "metadata": {
        "id": "_cc5v3CsNeeV"
      },
      "source": [
        "A few things to notice from the box plot:\n",
        "* On average, k-means++ produces a better clustering than Random initialization.\n",
        "* Variation in clustering quality is smaller for k-means++."
      ]
    },
    {
      "cell_type": "markdown",
      "metadata": {
        "id": "xnT1LJrNNeeV"
      },
      "source": [
        "**In general, you should run k-means at least a few times with different initializations and then return the run resulting in the lowest heterogeneity.** Let us write a function that runs k-means multiple times and picks the best run that minimizes heterogeneity. The function accepts an optional list of seed values to be used for the multiple runs; if no such list is provided, the current UTC time is used as seed values."
      ]
    },
    {
      "cell_type": "code",
      "metadata": {
        "id": "7CvH27FDNeeW"
      },
      "source": [
        "def kmeans_multiple_runs(data, k, maxiter, num_runs, seed_list=None, verbose=False):\n",
        "    heterogeneity = {}\n",
        "    \n",
        "    min_heterogeneity_achieved = float('inf')\n",
        "    best_seed = None\n",
        "    final_centroids = None\n",
        "    final_cluster_assignment = None\n",
        "    \n",
        "    for i in range(num_runs):\n",
        "        \n",
        "        # Use UTC time if no seeds are provided \n",
        "        if seed_list is not None: \n",
        "            seed = seed_list[i]\n",
        "            np.random.seed(seed)\n",
        "        else: \n",
        "            seed = int(time.time())\n",
        "            np.random.seed(seed)\n",
        "        \n",
        "        # Use k-means++ initialization\n",
        "        initial_centroids = smart_initialize(data, k)\n",
        "        \n",
        "        # Run k-means\n",
        "        centroids, cluster_assignment = kmeans(data, k, initial_centroids, maxiter)\n",
        "        \n",
        "        # To save time, compute heterogeneity only once in the end\n",
        "        heterogeneity[seed] = compute_heterogeneity(data, k, centroids, cluster_assignment)\n",
        "        \n",
        "        if verbose:\n",
        "            print('seed={0:06d}, heterogeneity={1:.5f}'.format(seed, heterogeneity[seed]))\n",
        "            sys.stdout.flush()\n",
        "        \n",
        "        # if current measurement of heterogeneity is lower than previously seen,\n",
        "        # update the minimum record of heterogeneity.\n",
        "        if heterogeneity[seed] < min_heterogeneity_achieved:\n",
        "            min_heterogeneity_achieved = heterogeneity[seed]\n",
        "            best_seed = seed\n",
        "            final_centroids = centroids\n",
        "            final_cluster_assignment = cluster_assignment\n",
        "    \n",
        "    # Return the centroids and cluster assignments that minimize heterogeneity.\n",
        "    return final_centroids, final_cluster_assignment"
      ],
      "execution_count": 37,
      "outputs": []
    },
    {
      "cell_type": "markdown",
      "metadata": {
        "id": "La2BAHDBNeeW"
      },
      "source": [
        "## How to choose K"
      ]
    },
    {
      "cell_type": "markdown",
      "metadata": {
        "id": "vNKGv5PwNeeW"
      },
      "source": [
        "Since we are measuring the tightness of the clusters, a higher value of K reduces the possible heterogeneity metric by definition.  For example, if we have N data points and set K=N clusters, then we could have 0 cluster heterogeneity by setting the N centroids equal to the values of the N data points. (Note: Not all runs for larger K will result in lower heterogeneity than a single run with smaller K due to local optima.)  Let's explore this general trend for ourselves by performing the following analysis."
      ]
    },
    {
      "cell_type": "markdown",
      "metadata": {
        "id": "-mTu_iHGNeeW"
      },
      "source": [
        "Use the `kmeans_multiple_runs` function to run k-means with five different values of K.  For each K, use k-means++ and multiple runs to pick the best solution.  In what follows, we consider K=2,10,25,50,100 and 7 restarts for each setting.\n",
        "\n",
        "**IMPORTANT: The code block below will take about 10 minutes to finish**\n",
        "\n",
        "In order to speed up the computations, we run them with only one random seed, but for better performance, one should use more seeds and compare the results. If you don't mind running the code for approximately one hour, feel free to uncomment the following line of code below:\n",
        "\n",
        "`seed_list = [0]#, 20000, 40000, 60000, 80000, 100000, 120000]`\n",
        "\n",
        "Side note: In practice, a good implementation of k-means would utilize parallelism to run multiple runs of k-means at once. For an example, see [scikit-learn's KMeans](http://scikit-learn.org/stable/modules/generated/sklearn.cluster.KMeans.html)."
      ]
    },
    {
      "cell_type": "code",
      "metadata": {
        "scrolled": false,
        "colab": {
          "base_uri": "https://localhost:8080/"
        },
        "id": "PiYUz1KFNeeW",
        "outputId": "23344b01-f864-4612-e434-dbe86b0051fb"
      },
      "source": [
        "%%time\n",
        "import numpy as np \n",
        "\n",
        "def plot_k_vs_heterogeneity(k_values, heterogeneity_values):\n",
        "    plt.figure(figsize=(7,4))\n",
        "    plt.plot(k_values, heterogeneity_values, linewidth=4)\n",
        "    plt.xlabel('K')\n",
        "    plt.ylabel('Heterogeneity')\n",
        "    plt.title('K vs. Heterogeneity')\n",
        "    plt.rcParams.update({'font.size': 16})\n",
        "    plt.tight_layout()\n",
        "\n",
        "centroids = {}\n",
        "cluster_assignment = {}\n",
        "heterogeneity_values = []\n",
        "k_list = [2, 10, 25, 50, 100]\n",
        "seed_list = [0]\n",
        "# Uncomment the following line to run the plot with all the seeds (it may take about an hour to finish).\n",
        "#seed_list = [0, 20000, 40000, 60000, 80000, 100000, 120000]\n",
        "\n",
        "for k in k_list:\n",
        "    heterogeneity = []\n",
        "    centroids[k], cluster_assignment[k] = kmeans_multiple_runs(tf_idf, k, maxiter=400,\n",
        "                                                               num_runs=len(seed_list),                                                               seed_list=seed_list,\n",
        "                                                               verbose=True)\n",
        "    score = compute_heterogeneity(tf_idf, k, centroids[k], cluster_assignment[k])\n",
        "    heterogeneity_values.append(score)"
      ],
      "execution_count": 38,
      "outputs": [
        {
          "output_type": "stream",
          "text": [
            "seed=000000, heterogeneity=58224.59913\n",
            "seed=000000, heterogeneity=57468.63808\n",
            "seed=000000, heterogeneity=56913.24052\n",
            "seed=000000, heterogeneity=56399.72145\n",
            "seed=000000, heterogeneity=55649.66538\n",
            "CPU times: user 9min 36s, sys: 8.51 s, total: 9min 45s\n",
            "Wall time: 9min 42s\n"
          ],
          "name": "stdout"
        }
      ]
    },
    {
      "cell_type": "code",
      "metadata": {
        "colab": {
          "base_uri": "https://localhost:8080/",
          "height": 284
        },
        "id": "dbWOw3l6NeeW",
        "outputId": "a1ede80a-e719-4a55-db68-ad1b3cf23cc8"
      },
      "source": [
        "plot_k_vs_heterogeneity(k_list, heterogeneity_values)"
      ],
      "execution_count": 39,
      "outputs": [
        {
          "output_type": "display_data",
          "data": {
            "image/png": "[encoded data removed]",
            "text/plain": [
              "<Figure size 504x288 with 1 Axes>"
            ]
          },
          "metadata": {
            "needs_background": "light"
          }
        }
      ]
    },
    {
      "cell_type": "markdown",
      "metadata": {
        "id": "ilESqZsdNeeW"
      },
      "source": [
        "In the above plot we show that heterogeneity goes down as we increase the number of clusters. Does this mean we should always favor a higher K? **Not at all!** As we will see in the following section, setting K too high may end up separating data points that are actually pretty alike. At the extreme, we can set individual data points to be their own clusters (K=N) and achieve zero heterogeneity, but separating each data point into its own cluster is hardly a desirable outcome. In the following section, we will learn how to detect a K set \"too large\"."
      ]
    },
    {
      "cell_type": "markdown",
      "metadata": {
        "id": "21XiW0gwNeeW"
      },
      "source": [
        "## Visualize clusters of documents"
      ]
    },
    {
      "cell_type": "markdown",
      "metadata": {
        "id": "dFAnP08BNeeW"
      },
      "source": [
        "Let's start visualizing some clustering results to see if we think the clustering makes sense.  We can use such visualizations to help us assess whether we have set K too large or too small for a given application.  Following the theme of this course, we will judge whether the clustering makes sense in the context of document analysis.\n",
        "\n",
        "What are we looking for in a good clustering of documents?\n",
        "* Documents in the same cluster should be similar.\n",
        "* Documents from different clusters should be less similar.\n",
        "\n",
        "So a bad clustering exhibits either of two symptoms:\n",
        "* Documents in a cluster have mixed content.\n",
        "* Documents with similar content are divided up and put into different clusters.\n",
        "\n",
        "To help visualize the clustering, we do the following:\n",
        "* Fetch nearest neighbors of each centroid from the set of documents assigned to that cluster. We will consider these documents as being representative of the cluster.\n",
        "* Print titles and first sentences of those nearest neighbors.\n",
        "* Print top 5 words that have highest tf-idf weights in each centroid."
      ]
    },
    {
      "cell_type": "code",
      "metadata": {
        "id": "RcXshyRgNeeX"
      },
      "source": [
        "def visualize_document_clusters(wiki, tf_idf, centroids, cluster_assignment, k, map_word_to_index, display_content=True):\n",
        "    '''wiki: original dataframe\n",
        "       tf_idf: data matrix, sparse matrix format\n",
        "       map_index_to_word: SFrame specifying the mapping betweeen words and column indices\n",
        "       display_content: if True, display 8 nearest neighbors of each centroid'''\n",
        "    map_index_to_word =  {v:k for k,v in map_word_to_index.items()}\n",
        "    print('==========================================================')\n",
        "    # Visualize each cluster c\n",
        "    for c in range(k):\n",
        "        # Cluster heading\n",
        "        print('Cluster {0:d}    '.format(c)),\n",
        "        # Print top 5 words with largest TF-IDF weights in the cluster\n",
        "        idx = centroids[c].argsort()[::-1]\n",
        "        for i in range(5): # Print each word along with the TF-IDF weight\n",
        "            print('{0:s}:{1:.3f}'.format(map_index_to_word[idx[i]], centroids[c][idx[i]])),\n",
        "        print('')\n",
        "        \n",
        "        if display_content:\n",
        "            # Compute distances from the centroid to all data points in the cluster,\n",
        "            # and compute nearest neighbors of the centroids within the cluster.\n",
        "            distances = pairwise_distances(tf_idf, centroids[c].reshape(1, -1), metric='euclidean').flatten()\n",
        "            distances[cluster_assignment!=c] = float('inf') # remove non-members from consideration\n",
        "            \n",
        "            nearest_neighbors = distances.argsort()\n",
        "            \n",
        "            # For 8 nearest neighbors, print the title as well as first 180 characters of text.\n",
        "            # Wrap the text at 80-character mark.\n",
        "            for i in range(8):\n",
        "                text = ' '.join(wiki[nearest_neighbors[i]]['text'].split(None, 25)[0:25])\n",
        "                print('\\n* {0:50s} {1:.5f}\\n  {2:s}\\n  {3:s}'.format(wiki[nearest_neighbors[i]]['name'],\n",
        "                    distances[nearest_neighbors[i]], text[:90], text[90:180] if len(text) > 90 else ''))\n",
        "        print('==========================================================')"
      ],
      "execution_count": 40,
      "outputs": []
    },
    {
      "cell_type": "markdown",
      "metadata": {
        "id": "4rrSfdGONeeX"
      },
      "source": [
        "Let us first look at the 2 cluster case (K=2)."
      ]
    },
    {
      "cell_type": "code",
      "metadata": {
        "colab": {
          "base_uri": "https://localhost:8080/"
        },
        "id": "dNtGE9H1NeeX",
        "outputId": "05a97d11-e1c4-4976-f07a-b2db917e7e55"
      },
      "source": [
        "'''Notice the extra pairs of parentheses for centroids and cluster_assignment.\n",
        "   The centroid and cluster_assignment are still inside the npz file,\n",
        "   and we need to explicitly indicate when to load them into memory.'''\n",
        "visualize_document_clusters(wiki, tf_idf, centroids[2], cluster_assignment[2], 2, map_index_to_word)"
      ],
      "execution_count": 41,
      "outputs": [
        {
          "output_type": "stream",
          "text": [
            "==========================================================\n",
            "Cluster 0    \n",
            "she:0.021\n",
            "university:0.015\n",
            "her:0.013\n",
            "he:0.012\n",
            "served:0.010\n",
            "\n",
            "\n",
            "* Kayee Griffin                                      0.97358\n",
            "  kayee frances griffin born 6 february 1950 is an australian politician and former australi\n",
            "  an labor party member of the new south wales legislative council serving\n",
            "\n",
            "* %C3%81ine Hyland                                   0.97370\n",
            "  ine hyland ne donlon is emeritus professor of education and former vicepresident of univer\n",
            "  sity college cork ireland she was born in 1942 in athboy co\n",
            "\n",
            "* Christine Robertson                                0.97373\n",
            "  christine mary robertson born 5 october 1948 is an australian politician and former austra\n",
            "  lian labor party member of the new south wales legislative council serving\n",
            "\n",
            "* Anita Kunz                                         0.97471\n",
            "  anita e kunz oc born 1956 is a canadianborn artist and illustratorkunz has lived in london\n",
            "   new york and toronto contributing to magazines and working\n",
            "\n",
            "* Barry Sullivan (lawyer)                            0.97488\n",
            "  barry sullivan is a chicago lawyer and as of july 1 2009 the cooney conway chair in advoca\n",
            "  cy at loyola university chicago school of law\n",
            "\n",
            "* Margaret Catley-Carlson                            0.97534\n",
            "  margaret catleycarlson oc born 6 october 1942 is a canadian civil servant she was chair an\n",
            "  d is now a patron of the global water partnership\n",
            "\n",
            "* Vanessa Gilmore                                    0.97579\n",
            "  vanessa diane gilmore born october 1956 is a judge on the united states district court for\n",
            "   the southern district of texas she was appointed to\n",
            "\n",
            "* James A. Joseph                                    0.97624\n",
            "  james a joseph born 1935 is an american former diplomatjoseph is professor of the practice\n",
            "   of public policy studies at duke university and founder of\n",
            "==========================================================\n",
            "Cluster 1    \n",
            "she:0.023\n",
            "music:0.017\n",
            "her:0.017\n",
            "league:0.016\n",
            "season:0.016\n",
            "\n",
            "\n",
            "* Patricia Scott                                     0.97143\n",
            "  patricia scott pat born july 14 1929 is a former pitcher who played in the allamerican gir\n",
            "  ls professional baseball league for parts of four seasons\n",
            "\n",
            "* Madonna (entertainer)                              0.97181\n",
            "  madonna louise ciccone tkoni born august 16 1958 is an american singer songwriter actress \n",
            "  and businesswoman she achieved popularity by pushing the boundaries of lyrical\n",
            "\n",
            "* Janet Jackson                                      0.97257\n",
            "  janet damita jo jackson born may 16 1966 is an american singer songwriter and actress know\n",
            "  n for a series of sonically innovative socially conscious and\n",
            "\n",
            "* Natashia Williams                                  0.97343\n",
            "  natashia williamsblach born august 2 1978 is an american actress and former wonderbra camp\n",
            "  aign model who is perhaps best known for her role as shane\n",
            "\n",
            "* Todd Williams                                      0.97384\n",
            "  todd michael williams born february 13 1971 in syracuse new york is a former major league \n",
            "  baseball relief pitcher he attended east syracuseminoa high school\n",
            "\n",
            "* Marilyn Jenkins                                    0.97430\n",
            "  marilyn a jenkins jenks born september 18 1934 is a former catcher who played in the allam\n",
            "  erican girls professional baseball league listed at 5 ft\n",
            "\n",
            "* Kayla Bashore Smedley                              0.97496\n",
            "  kayla bashore born february 20 1983 in daegu south korea is an american field hockey defen\n",
            "  der and midfielder now living in san diego california she\n",
            "\n",
            "* Cher                                               0.97510\n",
            "  cher r born cherilyn sarkisian may 20 1946 is an american singer actress and television ho\n",
            "  st described as embodying female autonomy in a maledominated industry\n",
            "==========================================================\n"
          ],
          "name": "stdout"
        }
      ]
    },
    {
      "cell_type": "markdown",
      "metadata": {
        "id": "3MCBK_0RNeeX"
      },
      "source": [
        "Both clusters have mixed content, although cluster 1 is much purer than cluster 0:\n",
        "* Cluster 0: academia, law\n",
        "* Cluster 1: female figures, baseball players\n",
        "\n",
        "Roughly speaking, the entire dataset was divided into athletes and non-athletes. It would be better if we sub-divided non-atheletes into more categories. So let us use more clusters. How about `K=10`?"
      ]
    },
    {
      "cell_type": "code",
      "metadata": {
        "scrolled": true,
        "colab": {
          "base_uri": "https://localhost:8080/"
        },
        "id": "KRkK-hiHNeeX",
        "outputId": "1342ad28-5804-406a-aeb1-e2f14a27cb52"
      },
      "source": [
        "k = 10\n",
        "visualize_document_clusters(wiki, tf_idf, centroids[k], cluster_assignment[k], k, map_index_to_word)"
      ],
      "execution_count": 42,
      "outputs": [
        {
          "output_type": "stream",
          "text": [
            "==========================================================\n",
            "Cluster 0    \n",
            "he:0.012\n",
            "art:0.011\n",
            "his:0.009\n",
            "book:0.008\n",
            "that:0.008\n",
            "\n",
            "\n",
            "* Wilson McLean                                      0.97661\n",
            "  wilson mclean born 1937 is a scottish illustrator and artist he has illustrated primarily \n",
            "  in the field of advertising but has also provided cover art\n",
            "\n",
            "* Tang Xiyang                                        0.97988\n",
            "  tang xiyang born january 30 1930 in miluo hunan province is a chinese environmentalist he \n",
            "  was awarded the 2007 ramon magsaysay award for peace and\n",
            "\n",
            "* David Salle                                        0.98168\n",
            "  david salle born 1952 is an american painter printmaker and stage designer who helped defi\n",
            "  ne postmodern sensibility salle was born in norman oklahoma he earned\n",
            "\n",
            "* Alberto Blanco (poet)                              0.98172\n",
            "  alberto blanco is considered one of mexicos most important poets born in mexico city on fe\n",
            "  bruary 18 1951 he spent his childhood and adolescence in\n",
            "\n",
            "* John Donald (jewellery designer)                   0.98290\n",
            "  john donald is a british jeweller designer whose work is strongly identified in the 1960s \n",
            "  and 1970s in london princess margaret and the queen mother\n",
            "\n",
            "* David Elliott (curator)                            0.98298\n",
            "  david stuart elliott born 29 april 1949 is a britishborn art gallery and museum curator an\n",
            "  d writer about modern and contemporary arthe was educated at\n",
            "\n",
            "* Chris Hunt                                         0.98307\n",
            "  chris hunt is a british journalist magazine editor and author he has worked in journalism \n",
            "  for over twenty years most often writing about football or\n",
            "\n",
            "* Kcho                                               0.98342\n",
            "  kchosometimes spelled kcho born alexis leiva machado on the isla de pinos 1970 is a contem\n",
            "  porary cuban artist kcho has had art showings around the\n",
            "==========================================================\n",
            "Cluster 1    \n",
            "film:0.088\n",
            "theatre:0.037\n",
            "films:0.032\n",
            "television:0.028\n",
            "actor:0.027\n",
            "\n",
            "\n",
            "* Shona Auerbach                                     0.93531\n",
            "  shona auerbach is a british film director and cinematographerauerbach began her career as \n",
            "  a stills photographer she studied film at manchester university and cinematography at\n",
            "\n",
            "* Singeetam Srinivasa Rao                            0.93748\n",
            "  singeetam srinivasa rao born 21 september 1931 is an indian film director producer screenw\n",
            "  riter composer singer lyricist and actor known for his works in telugu\n",
            "\n",
            "* Justin Edgar                                       0.93801\n",
            "  justin edgar is a british film directorborn in handsworth birmingham on 18 august 1971 edg\n",
            "  ar graduated from portsmouth university in 1996 with a first class\n",
            "\n",
            "* Laura Neri                                         0.94151\n",
            "  laura neri greek is a director of greek and italian origins born in brussels belgium she g\n",
            "  raduated from the usc school of cinematic arts in\n",
            "\n",
            "* Bill Bennett (director)                            0.94260\n",
            "  bill bennett born 1953 is an australian film director producer and screenwriterhe dropped \n",
            "  out of medicine at queensland university in 1972 and joined the australian\n",
            "\n",
            "* Robert Braiden                                     0.94344\n",
            "  robert braiden is an australian film director and writer born in sydney he grew up in moor\n",
            "  ebank liverpool new south wales and now currently lives\n",
            "\n",
            "* Nitzan Gilady                                      0.94369\n",
            "  nitzan gilady also known as nitzan giladi hebrew is an israeli film director who has writt\n",
            "  en produced and directed the documentary films in satmar custody\n",
            "\n",
            "* Robb Moss                                          0.94484\n",
            "  robb moss is an independent documentary filmmaker and professor at harvard university nota\n",
            "  ble work includes such films as the same river twice secrecy film and\n",
            "==========================================================\n",
            "Cluster 2    \n",
            "league:0.061\n",
            "baseball:0.048\n",
            "season:0.046\n",
            "coach:0.042\n",
            "games:0.034\n",
            "\n",
            "\n",
            "* Todd Williams                                      0.92759\n",
            "  todd michael williams born february 13 1971 in syracuse new york is a former major league \n",
            "  baseball relief pitcher he attended east syracuseminoa high school\n",
            "\n",
            "* Justin Knoedler                                    0.93295\n",
            "  justin joseph knoedler born july 17 1980 in springfield illinois is a former major league \n",
            "  baseball catcherknoedler was originally drafted by the st louis cardinals\n",
            "\n",
            "* Kevin Nicholson (baseball)                         0.93579\n",
            "  kevin ronald nicholson born march 29 1976 is a canadian baseball shortstop he played part \n",
            "  of the 2000 season for the san diego padres of\n",
            "\n",
            "* Dave Ford                                          0.93642\n",
            "  david alan ford born december 29 1956 is a former major league baseball pitcher for the ba\n",
            "  ltimore orioles born in cleveland ohio ford attended lincolnwest\n",
            "\n",
            "* Steve Springer                                     0.93649\n",
            "  steven michael springer born february 11 1961 is an american former professional baseball \n",
            "  player who appeared in major league baseball as a third baseman and\n",
            "\n",
            "* Chris Young (pitcher)                              0.93772\n",
            "  christopher ryan chris young born may 25 1979 is an american professional baseball rightha\n",
            "  nded pitcher who is a free agent he made his major league\n",
            "\n",
            "* Eric Fox                                           0.93875\n",
            "  eric hollis fox born august 15 1963 in lemoore california is an american professional base\n",
            "  ball coach the 5 ft 10 in 178 m 180 lb\n",
            "\n",
            "* Ted Silva                                          0.93948\n",
            "  theodore a silva born august 4 1974 in inglewood california has held numerous roles in ama\n",
            "  teur and professional baseball he has played in the minor\n",
            "==========================================================\n",
            "Cluster 3    \n",
            "party:0.046\n",
            "election:0.042\n",
            "minister:0.039\n",
            "elected:0.028\n",
            "member:0.020\n",
            "\n",
            "\n",
            "* Stephen Harper                                     0.95128\n",
            "  stephen joseph harper pc mp born april 30 1959 is a canadian politician who is the 22nd an\n",
            "  d current prime minister of canada and the\n",
            "\n",
            "* Lucienne Robillard                                 0.95307\n",
            "  lucienne robillard pc born june 16 1945 is a canadian politician and a member of the liber\n",
            "  al party of canada she sat in the house\n",
            "\n",
            "* Marcelle Mersereau                                 0.95379\n",
            "  marcelle mersereau born february 14 1942 in pointeverte new brunswick is a canadian politi\n",
            "  cian a civil servant for most of her career she also served\n",
            "\n",
            "* Maureen Lyster                                     0.95450\n",
            "  maureen anne lyster born 10 september 1943 is an australian politician she was an australi\n",
            "  an labor party member of the victorian legislative assembly from 1985\n",
            "\n",
            "* Bruce Flegg                                        0.95554\n",
            "  dr bruce stephen flegg born 10 march 1954 in sydney is an australian former politician he \n",
            "  was a member of the queensland legislative assembly from\n",
            "\n",
            "* Doug Lewis                                         0.95583\n",
            "  douglas grinslade doug lewis pc qc born april 17 1938 is a former canadian politician a ch\n",
            "  artered accountant and lawyer by training lewis entered the\n",
            "\n",
            "* Paul Martin                                        0.95583\n",
            "  paul edgar philippe martin pc cc born august 28 1938 also known as paul martin jr is a can\n",
            "  adian politician who was the 21st prime\n",
            "\n",
            "* Gordon Gibson                                      0.95612\n",
            "  gordon gibson obc born 1937 is a political columnist author and former politician in briti\n",
            "  sh columbia bc canada he is the son of the late\n",
            "==========================================================\n",
            "Cluster 4    \n",
            "music:0.095\n",
            "orchestra:0.087\n",
            "symphony:0.057\n",
            "opera:0.050\n",
            "conductor:0.041\n",
            "\n",
            "\n",
            "* Heiichiro Ohyama                                   0.89162\n",
            "  heiichiro ohyama yama heiichir born 1947 in kyoto japan is a japanese conductor and violis\n",
            "  the has a longestablished reputation as a remarkable conductor and one\n",
            "\n",
            "* Brenton Broadstock                                 0.90284\n",
            "  brenton broadstock ao born 1952 is an australian composerbroadstock was born in melbourne \n",
            "  he studied history politics and music at monash university and later composition\n",
            "\n",
            "* Toshiyuki Shimada                                  0.90301\n",
            "  toshiyuki shimada is a japanese american orchestral conductor he is music director of both\n",
            "   the eastern connecticut symphony orchestra in new london ct and the\n",
            "\n",
            "* David Porcelijn                                    0.90357\n",
            "  david porcelijn born 7 january 1947 in achtkarspelen is a dutch composer and conductordavi\n",
            "  d porcelijn studied flute composition and conducting at the royal conservatoire of\n",
            "\n",
            "* Hugh Wolff                                         0.90731\n",
            "  hugh wolff born 21 october 1953 in paris is an american conductorhe was born in paris whil\n",
            "  e his father was serving in the u s\n",
            "\n",
            "* Daniel Meyer (conductor)                           0.90849\n",
            "  daniel meyer was born in cleveland ohio and has been conductor and musical director of sev\n",
            "  eral prominent american orchestrashe is a graduate of denison university\n",
            "\n",
            "* Paul Hostetter                                     0.90967\n",
            "  paul hostetter is the ethel foley distinguished chair in orchestral activities for the sch\n",
            "  wob school of music at columbus state university the conductor and artistic\n",
            "\n",
            "* Peter Ruzicka                                      0.91097\n",
            "  peter ruzicka born july 3 1948 is a german composer and conductor of classical musicpeter \n",
            "  ruzicka was born in dsseldorf on july 3 1948 he\n",
            "==========================================================\n",
            "Cluster 5    \n",
            "she:0.140\n",
            "her:0.088\n",
            "miss:0.012\n",
            "actress:0.011\n",
            "womens:0.011\n",
            "\n",
            "\n",
            "* Lauren Royal                                       0.93427\n",
            "  lauren royal born march 3 circa 1965 is a book writer from california royal has written bo\n",
            "  th historic and novelistic booksa selfproclaimed angels baseball fan\n",
            "\n",
            "* Janine Shepherd                                    0.93681\n",
            "  janine lee shepherd am born 1962 is an australian pilot and former crosscountry skier shep\n",
            "  herds career as an athlete ended when she suffered major injuries\n",
            "\n",
            "* Barbara Hershey                                    0.93708\n",
            "  barbara hershey born barbara lynn herzstein february 5 1948 once known as barbara seagull \n",
            "  is an american actress in a career spanning nearly 50 years\n",
            "\n",
            "* Janet Jackson                                      0.93735\n",
            "  janet damita jo jackson born may 16 1966 is an american singer songwriter and actress know\n",
            "  n for a series of sonically innovative socially conscious and\n",
            "\n",
            "* Ellina Graypel                                     0.93837\n",
            "  ellina graypel born july 19 1972 is an awardwinning russian singersongwriter she was born \n",
            "  near the volga river in the heart of russia she spent\n",
            "\n",
            "* Alexandra Potter                                   0.93867\n",
            "  alexandra potter born 1970 is a british author of romantic comediesborn in bradford yorksh\n",
            "  ire england and educated at liverpool university gaining an honors degree in\n",
            "\n",
            "* Dorothy E. Smith                                   0.93904\n",
            "  dorothy edith smithborn july 6 1926 is a canadian sociologist with research interests besi\n",
            "  des in sociology in many disciplines including womens studies psychology and educational\n",
            "\n",
            "* Jane Fonda                                         0.93914\n",
            "  jane fonda born lady jayne seymour fonda december 21 1937 is an american actress writer po\n",
            "  litical activist former fashion model and fitness guru she is\n",
            "==========================================================\n",
            "Cluster 6    \n",
            "album:0.053\n",
            "band:0.044\n",
            "music:0.042\n",
            "released:0.028\n",
            "jazz:0.023\n",
            "\n",
            "\n",
            "* Will.i.am                                          0.95336\n",
            "  william adams born march 15 1975 known by his stage name william pronounced will i am is a\n",
            "  n american rapper songwriter entrepreneur actor dj record\n",
            "\n",
            "* Tony Mills (musician)                              0.95359\n",
            "  tony mills born 7 july 1962 in solihull england is an english rock singer best known for h\n",
            "  is work with shy and tnthailing from birmingham\n",
            "\n",
            "* Keith Urban                                        0.95379\n",
            "  keith lionel urban born 26 october 1967 is a new zealand born australian country music sin\n",
            "  ger songwriter guitarist entrepreneur and music competition judge in 1991\n",
            "\n",
            "* Prince (musician)                                  0.95420\n",
            "  prince rogers nelson born june 7 1958 known by his mononym prince is an american singerson\n",
            "  gwriter multiinstrumentalist and actor he has produced ten platinum albums\n",
            "\n",
            "* Steve Overland                                     0.95503\n",
            "  steve overland is a british singermusician who was the lead vocalist and songwriter for th\n",
            "  e bands wildlife fm the ladder shadowman and his own group\n",
            "\n",
            "* Jesse Johnson (musician)                           0.95606\n",
            "  jesse woods johnson born june 1 1960 in rock island illinois is a musician best known as t\n",
            "  he guitarist in the original lineup of the\n",
            "\n",
            "* Mark Cross (musician)                              0.95609\n",
            "  mark cross born 2 august 1965 london is a hard rock and heavy metal drummer he was born to\n",
            "   an english father and german mother\n",
            "\n",
            "* Stewart Levine                                     0.95888\n",
            "  stewart levine is an american record producer he has worked with such artists as the crusa\n",
            "  ders minnie riperton lionel richie simply red hugh masekela dr\n",
            "==========================================================\n",
            "Cluster 7    \n",
            "law:0.133\n",
            "court:0.081\n",
            "judge:0.060\n",
            "district:0.042\n",
            "justice:0.040\n",
            "\n",
            "\n",
            "* Barry Sullivan (lawyer)                            0.89228\n",
            "  barry sullivan is a chicago lawyer and as of july 1 2009 the cooney conway chair in advoca\n",
            "  cy at loyola university chicago school of law\n",
            "\n",
            "* William G. Young                                   0.89433\n",
            "  william glover young born 1940 is a united states federal judge for the district of massac\n",
            "  husetts young was born in huntington new york he attended\n",
            "\n",
            "* Bernard Bell (attorney)                            0.89617\n",
            "  bernard bell is the associate dean for academic affairs and faculty professor of law and h\n",
            "  erbert hannoch scholar at rutgers school of lawnewark bell received\n",
            "\n",
            "* George B. Daniels                                  0.89796\n",
            "  george benjamin daniels born 1953 is a united states federal judge for the united states d\n",
            "  istrict court for the southern district of new yorkdaniels was\n",
            "\n",
            "* Robinson O. Everett                                0.90432\n",
            "  robinson o everett march 18 1928 june 12 2009 was an american lawyer judge and a professor\n",
            "   of law at duke universityeverett was born in\n",
            "\n",
            "* James G. Carr                                      0.90595\n",
            "  james g carr born july 7 1940 is a federal district judge for the united states district c\n",
            "  ourt for the northern district of ohiocarr was\n",
            "\n",
            "* John C. Eastman                                    0.90764\n",
            "  john c eastman born april 21 1960 is a conservative american law professor and constitutio\n",
            "  nal law scholar he is the henry salvatori professor of law\n",
            "\n",
            "* Jean Constance Hamilton                            0.90830\n",
            "  jean constance hamilton born 1945 is a senior united states district judge of the united s\n",
            "  tates district court for the eastern district of missouriborn in\n",
            "==========================================================\n",
            "Cluster 8    \n",
            "football:0.050\n",
            "league:0.044\n",
            "club:0.043\n",
            "season:0.042\n",
            "played:0.037\n",
            "\n",
            "\n",
            "* Chris Day                                          0.93686\n",
            "  christopher nicholas chris day born 28 july 1975 is an english professional footballer who\n",
            "   plays as a goalkeeper for stevenageday started his career at tottenham\n",
            "\n",
            "* Jason Roberts (footballer)                         0.93775\n",
            "  jason andre davis roberts mbe born 25 january 1978 is a former professional footballer and\n",
            "   now a football punditborn in park royal london roberts was\n",
            "\n",
            "* Tony Smith (footballer, born 1957)                 0.93839\n",
            "  anthony tony smith born 20 february 1957 is a former footballer who played as a central de\n",
            "  fender in the football league in the 1970s and\n",
            "\n",
            "* Neil Grayson                                       0.94178\n",
            "  neil grayson born 1 november 1964 in york is an english footballer who last played as a st\n",
            "  riker for sutton towngraysons first club was local\n",
            "\n",
            "* Richard Ambrose                                    0.94220\n",
            "  richard ambrose born 10 june 1972 is a former australian rules footballer who played with \n",
            "  the sydney swans in the australian football league afl he\n",
            "\n",
            "* Paul Robinson (footballer, born 1979)              0.94245\n",
            "  paul william robinson born 15 october 1979 is an english professional footballer who plays\n",
            "   for blackburn rovers as a goalkeeper he is a former england\n",
            "\n",
            "* Alex Lawless                                       0.94269\n",
            "  alexander graham alex lawless born 26 march 1985 is a welsh professional footballer who pl\n",
            "  ays for luton town as a midfielderlawless began his career with\n",
            "\n",
            "* Sol Campbell                                       0.94275\n",
            "  sulzeer jeremiah sol campbell born 18 september 1974 is a former england international foo\n",
            "  tballer a central defender he had a 19year career playing in the\n",
            "==========================================================\n",
            "Cluster 9    \n",
            "research:0.038\n",
            "university:0.035\n",
            "professor:0.030\n",
            "science:0.023\n",
            "institute:0.019\n",
            "\n",
            "\n",
            "* Lawrence W. Green                                  0.95862\n",
            "  lawrence w green is best known by health education researchers as the originator of the pr\n",
            "  ecede model and codeveloper of the precedeproceed model which has\n",
            "\n",
            "* Timothy Luke                                       0.96028\n",
            "  timothy w luke is university distinguished professor of political science in the college o\n",
            "  f liberal arts and human sciences as well as program chair of\n",
            "\n",
            "* Ren%C3%A9e Fox                                     0.96119\n",
            "  rene c fox a summa cum laude graduate of smith college in 1949 earned her phd in sociology\n",
            "   in 1954 from radcliffe college harvard university\n",
            "\n",
            "* Francis Gavin                                      0.96213\n",
            "  francis j gavin is first frank stanton chair in nuclear security policy studies and profes\n",
            "  sor of political science at mit before joining mit he was\n",
            "\n",
            "* Catherine Hakim                                    0.96358\n",
            "  catherine hakim born 30 may 1948 is a british sociologist who specialises in womens employ\n",
            "  ment and womens issues she is currently a professorial research fellow\n",
            "\n",
            "* Daniel Berg (educator)                             0.96361\n",
            "  daniel berg is a scientist educator and was the fifteenth president of rensselaer polytech\n",
            "  nic institutehe was born on june 1 1929 in new york city\n",
            "\n",
            "* Georg von Krogh                                    0.96375\n",
            "  georg von krogh was born in oslo norway he is a professor at eth zurich and holds the chai\n",
            "  r of strategic management and innovation he\n",
            "\n",
            "* Martin Apple                                       0.96381\n",
            "  martin a apple is president of the council of scientific society presidents cssp an organi\n",
            "  zation of presidents of some sixty scientific federations and societies whose\n",
            "==========================================================\n"
          ],
          "name": "stdout"
        }
      ]
    },
    {
      "cell_type": "markdown",
      "metadata": {
        "id": "d-QrUm4qNeeX"
      },
      "source": [
        "Clusters 0, 1, and 5 appear to be still mixed, but others are quite consistent in content.\n",
        "* Cluster 0: artists, book, him/his\n",
        "* Cluster 1: film, theatre, films, tv, actor \n",
        "* Cluster 2: baseball players\n",
        "* Cluster 3: elections, ministers\n",
        "* Cluster 4: music, orchestra, symphony \n",
        "* Cluster 5: female figures from various fields\n",
        "* Cluster 6: composers, songwriters, singers, music producers\n",
        "* Cluster 7: law, courts, justice \n",
        "* Cluster 8: football \n",
        "* Cluster 9: academia\n",
        "\n",
        "Clusters are now more pure, but some are qualitatively \"bigger\" than others. For instance, the category of scholars is more general than the category of baseball players. Increasing the number of clusters may split larger clusters. Another way to look at the size of the clusters is to count the number of articles in each cluster."
      ]
    },
    {
      "cell_type": "code",
      "metadata": {
        "colab": {
          "base_uri": "https://localhost:8080/"
        },
        "id": "EhPs2dZGNeeX",
        "outputId": "da7520b8-664c-4f6b-e071-11528d8bb954"
      },
      "source": [
        "np.bincount(cluster_assignment[10])"
      ],
      "execution_count": 43,
      "outputs": [
        {
          "output_type": "execute_result",
          "data": {
            "text/plain": [
              "array([19618,  3857,  4173,  5219,  1743,  6900,  5530,  1348,  4384,\n",
              "        6299])"
            ]
          },
          "metadata": {},
          "execution_count": 43
        }
      ]
    },
    {
      "cell_type": "markdown",
      "metadata": {
        "id": "Wfm2bjqONeeX"
      },
      "source": [
        "**Quiz Question**. Which of the 10 clusters above contains the greatest number of articles?\n",
        "\n",
        "1. * Cluster 0: artists, book, him/his\n",
        "2. * Cluster 4: music, orchestra, symphony \n",
        "3. * Cluster 5: female figures from various fields\n",
        "4. * Cluster 7: law, courts, justice \n",
        "5. * Cluster 9: academia"
      ]
    },
    {
      "cell_type": "markdown",
      "metadata": {
        "id": "piudp61bNeeX"
      },
      "source": [
        "**Quiz Question**. Which of the 10 clusters contains the least number of articles?\n",
        "\n",
        "1. * Cluster 1: film, theatre, films, tv, actor \n",
        "2. * Cluster 3: elections, ministers\n",
        "3. * Cluster 6: composers, songwriters, singers, music producers\n",
        "4. * Cluster 7: law, courts, justice \n",
        "5. * Cluster 8: football "
      ]
    },
    {
      "cell_type": "markdown",
      "metadata": {
        "id": "_7Bu-RJUNeeY"
      },
      "source": [
        "There appears to be at least some connection between the topical consistency of a cluster and the number of its member data points."
      ]
    },
    {
      "cell_type": "markdown",
      "metadata": {
        "id": "FqYM9IWENeeY"
      },
      "source": [
        "Let us visualize the case for K=25. For the sake of brevity, we do not print the content of documents. It turns out that the top words with highest TF-IDF weights in each cluster are representative of the cluster."
      ]
    },
    {
      "cell_type": "code",
      "metadata": {
        "scrolled": false,
        "colab": {
          "base_uri": "https://localhost:8080/"
        },
        "id": "-4ltVT3BNeeY",
        "outputId": "32fb9489-bd99-49b9-ee19-135dfc2b4ef1"
      },
      "source": [
        "visualize_document_clusters(wiki, tf_idf, centroids[25], cluster_assignment[25], 25,\n",
        "                            map_index_to_word, display_content=False) # turn off text for brevity"
      ],
      "execution_count": 44,
      "outputs": [
        {
          "output_type": "stream",
          "text": [
            "==========================================================\n",
            "Cluster 0    \n",
            "poetry:0.053\n",
            "novel:0.043\n",
            "book:0.042\n",
            "published:0.039\n",
            "fiction:0.034\n",
            "\n",
            "==========================================================\n",
            "Cluster 1    \n",
            "film:0.100\n",
            "theatre:0.039\n",
            "films:0.036\n",
            "directed:0.029\n",
            "actor:0.028\n",
            "\n",
            "==========================================================\n",
            "Cluster 2    \n",
            "law:0.143\n",
            "court:0.087\n",
            "judge:0.066\n",
            "district:0.045\n",
            "justice:0.042\n",
            "\n",
            "==========================================================\n",
            "Cluster 3    \n",
            "republican:0.061\n",
            "senate:0.050\n",
            "district:0.044\n",
            "state:0.039\n",
            "democratic:0.037\n",
            "\n",
            "==========================================================\n",
            "Cluster 4    \n",
            "music:0.114\n",
            "piano:0.047\n",
            "orchestra:0.039\n",
            "composition:0.038\n",
            "composer:0.034\n",
            "\n",
            "==========================================================\n",
            "Cluster 5    \n",
            "album:0.116\n",
            "released:0.058\n",
            "her:0.056\n",
            "single:0.046\n",
            "music:0.040\n",
            "\n",
            "==========================================================\n",
            "Cluster 6    \n",
            "music:0.055\n",
            "jazz:0.038\n",
            "album:0.028\n",
            "song:0.020\n",
            "records:0.019\n",
            "\n",
            "==========================================================\n",
            "Cluster 7    \n",
            "board:0.028\n",
            "business:0.027\n",
            "economics:0.026\n",
            "chairman:0.025\n",
            "president:0.025\n",
            "\n",
            "==========================================================\n",
            "Cluster 8    \n",
            "he:0.011\n",
            "his:0.009\n",
            "that:0.009\n",
            "world:0.007\n",
            "book:0.007\n",
            "\n",
            "==========================================================\n",
            "Cluster 9    \n",
            "research:0.050\n",
            "university:0.039\n",
            "professor:0.038\n",
            "science:0.030\n",
            "institute:0.021\n",
            "\n",
            "==========================================================\n",
            "Cluster 10    \n",
            "foreign:0.075\n",
            "ambassador:0.063\n",
            "affairs:0.057\n",
            "security:0.044\n",
            "nations:0.042\n",
            "\n",
            "==========================================================\n",
            "Cluster 11    \n",
            "baseball:0.110\n",
            "league:0.103\n",
            "major:0.052\n",
            "games:0.047\n",
            "season:0.045\n",
            "\n",
            "==========================================================\n",
            "Cluster 12    \n",
            "art:0.146\n",
            "museum:0.078\n",
            "gallery:0.057\n",
            "artist:0.033\n",
            "arts:0.032\n",
            "\n",
            "==========================================================\n",
            "Cluster 13    \n",
            "air:0.028\n",
            "military:0.027\n",
            "police:0.024\n",
            "force:0.023\n",
            "commander:0.022\n",
            "\n",
            "==========================================================\n",
            "Cluster 14    \n",
            "party:0.064\n",
            "minister:0.063\n",
            "election:0.054\n",
            "parliament:0.031\n",
            "elected:0.031\n",
            "\n",
            "==========================================================\n",
            "Cluster 15    \n",
            "radio:0.072\n",
            "show:0.052\n",
            "news:0.051\n",
            "bbc:0.033\n",
            "television:0.030\n",
            "\n",
            "==========================================================\n",
            "Cluster 16    \n",
            "church:0.120\n",
            "bishop:0.091\n",
            "diocese:0.044\n",
            "lds:0.044\n",
            "archbishop:0.043\n",
            "\n",
            "==========================================================\n",
            "Cluster 17    \n",
            "opera:0.212\n",
            "ballet:0.088\n",
            "she:0.061\n",
            "la:0.035\n",
            "her:0.033\n",
            "\n",
            "==========================================================\n",
            "Cluster 18    \n",
            "orchestra:0.203\n",
            "symphony:0.146\n",
            "conductor:0.107\n",
            "philharmonic:0.077\n",
            "music:0.076\n",
            "\n",
            "==========================================================\n",
            "Cluster 19    \n",
            "she:0.146\n",
            "her:0.092\n",
            "miss:0.017\n",
            "actress:0.015\n",
            "women:0.011\n",
            "\n",
            "==========================================================\n",
            "Cluster 20    \n",
            "racing:0.127\n",
            "formula:0.078\n",
            "race:0.066\n",
            "car:0.060\n",
            "driver:0.054\n",
            "\n",
            "==========================================================\n",
            "Cluster 21    \n",
            "championships:0.057\n",
            "tour:0.055\n",
            "pga:0.041\n",
            "olympics:0.035\n",
            "metres:0.035\n",
            "\n",
            "==========================================================\n",
            "Cluster 22    \n",
            "league:0.052\n",
            "rugby:0.049\n",
            "club:0.046\n",
            "cup:0.045\n",
            "season:0.041\n",
            "\n",
            "==========================================================\n",
            "Cluster 23    \n",
            "band:0.104\n",
            "album:0.049\n",
            "rock:0.031\n",
            "guitar:0.031\n",
            "bands:0.030\n",
            "\n",
            "==========================================================\n",
            "Cluster 24    \n",
            "football:0.057\n",
            "coach:0.053\n",
            "season:0.047\n",
            "basketball:0.042\n",
            "played:0.039\n",
            "\n",
            "==========================================================\n"
          ],
          "name": "stdout"
        }
      ]
    },
    {
      "cell_type": "markdown",
      "metadata": {
        "id": "Q_bCA6UwNeeY"
      },
      "source": [
        "Looking at the representative examples and top words, we classify each cluster as follows.\n",
        "\n",
        "* Cluster 0: Literature\n",
        "* Cluster 1: Film and theater\n",
        "* Cluster 2: Law\n",
        "* Cluster 3: Politics\n",
        "* Cluster 4: Classical music\n",
        "* Cluster 5: Popular music\n",
        "* Cluster 6: Jazz music\n",
        "* Cluster 7: Business and economics\n",
        "* Cluster 8: (mixed; no clear theme)\n",
        "* Cluster 9: Academia and research\n",
        "* Cluster 10: International affairs\n",
        "* Cluster 11: Baseball\n",
        "* Cluster 12: Art\n",
        "* Cluster 13: Military\n",
        "* Cluster 14: Politics\n",
        "* Cluster 15: Radio and TV\n",
        "* Cluster 16: Catholic church\n",
        "* Cluster 17: Opera and ballet\n",
        "* Cluster 18: Orchestra music\n",
        "* Cluster 19: Females from various fields\n",
        "* Cluster 20: Car racing\n",
        "* Cluster 21: General sports\n",
        "* Cluster 22: Rugby\n",
        "* Cluster 23: Rock music\n",
        "* Cluster 24: Team sports\n",
        "\n",
        "Indeed, increasing K achieved the desired effect of breaking up large clusters.  Depending on the application, this may or may not be preferable to the K=10 analysis.\n",
        "\n",
        "Let's take it to the extreme and set K=100. We have a suspicion that this value is too large. Let us look at the top words from each cluster:"
      ]
    },
    {
      "cell_type": "code",
      "metadata": {
        "colab": {
          "base_uri": "https://localhost:8080/"
        },
        "id": "00pIgNNQNeeY",
        "outputId": "8ff53bee-73a7-498d-ec0c-cea9af2aa0bb"
      },
      "source": [
        "k=100\n",
        "visualize_document_clusters(wiki, tf_idf, centroids[k], cluster_assignment[k], k,\n",
        "                            map_index_to_word, display_content=False)\n",
        "# turn off text for brevity -- turn it on if you are curious ;)"
      ],
      "execution_count": 45,
      "outputs": [
        {
          "output_type": "stream",
          "text": [
            "==========================================================\n",
            "Cluster 0    \n",
            "psychology:0.195\n",
            "psychological:0.066\n",
            "research:0.057\n",
            "psychologist:0.045\n",
            "cognitive:0.041\n",
            "\n",
            "==========================================================\n",
            "Cluster 1    \n",
            "film:0.213\n",
            "festival:0.060\n",
            "films:0.054\n",
            "directed:0.039\n",
            "feature:0.037\n",
            "\n",
            "==========================================================\n",
            "Cluster 2    \n",
            "law:0.146\n",
            "court:0.097\n",
            "judge:0.074\n",
            "district:0.051\n",
            "justice:0.045\n",
            "\n",
            "==========================================================\n",
            "Cluster 3    \n",
            "mayor:0.137\n",
            "city:0.049\n",
            "council:0.040\n",
            "elected:0.032\n",
            "election:0.030\n",
            "\n",
            "==========================================================\n",
            "Cluster 4    \n",
            "music:0.147\n",
            "composition:0.048\n",
            "composer:0.047\n",
            "orchestra:0.026\n",
            "composers:0.025\n",
            "\n",
            "==========================================================\n",
            "Cluster 5    \n",
            "album:0.108\n",
            "her:0.078\n",
            "billboard:0.075\n",
            "chart:0.072\n",
            "singles:0.067\n",
            "\n",
            "==========================================================\n",
            "Cluster 6    \n",
            "music:0.052\n",
            "songs:0.025\n",
            "records:0.023\n",
            "song:0.022\n",
            "album:0.022\n",
            "\n",
            "==========================================================\n",
            "Cluster 7    \n",
            "chairman:0.057\n",
            "board:0.048\n",
            "president:0.035\n",
            "executive:0.033\n",
            "ceo:0.025\n",
            "\n",
            "==========================================================\n",
            "Cluster 8    \n",
            "german:0.120\n",
            "germany:0.042\n",
            "der:0.030\n",
            "berlin:0.025\n",
            "die:0.017\n",
            "\n",
            "==========================================================\n",
            "Cluster 9    \n",
            "india:0.092\n",
            "indian:0.084\n",
            "sabha:0.038\n",
            "lok:0.033\n",
            "singh:0.028\n",
            "\n",
            "==========================================================\n",
            "Cluster 10    \n",
            "czech:0.207\n",
            "prague:0.124\n",
            "republic:0.046\n",
            "czechoslovakia:0.032\n",
            "vclav:0.021\n",
            "\n",
            "==========================================================\n",
            "Cluster 11    \n",
            "soccer:0.294\n",
            "league:0.071\n",
            "indoor:0.063\n",
            "team:0.055\n",
            "season:0.052\n",
            "\n",
            "==========================================================\n",
            "Cluster 12    \n",
            "novel:0.096\n",
            "fiction:0.079\n",
            "published:0.044\n",
            "stories:0.043\n",
            "short:0.039\n",
            "\n",
            "==========================================================\n",
            "Cluster 13    \n",
            "prison:0.036\n",
            "police:0.034\n",
            "sentenced:0.026\n",
            "court:0.025\n",
            "convicted:0.024\n",
            "\n",
            "==========================================================\n",
            "Cluster 14    \n",
            "labor:0.104\n",
            "australian:0.097\n",
            "liberal:0.073\n",
            "election:0.067\n",
            "minister:0.064\n",
            "\n",
            "==========================================================\n",
            "Cluster 15    \n",
            "radio:0.112\n",
            "show:0.069\n",
            "host:0.041\n",
            "station:0.035\n",
            "sports:0.026\n",
            "\n",
            "==========================================================\n",
            "Cluster 16    \n",
            "bishop:0.147\n",
            "church:0.084\n",
            "diocese:0.075\n",
            "archbishop:0.073\n",
            "ordained:0.055\n",
            "\n",
            "==========================================================\n",
            "Cluster 17    \n",
            "de:0.118\n",
            "la:0.050\n",
            "french:0.026\n",
            "el:0.021\n",
            "paris:0.018\n",
            "\n",
            "==========================================================\n",
            "Cluster 18    \n",
            "clarinet:0.087\n",
            "bass:0.086\n",
            "saxophone:0.079\n",
            "flute:0.077\n",
            "music:0.062\n",
            "\n",
            "==========================================================\n",
            "Cluster 19    \n",
            "book:0.045\n",
            "books:0.032\n",
            "published:0.027\n",
            "editor:0.025\n",
            "magazine:0.021\n",
            "\n",
            "==========================================================\n",
            "Cluster 20    \n",
            "racing:0.135\n",
            "nascar:0.104\n",
            "car:0.094\n",
            "race:0.077\n",
            "series:0.075\n",
            "\n",
            "==========================================================\n",
            "Cluster 21    \n",
            "tour:0.259\n",
            "pga:0.216\n",
            "golf:0.139\n",
            "open:0.073\n",
            "golfer:0.062\n",
            "\n",
            "==========================================================\n",
            "Cluster 22    \n",
            "league:0.089\n",
            "town:0.063\n",
            "season:0.061\n",
            "club:0.059\n",
            "football:0.054\n",
            "\n",
            "==========================================================\n",
            "Cluster 23    \n",
            "album:0.119\n",
            "released:0.058\n",
            "music:0.034\n",
            "records:0.027\n",
            "single:0.026\n",
            "\n",
            "==========================================================\n",
            "Cluster 24    \n",
            "football:0.054\n",
            "cup:0.048\n",
            "club:0.045\n",
            "team:0.039\n",
            "league:0.036\n",
            "\n",
            "==========================================================\n",
            "Cluster 25    \n",
            "league:0.096\n",
            "era:0.093\n",
            "baseball:0.089\n",
            "innings:0.086\n",
            "pitcher:0.085\n",
            "\n",
            "==========================================================\n",
            "Cluster 26    \n",
            "air:0.373\n",
            "force:0.241\n",
            "command:0.105\n",
            "commander:0.094\n",
            "base:0.080\n",
            "\n",
            "==========================================================\n",
            "Cluster 27    \n",
            "physics:0.173\n",
            "quantum:0.059\n",
            "theoretical:0.045\n",
            "research:0.043\n",
            "theory:0.039\n",
            "\n",
            "==========================================================\n",
            "Cluster 28    \n",
            "sierra:0.276\n",
            "leone:0.220\n",
            "koroma:0.061\n",
            "freetown:0.056\n",
            "leonean:0.046\n",
            "\n",
            "==========================================================\n",
            "Cluster 29    \n",
            "russian:0.172\n",
            "soviet:0.067\n",
            "russia:0.056\n",
            "moscow:0.056\n",
            "vladimir:0.022\n",
            "\n",
            "==========================================================\n",
            "Cluster 30    \n",
            "harris:0.398\n",
            "university:0.014\n",
            "alabama:0.013\n",
            "state:0.013\n",
            "he:0.012\n",
            "\n",
            "==========================================================\n",
            "Cluster 31    \n",
            "theatre:0.194\n",
            "directed:0.033\n",
            "production:0.031\n",
            "she:0.029\n",
            "play:0.029\n",
            "\n",
            "==========================================================\n",
            "Cluster 32    \n",
            "linguistics:0.164\n",
            "language:0.147\n",
            "linguistic:0.064\n",
            "languages:0.044\n",
            "research:0.036\n",
            "\n",
            "==========================================================\n",
            "Cluster 33    \n",
            "economics:0.150\n",
            "economic:0.098\n",
            "economist:0.053\n",
            "policy:0.047\n",
            "research:0.045\n",
            "\n",
            "==========================================================\n",
            "Cluster 34    \n",
            "news:0.131\n",
            "anchor:0.068\n",
            "reporter:0.057\n",
            "she:0.044\n",
            "correspondent:0.034\n",
            "\n",
            "==========================================================\n",
            "Cluster 35    \n",
            "rights:0.172\n",
            "human:0.129\n",
            "law:0.056\n",
            "she:0.036\n",
            "civil:0.029\n",
            "\n",
            "==========================================================\n",
            "Cluster 36    \n",
            "foreign:0.062\n",
            "ambassador:0.056\n",
            "affairs:0.051\n",
            "security:0.044\n",
            "secretary:0.043\n",
            "\n",
            "==========================================================\n",
            "Cluster 37    \n",
            "mathematics:0.151\n",
            "mathematical:0.113\n",
            "theory:0.055\n",
            "professor:0.047\n",
            "mathematician:0.047\n",
            "\n",
            "==========================================================\n",
            "Cluster 38    \n",
            "mexico:0.132\n",
            "mexican:0.118\n",
            "de:0.040\n",
            "pri:0.031\n",
            "cartel:0.026\n",
            "\n",
            "==========================================================\n",
            "Cluster 39    \n",
            "film:0.141\n",
            "documentary:0.087\n",
            "films:0.056\n",
            "festival:0.041\n",
            "cinema:0.033\n",
            "\n",
            "==========================================================\n",
            "Cluster 40    \n",
            "hong:0.283\n",
            "kong:0.267\n",
            "chinese:0.067\n",
            "china:0.038\n",
            "wong:0.034\n",
            "\n",
            "==========================================================\n",
            "Cluster 41    \n",
            "actor:0.049\n",
            "role:0.047\n",
            "film:0.043\n",
            "series:0.042\n",
            "appeared:0.037\n",
            "\n",
            "==========================================================\n",
            "Cluster 42    \n",
            "football:0.120\n",
            "afl:0.113\n",
            "australian:0.083\n",
            "season:0.058\n",
            "club:0.058\n",
            "\n",
            "==========================================================\n",
            "Cluster 43    \n",
            "band:0.116\n",
            "album:0.046\n",
            "bands:0.035\n",
            "guitar:0.033\n",
            "rock:0.031\n",
            "\n",
            "==========================================================\n",
            "Cluster 44    \n",
            "puerto:0.308\n",
            "rico:0.217\n",
            "rican:0.068\n",
            "juan:0.042\n",
            "ricos:0.032\n",
            "\n",
            "==========================================================\n",
            "Cluster 45    \n",
            "giants:0.257\n",
            "baseball:0.104\n",
            "league:0.085\n",
            "francisco:0.065\n",
            "san:0.064\n",
            "\n",
            "==========================================================\n",
            "Cluster 46    \n",
            "racing:0.104\n",
            "jockey:0.078\n",
            "race:0.069\n",
            "stakes:0.064\n",
            "horse:0.053\n",
            "\n",
            "==========================================================\n",
            "Cluster 47    \n",
            "archaeology:0.281\n",
            "archaeological:0.114\n",
            "ancient:0.072\n",
            "archaeologist:0.059\n",
            "excavations:0.055\n",
            "\n",
            "==========================================================\n",
            "Cluster 48    \n",
            "art:0.082\n",
            "artist:0.032\n",
            "gallery:0.031\n",
            "painting:0.028\n",
            "paintings:0.028\n",
            "\n",
            "==========================================================\n",
            "Cluster 49    \n",
            "she:0.136\n",
            "her:0.120\n",
            "actress:0.024\n",
            "film:0.018\n",
            "television:0.013\n",
            "\n",
            "==========================================================\n",
            "Cluster 50    \n",
            "comics:0.191\n",
            "comic:0.122\n",
            "strip:0.039\n",
            "graphic:0.036\n",
            "book:0.034\n",
            "\n",
            "==========================================================\n",
            "Cluster 51    \n",
            "comedy:0.165\n",
            "show:0.068\n",
            "comedian:0.060\n",
            "standup:0.050\n",
            "series:0.030\n",
            "\n",
            "==========================================================\n",
            "Cluster 52    \n",
            "formula:0.167\n",
            "racing:0.129\n",
            "car:0.079\n",
            "driver:0.078\n",
            "championship:0.074\n",
            "\n",
            "==========================================================\n",
            "Cluster 53    \n",
            "church:0.186\n",
            "lds:0.185\n",
            "churchs:0.094\n",
            "latterday:0.070\n",
            "byu:0.068\n",
            "\n",
            "==========================================================\n",
            "Cluster 54    \n",
            "design:0.169\n",
            "architecture:0.121\n",
            "architectural:0.058\n",
            "architects:0.038\n",
            "architect:0.038\n",
            "\n",
            "==========================================================\n",
            "Cluster 55    \n",
            "university:0.048\n",
            "philosophy:0.042\n",
            "professor:0.041\n",
            "studies:0.038\n",
            "history:0.037\n",
            "\n",
            "==========================================================\n",
            "Cluster 56    \n",
            "food:0.260\n",
            "cooking:0.049\n",
            "she:0.038\n",
            "cookbook:0.031\n",
            "culinary:0.028\n",
            "\n",
            "==========================================================\n",
            "Cluster 57    \n",
            "oklahoma:0.212\n",
            "oregon:0.169\n",
            "portland:0.040\n",
            "district:0.032\n",
            "law:0.031\n",
            "\n",
            "==========================================================\n",
            "Cluster 58    \n",
            "piano:0.093\n",
            "music:0.071\n",
            "orchestra:0.065\n",
            "chamber:0.045\n",
            "symphony:0.040\n",
            "\n",
            "==========================================================\n",
            "Cluster 59    \n",
            "iraqi:0.160\n",
            "iraq:0.150\n",
            "baghdad:0.060\n",
            "saddam:0.044\n",
            "hussein:0.035\n",
            "\n",
            "==========================================================\n",
            "Cluster 60    \n",
            "business:0.034\n",
            "company:0.023\n",
            "technology:0.023\n",
            "management:0.023\n",
            "global:0.019\n",
            "\n",
            "==========================================================\n",
            "Cluster 61    \n",
            "league:0.120\n",
            "baseball:0.108\n",
            "major:0.058\n",
            "minor:0.057\n",
            "season:0.042\n",
            "\n",
            "==========================================================\n",
            "Cluster 62    \n",
            "freestyle:0.154\n",
            "swimming:0.124\n",
            "m:0.117\n",
            "swimmer:0.090\n",
            "heat:0.074\n",
            "\n",
            "==========================================================\n",
            "Cluster 63    \n",
            "song:0.162\n",
            "eurovision:0.112\n",
            "contest:0.073\n",
            "she:0.057\n",
            "her:0.038\n",
            "\n",
            "==========================================================\n",
            "Cluster 64    \n",
            "bbc:0.235\n",
            "radio:0.119\n",
            "news:0.053\n",
            "presenter:0.053\n",
            "she:0.051\n",
            "\n",
            "==========================================================\n",
            "Cluster 65    \n",
            "army:0.078\n",
            "command:0.078\n",
            "commander:0.078\n",
            "military:0.074\n",
            "staff:0.059\n",
            "\n",
            "==========================================================\n",
            "Cluster 66    \n",
            "jazz:0.214\n",
            "music:0.047\n",
            "band:0.035\n",
            "pianist:0.026\n",
            "trio:0.024\n",
            "\n",
            "==========================================================\n",
            "Cluster 67    \n",
            "chef:0.195\n",
            "restaurant:0.130\n",
            "wine:0.102\n",
            "cooking:0.060\n",
            "food:0.059\n",
            "\n",
            "==========================================================\n",
            "Cluster 68    \n",
            "turkish:0.176\n",
            "turkey:0.104\n",
            "istanbul:0.072\n",
            "ankara:0.029\n",
            "she:0.026\n",
            "\n",
            "==========================================================\n",
            "Cluster 69    \n",
            "thai:0.158\n",
            "cpc:0.063\n",
            "china:0.060\n",
            "party:0.057\n",
            "thailand:0.055\n",
            "\n",
            "==========================================================\n",
            "Cluster 70    \n",
            "miss:0.358\n",
            "pageant:0.206\n",
            "usa:0.122\n",
            "she:0.111\n",
            "her:0.063\n",
            "\n",
            "==========================================================\n",
            "Cluster 71    \n",
            "republican:0.070\n",
            "senate:0.054\n",
            "district:0.048\n",
            "state:0.041\n",
            "house:0.039\n",
            "\n",
            "==========================================================\n",
            "Cluster 72    \n",
            "wrestling:0.069\n",
            "championship:0.046\n",
            "tennis:0.045\n",
            "doubles:0.039\n",
            "champion:0.036\n",
            "\n",
            "==========================================================\n",
            "Cluster 73    \n",
            "poetry:0.214\n",
            "poems:0.081\n",
            "poet:0.069\n",
            "poets:0.043\n",
            "literary:0.041\n",
            "\n",
            "==========================================================\n",
            "Cluster 74    \n",
            "baseball:0.235\n",
            "league:0.077\n",
            "she:0.055\n",
            "aagpbl:0.045\n",
            "allamerican:0.039\n",
            "\n",
            "==========================================================\n",
            "Cluster 75    \n",
            "poker:0.477\n",
            "wsop:0.121\n",
            "event:0.091\n",
            "limit:0.078\n",
            "winnings:0.072\n",
            "\n",
            "==========================================================\n",
            "Cluster 76    \n",
            "rugby:0.195\n",
            "cup:0.049\n",
            "against:0.046\n",
            "played:0.044\n",
            "wales:0.039\n",
            "\n",
            "==========================================================\n",
            "Cluster 77    \n",
            "he:0.010\n",
            "that:0.009\n",
            "his:0.009\n",
            "it:0.007\n",
            "has:0.006\n",
            "\n",
            "==========================================================\n",
            "Cluster 78    \n",
            "blues:0.121\n",
            "drummer:0.066\n",
            "band:0.054\n",
            "rock:0.041\n",
            "drum:0.037\n",
            "\n",
            "==========================================================\n",
            "Cluster 79    \n",
            "marathon:0.064\n",
            "olympics:0.059\n",
            "championships:0.057\n",
            "olympic:0.055\n",
            "she:0.041\n",
            "\n",
            "==========================================================\n",
            "Cluster 80    \n",
            "hockey:0.218\n",
            "nhl:0.136\n",
            "ice:0.066\n",
            "season:0.053\n",
            "league:0.048\n",
            "\n",
            "==========================================================\n",
            "Cluster 81    \n",
            "party:0.066\n",
            "minister:0.061\n",
            "election:0.044\n",
            "parliament:0.036\n",
            "elected:0.031\n",
            "\n",
            "==========================================================\n",
            "Cluster 82    \n",
            "computer:0.096\n",
            "engineering:0.074\n",
            "research:0.047\n",
            "science:0.046\n",
            "systems:0.038\n",
            "\n",
            "==========================================================\n",
            "Cluster 83    \n",
            "election:0.083\n",
            "manitoba:0.071\n",
            "minister:0.069\n",
            "liberal:0.068\n",
            "canadian:0.055\n",
            "\n",
            "==========================================================\n",
            "Cluster 84    \n",
            "orchestra:0.221\n",
            "symphony:0.156\n",
            "conductor:0.132\n",
            "music:0.081\n",
            "philharmonic:0.080\n",
            "\n",
            "==========================================================\n",
            "Cluster 85    \n",
            "sri:0.288\n",
            "lanka:0.187\n",
            "lankan:0.098\n",
            "colombo:0.048\n",
            "ceylon:0.029\n",
            "\n",
            "==========================================================\n",
            "Cluster 86    \n",
            "basketball:0.157\n",
            "nba:0.086\n",
            "coach:0.077\n",
            "points:0.049\n",
            "season:0.042\n",
            "\n",
            "==========================================================\n",
            "Cluster 87    \n",
            "cricket:0.194\n",
            "firstclass:0.114\n",
            "cricketer:0.073\n",
            "batsman:0.069\n",
            "wickets:0.061\n",
            "\n",
            "==========================================================\n",
            "Cluster 88    \n",
            "runs:0.116\n",
            "league:0.100\n",
            "baseball:0.089\n",
            "batted:0.067\n",
            "home:0.064\n",
            "\n",
            "==========================================================\n",
            "Cluster 89    \n",
            "she:0.178\n",
            "her:0.053\n",
            "women:0.021\n",
            "member:0.017\n",
            "university:0.017\n",
            "\n",
            "==========================================================\n",
            "Cluster 90    \n",
            "research:0.061\n",
            "medical:0.047\n",
            "medicine:0.046\n",
            "professor:0.033\n",
            "chemistry:0.031\n",
            "\n",
            "==========================================================\n",
            "Cluster 91    \n",
            "columbia:0.096\n",
            "vancouver:0.091\n",
            "bc:0.075\n",
            "british:0.073\n",
            "canadian:0.071\n",
            "\n",
            "==========================================================\n",
            "Cluster 92    \n",
            "metres:0.179\n",
            "championships:0.145\n",
            "athletics:0.096\n",
            "she:0.079\n",
            "m:0.070\n",
            "\n",
            "==========================================================\n",
            "Cluster 93    \n",
            "health:0.228\n",
            "medical:0.072\n",
            "medicine:0.071\n",
            "care:0.057\n",
            "research:0.034\n",
            "\n",
            "==========================================================\n",
            "Cluster 94    \n",
            "football:0.118\n",
            "nfl:0.089\n",
            "yards:0.065\n",
            "coach:0.058\n",
            "bowl:0.046\n",
            "\n",
            "==========================================================\n",
            "Cluster 95    \n",
            "jewish:0.219\n",
            "rabbi:0.172\n",
            "israel:0.041\n",
            "yeshiva:0.037\n",
            "hebrew:0.034\n",
            "\n",
            "==========================================================\n",
            "Cluster 96    \n",
            "film:0.045\n",
            "producer:0.038\n",
            "television:0.037\n",
            "series:0.033\n",
            "directed:0.031\n",
            "\n",
            "==========================================================\n",
            "Cluster 97    \n",
            "chess:0.416\n",
            "grandmaster:0.085\n",
            "olympiad:0.066\n",
            "championship:0.064\n",
            "fide:0.059\n",
            "\n",
            "==========================================================\n",
            "Cluster 98    \n",
            "opera:0.227\n",
            "ballet:0.088\n",
            "she:0.065\n",
            "la:0.036\n",
            "her:0.034\n",
            "\n",
            "==========================================================\n",
            "Cluster 99    \n",
            "art:0.208\n",
            "museum:0.149\n",
            "gallery:0.085\n",
            "arts:0.043\n",
            "contemporary:0.041\n",
            "\n",
            "==========================================================\n"
          ],
          "name": "stdout"
        }
      ]
    },
    {
      "cell_type": "markdown",
      "metadata": {
        "id": "LGodz9LANeeY"
      },
      "source": [
        "The class of team sports has been broken into several clusters, soccer (association football) (11, 22, 24), rugby (76), hockey (80), basketball (86), cricket (87), and American football (85).\n",
        "\n",
        "The class of baseball has been broken into San Francisco Giants (45), baseball (61, 74), and baseball stats (88).\n",
        "\n",
        "The class of car racing has been broken into Nascar (20) and Formula 1 (52).\n",
        "\n",
        "**A high value of K encourages pure clusters, but we cannot keep increasing K. For large enough K, related documents end up going to different clusters.**\n",
        "\n",
        "That said, the result for K=100 is not entirely bad. After all, it gives us separate clusters for such categories as Brazil, wrestling, computer science and the Mormon Church. If we set K somewhere between 25 and 100, we should be able to avoid breaking up clusters while discovering new ones.\n",
        "\n",
        "Also, we should ask ourselves how much **granularity** we want in our clustering. If we wanted a rough sketch of Wikipedia, we don't want too detailed clusters. On the other hand, having many clusters can be valuable when we are zooming into a certain part of Wikipedia.\n",
        "\n",
        "**There is no golden rule for choosing K. It all depends on the particular application and domain we are in.**\n",
        "\n",
        "Another heuristic people use that does not rely on so much visualization, which can be hard in many applications (including here!) is as follows.  Track heterogeneity versus K and look for the \"elbow\" of the curve where the heterogeneity decrease rapidly before this value of K, but then only gradually for larger values of K.  This naturally trades off between trying to minimize heterogeneity, but reduce model complexity.  In the heterogeneity versus K plot made above, we did not yet really see a flattening out of the heterogeneity, which might indicate that indeed K=100 is \"reasonable\" and we only see real overfitting for larger values of K (which are even harder to visualize using the methods we attempted above.)"
      ]
    },
    {
      "cell_type": "markdown",
      "metadata": {
        "collapsed": true,
        "id": "3XLHxPhaNeeY"
      },
      "source": [
        "**Quiz Question**. Another sign of too large K is having lots of small clusters. Look at the distribution of cluster sizes (by number of member data points). How many of the 100 clusters have fewer than 236 articles, i.e. 0.4% of the dataset?"
      ]
    },
    {
      "cell_type": "code",
      "metadata": {
        "id": "yQ5venkoNeeY"
      },
      "source": [
        "np.sum(np.bincount(cluster_assignment[100]) < 236)"
      ],
      "execution_count": null,
      "outputs": []
    },
    {
      "cell_type": "markdown",
      "metadata": {
        "id": "Rtz-98CrNeeY"
      },
      "source": [
        "### Takeaway\n",
        "\n",
        "Keep in mind though that tiny clusters aren't necessarily bad. A tiny cluster of documents that really look like each others is definitely preferable to a medium-sized cluster of documents with mixed content. However, having too few articles in a cluster may cause overfitting by reading too much into a limited pool of training data."
      ]
    }
  ]
}