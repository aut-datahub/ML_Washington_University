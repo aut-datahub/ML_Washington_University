{
  "nbformat": 4,
  "nbformat_minor": 0,
  "metadata": {
    "kernelspec": {
      "display_name": "Python 3",
      "language": "python",
      "name": "python3"
    },
    "language_info": {
      "codemirror_mode": {
        "name": "ipython",
        "version": 3
      },
      "file_extension": ".py",
      "mimetype": "text/x-python",
      "name": "python",
      "nbconvert_exporter": "python",
      "pygments_lexer": "ipython3",
      "version": "3.6.8"
    },
    "colab": {
      "name": "Locality Sensitive Hashing",
      "provenance": [],
      "collapsed_sections": [
        "cYLVL74CLia-",
        "tnyUM3ACLibA",
        "o5jnK-LHLibD",
        "SBZE10aMLibE"
      ],
      "toc_visible": true
    }
  },
  "cells": [
    {
      "cell_type": "markdown",
      "metadata": {
        "id": "OndKlN-tLia2"
      },
      "source": [
        "# Locality Sensitive Hashing"
      ]
    },
    {
      "cell_type": "markdown",
      "metadata": {
        "id": "Sq80vqw4Lia2"
      },
      "source": [
        "Locality Sensitive Hashing (LSH) provides for a fast, efficient approximate nearest neighbor search. The algorithm scales well with respect to the number of data points as well as dimensions.\n",
        "\n",
        "In this assignment, you will\n",
        "* Implement the LSH algorithm for approximate nearest neighbor search\n",
        "* Examine the accuracy for different documents by comparing against brute force search, and also contrast runtimes\n",
        "* Explore the role of the algorithm’s tuning parameters in the accuracy of the method"
      ]
    },
    {
      "cell_type": "markdown",
      "metadata": {
        "id": "pjEriRd1Lia3"
      },
      "source": [
        "## Import necessary packages"
      ]
    },
    {
      "cell_type": "code",
      "metadata": {
        "id": "hgHvSXoHLia3"
      },
      "source": [
        "from __future__ import print_function # to conform python 2.x print to python 3.x\n",
        "import numpy as np\n",
        "import turicreate\n",
        "from scipy.sparse import csr_matrix\n",
        "from sklearn.metrics.pairwise import pairwise_distances\n",
        "import time\n",
        "from copy import copy\n",
        "import matplotlib.pyplot as plt\n",
        "%matplotlib inline\n",
        "\n",
        "'''compute norm of a sparse vector\n",
        "   Thanks to: Jaiyam Sharma'''\n",
        "def norm(x):\n",
        "    sum_sq=x.dot(x.T)\n",
        "    norm=np.sqrt(sum_sq)\n",
        "    return(norm)"
      ],
      "execution_count": 1,
      "outputs": []
    },
    {
      "cell_type": "markdown",
      "metadata": {
        "id": "v3ORloAXLia4"
      },
      "source": [
        "## Load in the Wikipedia dataset"
      ]
    },
    {
      "cell_type": "code",
      "metadata": {
        "id": "DSCr0tRoLia4"
      },
      "source": [
        "wiki = turicreate.SFrame('/content/drive/MyDrive/people_wiki.sframe/')"
      ],
      "execution_count": 2,
      "outputs": []
    },
    {
      "cell_type": "markdown",
      "metadata": {
        "id": "jCt0Gq4lLia4"
      },
      "source": [
        "For this assignment, let us assign a unique ID to each document."
      ]
    },
    {
      "cell_type": "code",
      "metadata": {
        "id": "Cj9_taZOLia4"
      },
      "source": [
        "wiki = wiki.add_row_number()"
      ],
      "execution_count": 3,
      "outputs": []
    },
    {
      "cell_type": "markdown",
      "metadata": {
        "id": "oh3bivKvLia4"
      },
      "source": [
        "## Extract TF-IDF matrix"
      ]
    },
    {
      "cell_type": "markdown",
      "metadata": {
        "id": "sVwJR1WoLia5"
      },
      "source": [
        "We first use Turi Create to compute a TF-IDF representation for each document."
      ]
    },
    {
      "cell_type": "code",
      "metadata": {
        "colab": {
          "base_uri": "https://localhost:8080/",
          "height": 423
        },
        "id": "alpTt1QOLia5",
        "outputId": "6eb2f929-d650-47ba-9e9d-0613134fa747"
      },
      "source": [
        "wiki['tf_idf'] = turicreate.text_analytics.tf_idf(wiki['text'])\n",
        "wiki.head()"
      ],
      "execution_count": 4,
      "outputs": [
        {
          "output_type": "execute_result",
          "data": {
            "text/html": [
              "<div style=\"max-height:1000px;max-width:1500px;overflow:auto;\"><table frame=\"box\" rules=\"cols\">\n",
              "    <tr>\n",
              "        <th style=\"padding-left: 1em; padding-right: 1em; text-align: center\">id</th>\n",
              "        <th style=\"padding-left: 1em; padding-right: 1em; text-align: center\">URI</th>\n",
              "        <th style=\"padding-left: 1em; padding-right: 1em; text-align: center\">name</th>\n",
              "        <th style=\"padding-left: 1em; padding-right: 1em; text-align: center\">text</th>\n",
              "        <th style=\"padding-left: 1em; padding-right: 1em; text-align: center\">tf_idf</th>\n",
              "    </tr>\n",
              "    <tr>\n",
              "        <td style=\"padding-left: 1em; padding-right: 1em; text-align: center; vertical-align: top\">0</td>\n",
              "        <td style=\"padding-left: 1em; padding-right: 1em; text-align: center; vertical-align: top\">&lt;http://dbpedia.org/resou<br>rce/Digby_Morrell&gt; ...</td>\n",
              "        <td style=\"padding-left: 1em; padding-right: 1em; text-align: center; vertical-align: top\">Digby Morrell</td>\n",
              "        <td style=\"padding-left: 1em; padding-right: 1em; text-align: center; vertical-align: top\">digby morrell born 10<br>october 1979 is a former ...</td>\n",
              "        <td style=\"padding-left: 1em; padding-right: 1em; text-align: center; vertical-align: top\">{&#x27;melbourne&#x27;:<br>3.8914310119380633, ...</td>\n",
              "    </tr>\n",
              "    <tr>\n",
              "        <td style=\"padding-left: 1em; padding-right: 1em; text-align: center; vertical-align: top\">1</td>\n",
              "        <td style=\"padding-left: 1em; padding-right: 1em; text-align: center; vertical-align: top\">&lt;http://dbpedia.org/resou<br>rce/Alfred_J._Lewy&gt; ...</td>\n",
              "        <td style=\"padding-left: 1em; padding-right: 1em; text-align: center; vertical-align: top\">Alfred J. Lewy</td>\n",
              "        <td style=\"padding-left: 1em; padding-right: 1em; text-align: center; vertical-align: top\">alfred j lewy aka sandy<br>lewy graduated from ...</td>\n",
              "        <td style=\"padding-left: 1em; padding-right: 1em; text-align: center; vertical-align: top\">{&#x27;time&#x27;:<br>1.3253342074200498, ...</td>\n",
              "    </tr>\n",
              "    <tr>\n",
              "        <td style=\"padding-left: 1em; padding-right: 1em; text-align: center; vertical-align: top\">2</td>\n",
              "        <td style=\"padding-left: 1em; padding-right: 1em; text-align: center; vertical-align: top\">&lt;http://dbpedia.org/resou<br>rce/Harpdog_Brown&gt; ...</td>\n",
              "        <td style=\"padding-left: 1em; padding-right: 1em; text-align: center; vertical-align: top\">Harpdog Brown</td>\n",
              "        <td style=\"padding-left: 1em; padding-right: 1em; text-align: center; vertical-align: top\">harpdog brown is a singer<br>and harmonica player who ...</td>\n",
              "        <td style=\"padding-left: 1em; padding-right: 1em; text-align: center; vertical-align: top\">{&#x27;society&#x27;:<br>2.4448047262085693, ...</td>\n",
              "    </tr>\n",
              "    <tr>\n",
              "        <td style=\"padding-left: 1em; padding-right: 1em; text-align: center; vertical-align: top\">3</td>\n",
              "        <td style=\"padding-left: 1em; padding-right: 1em; text-align: center; vertical-align: top\">&lt;http://dbpedia.org/resou<br>rce/Franz_Rottensteiner&gt; ...</td>\n",
              "        <td style=\"padding-left: 1em; padding-right: 1em; text-align: center; vertical-align: top\">Franz Rottensteiner</td>\n",
              "        <td style=\"padding-left: 1em; padding-right: 1em; text-align: center; vertical-align: top\">franz rottensteiner born<br>in waidmannsfeld lower ...</td>\n",
              "        <td style=\"padding-left: 1em; padding-right: 1em; text-align: center; vertical-align: top\">{&#x27;kurdlawitzpreis&#x27;:<br>10.986495389225194, ...</td>\n",
              "    </tr>\n",
              "    <tr>\n",
              "        <td style=\"padding-left: 1em; padding-right: 1em; text-align: center; vertical-align: top\">4</td>\n",
              "        <td style=\"padding-left: 1em; padding-right: 1em; text-align: center; vertical-align: top\">&lt;http://dbpedia.org/resou<br>rce/G-Enka&gt; ...</td>\n",
              "        <td style=\"padding-left: 1em; padding-right: 1em; text-align: center; vertical-align: top\">G-Enka</td>\n",
              "        <td style=\"padding-left: 1em; padding-right: 1em; text-align: center; vertical-align: top\">henry krvits born 30<br>december 1974 in tallinn ...</td>\n",
              "        <td style=\"padding-left: 1em; padding-right: 1em; text-align: center; vertical-align: top\">{&#x27;curtis&#x27;:<br>5.299520032885375, ...</td>\n",
              "    </tr>\n",
              "    <tr>\n",
              "        <td style=\"padding-left: 1em; padding-right: 1em; text-align: center; vertical-align: top\">5</td>\n",
              "        <td style=\"padding-left: 1em; padding-right: 1em; text-align: center; vertical-align: top\">&lt;http://dbpedia.org/resou<br>rce/Sam_Henderson&gt; ...</td>\n",
              "        <td style=\"padding-left: 1em; padding-right: 1em; text-align: center; vertical-align: top\">Sam Henderson</td>\n",
              "        <td style=\"padding-left: 1em; padding-right: 1em; text-align: center; vertical-align: top\">sam henderson born<br>october 18 1969 is an ...</td>\n",
              "        <td style=\"padding-left: 1em; padding-right: 1em; text-align: center; vertical-align: top\">{&#x27;asses&#x27;:<br>9.600201028105303, &#x27;s ...</td>\n",
              "    </tr>\n",
              "    <tr>\n",
              "        <td style=\"padding-left: 1em; padding-right: 1em; text-align: center; vertical-align: top\">6</td>\n",
              "        <td style=\"padding-left: 1em; padding-right: 1em; text-align: center; vertical-align: top\">&lt;http://dbpedia.org/resou<br>rce/Aaron_LaCrate&gt; ...</td>\n",
              "        <td style=\"padding-left: 1em; padding-right: 1em; text-align: center; vertical-align: top\">Aaron LaCrate</td>\n",
              "        <td style=\"padding-left: 1em; padding-right: 1em; text-align: center; vertical-align: top\">aaron lacrate is an<br>american music producer ...</td>\n",
              "        <td style=\"padding-left: 1em; padding-right: 1em; text-align: center; vertical-align: top\">{&#x27;streamz&#x27;:<br>10.986495389225194, ...</td>\n",
              "    </tr>\n",
              "    <tr>\n",
              "        <td style=\"padding-left: 1em; padding-right: 1em; text-align: center; vertical-align: top\">7</td>\n",
              "        <td style=\"padding-left: 1em; padding-right: 1em; text-align: center; vertical-align: top\">&lt;http://dbpedia.org/resou<br>rce/Trevor_Ferguson&gt; ...</td>\n",
              "        <td style=\"padding-left: 1em; padding-right: 1em; text-align: center; vertical-align: top\">Trevor Ferguson</td>\n",
              "        <td style=\"padding-left: 1em; padding-right: 1em; text-align: center; vertical-align: top\">trevor ferguson aka john<br>farrow born 11 november ...</td>\n",
              "        <td style=\"padding-left: 1em; padding-right: 1em; text-align: center; vertical-align: top\">{&#x27;concordia&#x27;:<br>6.250296940830698, ...</td>\n",
              "    </tr>\n",
              "    <tr>\n",
              "        <td style=\"padding-left: 1em; padding-right: 1em; text-align: center; vertical-align: top\">8</td>\n",
              "        <td style=\"padding-left: 1em; padding-right: 1em; text-align: center; vertical-align: top\">&lt;http://dbpedia.org/resou<br>rce/Grant_Nelson&gt; ...</td>\n",
              "        <td style=\"padding-left: 1em; padding-right: 1em; text-align: center; vertical-align: top\">Grant Nelson</td>\n",
              "        <td style=\"padding-left: 1em; padding-right: 1em; text-align: center; vertical-align: top\">grant nelson born 27<br>april 1971 in london  ...</td>\n",
              "        <td style=\"padding-left: 1em; padding-right: 1em; text-align: center; vertical-align: top\">{&#x27;heavies&#x27;:<br>8.907053847545358, &#x27;n ...</td>\n",
              "    </tr>\n",
              "    <tr>\n",
              "        <td style=\"padding-left: 1em; padding-right: 1em; text-align: center; vertical-align: top\">9</td>\n",
              "        <td style=\"padding-left: 1em; padding-right: 1em; text-align: center; vertical-align: top\">&lt;http://dbpedia.org/resou<br>rce/Cathy_Caruth&gt; ...</td>\n",
              "        <td style=\"padding-left: 1em; padding-right: 1em; text-align: center; vertical-align: top\">Cathy Caruth</td>\n",
              "        <td style=\"padding-left: 1em; padding-right: 1em; text-align: center; vertical-align: top\">cathy caruth born 1955 is<br>frank h t rhodes ...</td>\n",
              "        <td style=\"padding-left: 1em; padding-right: 1em; text-align: center; vertical-align: top\">{&#x27;2002&#x27;:<br>1.8753125887822302, ...</td>\n",
              "    </tr>\n",
              "</table>\n",
              "[10 rows x 5 columns]<br/>\n",
              "</div>"
            ],
            "text/plain": [
              "Columns:\n",
              "\tid\tint\n",
              "\tURI\tstr\n",
              "\tname\tstr\n",
              "\ttext\tstr\n",
              "\ttf_idf\tdict\n",
              "\n",
              "Rows: 10\n",
              "\n",
              "Data:\n",
              "+----+-------------------------------+---------------------+\n",
              "| id |              URI              |         name        |\n",
              "+----+-------------------------------+---------------------+\n",
              "| 0  | <http://dbpedia.org/resour... |    Digby Morrell    |\n",
              "| 1  | <http://dbpedia.org/resour... |    Alfred J. Lewy   |\n",
              "| 2  | <http://dbpedia.org/resour... |    Harpdog Brown    |\n",
              "| 3  | <http://dbpedia.org/resour... | Franz Rottensteiner |\n",
              "| 4  | <http://dbpedia.org/resour... |        G-Enka       |\n",
              "| 5  | <http://dbpedia.org/resour... |    Sam Henderson    |\n",
              "| 6  | <http://dbpedia.org/resour... |    Aaron LaCrate    |\n",
              "| 7  | <http://dbpedia.org/resour... |   Trevor Ferguson   |\n",
              "| 8  | <http://dbpedia.org/resour... |     Grant Nelson    |\n",
              "| 9  | <http://dbpedia.org/resour... |     Cathy Caruth    |\n",
              "+----+-------------------------------+---------------------+\n",
              "+-------------------------------+-------------------------------+\n",
              "|              text             |             tf_idf            |\n",
              "+-------------------------------+-------------------------------+\n",
              "| digby morrell born 10 octo... | {'melbourne': 3.8914310119... |\n",
              "| alfred j lewy aka sandy le... | {'time': 1.325334207420049... |\n",
              "| harpdog brown is a singer ... | {'society': 2.444804726208... |\n",
              "| franz rottensteiner born i... | {'kurdlawitzpreis': 10.986... |\n",
              "| henry krvits born 30 decem... | {'curtis': 5.2995200328853... |\n",
              "| sam henderson born october... | {'asses': 9.60020102810530... |\n",
              "| aaron lacrate is an americ... | {'streamz': 10.98649538922... |\n",
              "| trevor ferguson aka john f... | {'concordia': 6.2502969408... |\n",
              "| grant nelson born 27 april... | {'heavies': 8.907053847545... |\n",
              "| cathy caruth born 1955 is ... | {'2002': 1.875312588782230... |\n",
              "+-------------------------------+-------------------------------+\n",
              "[10 rows x 5 columns]"
            ]
          },
          "metadata": {},
          "execution_count": 4
        }
      ]
    },
    {
      "cell_type": "markdown",
      "metadata": {
        "id": "l2_814n2gtlj"
      },
      "source": [
        ""
      ]
    },
    {
      "cell_type": "markdown",
      "metadata": {
        "id": "lmLJ8mSQLia5"
      },
      "source": [
        "For the remainder of the assignment, we will use sparse matrices. Sparse matrices are matrices) that have a small number of nonzero entries. A good data structure for sparse matrices would only store the nonzero entries to save space and speed up computation. SciPy provides a highly-optimized library for sparse matrices. Many matrix operations available for NumPy arrays are also available for SciPy sparse matrices.We first convert the TF-IDF column (in dictionary format) into the SciPy sparse matrix format."
      ]
    },
    {
      "cell_type": "code",
      "metadata": {
        "id": "aoFc6gLtLia5"
      },
      "source": [
        "def sframe_to_scipy(x, column_name):\n",
        "    '''\n",
        "    Convert a dictionary column of an SFrame into a sparse matrix format where\n",
        "    each (row_id, column_id, value) triple corresponds to the value of\n",
        "    x[row_id][column_id], where column_id is a key in the dictionary.\n",
        "       \n",
        "    Example\n",
        "    >>> sparse_matrix, map_key_to_index = sframe_to_scipy(sframe, column_name)\n",
        "    '''\n",
        "    assert type(x[column_name][0]) == dict, \\\n",
        "        'The chosen column must be dict type, representing sparse data.'\n",
        "    \n",
        "    # Stack will transform x to have a row for each unique (row, key) pair.\n",
        "    x = x.stack(column_name, ['feature', 'value'])\n",
        "    \n",
        "    # Map feature words to integers \n",
        "    unique_words = sorted(x['feature'].unique())\n",
        "    mapping = {word:i for i, word in enumerate(unique_words)}\n",
        "    x['feature_id'] = x['feature'].apply(lambda x: mapping[x])\n",
        "    \n",
        "    # Create numpy arrays that contain the data for the sparse matrix.\n",
        "    row_id = np.array(x['id'])\n",
        "    col_id = np.array(x['feature_id'])\n",
        "    data = np.array(x['value'])\n",
        "    \n",
        "    width = x['id'].max() + 1\n",
        "    height = x['feature_id'].max() + 1\n",
        "    \n",
        "    # Create a sparse matrix.\n",
        "    mat = csr_matrix((data, (row_id, col_id)), shape=(width, height))\n",
        "    return mat, mapping"
      ],
      "execution_count": 5,
      "outputs": []
    },
    {
      "cell_type": "code",
      "metadata": {
        "colab": {
          "base_uri": "https://localhost:8080/"
        },
        "id": "J5CoCQIsLia5",
        "outputId": "f7366a01-c9c6-475b-94b6-29d115682064"
      },
      "source": [
        "%%time\n",
        "corpus, mapping = sframe_to_scipy(wiki, 'tf_idf')"
      ],
      "execution_count": 6,
      "outputs": [
        {
          "output_type": "stream",
          "text": [
            "CPU times: user 2min 17s, sys: 7.27 s, total: 2min 25s\n",
            "Wall time: 1min 43s\n"
          ],
          "name": "stdout"
        }
      ]
    },
    {
      "cell_type": "code",
      "metadata": {
        "colab": {
          "base_uri": "https://localhost:8080/"
        },
        "id": "RB9v3OvOLia6",
        "outputId": "49b4c4a5-de65-4c34-b500-b46032562eb2"
      },
      "source": [
        "assert corpus.shape == (59071, 547979)\n",
        "print('Check passed correctly!')"
      ],
      "execution_count": 7,
      "outputs": [
        {
          "output_type": "stream",
          "text": [
            "Check passed correctly!\n"
          ],
          "name": "stdout"
        }
      ]
    },
    {
      "cell_type": "markdown",
      "metadata": {
        "id": "s7sqn0BwLia6"
      },
      "source": [
        "## Train an LSH model"
      ]
    },
    {
      "cell_type": "markdown",
      "metadata": {
        "id": "ead1fBrKLia6"
      },
      "source": [
        "The idea behind LSH is to translate the sign of our tf-idf scores into a binary index (1 or 0) by using seeing if our score falls above or below a randomly defined line. This <a href=\"http://ethen8181.github.io/machine-learning/recsys/content_based/lsh_text.html\">link</a> is helpful for understanding LSH and our code in more detail.\n",
        "\n",
        "\n",
        "LSH performs an efficient neighbor search by randomly partitioning all reference data points into different bins. Today we will build a popular variant of LSH known as <strong>random binary projection</strong>, which approximates cosine distance. There are other variants we could use for other choices of distance metrics.\n",
        "\n",
        "The first step is to generate a collection of random vectors from the standard Gaussian distribution."
      ]
    },
    {
      "cell_type": "code",
      "metadata": {
        "id": "T3-wg2YZLia6"
      },
      "source": [
        "def generate_random_vectors(dim, n_vectors):\n",
        "    return np.random.randn(dim, n_vectors)"
      ],
      "execution_count": 8,
      "outputs": []
    },
    {
      "cell_type": "markdown",
      "metadata": {
        "id": "4_fBK9udLia6"
      },
      "source": [
        "To visualize these Gaussian random vectors, let's look at an example in low-dimensions.  Below, we generate 3 random vectors each of dimension 5."
      ]
    },
    {
      "cell_type": "code",
      "metadata": {
        "colab": {
          "base_uri": "https://localhost:8080/"
        },
        "id": "Wb2-x1PsLia6",
        "outputId": "a38fafa5-1e56-433f-89f8-d291fe29c1f2"
      },
      "source": [
        "# Generate 3 random vectors of dimension 5, arranged into a single 5 x 3 matrix.\n",
        "generate_random_vectors(n_vectors=3, dim=5)"
      ],
      "execution_count": 9,
      "outputs": [
        {
          "output_type": "execute_result",
          "data": {
            "text/plain": [
              "array([[-0.27710121,  1.35970168,  1.36436532],\n",
              "       [-1.35902947, -1.00064051, -0.61173863],\n",
              "       [-0.38397011,  1.0977702 ,  0.32194739],\n",
              "       [ 1.61281952, -0.70516509, -0.75311681],\n",
              "       [-0.69175786,  1.60334426,  0.16187127]])"
            ]
          },
          "metadata": {},
          "execution_count": 9
        }
      ]
    },
    {
      "cell_type": "markdown",
      "metadata": {
        "id": "Zi1CzolwLia7"
      },
      "source": [
        "We now generate random vectors of the same dimensionality as our vocubulary size (547979).  Each vector can be used to compute one bit in the bin encoding.  We generate 16 vectors, leading to a 16-bit encoding of the bin index for each document."
      ]
    },
    {
      "cell_type": "code",
      "metadata": {
        "colab": {
          "base_uri": "https://localhost:8080/"
        },
        "id": "5y8UDzhvLia7",
        "outputId": "d0cc8872-03fa-408b-c0ea-41b60e029cb4"
      },
      "source": [
        "# Generate 16 random vectors of dimension 547979\n",
        "np.random.seed(0)\n",
        "n_vectors = 16\n",
        "random_vectors = generate_random_vectors(corpus.shape[1], n_vectors)\n",
        "random_vectors.shape"
      ],
      "execution_count": 10,
      "outputs": [
        {
          "output_type": "execute_result",
          "data": {
            "text/plain": [
              "(547979, 16)"
            ]
          },
          "metadata": {},
          "execution_count": 10
        }
      ]
    },
    {
      "cell_type": "markdown",
      "metadata": {
        "id": "NrigvyEyLia7"
      },
      "source": [
        "Next, we partition data points into bins. Instead of using explicit loops, we'd like to utilize matrix operations for greater efficiency. Let's walk through the construction step by step.\n",
        "\n",
        "We'd like to decide which bin document 0 should go. Since 16 random vectors were generated in the previous cell, we have 16 bits to represent the bin index. The first bit is given by the sign of the dot product between the first random vector and the document's TF-IDF vector."
      ]
    },
    {
      "cell_type": "code",
      "metadata": {
        "colab": {
          "base_uri": "https://localhost:8080/"
        },
        "id": "MOLYPKY9Lia8",
        "outputId": "93eda573-86e1-4f28-cb9e-236cab21bb70"
      },
      "source": [
        "sample = corpus[0] # vector of tf-idf values for document 0\n",
        "bin_indices_bits = sample.dot(random_vectors[:,0]) >= 0\n",
        "bin_indices_bits"
      ],
      "execution_count": 11,
      "outputs": [
        {
          "output_type": "execute_result",
          "data": {
            "text/plain": [
              "array([ True])"
            ]
          },
          "metadata": {},
          "execution_count": 11
        }
      ]
    },
    {
      "cell_type": "markdown",
      "metadata": {
        "id": "_-D_KaQXLia8"
      },
      "source": [
        "Similarly, the second bit is computed as the sign of the dot product between the second random vector and the document vector."
      ]
    },
    {
      "cell_type": "code",
      "metadata": {
        "colab": {
          "base_uri": "https://localhost:8080/"
        },
        "id": "_1ylPkzFLia8",
        "outputId": "8ef2d072-de94-45bb-dc7e-63acc3f886ec"
      },
      "source": [
        "sample.dot(random_vectors[:, 1]) >= 0 # True if positive sign; False if negative sign"
      ],
      "execution_count": 12,
      "outputs": [
        {
          "output_type": "execute_result",
          "data": {
            "text/plain": [
              "array([False])"
            ]
          },
          "metadata": {},
          "execution_count": 12
        }
      ]
    },
    {
      "cell_type": "markdown",
      "metadata": {
        "id": "YzW7Pb3-Lia8"
      },
      "source": [
        "We can compute all of the bin index bits at once as follows. Note the absence of the explicit `for` loop over the 16 vectors. Matrix operations let us batch dot-product computation in a highly efficent manner, unlike the `for` loop construction. Given the relative inefficiency of loops in Python, the advantage of matrix operations is even greater."
      ]
    },
    {
      "cell_type": "code",
      "metadata": {
        "colab": {
          "base_uri": "https://localhost:8080/"
        },
        "id": "Nj8zsA5kLia8",
        "outputId": "cb05295d-8a82-4571-df20-ffc4c0a277ba"
      },
      "source": [
        "sample.dot(random_vectors) >= 0 # should return an array of 16 True/False bits"
      ],
      "execution_count": 13,
      "outputs": [
        {
          "output_type": "execute_result",
          "data": {
            "text/plain": [
              "array([[ True, False, False, False,  True, False,  True, False,  True,\n",
              "         True,  True, False,  True,  True, False,  True]])"
            ]
          },
          "metadata": {},
          "execution_count": 13
        }
      ]
    },
    {
      "cell_type": "code",
      "metadata": {
        "colab": {
          "base_uri": "https://localhost:8080/"
        },
        "id": "P_2LMvq7Lia8",
        "outputId": "81ac6046-3baf-456f-b65e-d6deecfca67d"
      },
      "source": [
        "np.array(sample.dot(random_vectors) >= 0, dtype=int) # display index bits in 0/1's"
      ],
      "execution_count": 14,
      "outputs": [
        {
          "output_type": "execute_result",
          "data": {
            "text/plain": [
              "array([[1, 0, 0, 0, 1, 0, 1, 0, 1, 1, 1, 0, 1, 1, 0, 1]])"
            ]
          },
          "metadata": {},
          "execution_count": 14
        }
      ]
    },
    {
      "cell_type": "markdown",
      "metadata": {
        "id": "l0U6sISLLia8"
      },
      "source": [
        "All documents that obtain exactly this vector will be assigned to the same bin. We'd like to repeat the identical operation on all documents in the Wikipedia dataset and compute the corresponding bin indices. Again, we use matrix operations  so that no explicit loop is needed."
      ]
    },
    {
      "cell_type": "code",
      "metadata": {
        "colab": {
          "base_uri": "https://localhost:8080/"
        },
        "id": "FlMl3HhYLia9",
        "outputId": "0f7b762c-01c9-437a-cab5-fa9fbd578759"
      },
      "source": [
        "corpus[0:2].dot(random_vectors) >= 0 # compute bit indices of first two documents"
      ],
      "execution_count": 15,
      "outputs": [
        {
          "output_type": "execute_result",
          "data": {
            "text/plain": [
              "array([[ True, False, False, False,  True, False,  True, False,  True,\n",
              "         True,  True, False,  True,  True, False,  True],\n",
              "       [False, False, False, False,  True, False, False, False,  True,\n",
              "         True,  True, False, False,  True, False,  True]])"
            ]
          },
          "metadata": {},
          "execution_count": 15
        }
      ]
    },
    {
      "cell_type": "code",
      "metadata": {
        "colab": {
          "base_uri": "https://localhost:8080/"
        },
        "id": "gUYeChpXLia9",
        "outputId": "5d8f4c68-76a3-4425-f314-34f6371f426f"
      },
      "source": [
        "corpus.dot(random_vectors) >= 0 # compute bit indices of ALL documents"
      ],
      "execution_count": 16,
      "outputs": [
        {
          "output_type": "execute_result",
          "data": {
            "text/plain": [
              "array([[ True, False, False, ...,  True, False,  True],\n",
              "       [False, False, False, ...,  True, False,  True],\n",
              "       [ True,  True,  True, ...,  True,  True,  True],\n",
              "       ...,\n",
              "       [False, False, False, ..., False, False,  True],\n",
              "       [ True,  True, False, ...,  True,  True, False],\n",
              "       [ True,  True,  True, ...,  True, False,  True]])"
            ]
          },
          "metadata": {},
          "execution_count": 16
        }
      ]
    },
    {
      "cell_type": "markdown",
      "metadata": {
        "id": "CdEP_uO8Lia9"
      },
      "source": [
        "We're almost done! To make it convenient to refer to individual bins, we convert each binary bin index into a single integer: \n",
        "```\n",
        "Bin index                      integer\n",
        "[0,0,0,0,0,0,0,0,0,0,0,0]   => 0\n",
        "[0,0,0,0,0,0,0,0,0,0,0,1]   => 1\n",
        "[0,0,0,0,0,0,0,0,0,0,1,0]   => 2\n",
        "[0,0,0,0,0,0,0,0,0,0,1,1]   => 3\n",
        "...\n",
        "[1,1,1,1,1,1,1,1,1,1,0,0]   => 65532\n",
        "[1,1,1,1,1,1,1,1,1,1,0,1]   => 65533\n",
        "[1,1,1,1,1,1,1,1,1,1,1,0]   => 65534\n",
        "[1,1,1,1,1,1,1,1,1,1,1,1]   => 65535 (= 2^16-1)\n",
        "```\n",
        "By the [rules of binary number representation](https://en.wikipedia.org/wiki/Binary_number#Decimal), we just need to compute the dot product between the document vector and the vector consisting of powers of 2:"
      ]
    },
    {
      "cell_type": "code",
      "metadata": {
        "colab": {
          "base_uri": "https://localhost:8080/"
        },
        "id": "KNjWDw1ULia9",
        "outputId": "0fbaafb2-39eb-4c8f-b4f7-11cac45cb2d7"
      },
      "source": [
        "index_bits = (sample.dot(random_vectors) >= 0)\n",
        "powers_of_two = (1 << np.arange(15, -1, -1))\n",
        "print(index_bits)\n",
        "print(powers_of_two)\n",
        "print(index_bits.dot(powers_of_two))"
      ],
      "execution_count": 17,
      "outputs": [
        {
          "output_type": "stream",
          "text": [
            "[[ True False False False  True False  True False  True  True  True False\n",
            "   True  True False  True]]\n",
            "[32768 16384  8192  4096  2048  1024   512   256   128    64    32    16\n",
            "     8     4     2     1]\n",
            "[35565]\n"
          ],
          "name": "stdout"
        }
      ]
    },
    {
      "cell_type": "markdown",
      "metadata": {
        "id": "JnF1iQr9Lia9"
      },
      "source": [
        "Since it's the dot product again, we batch it with a matrix operation:"
      ]
    },
    {
      "cell_type": "code",
      "metadata": {
        "colab": {
          "base_uri": "https://localhost:8080/"
        },
        "id": "TPefw1MyLia9",
        "outputId": "10d33526-157e-48f4-9299-5c1ab7986fed"
      },
      "source": [
        "index_bits = sample.dot(random_vectors) >= 0\n",
        "index_bits.dot(powers_of_two)"
      ],
      "execution_count": 18,
      "outputs": [
        {
          "output_type": "execute_result",
          "data": {
            "text/plain": [
              "array([35565])"
            ]
          },
          "metadata": {},
          "execution_count": 18
        }
      ]
    },
    {
      "cell_type": "markdown",
      "metadata": {
        "id": "tXo034N5Lia9"
      },
      "source": [
        "This array gives us the integer index of the bins for all documents.\n",
        "\n",
        "Now we are ready to complete the following function. Given the integer bin indices for the documents, you should compile a list of document IDs that belong to each bin. Since a list is to be maintained for each unique bin index, a dictionary of lists is used.\n",
        "\n",
        "1. Compute the integer bin indices. This step is already completed.\n",
        "2. For each document in the dataset, do the following:\n",
        "   * Get the integer bin index for the document.\n",
        "   * Fetch the list of document ids associated with the bin; if no list yet exists for this bin, assign the bin an empty list.\n",
        "   * Add the document id to the end of the list.\n"
      ]
    },
    {
      "cell_type": "code",
      "metadata": {
        "id": "dd2vOCfbLia9"
      },
      "source": [
        "from collections import defaultdict \n",
        "\n",
        "def train_lsh(data, n_vectors, seed=None):    \n",
        "    if seed is not None:\n",
        "        np.random.seed(seed)\n",
        "\n",
        "    dim = data.shape[1]\n",
        "    random_vectors = generate_random_vectors(dim, n_vectors)  \n",
        "\n",
        "    # Partition data points into bins,\n",
        "    # and encode bin index bits into integers\n",
        "    bin_indices_bits = data.dot(random_vectors) >= 0\n",
        "    powers_of_two = 1 << np.arange(n_vectors - 1, -1, step=-1)\n",
        "    bin_indices = bin_indices_bits.dot(powers_of_two)\n",
        "\n",
        "    # Update `table` so that `table[i]` is the list of document ids with bin index equal to i\n",
        "    table = defaultdict(list)\n",
        "    for idx, bin_index in enumerate(bin_indices):\n",
        "        # Fetch the list of document ids associated with the bin and add the document id to the end.\n",
        "        # data_index: document ids\n",
        "        # append() will add a list of document ids to table dict() with key as bin_index\n",
        "        table[bin_index].append(idx)\n",
        "    # Note that we're storing the bin_indices here\n",
        "    # so we can do some ad-hoc checking with it,\n",
        "    # this isn't actually required\n",
        "    model = {'data': data,\n",
        "             'table': table,\n",
        "             'random_vectors': random_vectors,\n",
        "             'bin_indices': bin_indices,\n",
        "             'bin_indices_bits': bin_indices_bits}\n",
        "    return model"
      ],
      "execution_count": 19,
      "outputs": []
    },
    {
      "cell_type": "markdown",
      "metadata": {
        "id": "huCyjVskLia-"
      },
      "source": [
        "**Checkpoint**. "
      ]
    },
    {
      "cell_type": "code",
      "metadata": {
        "id": "NcIdOjG8Lia-"
      },
      "source": [
        "def compare_bits(model, id_1, id_2):\n",
        "    bits1 = model['bin_indices_bits'][id_1]\n",
        "    bits2 = model['bin_indices_bits'][id_2]\n",
        "    print('Number of agreed bits: ', np.sum(bits1 == bits2))\n",
        "    return np.sum(bits1 == bits2)"
      ],
      "execution_count": 20,
      "outputs": []
    },
    {
      "cell_type": "code",
      "metadata": {
        "colab": {
          "base_uri": "https://localhost:8080/"
        },
        "id": "XWtav_HMLia-",
        "outputId": "ab2ae5c6-cdb0-4e55-82b8-e0729718d548"
      },
      "source": [
        "model = train_lsh(corpus, 16, seed=475)\n",
        "obama_id = wiki[wiki['name'] == 'Barack Obama']['id'][0]\n",
        "biden_id = wiki[wiki['name'] == 'Joe Biden']['id'][0]\n",
        "similariy = compare_bits(model, obama_id, biden_id)"
      ],
      "execution_count": 21,
      "outputs": [
        {
          "output_type": "stream",
          "text": [
            "Number of agreed bits:  15\n"
          ],
          "name": "stdout"
        }
      ]
    },
    {
      "cell_type": "markdown",
      "metadata": {
        "id": "lKp0PhuLLia-"
      },
      "source": [
        "**Note.** We will be using the model trained here in the following sections, unless otherwise indicated."
      ]
    },
    {
      "cell_type": "markdown",
      "metadata": {
        "id": "cYLVL74CLia-"
      },
      "source": [
        "## Inspect bins"
      ]
    },
    {
      "cell_type": "markdown",
      "metadata": {
        "id": "iYyOwHfDLia-"
      },
      "source": [
        "After generating our LSH model, let's examine the generated bins to get a deeper understanding of them. Here, we will look at these similar products' bins to see if the result matches intuition. Remember the idea behind LSH is that similar data points will tend to fall into nearby bins."
      ]
    },
    {
      "cell_type": "code",
      "metadata": {
        "id": "-T9tqbqHLia_"
      },
      "source": [
        "# This function will help us get similar items, given the id\n",
        "def get_similarity_items(X_tfidf, item_id, topn=5):\n",
        "    \"\"\"\n",
        "    Get the top similar items for a given item id.\n",
        "    The similarity measure here is based on cosine distance.\n",
        "    \"\"\"\n",
        "    query = X_tfidf[item_id]\n",
        "    scores = X_tfidf.dot(query.T).toarray().ravel()\n",
        "    best = np.argpartition(scores, -topn)[-topn:]\n",
        "    similar_items = sorted(zip(best, scores[best]), key=lambda x: -x[1])\n",
        "    similar_item_ids = [similar_item for similar_item, _ in similar_items]\n",
        "    print(\"Similar items to id: {}\".format(item_id))\n",
        "    for _id in similar_item_ids:\n",
        "        print(wiki[_id]['name'])\n",
        "    print('\\n')\n",
        "    return similar_item_ids"
      ],
      "execution_count": 22,
      "outputs": []
    },
    {
      "cell_type": "markdown",
      "metadata": {
        "id": "dSW0cfZzLia_"
      },
      "source": [
        "Let us look at some documents and see which bins they fall into."
      ]
    },
    {
      "cell_type": "code",
      "metadata": {
        "id": "UU78Oe3ALia_",
        "colab": {
          "base_uri": "https://localhost:8080/"
        },
        "outputId": "08e44266-5738-4611-964d-430807126b27"
      },
      "source": [
        "obama_id = wiki[wiki['name'] == 'Barack Obama']['id'][0]\n",
        "obama_id"
      ],
      "execution_count": 23,
      "outputs": [
        {
          "output_type": "execute_result",
          "data": {
            "text/plain": [
              "35817"
            ]
          },
          "metadata": {},
          "execution_count": 23
        }
      ]
    },
    {
      "cell_type": "markdown",
      "metadata": {
        "id": "NS3RgggBLia_"
      },
      "source": [
        "**Quiz Question**. What is the document `id` of Barack Obama's article?\n",
        "\n",
        "**Quiz Question**. Which bin contains Barack Obama's article? Enter its integer index."
      ]
    },
    {
      "cell_type": "code",
      "metadata": {
        "id": "UPNOMazGLia_",
        "colab": {
          "base_uri": "https://localhost:8080/"
        },
        "outputId": "8c89d60a-f34a-4c86-bc68-28b6b4f8085e"
      },
      "source": [
        "model['bin_indices'][obama_id]"
      ],
      "execution_count": 24,
      "outputs": [
        {
          "output_type": "execute_result",
          "data": {
            "text/plain": [
              "38448"
            ]
          },
          "metadata": {},
          "execution_count": 24
        }
      ]
    },
    {
      "cell_type": "markdown",
      "metadata": {
        "id": "976F58JALia_"
      },
      "source": [
        "Recall from the previous assignment that Joe Biden was a close neighbor of Barack Obama."
      ]
    },
    {
      "cell_type": "code",
      "metadata": {
        "id": "Qh7AODPuLia_",
        "colab": {
          "base_uri": "https://localhost:8080/"
        },
        "outputId": "2e3ec7c1-987e-4062-965d-ea79ede094ef"
      },
      "source": [
        "biden_id = wiki[wiki['name'] == 'Joe Biden']['id'][0]\n",
        "biden_id"
      ],
      "execution_count": 25,
      "outputs": [
        {
          "output_type": "execute_result",
          "data": {
            "text/plain": [
              "24478"
            ]
          },
          "metadata": {},
          "execution_count": 25
        }
      ]
    },
    {
      "cell_type": "markdown",
      "metadata": {
        "id": "zaNtKOggLia_"
      },
      "source": [
        "**Quiz Question**. Examine the bit representations of the bins containing Barack Obama and Joe Biden. In how many places do they agree?\n",
        "\n",
        "1. 16 out of 16 places (Barack Obama and Joe Biden fall into the same bin)\n",
        "2. 15 out of 16 places\n",
        "3. 13 out of 16 places\n",
        "4. 11 out of 16 places\n",
        "5. 9 out of 16 places"
      ]
    },
    {
      "cell_type": "code",
      "metadata": {
        "colab": {
          "base_uri": "https://localhost:8080/"
        },
        "id": "HKfiIh9rE4d7",
        "outputId": "f1489164-1bbb-4b2c-b3fd-a443935ba748"
      },
      "source": [
        "compare_bits(model, obama_id, biden_id)"
      ],
      "execution_count": 26,
      "outputs": [
        {
          "output_type": "stream",
          "text": [
            "Number of agreed bits:  15\n"
          ],
          "name": "stdout"
        },
        {
          "output_type": "execute_result",
          "data": {
            "text/plain": [
              "15"
            ]
          },
          "metadata": {},
          "execution_count": 26
        }
      ]
    },
    {
      "cell_type": "markdown",
      "metadata": {
        "id": "kF6EeiR8LibA"
      },
      "source": [
        "Compare the result with a former British diplomat"
      ]
    },
    {
      "cell_type": "code",
      "metadata": {
        "id": "3vi0tQ5jLibA",
        "colab": {
          "base_uri": "https://localhost:8080/"
        },
        "outputId": "7e65cc0e-1652-44a2-ff61-d064b087c626"
      },
      "source": [
        "jones_id = wiki[wiki['name']=='Wynn Normington Hugh-Jones']['id'][0]\n",
        "compare_bits(model, obama_id, jones_id)"
      ],
      "execution_count": 27,
      "outputs": [
        {
          "output_type": "stream",
          "text": [
            "Number of agreed bits:  8\n"
          ],
          "name": "stdout"
        },
        {
          "output_type": "execute_result",
          "data": {
            "text/plain": [
              "8"
            ]
          },
          "metadata": {},
          "execution_count": 27
        }
      ]
    },
    {
      "cell_type": "markdown",
      "metadata": {
        "id": "jKtEpAVVLibA"
      },
      "source": [
        "How about the documents in the same bin as Barack Obama? Are they necessarily more similar to Obama than Biden?  Let's look at which documents are in the same bin as the Barack Obama article."
      ]
    },
    {
      "cell_type": "code",
      "metadata": {
        "id": "8NywPnjILibA",
        "colab": {
          "base_uri": "https://localhost:8080/"
        },
        "outputId": "c9a4cb00-6ea2-4b52-9ee4-56c88d2200c3"
      },
      "source": [
        "model['table'][model['bin_indices'][35817]]"
      ],
      "execution_count": 28,
      "outputs": [
        {
          "output_type": "execute_result",
          "data": {
            "text/plain": [
              "[35817, 54743]"
            ]
          },
          "metadata": {},
          "execution_count": 28
        }
      ]
    },
    {
      "cell_type": "markdown",
      "metadata": {
        "id": "LNkvlTQBLibA"
      },
      "source": [
        "There is one more document in the same bin. Which document is it?"
      ]
    },
    {
      "cell_type": "code",
      "metadata": {
        "id": "0KOSkJPfLibA",
        "colab": {
          "base_uri": "https://localhost:8080/",
          "height": 93
        },
        "outputId": "c4789e28-c1e7-4862-e25c-3800cb9ec5af"
      },
      "source": [
        "doc_ids = list(model['table'][model['bin_indices'][35817]])\n",
        "doc_ids.remove(35817) # display documents other than Obama\n",
        "\n",
        "docs = wiki.filter_by(values=doc_ids, column_name='id') # filter by id column\n",
        "docs"
      ],
      "execution_count": 29,
      "outputs": [
        {
          "output_type": "execute_result",
          "data": {
            "text/html": [
              "<div style=\"max-height:1000px;max-width:1500px;overflow:auto;\"><table frame=\"box\" rules=\"cols\">\n",
              "    <tr>\n",
              "        <th style=\"padding-left: 1em; padding-right: 1em; text-align: center\">id</th>\n",
              "        <th style=\"padding-left: 1em; padding-right: 1em; text-align: center\">URI</th>\n",
              "        <th style=\"padding-left: 1em; padding-right: 1em; text-align: center\">name</th>\n",
              "        <th style=\"padding-left: 1em; padding-right: 1em; text-align: center\">text</th>\n",
              "        <th style=\"padding-left: 1em; padding-right: 1em; text-align: center\">tf_idf</th>\n",
              "    </tr>\n",
              "    <tr>\n",
              "        <td style=\"padding-left: 1em; padding-right: 1em; text-align: center; vertical-align: top\">54743</td>\n",
              "        <td style=\"padding-left: 1em; padding-right: 1em; text-align: center; vertical-align: top\">&lt;http://dbpedia.org/resou<br>rce/Radovan_%C5%BDerjav&gt; ...</td>\n",
              "        <td style=\"padding-left: 1em; padding-right: 1em; text-align: center; vertical-align: top\">Radovan %C5%BDerjav</td>\n",
              "        <td style=\"padding-left: 1em; padding-right: 1em; text-align: center; vertical-align: top\">radovan erjav born 2<br>december 1968 is a ...</td>\n",
              "        <td style=\"padding-left: 1em; padding-right: 1em; text-align: center; vertical-align: top\">{&#x27;hungarian&#x27;:<br>5.299520032885375, ...</td>\n",
              "    </tr>\n",
              "</table>\n",
              "[1 rows x 5 columns]<br/>\n",
              "</div>"
            ],
            "text/plain": [
              "Columns:\n",
              "\tid\tint\n",
              "\tURI\tstr\n",
              "\tname\tstr\n",
              "\ttext\tstr\n",
              "\ttf_idf\tdict\n",
              "\n",
              "Rows: 1\n",
              "\n",
              "Data:\n",
              "+-------+-------------------------------+---------------------+\n",
              "|   id  |              URI              |         name        |\n",
              "+-------+-------------------------------+---------------------+\n",
              "| 54743 | <http://dbpedia.org/resour... | Radovan %C5%BDerjav |\n",
              "+-------+-------------------------------+---------------------+\n",
              "+-------------------------------+-------------------------------+\n",
              "|              text             |             tf_idf            |\n",
              "+-------------------------------+-------------------------------+\n",
              "| radovan erjav born 2 decem... | {'hungarian': 5.2995200328... |\n",
              "+-------------------------------+-------------------------------+\n",
              "[1 rows x 5 columns]"
            ]
          },
          "metadata": {},
          "execution_count": 29
        }
      ]
    },
    {
      "cell_type": "code",
      "metadata": {
        "id": "1zsnNg9xLibA",
        "colab": {
          "base_uri": "https://localhost:8080/"
        },
        "outputId": "a1e8df6b-91d1-44d2-842a-11365b16004d"
      },
      "source": [
        "res = compare_bits(model, obama_id, docs[0]['id']), compare_bits(model, obama_id, biden_id)"
      ],
      "execution_count": 30,
      "outputs": [
        {
          "output_type": "stream",
          "text": [
            "Number of agreed bits:  16\n",
            "Number of agreed bits:  15\n"
          ],
          "name": "stdout"
        }
      ]
    },
    {
      "cell_type": "markdown",
      "metadata": {
        "id": "az-TydymLibA"
      },
      "source": [
        "**In summary**, similar data points will in general _tend to_ fall into _nearby_ bins, but that's all we can say about LSH. In a high-dimensional space such as text features, we often get unlucky with our selection of only a few random vectors such that dissimilar data points go into the same bin while similar data points fall into different bins. **Given a query document, we must consider all documents in the nearby bins and sort them according to their actual distances from the query.**"
      ]
    },
    {
      "cell_type": "markdown",
      "metadata": {
        "id": "tnyUM3ACLibA"
      },
      "source": [
        "## Query the LSH model"
      ]
    },
    {
      "cell_type": "markdown",
      "metadata": {
        "id": "1i7LyjijLibB"
      },
      "source": [
        "Let us first implement the logic for searching nearby neighbors, which goes like this:\n",
        "```\n",
        "1. Let L be the bit representation of the bin that contains the query documents.\n",
        "2. Consider all documents in bin L.\n",
        "3. Consider documents in the bins whose bit representation differs from L by 1 bit.\n",
        "4. Consider documents in the bins whose bit representation differs from L by 2 bits.\n",
        "...\n",
        "```"
      ]
    },
    {
      "cell_type": "markdown",
      "metadata": {
        "id": "R8Ee4Ui6LibB"
      },
      "source": [
        "To obtain candidate bins that differ from the query bin by some number of bits, we use `itertools.combinations`, which produces all possible subsets of a given list. See [this documentation](https://docs.python.org/3/library/itertools.html#itertools.combinations) for details.\n",
        "```\n",
        "1. Decide on the search radius r. This will determine the number of different bits between the two vectors.\n",
        "2. For each subset (n_1, n_2, ..., n_r) of the list [0, 1, 2, ..., num_vector-1], do the following:\n",
        "   * Flip the bits (n_1, n_2, ..., n_r) of the query bin to produce a new bit vector.\n",
        "   * Fetch the list of documents belonging to the bin indexed by the new bit vector.\n",
        "   * Add those documents to the candidate set.\n",
        "```\n",
        "\n",
        "Each line of output from the following cell is a 3-tuple indicating where the candidate bin would differ from the query bin. For instance,\n",
        "```\n",
        "(0, 1, 3)\n",
        "```\n",
        "indicates that the candiate bin differs from the query bin in first, second, and fourth bits."
      ]
    },
    {
      "cell_type": "code",
      "metadata": {
        "id": "DbtriDiMLibB"
      },
      "source": [
        "from itertools import combinations"
      ],
      "execution_count": 31,
      "outputs": []
    },
    {
      "cell_type": "code",
      "metadata": {
        "scrolled": true,
        "id": "QAgrTJ_xLibB"
      },
      "source": [
        "num_vector = 16\n",
        "search_radius = 3\n",
        "\n",
        "for diff in combinations(range(num_vector), search_radius):\n",
        "    print(diff)"
      ],
      "execution_count": null,
      "outputs": []
    },
    {
      "cell_type": "markdown",
      "metadata": {
        "id": "ilpm28heLibB"
      },
      "source": [
        "With this output in mind, implement the logic for nearby bin search:"
      ]
    },
    {
      "cell_type": "code",
      "metadata": {
        "id": "t8zn9Z_SLibB"
      },
      "source": [
        "def search_nearby_bins(query_bin_bits, table, search_radius=2, initial_candidates=set()):\n",
        "    \"\"\"\n",
        "    For a given query vector and trained LSH model, return all candidate neighbors for\n",
        "    the query among all bins within the given search radius.\n",
        "    \n",
        "    Example usage\n",
        "    -------------\n",
        "    >>> model = train_lsh(corpus, num_vector=16, seed=143)\n",
        "    >>> q = model['bin_index_bits'][0]  # vector for the first document\n",
        "  \n",
        "    >>> candidates = search_nearby_bins(q, model['table'])\n",
        "    \"\"\"\n",
        "    num_vector = len(query_bin_bits)\n",
        "    powers_of_two = 1 << np.arange(num_vector-1, -1, -1)\n",
        "    \n",
        "    # Allow the user to provide an initial set of candidates.\n",
        "    candidate_set = copy(initial_candidates)\n",
        "    \n",
        "    for different_bits in combinations(range(num_vector), search_radius):       \n",
        "        # Flip the bits (n_1,n_2,...,n_r) of the query bin to produce a new bit vector.\n",
        "        ## Hint: you can iterate over a tuple like a list\n",
        "        alternate_bits = copy(query_bin_bits)\n",
        "        for i in different_bits:\n",
        "            alternate_bits[i] = int (not alternate_bits[i])\n",
        "        # Convert the new bit vector to an integer index\n",
        "        nearby_bin = alternate_bits.dot(powers_of_two)\n",
        "        \n",
        "        # Fetch the list of documents belonging to the bin indexed by the new bit vector.\n",
        "        # Then add those documents to candidate_set\n",
        "        # Make sure that the bin exists in the table!\n",
        "        # Hint: update() method for sets lets you add an entire list to the set\n",
        "        if nearby_bin in table:\n",
        "            more_docs = table[nearby_bin] # Get all document_ids of the bin\n",
        "            candidate_set.update(more_docs) # Update candidate_set with the documents in this bin.\n",
        "            \n",
        "    return candidate_set"
      ],
      "execution_count": 33,
      "outputs": []
    },
    {
      "cell_type": "markdown",
      "metadata": {
        "id": "pTQrzWhMLibB"
      },
      "source": [
        "**Checkpoint**. Running the function with `search_radius=0` should yield the list of documents belonging to the same bin as the query."
      ]
    },
    {
      "cell_type": "code",
      "metadata": {
        "id": "RZrVg4RHLibC",
        "colab": {
          "base_uri": "https://localhost:8080/"
        },
        "outputId": "00bffbda-04b5-4358-d890-dffcc169cfe4"
      },
      "source": [
        "obama_bin_index = model['bin_indices_bits'][35817] # bin index of Barack Obama\n",
        "candidate_set = search_nearby_bins(obama_bin_index, model['table'], search_radius=0)\n",
        "if candidate_set == set({35817, 54743}):\n",
        "    print('Passed test')\n",
        "else:\n",
        "    print('Check your code')\n",
        "print('List of documents in the same bin as Obama: {}'.format(candidate_set))"
      ],
      "execution_count": 34,
      "outputs": [
        {
          "output_type": "stream",
          "text": [
            "Passed test\n",
            "List of documents in the same bin as Obama: {35817, 54743}\n"
          ],
          "name": "stdout"
        }
      ]
    },
    {
      "cell_type": "markdown",
      "metadata": {
        "id": "1EeJT92GLibC"
      },
      "source": [
        "**Checkpoint**. Running the function with `search_radius=1` adds more documents to the fore."
      ]
    },
    {
      "cell_type": "code",
      "metadata": {
        "id": "RPyFnJZrLibC",
        "colab": {
          "base_uri": "https://localhost:8080/"
        },
        "outputId": "3f10d907-ee53-41e4-c469-a42fd4b4ed35"
      },
      "source": [
        "candidate_set = search_nearby_bins(obama_bin_index, model['table'], search_radius=1, initial_candidates=candidate_set)\n",
        "if candidate_set == set({42243, 28804, 1810, 48919, 24478, 31010, 7331, 23716, 51108, 48040, 36266, 33200, 25023, 23617, 54743, 34910, 35817, 34159, 14451, 23926, 39032, 12028, 43775}):\n",
        "    print('Passed test')\n",
        "else:\n",
        "    print('Check your code')\n",
        "print(candidate_set)"
      ],
      "execution_count": 35,
      "outputs": [
        {
          "output_type": "stream",
          "text": [
            "Passed test\n",
            "{42243, 28804, 1810, 48919, 24478, 31010, 7331, 23716, 51108, 48040, 36266, 33200, 25023, 23617, 54743, 34910, 35817, 34159, 14451, 23926, 39032, 12028, 43775}\n"
          ],
          "name": "stdout"
        }
      ]
    },
    {
      "cell_type": "markdown",
      "metadata": {
        "id": "tFu1QzfRLibC"
      },
      "source": [
        "**Note**. Don't be surprised if few of the candidates look similar to Obama. This is why we add as many candidates as our computational budget allows and sort them by their distance to the query."
      ]
    },
    {
      "cell_type": "markdown",
      "metadata": {
        "id": "iQD3CMyOLibC"
      },
      "source": [
        "Now we have a function that can return all the candidates from neighboring bins. Next we write a function to collect all candidates and compute their true distance to the query."
      ]
    },
    {
      "cell_type": "code",
      "metadata": {
        "scrolled": true,
        "id": "xPSFrU1FLibC"
      },
      "source": [
        "def query(vec, model, k, max_search_radius):\n",
        "  \n",
        "    data = model['data']\n",
        "    table = model['table']\n",
        "    random_vectors = model['random_vectors']\n",
        "    num_vector = random_vectors.shape[1]\n",
        "    \n",
        "    \n",
        "    # Compute bin index for the query vector, in bit representation.\n",
        "    bin_index_bits = (vec.dot(random_vectors) >= 0).flatten()\n",
        "    \n",
        "    # Search nearby bins and collect candidates\n",
        "    candidate_set = set()\n",
        "    for search_radius in range(max_search_radius+1):\n",
        "        candidate_set = search_nearby_bins(bin_index_bits, table, search_radius, initial_candidates=candidate_set)\n",
        "    \n",
        "    # Sort candidates by their true distances from the query\n",
        "    nearest_neighbors = turicreate.SFrame({'id':candidate_set})\n",
        "    candidates = data[np.array(list(candidate_set)),:]\n",
        "    nearest_neighbors['distance'] = pairwise_distances(candidates, vec, metric='cosine').flatten()\n",
        "    \n",
        "    return nearest_neighbors.topk('distance', k, reverse=True), len(candidate_set)"
      ],
      "execution_count": 36,
      "outputs": []
    },
    {
      "cell_type": "markdown",
      "metadata": {
        "id": "qNlPp1jULibC"
      },
      "source": [
        "Let's try it out with Obama:"
      ]
    },
    {
      "cell_type": "code",
      "metadata": {
        "id": "CHJeTcSsLibC",
        "colab": {
          "base_uri": "https://localhost:8080/"
        },
        "outputId": "04258cdb-ea5e-451b-c83a-f83f5ec6eb94"
      },
      "source": [
        "query(corpus[35817,:], model, k=10, max_search_radius=3)"
      ],
      "execution_count": 37,
      "outputs": [
        {
          "output_type": "execute_result",
          "data": {
            "text/plain": [
              "(Columns:\n",
              " \tid\tint\n",
              " \tdistance\tfloat\n",
              " \n",
              " Rows: 10\n",
              " \n",
              " Data:\n",
              " +-------+------------------------+\n",
              " |   id  |        distance        |\n",
              " +-------+------------------------+\n",
              " | 35817 | 1.1102230246251565e-16 |\n",
              " | 24478 |   0.703138676733575    |\n",
              " | 38376 |   0.7429819023278823   |\n",
              " |  4032 |   0.8145547486714284   |\n",
              " | 43155 |   0.8408390074837325   |\n",
              " | 20159 |   0.844036884280093    |\n",
              " | 11517 |   0.8483420107162964   |\n",
              " | 46332 |   0.8897020225435585   |\n",
              " | 22063 |   0.8946710479694914   |\n",
              " | 10437 |   0.9001571479475322   |\n",
              " +-------+------------------------+\n",
              " [10 rows x 2 columns], 771)"
            ]
          },
          "metadata": {},
          "execution_count": 37
        }
      ]
    },
    {
      "cell_type": "markdown",
      "metadata": {
        "id": "O2X8Ml9qLibC"
      },
      "source": [
        "To identify the documents, it's helpful to join this table with the Wikipedia table:"
      ]
    },
    {
      "cell_type": "code",
      "metadata": {
        "id": "fk1cEo5_LibC",
        "colab": {
          "base_uri": "https://localhost:8080/",
          "height": 249
        },
        "outputId": "656d6b29-7d1e-4dc3-d7b7-45ff45842f17"
      },
      "source": [
        "query(corpus[35817,:], model, k=10, max_search_radius=3)[0].join(wiki[['id', 'name']], on='id').sort('distance')"
      ],
      "execution_count": 38,
      "outputs": [
        {
          "output_type": "execute_result",
          "data": {
            "text/html": [
              "<div style=\"max-height:1000px;max-width:1500px;overflow:auto;\"><table frame=\"box\" rules=\"cols\">\n",
              "    <tr>\n",
              "        <th style=\"padding-left: 1em; padding-right: 1em; text-align: center\">id</th>\n",
              "        <th style=\"padding-left: 1em; padding-right: 1em; text-align: center\">distance</th>\n",
              "        <th style=\"padding-left: 1em; padding-right: 1em; text-align: center\">name</th>\n",
              "    </tr>\n",
              "    <tr>\n",
              "        <td style=\"padding-left: 1em; padding-right: 1em; text-align: center; vertical-align: top\">35817</td>\n",
              "        <td style=\"padding-left: 1em; padding-right: 1em; text-align: center; vertical-align: top\">1.1102230246251565e-16</td>\n",
              "        <td style=\"padding-left: 1em; padding-right: 1em; text-align: center; vertical-align: top\">Barack Obama</td>\n",
              "    </tr>\n",
              "    <tr>\n",
              "        <td style=\"padding-left: 1em; padding-right: 1em; text-align: center; vertical-align: top\">24478</td>\n",
              "        <td style=\"padding-left: 1em; padding-right: 1em; text-align: center; vertical-align: top\">0.703138676733575</td>\n",
              "        <td style=\"padding-left: 1em; padding-right: 1em; text-align: center; vertical-align: top\">Joe Biden</td>\n",
              "    </tr>\n",
              "    <tr>\n",
              "        <td style=\"padding-left: 1em; padding-right: 1em; text-align: center; vertical-align: top\">38376</td>\n",
              "        <td style=\"padding-left: 1em; padding-right: 1em; text-align: center; vertical-align: top\">0.7429819023278823</td>\n",
              "        <td style=\"padding-left: 1em; padding-right: 1em; text-align: center; vertical-align: top\">Samantha Power</td>\n",
              "    </tr>\n",
              "    <tr>\n",
              "        <td style=\"padding-left: 1em; padding-right: 1em; text-align: center; vertical-align: top\">4032</td>\n",
              "        <td style=\"padding-left: 1em; padding-right: 1em; text-align: center; vertical-align: top\">0.8145547486714284</td>\n",
              "        <td style=\"padding-left: 1em; padding-right: 1em; text-align: center; vertical-align: top\">Kenneth D. Thompson</td>\n",
              "    </tr>\n",
              "    <tr>\n",
              "        <td style=\"padding-left: 1em; padding-right: 1em; text-align: center; vertical-align: top\">43155</td>\n",
              "        <td style=\"padding-left: 1em; padding-right: 1em; text-align: center; vertical-align: top\">0.8408390074837325</td>\n",
              "        <td style=\"padding-left: 1em; padding-right: 1em; text-align: center; vertical-align: top\">Goodwin Liu</td>\n",
              "    </tr>\n",
              "    <tr>\n",
              "        <td style=\"padding-left: 1em; padding-right: 1em; text-align: center; vertical-align: top\">20159</td>\n",
              "        <td style=\"padding-left: 1em; padding-right: 1em; text-align: center; vertical-align: top\">0.844036884280093</td>\n",
              "        <td style=\"padding-left: 1em; padding-right: 1em; text-align: center; vertical-align: top\">Charlie Crist</td>\n",
              "    </tr>\n",
              "    <tr>\n",
              "        <td style=\"padding-left: 1em; padding-right: 1em; text-align: center; vertical-align: top\">11517</td>\n",
              "        <td style=\"padding-left: 1em; padding-right: 1em; text-align: center; vertical-align: top\">0.8483420107162964</td>\n",
              "        <td style=\"padding-left: 1em; padding-right: 1em; text-align: center; vertical-align: top\">Louis Susman</td>\n",
              "    </tr>\n",
              "    <tr>\n",
              "        <td style=\"padding-left: 1em; padding-right: 1em; text-align: center; vertical-align: top\">46332</td>\n",
              "        <td style=\"padding-left: 1em; padding-right: 1em; text-align: center; vertical-align: top\">0.8897020225435585</td>\n",
              "        <td style=\"padding-left: 1em; padding-right: 1em; text-align: center; vertical-align: top\">Tom Tancredo</td>\n",
              "    </tr>\n",
              "    <tr>\n",
              "        <td style=\"padding-left: 1em; padding-right: 1em; text-align: center; vertical-align: top\">22063</td>\n",
              "        <td style=\"padding-left: 1em; padding-right: 1em; text-align: center; vertical-align: top\">0.8946710479694914</td>\n",
              "        <td style=\"padding-left: 1em; padding-right: 1em; text-align: center; vertical-align: top\">Kathryn Troutman</td>\n",
              "    </tr>\n",
              "    <tr>\n",
              "        <td style=\"padding-left: 1em; padding-right: 1em; text-align: center; vertical-align: top\">10437</td>\n",
              "        <td style=\"padding-left: 1em; padding-right: 1em; text-align: center; vertical-align: top\">0.9001571479475322</td>\n",
              "        <td style=\"padding-left: 1em; padding-right: 1em; text-align: center; vertical-align: top\">David J. Hayes</td>\n",
              "    </tr>\n",
              "</table>\n",
              "[10 rows x 3 columns]<br/>\n",
              "</div>"
            ],
            "text/plain": [
              "Columns:\n",
              "\tid\tint\n",
              "\tdistance\tfloat\n",
              "\tname\tstr\n",
              "\n",
              "Rows: 10\n",
              "\n",
              "Data:\n",
              "+-------+------------------------+---------------------+\n",
              "|   id  |        distance        |         name        |\n",
              "+-------+------------------------+---------------------+\n",
              "| 35817 | 1.1102230246251565e-16 |     Barack Obama    |\n",
              "| 24478 |   0.703138676733575    |      Joe Biden      |\n",
              "| 38376 |   0.7429819023278823   |    Samantha Power   |\n",
              "|  4032 |   0.8145547486714284   | Kenneth D. Thompson |\n",
              "| 43155 |   0.8408390074837325   |     Goodwin Liu     |\n",
              "| 20159 |   0.844036884280093    |    Charlie Crist    |\n",
              "| 11517 |   0.8483420107162964   |     Louis Susman    |\n",
              "| 46332 |   0.8897020225435585   |     Tom Tancredo    |\n",
              "| 22063 |   0.8946710479694914   |   Kathryn Troutman  |\n",
              "| 10437 |   0.9001571479475322   |    David J. Hayes   |\n",
              "+-------+------------------------+---------------------+\n",
              "[10 rows x 3 columns]"
            ]
          },
          "metadata": {},
          "execution_count": 38
        }
      ]
    },
    {
      "cell_type": "markdown",
      "metadata": {
        "id": "_3CapgBsLibD"
      },
      "source": [
        "We have shown that we have a working LSH implementation!"
      ]
    },
    {
      "cell_type": "markdown",
      "metadata": {
        "id": "L8nWtPo4LibD"
      },
      "source": [
        "# Experimenting with your LSH implementation"
      ]
    },
    {
      "cell_type": "markdown",
      "metadata": {
        "id": "0vxZWWWSLibD"
      },
      "source": [
        "In the following sections we have implemented a few experiments so that you can gain intuition for how your LSH implementation behaves in different situations. This will help you understand the effect of searching nearby bins and the performance of LSH versus computing nearest neighbors using a brute force search."
      ]
    },
    {
      "cell_type": "markdown",
      "metadata": {
        "id": "o5jnK-LHLibD"
      },
      "source": [
        "## Effect of nearby bin search"
      ]
    },
    {
      "cell_type": "markdown",
      "metadata": {
        "id": "N7b0Tt6KLibD"
      },
      "source": [
        "How does nearby bin search affect the outcome of LSH? There are three variables that are affected by the search radius:\n",
        "* Number of candidate documents considered\n",
        "* Query time\n",
        "* Distance of approximate neighbors from the query"
      ]
    },
    {
      "cell_type": "markdown",
      "metadata": {
        "id": "RFFhpfSJLibD"
      },
      "source": [
        "Let us run LSH multiple times, each with different radii for nearby bin search. We will measure the three variables as discussed above."
      ]
    },
    {
      "cell_type": "code",
      "metadata": {
        "id": "R2I-FrJTLibD",
        "colab": {
          "base_uri": "https://localhost:8080/",
          "height": 127
        },
        "outputId": "9d52c1ef-4824-4965-8fba-4c495705405c"
      },
      "source": [
        "wiki[wiki['name']=='Barack Obama']"
      ],
      "execution_count": 39,
      "outputs": [
        {
          "output_type": "execute_result",
          "data": {
            "text/html": [
              "<div style=\"max-height:1000px;max-width:1500px;overflow:auto;\"><table frame=\"box\" rules=\"cols\">\n",
              "    <tr>\n",
              "        <th style=\"padding-left: 1em; padding-right: 1em; text-align: center\">id</th>\n",
              "        <th style=\"padding-left: 1em; padding-right: 1em; text-align: center\">URI</th>\n",
              "        <th style=\"padding-left: 1em; padding-right: 1em; text-align: center\">name</th>\n",
              "        <th style=\"padding-left: 1em; padding-right: 1em; text-align: center\">text</th>\n",
              "        <th style=\"padding-left: 1em; padding-right: 1em; text-align: center\">tf_idf</th>\n",
              "    </tr>\n",
              "    <tr>\n",
              "        <td style=\"padding-left: 1em; padding-right: 1em; text-align: center; vertical-align: top\">35817</td>\n",
              "        <td style=\"padding-left: 1em; padding-right: 1em; text-align: center; vertical-align: top\">&lt;http://dbpedia.org/resou<br>rce/Barack_Obama&gt; ...</td>\n",
              "        <td style=\"padding-left: 1em; padding-right: 1em; text-align: center; vertical-align: top\">Barack Obama</td>\n",
              "        <td style=\"padding-left: 1em; padding-right: 1em; text-align: center; vertical-align: top\">barack hussein obama ii<br>brk husen bm born august ...</td>\n",
              "        <td style=\"padding-left: 1em; padding-right: 1em; text-align: center; vertical-align: top\">{&#x27;normalize&#x27;:<br>10.293348208665249, ...</td>\n",
              "    </tr>\n",
              "</table>\n",
              "[? rows x 5 columns]<br/>Note: Only the head of the SFrame is printed. This SFrame is lazily evaluated.<br/>You can use sf.materialize() to force materialization.\n",
              "</div>"
            ],
            "text/plain": [
              "Columns:\n",
              "\tid\tint\n",
              "\tURI\tstr\n",
              "\tname\tstr\n",
              "\ttext\tstr\n",
              "\ttf_idf\tdict\n",
              "\n",
              "Rows: Unknown\n",
              "\n",
              "Data:\n",
              "+-------+-------------------------------+--------------+\n",
              "|   id  |              URI              |     name     |\n",
              "+-------+-------------------------------+--------------+\n",
              "| 35817 | <http://dbpedia.org/resour... | Barack Obama |\n",
              "+-------+-------------------------------+--------------+\n",
              "+-------------------------------+-------------------------------+\n",
              "|              text             |             tf_idf            |\n",
              "+-------------------------------+-------------------------------+\n",
              "| barack hussein obama ii br... | {'normalize': 10.293348208... |\n",
              "+-------------------------------+-------------------------------+\n",
              "[? rows x 5 columns]\n",
              "Note: Only the head of the SFrame is printed. This SFrame is lazily evaluated.\n",
              "You can use sf.materialize() to force materialization."
            ]
          },
          "metadata": {},
          "execution_count": 39
        }
      ]
    },
    {
      "cell_type": "code",
      "metadata": {
        "scrolled": true,
        "id": "1oRuAVicLibD",
        "colab": {
          "base_uri": "https://localhost:8080/"
        },
        "outputId": "8c0c06ee-7866-4951-abfc-70de7dd709f6"
      },
      "source": [
        "%%time\n",
        "num_candidates_history = []\n",
        "query_time_history = []\n",
        "max_distance_from_query_history = []\n",
        "min_distance_from_query_history = []\n",
        "average_distance_from_query_history = []\n",
        "\n",
        "for max_search_radius in range(17):\n",
        "    start=time.time()\n",
        "    result, num_candidates = query(corpus[35817,:], model, k=10,\n",
        "                                   max_search_radius=max_search_radius)\n",
        "    end=time.time()\n",
        "    query_time = end-start\n",
        "    \n",
        "    print('Radius:', max_search_radius)\n",
        "    print(result.join(wiki[['id', 'name']], on='id').sort('distance'))\n",
        "    \n",
        "    average_distance_from_query = result['distance'][1:].mean()\n",
        "    max_distance_from_query = result['distance'][1:].max()\n",
        "    min_distance_from_query = result['distance'][1:].min()\n",
        "    \n",
        "    num_candidates_history.append(num_candidates)\n",
        "    query_time_history.append(query_time)\n",
        "    average_distance_from_query_history.append(average_distance_from_query)\n",
        "    max_distance_from_query_history.append(max_distance_from_query)\n",
        "    min_distance_from_query_history.append(min_distance_from_query)\n"
      ],
      "execution_count": 40,
      "outputs": [
        {
          "output_type": "stream",
          "text": [
            "Radius: 0\n",
            "+-------+------------------------+---------------------+\n",
            "|   id  |        distance        |         name        |\n",
            "+-------+------------------------+---------------------+\n",
            "| 35817 | 1.1102230246251565e-16 |     Barack Obama    |\n",
            "| 54743 |    0.97334561058472    | Radovan %C5%BDerjav |\n",
            "+-------+------------------------+---------------------+\n",
            "[2 rows x 3 columns]\n",
            "\n",
            "Radius: 1\n",
            "+-------+------------------------+------------------------------+\n",
            "|   id  |        distance        |             name             |\n",
            "+-------+------------------------+------------------------------+\n",
            "| 35817 | 1.1102230246251565e-16 |         Barack Obama         |\n",
            "| 24478 |   0.703138676733575    |          Joe Biden           |\n",
            "| 34159 |   0.9430865736846581   |       Jennifer Hudson        |\n",
            "| 23926 |   0.9608039657958866   | Se%C3%A1n Power (politician) |\n",
            "| 36266 |   0.9615994281067699   |         Ralph Weber          |\n",
            "| 33200 |    0.97101213334657    |         Emrah Yucel          |\n",
            "| 28804 |   0.9729856623983864   |     Matthew McConaughey      |\n",
            "| 54743 |    0.97334561058472    |     Radovan %C5%BDerjav      |\n",
            "|  7331 |   0.9735542076945761   |       Joselo D%C3%ADaz       |\n",
            "| 43775 |   0.9790856334914729   |       Carly Rae Jepsen       |\n",
            "+-------+------------------------+------------------------------+\n",
            "[10 rows x 3 columns]\n",
            "\n",
            "Radius: 2\n",
            "+-------+------------------------+--------------------------------+\n",
            "|   id  |        distance        |              name              |\n",
            "+-------+------------------------+--------------------------------+\n",
            "| 35817 | 1.1102230246251565e-16 |          Barack Obama          |\n",
            "| 24478 |   0.703138676733575    |           Joe Biden            |\n",
            "|  9051 |   0.9008406076426497   |         Newt Gingrich          |\n",
            "| 46253 |   0.9158128432084635   |        Francisco Rezek         |\n",
            "|  110  |   0.9346379007684388   |      Abdel Fattah el-Sisi      |\n",
            "| 40837 |   0.9370458058764901   |    Dovey Johnson Roundtree     |\n",
            "| 34159 |   0.9430865736846581   |        Jennifer Hudson         |\n",
            "| 28320 |   0.9460512776474829   |          Robert Reich          |\n",
            "| 33070 |   0.9466276757770745   |          Claude Allen          |\n",
            "|  3818 |   0.9484009651426074   | Tom Sawyer (Kansas politician) |\n",
            "+-------+------------------------+--------------------------------+\n",
            "[10 rows x 3 columns]\n",
            "\n",
            "Radius: 3\n",
            "+-------+------------------------+---------------------+\n",
            "|   id  |        distance        |         name        |\n",
            "+-------+------------------------+---------------------+\n",
            "| 35817 | 1.1102230246251565e-16 |     Barack Obama    |\n",
            "| 24478 |   0.703138676733575    |      Joe Biden      |\n",
            "| 38376 |   0.7429819023278823   |    Samantha Power   |\n",
            "|  4032 |   0.8145547486714284   | Kenneth D. Thompson |\n",
            "| 43155 |   0.8408390074837325   |     Goodwin Liu     |\n",
            "| 20159 |   0.844036884280093    |    Charlie Crist    |\n",
            "| 11517 |   0.8483420107162964   |     Louis Susman    |\n",
            "| 46332 |   0.8897020225435585   |     Tom Tancredo    |\n",
            "| 22063 |   0.8946710479694914   |   Kathryn Troutman  |\n",
            "| 10437 |   0.9001571479475322   |    David J. Hayes   |\n",
            "+-------+------------------------+---------------------+\n",
            "[10 rows x 3 columns]\n",
            "\n",
            "Radius: 4\n",
            "+-------+------------------------+---------------------+\n",
            "|   id  |        distance        |         name        |\n",
            "+-------+------------------------+---------------------+\n",
            "| 35817 | 1.1102230246251565e-16 |     Barack Obama    |\n",
            "| 24478 |   0.703138676733575    |      Joe Biden      |\n",
            "| 38376 |   0.7429819023278823   |    Samantha Power   |\n",
            "| 23737 |   0.8101646334648858   |  John D. McCormick  |\n",
            "|  4032 |   0.8145547486714284   | Kenneth D. Thompson |\n",
            "| 14754 |   0.826854025896727    |     Mitt Romney     |\n",
            "| 43155 |   0.8408390074837325   |     Goodwin Liu     |\n",
            "| 20159 |   0.844036884280093    |    Charlie Crist    |\n",
            "| 11517 |   0.8483420107162964   |     Louis Susman    |\n",
            "| 40184 |   0.8601570123329991   |     Chuck Hagel     |\n",
            "+-------+------------------------+---------------------+\n",
            "[10 rows x 3 columns]\n",
            "\n",
            "Radius: 5\n",
            "+-------+------------------------+-------------------------+\n",
            "|   id  |        distance        |           name          |\n",
            "+-------+------------------------+-------------------------+\n",
            "| 35817 | 1.1102230246251565e-16 |       Barack Obama      |\n",
            "| 24478 |   0.703138676733575    |        Joe Biden        |\n",
            "| 38376 |   0.7429819023278823   |      Samantha Power     |\n",
            "| 38714 |   0.7705612276009974   | Eric Stern (politician) |\n",
            "| 44681 |   0.790926415366316    |  Jesse Lee (politician) |\n",
            "|  2412 |   0.799466360041952    |     Joe the Plumber     |\n",
            "| 23737 |   0.8101646334648858   |    John D. McCormick    |\n",
            "|  4032 |   0.8145547486714284   |   Kenneth D. Thompson   |\n",
            "| 14754 |   0.826854025896727    |       Mitt Romney       |\n",
            "| 24848 |   0.8394067356676752   |     John C. Eastman     |\n",
            "+-------+------------------------+-------------------------+\n",
            "[10 rows x 3 columns]\n",
            "\n",
            "Radius: 6\n",
            "+-------+------------------------+-------------------------+\n",
            "|   id  |        distance        |           name          |\n",
            "+-------+------------------------+-------------------------+\n",
            "| 35817 | 1.1102230246251565e-16 |       Barack Obama      |\n",
            "| 24478 |   0.703138676733575    |        Joe Biden        |\n",
            "| 38376 |   0.7429819023278823   |      Samantha Power     |\n",
            "| 57108 |   0.7583583978869675   |  Hillary Rodham Clinton |\n",
            "| 38714 |   0.7705612276009974   | Eric Stern (politician) |\n",
            "|  6796 |   0.7880390729434776   |       Eric Holder       |\n",
            "| 44681 |   0.790926415366316    |  Jesse Lee (politician) |\n",
            "| 18827 |   0.7983226028934733   |       Henry Waxman      |\n",
            "|  2412 |   0.799466360041952    |     Joe the Plumber     |\n",
            "| 23737 |   0.8101646334648858   |    John D. McCormick    |\n",
            "+-------+------------------------+-------------------------+\n",
            "[10 rows x 3 columns]\n",
            "\n",
            "Radius: 7\n",
            "+-------+------------------------+-------------------------+\n",
            "|   id  |        distance        |           name          |\n",
            "+-------+------------------------+-------------------------+\n",
            "| 35817 | 1.1102230246251565e-16 |       Barack Obama      |\n",
            "| 24478 |   0.703138676733575    |        Joe Biden        |\n",
            "| 38376 |   0.7429819023278823   |      Samantha Power     |\n",
            "| 57108 |   0.7583583978869675   |  Hillary Rodham Clinton |\n",
            "| 38714 |   0.7705612276009974   | Eric Stern (politician) |\n",
            "| 46140 |    0.78467750475065    |       Robert Gibbs      |\n",
            "|  6796 |   0.7880390729434776   |       Eric Holder       |\n",
            "| 44681 |   0.790926415366316    |  Jesse Lee (politician) |\n",
            "| 18827 |   0.7983226028934733   |       Henry Waxman      |\n",
            "|  2412 |   0.799466360041952    |     Joe the Plumber     |\n",
            "+-------+------------------------+-------------------------+\n",
            "[10 rows x 3 columns]\n",
            "\n",
            "Radius: 8\n",
            "+-------+------------------------+-------------------------+\n",
            "|   id  |        distance        |           name          |\n",
            "+-------+------------------------+-------------------------+\n",
            "| 35817 | 1.1102230246251565e-16 |       Barack Obama      |\n",
            "| 24478 |   0.703138676733575    |        Joe Biden        |\n",
            "| 38376 |   0.7429819023278823   |      Samantha Power     |\n",
            "| 57108 |   0.7583583978869675   |  Hillary Rodham Clinton |\n",
            "| 38714 |   0.7705612276009974   | Eric Stern (politician) |\n",
            "| 46140 |    0.78467750475065    |       Robert Gibbs      |\n",
            "|  6796 |   0.7880390729434776   |       Eric Holder       |\n",
            "| 44681 |   0.790926415366316    |  Jesse Lee (politician) |\n",
            "| 18827 |   0.7983226028934733   |       Henry Waxman      |\n",
            "|  2412 |   0.799466360041952    |     Joe the Plumber     |\n",
            "+-------+------------------------+-------------------------+\n",
            "[10 rows x 3 columns]\n",
            "\n",
            "Radius: 9\n",
            "+-------+------------------------+-------------------------+\n",
            "|   id  |        distance        |           name          |\n",
            "+-------+------------------------+-------------------------+\n",
            "| 35817 | 1.1102230246251565e-16 |       Barack Obama      |\n",
            "| 24478 |   0.703138676733575    |        Joe Biden        |\n",
            "| 38376 |   0.7429819023278823   |      Samantha Power     |\n",
            "| 57108 |   0.7583583978869675   |  Hillary Rodham Clinton |\n",
            "| 38714 |   0.7705612276009974   | Eric Stern (politician) |\n",
            "| 46140 |    0.78467750475065    |       Robert Gibbs      |\n",
            "|  6796 |   0.7880390729434776   |       Eric Holder       |\n",
            "| 44681 |   0.790926415366316    |  Jesse Lee (politician) |\n",
            "| 18827 |   0.7983226028934733   |       Henry Waxman      |\n",
            "|  2412 |   0.799466360041952    |     Joe the Plumber     |\n",
            "+-------+------------------------+-------------------------+\n",
            "[10 rows x 3 columns]\n",
            "\n",
            "Radius: 10\n",
            "+-------+------------------------+-------------------------+\n",
            "|   id  |        distance        |           name          |\n",
            "+-------+------------------------+-------------------------+\n",
            "| 35817 | 1.1102230246251565e-16 |       Barack Obama      |\n",
            "| 24478 |   0.703138676733575    |        Joe Biden        |\n",
            "| 38376 |   0.7429819023278823   |      Samantha Power     |\n",
            "| 57108 |   0.7583583978869675   |  Hillary Rodham Clinton |\n",
            "| 38714 |   0.7705612276009974   | Eric Stern (politician) |\n",
            "| 46140 |    0.78467750475065    |       Robert Gibbs      |\n",
            "|  6796 |   0.7880390729434776   |       Eric Holder       |\n",
            "| 44681 |   0.790926415366316    |  Jesse Lee (politician) |\n",
            "| 18827 |   0.7983226028934733   |       Henry Waxman      |\n",
            "|  2412 |   0.799466360041952    |     Joe the Plumber     |\n",
            "+-------+------------------------+-------------------------+\n",
            "[10 rows x 3 columns]\n",
            "\n",
            "Radius: 11\n",
            "+-------+------------------------+-------------------------+\n",
            "|   id  |        distance        |           name          |\n",
            "+-------+------------------------+-------------------------+\n",
            "| 35817 | 1.1102230246251565e-16 |       Barack Obama      |\n",
            "| 24478 |   0.703138676733575    |        Joe Biden        |\n",
            "| 38376 |   0.7429819023278823   |      Samantha Power     |\n",
            "| 57108 |   0.7583583978869675   |  Hillary Rodham Clinton |\n",
            "| 38714 |   0.7705612276009974   | Eric Stern (politician) |\n",
            "| 46140 |    0.78467750475065    |       Robert Gibbs      |\n",
            "|  6796 |   0.7880390729434776   |       Eric Holder       |\n",
            "| 44681 |   0.790926415366316    |  Jesse Lee (politician) |\n",
            "| 18827 |   0.7983226028934733   |       Henry Waxman      |\n",
            "|  2412 |   0.799466360041952    |     Joe the Plumber     |\n",
            "+-------+------------------------+-------------------------+\n",
            "[10 rows x 3 columns]\n",
            "\n",
            "Radius: 12\n",
            "+-------+------------------------+-------------------------+\n",
            "|   id  |        distance        |           name          |\n",
            "+-------+------------------------+-------------------------+\n",
            "| 35817 | 1.1102230246251565e-16 |       Barack Obama      |\n",
            "| 24478 |   0.703138676733575    |        Joe Biden        |\n",
            "| 38376 |   0.7429819023278823   |      Samantha Power     |\n",
            "| 57108 |   0.7583583978869675   |  Hillary Rodham Clinton |\n",
            "| 38714 |   0.7705612276009974   | Eric Stern (politician) |\n",
            "| 46140 |    0.78467750475065    |       Robert Gibbs      |\n",
            "|  6796 |   0.7880390729434776   |       Eric Holder       |\n",
            "| 44681 |   0.790926415366316    |  Jesse Lee (politician) |\n",
            "| 18827 |   0.7983226028934733   |       Henry Waxman      |\n",
            "|  2412 |   0.799466360041952    |     Joe the Plumber     |\n",
            "+-------+------------------------+-------------------------+\n",
            "[10 rows x 3 columns]\n",
            "\n",
            "Radius: 13\n",
            "+-------+------------------------+-------------------------+\n",
            "|   id  |        distance        |           name          |\n",
            "+-------+------------------------+-------------------------+\n",
            "| 35817 | 1.1102230246251565e-16 |       Barack Obama      |\n",
            "| 24478 |   0.703138676733575    |        Joe Biden        |\n",
            "| 38376 |   0.7429819023278823   |      Samantha Power     |\n",
            "| 57108 |   0.7583583978869675   |  Hillary Rodham Clinton |\n",
            "| 38714 |   0.7705612276009974   | Eric Stern (politician) |\n",
            "| 46140 |    0.78467750475065    |       Robert Gibbs      |\n",
            "|  6796 |   0.7880390729434776   |       Eric Holder       |\n",
            "| 44681 |   0.790926415366316    |  Jesse Lee (politician) |\n",
            "| 18827 |   0.7983226028934733   |       Henry Waxman      |\n",
            "|  2412 |   0.799466360041952    |     Joe the Plumber     |\n",
            "+-------+------------------------+-------------------------+\n",
            "[10 rows x 3 columns]\n",
            "\n",
            "Radius: 14\n",
            "+-------+------------------------+-------------------------+\n",
            "|   id  |        distance        |           name          |\n",
            "+-------+------------------------+-------------------------+\n",
            "| 35817 | 1.1102230246251565e-16 |       Barack Obama      |\n",
            "| 24478 |   0.703138676733575    |        Joe Biden        |\n",
            "| 38376 |   0.7429819023278823   |      Samantha Power     |\n",
            "| 57108 |   0.7583583978869675   |  Hillary Rodham Clinton |\n",
            "| 38714 |   0.7705612276009974   | Eric Stern (politician) |\n",
            "| 46140 |    0.78467750475065    |       Robert Gibbs      |\n",
            "|  6796 |   0.7880390729434776   |       Eric Holder       |\n",
            "| 44681 |   0.790926415366316    |  Jesse Lee (politician) |\n",
            "| 18827 |   0.7983226028934733   |       Henry Waxman      |\n",
            "|  2412 |   0.799466360041952    |     Joe the Plumber     |\n",
            "+-------+------------------------+-------------------------+\n",
            "[10 rows x 3 columns]\n",
            "\n",
            "Radius: 15\n",
            "+-------+------------------------+-------------------------+\n",
            "|   id  |        distance        |           name          |\n",
            "+-------+------------------------+-------------------------+\n",
            "| 35817 | 1.1102230246251565e-16 |       Barack Obama      |\n",
            "| 24478 |   0.703138676733575    |        Joe Biden        |\n",
            "| 38376 |   0.7429819023278823   |      Samantha Power     |\n",
            "| 57108 |   0.7583583978869675   |  Hillary Rodham Clinton |\n",
            "| 38714 |   0.7705612276009974   | Eric Stern (politician) |\n",
            "| 46140 |    0.78467750475065    |       Robert Gibbs      |\n",
            "|  6796 |   0.7880390729434776   |       Eric Holder       |\n",
            "| 44681 |   0.790926415366316    |  Jesse Lee (politician) |\n",
            "| 18827 |   0.7983226028934733   |       Henry Waxman      |\n",
            "|  2412 |   0.799466360041952    |     Joe the Plumber     |\n",
            "+-------+------------------------+-------------------------+\n",
            "[10 rows x 3 columns]\n",
            "\n",
            "Radius: 16\n",
            "+-------+------------------------+-------------------------+\n",
            "|   id  |        distance        |           name          |\n",
            "+-------+------------------------+-------------------------+\n",
            "| 35817 | 1.1102230246251565e-16 |       Barack Obama      |\n",
            "| 24478 |   0.703138676733575    |        Joe Biden        |\n",
            "| 38376 |   0.7429819023278823   |      Samantha Power     |\n",
            "| 57108 |   0.7583583978869675   |  Hillary Rodham Clinton |\n",
            "| 38714 |   0.7705612276009974   | Eric Stern (politician) |\n",
            "| 46140 |    0.78467750475065    |       Robert Gibbs      |\n",
            "|  6796 |   0.7880390729434776   |       Eric Holder       |\n",
            "| 44681 |   0.790926415366316    |  Jesse Lee (politician) |\n",
            "| 18827 |   0.7983226028934733   |       Henry Waxman      |\n",
            "|  2412 |   0.799466360041952    |     Joe the Plumber     |\n",
            "+-------+------------------------+-------------------------+\n",
            "[10 rows x 3 columns]\n",
            "\n",
            "CPU times: user 7.19 s, sys: 159 ms, total: 7.34 s\n",
            "Wall time: 7.15 s\n"
          ],
          "name": "stdout"
        }
      ]
    },
    {
      "cell_type": "markdown",
      "metadata": {
        "id": "GFI6swGDLibD"
      },
      "source": [
        "Notice that the top 10 query results become more relevant as the search radius grows. Let's plot the three variables:"
      ]
    },
    {
      "cell_type": "code",
      "metadata": {
        "id": "2a7yWNbOLibD",
        "colab": {
          "base_uri": "https://localhost:8080/",
          "height": 926
        },
        "outputId": "fd86b532-80fa-4716-de1a-55abd00c8077"
      },
      "source": [
        "plt.figure(figsize=(7,4.5))\n",
        "plt.plot(num_candidates_history, linewidth=4)\n",
        "plt.xlabel('Search radius')\n",
        "plt.ylabel('# of documents searched')\n",
        "plt.rcParams.update({'font.size':16})\n",
        "plt.tight_layout()\n",
        "\n",
        "plt.figure(figsize=(7,4.5))\n",
        "plt.plot(query_time_history, linewidth=4)\n",
        "plt.xlabel('Search radius')\n",
        "plt.ylabel('Query time (seconds)')\n",
        "plt.rcParams.update({'font.size':16})\n",
        "plt.tight_layout()\n",
        "\n",
        "plt.figure(figsize=(7,4.5))\n",
        "plt.plot(average_distance_from_query_history, linewidth=4, label='Average of 10 neighbors')\n",
        "plt.plot(max_distance_from_query_history, linewidth=4, label='Farthest of 10 neighbors')\n",
        "plt.plot(min_distance_from_query_history, linewidth=4, label='Closest of 10 neighbors')\n",
        "plt.xlabel('Search radius')\n",
        "plt.ylabel('Cosine distance of neighbors')\n",
        "plt.legend(loc='best', prop={'size':15})\n",
        "plt.rcParams.update({'font.size':16})\n",
        "plt.tight_layout()"
      ],
      "execution_count": 41,
      "outputs": [
        {
          "output_type": "display_data",
          "data": {
            "image/png": "[encoded data removed]",
            "text/plain": [
              "<Figure size 504x324 with 1 Axes>"
            ]
          },
          "metadata": {
            "needs_background": "light"
          }
        },
        {
          "output_type": "display_data",
          "data": {
            "image/png": "[encoded data removed]",
            "text/plain": [
              "<Figure size 504x324 with 1 Axes>"
            ]
          },
          "metadata": {
            "needs_background": "light"
          }
        },
        {
          "output_type": "display_data",
          "data": {
            "image/png": "[encoded data removed]",
            "text/plain": [
              "<Figure size 504x324 with 1 Axes>"
            ]
          },
          "metadata": {
            "needs_background": "light"
          }
        }
      ]
    },
    {
      "cell_type": "markdown",
      "metadata": {
        "id": "NRZii8HELibE"
      },
      "source": [
        "Some observations:\n",
        "* As we increase the search radius, we find more neighbors that are a smaller distance away.\n",
        "* With increased search radius comes a greater number documents that have to be searched. Query time is higher as a consequence.\n",
        "* With sufficiently high search radius, the results of LSH begin to resemble the results of brute-force search."
      ]
    },
    {
      "cell_type": "markdown",
      "metadata": {
        "id": "zUdjyqOrLibE"
      },
      "source": [
        "**Quiz Question**. What was the smallest search radius that yielded the correct nearest neighbor, namely Joe Biden?\n",
        "\n",
        "**Quiz Question**. Suppose our goal was to produce 10 approximate nearest neighbors whose average distance from the query document is within 0.01 of the average for the true 10 nearest neighbors. For Barack Obama, the true 10 nearest neighbors are on average about 0.77. What was the smallest search radius for Barack Obama that produced an average distance of 0.78 or better?"
      ]
    },
    {
      "cell_type": "code",
      "metadata": {
        "id": "yO8_nQqZLibE"
      },
      "source": [
        ""
      ],
      "execution_count": 41,
      "outputs": []
    },
    {
      "cell_type": "markdown",
      "metadata": {
        "id": "SBZE10aMLibE"
      },
      "source": [
        "## Quality metrics for neighbors"
      ]
    },
    {
      "cell_type": "markdown",
      "metadata": {
        "id": "EQVGTqW3LibE"
      },
      "source": [
        "The above analysis is limited by the fact that it was run with a single query, namely Barack Obama. We should repeat the analysis for the entirety of data. Iterating over all documents would take a long time, so let us randomly choose 10 documents for our analysis.\n",
        "\n",
        "For each document, we first compute the true 25 nearest neighbors, and then run LSH multiple times. We look at two metrics:\n",
        "\n",
        "* Precision@10: How many of the 10 neighbors given by LSH are among the true 25 nearest neighbors?\n",
        "* Average cosine distance of the neighbors from the query\n",
        "\n",
        "Then we run LSH multiple times with different search radii."
      ]
    },
    {
      "cell_type": "code",
      "metadata": {
        "id": "SATdmgi-LibE"
      },
      "source": [
        "def brute_force_query(vec, data, k):\n",
        "    num_data_points = data.shape[0]\n",
        "    \n",
        "    # Compute distances for ALL data points in training set\n",
        "    nearest_neighbors = turicreate.SFrame({'id':range(num_data_points)})\n",
        "    nearest_neighbors['distance'] = pairwise_distances(data, vec, metric='cosine').flatten()\n",
        "    \n",
        "    return nearest_neighbors.topk('distance', k, reverse=True)"
      ],
      "execution_count": 42,
      "outputs": []
    },
    {
      "cell_type": "markdown",
      "metadata": {
        "id": "PoIa2iVKLibE"
      },
      "source": [
        "The following cell will run LSH with multiple search radii and compute the quality metrics for each run. Allow a few minutes to complete."
      ]
    },
    {
      "cell_type": "code",
      "metadata": {
        "id": "xIMlRwNtLibE",
        "colab": {
          "base_uri": "https://localhost:8080/"
        },
        "outputId": "752288d1-32c5-4dbe-d149-9bff655190e3"
      },
      "source": [
        "%%time\n",
        "max_radius = 17\n",
        "precision = {i:[] for i in range(max_radius)}\n",
        "average_distance  = {i:[] for i in range(max_radius)}\n",
        "query_time  = {i:[] for i in range(max_radius)}\n",
        "\n",
        "num_queries = 10\n",
        "for i, ix in enumerate(np.random.choice(corpus.shape[0], num_queries, replace=False)):\n",
        "    print('%s / %s' % (i, num_queries))\n",
        "    ground_truth = set(brute_force_query(corpus[ix,:], corpus, k=25)['id'])\n",
        "    # Get the set of 25 true nearest neighbors\n",
        "    \n",
        "    for r in range(1,max_radius):\n",
        "        start = time.time()\n",
        "        result, num_candidates = query(corpus[ix,:], model, k=10, max_search_radius=r)\n",
        "        end = time.time()\n",
        "\n",
        "        query_time[r].append(end-start)\n",
        "        # precision = (# of neighbors both in result and ground_truth)/10.0\n",
        "        precision[r].append(len(set(result['id']) & ground_truth)/10.0)\n",
        "        average_distance[r].append(result['distance'][1:].mean())"
      ],
      "execution_count": 43,
      "outputs": [
        {
          "output_type": "stream",
          "text": [
            "0 / 10\n",
            "1 / 10\n",
            "2 / 10\n",
            "3 / 10\n",
            "4 / 10\n",
            "5 / 10\n",
            "6 / 10\n",
            "7 / 10\n",
            "8 / 10\n",
            "9 / 10\n",
            "CPU times: user 1min 2s, sys: 843 ms, total: 1min 3s\n",
            "Wall time: 1min 1s\n"
          ],
          "name": "stdout"
        }
      ]
    },
    {
      "cell_type": "code",
      "metadata": {
        "id": "tEcduRTJLibF",
        "colab": {
          "base_uri": "https://localhost:8080/",
          "height": 926
        },
        "outputId": "1a54c571-88d8-4e42-9af6-f0c72d157b69"
      },
      "source": [
        "plt.figure(figsize=(7,4.5))\n",
        "plt.plot(range(1,17), [np.mean(average_distance[i]) for i in range(1,17)], linewidth=4, label='Average over 10 neighbors')\n",
        "plt.xlabel('Search radius')\n",
        "plt.ylabel('Cosine distance')\n",
        "plt.legend(loc='best', prop={'size':15})\n",
        "plt.rcParams.update({'font.size':16})\n",
        "plt.tight_layout()\n",
        "\n",
        "plt.figure(figsize=(7,4.5))\n",
        "plt.plot(range(1,17), [np.mean(precision[i]) for i in range(1,17)], linewidth=4, label='Precison@10')\n",
        "plt.xlabel('Search radius')\n",
        "plt.ylabel('Precision')\n",
        "plt.legend(loc='best', prop={'size':15})\n",
        "plt.rcParams.update({'font.size':16})\n",
        "plt.tight_layout()\n",
        "\n",
        "plt.figure(figsize=(7,4.5))\n",
        "plt.plot(range(1,17), [np.mean(query_time[i]) for i in range(1,17)], linewidth=4, label='Query time')\n",
        "plt.xlabel('Search radius')\n",
        "plt.ylabel('Query time (seconds)')\n",
        "plt.legend(loc='best', prop={'size':15})\n",
        "plt.rcParams.update({'font.size':16})\n",
        "plt.tight_layout()"
      ],
      "execution_count": 44,
      "outputs": [
        {
          "output_type": "display_data",
          "data": {
            "image/png": "[encoded data removed]",
            "text/plain": [
              "<Figure size 504x324 with 1 Axes>"
            ]
          },
          "metadata": {
            "needs_background": "light"
          }
        },
        {
          "output_type": "display_data",
          "data": {
            "image/png": "[encoded data removed]",
            "text/plain": [
              "<Figure size 504x324 with 1 Axes>"
            ]
          },
          "metadata": {
            "needs_background": "light"
          }
        },
        {
          "output_type": "display_data",
          "data": {
            "image/png": "[encoded data removed]",
            "text/plain": [
              "<Figure size 504x324 with 1 Axes>"
            ]
          },
          "metadata": {
            "needs_background": "light"
          }
        }
      ]
    },
    {
      "cell_type": "markdown",
      "metadata": {
        "id": "GzmO1dfyLibF"
      },
      "source": [
        "The observations for Barack Obama generalize to the entire dataset."
      ]
    },
    {
      "cell_type": "markdown",
      "metadata": {
        "id": "Mdm9FUKGLibF"
      },
      "source": [
        "## Effect of number of random vectors"
      ]
    },
    {
      "cell_type": "markdown",
      "metadata": {
        "id": "BH8h6iZ3LibF"
      },
      "source": [
        "Let us now turn our focus to the remaining parameter: the number of random vectors. We run LSH with different number of random vectors, ranging from 5 to 20. We fix the search radius to 3.\n",
        "\n",
        "Allow a few minutes for the following cell to complete."
      ]
    },
    {
      "cell_type": "code",
      "metadata": {
        "id": "0IcKswaYLibF",
        "colab": {
          "base_uri": "https://localhost:8080/"
        },
        "outputId": "10d19d1f-9baf-4713-933f-dc813a01bab7"
      },
      "source": [
        "precision = {i:[] for i in range(5,20)}\n",
        "average_distance  = {i:[] for i in range(5,20)}\n",
        "query_time = {i:[] for i in range(5,20)}\n",
        "num_candidates_history = {i:[] for i in range(5,20)}\n",
        "ground_truth = {}\n",
        "\n",
        "num_queries = 10\n",
        "docs = np.random.choice(corpus.shape[0], num_queries, replace=False)\n",
        "\n",
        "for i, ix in enumerate(docs):\n",
        "    ground_truth[ix] = set(brute_force_query(corpus[ix,:], corpus, k=25)['id'])\n",
        "    # Get the set of 25 true nearest neighbors\n",
        "\n",
        "for num_vector in range(5,20):\n",
        "    print('num_vector = %s' % (num_vector))\n",
        "    model = train_lsh(corpus, num_vector, seed=143)\n",
        "    \n",
        "    for i, ix in enumerate(docs):\n",
        "        start = time.time()\n",
        "        result, num_candidates = query(corpus[ix,:], model, k=10, max_search_radius=3)\n",
        "        end = time.time()\n",
        "        \n",
        "        query_time[num_vector].append(end-start)\n",
        "        precision[num_vector].append(len(set(result['id']) & ground_truth[ix])/10.0)\n",
        "        average_distance[num_vector].append(result['distance'][1:].mean())\n",
        "        num_candidates_history[num_vector].append(num_candidates)"
      ],
      "execution_count": 45,
      "outputs": [
        {
          "output_type": "stream",
          "text": [
            "num_vector = 5\n",
            "num_vector = 6\n",
            "num_vector = 7\n",
            "num_vector = 8\n",
            "num_vector = 9\n",
            "num_vector = 10\n",
            "num_vector = 11\n",
            "num_vector = 12\n",
            "num_vector = 13\n",
            "num_vector = 14\n",
            "num_vector = 15\n",
            "num_vector = 16\n",
            "num_vector = 17\n",
            "num_vector = 18\n",
            "num_vector = 19\n"
          ],
          "name": "stdout"
        }
      ]
    },
    {
      "cell_type": "code",
      "metadata": {
        "id": "1LNMq2EuLibF",
        "colab": {
          "base_uri": "https://localhost:8080/",
          "height": 1000
        },
        "outputId": "4d35756d-6b55-4cac-ee26-75b2432beb4f"
      },
      "source": [
        "plt.figure(figsize=(7,4.5))\n",
        "plt.plot(range(5,20), [np.mean(average_distance[i]) for i in range(5,20)], linewidth=4, label='Average over 10 neighbors')\n",
        "plt.xlabel('# of random vectors')\n",
        "plt.ylabel('Cosine distance')\n",
        "plt.legend(loc='best', prop={'size':15})\n",
        "plt.rcParams.update({'font.size':16})\n",
        "plt.tight_layout()\n",
        "\n",
        "plt.figure(figsize=(7,4.5))\n",
        "plt.plot(range(5,20), [np.mean(precision[i]) for i in range(5,20)], linewidth=4, label='Precison@10')\n",
        "plt.xlabel('# of random vectors')\n",
        "plt.ylabel('Precision')\n",
        "plt.legend(loc='best', prop={'size':15})\n",
        "plt.rcParams.update({'font.size':16})\n",
        "plt.tight_layout()\n",
        "\n",
        "plt.figure(figsize=(7,4.5))\n",
        "plt.plot(range(5,20), [np.mean(query_time[i]) for i in range(5,20)], linewidth=4, label='Query time (seconds)')\n",
        "plt.xlabel('# of random vectors')\n",
        "plt.ylabel('Query time (seconds)')\n",
        "plt.legend(loc='best', prop={'size':15})\n",
        "plt.rcParams.update({'font.size':16})\n",
        "plt.tight_layout()\n",
        "\n",
        "plt.figure(figsize=(7,4.5))\n",
        "plt.plot(range(5,20), [np.mean(num_candidates_history[i]) for i in range(5,20)], linewidth=4,\n",
        "         label='# of documents searched')\n",
        "plt.xlabel('# of random vectors')\n",
        "plt.ylabel('# of documents searched')\n",
        "plt.legend(loc='best', prop={'size':15})\n",
        "plt.rcParams.update({'font.size':16})\n",
        "plt.tight_layout()"
      ],
      "execution_count": 46,
      "outputs": [
        {
          "output_type": "display_data",
          "data": {
            "image/png": "[encoded data removed]",
            "text/plain": [
              "<Figure size 504x324 with 1 Axes>"
            ]
          },
          "metadata": {
            "needs_background": "light"
          }
        },
        {
          "output_type": "display_data",
          "data": {
            "image/png": "[encoded data removed]",
            "text/plain": [
              "<Figure size 504x324 with 1 Axes>"
            ]
          },
          "metadata": {
            "needs_background": "light"
          }
        },
        {
          "output_type": "display_data",
          "data": {
            "image/png": "[encoded data removed]",
            "text/plain": [
              "<Figure size 504x324 with 1 Axes>"
            ]
          },
          "metadata": {
            "needs_background": "light"
          }
        },
        {
          "output_type": "display_data",
          "data": {
            "image/png": "[encoded data removed]",
            "text/plain": [
              "<Figure size 504x324 with 1 Axes>"
            ]
          },
          "metadata": {
            "needs_background": "light"
          }
        }
      ]
    },
    {
      "cell_type": "markdown",
      "metadata": {
        "id": "8HcTCzIELibF"
      },
      "source": [
        "We see a similar trade-off between quality and performance: as the number of random vectors increases, the query time goes down as each bin contains fewer documents on average, but on average the neighbors are likewise placed farther from the query. On the other hand, when using a small enough number of random vectors, LSH becomes very similar brute-force search: Many documents appear in a single bin, so searching the query bin alone covers a lot of the corpus; then, including neighboring bins might result in searching all documents, just as in the brute-force approach."
      ]
    },
    {
      "cell_type": "code",
      "metadata": {
        "id": "x3P6opRXLlkk"
      },
      "source": [
        ""
      ],
      "execution_count": 46,
      "outputs": []
    }
  ]
}