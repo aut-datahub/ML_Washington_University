{
  "nbformat": 4,
  "nbformat_minor": 0,
  "metadata": {
    "kernelspec": {
      "display_name": "Python 3",
      "language": "python",
      "name": "python3"
    },
    "language_info": {
      "codemirror_mode": {
        "name": "ipython",
        "version": 3
      },
      "file_extension": ".py",
      "mimetype": "text/x-python",
      "name": "python",
      "nbconvert_exporter": "python",
      "pygments_lexer": "ipython3",
      "version": "3.6.8"
    },
    "colab": {
      "name": "Nearest Neighbors Exploration",
      "provenance": []
    }
  },
  "cells": [
    {
      "cell_type": "markdown",
      "metadata": {
        "id": "844z7oRf_zAb"
      },
      "source": [
        "# Nearest Neighbors"
      ]
    },
    {
      "cell_type": "markdown",
      "metadata": {
        "id": "UU-I2BFH_zAj"
      },
      "source": [
        "When exploring a large set of documents -- such as Wikipedia, news articles, StackOverflow, etc. -- it can be useful to get a list of related material. To find relevant documents you typically\n",
        "* Decide on a notion of similarity\n",
        "* Find the documents that are most similar \n",
        "\n",
        "In the assignment you will\n",
        "* Gain intuition for different notions of similarity and practice finding similar documents. \n",
        "* Explore the tradeoffs with representing documents using raw word counts and TF-IDF\n",
        "* Explore the behavior of different distance metrics by looking at the Wikipedia pages most similar to President Obama’s page."
      ]
    },
    {
      "cell_type": "markdown",
      "metadata": {
        "id": "3Oe_OXRR_zAo"
      },
      "source": [
        "**Note to Amazon EC2 users**: To conserve memory, make sure to stop all the other notebooks before running this notebook."
      ]
    },
    {
      "cell_type": "markdown",
      "metadata": {
        "id": "VZW2fL5z_zAs"
      },
      "source": [
        "## Import necessary packages"
      ]
    },
    {
      "cell_type": "markdown",
      "metadata": {
        "id": "J35xoGvY_zAw"
      },
      "source": [
        "As usual we need to first import the Python packages that we will need."
      ]
    },
    {
      "cell_type": "code",
      "metadata": {
        "id": "rE1gHY3H_zAy"
      },
      "source": [
        "from __future__ import print_function # to conform python 2.x print to python 3.x\n",
        "import turicreate\n",
        "import matplotlib.pyplot as plt\n",
        "import numpy as np\n",
        "%matplotlib inline"
      ],
      "execution_count": 1,
      "outputs": []
    },
    {
      "cell_type": "markdown",
      "metadata": {
        "id": "p4K-J_OC_zA1"
      },
      "source": [
        "## Load Wikipedia dataset"
      ]
    },
    {
      "cell_type": "markdown",
      "metadata": {
        "id": "6UeMA_AJ_zA5"
      },
      "source": [
        "We will be using the same dataset of Wikipedia pages that we used in the Machine Learning Foundations course (Course 1). Each element of the dataset consists of a link to the wikipedia article, the name of the person, and the text of the article (in lowercase).  "
      ]
    },
    {
      "cell_type": "code",
      "metadata": {
        "id": "PFyHDYhY_zA8"
      },
      "source": [
        "wiki = turicreate.SFrame('/content/drive/MyDrive/people_wiki.sframe/')"
      ],
      "execution_count": 2,
      "outputs": []
    },
    {
      "cell_type": "code",
      "metadata": {
        "colab": {
          "base_uri": "https://localhost:8080/",
          "height": 457
        },
        "id": "YWH7akwpE0nc",
        "outputId": "15ff588c-fe3c-4d73-f395-86781333375b"
      },
      "source": [
        "wiki"
      ],
      "execution_count": 3,
      "outputs": [
        {
          "output_type": "execute_result",
          "data": {
            "text/html": [
              "<div style=\"max-height:1000px;max-width:1500px;overflow:auto;\"><table frame=\"box\" rules=\"cols\">\n",
              "    <tr>\n",
              "        <th style=\"padding-left: 1em; padding-right: 1em; text-align: center\">URI</th>\n",
              "        <th style=\"padding-left: 1em; padding-right: 1em; text-align: center\">name</th>\n",
              "        <th style=\"padding-left: 1em; padding-right: 1em; text-align: center\">text</th>\n",
              "    </tr>\n",
              "    <tr>\n",
              "        <td style=\"padding-left: 1em; padding-right: 1em; text-align: center; vertical-align: top\">&lt;http://dbpedia.org/resou<br>rce/Digby_Morrell&gt; ...</td>\n",
              "        <td style=\"padding-left: 1em; padding-right: 1em; text-align: center; vertical-align: top\">Digby Morrell</td>\n",
              "        <td style=\"padding-left: 1em; padding-right: 1em; text-align: center; vertical-align: top\">digby morrell born 10<br>october 1979 is a former ...</td>\n",
              "    </tr>\n",
              "    <tr>\n",
              "        <td style=\"padding-left: 1em; padding-right: 1em; text-align: center; vertical-align: top\">&lt;http://dbpedia.org/resou<br>rce/Alfred_J._Lewy&gt; ...</td>\n",
              "        <td style=\"padding-left: 1em; padding-right: 1em; text-align: center; vertical-align: top\">Alfred J. Lewy</td>\n",
              "        <td style=\"padding-left: 1em; padding-right: 1em; text-align: center; vertical-align: top\">alfred j lewy aka sandy<br>lewy graduated from ...</td>\n",
              "    </tr>\n",
              "    <tr>\n",
              "        <td style=\"padding-left: 1em; padding-right: 1em; text-align: center; vertical-align: top\">&lt;http://dbpedia.org/resou<br>rce/Harpdog_Brown&gt; ...</td>\n",
              "        <td style=\"padding-left: 1em; padding-right: 1em; text-align: center; vertical-align: top\">Harpdog Brown</td>\n",
              "        <td style=\"padding-left: 1em; padding-right: 1em; text-align: center; vertical-align: top\">harpdog brown is a singer<br>and harmonica player who ...</td>\n",
              "    </tr>\n",
              "    <tr>\n",
              "        <td style=\"padding-left: 1em; padding-right: 1em; text-align: center; vertical-align: top\">&lt;http://dbpedia.org/resou<br>rce/Franz_Rottensteiner&gt; ...</td>\n",
              "        <td style=\"padding-left: 1em; padding-right: 1em; text-align: center; vertical-align: top\">Franz Rottensteiner</td>\n",
              "        <td style=\"padding-left: 1em; padding-right: 1em; text-align: center; vertical-align: top\">franz rottensteiner born<br>in waidmannsfeld lower ...</td>\n",
              "    </tr>\n",
              "    <tr>\n",
              "        <td style=\"padding-left: 1em; padding-right: 1em; text-align: center; vertical-align: top\">&lt;http://dbpedia.org/resou<br>rce/G-Enka&gt; ...</td>\n",
              "        <td style=\"padding-left: 1em; padding-right: 1em; text-align: center; vertical-align: top\">G-Enka</td>\n",
              "        <td style=\"padding-left: 1em; padding-right: 1em; text-align: center; vertical-align: top\">henry krvits born 30<br>december 1974 in tallinn ...</td>\n",
              "    </tr>\n",
              "    <tr>\n",
              "        <td style=\"padding-left: 1em; padding-right: 1em; text-align: center; vertical-align: top\">&lt;http://dbpedia.org/resou<br>rce/Sam_Henderson&gt; ...</td>\n",
              "        <td style=\"padding-left: 1em; padding-right: 1em; text-align: center; vertical-align: top\">Sam Henderson</td>\n",
              "        <td style=\"padding-left: 1em; padding-right: 1em; text-align: center; vertical-align: top\">sam henderson born<br>october 18 1969 is an ...</td>\n",
              "    </tr>\n",
              "    <tr>\n",
              "        <td style=\"padding-left: 1em; padding-right: 1em; text-align: center; vertical-align: top\">&lt;http://dbpedia.org/resou<br>rce/Aaron_LaCrate&gt; ...</td>\n",
              "        <td style=\"padding-left: 1em; padding-right: 1em; text-align: center; vertical-align: top\">Aaron LaCrate</td>\n",
              "        <td style=\"padding-left: 1em; padding-right: 1em; text-align: center; vertical-align: top\">aaron lacrate is an<br>american music producer ...</td>\n",
              "    </tr>\n",
              "    <tr>\n",
              "        <td style=\"padding-left: 1em; padding-right: 1em; text-align: center; vertical-align: top\">&lt;http://dbpedia.org/resou<br>rce/Trevor_Ferguson&gt; ...</td>\n",
              "        <td style=\"padding-left: 1em; padding-right: 1em; text-align: center; vertical-align: top\">Trevor Ferguson</td>\n",
              "        <td style=\"padding-left: 1em; padding-right: 1em; text-align: center; vertical-align: top\">trevor ferguson aka john<br>farrow born 11 november ...</td>\n",
              "    </tr>\n",
              "    <tr>\n",
              "        <td style=\"padding-left: 1em; padding-right: 1em; text-align: center; vertical-align: top\">&lt;http://dbpedia.org/resou<br>rce/Grant_Nelson&gt; ...</td>\n",
              "        <td style=\"padding-left: 1em; padding-right: 1em; text-align: center; vertical-align: top\">Grant Nelson</td>\n",
              "        <td style=\"padding-left: 1em; padding-right: 1em; text-align: center; vertical-align: top\">grant nelson born 27<br>april 1971 in london  ...</td>\n",
              "    </tr>\n",
              "    <tr>\n",
              "        <td style=\"padding-left: 1em; padding-right: 1em; text-align: center; vertical-align: top\">&lt;http://dbpedia.org/resou<br>rce/Cathy_Caruth&gt; ...</td>\n",
              "        <td style=\"padding-left: 1em; padding-right: 1em; text-align: center; vertical-align: top\">Cathy Caruth</td>\n",
              "        <td style=\"padding-left: 1em; padding-right: 1em; text-align: center; vertical-align: top\">cathy caruth born 1955 is<br>frank h t rhodes ...</td>\n",
              "    </tr>\n",
              "</table>\n",
              "[59071 rows x 3 columns]<br/>Note: Only the head of the SFrame is printed.<br/>You can use print_rows(num_rows=m, num_columns=n) to print more rows and columns.\n",
              "</div>"
            ],
            "text/plain": [
              "Columns:\n",
              "\tURI\tstr\n",
              "\tname\tstr\n",
              "\ttext\tstr\n",
              "\n",
              "Rows: 59071\n",
              "\n",
              "Data:\n",
              "+-------------------------------+---------------------+\n",
              "|              URI              |         name        |\n",
              "+-------------------------------+---------------------+\n",
              "| <http://dbpedia.org/resour... |    Digby Morrell    |\n",
              "| <http://dbpedia.org/resour... |    Alfred J. Lewy   |\n",
              "| <http://dbpedia.org/resour... |    Harpdog Brown    |\n",
              "| <http://dbpedia.org/resour... | Franz Rottensteiner |\n",
              "| <http://dbpedia.org/resour... |        G-Enka       |\n",
              "| <http://dbpedia.org/resour... |    Sam Henderson    |\n",
              "| <http://dbpedia.org/resour... |    Aaron LaCrate    |\n",
              "| <http://dbpedia.org/resour... |   Trevor Ferguson   |\n",
              "| <http://dbpedia.org/resour... |     Grant Nelson    |\n",
              "| <http://dbpedia.org/resour... |     Cathy Caruth    |\n",
              "+-------------------------------+---------------------+\n",
              "+-------------------------------+\n",
              "|              text             |\n",
              "+-------------------------------+\n",
              "| digby morrell born 10 octo... |\n",
              "| alfred j lewy aka sandy le... |\n",
              "| harpdog brown is a singer ... |\n",
              "| franz rottensteiner born i... |\n",
              "| henry krvits born 30 decem... |\n",
              "| sam henderson born october... |\n",
              "| aaron lacrate is an americ... |\n",
              "| trevor ferguson aka john f... |\n",
              "| grant nelson born 27 april... |\n",
              "| cathy caruth born 1955 is ... |\n",
              "+-------------------------------+\n",
              "[59071 rows x 3 columns]\n",
              "Note: Only the head of the SFrame is printed.\n",
              "You can use print_rows(num_rows=m, num_columns=n) to print more rows and columns."
            ]
          },
          "metadata": {},
          "execution_count": 3
        }
      ]
    },
    {
      "cell_type": "code",
      "metadata": {
        "colab": {
          "base_uri": "https://localhost:8080/",
          "height": 139
        },
        "id": "mY-MbPly_zBA",
        "outputId": "7ea34da6-b460-4cfe-a2da-b995a8af7aa6"
      },
      "source": [
        "wiki[0]['text']"
      ],
      "execution_count": 4,
      "outputs": [
        {
          "output_type": "execute_result",
          "data": {
            "application/vnd.google.colaboratory.intrinsic+json": {
              "type": "string"
            },
            "text/plain": [
              "'digby morrell born 10 october 1979 is a former australian rules footballer who played with the kangaroos and carlton in the australian football league aflfrom western australia morrell played his early senior football for west perth his 44game senior career for the falcons spanned 19982000 and he was the clubs leading goalkicker in 2000 at the age of 21 morrell was recruited to the australian football league by the kangaroos football club with its third round selection in the 2001 afl rookie draft as a forward he twice kicked five goals during his time with the kangaroos the first was in a losing cause against sydney in 2002 and the other the following season in a drawn game against brisbaneafter the 2003 season morrell was traded along with david teague to the carlton football club in exchange for corey mckernan he played 32 games for the blues before being delisted at the end of 2005 he continued to play victorian football league vfl football with the northern bullants carltons vflaffiliate in 2006 and acted as playing assistant coach in 2007 in 2008 he shifted to the box hill hawks before retiring from playing at the end of the season from 2009 until 2013 morrell was the senior coach of the strathmore football club in the essendon district football league leading the club to the 2011 premier division premiership since 2014 he has coached the west coburg football club also in the edflhe currently teaches physical education at parade college in melbourne'"
            ]
          },
          "metadata": {},
          "execution_count": 4
        }
      ]
    },
    {
      "cell_type": "markdown",
      "metadata": {
        "id": "nw0Kajsn_zBC"
      },
      "source": [
        "## Extract word count vectors"
      ]
    },
    {
      "cell_type": "markdown",
      "metadata": {
        "id": "W-KFgh0f_zBD"
      },
      "source": [
        "As we have seen in Course 1, we can extract word count vectors using a Turi Create utility function.  We add this as a column in `wiki`."
      ]
    },
    {
      "cell_type": "code",
      "metadata": {
        "id": "baNojv0L_zBF"
      },
      "source": [
        "wiki['word_count'] = turicreate.text_analytics.count_words(wiki['text'])"
      ],
      "execution_count": 5,
      "outputs": []
    },
    {
      "cell_type": "code",
      "metadata": {
        "colab": {
          "base_uri": "https://localhost:8080/"
        },
        "id": "hyEzPBwB_zBG",
        "outputId": "7e5ffd91-0b3e-4b13-e237-87ecc09c7054"
      },
      "source": [
        "wiki[0]['word_count']"
      ],
      "execution_count": 6,
      "outputs": [
        {
          "output_type": "execute_result",
          "data": {
            "text/plain": [
              "{'10': 1.0,\n",
              " '1979': 1.0,\n",
              " '19982000': 1.0,\n",
              " '2000': 1.0,\n",
              " '2001': 1.0,\n",
              " '2002': 1.0,\n",
              " '2003': 1.0,\n",
              " '2005': 1.0,\n",
              " '2006': 1.0,\n",
              " '2007': 1.0,\n",
              " '2008': 1.0,\n",
              " '2009': 1.0,\n",
              " '2011': 1.0,\n",
              " '2013': 1.0,\n",
              " '2014': 1.0,\n",
              " '21': 1.0,\n",
              " '32': 1.0,\n",
              " '44game': 1.0,\n",
              " 'a': 4.0,\n",
              " 'acted': 1.0,\n",
              " 'afl': 1.0,\n",
              " 'aflfrom': 1.0,\n",
              " 'against': 2.0,\n",
              " 'age': 1.0,\n",
              " 'along': 1.0,\n",
              " 'also': 1.0,\n",
              " 'and': 4.0,\n",
              " 'as': 2.0,\n",
              " 'assistant': 1.0,\n",
              " 'at': 4.0,\n",
              " 'australia': 1.0,\n",
              " 'australian': 3.0,\n",
              " 'before': 2.0,\n",
              " 'being': 1.0,\n",
              " 'blues': 1.0,\n",
              " 'born': 1.0,\n",
              " 'box': 1.0,\n",
              " 'brisbaneafter': 1.0,\n",
              " 'bullants': 1.0,\n",
              " 'by': 1.0,\n",
              " 'career': 1.0,\n",
              " 'carlton': 2.0,\n",
              " 'carltons': 1.0,\n",
              " 'cause': 1.0,\n",
              " 'club': 5.0,\n",
              " 'clubs': 1.0,\n",
              " 'coach': 2.0,\n",
              " 'coached': 1.0,\n",
              " 'coburg': 1.0,\n",
              " 'college': 1.0,\n",
              " 'continued': 1.0,\n",
              " 'corey': 1.0,\n",
              " 'currently': 1.0,\n",
              " 'david': 1.0,\n",
              " 'delisted': 1.0,\n",
              " 'digby': 1.0,\n",
              " 'district': 1.0,\n",
              " 'division': 1.0,\n",
              " 'draft': 1.0,\n",
              " 'drawn': 1.0,\n",
              " 'during': 1.0,\n",
              " 'early': 1.0,\n",
              " 'edflhe': 1.0,\n",
              " 'education': 1.0,\n",
              " 'end': 2.0,\n",
              " 'essendon': 1.0,\n",
              " 'exchange': 1.0,\n",
              " 'falcons': 1.0,\n",
              " 'first': 1.0,\n",
              " 'five': 1.0,\n",
              " 'following': 1.0,\n",
              " 'football': 10.0,\n",
              " 'footballer': 1.0,\n",
              " 'for': 4.0,\n",
              " 'former': 1.0,\n",
              " 'forward': 1.0,\n",
              " 'from': 2.0,\n",
              " 'game': 1.0,\n",
              " 'games': 1.0,\n",
              " 'goalkicker': 1.0,\n",
              " 'goals': 1.0,\n",
              " 'has': 1.0,\n",
              " 'hawks': 1.0,\n",
              " 'he': 6.0,\n",
              " 'hill': 1.0,\n",
              " 'his': 3.0,\n",
              " 'in': 13.0,\n",
              " 'is': 1.0,\n",
              " 'its': 1.0,\n",
              " 'kangaroos': 3.0,\n",
              " 'kicked': 1.0,\n",
              " 'leading': 2.0,\n",
              " 'league': 4.0,\n",
              " 'losing': 1.0,\n",
              " 'mckernan': 1.0,\n",
              " 'melbourne': 1.0,\n",
              " 'morrell': 5.0,\n",
              " 'northern': 1.0,\n",
              " 'october': 1.0,\n",
              " 'of': 4.0,\n",
              " 'other': 1.0,\n",
              " 'parade': 1.0,\n",
              " 'perth': 1.0,\n",
              " 'physical': 1.0,\n",
              " 'play': 1.0,\n",
              " 'played': 3.0,\n",
              " 'playing': 2.0,\n",
              " 'premier': 1.0,\n",
              " 'premiership': 1.0,\n",
              " 'recruited': 1.0,\n",
              " 'retiring': 1.0,\n",
              " 'rookie': 1.0,\n",
              " 'round': 1.0,\n",
              " 'rules': 1.0,\n",
              " 'season': 3.0,\n",
              " 'selection': 1.0,\n",
              " 'senior': 3.0,\n",
              " 'shifted': 1.0,\n",
              " 'since': 1.0,\n",
              " 'spanned': 1.0,\n",
              " 'strathmore': 1.0,\n",
              " 'sydney': 1.0,\n",
              " 'teaches': 1.0,\n",
              " 'teague': 1.0,\n",
              " 'the': 27.0,\n",
              " 'third': 1.0,\n",
              " 'time': 1.0,\n",
              " 'to': 5.0,\n",
              " 'traded': 1.0,\n",
              " 'twice': 1.0,\n",
              " 'until': 1.0,\n",
              " 'vfl': 1.0,\n",
              " 'vflaffiliate': 1.0,\n",
              " 'victorian': 1.0,\n",
              " 'was': 5.0,\n",
              " 'west': 2.0,\n",
              " 'western': 1.0,\n",
              " 'who': 1.0,\n",
              " 'with': 5.0}"
            ]
          },
          "metadata": {},
          "execution_count": 6
        }
      ]
    },
    {
      "cell_type": "markdown",
      "metadata": {
        "id": "xnbNnakb_zBI"
      },
      "source": [
        "## Find nearest neighbors"
      ]
    },
    {
      "cell_type": "markdown",
      "metadata": {
        "id": "yJK4Y1e0_zBJ"
      },
      "source": [
        "Let's start by finding the nearest neighbors of the Barack Obama page using the word count vectors to represent the articles and Euclidean distance to measure distance.  For this, again will we use a Turi Create implementation of nearest neighbor search."
      ]
    },
    {
      "cell_type": "code",
      "metadata": {
        "colab": {
          "base_uri": "https://localhost:8080/",
          "height": 104
        },
        "id": "yGNsdtRW_zBJ",
        "outputId": "efdaebfd-0549-4bde-9e1c-1ad0621ceec4"
      },
      "source": [
        "model = turicreate.nearest_neighbors.create(wiki, label='name', features=['word_count'],\n",
        "                                            method='brute_force', distance='euclidean')"
      ],
      "execution_count": 7,
      "outputs": [
        {
          "output_type": "display_data",
          "data": {
            "text/html": [
              "<pre>Starting brute force nearest neighbors model training.</pre>"
            ],
            "text/plain": [
              "Starting brute force nearest neighbors model training."
            ]
          },
          "metadata": {}
        },
        {
          "output_type": "display_data",
          "data": {
            "text/html": [
              "<pre>Validating distance components.</pre>"
            ],
            "text/plain": [
              "Validating distance components."
            ]
          },
          "metadata": {}
        },
        {
          "output_type": "display_data",
          "data": {
            "text/html": [
              "<pre>Initializing model data.</pre>"
            ],
            "text/plain": [
              "Initializing model data."
            ]
          },
          "metadata": {}
        },
        {
          "output_type": "display_data",
          "data": {
            "text/html": [
              "<pre>Initializing distances.</pre>"
            ],
            "text/plain": [
              "Initializing distances."
            ]
          },
          "metadata": {}
        },
        {
          "output_type": "display_data",
          "data": {
            "text/html": [
              "<pre>Done.</pre>"
            ],
            "text/plain": [
              "Done."
            ]
          },
          "metadata": {}
        }
      ]
    },
    {
      "cell_type": "markdown",
      "metadata": {
        "id": "jJW-htLo_zBK"
      },
      "source": [
        "Let's look at the top 10 nearest neighbors by performing the following query:"
      ]
    },
    {
      "cell_type": "code",
      "metadata": {
        "scrolled": false,
        "colab": {
          "base_uri": "https://localhost:8080/",
          "height": 388
        },
        "id": "Cq5hIynr_zBK",
        "outputId": "3a1f377a-bca4-4c80-f835-f5e60e2cfaa4"
      },
      "source": [
        "model.query(wiki[wiki['name']=='Barack Obama'], label='name', k=10)"
      ],
      "execution_count": 8,
      "outputs": [
        {
          "output_type": "display_data",
          "data": {
            "text/html": [
              "<pre>Starting pairwise querying.</pre>"
            ],
            "text/plain": [
              "Starting pairwise querying."
            ]
          },
          "metadata": {}
        },
        {
          "output_type": "display_data",
          "data": {
            "text/html": [
              "<pre>+--------------+---------+-------------+--------------+</pre>"
            ],
            "text/plain": [
              "+--------------+---------+-------------+--------------+"
            ]
          },
          "metadata": {}
        },
        {
          "output_type": "display_data",
          "data": {
            "text/html": [
              "<pre>| Query points | # Pairs | % Complete. | Elapsed Time |</pre>"
            ],
            "text/plain": [
              "| Query points | # Pairs | % Complete. | Elapsed Time |"
            ]
          },
          "metadata": {}
        },
        {
          "output_type": "display_data",
          "data": {
            "text/html": [
              "<pre>+--------------+---------+-------------+--------------+</pre>"
            ],
            "text/plain": [
              "+--------------+---------+-------------+--------------+"
            ]
          },
          "metadata": {}
        },
        {
          "output_type": "display_data",
          "data": {
            "text/html": [
              "<pre>| 0            | 1       | 0.00169288  | 7.699ms      |</pre>"
            ],
            "text/plain": [
              "| 0            | 1       | 0.00169288  | 7.699ms      |"
            ]
          },
          "metadata": {}
        },
        {
          "output_type": "display_data",
          "data": {
            "text/html": [
              "<pre>| Done         |         | 100         | 463.523ms    |</pre>"
            ],
            "text/plain": [
              "| Done         |         | 100         | 463.523ms    |"
            ]
          },
          "metadata": {}
        },
        {
          "output_type": "display_data",
          "data": {
            "text/html": [
              "<pre>+--------------+---------+-------------+--------------+</pre>"
            ],
            "text/plain": [
              "+--------------+---------+-------------+--------------+"
            ]
          },
          "metadata": {}
        },
        {
          "output_type": "execute_result",
          "data": {
            "text/html": [
              "<div style=\"max-height:1000px;max-width:1500px;overflow:auto;\"><table frame=\"box\" rules=\"cols\">\n",
              "    <tr>\n",
              "        <th style=\"padding-left: 1em; padding-right: 1em; text-align: center\">query_label</th>\n",
              "        <th style=\"padding-left: 1em; padding-right: 1em; text-align: center\">reference_label</th>\n",
              "        <th style=\"padding-left: 1em; padding-right: 1em; text-align: center\">distance</th>\n",
              "        <th style=\"padding-left: 1em; padding-right: 1em; text-align: center\">rank</th>\n",
              "    </tr>\n",
              "    <tr>\n",
              "        <td style=\"padding-left: 1em; padding-right: 1em; text-align: center; vertical-align: top\">Barack Obama</td>\n",
              "        <td style=\"padding-left: 1em; padding-right: 1em; text-align: center; vertical-align: top\">Barack Obama</td>\n",
              "        <td style=\"padding-left: 1em; padding-right: 1em; text-align: center; vertical-align: top\">0.0</td>\n",
              "        <td style=\"padding-left: 1em; padding-right: 1em; text-align: center; vertical-align: top\">1</td>\n",
              "    </tr>\n",
              "    <tr>\n",
              "        <td style=\"padding-left: 1em; padding-right: 1em; text-align: center; vertical-align: top\">Barack Obama</td>\n",
              "        <td style=\"padding-left: 1em; padding-right: 1em; text-align: center; vertical-align: top\">Joe Biden</td>\n",
              "        <td style=\"padding-left: 1em; padding-right: 1em; text-align: center; vertical-align: top\">33.075670817082454</td>\n",
              "        <td style=\"padding-left: 1em; padding-right: 1em; text-align: center; vertical-align: top\">2</td>\n",
              "    </tr>\n",
              "    <tr>\n",
              "        <td style=\"padding-left: 1em; padding-right: 1em; text-align: center; vertical-align: top\">Barack Obama</td>\n",
              "        <td style=\"padding-left: 1em; padding-right: 1em; text-align: center; vertical-align: top\">George W. Bush</td>\n",
              "        <td style=\"padding-left: 1em; padding-right: 1em; text-align: center; vertical-align: top\">34.39476704383968</td>\n",
              "        <td style=\"padding-left: 1em; padding-right: 1em; text-align: center; vertical-align: top\">3</td>\n",
              "    </tr>\n",
              "    <tr>\n",
              "        <td style=\"padding-left: 1em; padding-right: 1em; text-align: center; vertical-align: top\">Barack Obama</td>\n",
              "        <td style=\"padding-left: 1em; padding-right: 1em; text-align: center; vertical-align: top\">Lawrence Summers</td>\n",
              "        <td style=\"padding-left: 1em; padding-right: 1em; text-align: center; vertical-align: top\">36.15245496505044</td>\n",
              "        <td style=\"padding-left: 1em; padding-right: 1em; text-align: center; vertical-align: top\">4</td>\n",
              "    </tr>\n",
              "    <tr>\n",
              "        <td style=\"padding-left: 1em; padding-right: 1em; text-align: center; vertical-align: top\">Barack Obama</td>\n",
              "        <td style=\"padding-left: 1em; padding-right: 1em; text-align: center; vertical-align: top\">Mitt Romney</td>\n",
              "        <td style=\"padding-left: 1em; padding-right: 1em; text-align: center; vertical-align: top\">36.16628264005025</td>\n",
              "        <td style=\"padding-left: 1em; padding-right: 1em; text-align: center; vertical-align: top\">5</td>\n",
              "    </tr>\n",
              "    <tr>\n",
              "        <td style=\"padding-left: 1em; padding-right: 1em; text-align: center; vertical-align: top\">Barack Obama</td>\n",
              "        <td style=\"padding-left: 1em; padding-right: 1em; text-align: center; vertical-align: top\">Francisco Barrio</td>\n",
              "        <td style=\"padding-left: 1em; padding-right: 1em; text-align: center; vertical-align: top\">36.3318042491699</td>\n",
              "        <td style=\"padding-left: 1em; padding-right: 1em; text-align: center; vertical-align: top\">6</td>\n",
              "    </tr>\n",
              "    <tr>\n",
              "        <td style=\"padding-left: 1em; padding-right: 1em; text-align: center; vertical-align: top\">Barack Obama</td>\n",
              "        <td style=\"padding-left: 1em; padding-right: 1em; text-align: center; vertical-align: top\">Walter Mondale</td>\n",
              "        <td style=\"padding-left: 1em; padding-right: 1em; text-align: center; vertical-align: top\">36.40054944640259</td>\n",
              "        <td style=\"padding-left: 1em; padding-right: 1em; text-align: center; vertical-align: top\">7</td>\n",
              "    </tr>\n",
              "    <tr>\n",
              "        <td style=\"padding-left: 1em; padding-right: 1em; text-align: center; vertical-align: top\">Barack Obama</td>\n",
              "        <td style=\"padding-left: 1em; padding-right: 1em; text-align: center; vertical-align: top\">Wynn Normington Hugh-<br>Jones ...</td>\n",
              "        <td style=\"padding-left: 1em; padding-right: 1em; text-align: center; vertical-align: top\">36.49657518178932</td>\n",
              "        <td style=\"padding-left: 1em; padding-right: 1em; text-align: center; vertical-align: top\">8</td>\n",
              "    </tr>\n",
              "    <tr>\n",
              "        <td style=\"padding-left: 1em; padding-right: 1em; text-align: center; vertical-align: top\">Barack Obama</td>\n",
              "        <td style=\"padding-left: 1em; padding-right: 1em; text-align: center; vertical-align: top\">Don Bonker</td>\n",
              "        <td style=\"padding-left: 1em; padding-right: 1em; text-align: center; vertical-align: top\">36.6333181680284</td>\n",
              "        <td style=\"padding-left: 1em; padding-right: 1em; text-align: center; vertical-align: top\">9</td>\n",
              "    </tr>\n",
              "    <tr>\n",
              "        <td style=\"padding-left: 1em; padding-right: 1em; text-align: center; vertical-align: top\">Barack Obama</td>\n",
              "        <td style=\"padding-left: 1em; padding-right: 1em; text-align: center; vertical-align: top\">Andy Anstett</td>\n",
              "        <td style=\"padding-left: 1em; padding-right: 1em; text-align: center; vertical-align: top\">36.959437225152655</td>\n",
              "        <td style=\"padding-left: 1em; padding-right: 1em; text-align: center; vertical-align: top\">10</td>\n",
              "    </tr>\n",
              "</table>\n",
              "[10 rows x 4 columns]<br/>\n",
              "</div>"
            ],
            "text/plain": [
              "Columns:\n",
              "\tquery_label\tstr\n",
              "\treference_label\tstr\n",
              "\tdistance\tfloat\n",
              "\trank\tint\n",
              "\n",
              "Rows: 10\n",
              "\n",
              "Data:\n",
              "+--------------+----------------------------+--------------------+------+\n",
              "| query_label  |      reference_label       |      distance      | rank |\n",
              "+--------------+----------------------------+--------------------+------+\n",
              "| Barack Obama |        Barack Obama        |        0.0         |  1   |\n",
              "| Barack Obama |         Joe Biden          | 33.075670817082454 |  2   |\n",
              "| Barack Obama |       George W. Bush       | 34.39476704383968  |  3   |\n",
              "| Barack Obama |      Lawrence Summers      | 36.15245496505044  |  4   |\n",
              "| Barack Obama |        Mitt Romney         | 36.16628264005025  |  5   |\n",
              "| Barack Obama |      Francisco Barrio      |  36.3318042491699  |  6   |\n",
              "| Barack Obama |       Walter Mondale       | 36.40054944640259  |  7   |\n",
              "| Barack Obama | Wynn Normington Hugh-Jones | 36.49657518178932  |  8   |\n",
              "| Barack Obama |         Don Bonker         |  36.6333181680284  |  9   |\n",
              "| Barack Obama |        Andy Anstett        | 36.959437225152655 |  10  |\n",
              "+--------------+----------------------------+--------------------+------+\n",
              "[10 rows x 4 columns]"
            ]
          },
          "metadata": {},
          "execution_count": 8
        }
      ]
    },
    {
      "cell_type": "markdown",
      "metadata": {
        "id": "UgYq8t7d_zBL"
      },
      "source": [
        "All of the 10 people are politicians, but about half of them have rather tenuous connections with Obama, other than the fact that they are politicians.\n",
        "\n",
        "* Francisco Barrio is a Mexican politician, and a former governor of Chihuahua.\n",
        "* Walter Mondale and Don Bonker are Democrats who made their career in late 1970s.\n",
        "* Wynn Normington Hugh-Jones is a former British diplomat and Liberal Party official.\n",
        "* Andy Anstett is a former politician in Manitoba, Canada.\n",
        "\n",
        "Nearest neighbors with raw word counts got some things right, showing all politicians in the query result, but missed finer and important details.\n",
        "\n",
        "For instance, let's find out why Francisco Barrio was considered a close neighbor of Obama.  To do this, let's look at the most frequently used words in each of Barack Obama and Francisco Barrio's pages:"
      ]
    },
    {
      "cell_type": "code",
      "metadata": {
        "id": "4LRU4ydV_zBM"
      },
      "source": [
        "def top_words(name):\n",
        "    \"\"\"\n",
        "    Get a table of the most frequent words in the given person's wikipedia page.\n",
        "    \"\"\"\n",
        "    row = wiki[wiki['name'] == name]\n",
        "    word_count_table = row[['word_count']].stack('word_count', new_column_name=['word','count'])\n",
        "    return word_count_table.sort('count', ascending=False)"
      ],
      "execution_count": 9,
      "outputs": []
    },
    {
      "cell_type": "code",
      "metadata": {
        "colab": {
          "base_uri": "https://localhost:8080/",
          "height": 284
        },
        "id": "phTm8nfE_zBN",
        "outputId": "132be5d0-d1e3-46d8-ed56-8917ed8f0b65"
      },
      "source": [
        "obama_words = top_words('Barack Obama')\n",
        "obama_words"
      ],
      "execution_count": 10,
      "outputs": [
        {
          "output_type": "execute_result",
          "data": {
            "text/html": [
              "<div style=\"max-height:1000px;max-width:1500px;overflow:auto;\"><table frame=\"box\" rules=\"cols\">\n",
              "    <tr>\n",
              "        <th style=\"padding-left: 1em; padding-right: 1em; text-align: center\">word</th>\n",
              "        <th style=\"padding-left: 1em; padding-right: 1em; text-align: center\">count</th>\n",
              "    </tr>\n",
              "    <tr>\n",
              "        <td style=\"padding-left: 1em; padding-right: 1em; text-align: center; vertical-align: top\">the</td>\n",
              "        <td style=\"padding-left: 1em; padding-right: 1em; text-align: center; vertical-align: top\">40.0</td>\n",
              "    </tr>\n",
              "    <tr>\n",
              "        <td style=\"padding-left: 1em; padding-right: 1em; text-align: center; vertical-align: top\">in</td>\n",
              "        <td style=\"padding-left: 1em; padding-right: 1em; text-align: center; vertical-align: top\">30.0</td>\n",
              "    </tr>\n",
              "    <tr>\n",
              "        <td style=\"padding-left: 1em; padding-right: 1em; text-align: center; vertical-align: top\">and</td>\n",
              "        <td style=\"padding-left: 1em; padding-right: 1em; text-align: center; vertical-align: top\">21.0</td>\n",
              "    </tr>\n",
              "    <tr>\n",
              "        <td style=\"padding-left: 1em; padding-right: 1em; text-align: center; vertical-align: top\">of</td>\n",
              "        <td style=\"padding-left: 1em; padding-right: 1em; text-align: center; vertical-align: top\">18.0</td>\n",
              "    </tr>\n",
              "    <tr>\n",
              "        <td style=\"padding-left: 1em; padding-right: 1em; text-align: center; vertical-align: top\">to</td>\n",
              "        <td style=\"padding-left: 1em; padding-right: 1em; text-align: center; vertical-align: top\">14.0</td>\n",
              "    </tr>\n",
              "    <tr>\n",
              "        <td style=\"padding-left: 1em; padding-right: 1em; text-align: center; vertical-align: top\">his</td>\n",
              "        <td style=\"padding-left: 1em; padding-right: 1em; text-align: center; vertical-align: top\">11.0</td>\n",
              "    </tr>\n",
              "    <tr>\n",
              "        <td style=\"padding-left: 1em; padding-right: 1em; text-align: center; vertical-align: top\">obama</td>\n",
              "        <td style=\"padding-left: 1em; padding-right: 1em; text-align: center; vertical-align: top\">9.0</td>\n",
              "    </tr>\n",
              "    <tr>\n",
              "        <td style=\"padding-left: 1em; padding-right: 1em; text-align: center; vertical-align: top\">act</td>\n",
              "        <td style=\"padding-left: 1em; padding-right: 1em; text-align: center; vertical-align: top\">8.0</td>\n",
              "    </tr>\n",
              "    <tr>\n",
              "        <td style=\"padding-left: 1em; padding-right: 1em; text-align: center; vertical-align: top\">a</td>\n",
              "        <td style=\"padding-left: 1em; padding-right: 1em; text-align: center; vertical-align: top\">7.0</td>\n",
              "    </tr>\n",
              "    <tr>\n",
              "        <td style=\"padding-left: 1em; padding-right: 1em; text-align: center; vertical-align: top\">he</td>\n",
              "        <td style=\"padding-left: 1em; padding-right: 1em; text-align: center; vertical-align: top\">7.0</td>\n",
              "    </tr>\n",
              "</table>\n",
              "[273 rows x 2 columns]<br/>Note: Only the head of the SFrame is printed.<br/>You can use print_rows(num_rows=m, num_columns=n) to print more rows and columns.\n",
              "</div>"
            ],
            "text/plain": [
              "Columns:\n",
              "\tword\tstr\n",
              "\tcount\tfloat\n",
              "\n",
              "Rows: 273\n",
              "\n",
              "Data:\n",
              "+-------+-------+\n",
              "|  word | count |\n",
              "+-------+-------+\n",
              "|  the  |  40.0 |\n",
              "|   in  |  30.0 |\n",
              "|  and  |  21.0 |\n",
              "|   of  |  18.0 |\n",
              "|   to  |  14.0 |\n",
              "|  his  |  11.0 |\n",
              "| obama |  9.0  |\n",
              "|  act  |  8.0  |\n",
              "|   a   |  7.0  |\n",
              "|   he  |  7.0  |\n",
              "+-------+-------+\n",
              "[273 rows x 2 columns]\n",
              "Note: Only the head of the SFrame is printed.\n",
              "You can use print_rows(num_rows=m, num_columns=n) to print more rows and columns."
            ]
          },
          "metadata": {},
          "execution_count": 10
        }
      ]
    },
    {
      "cell_type": "code",
      "metadata": {
        "colab": {
          "base_uri": "https://localhost:8080/",
          "height": 284
        },
        "id": "Jxgjx_cF_zBO",
        "outputId": "e61dcc85-7759-4e78-a9c5-38b981926d54"
      },
      "source": [
        "barrio_words = top_words('Francisco Barrio')\n",
        "barrio_words"
      ],
      "execution_count": 11,
      "outputs": [
        {
          "output_type": "execute_result",
          "data": {
            "text/html": [
              "<div style=\"max-height:1000px;max-width:1500px;overflow:auto;\"><table frame=\"box\" rules=\"cols\">\n",
              "    <tr>\n",
              "        <th style=\"padding-left: 1em; padding-right: 1em; text-align: center\">word</th>\n",
              "        <th style=\"padding-left: 1em; padding-right: 1em; text-align: center\">count</th>\n",
              "    </tr>\n",
              "    <tr>\n",
              "        <td style=\"padding-left: 1em; padding-right: 1em; text-align: center; vertical-align: top\">the</td>\n",
              "        <td style=\"padding-left: 1em; padding-right: 1em; text-align: center; vertical-align: top\">36.0</td>\n",
              "    </tr>\n",
              "    <tr>\n",
              "        <td style=\"padding-left: 1em; padding-right: 1em; text-align: center; vertical-align: top\">of</td>\n",
              "        <td style=\"padding-left: 1em; padding-right: 1em; text-align: center; vertical-align: top\">24.0</td>\n",
              "    </tr>\n",
              "    <tr>\n",
              "        <td style=\"padding-left: 1em; padding-right: 1em; text-align: center; vertical-align: top\">and</td>\n",
              "        <td style=\"padding-left: 1em; padding-right: 1em; text-align: center; vertical-align: top\">18.0</td>\n",
              "    </tr>\n",
              "    <tr>\n",
              "        <td style=\"padding-left: 1em; padding-right: 1em; text-align: center; vertical-align: top\">in</td>\n",
              "        <td style=\"padding-left: 1em; padding-right: 1em; text-align: center; vertical-align: top\">17.0</td>\n",
              "    </tr>\n",
              "    <tr>\n",
              "        <td style=\"padding-left: 1em; padding-right: 1em; text-align: center; vertical-align: top\">he</td>\n",
              "        <td style=\"padding-left: 1em; padding-right: 1em; text-align: center; vertical-align: top\">10.0</td>\n",
              "    </tr>\n",
              "    <tr>\n",
              "        <td style=\"padding-left: 1em; padding-right: 1em; text-align: center; vertical-align: top\">to</td>\n",
              "        <td style=\"padding-left: 1em; padding-right: 1em; text-align: center; vertical-align: top\">9.0</td>\n",
              "    </tr>\n",
              "    <tr>\n",
              "        <td style=\"padding-left: 1em; padding-right: 1em; text-align: center; vertical-align: top\">chihuahua</td>\n",
              "        <td style=\"padding-left: 1em; padding-right: 1em; text-align: center; vertical-align: top\">7.0</td>\n",
              "    </tr>\n",
              "    <tr>\n",
              "        <td style=\"padding-left: 1em; padding-right: 1em; text-align: center; vertical-align: top\">a</td>\n",
              "        <td style=\"padding-left: 1em; padding-right: 1em; text-align: center; vertical-align: top\">6.0</td>\n",
              "    </tr>\n",
              "    <tr>\n",
              "        <td style=\"padding-left: 1em; padding-right: 1em; text-align: center; vertical-align: top\">governor</td>\n",
              "        <td style=\"padding-left: 1em; padding-right: 1em; text-align: center; vertical-align: top\">6.0</td>\n",
              "    </tr>\n",
              "    <tr>\n",
              "        <td style=\"padding-left: 1em; padding-right: 1em; text-align: center; vertical-align: top\">his</td>\n",
              "        <td style=\"padding-left: 1em; padding-right: 1em; text-align: center; vertical-align: top\">5.0</td>\n",
              "    </tr>\n",
              "</table>\n",
              "[225 rows x 2 columns]<br/>Note: Only the head of the SFrame is printed.<br/>You can use print_rows(num_rows=m, num_columns=n) to print more rows and columns.\n",
              "</div>"
            ],
            "text/plain": [
              "Columns:\n",
              "\tword\tstr\n",
              "\tcount\tfloat\n",
              "\n",
              "Rows: 225\n",
              "\n",
              "Data:\n",
              "+-----------+-------+\n",
              "|    word   | count |\n",
              "+-----------+-------+\n",
              "|    the    |  36.0 |\n",
              "|     of    |  24.0 |\n",
              "|    and    |  18.0 |\n",
              "|     in    |  17.0 |\n",
              "|     he    |  10.0 |\n",
              "|     to    |  9.0  |\n",
              "| chihuahua |  7.0  |\n",
              "|     a     |  6.0  |\n",
              "|  governor |  6.0  |\n",
              "|    his    |  5.0  |\n",
              "+-----------+-------+\n",
              "[225 rows x 2 columns]\n",
              "Note: Only the head of the SFrame is printed.\n",
              "You can use print_rows(num_rows=m, num_columns=n) to print more rows and columns."
            ]
          },
          "metadata": {},
          "execution_count": 11
        }
      ]
    },
    {
      "cell_type": "markdown",
      "metadata": {
        "id": "mJi9sPsR_zBP"
      },
      "source": [
        "Let's extract the list of most frequent words that appear in both Obama's and Barrio's documents. We've so far sorted all words from Obama and Barrio's articles by their word frequencies. We will now use a dataframe operation known as **join**. The **join** operation is very useful when it comes to playing around with data: it lets you combine the content of two tables using a shared column (in this case, the word column). See [the documentation](https://dato.com/products/create/docs/generated/graphlab.SFrame.join.html) for more details.\n",
        "\n",
        "For instance, running\n",
        "```\n",
        "obama_words.join(barrio_words, on='word')\n",
        "```\n",
        "will extract the rows from both tables that correspond to the common words."
      ]
    },
    {
      "cell_type": "code",
      "metadata": {
        "colab": {
          "base_uri": "https://localhost:8080/",
          "height": 284
        },
        "id": "cSOCs1Nj_zBQ",
        "outputId": "ba036e7f-ddab-40a8-a940-426e06d37828"
      },
      "source": [
        "combined_words = obama_words.join(barrio_words, on='word')\n",
        "combined_words"
      ],
      "execution_count": 12,
      "outputs": [
        {
          "output_type": "execute_result",
          "data": {
            "text/html": [
              "<div style=\"max-height:1000px;max-width:1500px;overflow:auto;\"><table frame=\"box\" rules=\"cols\">\n",
              "    <tr>\n",
              "        <th style=\"padding-left: 1em; padding-right: 1em; text-align: center\">word</th>\n",
              "        <th style=\"padding-left: 1em; padding-right: 1em; text-align: center\">count</th>\n",
              "        <th style=\"padding-left: 1em; padding-right: 1em; text-align: center\">count.1</th>\n",
              "    </tr>\n",
              "    <tr>\n",
              "        <td style=\"padding-left: 1em; padding-right: 1em; text-align: center; vertical-align: top\">the</td>\n",
              "        <td style=\"padding-left: 1em; padding-right: 1em; text-align: center; vertical-align: top\">40.0</td>\n",
              "        <td style=\"padding-left: 1em; padding-right: 1em; text-align: center; vertical-align: top\">36.0</td>\n",
              "    </tr>\n",
              "    <tr>\n",
              "        <td style=\"padding-left: 1em; padding-right: 1em; text-align: center; vertical-align: top\">in</td>\n",
              "        <td style=\"padding-left: 1em; padding-right: 1em; text-align: center; vertical-align: top\">30.0</td>\n",
              "        <td style=\"padding-left: 1em; padding-right: 1em; text-align: center; vertical-align: top\">17.0</td>\n",
              "    </tr>\n",
              "    <tr>\n",
              "        <td style=\"padding-left: 1em; padding-right: 1em; text-align: center; vertical-align: top\">and</td>\n",
              "        <td style=\"padding-left: 1em; padding-right: 1em; text-align: center; vertical-align: top\">21.0</td>\n",
              "        <td style=\"padding-left: 1em; padding-right: 1em; text-align: center; vertical-align: top\">18.0</td>\n",
              "    </tr>\n",
              "    <tr>\n",
              "        <td style=\"padding-left: 1em; padding-right: 1em; text-align: center; vertical-align: top\">of</td>\n",
              "        <td style=\"padding-left: 1em; padding-right: 1em; text-align: center; vertical-align: top\">18.0</td>\n",
              "        <td style=\"padding-left: 1em; padding-right: 1em; text-align: center; vertical-align: top\">24.0</td>\n",
              "    </tr>\n",
              "    <tr>\n",
              "        <td style=\"padding-left: 1em; padding-right: 1em; text-align: center; vertical-align: top\">to</td>\n",
              "        <td style=\"padding-left: 1em; padding-right: 1em; text-align: center; vertical-align: top\">14.0</td>\n",
              "        <td style=\"padding-left: 1em; padding-right: 1em; text-align: center; vertical-align: top\">9.0</td>\n",
              "    </tr>\n",
              "    <tr>\n",
              "        <td style=\"padding-left: 1em; padding-right: 1em; text-align: center; vertical-align: top\">his</td>\n",
              "        <td style=\"padding-left: 1em; padding-right: 1em; text-align: center; vertical-align: top\">11.0</td>\n",
              "        <td style=\"padding-left: 1em; padding-right: 1em; text-align: center; vertical-align: top\">5.0</td>\n",
              "    </tr>\n",
              "    <tr>\n",
              "        <td style=\"padding-left: 1em; padding-right: 1em; text-align: center; vertical-align: top\">a</td>\n",
              "        <td style=\"padding-left: 1em; padding-right: 1em; text-align: center; vertical-align: top\">7.0</td>\n",
              "        <td style=\"padding-left: 1em; padding-right: 1em; text-align: center; vertical-align: top\">6.0</td>\n",
              "    </tr>\n",
              "    <tr>\n",
              "        <td style=\"padding-left: 1em; padding-right: 1em; text-align: center; vertical-align: top\">he</td>\n",
              "        <td style=\"padding-left: 1em; padding-right: 1em; text-align: center; vertical-align: top\">7.0</td>\n",
              "        <td style=\"padding-left: 1em; padding-right: 1em; text-align: center; vertical-align: top\">10.0</td>\n",
              "    </tr>\n",
              "    <tr>\n",
              "        <td style=\"padding-left: 1em; padding-right: 1em; text-align: center; vertical-align: top\">as</td>\n",
              "        <td style=\"padding-left: 1em; padding-right: 1em; text-align: center; vertical-align: top\">6.0</td>\n",
              "        <td style=\"padding-left: 1em; padding-right: 1em; text-align: center; vertical-align: top\">5.0</td>\n",
              "    </tr>\n",
              "    <tr>\n",
              "        <td style=\"padding-left: 1em; padding-right: 1em; text-align: center; vertical-align: top\">was</td>\n",
              "        <td style=\"padding-left: 1em; padding-right: 1em; text-align: center; vertical-align: top\">5.0</td>\n",
              "        <td style=\"padding-left: 1em; padding-right: 1em; text-align: center; vertical-align: top\">4.0</td>\n",
              "    </tr>\n",
              "</table>\n",
              "[56 rows x 3 columns]<br/>Note: Only the head of the SFrame is printed.<br/>You can use print_rows(num_rows=m, num_columns=n) to print more rows and columns.\n",
              "</div>"
            ],
            "text/plain": [
              "Columns:\n",
              "\tword\tstr\n",
              "\tcount\tfloat\n",
              "\tcount.1\tfloat\n",
              "\n",
              "Rows: 56\n",
              "\n",
              "Data:\n",
              "+------+-------+---------+\n",
              "| word | count | count.1 |\n",
              "+------+-------+---------+\n",
              "| the  |  40.0 |   36.0  |\n",
              "|  in  |  30.0 |   17.0  |\n",
              "| and  |  21.0 |   18.0  |\n",
              "|  of  |  18.0 |   24.0  |\n",
              "|  to  |  14.0 |   9.0   |\n",
              "| his  |  11.0 |   5.0   |\n",
              "|  a   |  7.0  |   6.0   |\n",
              "|  he  |  7.0  |   10.0  |\n",
              "|  as  |  6.0  |   5.0   |\n",
              "| was  |  5.0  |   4.0   |\n",
              "+------+-------+---------+\n",
              "[56 rows x 3 columns]\n",
              "Note: Only the head of the SFrame is printed.\n",
              "You can use print_rows(num_rows=m, num_columns=n) to print more rows and columns."
            ]
          },
          "metadata": {},
          "execution_count": 12
        }
      ]
    },
    {
      "cell_type": "markdown",
      "metadata": {
        "id": "cotCKMAF_zBQ"
      },
      "source": [
        "Since both tables contained the column named `count`, SFrame automatically renamed one of them to prevent confusion. Let's rename the columns to tell which one is for which. By inspection, we see that the first column (`count`) is for Obama and the second (`count.1`) for Barrio."
      ]
    },
    {
      "cell_type": "code",
      "metadata": {
        "colab": {
          "base_uri": "https://localhost:8080/",
          "height": 284
        },
        "id": "73ozHB9D_zBS",
        "outputId": "8153e3c1-c367-45f2-8979-054b8c42eceb"
      },
      "source": [
        "combined_words = combined_words.rename({'count':'Obama', 'count.1':'Barrio'})\n",
        "combined_words"
      ],
      "execution_count": 13,
      "outputs": [
        {
          "output_type": "execute_result",
          "data": {
            "text/html": [
              "<div style=\"max-height:1000px;max-width:1500px;overflow:auto;\"><table frame=\"box\" rules=\"cols\">\n",
              "    <tr>\n",
              "        <th style=\"padding-left: 1em; padding-right: 1em; text-align: center\">word</th>\n",
              "        <th style=\"padding-left: 1em; padding-right: 1em; text-align: center\">Obama</th>\n",
              "        <th style=\"padding-left: 1em; padding-right: 1em; text-align: center\">Barrio</th>\n",
              "    </tr>\n",
              "    <tr>\n",
              "        <td style=\"padding-left: 1em; padding-right: 1em; text-align: center; vertical-align: top\">the</td>\n",
              "        <td style=\"padding-left: 1em; padding-right: 1em; text-align: center; vertical-align: top\">40.0</td>\n",
              "        <td style=\"padding-left: 1em; padding-right: 1em; text-align: center; vertical-align: top\">36.0</td>\n",
              "    </tr>\n",
              "    <tr>\n",
              "        <td style=\"padding-left: 1em; padding-right: 1em; text-align: center; vertical-align: top\">in</td>\n",
              "        <td style=\"padding-left: 1em; padding-right: 1em; text-align: center; vertical-align: top\">30.0</td>\n",
              "        <td style=\"padding-left: 1em; padding-right: 1em; text-align: center; vertical-align: top\">17.0</td>\n",
              "    </tr>\n",
              "    <tr>\n",
              "        <td style=\"padding-left: 1em; padding-right: 1em; text-align: center; vertical-align: top\">and</td>\n",
              "        <td style=\"padding-left: 1em; padding-right: 1em; text-align: center; vertical-align: top\">21.0</td>\n",
              "        <td style=\"padding-left: 1em; padding-right: 1em; text-align: center; vertical-align: top\">18.0</td>\n",
              "    </tr>\n",
              "    <tr>\n",
              "        <td style=\"padding-left: 1em; padding-right: 1em; text-align: center; vertical-align: top\">of</td>\n",
              "        <td style=\"padding-left: 1em; padding-right: 1em; text-align: center; vertical-align: top\">18.0</td>\n",
              "        <td style=\"padding-left: 1em; padding-right: 1em; text-align: center; vertical-align: top\">24.0</td>\n",
              "    </tr>\n",
              "    <tr>\n",
              "        <td style=\"padding-left: 1em; padding-right: 1em; text-align: center; vertical-align: top\">to</td>\n",
              "        <td style=\"padding-left: 1em; padding-right: 1em; text-align: center; vertical-align: top\">14.0</td>\n",
              "        <td style=\"padding-left: 1em; padding-right: 1em; text-align: center; vertical-align: top\">9.0</td>\n",
              "    </tr>\n",
              "    <tr>\n",
              "        <td style=\"padding-left: 1em; padding-right: 1em; text-align: center; vertical-align: top\">his</td>\n",
              "        <td style=\"padding-left: 1em; padding-right: 1em; text-align: center; vertical-align: top\">11.0</td>\n",
              "        <td style=\"padding-left: 1em; padding-right: 1em; text-align: center; vertical-align: top\">5.0</td>\n",
              "    </tr>\n",
              "    <tr>\n",
              "        <td style=\"padding-left: 1em; padding-right: 1em; text-align: center; vertical-align: top\">a</td>\n",
              "        <td style=\"padding-left: 1em; padding-right: 1em; text-align: center; vertical-align: top\">7.0</td>\n",
              "        <td style=\"padding-left: 1em; padding-right: 1em; text-align: center; vertical-align: top\">6.0</td>\n",
              "    </tr>\n",
              "    <tr>\n",
              "        <td style=\"padding-left: 1em; padding-right: 1em; text-align: center; vertical-align: top\">he</td>\n",
              "        <td style=\"padding-left: 1em; padding-right: 1em; text-align: center; vertical-align: top\">7.0</td>\n",
              "        <td style=\"padding-left: 1em; padding-right: 1em; text-align: center; vertical-align: top\">10.0</td>\n",
              "    </tr>\n",
              "    <tr>\n",
              "        <td style=\"padding-left: 1em; padding-right: 1em; text-align: center; vertical-align: top\">as</td>\n",
              "        <td style=\"padding-left: 1em; padding-right: 1em; text-align: center; vertical-align: top\">6.0</td>\n",
              "        <td style=\"padding-left: 1em; padding-right: 1em; text-align: center; vertical-align: top\">5.0</td>\n",
              "    </tr>\n",
              "    <tr>\n",
              "        <td style=\"padding-left: 1em; padding-right: 1em; text-align: center; vertical-align: top\">was</td>\n",
              "        <td style=\"padding-left: 1em; padding-right: 1em; text-align: center; vertical-align: top\">5.0</td>\n",
              "        <td style=\"padding-left: 1em; padding-right: 1em; text-align: center; vertical-align: top\">4.0</td>\n",
              "    </tr>\n",
              "</table>\n",
              "[56 rows x 3 columns]<br/>Note: Only the head of the SFrame is printed.<br/>You can use print_rows(num_rows=m, num_columns=n) to print more rows and columns.\n",
              "</div>"
            ],
            "text/plain": [
              "Columns:\n",
              "\tword\tstr\n",
              "\tObama\tfloat\n",
              "\tBarrio\tfloat\n",
              "\n",
              "Rows: 56\n",
              "\n",
              "Data:\n",
              "+------+-------+--------+\n",
              "| word | Obama | Barrio |\n",
              "+------+-------+--------+\n",
              "| the  |  40.0 |  36.0  |\n",
              "|  in  |  30.0 |  17.0  |\n",
              "| and  |  21.0 |  18.0  |\n",
              "|  of  |  18.0 |  24.0  |\n",
              "|  to  |  14.0 |  9.0   |\n",
              "| his  |  11.0 |  5.0   |\n",
              "|  a   |  7.0  |  6.0   |\n",
              "|  he  |  7.0  |  10.0  |\n",
              "|  as  |  6.0  |  5.0   |\n",
              "| was  |  5.0  |  4.0   |\n",
              "+------+-------+--------+\n",
              "[56 rows x 3 columns]\n",
              "Note: Only the head of the SFrame is printed.\n",
              "You can use print_rows(num_rows=m, num_columns=n) to print more rows and columns."
            ]
          },
          "metadata": {},
          "execution_count": 13
        }
      ]
    },
    {
      "cell_type": "markdown",
      "metadata": {
        "id": "uBptw7uW_zBT"
      },
      "source": [
        "**Note**. The **join** operation does not enforce any particular ordering on the shared column. So to obtain, say, the five common words that appear most often in Obama's article, sort the combined table by the Obama column. Don't forget `ascending=False` to display largest counts first."
      ]
    },
    {
      "cell_type": "code",
      "metadata": {
        "colab": {
          "base_uri": "https://localhost:8080/",
          "height": 284
        },
        "id": "NVudW6vR_zBU",
        "outputId": "689eac50-ba32-4cce-ae90-ab666e605fe5"
      },
      "source": [
        "combined_words.sort('Obama', ascending=False)"
      ],
      "execution_count": 14,
      "outputs": [
        {
          "output_type": "execute_result",
          "data": {
            "text/html": [
              "<div style=\"max-height:1000px;max-width:1500px;overflow:auto;\"><table frame=\"box\" rules=\"cols\">\n",
              "    <tr>\n",
              "        <th style=\"padding-left: 1em; padding-right: 1em; text-align: center\">word</th>\n",
              "        <th style=\"padding-left: 1em; padding-right: 1em; text-align: center\">Obama</th>\n",
              "        <th style=\"padding-left: 1em; padding-right: 1em; text-align: center\">Barrio</th>\n",
              "    </tr>\n",
              "    <tr>\n",
              "        <td style=\"padding-left: 1em; padding-right: 1em; text-align: center; vertical-align: top\">the</td>\n",
              "        <td style=\"padding-left: 1em; padding-right: 1em; text-align: center; vertical-align: top\">40.0</td>\n",
              "        <td style=\"padding-left: 1em; padding-right: 1em; text-align: center; vertical-align: top\">36.0</td>\n",
              "    </tr>\n",
              "    <tr>\n",
              "        <td style=\"padding-left: 1em; padding-right: 1em; text-align: center; vertical-align: top\">in</td>\n",
              "        <td style=\"padding-left: 1em; padding-right: 1em; text-align: center; vertical-align: top\">30.0</td>\n",
              "        <td style=\"padding-left: 1em; padding-right: 1em; text-align: center; vertical-align: top\">17.0</td>\n",
              "    </tr>\n",
              "    <tr>\n",
              "        <td style=\"padding-left: 1em; padding-right: 1em; text-align: center; vertical-align: top\">and</td>\n",
              "        <td style=\"padding-left: 1em; padding-right: 1em; text-align: center; vertical-align: top\">21.0</td>\n",
              "        <td style=\"padding-left: 1em; padding-right: 1em; text-align: center; vertical-align: top\">18.0</td>\n",
              "    </tr>\n",
              "    <tr>\n",
              "        <td style=\"padding-left: 1em; padding-right: 1em; text-align: center; vertical-align: top\">of</td>\n",
              "        <td style=\"padding-left: 1em; padding-right: 1em; text-align: center; vertical-align: top\">18.0</td>\n",
              "        <td style=\"padding-left: 1em; padding-right: 1em; text-align: center; vertical-align: top\">24.0</td>\n",
              "    </tr>\n",
              "    <tr>\n",
              "        <td style=\"padding-left: 1em; padding-right: 1em; text-align: center; vertical-align: top\">to</td>\n",
              "        <td style=\"padding-left: 1em; padding-right: 1em; text-align: center; vertical-align: top\">14.0</td>\n",
              "        <td style=\"padding-left: 1em; padding-right: 1em; text-align: center; vertical-align: top\">9.0</td>\n",
              "    </tr>\n",
              "    <tr>\n",
              "        <td style=\"padding-left: 1em; padding-right: 1em; text-align: center; vertical-align: top\">his</td>\n",
              "        <td style=\"padding-left: 1em; padding-right: 1em; text-align: center; vertical-align: top\">11.0</td>\n",
              "        <td style=\"padding-left: 1em; padding-right: 1em; text-align: center; vertical-align: top\">5.0</td>\n",
              "    </tr>\n",
              "    <tr>\n",
              "        <td style=\"padding-left: 1em; padding-right: 1em; text-align: center; vertical-align: top\">a</td>\n",
              "        <td style=\"padding-left: 1em; padding-right: 1em; text-align: center; vertical-align: top\">7.0</td>\n",
              "        <td style=\"padding-left: 1em; padding-right: 1em; text-align: center; vertical-align: top\">6.0</td>\n",
              "    </tr>\n",
              "    <tr>\n",
              "        <td style=\"padding-left: 1em; padding-right: 1em; text-align: center; vertical-align: top\">he</td>\n",
              "        <td style=\"padding-left: 1em; padding-right: 1em; text-align: center; vertical-align: top\">7.0</td>\n",
              "        <td style=\"padding-left: 1em; padding-right: 1em; text-align: center; vertical-align: top\">10.0</td>\n",
              "    </tr>\n",
              "    <tr>\n",
              "        <td style=\"padding-left: 1em; padding-right: 1em; text-align: center; vertical-align: top\">as</td>\n",
              "        <td style=\"padding-left: 1em; padding-right: 1em; text-align: center; vertical-align: top\">6.0</td>\n",
              "        <td style=\"padding-left: 1em; padding-right: 1em; text-align: center; vertical-align: top\">5.0</td>\n",
              "    </tr>\n",
              "    <tr>\n",
              "        <td style=\"padding-left: 1em; padding-right: 1em; text-align: center; vertical-align: top\">was</td>\n",
              "        <td style=\"padding-left: 1em; padding-right: 1em; text-align: center; vertical-align: top\">5.0</td>\n",
              "        <td style=\"padding-left: 1em; padding-right: 1em; text-align: center; vertical-align: top\">4.0</td>\n",
              "    </tr>\n",
              "</table>\n",
              "[56 rows x 3 columns]<br/>Note: Only the head of the SFrame is printed.<br/>You can use print_rows(num_rows=m, num_columns=n) to print more rows and columns.\n",
              "</div>"
            ],
            "text/plain": [
              "Columns:\n",
              "\tword\tstr\n",
              "\tObama\tfloat\n",
              "\tBarrio\tfloat\n",
              "\n",
              "Rows: 56\n",
              "\n",
              "Data:\n",
              "+------+-------+--------+\n",
              "| word | Obama | Barrio |\n",
              "+------+-------+--------+\n",
              "| the  |  40.0 |  36.0  |\n",
              "|  in  |  30.0 |  17.0  |\n",
              "| and  |  21.0 |  18.0  |\n",
              "|  of  |  18.0 |  24.0  |\n",
              "|  to  |  14.0 |  9.0   |\n",
              "| his  |  11.0 |  5.0   |\n",
              "|  a   |  7.0  |  6.0   |\n",
              "|  he  |  7.0  |  10.0  |\n",
              "|  as  |  6.0  |  5.0   |\n",
              "| was  |  5.0  |  4.0   |\n",
              "+------+-------+--------+\n",
              "[56 rows x 3 columns]\n",
              "Note: Only the head of the SFrame is printed.\n",
              "You can use print_rows(num_rows=m, num_columns=n) to print more rows and columns."
            ]
          },
          "metadata": {},
          "execution_count": 14
        }
      ]
    },
    {
      "cell_type": "markdown",
      "metadata": {
        "id": "N2l-vQcs_zBV"
      },
      "source": [
        "**Quiz Question**. Among the words that appear in both Barack Obama and Francisco Barrio, take the 5 that appear most frequently in Obama. How many of the articles in the Wikipedia dataset contain all of those 5 words?\n",
        "\n",
        "Hint:\n",
        "* Refer to the previous paragraph for finding the words that appear in both articles. Sort the common words by their frequencies in Obama's article and take the largest five.\n",
        "* Each word count vector is a Python dictionary. For each word count vector in SFrame, you'd have to check if the set of the 5 common words is a subset of the keys of the word count vector. Complete the function `has_top_words` to accomplish the task.\n",
        "  - Convert the list of top 5 words into set using the syntax\n",
        "```\n",
        "set(common_words)\n",
        "```\n",
        "    where `common_words` is a Python list. See [this link](https://docs.python.org/2/library/stdtypes.html#set) if you're curious about Python sets.\n",
        "  - Extract the list of keys of the word count dictionary by calling the [`keys()` method](https://docs.python.org/2/library/stdtypes.html#dict.keys).\n",
        "  - Convert the list of keys into a set as well.\n",
        "  - Use [`issubset()` method](https://docs.python.org/2/library/stdtypes.html#set) to check if all 5 words are among the keys.\n",
        "* Now apply the `has_top_words` function on every row of the SFrame.\n",
        "* Compute the sum of the result column to obtain the number of articles containing all the 5 top words."
      ]
    },
    {
      "cell_type": "code",
      "metadata": {
        "colab": {
          "base_uri": "https://localhost:8080/"
        },
        "id": "P_NBGyQ2_zBX",
        "outputId": "cad7865e-1051-4751-9ff5-cd5d12bfb1f6"
      },
      "source": [
        "common_words = set(combined_words.sort('Obama', ascending=False)[:5]['word'])\n",
        "\n",
        "def has_top_words(word_count_vector):\n",
        "    # extract the keys of word_count_vector and convert it to a set\n",
        "    unique_words = set(word_count_vector.keys())\n",
        "    # return True if common_words is a subset of unique_words\n",
        "    # return False otherwise\n",
        "    return common_words.issubset(unique_words)\n",
        "\n",
        "wiki['has_top_words'] = wiki['word_count'].apply(has_top_words)\n",
        "\n",
        "# use has_top_words column to answer the quiz question\n",
        "wiki['has_top_words'].sum()"
      ],
      "execution_count": 15,
      "outputs": [
        {
          "output_type": "execute_result",
          "data": {
            "text/plain": [
              "56066"
            ]
          },
          "metadata": {},
          "execution_count": 15
        }
      ]
    },
    {
      "cell_type": "markdown",
      "metadata": {
        "id": "XNMUchqS_zBY"
      },
      "source": [
        "**Checkpoint**. Check your `has_top_words` function on two random articles:"
      ]
    },
    {
      "cell_type": "code",
      "metadata": {
        "colab": {
          "base_uri": "https://localhost:8080/"
        },
        "id": "yAr6VK47_zBZ",
        "outputId": "c41daa64-b844-4df8-9d82-5f22d97e54bc"
      },
      "source": [
        "print('Output from your function:', has_top_words(wiki[32]['word_count']))\n",
        "print('Correct output: True')\n",
        "print('Also check the length of unique_words. It should be 167')\n",
        "print(len(wiki[32]['word_count']))"
      ],
      "execution_count": 16,
      "outputs": [
        {
          "output_type": "stream",
          "text": [
            "Output from your function: True\n",
            "Correct output: True\n",
            "Also check the length of unique_words. It should be 167\n",
            "167\n"
          ],
          "name": "stdout"
        }
      ]
    },
    {
      "cell_type": "code",
      "metadata": {
        "colab": {
          "base_uri": "https://localhost:8080/"
        },
        "id": "RV63RTrd_zBa",
        "outputId": "412f6288-ee8c-41b8-a1be-b431274a77ba"
      },
      "source": [
        "print('Output from your function:', has_top_words(wiki[33]['word_count']))\n",
        "print('Correct output: False')\n",
        "print('Also check the length of unique_words. It should be 188')\n",
        "print(len(wiki[33]['word_count']))"
      ],
      "execution_count": 17,
      "outputs": [
        {
          "output_type": "stream",
          "text": [
            "Output from your function: False\n",
            "Correct output: False\n",
            "Also check the length of unique_words. It should be 188\n",
            "188\n"
          ],
          "name": "stdout"
        }
      ]
    },
    {
      "cell_type": "markdown",
      "metadata": {
        "id": "nUGKyOBN_zBb"
      },
      "source": [
        "**Quiz Question**. Measure the pairwise distance between the Wikipedia pages of Barack Obama, George W. Bush, and Joe Biden. Which of the three pairs has the smallest distance?\n",
        "\n",
        "Hints: \n",
        "* To compute the Euclidean distance between two dictionaries, use `turicreate.toolkits.distances.euclidean`. Refer to [this link](https://apple.github.io/turicreate/docs/api/generated/turicreate.toolkits.distances.euclidean.html) for usage.\n",
        "* When using Boolean filter in SFrame/SArray, take the index 0 to access the first match. (Round your answer to three decimal places.)"
      ]
    },
    {
      "cell_type": "code",
      "metadata": {
        "id": "yKEwYaAbJSJ0"
      },
      "source": [
        "obama_count = wiki[wiki['name'] == 'Barack Obama']['word_count'][0]"
      ],
      "execution_count": 18,
      "outputs": []
    },
    {
      "cell_type": "code",
      "metadata": {
        "id": "K-vxaXuyJRWM"
      },
      "source": [
        "bush_count = wiki[wiki['name'] == 'George W. Bush']['word_count'][0]"
      ],
      "execution_count": 19,
      "outputs": []
    },
    {
      "cell_type": "code",
      "metadata": {
        "id": "ufCQwJ1LJQkt"
      },
      "source": [
        "biden_count = wiki[wiki['name'] == 'Joe Biden']['word_count'][0]"
      ],
      "execution_count": 20,
      "outputs": []
    },
    {
      "cell_type": "code",
      "metadata": {
        "colab": {
          "base_uri": "https://localhost:8080/"
        },
        "id": "Yast5eQb_zBc",
        "outputId": "3f420968-8f2b-4f07-9a18-969cdb8a64ab"
      },
      "source": [
        "turicreate.toolkits.distances.euclidean(obama_count,biden_count)"
      ],
      "execution_count": 21,
      "outputs": [
        {
          "output_type": "execute_result",
          "data": {
            "text/plain": [
              "33.075670817082454"
            ]
          },
          "metadata": {},
          "execution_count": 21
        }
      ]
    },
    {
      "cell_type": "code",
      "metadata": {
        "colab": {
          "base_uri": "https://localhost:8080/"
        },
        "id": "dSCEzPLpJqp4",
        "outputId": "5084ef30-6f51-47b5-dae0-00bab905cc44"
      },
      "source": [
        "turicreate.toolkits.distances.euclidean(obama_count,bush_count)"
      ],
      "execution_count": 22,
      "outputs": [
        {
          "output_type": "execute_result",
          "data": {
            "text/plain": [
              "34.39476704383968"
            ]
          },
          "metadata": {},
          "execution_count": 22
        }
      ]
    },
    {
      "cell_type": "code",
      "metadata": {
        "colab": {
          "base_uri": "https://localhost:8080/"
        },
        "id": "hojC9cWQJtAS",
        "outputId": "4b4e0db5-3d7d-44e0-9c69-c486a8c42dc1"
      },
      "source": [
        "turicreate.toolkits.distances.euclidean(biden_count,bush_count)"
      ],
      "execution_count": 23,
      "outputs": [
        {
          "output_type": "execute_result",
          "data": {
            "text/plain": [
              "32.7566787083184"
            ]
          },
          "metadata": {},
          "execution_count": 23
        }
      ]
    },
    {
      "cell_type": "markdown",
      "metadata": {
        "id": "R3BEMCz2_zBc"
      },
      "source": [
        "**Quiz Question**. Collect all words that appear both in Barack Obama and George W. Bush pages.  Out of those words, find the 10 words that show up most often in Obama's page."
      ]
    },
    {
      "cell_type": "code",
      "metadata": {
        "colab": {
          "base_uri": "https://localhost:8080/",
          "height": 284
        },
        "id": "cz-YoxTd_zBd",
        "outputId": "c79f80b3-64d3-46ac-b7c8-d182fcbd7eb4"
      },
      "source": [
        "obama_top = top_words('Barack Obama')\n",
        "obama_top"
      ],
      "execution_count": 24,
      "outputs": [
        {
          "output_type": "execute_result",
          "data": {
            "text/html": [
              "<div style=\"max-height:1000px;max-width:1500px;overflow:auto;\"><table frame=\"box\" rules=\"cols\">\n",
              "    <tr>\n",
              "        <th style=\"padding-left: 1em; padding-right: 1em; text-align: center\">word</th>\n",
              "        <th style=\"padding-left: 1em; padding-right: 1em; text-align: center\">count</th>\n",
              "    </tr>\n",
              "    <tr>\n",
              "        <td style=\"padding-left: 1em; padding-right: 1em; text-align: center; vertical-align: top\">the</td>\n",
              "        <td style=\"padding-left: 1em; padding-right: 1em; text-align: center; vertical-align: top\">40.0</td>\n",
              "    </tr>\n",
              "    <tr>\n",
              "        <td style=\"padding-left: 1em; padding-right: 1em; text-align: center; vertical-align: top\">in</td>\n",
              "        <td style=\"padding-left: 1em; padding-right: 1em; text-align: center; vertical-align: top\">30.0</td>\n",
              "    </tr>\n",
              "    <tr>\n",
              "        <td style=\"padding-left: 1em; padding-right: 1em; text-align: center; vertical-align: top\">and</td>\n",
              "        <td style=\"padding-left: 1em; padding-right: 1em; text-align: center; vertical-align: top\">21.0</td>\n",
              "    </tr>\n",
              "    <tr>\n",
              "        <td style=\"padding-left: 1em; padding-right: 1em; text-align: center; vertical-align: top\">of</td>\n",
              "        <td style=\"padding-left: 1em; padding-right: 1em; text-align: center; vertical-align: top\">18.0</td>\n",
              "    </tr>\n",
              "    <tr>\n",
              "        <td style=\"padding-left: 1em; padding-right: 1em; text-align: center; vertical-align: top\">to</td>\n",
              "        <td style=\"padding-left: 1em; padding-right: 1em; text-align: center; vertical-align: top\">14.0</td>\n",
              "    </tr>\n",
              "    <tr>\n",
              "        <td style=\"padding-left: 1em; padding-right: 1em; text-align: center; vertical-align: top\">his</td>\n",
              "        <td style=\"padding-left: 1em; padding-right: 1em; text-align: center; vertical-align: top\">11.0</td>\n",
              "    </tr>\n",
              "    <tr>\n",
              "        <td style=\"padding-left: 1em; padding-right: 1em; text-align: center; vertical-align: top\">obama</td>\n",
              "        <td style=\"padding-left: 1em; padding-right: 1em; text-align: center; vertical-align: top\">9.0</td>\n",
              "    </tr>\n",
              "    <tr>\n",
              "        <td style=\"padding-left: 1em; padding-right: 1em; text-align: center; vertical-align: top\">act</td>\n",
              "        <td style=\"padding-left: 1em; padding-right: 1em; text-align: center; vertical-align: top\">8.0</td>\n",
              "    </tr>\n",
              "    <tr>\n",
              "        <td style=\"padding-left: 1em; padding-right: 1em; text-align: center; vertical-align: top\">a</td>\n",
              "        <td style=\"padding-left: 1em; padding-right: 1em; text-align: center; vertical-align: top\">7.0</td>\n",
              "    </tr>\n",
              "    <tr>\n",
              "        <td style=\"padding-left: 1em; padding-right: 1em; text-align: center; vertical-align: top\">he</td>\n",
              "        <td style=\"padding-left: 1em; padding-right: 1em; text-align: center; vertical-align: top\">7.0</td>\n",
              "    </tr>\n",
              "</table>\n",
              "[273 rows x 2 columns]<br/>Note: Only the head of the SFrame is printed.<br/>You can use print_rows(num_rows=m, num_columns=n) to print more rows and columns.\n",
              "</div>"
            ],
            "text/plain": [
              "Columns:\n",
              "\tword\tstr\n",
              "\tcount\tfloat\n",
              "\n",
              "Rows: 273\n",
              "\n",
              "Data:\n",
              "+-------+-------+\n",
              "|  word | count |\n",
              "+-------+-------+\n",
              "|  the  |  40.0 |\n",
              "|   in  |  30.0 |\n",
              "|  and  |  21.0 |\n",
              "|   of  |  18.0 |\n",
              "|   to  |  14.0 |\n",
              "|  his  |  11.0 |\n",
              "| obama |  9.0  |\n",
              "|  act  |  8.0  |\n",
              "|   a   |  7.0  |\n",
              "|   he  |  7.0  |\n",
              "+-------+-------+\n",
              "[273 rows x 2 columns]\n",
              "Note: Only the head of the SFrame is printed.\n",
              "You can use print_rows(num_rows=m, num_columns=n) to print more rows and columns."
            ]
          },
          "metadata": {},
          "execution_count": 24
        }
      ]
    },
    {
      "cell_type": "code",
      "metadata": {
        "colab": {
          "base_uri": "https://localhost:8080/",
          "height": 284
        },
        "id": "RsPRwRn6QFzA",
        "outputId": "4ac7bc38-3b7e-41bd-e8f9-8ace9d7c77e5"
      },
      "source": [
        "bush_top = top_words('George W. Bush')\n",
        "obama_bush_top = obama_top.join(bush_top,on='word')\n",
        "obama_bush_top.rename({'count':'obama','count.1':'bush'}, inplace=True)\n",
        "obama_bush_top"
      ],
      "execution_count": 25,
      "outputs": [
        {
          "output_type": "execute_result",
          "data": {
            "text/html": [
              "<div style=\"max-height:1000px;max-width:1500px;overflow:auto;\"><table frame=\"box\" rules=\"cols\">\n",
              "    <tr>\n",
              "        <th style=\"padding-left: 1em; padding-right: 1em; text-align: center\">word</th>\n",
              "        <th style=\"padding-left: 1em; padding-right: 1em; text-align: center\">obama</th>\n",
              "        <th style=\"padding-left: 1em; padding-right: 1em; text-align: center\">bush</th>\n",
              "    </tr>\n",
              "    <tr>\n",
              "        <td style=\"padding-left: 1em; padding-right: 1em; text-align: center; vertical-align: top\">the</td>\n",
              "        <td style=\"padding-left: 1em; padding-right: 1em; text-align: center; vertical-align: top\">40.0</td>\n",
              "        <td style=\"padding-left: 1em; padding-right: 1em; text-align: center; vertical-align: top\">39.0</td>\n",
              "    </tr>\n",
              "    <tr>\n",
              "        <td style=\"padding-left: 1em; padding-right: 1em; text-align: center; vertical-align: top\">in</td>\n",
              "        <td style=\"padding-left: 1em; padding-right: 1em; text-align: center; vertical-align: top\">30.0</td>\n",
              "        <td style=\"padding-left: 1em; padding-right: 1em; text-align: center; vertical-align: top\">22.0</td>\n",
              "    </tr>\n",
              "    <tr>\n",
              "        <td style=\"padding-left: 1em; padding-right: 1em; text-align: center; vertical-align: top\">and</td>\n",
              "        <td style=\"padding-left: 1em; padding-right: 1em; text-align: center; vertical-align: top\">21.0</td>\n",
              "        <td style=\"padding-left: 1em; padding-right: 1em; text-align: center; vertical-align: top\">14.0</td>\n",
              "    </tr>\n",
              "    <tr>\n",
              "        <td style=\"padding-left: 1em; padding-right: 1em; text-align: center; vertical-align: top\">of</td>\n",
              "        <td style=\"padding-left: 1em; padding-right: 1em; text-align: center; vertical-align: top\">18.0</td>\n",
              "        <td style=\"padding-left: 1em; padding-right: 1em; text-align: center; vertical-align: top\">14.0</td>\n",
              "    </tr>\n",
              "    <tr>\n",
              "        <td style=\"padding-left: 1em; padding-right: 1em; text-align: center; vertical-align: top\">to</td>\n",
              "        <td style=\"padding-left: 1em; padding-right: 1em; text-align: center; vertical-align: top\">14.0</td>\n",
              "        <td style=\"padding-left: 1em; padding-right: 1em; text-align: center; vertical-align: top\">11.0</td>\n",
              "    </tr>\n",
              "    <tr>\n",
              "        <td style=\"padding-left: 1em; padding-right: 1em; text-align: center; vertical-align: top\">he</td>\n",
              "        <td style=\"padding-left: 1em; padding-right: 1em; text-align: center; vertical-align: top\">7.0</td>\n",
              "        <td style=\"padding-left: 1em; padding-right: 1em; text-align: center; vertical-align: top\">8.0</td>\n",
              "    </tr>\n",
              "    <tr>\n",
              "        <td style=\"padding-left: 1em; padding-right: 1em; text-align: center; vertical-align: top\">his</td>\n",
              "        <td style=\"padding-left: 1em; padding-right: 1em; text-align: center; vertical-align: top\">11.0</td>\n",
              "        <td style=\"padding-left: 1em; padding-right: 1em; text-align: center; vertical-align: top\">6.0</td>\n",
              "    </tr>\n",
              "    <tr>\n",
              "        <td style=\"padding-left: 1em; padding-right: 1em; text-align: center; vertical-align: top\">a</td>\n",
              "        <td style=\"padding-left: 1em; padding-right: 1em; text-align: center; vertical-align: top\">7.0</td>\n",
              "        <td style=\"padding-left: 1em; padding-right: 1em; text-align: center; vertical-align: top\">6.0</td>\n",
              "    </tr>\n",
              "    <tr>\n",
              "        <td style=\"padding-left: 1em; padding-right: 1em; text-align: center; vertical-align: top\">president</td>\n",
              "        <td style=\"padding-left: 1em; padding-right: 1em; text-align: center; vertical-align: top\">4.0</td>\n",
              "        <td style=\"padding-left: 1em; padding-right: 1em; text-align: center; vertical-align: top\">6.0</td>\n",
              "    </tr>\n",
              "    <tr>\n",
              "        <td style=\"padding-left: 1em; padding-right: 1em; text-align: center; vertical-align: top\">as</td>\n",
              "        <td style=\"padding-left: 1em; padding-right: 1em; text-align: center; vertical-align: top\">6.0</td>\n",
              "        <td style=\"padding-left: 1em; padding-right: 1em; text-align: center; vertical-align: top\">6.0</td>\n",
              "    </tr>\n",
              "</table>\n",
              "[86 rows x 3 columns]<br/>Note: Only the head of the SFrame is printed.<br/>You can use print_rows(num_rows=m, num_columns=n) to print more rows and columns.\n",
              "</div>"
            ],
            "text/plain": [
              "Columns:\n",
              "\tword\tstr\n",
              "\tobama\tfloat\n",
              "\tbush\tfloat\n",
              "\n",
              "Rows: 86\n",
              "\n",
              "Data:\n",
              "+-----------+-------+------+\n",
              "|    word   | obama | bush |\n",
              "+-----------+-------+------+\n",
              "|    the    |  40.0 | 39.0 |\n",
              "|     in    |  30.0 | 22.0 |\n",
              "|    and    |  21.0 | 14.0 |\n",
              "|     of    |  18.0 | 14.0 |\n",
              "|     to    |  14.0 | 11.0 |\n",
              "|     he    |  7.0  | 8.0  |\n",
              "|    his    |  11.0 | 6.0  |\n",
              "|     a     |  7.0  | 6.0  |\n",
              "| president |  4.0  | 6.0  |\n",
              "|     as    |  6.0  | 6.0  |\n",
              "+-----------+-------+------+\n",
              "[86 rows x 3 columns]\n",
              "Note: Only the head of the SFrame is printed.\n",
              "You can use print_rows(num_rows=m, num_columns=n) to print more rows and columns."
            ]
          },
          "metadata": {},
          "execution_count": 25
        }
      ]
    },
    {
      "cell_type": "markdown",
      "metadata": {
        "id": "q3Ek7SW__zBe"
      },
      "source": [
        "**Note.** Even though common words are swamping out important subtle differences, commonalities in rarer political words still matter on the margin. This is why politicians are being listed in the query result instead of musicians, for example. In the next subsection, we will introduce a different metric that will place greater emphasis on those rarer words."
      ]
    },
    {
      "cell_type": "markdown",
      "metadata": {
        "id": "8Pu_NpfE_zBf"
      },
      "source": [
        "## TF-IDF to the rescue"
      ]
    },
    {
      "cell_type": "markdown",
      "metadata": {
        "id": "RS-P_vPt_zBf"
      },
      "source": [
        "Much of the perceived commonalities between Obama and Barrio were due to occurrences of extremely frequent words, such as \"the\", \"and\", and \"his\". So nearest neighbors is recommending plausible results sometimes for the wrong reasons. \n",
        "\n",
        "To retrieve articles that are more relevant, we should focus more on rare words that don't happen in every article. **TF-IDF** (term frequency–inverse document frequency) is a feature representation that penalizes words that are too common.  Let's use Turi Create's implementation of TF-IDF and repeat the search for the 10 nearest neighbors of Barack Obama:"
      ]
    },
    {
      "cell_type": "code",
      "metadata": {
        "id": "iG0MSVHk_zBg"
      },
      "source": [
        "wiki['tf_idf'] = turicreate.text_analytics.tf_idf(wiki['word_count'])"
      ],
      "execution_count": 26,
      "outputs": []
    },
    {
      "cell_type": "code",
      "metadata": {
        "colab": {
          "base_uri": "https://localhost:8080/"
        },
        "id": "PJmjc-oGMnNZ",
        "outputId": "395bf2bf-4328-4a5c-e672-3f1ff1ae3b60"
      },
      "source": [
        "wiki['tf_idf']"
      ],
      "execution_count": 27,
      "outputs": [
        {
          "output_type": "execute_result",
          "data": {
            "text/plain": [
              "dtype: dict\n",
              "Rows: 59071\n",
              "[{'melbourne': 3.8914310119380633, 'parade': 5.510031837293684, 'education': 2.4487155642005685, 'physical': 4.001779069106929, 'teaches': 3.7712554104950966, 'currently': 1.637088969126014, 'also': 0.4627270916162349, 'coburg': 7.851001173296044, 'has': 0.428497539744039, '2014': 2.2073995783446634, 'since': 1.455376717308041, 'premiership': 4.5439552227569955, 'division': 2.7906099979103978, '2011': 1.7023470901042919, 'edflhe': 10.986495389225194, 'district': 2.774469584601757, '2013': 1.9545642372230505, 'until': 1.7591012626831841, '2009': 1.5644364836042695, 'from': 0.5875106759712689, 'retiring': 3.8140708121003493, 'hill': 3.794313330511949, 'coached': 3.9925624140020046, 'box': 4.576320507259028, 'strathmore': 8.588600116426823, '2008': 1.5093391374786154, '2007': 1.4879730697555795, 'assistant': 2.5220702633476124, 'hawks': 5.531174273867493, '2006': 1.520737905384506, 'vflaffiliate': 7.431147327735781, 'acted': 4.137429106591736, 'carltons': 7.0744723837970485, 'bullants': 7.489987827758714, 'northern': 3.310021742836038, 'victorian': 4.564873121418676, 'vfl': 5.253154112327449, '21': 2.797250863489293, 'rookie': 4.104057918227347, 'western': 3.0880842964135953, 'who': 0.9098952189804214, 'goalkicker': 6.859361004180102, 'senior': 6.897159666747814, 'leading': 5.061504320250359, '2001': 1.9280249665871378, 'falcons': 5.868501576808439, '44game': 9.887883100557085, 'kicked': 5.142950972193835, 'age': 2.138848033513307, 'in': 0.01255028255157884, 'early': 1.929422753652229, 'his': 0.7878343656409719, 'afl': 4.70049729471633, 'aflfrom': 10.986495389225194, 'brisbaneafter': 10.986495389225194, 'at': 0.8612771466165147, 'is': 0.02761625047551999, 'a': 0.022476737890332586, 'losing': 3.773463729390325, 'he': 1.280211345952344, '32': 4.3717697890214335, 'for': 0.29145011737314763, '10': 2.3157231098806563, 'being': 1.7938099524877322, 'with': 1.0123432126103034, 'october': 1.9182947844101343, 'played': 4.636320601315451, 'australian': 8.630007339620153, 'kangaroos': 20.726873835958425, 'premier': 3.6766139034004075, '2000': 1.8763068991994527, 'west': 5.205210090246754, '1979': 2.6032908378122737, 'morrell': 46.88528738395547, 'sydney': 3.5981675296480873, 'digby': 8.347438059609935, 'clubs': 3.4464050690798693, 'five': 2.2137301792754096, 'before': 2.9935647453367427, 'continued': 2.720588055069447, 'of': 0.016624704796446097, 'the': 0.0027426017494956603, '19982000': 6.509158574746988, 'rules': 3.8272034844276295, '2003': 1.8013702663900752, 'footballer': 3.2388985505323085, 'spanned': 5.531174273867493, 'essendon': 6.016682089649193, 'draft': 3.240194726993755, 'and': 0.002980575592194913, 'play': 2.270287418073342, 'shifted': 5.634637255749128, 'league': 8.342695137239867, 'australia': 2.86858644684204, 'former': 1.3573131120992086, 'born': 0.268196273764765, 'david': 2.4512658353228582, 'recruited': 4.4897203990393315, 'as': 0.2543390440248236, 'by': 0.37455341206197373, 'club': 11.043158373020127, 'coach': 5.444264118987054, 'playing': 4.182005515547123, 'other': 1.4424007566948476, 'third': 2.3506306680914584, 'was': 0.3968289280609173, 'selection': 3.836578553093086, 'forward': 3.8848194176057507, 'football': 25.58570665567139, 'twice': 3.3301582227950113, 'goals': 3.4581636225179473, 'season': 5.6626008156972025, 'during': 1.3174651479035495, 'time': 1.3253342074200498, 'to': 0.23472468840899613, 'against': 4.015921958283749, 'first': 0.6956048713993103, 'cause': 4.8023464982877115, '2002': 1.8753125887822302, 'following': 1.9609195556941061, 'drawn': 4.96062941539988, 'game': 2.4168995190159084, 'traded': 3.952107459309691, 'perth': 5.051601193605607, 'along': 2.5088749729287803, 'teague': 9.04058524016988, 'exchange': 4.113331555012676, 'college': 1.5613662703175555, 'corey': 6.486685718894929, 'its': 1.6875948402695313, 'mckernan': 9.600201028105303, 'career': 1.3050270203415668, 'round': 2.897933583948961, 'games': 2.2331239682242914, 'carlton': 10.682096983163913, 'end': 4.839120211828286, 'blues': 4.064837205074066, 'delisted': 5.816011394187043, '2005': 1.6425861253275964}, {'time': 1.3253342074200498, 'each': 3.168869946171825, 'hour': 4.467348101284799, 'rhythms': 6.166213823620158, 'have': 1.4416847832984716, 'individuals': 4.577966598165696, 'blind': 5.522663584199584, 'phasedelay': 10.986495389225194, 'shifts': 13.784301654006187, 'phaseadvance': 10.986495389225194, 'cause': 9.604692996575423, 'evening': 8.825630444529097, 'scheduled': 4.870603263742161, 'precisely': 7.0162034756730725, 'must': 4.665727094974612, 'exposure': 16.443491559878495, 'focused': 3.684673047087262, 'current': 2.8308461188591933, 'assessed': 6.9975113426609195, 'be': 4.218744013624684, 'treatment': 13.071396407363236, 'can': 5.600061919606208, 'biological': 5.041074780618619, 'secretion': 9.19473591999714, 'pattern': 6.158181651922893, '24hour': 6.669007275688884, 'defined': 5.629909114553182, 'that': 0.6614069466714981, 'hormone': 7.489987827758714, 'melatonin': 49.43941550278542, 'prior': 2.956736868784372, 'phd': 2.5603215961961254, 'from': 0.29375533798563447, 'wehr': 10.293348208665249, 'light': 11.222520964891977, 'science': 2.3447863231113892, 'health': 5.989129738745434, 'bright': 5.602000326436105, 'ohsu': 9.887883100557085, 'department': 2.3398541306220704, 'unless': 6.411784410721811, 'after': 0.9443334420013064, 'the': 0.00020315568514782669, 'pubmed': 9.600201028105303, 'of': 0.02909323339378067, 'rhythm': 4.985080511264044, 'at': 0.645957859962386, 'is': 0.05523250095103998, 'monitored': 7.460134864609033, 'psychiatry': 11.737003153616879, 'take': 3.112517009620693, 'administration': 9.885885875106995, 'moving': 3.1908488528906003, 'they': 1.8993401178193898, 'developing': 3.7973276508048714, 'oregon': 14.163582529462454, 'chicago': 2.9291179006672023, 'assay': 8.683910296231149, 'day': 5.322863391187994, 'aka': 4.654993539331503, 'include': 2.174545211685214, 'national': 1.1860931647723914, 'clearly': 5.82170941530168, 'ophthalmology': 8.153282045168979, 'for': 0.14572505868657382, 'lewy': 28.131172430373283, 'laboratory': 4.290696472166703, 'sandy': 5.493433945884646, 'their': 1.5201958369931787, 'j': 3.2558813231614545, 'nimh': 8.588600116426823, 'full': 3.003055326218652, 'circadian': 25.765800349280468, 'in': 0.003861625400485797, 'working': 2.074561053063768, 'maladaptation': 10.986495389225194, 'an': 0.5964781781637942, 'later': 1.4294496043477696, 'very': 2.811792506755733, 'maryland': 4.251903729252247, 'university': 1.6946860096423695, 'these': 5.1951804362209755, 'studying': 3.612493529875034, 'every': 3.306319748788604, 'relying': 7.179832899454874, 'alfred': 4.8596262051110095, 'was': 0.07936578561218346, 'to': 0.1408348130453977, 'colleague': 5.103173000736915, 'as': 0.3815085660372354, 'disorders': 23.746557527902628, 'sleep': 11.773257922801992, 'pharmacology': 6.908957945319475, 'and': 0.007451438980487283, 'institute': 2.1793227663084926, 'jet': 5.868501576808439, 'capsule': 7.895452935866879, '25hour': 10.986495389225194, 'professor': 2.010865204934687, 'thomas': 3.3202734635624696, 'a': 0.03371510683549888, 'with': 0.40493728504412135, 'publications': 3.253249742695399, '1973': 2.808137223619358, 'senior': 2.2990532222492712, 'has': 0.856995079488078, 'he': 0.853474230634896, 'mood': 6.592046234552756, 'morning': 7.646645996757104, 'bethesda': 6.7380001471758355, 'worked': 1.553891853362109, 'describes': 4.564873121418676, 'closely': 4.591233791109745, 'drifting': 7.489987827758714, 'robert': 2.802818806604537, 'l': 3.969885705330975, 'chronobiologic': 10.986495389225194, 'sack': 6.9975113426609195, 'december': 2.001425829579395, '2005': 1.6425861253275964, 'modalities': 8.588600116426823, 'types': 5.620519374203343, 'had': 1.177428412308558, 'holds': 2.8415259721373194, '94': 5.89889905399281, 'studies': 2.3430220318986272, 'available': 3.9468350393631186, 'on': 0.5532382600518011, 'research': 4.395194159760633, 'vicechair': 5.8565966743021205, 'follows': 5.421974981902501, 'mental': 4.694926249666874, 'md': 4.75012579902149, 'my': 2.903166780438819, 'totally': 5.810345656651365, 'graduated': 2.2579073935292953, 'winter': 4.011081461769242, 'depression': 5.862531409821935, '1981': 2.5978176200443843, 'shift': 5.437419304329975, 'work': 1.3993637697254548, 'certain': 9.82690171024958, 'disturbances': 7.808441558877249, 'precise': 6.44320060695519, 'his': 0.2626114552136573, 'lag': 8.588600116426823, 'plasma': 7.0744723837970485}, {'society': 2.4448047262085693, 'hamilton': 4.586237943916373, 'to': 0.04694493768179923, 'membership': 4.6783969477156635, 'life': 2.1907617832744593, 'maple': 5.868501576808439, 'awarded': 2.354189390708452, 'albumhe': 8.042056410058754, 'petersen': 7.297615935111258, 'holger': 8.153282045168979, 'broadcaster': 4.608069205573607, 'influential': 3.738702807457348, 'honored': 4.140615513961145, 'classic': 3.635337162794501, 'songs': 2.9508926963066124, 'original': 2.9143400810369444, 'mainly': 3.841299254228023, 'comprising': 6.2679965179301, 'what': 5.638286804338248, '2014': 4.414799156689327, 'which': 0.7674309670437692, 'leads': 4.9486244693030566, 'also': 0.4627270916162349, 'big': 2.940266288149817, 'venues': 4.3362163406377725, 'many': 1.639964662798746, 'working': 2.074561053063768, 'few': 6.002022064982743, 'while': 1.8364359481339414, 'released': 2.0078348995855078, 'band': 7.816740648304755, 'full': 3.003055326218652, 'or': 1.9128915408224825, 'duo': 4.3375108392004185, 'either': 4.495771854722687, 'gutsy': 8.789270811888976, 'piano': 3.6534723748387132, 'his': 0.7878343656409719, 'year': 1.3423616371539895, 'promoter': 5.6393878585077255, 'best': 6.134404289659914, 'playing': 2.0910027577735617, 'dates': 5.597423659408693, 'club': 2.2086316746040255, 'traditional': 3.6283016364921616, 'combos': 8.278445188122983, 'years': 1.0752380994247055, 'miles': 4.658558605495999, 'issued': 4.429717033067152, 'where': 1.089076212090673, 'thousands': 4.676577110998678, 'and': 0.0052160072863410975, 'festivals': 3.7508762481584443, 'the': 0.00121893411088696, 'award': 3.2644556968847374, 'of': 0.012468528597334574, 'crossed': 5.760748715511993, 'well': 1.5295293417875981, 'canada': 5.37143685674748, 'portland': 4.788016672732886, '1995': 2.222129668695386, 'northwestern': 4.9042764788487485, 'harmonica': 13.04117454114122, 'is': 0.19331375332863993, 'singer': 2.7818235602743835, 'vancouver': 4.219152263959802, 'cd': 3.769051957528662, 'hailing': 7.157853992736099, 'player': 4.26880525149613, 'won': 1.3836400683164753, 'who': 0.9098952189804214, 'brown': 7.309560838997457, 'in': 0.006757844450850144, 'for': 0.29145011737314763, 'harpdog': 21.972990778450388, 'was': 0.31746314244873386, 'guitarist': 3.658714850803563, 'cds': 4.676577110998678, 'active': 2.7479584590534256, 'nominated': 2.8896779186528754, 'guest': 3.134445181959305, '2010': 1.5928339601219734, 'seven': 2.7917137507818355, 'been': 0.9774773354796025, 'performing': 3.1247683114012137, 'that': 0.6614069466714981, 'blues': 36.58353484566659, 'tens': 6.411784410721811, 'has': 0.856995079488078, 'juno': 6.04485296661589, 'canadian': 5.533799870096228, 'juggles': 9.887883100557085, 'canadas': 4.660345916070095, 'with': 0.8098745700882427, 'scene': 3.553420040326614, 'germanyover': 10.986495389225194, 'united': 1.5679220786705559, 'he': 1.06684278829362, 'muddy': 7.728398851203712, 'covers': 4.5407755698396155, 'voted': 3.922591427753126, 'nw': 8.683910296231149, 'graham': 4.536024967081018, 'just': 2.7007299687108643, 'cascade': 7.808441558877249, 'release': 2.9982917922026187, 'association': 2.1546374540272892, 'they': 1.8993401178193898, '1982': 2.559664637889348, 'oregon': 4.721194176487485, 'as': 0.2543390440248236, 'states': 1.824400329877006, 'it': 3.9497417504814463, 'bluesgospel': 10.986495389225194, 'time': 1.3253342074200498, 'surveybrown': 10.986495389225194, 'from': 0.5875106759712689, 'recording': 2.9764678607434605, 'harp': 6.361522575940923, 'teamed': 4.91345085512479, 'up': 1.5635467678501844, 'on': 0.18441275335060037, 'toronto': 3.3555488083347353, 'arthur': 4.274754994169014, 'naturally': 6.52058727057061, 'since': 1.455376717308041, '1': 2.0978765819243166, 'home': 4.842167251076965, 'by': 0.37455341206197373, 'blind': 5.522663584199584, 'called': 2.0784770664403074, 'album': 2.4512658353228582, 'lemon': 7.035251670643767, 'tours': 4.057957571060529, 'small': 3.140296573727769, 'a': 0.039334291308082026, 'extensively': 3.7786355177927193, 'edmonds': 7.61919955923872, 'j': 3.2558813231614545, 'their': 1.5201958369931787, 'browns': 5.4811638532928315, 'electric': 4.464402591055042, 'mid1950s': 7.225295273531632, 'chicago': 5.858235801334405}, {'kurdlawitzpreis': 10.986495389225194, 'awarded': 2.354189390708452, '2004': 1.6903443608359008, 'since': 1.455376717308041, 'journal': 6.050947846683648, 'critical': 3.480453210707072, 'language': 3.4581636225179473, 'quarber': 10.986495389225194, 'hundredth': 8.278445188122983, 'been': 0.9774773354796025, 'statesrottensteiner': 10.986495389225194, '1995': 2.222129668695386, 'until': 1.7591012626831841, 'promotion': 3.8914310119380633, 'close': 3.5416621153330006, 'special': 2.7022435916032777, 'reference': 4.67113738770286, 'numerous': 2.4220370053418425, 'working': 2.074561053063768, 'jeanpierre': 6.532148092971687, 'are': 1.7719638126305435, 'university': 0.8473430048211847, 'englishreading': 10.293348208665249, '1973': 2.808137223619358, 'view': 4.2214564124446525, '18': 2.726778428203672, 'continental': 5.1965352183279405, 'york': 1.701047544762206, 'bibliothek': 10.293348208665249, 'seven': 2.7917137507818355, 'kobo': 9.19473591999714, 'n': 4.282081034261087, 'this': 1.2818856957987381, 'english': 2.239461125047026, 'dick': 9.155933196331391, 'philip': 8.743539578042867, 'with': 0.6074059275661821, 'lem': 35.62821539018143, 'volumes': 9.813124388259208, 'stanislaw': 17.003177478874388, 'franke': 8.907053847545358, 'translations': 5.570394987020774, '28': 3.0552106276993034, 'books': 4.497764704832687, 'josef': 6.2329051981188295, 'public': 2.029113653642407, 'strugatski': 10.986495389225194, 'institut': 5.713495830661447, 'three': 1.4915025293575952, 'number': 6.3690632491627195, 'andrevonthe': 10.986495389225194, 'however': 2.41879921563585, 'a': 0.039334291308082026, '1998': 2.0687826320938068, 'anthology': 4.558390116540598, 'highest': 3.43846641929018, 'fiction': 25.487913841658276, 'from': 0.5875106759712689, 'latter': 3.9477118478366533, 'addition': 2.6415150204546234, 'science': 14.068717938668335, 'including': 1.2272824458461182, 'the': 0.0022347125366260936, 'of': 0.08312352398223048, 'fifteen': 4.660345916070095, 'some': 6.592334027112441, '1969': 2.8490995591685433, 'austrian': 5.114377599749778, 'klein': 5.930249583876886, 'german': 6.505623636898587, 'cordwainer': 9.887883100557085, 'sf': 12.782751078181208, 'wellss': 9.600201028105303, 'doctorate': 3.6866980224670334, 'phantastische': 10.986495389225194, 'hundred': 4.639106179569184, 'an': 0.5964781781637942, '1942': 4.106111307039189, 'k': 9.00677607553599, 'well': 3.0590586835751963, '1980': 2.5468314003181947, 'born': 0.268196273764765, 'phantastischen': 10.986495389225194, 'in': 0.01158487620145739, 'new': 1.7743065312250548, 'waidmannsfeld': 10.986495389225194, 'work': 1.3993637697254548, 'january': 1.885412003185961, 'figure': 3.950346895474658, 'publisher': 4.286995049063516, 'another': 2.603062187988481, 'gerard': 5.7770092363837735, 'herbert': 5.227593615347914, 'hg': 8.042056410058754, 'typical': 5.839000912411741, 'austria': 8.964414431377097, 'franz': 5.561545371743792, 'rottensteiner': 32.95948616767558, 'asimov': 8.347438059609935, 'brothersin': 8.907053847545358, 'abe': 6.943444121390644, 'sterreichisches': 10.986495389225194, 'fields': 4.109199317727766, 'yet': 4.092839034622559, 'critic': 3.842877786521073, 'journalism': 3.7712554104950966, 'is': 0.08284875142655997, 'at': 0.43063857330825733, 'karel': 7.202305755306933, 'fr': 5.154612911941677, 'fantasticrottensteiner': 10.986495389225194, 'shore': 5.644161137260383, 'authors': 12.962435014328356, 'history': 2.1447579606246094, 'olaf': 7.115294378317303, 'vienna': 8.899607583267779, 'seriesrottensteiner': 10.986495389225194, 'lower': 4.515695885442592, 'achievements': 4.48670834856934, 'advisor': 3.6213152632041816, 'receiving': 3.73515040585298, 'brian': 3.746562797904725, 'eighteen': 5.377023594040234, '1963': 3.2103799121264522, 'anthologies': 5.030658019760364, 'his': 1.3130572760682866, 'about': 3.8530257976751474, 'provoked': 6.696035948076803, 'european': 2.590340526186013, 'served': 1.5362723499305253, 'ending': 4.547145018125096, 'leading': 5.061504320250359, 'both': 1.6730570592454443, 'association': 2.1546374540272892, 'years': 3.2257142982741165, 'fantasy': 4.67113738770286, 'to': 0.1408348130453977, 'as': 0.8901866540868826, 'librarian': 6.323056295113127, 'editor': 5.484848237858817, 'w': 7.305637987135021, 'on': 0.7376510134024015, 'und': 5.3270131734655735, 'bauforschung': 10.986495389225194, '1975': 5.524663753174666, 'die': 4.504918259948763, 'series': 1.877080935838972, 'trnaslations': 10.986495389225194, 'romane': 9.600201028105303, 'edited': 3.7890600351286032, 'for': 0.14572505868657382, '1978': 2.6743602815767815, 'it': 1.3165805834938153, 'he': 1.280211345952344, 'him': 1.5755843267871936, 'republished': 6.323056295113127, 'heinlein': 9.04058524016988, 'works': 6.643049849940285, 'smith': 3.6437161998933485, 'lesser': 6.453895896071939, 'start': 3.281232914358869, 'writers': 7.088005332861507, 'barry': 4.5126046928729195, 'saw': 3.4321605654994465, 'all': 1.6431112434912472, 'ones': 4.746219544054425, 'one': 0.9309307338087167, 'introduced': 3.8326615876463515, 'greatest': 3.7530399706037554, 'total': 3.2767385247710297, '19791985': 8.347438059609935, 'brought': 6.700451571691642, 'malzberg': 9.887883100557085, 'aldiss': 9.600201028105303, 'listing': 6.332535039067671, 'studied': 2.2933341149871773, 'verlags': 10.293348208665249, 'produced': 5.023167180131126, 'out': 3.696806362913271, 'praised': 4.66933070247791, 'h': 3.9468350393631186, 'g': 4.262662948403985, 'negative': 5.348140719891449, 'factor': 5.059569363254783, 'assessment': 5.380693322929197, 'american': 1.1273777844250068, 'what': 2.819143402169124, 'matters': 4.606372852325429, 'recognition': 3.6213152632041816, 'betterknown': 7.941972951501771, 'there': 2.3005725945344695, 'us': 1.9319904488071395, 'fifty': 5.11719847609142, 'has': 1.285492619232117, 'produce': 4.200907744217265, 'comparable': 7.1363477875151355, 'wells': 5.410546286078878, 'stapledon': 10.986495389225194, 'apek': 9.887883100557085, 'or': 1.9128915408224825, 'stanisaw': 7.851001173296044, 'describedroger': 10.986495389225194, 'zelazny': 10.293348208665249, 'robert': 2.802818806604537, 'occasion': 5.020348650101503, 'silverberg': 9.887883100557085, 'producing': 3.830318751744579, 'travesties': 9.600201028105303, 'stated': 3.7501560464708503, 'merkur': 10.293348208665249, 'controversy': 4.290696472166703, 'two': 1.0988831858473562, 'nonwriter': 10.986495389225194, 'year': 1.3423616371539895, 'andersonare': 10.986495389225194, 'and': 0.009686870674633467, 'just': 2.7007299687108643, 'united': 1.5679220786705559, 'banal': 8.213906666985412, 'into': 1.6050629424066056, 'through': 2.028984878933582, 'was': 0.2380973568365504, 'nesvadba': 10.986495389225194, 'suhrkamp': 9.377057476791094, 'which': 0.7674309670437692, 'illustrated': 4.57961540315588, 'book': 4.005609415785018}, {'curtis': 5.299520032885375, '2007': 1.4879730697555795, 'cent': 6.174311033852777, 'performers': 4.844457983637838, 'records': 2.678542843954175, 'company': 2.195009362476192, 'armchair': 8.09612363132903, 'tugitooli': 10.986495389225194, 'island': 3.4501314508206833, 'palm': 5.272762583715825, 'palmisaar': 10.986495389225194, 'warmup': 7.202305755306933, 'real': 3.3707043171893614, 'their': 6.080783347972715, 'better': 3.445873860568042, 'toe': 29.840539458436133, 'europe': 2.7615279103106105, 'his': 0.7878343656409719, 'year': 2.684723274307979, 'was': 0.31746314244873386, 'oja': 18.38947183999428, '2006': 1.520737905384506, 'who': 0.9098952189804214, 'dj': 8.527731188739493, 'in': 0.006757844450850144, 'paul': 5.548396501990852, 'rapper': 5.11719847609142, 'revo': 19.77576620111417, '2004': 1.6903443608359008, 'from': 0.5875106759712689, 'first': 0.6956048713993103, 'studio': 3.0810537401649083, 'with': 0.40493728504412135, 'rapping': 7.157853992736099, 'born': 0.268196273764765, 'went': 2.0519085188355186, 'krvits': 10.293348208665249, 'during': 1.3174651479035495, 'started': 10.553246057432982, 'they': 1.8993401178193898, 'group': 1.9855189451548496, 'along': 5.0177499458575605, 'famous': 9.645019887322736, '30': 2.6266580085851636, 'this': 1.2818856957987381, 'henry': 3.953871128197188, 'also': 0.9254541832324698, 'tag': 23.042994862047973, 'by': 0.37455341206197373, '1998': 2.0687826320938068, 'a': 0.011238368945166293, 'producergenka': 10.986495389225194, 'stagename': 9.377057476791094, 'genka': 54.93247694612597, 'new': 0.8871532656125274, 'is': 0.02761625047551999, 'an': 0.2982390890818971, 'promo': 7.157853992736099, 'own': 4.539919313361398, 'album': 14.70759501193715, 'called': 2.0784770664403074, 'genkas': 10.986495389225194, '50': 3.3613882409862943, 'and': 0.007451438980487283, 'december': 2.001425829579395, 'kuhnja': 10.986495389225194, 'for': 0.14572505868657382, 'homophobes': 10.293348208665249, 'gangstergenka': 10.986495389225194, 'next': 2.670439668860552, 'on': 0.36882550670120073, 'bankruptcy': 5.760748715511993, 'another': 2.603062187988481, 'rap': 5.279385124476319, 'arhm': 32.95948616767558, 'which': 2.302292901131308, 'hit': 2.9751402800639086, 'rapped': 8.907053847545358, 'released': 6.023504698756524, 'band': 2.605580216101585, 'droopy': 10.293348208665249, '2001': 1.9280249665871378, 'same': 2.2492032766809724, 'leegion': 10.986495389225194, 'estonian': 18.597010939329444, 'came': 2.4364478609380096, 'most': 4.255861328695191, 'tallinn': 19.460057156684787, 'making': 2.7223896254962385, 'back': 2.443829401835926, 'big': 2.940266288149817, 'tour': 5.697029869546111, 'schoolmate': 8.278445188122983, 'joined': 1.9082017981693435, 'second': 1.6724258314865346, 'gangster': 6.629786562535602, 'legendaarne': 32.95948616767558, 'record': 4.3057738130686065, 'legendary': 4.280856294365192, 'vacation': 6.411784410721811, 'consisted': 5.477107052597217, 'the': 0.0008126227405913067, 'of': 0.004156176199111524, '1996': 2.135691193468776, '18': 2.726778428203672, 'known': 1.4457727152652031, '1974': 2.77067759739274, 'together': 5.684793851773341, 'were': 4.565934070063887, 'pankrot': 10.986495389225194, 'songs': 14.754463481533062, 'solo': 2.838628259301248, 'had': 1.177428412308558, '23': 2.9691878815366133}, {'asses': 9.600201028105303, 'sic': 6.812108119329557, 'toilets': 8.588600116426823, '5009': 32.95948616767558, '4': 2.437803530749586, 'number': 2.12302108305424, 'awardshis': 8.042056410058754, 'emmy': 4.226080698141766, 'hour': 4.467348101284799, 'lives': 2.532029027717262, 'one': 0.9309307338087167, 'less': 3.9574078250755322, 'programming': 4.613175599648182, 'program': 2.393082171897548, 'animated': 4.556775911186057, 'best': 1.5336010724149785, 'nomination': 3.7697859025157365, 'spongebob': 7.941972951501771, 'writing': 2.61409678271219, 'contained': 5.369724291558623, 'than': 2.0650378102773113, '2003': 1.8013702663900752, 'from': 0.29375533798563447, 'work': 1.3993637697254548, 'special': 2.7022435916032777, '19992004in': 10.293348208665249, 'for': 0.29145011737314763, 'turned': 3.394129260705398, 'being': 1.7938099524877322, 'some': 2.1974446757041473, 'are': 1.7719638126305435, 'yorksince': 9.600201028105303, 'scratchings': 10.986495389225194, 'little': 3.363342320748292, 'crude': 7.808441558877249, 'that': 0.6614069466714981, 'directing': 4.3544936118295645, 'wrote': 2.545535503808546, 'expressnews': 8.907053847545358, 'antonio': 4.383907497035858, 'san': 2.591243868614199, 'every': 3.306319748788604, 'bigger': 12.268930250611154, 'review': 3.227734845067532, 'their': 1.5201958369931787, 'sam': 4.313197421457541, 'by': 0.37455341206197373, '55th': 7.157853992736099, 'graduated': 2.2579073935292953, '1993': 4.6065588279690095, 'city': 1.7402088904755424, 'a': 0.039334291308082026, 'minicomics': 19.200402056210606, 'due': 2.7324867986603505, 'born': 0.53639254752953, 'visual': 3.988899406243268, '1987': 2.4836039825198166, 'in': 0.015446501601943188, 'october': 1.9182947844101343, 'has': 0.856995079488078, 'magazines': 3.475517637211099, 'hendersons': 24.12616923017626, 'been': 1.954954670959205, 'graduating': 3.3840940535593758, 'niblit': 10.986495389225194, 'onteora': 10.986495389225194, 'earliest': 5.211943843680786, 'where': 1.089076212090673, '1980': 2.5468314003181947, 'henderson': 16.819794107054207, 'high': 1.906719387270128, 'out': 3.696806362913271, 'attended': 2.2859811406819186, 'award': 1.6322278484423687, 'of': 0.02078088099555762, 'the': 0.0010157784257391334, 'year': 1.3423616371539895, 'xeroxed': 10.293348208665249, 'yorks': 5.094851177399423, 'journal': 3.025473923341824, 'weekly': 3.608736480997322, 'funniest': 7.272923322520886, '18': 2.726778428203672, 'was': 0.3968289280609173, 'school': 2.4455745584347035, 'american': 2.2547555688500136, 'an': 0.2982390890818971, 'cartoonist': 5.673289410183407, 'comedy': 3.4937350883028153, 'since': 1.455376717308041, '1988': 2.4491074905234376, 'friend': 3.6606878866294212, 'monroe': 5.787998357959369, 'spaz': 10.293348208665249, 'is': 0.05523250095103998, 'and': 0.0052160072863410975, 'york': 3.402095089524412, 'on': 0.36882550670120073, 'which': 0.7674309670437692, 'writer': 2.511166401907656, 'march': 1.9573172463231197, 'he': 1.493579903611068, 'not': 1.5880170751336171, 'woodstock': 12.995718038986109, 'new': 3.5486130624501095, 'heard': 4.072758038565509, 'man': 2.863827365878787, 'hometown': 4.3414044197195505, '1969': 2.8490995591685433, 'arts': 2.183972890940773, 'reprinted': 6.103693466638823, '1980s': 2.9688582293167167, 'squarepants': 7.941972951501771, 'nickelodeon': 6.250296940830698, 'him': 1.5755843267871936, 'selfpublishing': 15.883945903003543, 'it': 1.3165805834938153, 'drew': 8.839645918843907, '2010': 1.5928339601219734, 'bear': 5.14005661416747, 'comic': 21.99472687200199, 'bestknown': 5.497557663068508, 'called': 2.0784770664403074, 'nominated': 2.8896779186528754, 'captain': 3.6799639902856893, 'with': 0.20246864252206068, 'pink': 5.3200687011127625, 'larger': 5.078412451056264, 'red': 3.274498882177525, 'humor': 5.266183612617783, 'midtolate': 7.990763115671204, 'his': 0.7878343656409719, 'bobby': 4.460000529654404, 'penises': 10.986495389225194, 'harvey': 4.990043300606173, 'featuring': 3.5737313717986314, 'awards': 2.283985132035204, 'weiss': 6.555678590381881, 'series': 3.754161871677944, 'as': 0.2543390440248236, 'expert': 3.781602879020521, 'college': 3.122732540635111, 'busy': 5.744748374165552, 'earned': 2.3840423538581335, '2010in': 5.602000326436105, 'longestrunning': 6.843360662833661, 'character': 3.5492890223539018, 'known': 1.4457727152652031, 'junk': 7.489987827758714, 'collection': 3.2771870558393252, 'simmons': 6.111298066024043, 'currently': 1.637088969126014, 'began': 3.454920191420506, 'blobby': 10.986495389225194, 'title': 2.5500785078362447, '1991henderson': 10.986495389225194, 'whistle': 26.7297211840841, 'historyhenderson': 10.986495389225194, 'magic': 17.995245482962336, 'storyboard': 7.37557747658097, 'published': 5.775009341956282, 'now': 1.96695239252401, 'alternative': 4.208848795590078, 'comics': 10.25712446948347, 'also': 0.4627270916162349, 'wordless': 8.347438059609935, 'strip': 10.552136743700649, 'scene': 3.553420040326614, 'boiceville': 10.293348208665249, 'but': 1.313994565464302, 'starring': 3.6295771468691735, 'ended': 3.3430124821479934, 'magazine': 2.456583425401182}, {'streamz': 10.986495389225194, 'including': 1.2272824458461182, 'artists': 2.725227238647546, 'doolittle': 8.213906666985412, 'vegas': 4.536024967081018, 'mr': 3.4165677339825424, 'features': 3.7830898681420995, 'which': 0.7674309670437692, 'starring': 3.6295771468691735, 'verb': 8.153282045168979, 'report': 3.7697859025157365, 'soundtrack': 4.507985747016625, 'videogame': 7.654290879049991, 'entourage': 7.489987827758714, 'featured': 2.542518260140216, 'been': 0.9774773354796025, 'ferrari': 6.371374872383935, 'mz': 9.377057476791094, 'ferrariwhich': 10.986495389225194, 'confused': 5.739471317064708, 'cocacola': 6.543844132734878, 'pellatfinet': 10.986495389225194, 'lucien': 7.348909229498808, 'cashmere': 8.421546031763658, 'jayz': 7.115294378317303, 'colette': 7.585298007563039, 'collaborations': 4.808551275174594, 'developed': 3.092923315720292, 'most': 1.4186204428983973, 'ronson': 7.690658523220865, 'mark': 3.0388168179236272, 'toured': 3.527156494004899, 'showlacrate': 10.986495389225194, 'by': 0.37455341206197373, 'west': 2.602605045123377, 'used': 2.7818235602743835, '2005': 1.6425861253275964, 'gutter': 15.790905871733758, 'album': 2.4512658353228582, 'tracks': 4.181880869162571, 'hero': 4.915757661222704, 'young': 2.4099018545275093, 'em': 6.0738405034891425, 'tell': 4.804410482508563, 'at': 0.43063857330825733, 'rock': 2.943474503926912, '10': 2.3157231098806563, 'for': 0.43717517605972145, 'blank': 6.682430296021025, 'delicious': 7.61919955923872, 'being': 1.7938099524877322, 'amanda': 5.683190481166118, 'fashion': 21.165287353137074, 'success': 2.881489851677948, 'lacrates': 10.986495389225194, 'early': 1.929422753652229, 'collaboration': 3.7154868509442025, 'productions': 3.482654642526243, 'commissioned': 7.927254606285105, 'helping': 3.9398481113764383, 'east': 2.8400760661271907, 'recording': 2.9764678607434605, 'from': 0.5875106759712689, 'performanceslacrate': 10.986495389225194, 'baltimores': 7.808441558877249, 'that': 0.6614069466714981, 'paris': 3.190026146139137, 'with': 1.0123432126103034, 'hbo': 20.8852171457614, 'nightclubs': 6.629786562535602, 'this': 1.2818856957987381, 'highly': 3.573128053529954, 'television': 2.00180169878134, 'on': 0.5532382600518011, 'vans': 7.690658523220865, 'road': 3.567114806306502, 'seth': 6.422147197757358, 'rascals': 7.990763115671204, 'has': 2.142487698720195, 'marc': 4.696779818316197, 'club': 4.417263349208051, 'star': 2.9854754279015427, 'mixtapes': 7.225295273531632, 'was': 0.3968289280609173, 'clothing': 10.82868271409486, 'also': 0.9254541832324698, 'records': 5.35708568790835, 'a': 0.03371510683549888, 'wire': 17.29841869244061, 'boy': 4.012016478200149, 'he': 0.853474230634896, 'madonna': 5.96921555241027, 'director': 1.6150570969066835, 'original': 2.9143400810369444, 'baltimoreaaron': 10.986495389225194, 'remixed': 5.982549083279735, 'american': 1.1273777844250068, 'quest': 5.292763250422495, 'the': 0.0015236676386087002, 'vinyl': 5.816011394187043, 'athletics': 12.47334995275053, 'and': 0.01564802185902329, 'credited': 7.642003828328697, 'popularizing': 7.322933743095548, 'mndr': 10.293348208665249, 'music': 12.549548608814243, 'his': 1.3130572760682866, 'film': 2.033113917057952, 'grew': 2.9691878815366133, 'kanye': 7.054669756500869, 'dizzee': 27.12175572050964, 'local': 2.5829189245959245, 'launch': 4.439709978464671, 'upon': 3.3017114457024097, 'role': 2.20355903287593, 'dazed': 7.552508184740048, 'lily': 19.08456772782277, 'working': 2.074561053063768, '2009': 1.5644364836042695, 'range': 3.6626648230228773, 'campus': 4.687546142369252, 'live': 2.586285553294776, 'produced': 7.534750770196689, 'experimenting': 6.543844132734878, 'record': 4.3057738130686065, 'doolittleat': 10.986495389225194, 'maryland': 4.251903729252247, 'university': 0.8473430048211847, 'mc': 5.782488702148399, 'epmd': 9.377057476791094, 'an': 0.2982390890818971, 'ever': 2.956736868784372, 'rogenrecently': 10.986495389225194, 'allen': 13.119333512536905, 'custom': 5.688178022677158, 'recently': 2.6417526348076485, 'create': 3.7071765538105743, 'other': 1.4424007566948476, 'specialedition': 10.293348208665249, 'diy': 6.926052378678775, 'artist': 2.4318137533979653, 'lacrate': 131.8379446707023, 'vital': 5.570394987020774, 'support': 3.0010110324913715, 'official': 6.300251257360141, 'series': 3.754161871677944, 'platinum': 4.906562194129604, 'recordings': 3.6580580363300323, 'wide': 3.5647195955805473, 'rascal': 15.702002346592089, 'began': 3.454920191420506, 'time': 1.3253342074200498, 'age': 2.138848033513307, 'producer': 2.6157162162644934, 'based': 2.299897032948229, 'in': 0.008688657151093043, 'later': 1.4294496043477696, 'rakim': 27.12175572050964, 'cable': 4.92971137599657, 'level': 3.2406271594329263, 'graffiti': 6.391375539090604, 'life': 4.3815235665489185, 'baltimore': 33.93948962331078, 'jayzs': 8.347438059609935, 'highlandtown': 10.986495389225194, 'observe': 6.752388884627935, 'bmore': 32.95948616767558, 'up': 1.5635467678501844, 'exclusive': 10.455187230695827, 'new': 0.8871532656125274, 'world': 1.370623244696304, 'ragehbo': 10.986495389225194, 'born': 0.268196273764765, 'djing': 6.843360662833661, 'streetwear': 19.200402056210606, 'attending': 4.0347232248262825, 'collaborated': 7.523483966914446, 'milkcrate': 65.91897233535116, 'created': 2.7752840274321713, 'aaron': 24.86390116591196, 'studio': 3.0810537401649083, 'brandaaron': 10.986495389225194, 'interning': 8.421546031763658, 'pop': 3.5913878426627086, 'black': 3.1224597301527437, 'nightclub': 6.00976164680462, 'historical': 3.80718741972116, 'parties': 4.495771854722687, 'spank': 9.377057476791094, 'tour': 2.8485149347730556, 'writing': 2.61409678271219, 'sold': 3.3511915029657793, 'of': 0.016624704796446097, 'even': 3.282585179608883, 'took': 2.2103282894939196, 'started': 2.1106492114865967, 'making': 2.7223896254962385, 'tshirts': 14.230588756634607, 'shows': 2.8354504435401706, 'is': 0.11046500190207996, 'culture': 6.265781152254715, 'basement': 6.313666554763288, 'youngest': 3.825649482560895, 'cool': 5.6158573610975315, 'house': 2.325548234164261, 'prior': 2.956736868784372, 'syracuse': 5.114377599749778, 'hard': 4.057957571060529, 'scene': 3.553420040326614, 'played': 1.5454402004384837, 'king': 3.452801679376562, 'summers': 5.771559631616209, 'z': 5.989283115461079, 'york': 1.701047544762206, 'city': 1.7402088904755424, 'def': 6.475635882708344, 'jam': 5.384376568345493, 'song': 2.869182927623221, 'payday': 7.941972951501771, 'rocafella': 8.789270811888976, 'spent': 2.418609083493439, 'fade': 7.248825770941826, 'designer': 7.809573606239239, 'classic': 3.635337162794501, 'to': 0.1877797507271969, 'reasonable': 6.464706812176154, 'doubt': 5.76613956414687, 'knock': 6.709829270209139, 'eliza': 14.497651541883652, 'over': 1.4878231559557336, 'jay': 4.577966598165696, 'featuring': 3.5737313717986314, 'tshirtin': 10.986495389225194, '1999': 1.9968016883646342, 'where': 2.178152424181346, 'many': 1.639964662798746, 'successful': 2.679282762596886, 'kids': 4.521907085535233, 'tramps': 8.907053847545358, 'nyc': 10.41150374686573, 'tribe': 5.905091024240731, 'wutang': 7.808441558877249, 'throughout': 2.8924222411558422, 'sponsored': 4.439709978464671, 'eminems': 8.789270811888976, 'first': 4.869234099795172, 'show': 4.3378027058988025, 'called': 2.0784770664403074, 'slick': 7.202305755306933, 'via': 4.163209266869507, 'ricks': 8.09612363132903, 'jacobs': 5.799109583384439, 'clan': 6.207371896113665, 'released': 6.023504698756524, 'major': 4.116240258743127, 'prison': 3.8094766233152946, 'outkast': 8.907053847545358, 'dj': 12.791596783109238, 'ultramagnetic': 10.986495389225194, 'mcs': 7.272923322520886, 'crack': 6.497859019493054, 'label': 6.603422891404819, 'x': 4.523465932304524, 'gorillaz': 8.347438059609935, 'soulja': 8.683910296231149}, {'concordia': 6.250296940830698, 'creative': 3.464636137023565, 'teaches': 3.7712554104950966, 'frequently': 3.7653902910426984, 'centre': 3.0261717600763545, 'banff': 6.332535039067671, 'may': 1.7899497282712007, 'americas': 4.168664817771044, 'festival': 2.5815754402917426, '1999': 1.9968016883646342, 'special': 2.7022435916032777, 'livres': 9.377057476791094, 'salon': 6.134465125305577, 'an': 0.2982390890818971, 'guests': 5.477107052597217, 'university': 1.6946860096423695, 'writerinresidence': 6.709829270209139, 'dhonneur': 6.812108119329557, 'chair': 2.9874881759812397, '54': 5.11719847609142, 'bridge': 4.810628119119433, 'opens': 6.509158574746988, 'things': 4.001779069106929, 'said': 2.808417925375587, 'zarathustra': 9.19473591999714, 'fourth': 3.078843794514105, '2004': 1.6903443608359008, 'writers': 10.632007999292261, 'march': 1.9573172463231197, 'run': 2.7873060301471266, 'enjoyed': 4.373111170845635, 'paris': 6.380052292278274, 'with': 0.40493728504412135, 'coproduced': 4.86181199833099, 'west': 2.602605045123377, 'village': 3.9268777609338112, 'tenth': 4.932056042955824, 'commemorate': 6.381325203237103, 'chosen': 3.80186623650788, 'sienna': 8.153282045168979, 'people': 2.5151367341527564, '20000': 5.804711838933109, 'seen': 3.4810031144877702, 'place': 2.5222811225998436, '2005': 1.6425861253275964, 'few': 3.0010110324913715, 'fall': 3.6340542889816114, 'stage': 2.894255982500984, 'returned': 2.224475435663605, 'qubcoise': 9.19473591999714, 'english': 2.239461125047026, 'award': 1.6322278484423687, 'sprung': 16.556890376245967, 'infinitheatre': 32.95948616767558, 'short': 2.711119014388788, 'long': 8.34711136995346, 'anniversary': 4.099963746694684, 'play': 11.351437090366709, '2002': 7.501250355128921, 'appear': 4.067800170204723, 'press': 2.722647257856288, 'booksst': 10.986495389225194, 'dunne': 7.431147327735781, 'thomas': 3.3202734635624696, 'murders': 5.658619220435613, 'storm': 4.980142229623461, 'trilogy': 5.131423467022767, 'well': 1.5295293417875981, 'all': 1.6431112434912472, 'language': 3.4581636225179473, 'arts': 4.367945781881546, 'raised': 3.059531844362216, 'declared': 4.504918259948763, 'which': 0.7674309670437692, 'chants': 7.654290879049991, 'until': 1.7591012626831841, 'than': 2.0650378102773113, '2013': 1.9545642372230505, 'water': 4.0270968770912186, 'major': 2.0581201293715634, 'first': 2.782419485597241, 'working': 2.074561053063768, 'by': 2.6218738844338163, 'taxi': 6.0520214560945025, 'served': 1.5362723499305253, '1985': 2.5324550128142254, 'burns': 5.67822769182399, 'some': 2.1974446757041473, 'settled': 4.687546142369252, 'five': 2.2137301792754096, 'to': 0.46944937681799226, 'driving': 4.407244177215094, 'returning': 3.587709113805246, 'states': 1.824400329877006, 'dir': 15.105016369480095, 'huron': 7.728398851203712, 'writing': 5.22819356542438, 'united': 1.5679220786705559, 'equally': 5.793538538334984, 'he': 2.560422691904688, 'travelled': 4.744272123770029, 'twenties': 6.475635882708344, 'crime': 8.052295320247774, 'die': 4.504918259948763, 'night': 6.558865467709443, 'novel': 19.91883113487065, 'europe': 2.7615279103106105, 'burnt': 7.402976450769084, 'his': 2.1008916417092585, 'film': 2.033113917057952, '1977': 2.6962027980008787, 'also': 1.8509083664649395, 'received': 3.0793219631333275, 'masque': 8.789270811888976, 'gangs': 6.9975113426609195, 'worked': 3.107783706724218, 'where': 2.178152424181346, 'before': 1.4967823726683713, 'bunkhousesin': 10.986495389225194, 'invit': 9.19473591999714, 'house': 2.325548234164261, 'french': 2.9278516770095764, 'write': 7.725645208041174, 'author': 2.2935018580052677, 'ice': 8.183650699583426, 'of': 0.09559205257956506, '2006': 1.520737905384506, 'the': 0.005383625656417407, 'throughout': 2.8924222411558422, 'early': 1.929422753652229, 'day': 2.661431695593997, 'toronto': 3.3555488083347353, 'publication': 7.9148156501510645, 'plays': 2.869182927623221, 'later': 1.4294496043477696, 'being': 1.7938099524877322, 'past': 3.272264244376109, 'penname': 7.728398851203712, 'very': 2.811792506755733, 'has': 2.570985238464234, 'barnacle': 9.19473591999714, 'des': 8.255860708867658, 'worlds': 3.5737313717986314, 'text': 4.656774483702498, 'next': 2.670439668860552, 'regarded': 4.1226919977722405, 'four': 1.922106072733316, 'praise': 5.012685777355933, 'nominated': 2.8896779186528754, 'trevor': 16.383127350280233, 'a': 0.0730493981435809, 'and': 0.009686870674633467, 'november': 3.9453132752336004, 'midteens': 8.501588739437194, 'at': 1.7225542932330293, 'writersextraordinary': 10.986495389225194, 'northwest': 4.958216868994496, 'fair': 4.432561985199383, 'more': 1.673778950632145, 'ontario': 3.738702807457348, 'high': 1.906719387270128, 'journal': 3.025473923341824, 'canada': 8.05715528512122, 'fiction': 10.923391646424976, 'john': 7.965321595656177, 'for': 0.36431264671643454, 'three': 2.9830050587151904, 'company': 2.195009362476192, 'towards': 4.038558320610226, 'into': 3.2101258848132113, 'won': 1.3836400683164753, 'onyx': 8.278445188122983, 'sold': 3.3511915029657793, 'it': 5.266322333975261, 'be': 4.218744013624684, 'nine': 3.2624907325491286, 'developed': 3.092923315720292, 'seaforth': 9.887883100557085, 'farrow': 26.05173088869345, 'best': 10.73520750690485, 'been': 4.887386677398013, 'called': 8.31390826576123, '2014city': 10.986495389225194, 'guy': 9.202601980454938, 'dennis': 4.640859028396599, 'canadas': 9.32069183214019, 'germany': 3.0033964485143017, 'no': 2.396423552396384, 'gravitated': 8.421546031763658, 'both': 1.6730570592454443, 'time': 1.3253342074200498, 'began': 1.727460095710253, 'ferguson': 11.713193348604241, 'alberta': 4.90885314587616, '1000': 4.534446434787968, 'du': 4.286995049063516, 'lives': 2.532029027717262, 'aka': 4.654993539331503, 'starborn': 10.986495389225194, 'in': 0.03958166035497942, 'lee': 3.5895467866041804, 'age': 2.138848033513307, 'books': 2.2488823524163437, 'montreal': 23.576750445163817, 'hudson': 10.746734565674249, 'arguably': 5.782488702148399, 'highest': 3.43846641929018, 'produced': 7.534750770196689, 'faculty': 3.0247765732438294, 'genre': 4.5632484256916745, 'critical': 3.480453210707072, 'literature': 3.391108110371222, 'leon': 5.341048491581956, 'rooke': 9.600201028105303, 'twentieth': 5.574849337370154, 'will': 5.359552692045008, 'sixteen': 4.96062941539988, 'years': 1.0752380994247055, 'would': 2.136551161989598, 'become': 4.992935731763453, 'was': 0.8730236417340181, 'kinkajou': 10.986495389225194, 'caused': 4.346619555398658, 'on': 0.36882550670120073, 'indeed': 5.469042492760487, 'wood': 4.835892620778915, 'booklist': 7.520759486425468, 'work': 1.3993637697254548, 'highly': 7.146256107059908, 'invited': 6.8601348395698825, 'hes': 4.589565734009048, 'often': 2.862641126119281, 'is': 0.13808125237759994, 'maclennan': 8.683910296231149, 'from': 0.29375533798563447, 'who': 0.9098952189804214, 'cited': 4.149162574539603, 'successful': 2.679282762596886, 'fergusons': 16.69487611921987, 'studio': 6.162107480329817, '2015in': 8.042056410058754, 'century': 3.516271253325228, 'as': 0.3815085660372354, 'newspaper': 3.4624739740190695, 'quebec': 9.100690041711534, 'preeminent': 6.629786562535602, 'martins': 5.384376568345493, 'acclaim': 4.279633052622447, 'written': 2.3444332157630874, '11': 2.5966811271387873, 'awaited': 7.585298007563039, 'sun': 4.156701651712769, 'third': 7.051892004274375, 'timekeeper': 9.19473591999714, 'theatre': 8.980652525721265, 'ninth': 4.656774483702498, 'authors': 4.320811671442786, 'history': 4.289515921249219, 'hugh': 5.16938422926199, 'prize': 2.7453192387302345, 'county': 2.8412358227083288, '1': 2.0978765819243166, 'railway': 5.708380729994677, 'river': 12.315252256747977, 'city': 5.220626671426627, 'france': 6.015683320284927, 'published': 5.775009341956282, '2011': 1.7023470901042919, '17': 2.7543211528412543, 'paperback': 5.989283115461079, 'option': 5.905091024240731, '1947': 7.513313222147888, 'miniseries': 5.306322780208127, 'beach': 4.012016478200149, 'agreed': 4.663930149297911, 'one': 3.723722935234867, 'upon': 3.3017114457024097, 'union': 2.8368936534890397, 'under': 1.8347379746813095, 'simon': 3.916621260766622, 'schuster': 6.134465125305577, 'second': 5.017277494459604, 'april': 3.9784489659834934, 'countries': 3.3746529896447774, 'lacadmie': 8.09612363132903, 'pages': 5.276068371850324, 'vancouver': 4.219152263959802, 'novels': 12.019258345990293, '2012': 1.7938099524877322, 'book': 4.005609415785018, 'ever': 2.956736868784372, 'cultural': 3.3132722681034856, 'canadian': 8.300699805144342, 'bestseller': 5.137170609278335, 'series': 5.631242807516916, 'lake': 4.0270968770912186, 'new': 3.5486130624501095, 'york': 5.103142634286618, 'novelist': 8.89381886721505, 'today': 3.4098856222521565, 'ziet': 10.293348208665249, 'library': 4.04144432549936, 'born': 0.268196273764765, 'claim': 4.70049729471633, 'that': 0.6614069466714981, 'among': 4.599794065896458}, {'heavies': 8.907053847545358, 'new': 0.8871532656125274, 'brand': 4.497290457899877, 'beverley': 7.851001173296044, 'negrocan': 10.986495389225194, 'king': 3.452801679376562, 'champagne': 7.035251670643767, 'tei': 8.683910296231149, 'x': 4.523465932304524, 'roberts': 5.151684652162589, 'gilberto': 6.843360662833661, 'juliet': 5.771559631616209, 'goldie': 7.61919955923872, 'level': 3.2406271594329263, 'agnes': 6.5797761419609415, 'houston': 3.935505942157149, 'mcneal': 9.377057476791094, 'dodger': 7.157853992736099, 'aaliyah': 9.19473591999714, 'evelyn': 6.401527910554623, 'misteeq': 9.887883100557085, 'kelis': 8.683910296231149, 'include': 2.174545211685214, 'remixed': 5.982549083279735, 'artists': 2.725227238647546, 'musicsome': 9.600201028105303, 'top': 2.2740644157484557, 'consistently': 5.266183612617783, 'swing': 5.41434135704743, 'present': 3.679293074460456, 'so': 2.661916544088344, 'do': 3.162449378368902, 'continues': 3.3444509863519367, 'days': 3.0398778259807213, 'knight': 4.8002867653247, 'since': 1.455376717308041, 'house': 4.651096468328522, 'remained': 3.3202734635624696, 'always': 3.859604580326386, 'has': 0.856995079488078, 'brown': 7.309560838997457, 'delivers': 6.766987684049088, 'james': 5.524663753174666, 'by': 0.37455341206197373, 'ah': 7.402976450769084, 'funk': 5.526909875081035, 'began': 1.727460095710253, 'alterego': 7.851001173296044, 'started': 2.1106492114865967, 'faithless': 8.501588739437194, '1990s': 3.1109960967799863, 'sunday': 3.909841573781243, 'n': 8.564162068522174, 'on': 0.5532382600518011, 'club': 2.2086316746040255, 'was': 0.15873157122436693, 'to': 0.23472468840899613, 'as': 0.3815085660372354, 'frankie': 6.037735498847026, 'guy': 4.601300990227469, '2step': 9.887883100557085, 'garage': 6.0738405034891425, 'towa': 9.19473591999714, 'rosie': 6.642689967371511, 'delivered': 9.840774598242893, 'uk': 8.371829993731193, 'liberty': 5.279385124476319, 'breakbeat': 7.585298007563039, 'due': 2.7324867986603505, 'born': 0.268196273764765, '1971': 2.857025624440964, 'head': 2.464115671121657, 'early': 3.858845507304458, 'april': 1.9892244829917467, 'bump': 15.535239128713988, 'is': 0.05523250095103998, 'gaines': 7.489987827758714, 'worked': 1.553891853362109, 'produce': 4.200907744217265, 'godfathers': 8.683910296231149, 'nng': 10.986495389225194, 'jodeci': 10.293348208665249, 'scenes': 4.932056042955824, 'nelson': 18.563436113586395, 'london': 4.439578782949358, 'and': 0.006706295082438554, '27': 3.110616229728885, 'roy': 4.520350664987575, 'grant': 3.978894775273341, 'ripe': 17.003177478874388, 'happy': 9.680332263112593, 'one': 0.9309307338087167, 'red': 3.274498882177525, 'jamiroquai': 8.153282045168979, 'evolved': 5.402999080443495, 'another': 2.603062187988481, 'label': 9.90513433710723, 'english': 2.239461125047026, 'thelma': 7.348909229498808, '19901993': 7.460134864609033, 'sound': 3.5265806229840893, 'up': 1.5635467678501844, 'numerous': 2.4220370053418425, 'in': 0.0028962190503643475, 'drawer': 8.347438059609935, 'dj': 8.527731188739493, 'flex': 15.616883117754497, 'labels': 4.808551275174594, 'it': 1.3165805834938153, 'hits': 3.7189699613970224, 'remixer': 7.1363477875151355, 'the': 0.0010157784257391334, 'of': 0.02078088099555762, 'heralded': 6.961143698490045, 'other': 1.4424007566948476, 'an': 0.2982390890818971, 'nice': 11.20400065287221, 'along': 2.5088749729287803, '1993': 2.3032794139845048, 'with': 0.8098745700882427, 'few': 3.0010110324913715, 'wishdokta': 32.95948616767558, 'others': 2.8003093949991116, 'some': 4.3948893514082945, 'that': 1.3228138933429963, 'into': 1.6050629424066056, 'producernelson': 10.986495389225194, 'vibes': 15.790905871733758, 'birth': 4.309411927978059, 'scene': 3.553420040326614, 'name': 2.433549028103139, 'known': 2.8915454305304062, 'together': 2.8423969258866704, 'ayers': 7.690658523220865, 'city': 1.7402088904755424, 'asylum': 5.850696952174933, 'knuckles': 8.042056410058754, 'which': 0.7674309670437692, 'garagehe': 10.986495389225194, 'produced': 2.511583590065563, 'gave': 3.274946409596048, 'under': 1.8347379746813095, 'roll': 4.581266931194353, 'when': 1.3806055739282235, 'lutricia': 9.887883100557085, 'he': 0.426737115317448, 'producing': 3.830318751744579, 'artful': 7.941972951501771, 'bass': 3.857197840295821, 'then': 1.4309354361561304, 'hardcoredrum': 10.986495389225194, 'for': 0.07286252934328691, 'record': 4.3057738130686065, 'legendary': 4.280856294365192, 'kickin': 8.421546031763658, 'records': 8.035628531862525, 'teamed': 4.91345085512479, 'they': 1.8993401178193898, 'hardcores': 10.986495389225194, 'simply': 4.736520146965711, 'biggest': 8.2245937875438, 'anthems': 7.489987827758714, 'his': 1.3130572760682866, 'music': 1.7927926584020348, 'a': 0.011238368945166293, 'inc': 3.612493529875034, 'bebel': 8.683910296231149, 'using': 3.288012601344248, 'including': 2.4545648916922365, 'from': 0.29375533798563447, 'traxin': 10.986495389225194, 'also': 0.9254541832324698, '1997': 2.1298344522079455}, {'2002': 1.8753125887822302, 'harvard': 3.3170001382175003, 'twentieth': 5.574849337370154, 'traumas': 8.588600116426823, 'pp': 6.555678590381881, 'shoshana': 8.789270811888976, 'question': 4.850930498143455, 'luckhurst': 10.293348208665249, 'roger': 4.257866776140492, '173182': 10.986495389225194, 'work': 1.3993637697254548, 'caruths': 10.986495389225194, 'both': 1.6730570592454443, 'discussion': 5.154612911941677, 'good': 3.0884556984605758, 'a': 0.005619184472583146, 'for': 0.07286252934328691, 'mysterious': 6.0738405034891425, 'still': 2.700225936442129, 'unconscious': 6.908957945319475, 'perceiving': 9.19473591999714, 'our': 3.573128053529954, 'call': 4.110230777334428, 'previously': 2.7704072905928783, 'cornell': 4.897450513778348, 'fictions': 7.585298007563039, 'comparative': 9.629589583628558, 'johns': 21.52193395887693, 'critical': 6.960906421414144, 'departments': 4.850930498143455, 'encounters': 6.207371896113665, 'author': 2.2935018580052677, 'from': 0.29375533798563447, 'phd': 2.5603215961961254, 'department': 2.3398541306220704, 'build': 4.568130453288983, 'locke': 7.157853992736099, 'conceptualizing': 8.907053847545358, 'helped': 2.9399460319421156, 'where': 1.089076212090673, 'we': 3.3825974207033136, 'emory': 6.2329051981188295, 'she': 6.327948952685501, 'felman': 10.293348208665249, 'literature': 10.173324331113665, 'humane': 6.351766400995558, '1988': 2.4491074905234376, 'one': 0.9309307338087167, 'with': 0.40493728504412135, 'hopkins': 24.555746790682548, 'her': 3.100430757265601, 'truths': 7.157853992736099, 'born': 0.268196273764765, 'unclaimed': 9.600201028105303, 'responsibility': 4.451254118211536, 'experience': 6.325698916780484, 'h': 3.9468350393631186, 'forthcoming': 5.535456935659494, 'reference': 4.67113738770286, 'describes': 4.564873121418676, 'that': 0.6614069466714981, 'cathy': 6.21581076475953, 'caruth': 10.986495389225194, 'yale': 7.968678869643146, 't': 4.286995049063516, 'is': 0.11046500190207996, 'at': 0.645957859962386, 'english': 2.239461125047026, 'rhodes': 5.683190481166118, 'professor': 2.010865204934687, 'editor': 2.7424241189294083, 'explorations': 6.655762048938863, 'juridical': 8.09612363132903, 'taught': 2.8485149347730556, 'century': 3.516271253325228, 'rutgers': 5.296135934901134, 'university': 4.236715024105924, 'writing': 2.61409678271219, 'of': 0.045717938190226765, 'the': 0.0009142005831652201, 'and': 0.010432014572682195, 'letters': 4.370430204092377, '1996': 2.135691193468776, 'in': 0.006757844450850144, 'appointed': 2.2003443343554556, 'ashes': 6.391375539090604, 'most': 1.4186204428983973, 'ways': 4.390714875263883, 'memory': 4.763919121153825, 'theory': 7.054312988009798, 'up': 7.817733839250922, '1991': 2.3750835225699753, 'press': 5.445294515712576, 'history': 4.289515921249219, 'empirical': 6.323056295113127, 'deconstructive': 9.887883100557085, 'see': 3.465177409025954, 'jay': 4.577966598165696, '2013': 1.9545642372230505, 'freud': 7.115294378317303, 'to': 0.04694493768179923, 'wordsworth': 8.09612363132903, 'as': 0.1271695220124118, 'conversations': 6.002888767516858, 'frank': 3.6866980224670334, 'leaders': 3.8741679445142827, 'treatment': 4.3571321357877455, 'md': 4.75012579902149, 'narrative': 4.965472039875668, 'catastrophic': 7.348909229498808, '1995': 4.444259337390772, 'n3': 10.293348208665249, 'received': 1.5396609815666638, 'also': 0.4627270916162349, 'phenomenon': 5.750053426395245, 'coeditor': 4.977682203782599, 'listening': 5.5883326877074415, 'deborash': 10.986495389225194, 'esch': 9.19473591999714, 'robert': 2.802818806604537, 'lifton': 9.600201028105303, 'kant': 7.225295273531632, 'innovative': 4.48821323974876, '2014': 2.2073995783446634, 'what': 2.819143402169124, 'trauma': 37.6079791075806, '1955': 3.556974546438732, 'scholars': 4.790051261430674, 'trials': 4.726913925160272, 'on': 0.5532382600518011}, {'who': 0.9098952189804214, 'son': 2.5762194801550344, 'worker': 4.9534091674263925, 'construction': 4.273539188548124, 'husband': 3.7092476625937105, 'lives': 2.532029027717262, 'languageshe': 7.990763115671204, 'teaching': 3.095538673086275, 'by': 0.37455341206197373, 'english': 2.239461125047026, 'another': 2.603062187988481, 'tattoo': 6.543844132734878, 'herself': 4.261461747058352, 'on': 0.18441275335060037, 'sold': 3.3511915029657793, '2009': 1.5644364836042695, 'brooklyn': 4.150236111948127, 'while': 1.8364359481339414, 'circus': 5.688178022677158, 'french': 2.9278516770095764, 'secondary': 4.1174809385594875, 'nameafter': 9.19473591999714, 'same': 2.2492032766809724, 'daniel': 3.840510921510807, 'adaptation': 4.500334600281105, 'world': 1.370623244696304, 'comedydrama': 6.486685718894929, '2001': 1.9280249665871378, 'sauve': 10.293348208665249, 'family': 4.554720795276023, 'apprenticed': 7.248825770941826, 'relocated': 4.86181199833099, 'that': 1.9842208400144945, 'completing': 4.251903729252247, 'drawings': 5.279385124476319, 'foreign': 3.1908488528906003, 'parents': 6.905603358753124, 'with': 0.6074059275661821, 'artists': 2.725227238647546, 'as': 0.1271695220124118, 'town': 3.20077449269057, 'original': 2.9143400810369444, 'commissioned': 3.9636273031425526, 'years': 1.0752380994247055, '2010': 1.5928339601219734, 'lived': 3.378120914844411, 'california': 2.345669637363682, 'street': 3.250188292676909, 'nearby': 5.323534909089249, 'woodland': 7.808441558877249, 'born': 0.8045888212942951, 'in': 0.010619469851335942, 'her': 12.401723029062405, 'kominskycrumbcrumb': 10.986495389225194, 'reported': 3.616894668698785, 'acrobatics': 8.09612363132903, 'artist': 4.863627506795931, 'at': 0.43063857330825733, 'is': 0.05523250095103998, 'winters': 6.323056295113127, 'an': 0.5964781781637942, 'americanfrench': 10.986495389225194, 'was': 0.3968289280609173, 'education': 2.4487155642005685, 'father': 2.53865227594375, 'a': 0.05057266025324832, '1981': 2.5978176200443843, 'underground': 4.587900454689986, 'until': 1.7591012626831841, 'crumb': 30.47679823695488, 'about': 1.9265128988375737, 'robert': 2.802818806604537, 'interview': 3.669947212042218, 'violet': 6.9975113426609195, 'village': 3.9268777609338112, 'his': 0.2626114552136573, 'film': 2.033113917057952, 'september': 1.9011515074236967, 'nine': 3.2624907325491286, 'she': 7.909936190856877, 'serial': 5.14005661416747, 'mother': 3.112517009620693, 'remove': 5.862531409821935, '1991': 2.3750835225699753, 'southern': 6.305790331128181, 'aline': 8.501588739437194, 'farming': 5.9626148683789175, 'stage': 2.894255982500984, '1994': 2.2375557576874794, 'school': 1.2227872792173518, 'daughter': 3.170884857190004, 'the': 0.0008126227405913067, 'of': 0.02078088099555762, 'comix': 7.520759486425468, 'to': 0.1877797507271969, 'fundamentalists': 8.347438059609935, 'turn': 4.267482234839934, 'political': 2.322262455159642, 'prepare': 5.810345656651365, 'clowning': 9.04058524016988, '27': 3.110616229728885, 'and': 0.0052160072863410975, 'sophia': 6.604468754551313, 'france': 9.02352498042739, 'comics': 15.385686704225204, 'christian': 3.516271253325228, 'acclaimed': 3.766121552501245, 'sophies': 8.907053847545358, 'they': 1.8993401178193898, 'eli': 6.371374872383935, 'wanted': 4.054047497652686, 'sophie': 24.475843755078447, 'from': 0.29375533798563447, 'later': 1.4294496043477696, 'conservatives': 5.693190564500702, 'studied': 2.2933341149871773, 'into': 1.6050629424066056, 'afraid': 6.361522575940923, 'this': 1.2818856957987381, 'states': 1.824400329877006, 'united': 1.5679220786705559, 'philadelphia': 3.7078664469045117, 'inquirer': 6.696035948076803, 'zwigoff': 20.586696417330497, 'would': 2.136551161989598, 'clowes': 9.887883100557085, 'critically': 4.424051295531474, 'some': 2.1974446757041473, 'told': 3.965411424936054, 'valley': 3.9600685805255584, 'girlit': 10.986495389225194, 'ghost': 5.262910287272813, 'after': 0.9443334420013064, 'living': 6.102531698816574, 'old': 2.905638969584208, 'relocation': 6.961143698490045, 'earned': 2.3840423538581335, 'mid2000s': 7.035251670643767, 'terry': 4.5439552227569955, 'released': 2.0078348995855078, 'their': 3.0403916739863575, 'for': 0.07286252934328691, 'documentary': 3.222624101404972, 'inclusion': 5.744748374165552}, {'left': 2.191367476812056, 'but': 1.313994565464302, 'up': 1.5635467678501844, 'christ': 4.525027212871477, 'home': 2.4210836255384827, 'son': 2.5762194801550344, 'lancastrian': 9.600201028105303, 'gospels': 7.990763115671204, 'memorial': 3.984339434821573, 'when': 1.3806055739282235, 'on': 0.18441275335060037, 'herself': 4.261461747058352, 'set': 2.699470364060131, 'circumstances': 5.620519374203343, 'boyfriend': 6.2329051981188295, 'dies': 7.272923322520886, 'three': 1.4915025293575952, 'whom': 3.2571997149147127, 'funny': 5.421974981902501, 'built': 4.061882993176634, 'be': 1.4062480045415613, 'anniversary': 4.099963746694684, 'according': 3.4374126784129087, 'light': 3.740840321630659, 'cold': 4.918069800981084, 'tenth': 4.932056042955824, 'universityashworths': 10.986495389225194, '2003': 1.8013702663900752, 'winner': 3.212900921865, 'dark': 4.269900615704216, '2004': 1.6903443608359008, 'extract': 7.585298007563039, 'theft': 6.00976164680462, 'result': 3.377624760033935, 'betty': 5.552773385670955, 'violence': 4.483705343309571, 'church': 13.600796328289896, 'eventually': 3.0940433457048417, 'tragedy': 5.886628961400996, 'friday': 4.987558827278511, 'comedy': 3.4937350883028153, 'both': 3.3461141184908887, 'mission': 3.8939216732505155, 'elements': 4.564873121418676, 'lds': 11.131920779905817, 'strong': 3.4722407364087844, 'contains': 5.1965352183279405, 'selfdeception': 9.19473591999714, 'full': 3.003055326218652, 'their': 1.5201958369931787, 'relate': 6.543844132734878, 'family': 2.2773603976380117, 'grips': 8.789270811888976, 'it': 3.9497417504814463, 'others': 2.8003093949991116, 'she': 9.491923429028251, 'this': 3.8456570873962144, 'hub': 6.592046234552756, 'was': 0.4761947136731008, 'closed': 4.632125348427844, 'and': 0.009686870674633467, 'lost': 5.463412926152938, 'coordinator': 4.233057470627415, 'called': 2.0784770664403074, 'lancs': 9.887883100557085, 'renamed': 4.611470569397098, 'later': 1.4294496043477696, 'from': 0.8812660139569034, 'unpublished': 6.351766400995558, 'graduated': 2.2579073935292953, 'founded': 2.7103551696667347, 'come': 3.672608557591732, 'librarian': 6.323056295113127, 'suspicious': 6.9975113426609195, 'sarah': 4.589565734009048, 'member': 1.2204325126007385, 'in': 0.010619469851335942, 'born': 0.268196273764765, 'consultancy': 5.497557663068508, 'computer': 3.5629269449660277, 'works': 2.214349949980095, 'previously': 2.7704072905928783, 'writers': 3.5440026664307536, 'runs': 3.5323543110785156, 'them': 2.497495932179739, 'has': 1.285492619232117, 'for': 0.29145011737314763, 'another': 2.603062187988481, 'girls': 3.986160928949964, 'earlier': 3.8041432773399317, 'english': 4.478922250094052, 'summerhouse': 10.293348208665249, 'literature': 3.391108110371222, 'prisonshe': 9.887883100557085, 'editor': 2.7424241189294083, 'jenn': 16.19224726265806, 'central': 5.7995549378425775, 'ashworth': 16.843092063527315, 'centre': 6.052343520152709, 'lecturer': 3.63726456461186, '1982': 2.559664637889348, 'preston': 11.185735685745666, 'lancashire': 5.526909875081035, 'network': 3.154481208719725, 'body': 3.691438972762564, 'unable': 4.470302313182231, 'as': 0.8901866540868826, 'to': 0.2816696260907954, 'worked': 3.107783706724218, 'featured': 2.542518260140216, 'kind': 4.539189526683981, 'bbc': 3.176548302748404, 'new': 2.6614597968375824, 'brought': 3.350225785845821, 'mens': 3.8110056756009723, 'also': 0.9254541832324698, 'novel': 23.23863632401576, 'jesus': 4.424051295531474, 'twoyear': 4.736520146965711, 'quillercouch': 10.986495389225194, '2010two': 10.986495389225194, 'lonely': 6.199003646443148, 'writer': 2.511166401907656, 'tells': 5.316614466244674, 'department': 2.3398541306220704, 'prize': 2.7453192387302345, 'manchester': 8.137579558779779, 'imagines': 8.501588739437194, 'third': 2.3506306680914584, 'account': 4.4212304191898335, 'woman': 3.4124503838529945, 'university': 3.389372019284739, 'novelistsshe': 10.986495389225194, 'welcoming': 7.37557747658097, '2010': 1.5928339601219734, 'latterday': 5.38807343022682, 'best': 1.5336010724149785, 'taught': 2.8485149347730556, 'found': 2.8833036369394076, 'however': 2.41879921563585, 'writing': 20.91277426169752, 'cambridge': 7.308252366592264, 'creative': 13.85854454809426, 'teens': 5.282712914568993, 'with': 0.6074059275661821, 'is': 0.16569750285311993, 'at': 1.291915719924772, 'award': 1.6322278484423687, 'the': 0.0022347125366260936, 'of': 0.07481117158400744, 'aims': 5.505856465883203, 'an': 0.8947172672456913, 'hymas': 10.986495389225194, 'teenage': 5.100391357775038, 'currently': 1.637088969126014, 'death': 3.1568650000750016, 'january': 3.770824006371922, 'published': 3.8500062279708547, 'written': 2.3444332157630874, 'there': 2.3005725945344695, 'smithy': 9.600201028105303, 'poet': 3.882351296237667, 'lancasterin': 10.293348208665249, 'saints': 4.662136426843883, 'trask': 8.278445188122983, 'shows': 2.8354504435401706, 'short': 2.711119014388788, 'odd': 5.949542786811565, 'march': 1.9573172463231197, '2011': 3.4046941802085837, 'its': 1.6875948402695313, 'culture': 3.1328905761273576, 'novels': 4.006419448663431, 'one': 2.79279220142615, 'won': 1.3836400683164753, '12': 2.511583590065563, '2013': 1.9545642372230505, 'own': 2.269959656680699, 'until': 1.7591012626831841, 'stories': 3.3976655109173812, 'reality': 4.213415013569659, 'her': 6.200861514531202, 'are': 1.7719638126305435, 'first': 0.6956048713993103, '2009': 1.5644364836042695, 'lancashireshe': 10.293348208665249, 'intimacy': 7.1363477875151355, 'mentor': 4.748170764185686, 'february': 2.1088344556315284, 'a': 0.0730493981435809, 'story': 5.954929408310927, 'failing': 5.043696014098494}, {'permanent': 3.9183233888371527, 'museums': 4.781937626656504, 'sunday': 3.909841573781243, 'collection': 3.2771870558393252, 'radio': 2.349033365418012, 'on': 0.18441275335060037, 'been': 0.9774773354796025, 'have': 1.4416847832984716, 'design': 6.357970694018003, 'contributions': 3.5498781239909682, 'prix': 4.345313219484603, 'its': 1.6875948402695313, 'him': 1.5755843267871936, 'internationale': 6.103693466638823, 'association': 2.1546374540272892, '2002': 1.8753125887822302, 'cooperhewitt': 7.552508184740048, 'by': 0.37455341206197373, 'america': 2.5998665678300736, 'designers': 5.330503578405342, 'influential': 3.738702807457348, 'computer': 3.5629269449660277, 'latterday': 5.38807343022682, 'for': 0.21858758802986072, 'typefaces': 16.427813333970825, '20052014': 8.907053847545358, 'work': 2.7987275394509097, 'from': 0.29375533798563447, 'part': 3.8388963741509756, 'operated': 4.936761933993236, 'hoefler': 82.34678566932199, 'working': 2.074561053063768, 'appearances': 2.8360274776011907, 'began': 1.727460095710253, 'apple': 5.22130428644035, 'church': 3.400199082072474, '1999': 1.9968016883646342, 'typographique': 10.293348208665249, 'frerejones': 30.880044625995744, 'designer': 7.809573606239239, 'an': 0.2982390890818971, 'appearing': 3.7487171973017515, 'their': 1.5201958369931787, 'with': 0.40493728504412135, 'illustrated': 4.57961540315588, 'public': 4.058227307284814, 'r': 3.858801689877796, 'foundry': 14.805952901538168, 'saintsin': 10.293348208665249, 'name': 2.433549028103139, 'tobias': 6.796840647198769, 'born': 0.268196273764765, '1970': 2.813766284359722, 'giants': 4.623467285684729, 'a': 0.005619184472583146, 'might': 4.68570959456195, 'national': 2.3721863295447827, 'jonathan': 4.394821657216536, 'guggenheim': 4.9486244693030566, 'id': 5.663485410086786, 'his': 0.2626114552136573, 'peignot': 10.986495389225194, 'original': 2.9143400810369444, 'current': 2.8308461188591933, 'under': 1.8347379746813095, 'typeface': 8.09612363132903, 'american': 1.1273777844250068, 'morninghoeflers': 10.986495389225194, 'band': 2.605580216101585, 'until': 1.7591012626831841, 'type': 20.379404709597694, 'designed': 11.516808354107221, 'system': 3.0888272384982884, 'has': 0.428497539744039, 'outstanding': 3.383594927020439, 'pronounced': 5.240292198685041, 'stone': 4.332342869041976, 'clients': 4.506450827298541, 'charles': 3.3550637246482893, 'founded': 2.7103551696667347, 'heffler': 10.986495389225194, 'bazaar': 6.669007275688884, 'was': 0.07936578561218346, 'company': 2.195009362476192, 'magazine': 12.28291712700591, 'macintosh': 6.9975113426609195, 'family': 2.2773603976380117, 'in': 0.005792438100728695, 'and': 0.007451438980487283, 'solomon': 5.7032916604872055, 'time': 1.3253342074200498, 'new': 2.6614597968375824, 'profiled': 5.708380729994677, 'presented': 3.2475716317857373, 'harpers': 5.9175911870049624, 'museum': 3.2440933674094126, 'august': 2.000173951599175, 'york': 5.103142634286618, 'atypi': 9.600201028105303, 'times': 4.200172444751827, 'is': 0.08284875142655997, 'sports': 3.001691999490788, 'esquire': 12.572030046865557, 'text': 4.656774483702498, 'prestigious': 3.6263914162360424, 'several': 1.6205197257175628, 'including': 1.2272824458461182, 'to': 0.04694493768179923, 'institutional': 5.358874275534557, 'alternative': 4.208848795590078, 'most': 2.8372408857967946, 'perhaps': 4.306896203380811, 'cbs': 4.290696472166703, 'they': 1.8993401178193898, 'be': 1.4062480045415613, 'splithoefler': 10.986495389225194, 'bestknown': 5.497557663068508, 'operating': 4.474750059580466, 'award': 1.6322278484423687, 'the': 0.0015236676386087002, 'of': 0.024937057194669147, '22': 2.83833894930357, 'now': 1.96695239252401, 'as': 0.1271695220124118, 'he': 0.213368557658724, '1989': 2.404826178624592, 'also': 0.4627270916162349, 'wordmark': 10.986495389225194, '1995': 2.222129668695386, 'named': 2.0300155412252816, 'rolling': 4.8401661315562965, 'one': 0.9309307338087167, 'forty': 5.259647641637997}, {'port': 4.491229833288186, 'harbour': 6.497859019493054, 'pilots': 5.734221961178564, 'maritime': 5.850696952174933, 'uk': 2.7906099979103978, 'laboratory': 4.290696472166703, 'plymouth': 5.868501576808439, 'european': 2.590340526186013, 'board': 2.219789391474679, 'freight': 22.046727688496425, 'chairman': 2.6337052541005668, 'entitled': 3.208702762886364, 'questioned': 5.76613956414687, 'with': 0.20246864252206068, 'police': 3.4098856222521565, 'trains': 5.82170941530168, 'about': 3.8530257976751474, 'president': 1.8067173228316515, 'including': 1.2272824458461182, 'on': 0.5532382600518011, 'tabled': 7.690658523220865, 'many': 1.639964662798746, 'cycling': 5.7032916604872055, 'marine': 4.721194176487485, 'parliamentary': 3.848422355180847, 'polruan': 10.986495389225194, 'party': 2.3540111534742225, 'secretary': 2.9952414593849954, 'sector': 4.363759065275354, '199697lord': 10.986495389225194, 'whip': 5.289401902719789, 'transport': 9.47690502943353, 'opposition': 7.594655301609743, 'entered': 3.3434917536644764, 'first': 0.6956048713993103, 'cambridge': 3.654126183296132, 'to': 0.23472468840899613, 'rail': 17.927580285386817, 'college': 3.122732540635111, 'up': 1.5635467678501844, 'mice': 6.926052378678775, 'born': 0.268196273764765, 'september': 1.9011515074236967, 'aunt': 6.126682984863522, 'being': 3.5876199049754645, 'questions': 9.386152220757426, 'lord': 4.48821323974876, 'peer': 15.98103952039672, 'all': 1.6431112434912472, 'spokesperson': 4.922710180537586, 'an': 0.8947172672456913, 'industry': 2.9570625486439512, 'politician': 2.6023765520342987, 'regards': 6.158181651922893, 'matters': 4.606372852325429, 'wimpey': 9.887883100557085, 'fowey': 10.293348208665249, 'cranford': 8.907053847545358, 'labour': 8.399556877240226, 'dsc': 6.629786562535602, 'a': 0.04495347578066517, 'obe': 5.323534909089249, 'eton': 6.332535039067671, 'hereditary': 13.36486059204205, 'he': 1.9203170189285161, 'gueterbock': 41.173392834660994, 'plc': 5.771559631616209, 'peerafter': 10.986495389225194, 'parliamentsince': 10.986495389225194, 'baron': 21.294139636356995, 'eurotunnel': 10.293348208665249, 'berkeley': 37.303919214728424, 'foleyberkeley': 10.986495389225194, 'sitting': 5.051601193605607, 'title': 2.5500785078362447, 'life': 4.3815235665489185, 'into': 1.6050629424066056, 'fcit': 10.986495389225194, 'succeeding': 5.064916969581379, 'peers': 11.20400065287221, 'ceng': 8.907053847545358, 'fitzhardinge': 10.986495389225194, 'positions': 3.3439712549922924, 'created': 2.7752840274321713, 'is': 0.16569750285311993, 'at': 0.21531928665412867, 'body': 3.691438972762564, 'as': 0.7630171320744707, 'hon': 11.30755319191965, 'british': 2.238031759283139, 'member': 1.2204325126007385, 'liberties': 5.923900356198227, 'in': 0.008688657151093043, 'anthony': 4.025199343315028, 'seats': 5.000043383940756, 'following': 1.9609195556941061, '8595gueterbock': 10.986495389225194, 'restrictions': 6.371374872383935, 'asked': 3.664645675436838, 'fimeche': 10.986495389225194, 'right': 3.399184883202579, 'borough': 5.249923091746003, 'frsa': 6.9975113426609195, '20': 2.441881602232965, 'commissioner': 4.073752568732018, 'conduct': 4.8997206623128875, 'known': 1.4457727152652031, '18th': 5.022916045606748, 'cornwalllord': 10.986495389225194, '199697': 5.7770092363837735, 'engineer': 7.806215083199798, 'lordshe': 9.377057476791094, 'automatic': 5.9626148683789175, 'lords': 16.505095367203616, 'also': 1.8509083664649395, 'tony': 3.6043710234876816, 'trinity': 4.653215761085504, 'years': 1.0752380994247055, '1939': 4.378494763929107, 'english': 2.239461125047026, 'bicycles': 7.402976450769084, 'for': 0.21858758802986072, 'graduated': 2.2579073935292953, 'representative': 3.4544072456834716, 'guests': 5.477107052597217, 'then': 1.4309354361561304, 'educated': 3.3282678630638425, 'upon': 3.3017114457024097, 'career': 1.3050270203415668, 'embarked': 5.240292198685041, 'civil': 6.6489956606466025, 'engineering': 3.3507085278296103, 'joining': 3.1656545093178505, 'removal': 5.8565966743021205, 'both': 1.6730570592454443, 'house': 9.302192936657043, 'hillingdon': 8.907053847545358, 'george': 2.7958637083216553, '2000': 1.8763068991994527, 'association': 4.3092749080545785, 'bring': 4.283307275984332, 'worked': 3.107783706724218, 'until': 1.7591012626831841, '1985': 2.5324550128142254, 'has': 1.713990158976156, 'next': 2.670439668860552, 'trustee': 4.573036432057838, 'ten': 2.9294347072594293, 'lives': 2.532029027717262, 'held': 2.1669778486203057, 'too': 3.954754130462066, 'inherited': 6.06651446339707, 'his': 0.5252229104273146, 'ancestors': 6.709829270209139, 'ancient': 4.715506957366895, 'the': 0.0016252454811826135, 'of': 0.07065499538489592, 'where': 2.178152424181346, '1992': 4.556702628633896, 'mary': 3.80186623650788, 'group': 3.9710378903096992, '17th': 5.005081177970713, 'and': 0.004470863388292369, 'baroness': 6.5797761419609415, 'was': 0.07936578561218346, 'went': 2.0519085188355186, 'ma': 3.5077605636573193, 'london': 2.219789391474679, 'so': 2.661916544088344, 'remain': 4.642614955098863}, {'won': 1.3836400683164753, 'capital': 3.8079499054614945, '2013chernushenko': 10.986495389225194, 'great': 2.7682474625394486, '2008': 1.5093391374786154, 'three': 1.4915025293575952, 'produced': 2.511583590065563, 'project': 2.6446084197090065, 'launched': 3.594463821710603, 'make': 2.871871502805096, 'business': 2.3749015223874728, 'time': 1.3253342074200498, 'devote': 6.199003646443148, 'order': 2.8044952529317895, '2007': 1.4879730697555795, 'resigned': 3.306319748788604, '20082009chernushenko': 10.986495389225194, 'vicechair': 5.8565966743021205, 'sectors': 5.744748374165552, 'society': 2.4448047262085693, 'economic': 3.2704801225826072, 'social': 2.6226865047083137, 'excellence': 4.009214047594447, 'pursuit': 5.653776595959825, 'his': 0.2626114552136573, 'integrated': 5.122864213627097, 'films': 2.78045762644638, 'promote': 4.3717697890214335, 'works': 2.214349949980095, 'advises': 6.453895896071939, 'panel': 4.24479469457314, 'economy': 4.393450855082757, 'canadas': 9.32069183214019, 'appointed': 2.2003443343554556, 'harper': 5.41434135704743, 'november': 1.9726566376168002, 'electionon': 7.61919955923872, 'south': 2.2386667807364518, 'documentaries': 4.476237048702044, 'also': 0.4627270916162349, 'elections': 3.5191243223076345, 'both': 1.6730570592454443, 'newspaper': 3.4624739740190695, '1998': 4.1375652641876135, 'government': 4.613346548721476, 'expenditures': 8.09612363132903, 'organizations': 3.4799036091543534, 'cooperativehe': 10.986495389225194, 'stephen': 3.8125370694684007, 'local': 2.5829189245959245, 'by': 0.7491068241239475, 'documentary': 6.445248202809944, 'for': 0.5829002347462953, '10': 4.631446219761313, 'bodieschernushenko': 10.986495389225194, 'groups': 3.4295448172122946, 'committees': 8.234961877118975, 'advisory': 3.4464050690798693, 'receiving': 3.73515040585298, 'served': 6.145089399722101, 'contestant': 5.501698455734539, 'gold': 3.1094774936027965, 'environment': 15.464204067330826, 'department': 2.3398541306220704, 'on': 1.475302026804803, 'practices': 9.15923080631176, 'table': 4.987558827278511, 'consulting': 8.651840478771016, 'dfait': 9.887883100557085, 'trade': 3.5105894198577974, 'canadian': 5.533799870096228, 'has': 2.142487698720195, 'candidate': 12.589454963803446, 'worked': 1.553891853362109, 'building': 3.7287877120651514, 'cambridge': 3.654126183296132, 'alumnus': 4.985080511264044, 'consultant': 3.456552018623606, 'science': 2.3447863231113892, 'including': 1.2272824458461182, 'political': 2.322262455159642, 'reimbursement': 8.501588739437194, 'university': 1.6946860096423695, 'graduate': 2.6750971107885535, 'campuses': 6.432618497624653, 'canada': 10.74287371349496, 'program': 2.393082171897548, 'senior': 2.2990532222492712, '1996': 2.135691193468776, 'housing': 4.594578275832593, 'sustainability': 5.96921555241027, 'about': 1.9265128988375737, 'leadership': 6.409878859979709, 'june': 1.9026256813029605, 'affairs': 2.9405866469544146, 'was': 0.2380973568365504, 'professional': 3.900302650593952, 'nations': 3.361876403065796, '4134': 9.887883100557085, 'be': 1.4062480045415613, 'schools': 3.2150066291075783, 'he': 2.987159807222136, 'programme': 3.737991316854584, 'leed': 8.347438059609935, '4730': 10.986495389225194, '2010': 4.77850188036592, 'nonpartisan': 5.734221961178564, 'to': 0.46944937681799226, 'as': 0.7630171320744707, 'chernushenko': 72.05343746065674, 'endorsed': 5.054250201777184, 'management': 5.754540872270479, 'clean': 5.14005661416747, 'prime': 3.452801679376562, 'engages': 6.859361004180102, 'again': 4.7706575280655565, 'born': 0.268196273764765, 'former': 2.714626224198417, 'civil': 3.3244978303233013, 'david': 2.4512658353228582, 'becoming': 2.90749713054004, 'agency': 3.6495584755175767, 'relations': 3.445873860568042, '1963': 3.2103799121264522, 'election': 12.85446026785295, 'in': 0.022204346052793332, 'commission': 2.972821246392509, 'party': 14.124066920845335, 'elected': 2.23819047684557, '2001': 3.8560499331742757, 'highest': 3.43846641929018, '2009': 1.5644364836042695, 'deputy': 5.998621281983443, 'member': 1.2204325126007385, 'games': 2.2331239682242914, 'that': 2.6456277866859925, 'democratic': 3.1026721743330414, 'boards': 3.993480266292234, 'energy': 11.423849716384483, 'health': 2.994564869372717, 'cida': 8.347438059609935, 'development': 2.3538329480028426, 'councillor': 4.853097346228545, 'a': 0.039334291308082026, 'ottawa': 37.140919640790905, 'cofounded': 3.923447225837022, 'lightly': 7.808441558877249, 'leader': 5.4639330145709, 'council': 2.3398541306220704, 'city': 6.96083556190217, 'partya': 8.907053847545358, 'powerful': 4.303134443458919, 'books': 2.2488823524163437, 'running': 10.055024134438954, 'speaker': 3.580999726025722, 'international': 7.2895974587688706, 'policy': 3.0476931410707135, 'filmmaker': 4.319538596795987, 'threshold': 7.202305755306933, 'reelection': 8.253760971141984, 'ontario': 7.477405614914696, 'more': 5.021336851896435, 'of': 0.05818646678756134, 'ran': 9.163476710591429, 'municipal': 8.711624007165645, 'earth': 4.324640648679884, '2014': 4.414799156689327, 'is': 0.16569750285311993, 'adopting': 6.7380001471758355, '2003': 1.8013702663900752, 'sports': 3.001691999490788, 'certification': 6.0738405034891425, 'socially': 6.174311033852777, 'july': 1.9428000946579587, 'firm': 3.3971595660545773, 'and': 0.02086402914536439, 'united': 1.5679220786705559, 'green': 29.067307749678097, 'since': 2.910753434616082, 'advised': 5.276068371850324, 'nrtee': 21.972990778450388, 'owner': 3.9743800949188146, 'campaign': 3.025822780837077, 'public': 4.058227307284814, 'design': 3.1789853470090015, 'private': 6.0294385326891335, 'ward': 4.870603263742161, 'publication': 3.9574078250755322, 'nonprofit': 4.1621217191821085, 'then': 1.4309354361561304, 'dewar': 9.04058524016988, 'sustainable': 20.091664182426992, 'practicesfrom': 10.986495389225194, 'responsible': 3.421220107326263, '2004': 5.071033082507702, 'champions': 4.0082816465944955, 'cost': 5.094851177399423, 'iisdacccunep': 10.986495389225194, 'sport': 7.617425946059994, 'several': 1.6205197257175628, 'accredited': 6.304364162100975, 'unep': 8.153282045168979, 'greening': 15.535239128713988, 'queens': 4.023305403354957, '102': 6.088655589274283, 'our': 3.573128053529954, 'titled': 3.4887336886026254, 'events': 3.0624230643017776, 'centre': 6.052343520152709, 'facilities': 5.22130428644035, 'activity': 4.8168846567337384, 'wont': 6.259107570512853, 'general': 2.220724845237937, 'centurion': 8.588600116426823, 'round': 2.897933583948961, '1994': 2.2375557576874794, 'losing': 3.773463729390325, 'electronic': 3.9916454033921234, 'calgary': 5.005081177970713, 'their': 1.5201958369931787, 'communities': 4.377146146057814, 'air': 6.851788452913275, 'national': 2.3721863295447827, 'charity': 4.249528431223339, 'minister': 2.7484871400067914, 'athletes': 4.810628119119433, 'raising': 5.000043383940756, 'pollution': 6.361522575940923, 'other': 1.4424007566948476, 'olympic': 3.520840079091138, '8': 2.7572509724892824, 'climate': 4.901995976150023, 'change': 7.106840080653228, 'benefits': 5.4852371786804675, 'physical': 4.001779069106929, 'inc': 3.612493529875034, 'director': 1.6150570969066835, 'alberta': 4.90885314587616, 'federal': 9.266481715494866, 'finished': 2.6924457491231664, 'with': 0.40493728504412135, 'environmental': 11.767774283259378, 'votes': 11.362692445611062, 'than': 2.0650378102773113, 'any': 5.9918370149625435, 'living': 3.051265849408287, 'citizen': 4.332342869041976, 'the': 0.0037583801752347937, '2006': 7.60368952692253, 'came': 2.4364478609380096, 'paul': 2.774198250995426, 'bike': 5.9758600951289385, 'from': 0.5875106759712689, 'ndp': 5.760748715511993, 'received': 1.5396609815666638, 'written': 2.3444332157630874, 'passed': 4.41002582017697, '6766': 10.293348208665249, 'vote': 7.684176417808111, 'multimedia': 4.958216868994496, 'foreign': 3.1908488528906003, 'fourth': 6.15768758902821, 'count': 5.041074780618619, 'thus': 4.195273926499008, 'everyone': 5.429667327525657, 'eligible': 5.501698455734539, 'politician': 2.6023765520342987, 'awareness': 4.696779818316197, 'new': 0.8871532656125274, 'partial': 5.905091024240731}, {'gap': 5.531174273867493, 'project': 2.6446084197090065, 'electronic': 3.9916454033921234, 'from': 0.29375533798563447, 'content': 4.611470569397098, 'contributes': 5.377023594040234, 'thirteen': 4.86181199833099, 'age': 2.138848033513307, 'vhs': 7.348909229498808, 'childhood': 4.128981326679804, 'during': 1.3174651479035495, 'painting': 4.125831717776908, 'drawing': 4.528157105880404, 'with': 0.40493728504412135, 'topic': 5.0865980356427025, 'time': 2.6506684148400996, 'main': 3.1970408231385212, 'stoner': 8.213906666985412, 'genre': 4.5632484256916745, 'musical': 5.590618769164811, 'fans': 4.03568062078261, 'have': 1.4416847832984716, '2006': 1.520737905384506, 'first': 0.6956048713993103, 'are': 1.7719638126305435, 'trailers': 7.348909229498808, 'who': 1.8197904379608427, 'known': 1.4457727152652031, 'to': 0.2816696260907954, 'as': 0.2543390440248236, 'exist': 5.949542786811565, 'truckfighters': 32.95948616767558, 'desert': 10.499846183492005, 'but': 1.313994565464302, 'most': 1.4186204428983973, 'subcultures': 7.990763115671204, 'and': 0.007451438980487283, 'seeks': 5.868501576808439, 'genres': 4.728827801342556, 'short': 2.711119014388788, 'fictional': 5.306322780208127, 'this': 1.2818856957987381, 'few': 3.0010110324913715, 'films': 5.56091525289276, 'started': 2.1106492114865967, 'filmmaker': 4.319538596795987, 'way': 2.9688582293167167, 'documentaries': 4.476237048702044, 'design': 3.1789853470090015, 'artist': 2.4318137533979653, 'designerartist': 10.293348208665249, 'steineck': 43.945981556900776, 'on': 0.36882550670120073, 'editor': 2.7424241189294083, 'german': 3.2528118184492936, 'media': 2.527567105940933, 'josh': 5.276068371850324, 'since': 1.455376717308041, 'edge': 4.823180585190553, 'underground': 4.587900454689986, 'story': 2.9774647041554636, 'a': 0.039334291308082026, 'combines': 5.510031837293684, 'people': 2.5151367341527564, 'music': 5.378377975206105, 'his': 2.1008916417092585, 'film': 6.099341751173856, 'unconventional': 6.361522575940923, 'is': 0.11046500190207996, 'elements': 4.564873121418676, 'he': 0.853474230634896, 'joerg': 9.19473591999714, 'about': 1.9265128988375737, 'common': 8.491952059237942, 'including': 1.2272824458461182, 'produced': 2.511583590065563, 'influence': 4.000853571585986, 'berlinduring': 10.293348208665249, 'graphic': 9.075211990156674, 'in': 0.005792438100728695, 'shot': 3.9268777609338112, 'bands': 3.520840079091138, 'parallel': 5.544077678703401, 'explores': 5.193481780841051, 'often': 2.862641126119281, 'which': 0.7674309670437692, 'based': 2.299897032948229, 'release': 2.9982917922026187, 'camera': 4.86181199833099, 'nevertheless': 5.505856465883203, 'extraordinary': 5.078412451056264, 'stories': 3.3976655109173812, 'due': 2.7324867986603505, 'generate': 6.6170475367581725, 'appearances': 2.8360274776011907, 'unique': 4.030902780828897, 'also': 1.3881812748487046, 'atmospheres': 8.042056410058754, 'tell': 9.608820965017125, 'works': 2.214349949980095, 'the': 0.0007110448980173934, 'of': 0.02909323339378067, 'attention': 6.853871786434989, 'illustrator': 5.259647641637997, '84minute': 10.986495389225194, 'or': 3.825783081644965, 'feature': 3.1937336684086683, 'audiovisual': 6.44320060695519, 'creative': 6.92927227404713, 'swedish': 4.24479469457314, 'rock': 5.886949007853824, 'band': 2.605580216101585, 'manchu': 8.501588739437194, 'fuzzomentary': 10.986495389225194, 'guest': 3.134445181959305, 'well': 1.5295293417875981, 'study': 2.82912494803842, 'attracted': 9.281718056793197, 'musicians': 3.5587565486923007, 'homme': 8.09612363132903, 'friends': 3.5987861501441536, 'available': 3.9468350393631186, 'fu': 6.1907048436284535, 'lo': 5.930249583876886, 'societyhe': 7.035251670643767, 'sound': 3.5265806229840893, 'photographing': 6.752388884627935, 'development': 2.3538329480028426, 'set': 2.699470364060131, 'such': 1.763337513538397, 'documentary': 6.445248202809944, 'for': 0.14572505868657382, 'internet': 3.81024085720805, '2012': 1.7938099524877322}, {'pocket': 5.949542786811565, 'lumen': 9.04058524016988, 'credo': 8.347438059609935, 'course': 3.4316368681845186, 'catechetical': 9.19473591999714, 'evangelium': 10.293348208665249, 'academic': 3.1414709719837104, 'besides': 4.8997206623128875, 'virtues': 7.585298007563039, 'ethics': 4.644373970504043, 'perspective': 4.906562194129604, 'book': 2.002804707892509, 'recent': 2.9383462875599924, 'most': 1.4186204428983973, 'prominent': 3.5629269449660277, 'him': 1.5755843267871936, 'who': 0.9098952189804214, 'written': 2.3444332157630874, 'gifts': 6.381325203237103, 'faith': 4.601300990227469, 'on': 0.18441275335060037, 'ewtn': 8.907053847545358, 'cognition': 6.464706812176154, 'louis': 3.605616353661078, 'from': 1.1750213519425379, 'physics': 12.525753031871703, 'focus': 3.594463821710603, 'diocese': 5.292763250422495, 'present': 3.679293074460456, 'pontifical': 5.620519374203343, 'catholic': 11.811721643908072, 'as': 0.1271695220124118, 'kingdom': 3.7280832386298877, 'college': 3.122732540635111, 'harris': 4.711733367983255, 'perception': 5.799109583384439, 'application': 4.806478735572622, 'three': 1.4915025293575952, 'fellow': 2.364041687151464, 'faculty': 3.0247765732438294, 'in': 0.007723250800971594, 'member': 2.440865025201477, 'a': 0.06743021367099776, 'dphil': 6.2329051981188295, 'director': 1.6150570969066835, 'moral': 5.272762583715825, 'autism': 6.381325203237103, 'priest': 4.642614955098863, 'experiment': 5.583818007352915, 'at': 0.43063857330825733, 'is': 0.16569750285311993, 'arundel': 8.09612363132903, '1966': 3.087341905882097, 'research': 8.790388319521266, 'centre': 3.0261717600763545, 'of': 0.062342642986672865, 'the': 0.0014220897960347868, 'apologia': 9.600201028105303, 'coauthor': 8.773249780024715, 'and': 0.011177158470730924, 'brighton': 5.465034471362948, '19': 2.8848176417706224, 'manchester': 4.068789779389889, 'identified': 4.982608322118655, 'secondperson': 21.972990778450388, 'pinsent': 18.75411495358219, 'young': 2.4099018545275093, 'andrew': 3.7988382251102384, 'character': 3.5492890223539018, 'aquinass': 10.986495389225194, 'for': 0.21858758802986072, 'gregorian': 6.604468754551313, 'england': 2.646755623206051, 'his': 0.7878343656409719, 'philosophy': 7.185234198234877, 'books': 2.2488823524163437, 'routledge': 6.286015023432778, 'august': 2.000173951599175, 'ian': 4.245976029618971, 'further': 3.2834877067459582, 'phd': 2.5603215961961254, 'fr': 5.154612911941677, 'issues': 3.0010110324913715, 'theology': 9.11032861458343, 'herald': 4.990043300606173, 'oxford': 7.100935145746692, '2012': 1.7938099524877322, 'tutor': 5.760748715511993, 'university': 2.5420290144635542, 'media': 2.527567105940933, 'accounts': 5.22130428644035, 'formation': 4.8023464982877115, 'previous': 3.538161528327719, 'thirtyone': 8.278445188122983, 'merton': 6.8276123058655225, 'contributed': 3.4405772380158712, 'delphi': 8.278445188122983, 'collaborationfr': 10.986495389225194, 'institute': 4.358645532616985, 'has': 1.285492619232117, 'social': 2.6226865047083137, 'class': 3.280782565330767, 'rome': 4.125831717776908, 'first': 0.6956048713993103, 'publications': 6.506499485390798, 'degrees': 3.774938655911393, 'born': 0.268196273764765, 'various': 2.3663846638022705, 'maryvale': 10.986495389225194, 'religion': 4.3650897374610595, 'degree': 2.0206498944742566, 'to': 0.09388987536359845, 'high': 1.906719387270128, 'cern': 7.225295273531632, 'energy': 3.8079499054614945, 'also': 0.9254541832324698, 'he': 1.06684278829362, 'united': 1.5679220786705559, 'scientific': 3.6746092251480293, 'birmingham': 4.346619555398658, 'saint': 4.1226919977722405, 'been': 0.9774773354796025, 'ramsey': 6.5797761419609415, 'interviewed': 4.374454354392102, 'science': 4.6895726462227785, 'including': 1.2272824458461182, 'insights': 6.103693466638823, 'bbc': 3.176548302748404}, {'hall': 2.6353567821390396, 'gaa': 6.943444121390644, 'inducted': 3.6213152632041816, 'which': 0.7674309670437692, 'millennium': 5.122864213627097, 'selected': 5.559823549808884, 'at': 0.21531928665412867, 'blue': 3.5791776787557774, 'dunnes': 9.887883100557085, 'lasting': 5.905091024240731, 'problema': 9.19473591999714, 'xv': 6.3421044900838215, 'championship': 2.573774219405668, 'fame': 3.0071564939628668, 'centre': 9.078515280229063, 'he': 0.640105672976172, '6': 2.5744405159322614, 'club': 4.417263349208051, 'his': 1.3130572760682866, '1950swith': 10.986495389225194, 'ireland': 7.1198926336557795, 'the': 0.0015236676386087002, 'of': 0.024937057194669147, 'due': 2.7324867986603505, 'regarded': 4.1226919977722405, 'widely': 3.270925854704986, 'tribute': 4.642614955098863, 'medals': 4.251903729252247, 'greatness': 7.808441558877249, 'and': 0.002980575592194913, 'meath': 7.37557747658097, 'play': 2.270287418073342, 'two': 1.0988831858473562, 'following': 3.9218391113882123, 'would': 2.136551161989598, 'players': 3.081791475351448, 'half': 6.842440214652526, 'paddy': 12.929413624352309, '59': 5.579323617765075, 'has': 0.428497539744039, '1953called': 10.986495389225194, '2008': 1.5093391374786154, 'outstanding': 6.767189854040878, 'in': 0.010619469851335942, 'one': 1.8618614676174334, 'for': 0.29145011737314763, 'jersey': 7.112762501326787, 'railway': 5.708380729994677, 'many': 1.639964662798746, 'back': 9.775317607343704, 'gaelic': 6.126682984863522, 'as': 0.2543390440248236, 'other': 1.4424007566948476, 'all': 3.2862224869824943, 'to': 0.1877797507271969, 'from': 0.5875106759712689, 'narrowly': 4.958216868994496, 'white': 3.1974549875677174, 'position': 2.3300621307174527, 'team': 6.928169770522762, 'selection': 3.836578553093086, 'was': 0.5555604992852843, 'titles': 3.5713202796118995, 'still': 2.700225936442129, 'a': 0.01685755341774944, 'player': 4.26880525149613, 'retired': 2.359013843914834, 'laoishe': 10.986495389225194, 'dunne': 14.862294655471562, '1952': 7.221226482020364, 'they': 1.8993401178193898, 'county': 2.8412358227083288, 'no': 2.396423552396384, 'years': 2.150476198849411, 'senior': 4.5981064444985424, 'up': 1.5635467678501844, 'on': 0.7376510134024015, '1949': 3.761741983457223, 'captain': 3.6799639902856893, 'performances': 3.352641829543426, 'won': 1.3836400683164753, 'who': 0.9098952189804214, 'into': 1.6050629424066056, 'three': 1.4915025293575952, 'park': 9.598585159830968, 'were': 1.521978023354629, 'played': 4.636320601315451, 'beaten': 5.199598007858486, 'leinster': 25.368417960335286, 'by': 0.37455341206197373, 'football': 15.351423993402836, '1954': 7.2451637756387495, '1951': 3.7037342096196015, 'laois': 63.16362348693503, 'final': 4.877933996025768, 'be': 2.8124960090831226, 'agonising': 10.293348208665249, 'there': 2.3005725945344695, 'rest': 4.268690694201503, 'famous': 6.430013258215157, 'recurring': 4.934406220300778, 'when': 1.3806055739282235, 'suffered': 4.044338683525725, 'another': 2.603062187988481, 'finalhe': 7.402976450769084, 'consecutive': 3.7719909750740506, 'field': 2.6946982841764604, 'defeat': 4.067800170204723, 'backin': 9.04058524016988, '1959': 3.379113963585403, 'also': 0.4627270916162349, 'colm': 7.431147327735781, 'province': 3.997160123250634, 'winning': 2.416330313042851, 'cup': 2.672643121826987, 'only': 1.819375719703575, 'emulate': 7.990763115671204, '1953': 7.292617107810157, 'featdunne': 10.986495389225194, 'browne': 6.509158574746988, 'managed': 3.5225587847562694, 'few': 3.0010110324913715, 'this': 1.2818856957987381}, {'philharmonic': 4.3811974682769925, 'performed': 2.5307521601251795, 'released': 2.0078348995855078, 'label': 3.3017114457024097, 'unionnaxos': 10.986495389225194, 'directors': 3.3244978303233013, 'board': 2.219789391474679, 'athenssince': 10.986495389225194, 'been': 0.9774773354796025, 'schools': 3.2150066291075783, 'sofia': 5.683190481166118, 'top': 2.2740644157484557, 'technology': 2.910601758926337, 'teaches': 3.7712554104950966, 'projects': 3.0071564939628668, 'an': 0.2982390890818971, 'cultural': 3.3132722681034856, 'anax': 10.986495389225194, 'company': 2.195009362476192, 'runs': 3.5323543110785156, 'imaginary': 6.696035948076803, 'ergon': 10.293348208665249, 'manager': 2.8234090136419794, 'releases': 4.577966598165696, 'productions': 3.482654642526243, 'orchestrashe': 9.04058524016988, 'member': 2.440865025201477, 'in': 0.0019308127002428985, 'dance': 7.122275004396085, 'lathos': 10.986495389225194, 'european': 2.590340526186013, 'important': 3.297124281695504, 'konstantinos': 8.501588739437194, 'group': 1.9855189451548496, 'choreographer': 5.362477883037855, 'production': 5.498561371751411, 'michos': 10.986495389225194, 'commercials': 4.392081929475416, 'from': 0.29375533798563447, 'ensemblehe': 9.377057476791094, '2004': 3.3806887216718016, 'received': 1.5396609815666638, 'composed': 7.8537555218676225, 'he': 1.493579903611068, 'for': 0.36431264671643454, 'own': 2.269959656680699, 'organizations': 3.4799036091543534, 'olympic': 3.520840079091138, 'greek': 22.478859273613434, 'titled': 3.4887336886026254, 'the': 0.0015236676386087002, 'of': 0.04156176199111524, 'recent': 2.9383462875599924, 'advanced': 3.7639293704030234, '1998': 2.0687826320938068, 'a': 0.011238368945166293, 'commissions': 4.925038470297177, 'dimitris': 7.728398851203712, 'orchestra': 3.4662608327505664, 'vironas': 10.986495389225194, 'project': 2.6446084197090065, 'collaborated': 3.761741983457223, 'works': 2.214349949980095, 'days': 3.0398778259807213, 'companyhis': 8.588600116426823, 'orchestral': 9.93580434945792, 'kinissi': 10.986495389225194, 'under': 1.8347379746813095, 'at': 0.21531928665412867, 'is': 0.05523250095103998, 'with': 1.2148118551323641, 'games': 2.2331239682242914, 'composer': 3.2290166226410153, 'among': 2.299897032948229, '1962': 3.2103799121264522, 'airesis': 10.986495389225194, 'various': 4.732769327604541, 'born': 0.268196273764765, 'xanthoudakis': 10.986495389225194, 'mouzas': 10.986495389225194, 'ensembles': 5.157549771614987, 'director': 1.6150570969066835, 'and': 0.006706295082438554, 'theodore': 5.760748715511993, 'composers': 4.295653111806631, 'theory': 3.527156494004899, 'television': 4.00360339756268, 'antoniou': 9.19473591999714, 'haris': 8.278445188122983, '2003in': 5.9758600951289385, 'electronic': 3.9916454033921234, 'section': 3.923447225837022, 'film': 4.066227834115904, 'his': 0.5252229104273146, 'music': 16.135133925618312, 'most': 1.4186204428983973, 'programme': 3.737991316854584, 'has': 2.142487698720195, 'them': 2.497495932179739, 'videos': 4.213415013569659, 'cd': 7.538103915057324, 'trisha': 7.489987827758714, 'never': 2.9922004028092166, 'documentaries': 4.476237048702044, 'left': 2.191367476812056, 'papageno': 8.588600116426823, 'calamity': 9.04058524016988, 'original': 5.828680162073889, 'films': 2.78045762644638, 'dawn': 5.259647641637997, 'professional': 3.900302650593952, 'activities': 7.698433903929617, 'management': 2.8772704361352397, 'include': 4.349090423370428, 'till': 4.915757661222704, 'imagerelated': 10.986495389225194, 'series': 1.877080935838972, 'written': 2.3444332157630874, 'organizing': 5.292763250422495, 'short': 2.711119014388788, 'founding': 3.09703623982067, 'studied': 2.2933341149871773, 'channelshe': 8.421546031763658, 'was': 0.07936578561218346, 'kamarotos': 10.986495389225194, 'many': 1.639964662798746, 'artistic': 3.7537622530475794, 'alexandros': 8.789270811888976, 'new': 0.8871532656125274, 'media': 2.527567105940933, 'edge': 4.823180585190553, 'commission': 2.972821246392509, 'home': 2.4210836255384827, 'by': 0.7491068241239475, 'athens': 9.00677607553599, 'composition': 4.033766744600326, 'committee': 2.468102917233475, 'corporate': 3.881529940955352}, {'schoolboard': 10.986495389225194, 'serves': 3.07627168212785, 'currently': 1.637088969126014, '6806': 10.986495389225194, 'votes': 3.7875641485370206, 'glenn': 5.125709165759329, 'results': 4.248342894629237, 'november': 1.9726566376168002, 'held': 2.1669778486203057, 'election': 2.57089205357059, 'closely': 4.591233791109745, 'more': 1.673778950632145, 'study': 2.82912494803842, 'use': 3.0455556268974027, 'are': 1.7719638126305435, 'i': 2.4031399955552883, 'believe': 4.75012579902149, 'people': 5.030273468305513, 'than': 2.0650378102773113, 'rather': 4.042408180995667, 'saying': 4.093853748053105, 'thinking': 4.943862555542813, 'their': 3.0403916739863575, 'improve': 4.779919462500267, 'can': 2.800030959803104, 'darwin': 6.332535039067671, 'considers': 5.4610424500934105, 'curricula': 7.348909229498808, 'dealing': 5.028070696195412, 'be': 1.4062480045415613, 'would': 2.136551161989598, 'interview': 3.669947212042218, 'telephone': 5.6393878585077255, 'disclose': 7.157853992736099, 'not': 3.1760341502672342, 'did': 2.318987437150089, 'establish': 4.521907085535233, 'restore': 6.09614626100344, 'services': 3.018868649891378, 'offered': 3.96719873551015, 'county': 2.8412358227083288, 'north': 2.4321991098574545, 'links': 5.142950972193835, 'an': 0.2982390890818971, 'as': 0.5086780880496472, 'designcampbell': 10.986495389225194, 'promotion': 3.8914310119380633, 'engage': 5.923900356198227, 'journal': 3.025473923341824, 'design': 9.536956041027004, 'june': 1.9026256813029605, 'board': 2.219789391474679, 'but': 2.627989130928604, 'served': 1.5362723499305253, 'think': 8.561712588730384, 'there': 2.3005725945344695, 'campbell': 15.045700648304194, 'on': 0.7376510134024015, 'international': 1.457919491753774, 'students': 3.289374071942569, 'mason': 5.296135934901134, 'institute': 2.1793227663084926, 'branch': 4.298140675278432, 'transparency': 6.224321454427438, 'culture': 6.265781152254715, 'rhetoric': 13.655224611731045, 'tank': 5.41434135704743, 'collection': 3.2771870558393252, 'by': 0.37455341206197373, 'intelligent': 11.543119263232418, 'discovery': 4.4527065512918504, '3194': 10.293348208665249, 'id': 5.663485410086786, 'his': 1.0504458208546292, 'christian': 3.516271253325228, 'landram': 10.986495389225194, 'seat': 3.202022153488725, 'in': 0.006757844450850144, '1406': 10.293348208665249, 'skills': 4.0847581825686206, 'oregon': 4.721194176487485, 'demonizing': 9.600201028105303, 'conservative': 3.813303646738596, 'quoted': 4.620024941493757, 'angus': 6.509158574746988, 'ideas': 4.288227335109782, 'born': 0.268196273764765, 'complexity': 6.111298066024043, 'interest': 3.1608506570052053, 'professional': 1.950151325296976, 'to': 0.2816696260907954, 'meyer': 6.023650758965287, 'also': 0.4627270916162349, 'communications': 7.501752496316889, 'debating': 7.322933743095548, '2': 2.2482408126990716, 'darwinism': 17.57854162377795, '1942': 4.106111307039189, 'ran': 3.0544922368638097, 'the': 0.0017268233237565267, 'of': 0.05403029058844982, 'and': 0.009686870674633467, 'v': 4.090812691477327, '2996': 10.986495389225194, 'for': 0.36431264671643454, '10': 2.3157231098806563, 'john': 3.9826607978280886, 'usa': 2.9949031071571017, 'fellow': 4.728083374302928, 'a': 0.06743021367099776, 'science': 4.6895726462227785, 'defense': 3.794313330511949, 'professor': 6.032595614804061, 'ways': 4.390714875263883, 'dover': 6.475635882708344, 'day': 2.661431695593997, 'memphis': 5.0920925549603435, 'is': 0.11046500190207996, 'at': 0.43063857330825733, 'who': 1.8197904379608427, 'could': 3.1038031829361685, 'assistant': 2.5220702633476124, 'university': 1.6946860096423695, 'retirement': 3.2137426727564526, 'center': 4.756000078804342, 'affairscampbell': 10.986495389225194, 'from': 0.8812660139569034, '19681995': 10.986495389225194, 'portland': 4.788016672732886, '1995': 2.222129668695386, 'unofficial': 6.002888767516858, 'society': 4.8896094524171385, 'retired': 2.359013843914834, 'until': 1.7591012626831841, 'american': 1.1273777844250068, 'school': 2.4455745584347035, 'public': 4.058227307284814, 'washington': 5.2782839542017115, '2005': 3.285172250655193, 'together': 2.8423969258866704, 'articles': 2.9787953763411688, 'with': 0.40493728504412135, 'showed': 4.387986360610679, 'critical': 3.480453210707072, 'stephen': 3.8125370694684007, '6': 2.5744405159322614, 'c': 3.4733318439911187, 'dedicated': 3.948589425778012, 'march': 1.9573172463231197, 'he': 1.493579903611068, 'edited': 3.7890600351286032, 'education': 2.4487155642005685, 'was': 0.2380973568365504, 'darwinist': 10.293348208665249, 'that': 2.6456277866859925, 'associate': 3.1540844620372743, 'slated': 6.224321454427438, '2007': 2.975946139511159, 'appear': 4.067800170204723, 'witness': 5.083862055823828, 'defeating': 4.285764279677384, 'scheduled': 4.870603263742161, 'kitzmiller': 9.377057476791094, 'trust': 4.093853748053105, 'district': 2.774469584601757, 'information': 3.3306313716091376, 'area': 2.9938887368249847, 'incumbent': 4.181880869162571, 'trial': 3.737991316854584, 'withdrew': 5.181360420308706, 'stated': 3.7501560464708503, 'depositionin': 10.986495389225194}, {'video': 3.081791475351448, 'tribute': 4.642614955098863, 'unreleased': 6.224321454427438, 'walker': 4.616594406396968, 'cook': 5.125709165759329, 'bertram': 7.767619564356994, 'aaron': 4.972780233182393, 'albumchris': 10.293348208665249, 'world': 1.370623244696304, 'performed': 2.5307521601251795, 'county': 2.8412358227083288, 'orange': 4.808551275174594, 'hospital': 3.7259727911353417, 'childrens': 3.5956968674895182, 'has': 0.428497539744039, 'produced': 2.511583590065563, '2001': 1.9280249665871378, 'batstone': 19.200402056210606, 'their': 3.0403916739863575, 'on': 1.475302026804803, 'joined': 1.9082017981693435, 'and': 0.004470863388292369, 'cowriting': 6.111298066024043, 'reportedly': 4.941490075189183, 'i': 4.806279991110577, 'left': 4.382734953624112, 'dallas': 4.279633052622447, 'recording': 5.952935721486921, 'lead': 5.554918246900247, 'credits': 3.8644355075960517, 'only': 1.819375719703575, 'suburban': 22.91600006878965, 'various': 2.3663846638022705, 'he': 0.853474230634896, 'legends': 20.34639214257081, 'first': 1.3912097427986205, 'ep': 9.059451467306062, 'rose': 3.7120158304513233, 'ska': 6.812108119329557, 'edition': 3.595080154549836, 'who': 1.8197904379608427, 'cover': 3.7092476625937105, 'tracks': 4.181880869162571, 'singer': 5.563647120548767, 'replaced': 3.6225818878193747, '20002002': 6.812108119329557, 'released': 2.0078348995855078, 'tim': 16.310962439639894, 'band': 23.450221944914265, 'nights': 4.91345085512479, '2002': 3.7506251775644603, 'more': 3.34755790126429, 'benefit': 4.955810128963931, 'of': 0.016624704796446097, 'the': 0.0021331346940521804, 'official': 3.1501256286800703, 'was': 0.31746314244873386, 'chris': 10.843132082662223, 'also': 0.9254541832324698, 'song': 2.869182927623221, 'pursue': 4.1122968937719, 'after': 0.9443334420013064, 'compilation': 9.345894685896198, 'along': 2.5088749729287803, 'replacement': 4.70797396505935, 'as': 0.2543390440248236, 'became': 1.3300599330549516, 'to': 0.09388987536359845, 'in': 0.004827031750607246, 'for': 0.29145011737314763, 'seen': 3.4810031144877702, 'origin': 4.779919462500267, '2000': 1.8763068991994527, 'vince': 5.956057467832759, 'thirdwave': 9.04058524016988, 'maurer': 16.084112820117507, 'found': 5.766607273878815, 'early': 1.929422753652229, 'gummi': 9.377057476791094, 'increasingly': 5.272762583715825, 'direction': 4.177456083182215, 'taking': 3.2200784912055385, 'want': 8.885167087320804, 'compilations': 6.259107570512853, 'supporting': 4.038558320610226, 'decided': 3.3560341274415673, 'remixchris': 10.986495389225194, 'care': 3.916621260766622, 'all': 1.6431112434912472, 'ephe': 9.600201028105303, 'dissatisfied': 7.520759486425468, 'other': 1.4424007566948476, 'an': 0.5964781781637942, 'directions': 6.3421044900838215, 'acting': 3.1974549875677174, 'my': 2.903166780438819, 'musical': 2.7953093845824055, 'careerhe': 6.7380001471758355, 'vocal': 4.147018950996352, 'by': 0.37455341206197373, 'desperate': 6.351766400995558, 'rejoined': 4.83376269452109, 'rerecorded': 6.979162203992724, 'selftitled': 5.078412451056264, 'create': 3.7071765538105743, 'had': 1.177428412308558, 'songs': 2.9508926963066124, 'can': 5.600061919606208, 'be': 2.8124960090831226, 'with': 1.0123432126103034, 'singing': 7.593146436958773, 'scene': 3.553420040326614, 'tint': 9.887883100557085, 'bears': 5.017787829239828, 'recorded': 2.7070519015125285, 'because': 2.8793779184748045, 'then': 1.4309354361561304, 'we': 3.3825974207033136, 'a': 0.005619184472583146}, {'resulting': 4.628653122717095, 'six': 2.4538226269605703, 'positions': 3.3439712549922924, 'secondfiddle': 10.293348208665249, 'bench': 4.693076110378713, 'time': 2.6506684148400996, 'much': 2.983801226941256, '200809': 5.160495281844744, 'return': 3.1924962997211987, 'france': 3.0078416601424633, 'cup': 2.672643121826987, '2007': 1.4879730697555795, 'duty': 4.857445179164649, 'on': 0.5532382600518011, 'was': 0.15873157122436693, 'jones': 11.467646114647941, 'starting': 3.2952952917023315, 'pointsthomas': 10.986495389225194, '2008': 1.5093391374786154, 'barry': 4.5126046928729195, 'fullback': 5.713495830661447, 'berth': 5.982549083279735, 'sharing': 5.22130428644035, 'league': 6.2570213529299, 'magners': 22.96287263714997, '200607': 5.22130428644035, 'hold': 4.144879912747602, 'managed': 3.5225587847562694, 'but': 2.627989130928604, '200506': 5.230753175638283, 'priestland': 19.200402056210606, 'davies': 5.606598035684735, 'only': 3.63875143940715, 'another': 2.603062187988481, 'making': 2.7223896254962385, 'favour': 5.286051815834508, 'out': 1.8484031814566355, 'world': 1.370623244696304, 'falling': 5.477107052597217, 'before': 2.9935647453367427, 'more': 3.34755790126429, 'appearance': 6.655591661913791, 'lost': 2.731706463076469, 'last': 2.407078854628825, 'months': 3.0427126967665687, '18': 2.726778428203672, 'career': 1.3050270203415668, '2006': 1.520737905384506, '14': 2.673133438090794, 'that': 0.6614069466714981, 'fullbackthomas': 10.986495389225194, 'celtic': 5.323534909089249, 'spent': 4.837218166986878, 'played': 3.0908804008769675, 'born': 0.268196273764765, 'three': 2.9830050587151904, 'team': 1.7320424426306904, 'position': 2.3300621307174527, 'not': 3.1760341502672342, 'carnegie': 9.212745704650859, 'and': 0.0052160072863410975, 'union': 2.8368936534890397, '110': 5.82170941530168, 'play': 2.270287418073342, 'other': 1.4424007566948476, 'playing': 6.273008273320685, 'are': 1.7719638126305435, 'in': 0.014481095251821738, '950': 7.990763115671204, 'flyhalf': 27.31044922346209, '23': 2.9691878815366133, 'one': 0.9309307338087167, 'down': 2.9476606314374463, 'pirates': 5.046324136504762, 'ceiron': 10.986495389225194, 'slovenia': 5.868501576808439, 'scored': 6.458888494386361, 'his': 2.1008916417092585, 'almost': 3.546348708562506, 'he': 1.280211345952344, 'st': 2.511374974230865, 'thomas': 19.92164078137482, 'converting': 7.094675091114568, 'october': 1.9182947844101343, 'june': 3.805251362605921, 'starts': 4.767895269533465, 'llanelli': 14.109339513001737, 'a': 0.022476737890332586, 'majority': 3.919175540571719, '1983': 2.57266471080411, 'until': 3.5182025253663682, 'stephen': 3.8125370694684007, 'signing': 4.123737476173793, 'morgan': 4.895185507147496, 'ives': 6.926052378678775, 'after': 1.8886668840026128, 'transfer': 4.412815222264548, '200405': 5.469042492760487, '2012': 1.7938099524877322, 'footballer': 3.2388985505323085, 'rugby': 12.162142492958058, 'wales': 3.683325337988394, 'april': 3.9784489659834934, 'total': 3.2767385247710297, 'often': 2.862641126119281, '10': 2.3157231098806563, 'duties': 4.424051295531474, 'for': 0.5100377054030083, 'two': 2.1977663716947125, 'national': 1.1860931647723914, 'from': 0.29375533798563447, 'though': 3.3439712549922924, 'season': 7.550134420929603, 'as': 0.1271695220124118, 'welsh': 4.72309712663357, 'with': 0.6074059275661821, 'december': 2.001425829579395, 'scoring': 3.525429874870911, 'llanellibased': 10.293348208665249, 'debut': 2.1723135660368764, 'rival': 4.91114935813651, 'previous': 3.538161528327719, '25': 5.493803869838451, 'rhys': 6.796840647198769, 'region': 3.7189699613970224, 'including': 2.4545648916922365, '2003': 1.8013702663900752, 'place': 2.5222811225998436, 'cornish': 6.908957945319475, 'began': 3.454920191420506, 'currently': 1.637088969126014, 'appearances': 14.180137388005953, '2009': 3.128872967208539, 'stoddart': 8.683910296231149, 'again': 4.7706575280655565, 'wing': 4.441145728890775, 'friendly': 5.224444006445018, 'regular': 5.837438386892608, 'won': 1.3836400683164753, 'game': 4.833799038031817, 'scarlets': 29.611905803076336, 'the': 0.002336290379200007, 'of': 0.016624704796446097, 'tries': 5.131423467022767, 'them': 2.497495932179739, 'eleven': 4.397568911691675, 'also': 0.4627270916162349, 'penalty': 4.864002579710808, 'at': 1.0765964332706432, 'is': 0.08284875142655997, 'rfc': 5.923900356198227, 'bringing': 4.601300990227469, 'points': 3.465718974162397, 'leeds': 9.785851238360117, 'against': 2.0079609791418744, 'to': 0.23472468840899613, 'number': 2.12302108305424, '200304': 10.954214105194435, 'clubs': 3.4464050690798693, 'five': 2.2137301792754096, 'when': 1.3806055739282235, 'leaguehowever': 10.986495389225194, 'did': 2.318987437150089, 'regional': 3.3579777626501386, 'made': 9.119317293017843, 'side': 6.1430247667536, 'while': 1.8364359481339414, '200708': 5.199598007858486, '2005': 1.6425861253275964}, {'sport': 3.808712973029997, 'jendouba': 10.986495389225194, 'now': 1.96695239252401, 'is': 0.02761625047551999, 'returned': 2.224475435663605, '31': 3.294838566414648, 'shortly': 7.643550020906674, 'sellimis': 10.986495389225194, 'turned': 3.394129260705398, 'korea': 4.379845203026979, 'about': 1.9265128988375737, 'brought': 3.350225785845821, 'teams': 3.1672609353661243, 'coupled': 6.286015023432778, 'henri': 6.134465125305577, 'former': 1.3573131120992086, 'fallout': 7.348909229498808, 'mali': 6.642689967371511, 'missing': 4.665727094974612, '2001': 1.9280249665871378, 'breaka': 10.986495389225194, 'winter': 4.011081461769242, 'going': 3.512858280728988, 'goalscoring': 6.843360662833661, 'bundesligas': 9.887883100557085, 'scoring': 3.525429874870911, 'not': 1.5880170751336171, '19992000': 5.433535804303577, 'way': 2.9688582293167167, 'detractors': 8.042056410058754, 'however': 2.41879921563585, 'recall': 6.030668331623933, 'year': 1.3423616371539895, 'too': 3.954754130462066, 'benslimane': 10.986495389225194, 'mehdi': 7.61919955923872, 'zoubeir': 10.293348208665249, 'internationals': 5.905091024240731, 'recently': 2.6417526348076485, 'other': 1.4424007566948476, 'fellow': 2.364041687151464, 'with': 0.8098745700882427, 'freiburg': 12.5359930358602, 'steady': 6.207371896113665, 'put': 3.63726456461186, 'many': 1.639964662798746, 'where': 1.089076212090673, 'squad': 3.955637913109074, '1998': 2.0687826320938068, 'this': 1.2818856957987381, 'form': 9.701191741121598, 'matches': 7.9451598288293335, 'professional': 1.950151325296976, 'determined': 5.377023594040234, 'modest': 6.0520214560945025, 'level': 3.2406271594329263, 'marked': 4.68570959456195, 'head': 2.464115671121657, 'appreciate': 6.892150827003094, 'following': 3.9218391113882123, 'against': 6.023882937425624, 'became': 2.6601198661099033, 'to': 0.5633392521815908, 'discretion': 8.213906666985412, 'cap': 5.094851177399423, 'number': 2.12302108305424, 'permanent': 3.9183233888371527, 'grew': 2.9691878815366133, 'callup': 12.500593881661397, 'drew': 4.419822959421953, 'jan': 4.498811370740584, 'ball': 4.197523646233024, 'pitch': 5.028070696195412, 'born': 0.268196273764765, 'clocked': 7.322933743095548, 'along': 2.5088749729287803, 'olympic': 3.520840079091138, 'quick': 5.497557663068508, 'tunisia': 19.361687688215817, 'yearstunisians': 10.986495389225194, 'friendlies': 7.851001173296044, 'even': 3.282585179608883, 'of': 0.062342642986672865, 'titles': 3.5713202796118995, 'virtually': 5.850696952174933, 'tunisian': 14.979975655517428, 'out': 5.545209544369906, 'during': 5.269860591614198, 'strength': 5.059569363254783, 'two': 2.1977663716947125, 'national': 4.744372659089565, 'years': 1.0752380994247055, 'promotion': 3.8914310119380633, 'next': 5.340879337721104, 'performance': 2.7455828475362956, 'be': 1.4062480045415613, 'it': 1.3165805834938153, '1978': 2.6743602815767815, 'start': 3.281232914358869, 'countrys': 4.613175599648182, 'match': 6.951035274422198, '16': 2.680270173193033, 'anchorman': 7.431147327735781, 'atlanta': 3.9450837254303837, 'throughout': 2.8924222411558422, '14': 2.673133438090794, 'picking': 6.016682089649193, 'premier': 3.6766139034004075, 'pace': 5.337521151063989, 'could': 3.1038031829361685, 'striker': 5.224444006445018, 'fc': 4.184100625900883, 'him': 6.3023373071487745, 'he': 3.413896922539584, 'first': 3.4780243569965514, 'season': 5.6626008156972025, 'semifinal': 5.072992383586924, 'promising': 5.120027332291897, 'atlantique': 9.600201028105303, 'district': 2.774469584601757, 'move': 3.6606878866294212, 'as': 0.3815085660372354, 'nation': 3.9980822072256026, 'child': 3.2780847219678266, 'adel': 15.616883117754497, 'germany': 3.0033964485143017, 'drought': 7.1363477875151355, 'stayed': 4.2662752340899, 'michel': 5.211943843680786, '1972': 2.8070152038663028, 'football': 7.675711996701418, 'list': 3.1286278298933916, 'wrong': 5.276068371850324, 'twice': 3.3301582227950113, 'goals': 6.916327245035895, 'wayhis': 10.293348208665249, 'sellimi': 76.90546772457635, 'arabic': 4.507985747016625, 'took': 4.420656578987839, 'inspiration': 4.702361228154392, 'afterwards': 4.717399105518933, 'distinguished': 3.426414924203367, 'household': 5.7290000171974125, 'widely': 3.270925854704986, 'his': 2.8887260073502303, 'true': 4.118520980254901, 'movement': 3.3449309479642224, 'team': 6.928169770522762, 'retired': 2.359013843914834, 'himself': 5.638854421767913, 'outside': 3.6528189935675104, 'gaining': 4.773889293473675, 'earned': 9.536169415432534, 'headed': 4.374454354392102, 'possible': 4.245976029618971, 'final': 2.438966998012884, 'japan': 3.2594009044453527, 'jedid': 10.986495389225194, 'enjoyed': 4.373111170845635, 'carried': 4.651441137727136, 'singularly': 9.04058524016988, 'name': 2.433549028103139, 'dubbed': 5.054250201777184, 'carved': 6.592046234552756, 'creativity': 5.477107052597217, 'distance': 4.604679371819096, 'on': 1.1064765201036022, 'found': 2.8833036369394076, 'joined': 1.9082017981693435, 'second': 3.344851662973069, '10': 2.3157231098806563, 'purchase': 5.3270131734655735, 'for': 0.36431264671643454, 'mistaken': 7.297615935111258, 'cup': 18.70850185278891, 'gamble': 6.543844132734878, '199798': 5.868501576808439, 'african': 10.746648813563779, 'from': 0.5875106759712689, 'who': 1.8197904379608427, 'limelight': 6.567654781428597, 'showing': 4.730745347471827, 'tunis': 14.75115495316194, 'league': 2.0856737843099666, 'lead': 2.7774591234501234, 'at': 1.291915719924772, 'finals': 4.071764496506632, 'in': 0.021238939702671884, 'age': 4.277696067026614, 'frenchmans': 10.986495389225194, 'win': 2.5472637392786686, 'swansong': 9.600201028105303, 'a': 0.0955261360339135, 'hit': 2.9751402800639086, 'club': 8.834526698416102, 'replacement': 4.70797396505935, 'international': 4.373758475261322, 'here': 8.139560737743171, '1996': 4.271382386937552, 'competitions': 4.268690694201503, 'nations': 6.723752806131592, 'place': 2.5222811225998436, 'south': 2.2386667807364518, 'the': 0.004266269388104361, 'africa': 3.361876403065796, 'best': 4.600803217244936, 'was': 0.2380973568365504, 'eleven': 4.397568911691675, 'players': 6.163582950702896, '2002': 3.7506251775644603, 'proved': 4.529725733653031, 'there': 2.3005725945344695, 'tournament': 10.565956663766, 'country': 2.6743602815767815, 'africain': 14.497651541883652, 'games': 2.2331239682242914, 'skillful': 7.585298007563039, 'into': 3.2101258848132113, 'bright': 5.602000326436105, 'home': 2.4210836255384827, 'world': 5.482492978785216, 'new': 0.8871532656125274, 'just': 5.401459937421729, 'bab': 9.04058524016988, 'and': 0.013412590164877109, 'achieve': 4.792089998120522, 'souayah': 10.986495389225194, 'their': 1.5201958369931787, 'zambia': 6.8276123058655225, 'considered': 6.301041615007256, '1993': 2.3032794139845048, 'tournamentthis': 10.986495389225194, 'september': 1.9011515074236967, 'player': 4.26880525149613, 'talented': 4.94624067794778, 'history': 2.1447579606246094, 'transfer': 4.412815222264548, 'finding': 4.906562194129604, 'french': 2.9278516770095764, 'ligue': 13.285379934743021, 'partnered': 5.369724291558623, 'account': 4.4212304191898335, '1': 4.195753163848633, 'side': 9.2145371501304, 'nantes': 21.675885820594896, 'struck': 4.951013956700438, 'another': 5.206124375976962, 'up': 3.127093535700369, 'impressive': 4.7941328997503225, 'but': 3.9419836963929056, 'spark': 6.859361004180102, 'france': 3.0078416601424633, 'ammar': 8.907053847545358, 'baya': 9.600201028105303, 'surge': 6.9975113426609195, 'life': 2.1907617832744593, 'firstclass': 5.804711838933109, 'belt': 5.548416080301998, 'barren': 8.347438059609935, 'appearances': 2.8360274776011907, 'period': 3.028967986994421, 'under': 1.8347379746813095, 'long': 5.564740913302307, 'although': 2.953810513257574, 'fans': 4.03568062078261, 'stop': 4.587900454689986, 'lung': 6.371374872383935, 'never': 2.9922004028092166, 'really': 4.558390116540598, 'some': 2.1974446757041473, 'settled': 4.687546142369252, 'real': 3.3707043171893614, '30': 2.6266580085851636, 'failed': 3.579784659047554, 'england': 2.646755623206051, 'time': 2.6506684148400996, 'kind': 4.539189526683981, 'success': 2.881489851677948, 'had': 1.177428412308558, 'november': 1.9726566376168002, 'back': 2.443829401835926, 'after': 2.833000326003919, 'disappointing': 11.587077076669967, 'left': 2.191367476812056, 'romaniabundesliga': 10.986495389225194, 'spanish': 3.7365698525072064, 'coach': 5.444264118987054, 'division': 2.7906099979103978, 'performances': 3.352641829543426, 'that': 0.6614069466714981, 'goal': 3.624484837965461, 'one': 2.79279220142615, 'got': 3.2070284217668696, 'finally': 3.813303646738596}, {'active': 2.7479584590534256, 'very': 2.811792506755733, 'partner': 3.4248536436364145, 'self': 10.552136743700649, 'journey': 8.770530540992636, 'all': 1.6431112434912472, 'mothers': 5.131423467022767, 'nonbiological': 10.293348208665249, 'homefront': 8.907053847545358, 'lesbian': 5.224444006445018, 'from': 0.29375533798563447, 'other': 1.4424007566948476, 'anthology': 4.558390116540598, 'forthcoming': 5.535456935659494, 'will': 2.679776346022504, 'loves': 5.449161122206657, 'essay': 5.01014447992726, '2002': 1.8753125887822302, 'betsy': 14.230588756634607, 'daughter': 3.170884857190004, 'their': 1.5201958369931787, 'insemination': 9.600201028105303, 'artificial': 5.592867842872833, 'child': 3.2780847219678266, 'conceive': 7.690658523220865, 'efforts': 3.83893611803574, 'couples': 5.956057467832759, 'via': 4.163209266869507, 'about': 1.9265128988375737, 'entitled': 3.208702762886364, 'wrote': 5.091071007617092, 'aizley': 21.972990778450388, 'harlyn': 10.986495389225194, 'writer': 2.511166401907656, 'expartner': 9.600201028105303, 'work': 2.7987275394509097, 'careerafter': 7.348909229498808, 'solo': 5.677256518602496, 'open': 3.1842860729780766, 'creative': 3.464636137023565, 'dad': 5.9758600951289385, 'hollywood': 7.804537934254556, 'scene': 3.553420040326614, 'jill': 5.868501576808439, 'shows': 2.8354504435401706, 'cambridge': 3.654126183296132, 'stereotype': 8.213906666985412, 'was': 0.4761947136731008, 'bunch': 6.7380001471758355, 'her': 9.301292271796804, 'premiered': 4.1599501656686, 'songwriting': 5.11719847609142, 'life': 2.1907617832744593, 'collaboration': 3.7154868509442025, 'benefit': 4.955810128963931, 'soloways': 32.95948616767558, 'such': 1.763337513538397, 'that': 1.3228138933429963, 'brady': 6.2329051981188295, 'of': 0.033249409592892194, 'the': 0.00243786822177392, 'womans': 5.839000912411741, 'several': 1.6205197257175628, 'briefly': 3.841299254228023, 'musician': 6.012943593829099, 'not': 1.5880170751336171, 'soloway': 98.87845850302675, 'club': 2.2086316746040255, 'interested': 4.233057470627415, 'performer': 4.073752568732018, 'what': 2.819143402169124, 'sister': 3.80186623650788, 'tour': 2.8485149347730556, 'new': 1.7743065312250548, 'theater': 10.94867542655273, 'both': 3.3461141184908887, 'camp': 4.206573481752942, 'years': 1.0752380994247055, 'edited': 3.7890600351286032, 'performing': 3.1247683114012137, 'performed': 5.061504320250359, 'original': 2.9143400810369444, 'produce': 4.200907744217265, 'boston': 6.409878859979709, 'american': 1.1273777844250068, 'school': 1.2227872792173518, '28': 3.0552106276993034, 'a': 0.06743021367099776, 'faith': 13.803902970682408, '1990': 2.3683714792305164, 'jennifer': 4.881702156810209, 'born': 0.53639254752953, 'musicals': 10.798493461649889, 'march': 1.9573172463231197, 'first': 0.6956048713993103, 'show': 4.3378027058988025, 'rosenthal': 7.115294378317303, 'statement': 4.881702156810209, 'tales': 4.91114935813651, 'humorless': 10.986495389225194, 'is': 0.11046500190207996, 'at': 1.291915719924772, 'pursue': 4.1122968937719, 'this': 1.2818856957987381, 'creation': 4.03568062078261, 'second': 3.344851662973069, 'folkrock': 14.805952901538168, 'moved': 4.034415978213579, 'two': 2.1977663716947125, 'indiana': 4.15778331758351, 'she': 9.491923429028251, 'comedic': 5.949542786811565, 'wheels': 6.592046234552756, 'to': 0.46944937681799226, 'became': 1.3300599330549516, 'an': 0.5964781781637942, 'signature': 5.002559108538004, 'as': 0.3815085660372354, 'nights': 4.91345085512479, 'improv': 6.2951475069960505, 'it': 1.3165805834938153, 'country': 2.6743602815767815, 'songs': 2.9508926963066124, 'city': 3.480417780951085, 'spent': 2.418609083493439, 'university': 0.8473430048211847, 'mother': 3.112517009620693, 'creator': 4.618308202874702, 'causes': 5.075698745184667, 'regularly': 3.4954077956903187, 'across': 3.180613348996573, 'along': 2.5088749729287803, 'toured': 3.527156494004899, 'also': 0.4627270916162349, 'or': 1.9128915408224825, 'song': 8.607548782869662, 'with': 1.2148118551323641, 'musical': 2.7953093845824055, 'leaving': 3.3202734635624696, '1994': 2.2375557576874794, 'tweaking': 9.887883100557085, 'massachusetts': 7.262986936239876, 'but': 1.313994565464302, 'music': 5.378377975206105, 'television': 4.00360339756268, 'jesus': 4.424051295531474, 'began': 1.727460095710253, 'producing': 3.830318751744579, 'sexuality': 5.7290000171974125, 'miss': 8.274858213183473, 'series': 1.877080935838972, 'rock': 2.943474503926912, 'operas': 5.154612911941677, 'sisters': 9.512027883293426, 'were': 1.521978023354629, 'couple': 4.076742107580384, 'started': 4.221298422973193, 'falcon': 6.6170475367581725, 'for': 0.21858758802986072, 'potter': 5.734221961178564, 'decided': 3.3560341274415673, 'followed': 5.953600062964545, 'after': 0.9443334420013064, 'studied': 2.2933341149871773, 'by': 1.1236602361859211, 'harrie': 9.377057476791094, 'folk': 16.592360753511404, 'tell': 4.804410482508563, 'dover': 6.475635882708344, 'featured': 7.627554780420647, 'one': 1.8618614676174334, 'earnest': 6.979162203992724, 'queer': 6.158181651922893, 'revere': 8.421546031763658, 'debbie': 6.224321454427438, 'does': 4.064837205074066, 'evans': 5.035852836637467, 'which': 5.372016769306384, 'parodied': 7.690658523220865, 'compilation': 4.672947342948099, 'produced': 2.511583590065563, 'buying': 6.158181651922893, 'somerville': 7.035251670643767, 'catie': 9.887883100557085, 'kimballsoloway': 10.986495389225194, 'works': 2.214349949980095, '1964': 3.06677562830062, 'lone': 5.668375395380978, 'carol': 5.0865980356427025, 'larger': 5.078412451056264, 'real': 3.3707043171893614, 'band': 2.605580216101585, 'venue': 5.6112169815410295, 'has': 1.285492619232117, 'title': 2.5500785078362447, 'refers': 5.760748715511993, 'continues': 3.3444509863519367, 'controversial': 3.861212297714483, 'three': 1.4915025293575952, 'childrens': 3.5956968674895182, 'bobbies': 10.986495389225194, 'america': 5.199733135660147, 'written': 2.3444332157630874, 'led': 2.2402561008421333, 'heather': 5.96921555241027, 'mike': 3.4799036091543534, 'action': 3.467888172409942, 'notable': 3.3146685913464133, 'musicians': 3.5587565486923007, 'river': 4.105084085582659, 'curtis': 5.299520032885375, 'charles': 3.3550637246482893, 'arts': 2.183972890940773, '2000': 1.8763068991994527, 'program': 2.393082171897548, 'minimalist': 6.7380001471758355, 'summer': 2.726778428203672, 'comedy': 3.4937350883028153, 'departments': 4.850930498143455, 'features': 3.7830898681420995, 'book': 4.005609415785018, 'norbert': 6.943444121390644, 'beany': 9.887883100557085, 'passim': 10.293348208665249, 'principal': 3.545761681835933, 'man': 2.863827365878787, 'director': 1.6150570969066835, 'area': 2.9938887368249847, 'training': 2.870974507678425, 'appear': 4.067800170204723, 'hamletta': 10.986495389225194, 'based': 2.299897032948229, 'in': 0.01158487620145739, 'tom': 3.4915091552746613, 'album': 2.4512658353228582, 'lesbo': 10.293348208665249, 'mommies': 20.586696417330497, 'once': 3.1371715711846337, 'womens': 3.4374126784129087, 'boyfriend': 6.2329051981188295, 'on': 0.36882550670120073, 'and': 0.007451438980487283, 'ridge': 5.8565966743021205, 'respond': 6.351766400995558, 'domestic': 4.483705343309571, 'violence': 4.483705343309571, 'perform': 3.956522477518808, 'separated': 5.76613956414687, 'crisissoloways': 10.986495389225194}, {'engineering': 3.3507085278296103, 'arts': 2.183972890940773, 'irvines': 8.907053847545358, 'graduate': 2.6750971107885535, 'university': 0.8473430048211847, 'stehlik': 10.986495389225194, 'california': 4.691339274727364, 'resides': 3.627027750969573, 'currently': 1.637088969126014, 'south': 2.2386667807364518, 'across': 3.180613348996573, 'hands': 4.738452514716765, 'into': 1.6050629424066056, 'their': 1.5201958369931787, '512': 7.690658523220865, 'rarely': 5.653776595959825, 'throughout': 2.8924222411558422, 'internationally': 3.60748726159689, 'band': 2.605580216101585, 'yoyo': 6.943444121390644, 'computation': 6.567654781428597, 'films': 2.78045762644638, 'performed': 2.5307521601251795, 'also': 0.9254541832324698, 'seen': 3.4810031144877702, 'west': 2.602605045123377, 'issue': 3.92773723670653, 'particularly': 3.63919568848203, 'movement': 3.3449309479642224, 'popularizing': 7.322933743095548, 'instrumental': 4.028046995927539, 'publications': 3.253249742695399, 'appeared': 2.0682467981894925, 'way': 2.9688582293167167, 'happening': 6.655762048938863, 'along': 2.5088749729287803, 'beat': 4.07474808897352, 'bands': 3.520840079091138, 'shows': 2.8354504435401706, 'organizing': 5.292763250422495, 'activities': 3.8492169519648085, 'editors': 5.03325205493741, 'nicoletta': 9.19473591999714, 'gb': 6.604468754551313, 'livermore': 7.225295273531632, 'larry': 4.428297586412926, 'dresch': 9.04058524016988, 'steve': 3.492621502441635, 'writers': 3.5440026664307536, 'featured': 2.542518260140216, 'jds': 17.814107695090716, 'came': 2.4364478609380096, 'jones': 3.822548704882647, 'name': 2.433549028103139, 'zines': 15.790905871733758, 'where': 1.089076212090673, 'earliest': 5.211943843680786, 'one': 0.9309307338087167, 'homocore': 29.663649301671256, 'on': 0.18441275335060037, 'nihilson': 9.887883100557085, 'issues': 3.0010110324913715, 'deke': 18.08117048033976, 'with': 0.6074059275661821, 'coeditor': 4.977682203782599, 'punk': 4.870603263742161, 'publisher': 4.286995049063516, 'josh': 5.276068371850324, 'they': 1.8993401178193898, 'to': 0.09388987536359845, 'its': 1.6875948402695313, 'francisco': 3.2563205939789728, 'pages': 5.276068371850324, 'influential': 7.477405614914696, '1955': 3.556974546438732, 'create': 3.7071765538105743, 'boards': 3.993480266292234, 'fido': 9.600201028105303, 'kids': 4.521907085535233, 'massachusetts': 3.631493468119938, 'most': 1.4186204428983973, 'daniel': 7.681021843021614, 'abbott': 6.422147197757358, 'authors': 4.320811671442786, 'were': 4.565934070063887, 'software': 4.294411646718566, 'wrote': 2.545535503808546, 'america': 5.199733135660147, 'early': 1.929422753652229, 'network': 3.154481208719725, 'zine': 13.995022685321839, 'networking': 12.061336663247866, 'authored': 4.0628667610867675, 'program': 7.179246515692643, 'faculty': 3.0247765732438294, 'bios': 17.57854162377795, 'file': 5.844831832722535, 'queer': 6.158181651922893, 'message': 5.1965352183279405, 'rise': 4.4614657313817325, 'his': 0.5252229104273146, 'implemented': 11.278775717015451, 'in': 0.008688657151093043, 'los': 5.147548438811336, 'first': 1.3912097427986205, 'as': 1.0173561760992944, 'technologies': 4.518796663120841, 'he': 0.640105672976172, 'platformsaside': 10.986495389225194, 'thomas': 3.3202734635624696, 'protocols': 7.157853992736099, 'creator': 4.618308202874702, 'such': 7.053350054153588, 'for': 0.21858758802986072, 'boston': 3.2049394299898544, 'arms': 5.030658019760364, 'comrade': 7.808441558877249, 'and': 0.010432014572682195, 'born': 0.268196273764765, 'jennings': 31.164525990594147, 'tom': 3.4915091552746613, 'found': 2.8833036369394076, 'writing': 2.61409678271219, 'provider': 6.00976164680462, 'was': 0.15873157122436693, 'inc': 3.612493529875034, 'a': 0.02809592236291573, 'internet': 7.6204817144161, 'angelesbased': 6.669007275688884, 'war': 2.809822617276739, 'donna': 5.380693322929197, 'apostles': 7.552508184740048, 'artist': 2.4318137533979653, 'gang': 5.2434922014157115, 'but': 1.313994565464302, 'creating': 7.823064382518301, 'other': 5.76960302677939, 'ultimately': 4.316997299367315, 'an': 0.5964781781637942, 'at': 0.43063857330825733, 'is': 0.08284875142655997, 'named': 2.0300155412252816, 'technician': 12.061336663247866, 'fugazi': 8.907053847545358, 'fidonet': 21.972990778450388, 'service': 2.600778560597343, 'musicians': 3.5587565486923007, 'technologywhile': 10.293348208665249, 'works': 2.214349949980095, 'computer': 3.5629269449660277, 'angeles': 2.6939468752494338, 'multiplicity': 8.501588739437194, 'from': 0.8812660139569034, 'later': 1.4294496043477696, 'had': 1.177428412308558, 'protocol': 6.126682984863522, 'wired': 6.134465125305577, 'system': 3.0888272384982884, 'magazines': 3.475517637211099, 'calarts': 7.248825770941826, 'queercore': 35.1570832475559, 'presence': 4.702361228154392, 'portable': 6.752388884627935, 'that': 0.6614069466714981, 'arttechnology': 10.293348208665249, 'europejennings': 10.986495389225194, 'originally': 3.448532729456986, 'led': 2.2402561008421333, 'phoenix': 4.587900454689986, 'built': 4.061882993176634, 'regional': 3.3579777626501386, 'of': 0.03740558579200372, 'the': 0.0020315568514782667, 'ran': 3.0544922368638097, 'little': 3.363342320748292, 'garden': 4.497290457899877, 'incorporated': 5.292763250422495, 'eight': 2.995579926133869, 'tlgnet': 10.986495389225194, 'maintains': 5.145853731851796, 'north': 2.4321991098574545, 'informal': 6.166213823620158, 'by': 0.7491068241239475, 'archive': 5.421974981902501, 'including': 1.2272824458461182, 'using': 3.288012601344248, 'bulletin': 5.844831832722535, 'science': 2.3447863231113892, 'cold': 4.918069800981084, 'partner': 3.4248536436364145, 'lived': 3.378120914844411, 'bbses': 9.887883100557085, 'san': 2.591243868614199, '1988': 2.4491074905234376, 'own': 2.269959656680699, 'coast': 3.675277004805566, 'until': 1.7591012626831841, '1991': 2.3750835225699753}, {'coaching4': 10.986495389225194, 'settling': 5.668375395380978, 'canucks': 6.486685718894929, 'scored': 3.2294442471931806, 'bruins': 12.398007292886296, 'postseason': 5.373367282837124, 'quebec': 4.550345020855767, 'crown1in': 10.986495389225194, 'red': 9.823496646532575, 'league': 4.171347568619933, 'losses': 5.230753175638283, 'games': 4.466247936448583, 'career': 5.220108081366267, 'round': 2.897933583948961, 'season': 7.550134420929603, '1954': 3.6225818878193747, 'goals': 3.4581636225179473, 'off': 2.9969349398913288, 'retired': 2.359013843914834, 'until': 1.7591012626831841, '1952': 3.610613241010182, 'regular': 2.918719193446304, 'minors': 15.626529198007614, 'is': 0.02761625047551999, 'toiling': 9.04058524016988, 'participants': 5.739471317064708, 'out': 3.696806362913271, 'indianapolis': 5.017787829239828, 'man': 2.863827365878787, 'points': 3.465718974162397, '195758': 7.431147327735781, 'defensiveoriented': 10.986495389225194, 'although': 2.953810513257574, '42': 4.814794791814279, 'offensiverich': 10.986495389225194, 'three': 4.474507588072786, 'into': 3.2101258848132113, '183': 6.642689967371511, 'viewed': 5.309741586956912, 'native': 3.244961799943366, 'horvath': 9.377057476791094, 'portion': 5.583818007352915, 'traded': 11.856322377929073, 'physical': 4.001779069106929, 'head': 4.928231342243314, 'the': 0.003859958017808707, 'twoway': 7.520759486425468, 'name': 2.433549028103139, 'coach': 2.722132059493527, 'playing': 2.0910027577735617, 'nhl': 18.794547316253638, 'chemistry': 4.842309755099548, 'spent': 7.2558272504803165, 'played': 6.181760801753935, 'stasiuk': 113.22683029531774, 'and': 0.00819658287853601, 'lethbridge': 7.431147327735781, 'former': 1.3573131120992086, 'born': 0.268196273764765, 'due': 2.7324867986603505, 'signing': 4.123737476173793, 'uke': 9.04058524016988, 'time': 1.3253342074200498, 'hockey': 16.64414141187955, '3': 2.3430220318986272, 'his': 1.3130572760682866, 'finished': 2.6924457491231664, 'american': 1.1273777844250068, 'before': 4.490347118005114, '1953': 3.6463085539050786, 'canadian': 2.766899935048114, 'next': 2.670439668860552, 'on': 0.18441275335060037, 'stylistic': 6.908957945319475, 'however': 2.41879921563585, 'often': 2.862641126119281, 'winger': 5.544077678703401, 'same': 2.2492032766809724, 'may': 1.7899497282712007, 'boston': 6.409878859979709, 'because': 5.758755836949609, 'all': 1.6431112434912472, '20': 2.441881602232965, 'of': 0.033249409592892194, 'ice': 4.091825349791713, 'john': 1.9913303989140443, '23': 2.9691878815366133, 'a': 0.06743021367099776, '1929': 5.030658019760364, 'black': 6.244919460305487, 'cup': 8.017929365480962, 'much': 2.983801226941256, 'wings': 20.324534164682497, 'junior': 6.35228541100181, 'playoffs': 9.646361170381105, 'finals': 4.071764496506632, 'in': 0.016411907952064635, 'detroit': 16.212289453977917, 'players': 3.081791475351448, 'was': 0.6349262848974677, 'with': 1.4172804976544247, 'alberta': 4.90885314587616, 'significant': 3.7624705809393637, 'eliminated': 5.259647641637997, 'chicago': 8.787353702001607, 'left': 4.382734953624112, 'sparingly': 7.179832899454874, 'hawks': 11.062348547734986, 'edmonton': 5.0920925549603435, 'as': 0.1271695220124118, 'to': 0.32861456377259457, 'games2': 10.293348208665249, '1951': 3.7037342096196015, 'high': 1.906719387270128, 'coaching': 7.49312559580945, 'job': 6.893873119848328, 'reach': 4.306896203380811, 'flyers': 18.72468978258583, 'philadelphia': 3.7078664469045117, 'bucyk': 10.986495389225194, 'victor': 4.864002579710808, 'captured': 4.857445179164649, 'assists': 4.790051261430674, 'for': 0.29145011737314763, 'bronco': 8.153282045168979, 'grouping': 7.402976450769084, 'line': 7.1246602163663315, 'ukrainian': 5.4610424500934105, 'ancestry': 5.9626148683789175, 'this': 2.5637713915974762, 'first': 1.3912097427986205, 'history': 2.1447579606246094, 'year': 2.684723274307979, 'found': 2.8833036369394076, '1961': 3.3207419573634955, 'have': 1.4416847832984716, 'one': 0.9309307338087167, 'goal': 3.624484837965461, 'mark': 3.0388168179236272, 'formidable': 6.669007275688884, 'professional': 1.950151325296976, 'presence': 4.702361228154392, '68': 5.497557663068508, '1960': 3.2957522256833225, 'back': 2.443829401835926, 'recorded': 2.7070519015125285, '1963': 3.2103799121264522, 'finishing': 3.5202678330097132, 'stanley': 8.979440798078663, '254': 7.272923322520886, '745': 8.907053847545358, 'backtoback': 5.850696952174933, 'earned': 2.3840423538581335, 'instant': 5.7290000171974125, 'retiring': 3.8140708121003493, 'were': 1.521978023354629, 'took': 4.420656578987839, 'vancouver': 4.219152263959802, 'over': 1.4878231559557336, 'early': 1.929422753652229, 'pittsburgh': 4.245976029618971, 'hornets': 6.926052378678775, 'won': 1.3836400683164753, 'moved': 2.0172079891067893, 'two': 1.0988831858473562, 'seasons': 2.6358291487042704, 'later': 1.4294496043477696, 'led': 2.2402561008421333, 'club': 2.2086316746040255, 'single': 2.887244827428234, 'leagues': 3.8922605433004387, '196970': 6.655762048938863, 'aces': 6.766987684049088, 'seals': 7.0744723837970485, 'difficult': 4.632125348427844, 'johnny': 4.316997299367315, 'team': 1.7320424426306904, 'position': 2.3300621307174527, '1955': 3.556974546438732, 'odd': 5.949542786811565, 'now': 1.96695239252401, 'calder': 6.323056295113127, 'dubbed': 5.054250201777184, 'then': 4.292806308468391, 'after': 3.7773337680052257, 'by': 0.37455341206197373, 'point': 3.4321605654994465, 'fired': 9.216138411147215, '197071': 6.52058727057061, 'offered': 3.96719873551015, 'he': 2.347054134245964, 'him': 1.5755843267871936, 'scouting': 5.930249583876886, 'capitals': 6.150213482273716, 'but': 1.313994565464302, 'conflict': 4.3866248900123574, 'california': 2.345669637363682, 'bench': 4.693076110378713, 'golden': 3.618155702913813, 'forward': 3.8848194176057507, 'became': 1.3300599330549516, 'management': 2.8772704361352397, 'behind': 3.26116535130806}, {'spoke': 4.91345085512479, 'topic': 5.0865980356427025, 'this': 1.2818856957987381, 'speaks': 4.651441137727136, 'advice': 4.846610836998939, 'journo': 10.986495389225194, 'freelance': 8.59877356271736, 'successful': 2.679282762596886, 'how': 3.0810537401649083, 'blogging': 6.796840647198769, 'early': 1.929422753652229, 'segment': 5.266183612617783, 'geek': 7.941972951501771, 'radio': 2.349033365418012, '774': 8.501588739437194, 'program': 2.393082171897548, 'drive': 4.545548848592274, 'affairs': 2.9405866469544146, 'well': 1.5295293417875981, 'commentator': 4.21227150286758, 'corporations': 5.0976174308923135, 'appeared': 2.0682467981894925, 'being': 1.7938099524877322, 'where': 1.089076212090673, 'for': 0.36431264671643454, 'product': 4.616594406396968, 'nationally': 4.351862031363509, '2012': 5.381429857463196, 'techtarget': 10.986495389225194, 'start': 3.281232914358869, 'every': 3.306319748788604, 'section': 3.923447225837022, 'anz': 7.728398851203712, 'one': 0.9309307338087167, 'commission': 2.972821246392509, 'been': 0.9774773354796025, 'thoughts': 5.868501576808439, 'raf': 6.5797761419609415, 'chief': 2.552031845407953, 'to': 0.23472468840899613, 'melbourne': 11.67429303581419, 'editor': 8.227272356788225, 'au': 6.286015023432778, 'as': 0.635847610062059, 'was': 0.2380973568365504, 'march': 1.9573172463231197, 'he': 1.06684278829362, 'news': 2.822839213056762, 'wire': 5.76613956414687, 'wednesday': 5.7290000171974125, 'it': 2.6331611669876307, 'april': 1.9892244829917467, 'wrote': 2.545535503808546, 'media': 2.527567105940933, 'addition': 2.6415150204546234, 'from': 0.8812660139569034, 'broadcasting': 7.9148156501510645, 'run': 2.7873060301471266, '2011': 3.4046941802085837, 'titles': 3.5713202796118995, 'a': 0.03371510683549888, 'and': 0.0037257194902436414, 'writing': 2.61409678271219, '1968': 2.8997774689212887, 'has': 0.856995079488078, 'next': 2.670439668860552, 'that': 1.3228138933429963, 'age': 2.138848033513307, 'caruana': 27.12175572050964, 'many': 1.639964662798746, 'at': 0.645957859962386, 'is': 0.08284875142655997, 'broadcast': 3.453871770436406, 'in': 0.0028962190503643475, 'anthony': 4.025199343315028, 'air': 3.4258942264566374, 'club': 2.2086316746040255, 'january': 3.770824006371922, 'several': 3.2410394514351255, 'about': 5.779538696512721, 'founding': 3.09703623982067, 'macworld': 8.278445188122983, 'shows': 2.8354504435401706, 'technology': 14.553008794631685, 'regular': 5.837438386892608, 'who': 0.9098952189804214, 'writes': 3.738702807457348, 'australian': 8.630007339620153, '2': 2.2482408126990716, 'of': 0.024937057194669147, 'the': 0.0011173562683130468, 'part': 1.9194481870754878, 'regularly': 6.990815591380637, 'articles': 2.9787953763411688, 'searchcio': 10.986495389225194, 'decisions': 5.240292198685041, 'business': 4.7498030447749455, 'his': 0.2626114552136573, 'also': 0.9254541832324698, 'launched': 3.594463821710603, 'epsteins': 9.04058524016988, 'apc': 8.421546031763658, 'events': 3.0624230643017776, 'contributor': 4.094869492172941, 'yearshe': 5.949542786811565, 'local': 2.5829189245959245, 'october': 1.9182947844101343, 'focuses': 4.3571321357877455, '330pmsince': 10.986495389225194, 'new': 0.8871532656125274, 'magazine': 4.913166850802364, 'on': 0.9220637667530018, 'needs': 5.059569363254783, 'publications': 3.253249742695399, 'senior': 2.2990532222492712, 'executives': 5.355283607403829, 'australia': 5.73717289368408, 'david': 2.4512658353228582, 'born': 0.268196273764765, 'influencershe': 10.986495389225194, 'based': 2.299897032948229, 'made': 1.519886215502974, 'current': 2.8308461188591933, 'original': 2.9143400810369444, 'flynnin': 10.293348208665249, 'review': 3.227734845067532, 'team': 1.7320424426306904, 'members': 2.8274067345572838, 'pocket': 5.949542786811565, 'reviews': 3.9407188123456827, 'pc': 5.142950972193835, 'given': 2.9959185074812718, 'before': 1.4967823726683713, 'other': 2.884801513389695, 'journalist': 3.1247683114012137, 'an': 0.2982390890818971, 'convention': 4.417013968810898, 'under': 1.8347379746813095, 'opportunity': 4.279633052622447, 'write': 3.862822604020587}, {'public': 2.029113653642407, 'places': 4.48670834856934, 'april': 1.9892244829917467, 'russia': 4.025199343315028, 'works': 2.214349949980095, 'moscow': 8.137579558779779, 'themes': 4.613175599648182, 'three': 1.4915025293575952, 'on': 0.5532382600518011, 'years': 1.0752380994247055, 'fifteen': 4.660345916070095, 'lived': 3.378120914844411, 'now': 1.96695239252401, 'island': 3.4501314508206833, 'defensemitchell': 10.986495389225194, 'office': 2.6240864116098233, 'foreign': 3.1908488528906003, 'assisted': 4.857445179164649, 'conservative': 3.813303646738596, 'exdeputy': 10.293348208665249, 'this': 1.2818856957987381, 'himself': 2.8194272108839566, 'perjured': 9.600201028105303, 'brigadier': 6.081220610786765, 'orders': 5.755386772370608, 'had': 1.177428412308558, 'illegally': 6.1907048436284535, 'stalin': 7.690658523220865, 'refugees': 5.7032916604872055, 'yugoslav': 6.06651446339707, 'where': 2.178152424181346, 'thousands': 4.676577110998678, 'most': 1.4186204428983973, 'back': 2.443829401835926, 'children': 2.4252853123921825, 'handed': 5.433535804303577, '1945': 7.925472868973502, 'may': 1.7899497282712007, 'staff': 3.1712883270361067, 'operation': 4.3584540130456615, 'army': 3.435308521929045, '6': 2.5744405159322614, 'bodies': 5.1487649420592545, 'up': 1.5635467678501844, 'point': 3.4321605654994465, 'but': 1.313994565464302, 'operate': 5.892745188418432, 'which': 3.069723868175077, 'like': 2.661431695593997, 'reputation': 4.319538596795987, 'society': 2.4448047262085693, 'environmental': 3.922591427753126, 'aldingtontolstoy': 10.986495389225194, 'to': 0.23472468840899613, 'as': 0.5086780880496472, 'mainly': 7.682598508456046, 'apparentlyvirtuous': 10.986495389225194, 'aspects': 4.474750059580466, 'illegal': 4.864002579710808, 'author': 6.880505574015803, 'actually': 4.732666577649721, 'for': 0.21858758802986072, 'bureaucracymitchell': 10.986495389225194, 'ian': 4.245976029618971, 'royal': 2.8056144472288045, 'called': 4.156954132880615, 'mitchell': 15.061045950304507, 'behavior': 5.012685777355933, 'do': 3.162449378368902, 'trial': 7.475982633709168, 'and': 0.007451438980487283, 'lives': 2.532029027717262, 'too': 3.954754130462066, 'aldington': 9.600201028105303, 'scottish': 8.00912142413761, 'forum': 4.044338683525725, 'ministry': 3.5907737806231492, 'a': 0.05057266025324832, 'nazismitchell': 10.986495389225194, 'communities': 4.377146146057814, 'delivered': 4.920387299121447, 'part': 1.9194481870754878, 'grew': 2.9691878815366133, 'at': 0.43063857330825733, 'is': 0.08284875142655997, 'scotland': 7.986960532584468, 'broadcast': 3.453871770436406, 'in': 0.009654063501214493, 'south': 2.2386667807364518, 'concerned': 14.962676481835533, 'that': 1.3228138933429963, 'dictators': 7.941972951501771, 'founded': 2.7103551696667347, 'tens': 6.411784410721811, 'written': 2.3444332157630874, 'with': 0.20246864252206068, 'damage': 5.449161122206657, 'realms': 7.322933743095548, 'by': 0.7491068241239475, 'he': 1.280211345952344, 'view': 4.2214564124446525, 'ele': 9.600201028105303, 'party': 2.3540111534742225, 'place': 2.5222811225998436, 'british': 2.238031759283139, 'islay': 9.377057476791094, 'centralized': 8.153282045168979, 'rural': 8.693239110797316, 'of': 0.07896734778311897, 'the': 0.0025394460643478334, 'natural': 3.7973276508048714, 'lord': 4.48821323974876, 'north': 2.4321991098574545, 'books': 4.497764704832687, 'isles': 14.230588756634607, 'issued': 4.429717033067152, 'africa': 3.361876403065796, 'london': 4.439578782949358, 'west': 2.602605045123377, 'seeing': 5.227593615347914, 'ngos': 6.142308302766603, 'organisation': 8.656968686708892, 'hebridean': 18.75411495358219, 'protection': 4.349237357940737, 'controversial': 3.861212297714483, '2007': 1.4879730697555795, 'birds': 5.570394987020774, 'tito': 6.555678590381881, 'heritage': 4.322086368874786, 'compared': 4.806478735572622, 'voice': 3.2616069499021205, 'chairman': 2.6337052541005668, 'voyage': 12.381409687256907, 'from': 0.5875106759712689, 'their': 1.5201958369931787, 'was': 0.15873157122436693, 'director': 1.6150570969066835, 'journalist': 3.1247683114012137, 'an': 0.8947172672456913, 'both': 3.3461141184908887, 'people': 2.5151367341527564, 'lecture': 4.890670826792969, 'are': 1.7719638126305435, 'founder': 2.9784625422558864, 'described': 3.1584573570993646, 'it': 1.3165805834938153, 'him': 1.5755843267871936, 'historical': 3.80718741972116, 'cossack': 9.600201028105303, 'defend': 5.653776595959825, 'has': 1.713990158976156, 'imposts': 10.986495389225194, 'book': 4.005609415785018, 'cost': 5.094851177399423, 'about': 3.8530257976751474, 'who': 1.8197904379608427, 'libel': 6.5797761419609415, 'norse': 8.421546031763658, 'took': 2.2103282894939196, 'critic': 3.842877786521073, 'claims': 8.477817724791757, 'also': 0.4627270916162349, '1989': 2.404826178624592}, {'where': 1.089076212090673, 'foothills': 7.895452935866879, '2008': 1.5093391374786154, 'american': 1.1273777844250068, 'back': 2.443829401835926, 'hapgoodleon': 10.986495389225194, 'when': 1.3806055739282235, 'month': 3.8660510168327065, 'later': 1.4294496043477696, 'initial': 4.377146146057814, 'rejoined': 9.66752538904218, '2007': 2.975946139511159, '2004on': 7.489987827758714, 'arsenal': 5.755386772370608, 'left': 4.382734953624112, '20072008': 5.8565966743021205, 'extended': 4.471782698352665, 'injury': 3.60748726159689, 'from': 0.29375533798563447, 'recovered': 5.418150885464097, '2002': 1.8753125887822302, 'october': 1.9182947844101343, 'play': 2.270287418073342, 'uk': 2.7906099979103978, 'starting': 3.2952952917023315, 'states': 1.824400329877006, 'that': 0.6614069466714981, 'tydfil': 8.347438059609935, '2001': 3.8560499331742757, 'athletic': 3.984339434821573, 'final': 2.438966998012884, 'vase': 8.09612363132903, '21': 2.797250863489293, 'however': 2.41879921563585, 'returning': 3.587709113805246, 'russell': 4.560006931767504, 'first': 0.6956048713993103, 'into': 1.6050629424066056, '11': 2.5966811271387873, 'break': 4.061882993176634, 'failing': 5.043696014098494, 'after': 1.8886668840026128, 'yeovil': 7.0162034756730725, 'villa': 5.489327163931993, '2000': 3.7526137983989054, 'february': 4.217668911263057, 'november': 1.9726566376168002, 'loan': 8.664685738083952, 'substitute': 9.588265799500645, 'torquay': 41.511747087138204, 'initially': 3.6873739265143946, 'musker': 9.600201028105303, 'june': 5.707877043908882, 'minute': 4.883936794611626, '30': 2.6266580085851636, 'coming': 3.7624705809393637, 'still': 2.700225936442129, 'while': 1.8364359481339414, 'of': 0.008312352398223049, 'the': 0.0010157784257391334, '1997': 2.1298344522079455, 'eddie': 4.6783969477156635, 'has': 0.428497539744039, 'hapgood': 19.77576620111417, 'academy': 2.3552594817682966, '2003': 1.8013702663900752, 'fa': 4.835892620778915, 'september': 1.9011515074236967, 'played': 1.5454402004384837, 'debut': 2.1723135660368764, 'turned': 3.394129260705398, 'career': 2.6100540406831336, 'plymouth': 11.737003153616879, 'merthyr': 7.990763115671204, '38th': 6.629786562535602, 'argyle': 6.629786562535602, 'expired': 5.810345656651365, 'onemonth': 7.895452935866879, '1998': 2.0687826320938068, 'a': 0.03371510683549888, 'amateur': 3.713402793225672, 'town': 12.80309797076228, 'as': 0.7630171320744707, 'injured': 4.471782698352665, '10': 2.3157231098806563, 'teamin': 6.04485296661589, 'for': 0.21858758802986072, 'english': 2.239461125047026, 'which': 0.7674309670437692, 'side': 6.1430247667536, 'league': 2.0856737843099666, 'steve': 3.492621502441635, 'work': 1.3993637697254548, 'over': 1.4878231559557336, '1979is': 10.986495389225194, 'plainmoor': 7.654290879049991, 'serves': 3.07627168212785, 'clevedon': 8.09612363132903, 'apprentice': 10.455187230695827, 'coach': 2.722132059493527, 'playing': 2.0910027577735617, 'an': 1.1929563563275885, 'moved': 8.068831956427157, 'conference': 3.0405857906120617, 'leon': 5.341048491581956, 'soccer': 4.275972279772766, 'was': 0.4761947136731008, 'began': 1.727460095710253, 'saunders': 6.391375539090604, 'footballer': 3.2388985505323085, 'with': 1.0123432126103034, 'nephew': 5.3270131734655735, 'march': 1.9573172463231197, 'united': 4.703766236011668, 'he': 2.7737912495634123, 'on': 1.6597147801554033, 'north': 2.4321991098574545, 'mccall': 7.272923322520886, 'bideford': 24.12616923017626, 'august': 6.000521854797526, 'represented': 2.8985478345825246, 'and': 0.0022354316941461845, 'brighton': 5.465034471362948, 'berkhamsted': 9.19473591999714, 'duane': 6.5797761419609415, 'in': 0.013515688901700289, 'his': 1.3130572760682866, 'club': 2.2086316746040255, 'january': 1.885412003185961, 'almost': 3.546348708562506, 'bidefordhe': 10.986495389225194, 'win': 5.094527478557337, 'is': 0.02761625047551999, 'at': 0.8612771466165147, 'coaching': 3.746562797904725, 'to': 0.46944937681799226, 'against': 2.0079609791418744, 'parkhe': 7.728398851203712, 'threemonth': 7.115294378317303, 'hove': 6.752388884627935, 'subsequently': 5.758755836949609, 'albion': 5.673289410183407, 'professional': 1.950151325296976, 'manager': 5.646818027283959, 'may': 3.5798994565424014, 'schoolboyshapgood': 10.986495389225194, 'but': 3.9419836963929056, 'england': 5.293511246412102, 'only': 1.819375719703575, 'trial': 3.737991316854584, 'peripheral': 7.808441558877249, '6': 2.5744405159322614, 'noncontract': 7.348909229498808, 'role': 2.20355903287593, 'managed': 3.5225587847562694, 'terms': 3.8240978918694766, 'resumed': 5.425813758209666, 'wes': 6.351766400995558, 'december': 2.001425829579395, 'scoring': 3.525429874870911, 'join': 7.157142133331191, 'following': 1.9609195556941061, 'season': 5.6626008156972025, 'released': 4.0156697991710155, '1999': 3.9936033767292685, '7': 5.455627785921916, 'up': 1.5635467678501844, 'offered': 3.96719873551015, 'teaming': 6.497859019493054, 'contract': 9.476567528576316, 'by': 1.1236602361859211, 'calgary': 5.005081177970713, 'second': 1.6724258314865346, 'joined': 1.9082017981693435, 'immediately': 4.187439527166398, 'born': 0.53639254752953, 'former': 5.429252448396834, 'kevin': 4.026147660123887, 'tauntons': 9.600201028105303, 'hodges': 6.908957945319475, 'liskeard': 9.887883100557085, 'allowed': 3.887293645672102, 'signed': 2.5176524587500038, 'pilgrims': 7.1363477875151355, 'taunton': 14.862294655471562, 'player': 4.26880525149613, 'great': 2.7682474625394486, 'sean': 4.818978898336853, 'william': 3.09180453879957, 'joyces': 7.808441558877249}, {'19': 2.8848176417706224, 'entitled': 3.208702762886364, 'second': 1.6724258314865346, '8': 2.7572509724892824, 'june': 1.9026256813029605, 'which': 0.7674309670437692, 'friends': 3.5987861501441536, 'be': 1.4062480045415613, 'single': 5.774489654856468, 'lovesick': 9.377057476791094, 'lead': 2.7774591234501234, 'features': 3.7830898681420995, 'windup': 8.789270811888976, 'via': 4.163209266869507, '5': 2.4679031768952497, 'october': 3.8365895688202687, 'released': 6.023504698756524, 'album': 4.9025316706457165, 'debut': 2.1723135660368764, 'once': 3.1371715711846337, 'musso': 9.887883100557085, 'alongside': 3.2975820523603985, 'you': 2.914652239616036, 'lets': 5.6158573610975315, 'have': 1.4416847832984716, 'like': 2.661431695593997, 'teen': 4.890670826792969, 'has': 0.428497539744039, 'rock': 2.943474503926912, 'more': 1.673778950632145, 'music': 1.7927926584020348, 'pop': 7.182775685325417, 'into': 1.6050629424066056, 'repertoire': 4.70049729471633, 'expanded': 4.547145018125096, 'or': 1.9128915408224825, 'diamondosment': 10.986495389225194, 'gabi': 8.789270811888976, 'hungry': 6.9975113426609195, 'recorded': 2.7070519015125285, 'young': 2.4099018545275093, 'stars': 3.6866980224670334, 'currently': 1.637088969126014, 'went': 2.0519085188355186, 'born': 0.53639254752953, 'over': 1.4878231559557336, 'game': 2.4168995190159084, 'films': 2.78045762644638, 'original': 5.828680162073889, 'fight': 4.274754994169014, 'gerti': 10.986495389225194, 'produced': 2.511583590065563, 'of': 0.004156176199111524, 'the': 0.0013205119534608735, 'as': 0.8901866540868826, '3d': 5.465034471362948, 'to': 0.04694493768179923, 'costarring': 6.682430296021025, 'one': 0.9309307338087167, 'was': 0.31746314244873386, 'morris': 4.8596262051110095, 'most': 2.8372408857967946, 'cyberbully': 10.293348208665249, 'fame': 3.0071564939628668, 'television': 4.00360339756268, 'dont': 8.28123102792229, 'r': 3.858801689877796, 'haunting': 7.0162034756730725, 'she': 9.491923429028251, 'where': 1.089076212090673, 'gained': 3.3796108580055644, '1992': 2.278351314316948, 'upon': 3.3017114457024097, 'american': 1.1273777844250068, 'stines': 9.887883100557085, 'hits': 3.7189699613970224, 'it': 3.9497417504814463, 'childhood': 4.128981326679804, 'flight': 4.548743739488793, 'on': 0.5532382600518011, 'think': 8.561712588730384, 'her': 4.650646135898402, 'an': 0.2982390890818971, 'kids': 9.043814171070466, 'awardnominated': 6.943444121390644, 'dreams': 4.915757661222704, 'volume': 4.539189526683981, 'for': 0.14572505868657382, '10': 2.3157231098806563, 'montana': 16.606370806978482, 'giggles': 9.19473591999714, 'mitchel': 8.421546031763658, 'truscott': 8.789270811888976, 'recently': 7.925257904422946, 'march': 1.9573172463231197, 'cassie': 8.042056410058754, 'spy': 11.396456717061318, 'after': 0.9443334420013064, 'lost': 2.731706463076469, 'jordan': 4.777905363128566, 'actress': 3.318869297640204, 'abc': 8.291897719873015, 'several': 1.6205197257175628, 'about': 3.8530257976751474, 'is': 0.02761625047551999, 'emily': 5.5883326877074415, '2': 2.2482408126990716, 'singer': 2.7818235602743835, 'working': 2.074561053063768, '2010': 4.77850188036592, 'songwriter': 3.6746092251480293, 'sitcom': 5.122864213627097, 'and': 0.005961151184389826, 'in': 0.007723250800971594, 'osment': 10.293348208665249, 'nightmare': 6.5797761419609415, 'los': 2.573774219405668, 'california': 2.345669637363682, 'island': 3.4501314508206833, 'angeles': 2.6939468752494338, 'lilly': 7.0744723837970485, 'costar': 12.332427647240316, 'lifetime': 4.223765882293315, 'emmy': 4.226080698141766, 'disney': 9.412199100529998, 'hannah': 18.05004626894758, 'i': 4.806279991110577, 'daughters': 4.187439527166398, 'well': 1.5295293417875981, 'off': 2.9969349398913288, '2013': 1.9545642372230505, 'series': 5.631242807516916, 'character': 3.5492890223539018, 'channel': 6.7325612373014785, 'movie': 16.503961639953236, 'also': 0.4627270916162349, 'starred': 7.136629132996813, 'hour': 4.467348101284799, 'l': 3.969885705330975, 'dadnapped': 10.986495389225194, 'didnt': 4.383907497035858, 'melissa': 5.989283115461079, 'online': 3.5605417321476533, '2011': 1.7023470901042919, 'family': 4.554720795276023, 'tv': 2.5660333867687286, 'dreamosments': 10.986495389225194, 'cleaners': 8.501588739437194, 'records': 2.678542843954175, 'if': 3.2998740542805742, 'alternativeindie': 10.986495389225194, 'service': 2.600778560597343, 'crackle': 9.887883100557085, '2014': 4.414799156689327, 'a': 0.011238368945166293}, {'admission': 6.00976164680462, 'right': 3.399184883202579, 'ball': 4.197523646233024, 'switched': 4.587900454689986, 'worth': 4.625192911652199, 'air': 3.4258942264566374, 'into': 1.6050629424066056, 'jumped': 6.037735498847026, 'hand': 8.35491216636443, 'dribbled': 9.377057476791094, 'razzledazzle': 10.293348208665249, 'fans': 4.03568062078261, 'wrote': 2.545535503808546, 'once': 3.1371715711846337, 'news': 2.822839213056762, 'world': 1.370623244696304, 'times': 2.1000862223759134, 'roanoke': 7.035251670643767, 'brill': 7.585298007563039, 'wlbill': 10.986495389225194, 'four': 1.922106072733316, 'baseball': 3.2740515549502045, 'total': 3.2767385247710297, 'fifthhighest': 9.377057476791094, '2310': 9.887883100557085, 'with': 0.6074059275661821, 'finished': 2.6924457491231664, 'when': 1.3806055739282235, 'allsouthern': 9.04058524016988, 'second': 1.6724258314865346, 'earned': 2.3840423538581335, 'also': 0.9254541832324698, 'years': 1.0752380994247055, 'foundation': 2.714435767014782, 'helms': 7.402976450769084, 'team': 3.464084885261381, 'allamerica': 6.250296940830698, 'six': 2.4538226269605703, 'big': 2.940266288149817, 'conference': 6.081171581224123, 'southern': 3.1528951655640904, 'named': 2.0300155412252816, 'senior': 2.2990532222492712, '109': 6.509158574746988, '730': 8.042056410058754, '696for954': 10.986495389225194, 'left': 4.382734953624112, 'alltime': 4.393450855082757, 'top': 2.2740644157484557, 'still': 2.700225936442129, 'first': 1.3912097427986205, 'are': 1.7719638126305435, 'writer': 2.511166401907656, 'which': 1.5348619340875385, 'made': 3.039772431005948, 'score': 3.9183233888371527, 'point': 3.4321605654994465, 'city': 1.7402088904755424, 'a': 0.03371510683549888, 'l': 3.969885705330975, 'whose': 3.276290194792662, 'by': 0.7491068241239475, 'floras': 9.04058524016988, 'native': 3.244961799943366, 'dickinson': 6.224321454427438, 'selection': 7.673157106186172, 'was': 0.4761947136731008, 'college': 1.5613662703175555, 'as': 0.2543390440248236, 'from': 0.29375533798563447, 'generals': 5.289401902719789, '195455': 7.728398851203712, 'double': 3.879889251497892, 'for': 0.29145011737314763, 'and': 0.0052160072863410975, 'behind': 3.26116535130806, 'about': 1.9265128988375737, 'play': 2.270287418073342, 'straight': 4.465874261666498, 'to': 0.1877797507271969, 'high': 3.813438774540256, 'throw': 5.38807343022682, '25': 2.7469019349192254, 'jersey': 7.112762501326787, 'on': 0.18441275335060037, 'wl': 17.57854162377795, 'virginia': 7.488826059936465, 'become': 2.4964678658817263, 'i': 4.806279991110577, 'time': 1.3253342074200498, 'new': 0.8871532656125274, 'guard': 4.556775911186057, 'accurate': 5.804711838933109, '696': 9.887883100557085, 'played': 6.181760801753935, 'former': 1.3573131120992086, 'born': 0.268196273764765, 'shooters': 7.37557747658097, 'lee': 3.5895467866041804, 'june': 1.9026256813029605, '12': 2.511583590065563, 'floraflora': 10.986495389225194, 'dom': 13.85210475735755, 'school': 1.2227872792173518, 'american': 1.1273777844250068, 'led': 2.2402561008421333, 'of': 0.03740558579200372, 'the': 0.0017268233237565267, 'university': 0.8473430048211847, 'william': 3.09180453879957, 'one': 1.8618614676174334, 'standout': 5.982549083279735, 'game': 2.4168995190159084, '1935': 4.759958719937729, 'sports': 3.001691999490788, 'is': 0.02761625047551999, 'at': 0.645957859962386, 'ended': 3.3430124821479934, 'shot': 11.780633282801434, 'player': 4.26880525149613, 'scorer': 4.831637295208776, 'bit': 5.4811638532928315, 'crisp': 7.520759486425468, 'throws': 5.949542786811565, 'defenses': 6.926052378678775, 'ballhandling': 9.377057476791094, 'all': 1.6431112434912472, 'flora': 40.34289307310327, 'an': 0.5964781781637942, 'helped': 2.9399460319421156, 'jump': 10.262846934045534, 'lexington': 6.259107570512853, 'prolific': 4.547145018125096, 'aggressive': 5.67822769182399, 'it': 1.3165805834938153, 'him': 3.1511686535743872, 'opposing': 5.518435248090063, 'average': 3.9106865252468075, 'tripleteamed': 10.293348208665249, '21': 2.797250863489293, 'points': 6.931437948324794, 'in': 0.006757844450850144, 'per': 3.8524016680323285, 'schoola': 8.683910296231149, 'his': 1.838280186495601, 'games': 2.2331239682242914, 'ability': 4.213415013569659, 'career': 3.9150810610247007, '195758': 14.862294655471562, 'he': 1.06684278829362, 'explosive': 6.509158574746988, 'able': 3.7487171973017515, 'dominick': 7.728398851203712, 'despite': 3.327324021559136, 'gasping': 9.600201028105303, 'being': 1.7938099524877322, 'basketball': 7.349218450296059, 'style': 3.202022153488725, 'back': 2.443829401835926, 'most': 1.4186204428983973, 'free': 5.913473737568744, 'division': 5.5812199958207955, 'price': 4.850930498143455, 'year': 2.684723274307979, 'ncaa': 8.108094995305372, 'history': 6.434273881873828, 'while': 1.8364359481339414, 'washington': 2.6391419771008557, 'conclusion': 5.215054266095178, 'located': 4.174150295047715, '201112': 5.469042492760487, 'season': 1.8875336052324008}, {'polytechnic': 5.137170609278335, 'computer': 3.5629269449660277, 'electrical': 4.738452514716765, 'emeritus': 4.047241443183686, 'currently': 1.637088969126014, 'sciences': 3.1600522537691806, 'mexico': 3.6417763350755217, 'cimat': 9.887883100557085, 'amsterdam': 4.5312968258850725, 'costa': 5.269467687818973, 'washington': 2.6391419771008557, 'appointments': 5.181360420308706, 'free': 2.956736868784372, 'temporary': 5.445231844066768, 'with': 0.20246864252206068, 'point': 3.4321605654994465, 'problems': 3.9200284190882364, 'operations': 3.811771079388818, 'san': 2.591243868614199, 'vietnam': 4.597933983679565, 'after': 0.9443334420013064, 'states': 1.824400329877006, 'new': 1.7743065312250548, 'flatbush': 8.501588739437194, 'us': 1.9319904488071395, 'tel': 5.437419304329975, 'studied': 2.2933341149871773, 'army': 6.87061704385809, 'residence': 4.6496696580787535, 'institute': 4.358645532616985, 'secretary': 2.9952414593849954, 'optimal': 7.094675091114568, 'preston': 5.592867842872833, 'military': 3.2789831946248538, 'for': 0.29145011737314763, 'leiden': 6.543844132734878, 'of': 0.07481117158400744, 'the': 0.0017268233237565267, 'benfords': 10.293348208665249, 'ma': 3.5077605636573193, 'at': 2.1531928665412865, 'is': 0.05523250095103998, 'technology': 5.821203517852674, 'stopping': 6.843360662833661, '1966': 3.087341905882097, 'hill': 3.794313330511949, 'ms': 4.24479469457314, 'york': 1.701047544762206, 'on': 0.36882550670120073, 'division': 2.7906099979103978, '28': 3.0552106276993034, 'known': 1.4457727152652031, 'research': 8.790388319521266, 'universityhe': 5.583818007352915, 'gauss': 9.04058524016988, 'west': 2.602605045123377, 'phd': 2.5603215961961254, 'obispo': 7.431147327735781, 'dubins': 10.293348208665249, 'december': 2.001425829579395, 'born': 0.268196273764765, 'academy': 4.710518963536593, 'particular': 3.836578553093086, 'law': 2.4538226269605703, 'probability': 6.943444121390644, 'captain': 3.6799639902856893, 'luis': 4.8401661315562965, 'engineering': 3.3507085278296103, 'natonsf': 10.293348208665249, 'and': 0.005961151184389826, 'theodore': 5.760748715511993, 'mexican': 4.418417477813218, 'divisionborn': 10.293348208665249, 'fair': 4.432561985199383, 'theory': 3.527156494004899, 'he': 0.640105672976172, 'united': 1.5679220786705559, 'in': 0.008688657151093043, 'advisor': 3.6213152632041816, 'his': 1.0504458208546292, '1943': 4.053072363494479, 'mathematical': 9.688915967275676, 'an': 0.5964781781637942, 'ranger': 6.241563260861944, 'serving': 2.8470548673505855, 'work': 2.7987275394509097, 'berkeley': 4.144879912747602, 'most': 1.4186204428983973, 'rica': 6.002888767516858, 'distinguished': 3.426414924203367, 'adjunct': 4.467348101284799, 'stanford': 4.109199317727766, 'theories': 5.262910287272813, 'graduate': 2.6750971107885535, 'university': 9.320773053033033, 'surviving': 5.713495830661447, 'american': 1.1273777844250068, 'school': 2.4455745584347035, 'hawaii': 4.806478735572622, 'as': 0.5086780880496472, 'combat': 4.932056042955824, 'engineers': 5.125709165759329, '25th': 5.17835289924475, 'infantry': 5.827440090010665, 'professor': 10.054326024673435, 'returned': 2.224475435663605, 'study': 2.82912494803842, 'mathematics': 12.702675039250355, 'spent': 2.418609083493439, 'gttingen': 21.223417151391146, 'aviv': 5.4811638532928315, 'fulbright': 9.975117654557023, 'to': 0.04694493768179923, 'scholar': 7.277103132153014, 'mathematician': 5.334006208956544, 'california': 4.691339274727364, 'under': 1.8347379746813095, 'centre': 3.0261717600763545, 'lester': 6.06651446339707, 'a': 0.005619184472583146, 'state': 1.7090572737165175, 'postdoctoral': 4.7540473726746715, 'fellow': 2.364041687151464, 'class': 3.280782565330767, 'career': 1.3050270203415668, 'georgia': 8.025904739410109}, {'neopagan': 9.19473591999714, 'rapova': 10.986495389225194, 'citizen': 4.332342869041976, 'russian': 3.7064871363410066, '2011': 1.7023470901042919, 'november': 1.9726566376168002, 'name': 2.433549028103139, 'did': 2.318987437150089, 'reasons': 4.763919121153825, 'legal': 3.4243337579995425, 'personal': 3.033177042664763, 'court': 2.896399606044235, 'prosecution': 5.457066301713771, 'gervaldass': 10.986495389225194, 'pending': 5.7770092363837735, 'drives': 6.464706812176154, 'gervaldason': 10.986495389225194, 'seized': 6.250296940830698, 'antisemitism': 6.7238155121838785, 'marriage': 4.115404094614648, 'preaching': 6.859361004180102, 'on': 0.36882550670120073, 'by': 0.37455341206197373, 'being': 1.7938099524877322, 'rituals': 6.892150827003094, 'investigation': 4.10816892093387, 'led': 2.2402561008421333, 'creation': 4.03568062078261, 'elections': 3.5191243223076345, 'municipal': 4.355812003582822, 'next': 2.670439668860552, '3': 2.3430220318986272, 'change': 3.553420040326614, 'up': 1.5635467678501844, 'encompass': 7.348909229498808, 'married': 2.327976261718522, 'its': 1.6875948402695313, 'him': 1.5755843267871936, 'workers': 4.436844646991384, 'hard': 4.057957571060529, 'unified': 5.982549083279735, 'called': 2.0784770664403074, 'political': 2.322262455159642, 'known': 1.4457727152652031, 'he': 0.640105672976172, 'lithuania': 12.381409687256907, 'council': 4.679708261244141, 'movement': 3.3449309479642224, 'city': 3.480417780951085, 'leader': 2.73196650728545, 'and': 0.004470863388292369, 'for': 0.29145011737314763, 'national': 5.930465823861956, 'one': 0.9309307338087167, 'sponsored': 4.439709978464671, 'compared': 4.806478735572622, 'municipality': 5.493433945884646, 'forces': 3.861212297714483, 'volunteer': 4.844457983637838, '16': 2.680270173193033, 'conditions': 4.8772478064608284, 'gervaldas': 32.95948616767558, 'so': 5.323833088176688, 'colleagues': 4.672947342948099, 'december': 2.001425829579395, 'which': 0.7674309670437692, 'made': 1.519886215502974, 'murza': 32.95948616767558, 'demanded': 6.00976164680462, 'born': 0.268196273764765, 'former': 2.714626224198417, 'at': 0.21531928665412867, 'is': 0.05523250095103998, 'year': 1.3423616371539895, 'his': 1.0504458208546292, 'members': 2.8274067345572838, 'politician': 2.6023765520342987, 'registration': 6.21581076475953, 'police': 3.4098856222521565, 'april': 3.9784489659834934, 'computers': 5.377023594040234, '2012': 1.7938099524877322, 'radical': 4.936761933993236, 'until': 1.7591012626831841, 'globalism': 9.600201028105303, 'refusedin': 10.293348208665249, 'eventually': 3.0940433457048417, 'nationalist': 5.67822769182399, '12': 2.511583590065563, 'iauliai': 18.75411495358219, 'using': 3.288012601344248, 'defence': 4.255477288743111, 'computer': 3.5629269449660277, 'antisemitic': 14.545846645041772, 'party': 14.124066920845335, 'neonazi': 7.489987827758714, 'organization': 2.8878525454657766, 'aims': 5.505856465883203, 'an': 0.2982390890818971, 'other': 1.4424007566948476, 'population': 4.850930498143455, 'of': 0.05403029058844982, 'the': 0.0011173562683130468, 'conducted': 3.8563968790996164, 'alliance': 7.986960532584468, 'out': 1.8484031814566355, 'socialist': 9.612957471145243, 'unity': 5.355283607403829, 'not': 1.5880170751336171, 'nationalistsocialist': 10.986495389225194, 'their': 1.5201958369931787, '1973': 2.808137223619358, 'publications': 3.253249742695399, 'a': 0.022476737890332586, 'government': 2.306673274360738, '1998': 2.0687826320938068, 'attacked': 5.493433945884646, 'allow': 4.788016672732886, 'from': 0.29375533798563447, 'voice': 3.2616069499021205, 'zlata': 9.600201028105303, 'poles': 6.642689967371511, 'zionism': 7.61919955923872, 'these': 2.5975902181104877, 'lithuanias': 8.789270811888976, 'carried': 4.651441137727136, 'minorities': 12.16244122157353, 'jews': 5.38807343022682, 'passed': 4.41002582017697, 'logic': 5.76613956414687, 'russians': 7.094675091114568, 'democratic': 3.1026721743330414, 'that': 1.3228138933429963, 'be': 2.8124960090831226, 'unbearable': 8.213906666985412, 'they': 1.8993401178193898, 'would': 4.273102323979196, 'time': 1.3253342074200498, 'new': 1.7743065312250548, 'nation': 3.9980822072256026, 'leave': 4.000853571585986, 'hatred': 6.892150827003094, '2001': 1.9280249665871378, 'attempted': 4.407244177215094, 'against': 2.0079609791418744, 'to': 0.42250443913619307, 'revive': 6.875621525051883, '19': 2.8848176417706224, 'statementsin': 10.986495389225194, 'life': 2.1907617832744593, 'moribund': 8.789270811888976, 'logikos': 10.986495389225194, 'prosecutors': 5.750053426395245, 'partija': 9.887883100557085, 'paramilitary': 6.9975113426609195, 'gyvenimo': 10.986495389225194, 'when': 1.3806055739282235, 'mindaugas': 49.43941550278542, 'was': 0.15873157122436693, '2005': 3.285172250655193, 'lithuanian': 38.22824923430361, 'member': 3.6612975378022155, 'in': 0.0028962190503643475, 'plans': 4.504918259948763, 'basis': 4.184100625900883, 'win': 2.5472637392786686, 'establish': 4.521907085535233}, {'out': 1.8484031814566355, '11': 2.5966811271387873, 'which': 0.7674309670437692, 'four': 1.922106072733316, 'bigleague': 7.248825770941826, 'final': 4.877933996025768, 'pirates': 5.046324136504762, 'don': 3.921736361433392, 'after': 0.9443334420013064, 'singled': 6.52058727057061, 'three': 1.4915025293575952, 'into': 1.6050629424066056, 'lateseason': 7.941972951501771, 'gamesin': 6.313666554763288, 'another': 2.603062187988481, 'regular': 2.918719193446304, 'pinch': 5.911321573991367, 'niekro': 8.789270811888976, 'pittsburgh': 4.245976029618971, 'phil': 4.3584540130456615, 'famer': 12.500593881661397, 'hall': 5.270713564278079, 'times': 2.1000862223759134, 'future': 6.5997481085611485, 'held': 2.1669778486203057, 'braves': 5.259647641637997, '16': 2.680270173193033, 'atlanta': 3.9450837254303837, 'against': 2.0079609791418744, 'later': 1.4294496043477696, 'days': 3.0398778259807213, 'started': 4.221298422973193, 'two': 4.395532743389425, 'stadiumhe': 8.907053847545358, 'cincinnati': 4.392081929475416, 'second': 5.017277494459604, 'rout': 8.421546031763658, 'off': 5.9938698797826575, 'gary': 4.004560712068805, 'doubled': 6.543844132734878, 'when': 1.3806055739282235, 'scored': 3.2294442471931806, 'hit': 8.925420840191727, 'balls': 5.592867842872833, 'first': 1.3912097427986205, 'collected': 9.19250944431969, 'game': 7.250698557047725, 'riverfront': 7.654290879049991, 'big': 2.940266288149817, 'those': 3.0921773253835703, 'third': 2.3506306680914584, 'bases': 4.943862555542813, 'dave': 4.006419448663431, 'may': 1.7899497282712007, 'on': 0.5532382600518011, 'june': 1.9026256813029605, 'early': 1.929422753652229, 'april': 1.9892244829917467, 'seven': 2.7917137507818355, 'total': 3.2767385247710297, 'appearing': 3.7487171973017515, 'robinson': 4.827400000733261, 'rarely': 5.653776595959825, 'trial': 3.737991316854584, 'his': 2.1008916417092585, 'between': 4.080501559789301, 'righthanded': 4.680220102277179, 'contract': 3.158855842858772, 'run': 5.574612060294253, 'batted': 13.533188017563313, 'threw': 4.501860153589942, 'beginning': 3.4285004306943883, 'for': 0.36431264671643454, 'montreal': 15.717833630109212, 'seasons': 2.6358291487042704, 'career': 1.3050270203415668, 'games': 11.165619841121456, 'expos': 33.44909602422093, 'september': 3.8023030148473933, 'stint': 4.119562104763312, 'nine': 6.524981465098257, 'played': 4.636320601315451, 'spent': 2.418609083493439, 'mlb': 18.750184569477007, 'and': 0.006706295082438554, 'reds': 5.1115646583731635, 'tall': 4.573036432057838, 'striking': 5.344588318287081, 'leagues': 3.8922605433004387, 'careerhigh': 5.782488702148399, 'at': 0.8612771466165147, 'is': 0.02761625047551999, 'doubleheader': 7.272923322520886, 'level': 3.2406271594329263, 'robert': 2.802818806604537, 'stood': 4.1122968937719, '190': 6.103693466638823, '1951': 3.7037342096196015, 'appearancereece': 10.986495389225194, '1978': 5.348720563153563, 'minor': 6.773186860033391, 'got': 3.2070284217668696, 'american': 2.2547555688500136, 'with': 0.8098745700882427, 'former': 1.3573131120992086, 'born': 0.268196273764765, 'system': 6.177654476996577, 'reece': 39.953815578356014, '1973': 2.808137223619358, 'ended': 3.3430124821479934, 'professional': 1.950151325296976, 'was': 0.31746314244873386, 'university': 0.8473430048211847, 'graduate': 2.6750971107885535, 'player': 4.26880525149613, 'baseball': 3.2740515549502045, 'a': 0.05619184472583146, 'international': 1.457919491753774, 'free': 2.956736868784372, 'he': 1.9203170189285161, '6': 2.5744405159322614, 'scott': 3.7898088183908443, 'january': 1.885412003185961, 'catcher': 16.09828357052413, '1975': 2.762331876587333, 'league': 10.428368921549833, 'association': 2.1546374540272892, 'the': 0.0025394460643478334, 'of': 0.06649881918578439, 'atbats': 6.09614626100344, 'relief': 4.4212304191898335, '7': 2.727813892960958, 'major': 4.116240258743127, 'stanford': 4.109199317727766, 'top': 2.2740644157484557, 'feet': 4.4212304191898335, '1981': 2.5978176200443843, '185': 5.827440090010665, '1': 2.0978765819243166, 'spend': 5.030658019760364, 'inch': 6.09614626100344, 'no': 2.396423552396384, 'years': 1.0752380994247055, 'pounds': 4.818978898336853, '86': 5.7290000171974125, 'signed': 5.0353049175000075, 'by': 1.1236602361859211, 'carter': 4.8596262051110095, '296': 7.322933743095548, 'bearsin': 9.377057476791094, 'as': 0.3815085660372354, 'tomlin': 8.501588739437194, 'playing': 2.0910027577735617, 'an': 0.2982390890818971, 'all': 1.6431112434912472, 'nondrafted': 8.588600116426823, 'agent': 3.752318209475346, 'reached': 3.500442771362054, '195': 6.486685718894929, '5': 2.4679031768952497, 'triplea': 4.939123210178916, 'in': 0.01255028255157884, 'kgreece': 10.986495389225194, 'm': 3.0903147806097033, 'member': 2.440865025201477, 'memphis': 5.0920925549603435, 'hitless': 7.431147327735781, 'end': 2.419560105914143, 'blues': 4.064837205074066, 'then': 2.861870872312261, '672': 9.887883100557085, 'during': 3.9523954437106488, 'season': 5.6626008156972025, 'weighed': 5.391784009623355, 'farm': 4.107139584764755, 'affiliate': 4.424051295531474, 'following': 1.9609195556941061, 'bats': 5.3200687011127625, 'pitcher': 4.107139584764755, 'would': 2.136551161989598, 'development': 2.3538329480028426, 'denver': 9.356793895431327, 'hits': 3.7189699613970224, 'bears': 5.017787829239828, 'or': 1.9128915408224825, 'parts': 4.083752652066601, 'six': 2.4538226269605703, '47': 5.224444006445018}, {'chads': 8.588600116426823, 'room': 4.31572906837932, 'masters': 2.9307029382474243, 'studying': 3.612493529875034, 'those': 3.0921773253835703, 'to': 0.04694493768179923, 'symbolism': 7.1363477875151355, 'undergraduate': 4.056000623273568, 'teaches': 7.542510820990193, '2003within': 10.986495389225194, 'barcelona': 4.6496696580787535, 'international': 1.457919491753774, 'modules': 7.272923322520886, '2004': 1.6903443608359008, 'conference': 6.081171581224123, 'was': 0.07936578561218346, '20002003': 6.926052378678775, 'theologyhe': 9.377057476791094, 'group': 1.9855189451548496, 'association': 2.1546374540272892, 'board': 2.219789391474679, 'boards': 3.993480266292234, 'editorial': 7.9165879143343805, 'christianityprofessor': 10.986495389225194, 'contemporary': 3.069687898287591, 'articles': 2.9787953763411688, 'taught': 2.8485149347730556, 'purityhe': 10.986495389225194, 'innerspeech': 10.986495389225194, 'sociological': 12.41474379222733, 'society': 4.8896094524171385, 'brief': 4.003632637756252, 'encyclopedia': 5.449161122206657, 'writings': 4.72309712663357, 'projects': 3.0071564939628668, 'current': 2.8308461188591933, 'large': 3.3560341274415673, 'yearhis': 7.272923322520886, 'title': 2.5500785078362447, 'anglican': 5.750053426395245, 'speaker': 3.580999726025722, 'cowrote': 4.353176955944817, 'anthropology': 10.28590194438767, 'guest': 3.134445181959305, 'james': 2.762331876587333, 'cover': 3.7092476625937105, 'interests': 3.804903444613329, 'funerary': 9.887883100557085, 'mormonism': 8.347438059609935, 'federation': 3.870101245131729, 'sweden': 4.139552249639815, 'cremation': 27.58420775999142, 'an': 0.5964781781637942, 'rites': 7.225295273531632, 'for': 0.07286252934328691, 'expertise': 4.866197970274244, 'university': 5.0840580289271085, 'one': 0.9309307338087167, 'johns': 4.304386791775386, 'published': 1.9250031139854273, 'death': 12.627460000300006, 'sociology': 4.70797396505935, 'surrounding': 5.089341521588453, 'department': 2.3398541306220704, 'his': 0.7878343656409719, 'around': 2.637957563839097, 'three': 1.4915025293575952, 'leadershipborn': 9.600201028105303, 'douglas': 4.558390116540598, 'davies': 11.21319607136947, 'awarded': 2.354189390708452, 'is': 0.08284875142655997, 'at': 1.0765964332706432, 'include': 4.349090423370428, 'study': 8.48737484411526, 'then': 1.4309354361561304, 'history': 4.289515921249219, 'belief': 16.335695532200305, 'scandinavian': 6.332535039067671, '1947': 3.756656611073944, 'professor': 2.010865204934687, 'book': 2.002804707892509, 'research': 2.1975970798803166, 'bachelor': 3.357491499572237, 'rituals': 6.892150827003094, 'master': 3.1224597301527437, 'fields': 4.109199317727766, 'st': 5.02274994846173, 'he': 1.493579903611068, 'beliefs': 5.827440090010665, 'involved': 2.674114792438443, 'british': 6.714095277849417, 'theology': 18.22065722916686, 'common': 4.245976029618971, 'including': 1.2272824458461182, 'conferences': 4.216853412372691, 'booksellerdiagram': 10.293348208665249, 'also': 1.8509083664649395, 'authority': 3.959180875185418, 'read': 4.099963746694684, 'two': 1.0988831858473562, 'shaw': 5.505856465883203, 'senior': 2.2990532222492712, 'globe': 4.144879912747602, 'degrees': 3.774938655911393, 'prayer': 5.911321573991367, 'durham': 20.847775374723145, 'college': 3.122732540635111, 'graves': 6.642689967371511, '19402000': 10.986495389225194, 'before': 1.4967823726683713, 'achieved': 3.692118089936373, 'popular': 2.764478952022998, 'of': 0.08312352398223048, 'the': 0.0018284011663304402, 'doing': 3.9707829687379648, 'phd': 2.5603215961961254, 'reusing': 9.600201028105303, 'report': 3.7697859025157365, 'nottingham': 5.323534909089249, 'degree': 2.0206498944742566, 'religion': 21.825448687305297, '1995': 2.222129668695386, 'both': 3.3461141184908887, 'chairman': 2.6337052541005668, 'from': 0.29375533798563447, 'doctor': 3.608736480997322, 'a': 0.02809592236291573, 'and': 0.014902877960974566, 'letters': 4.370430204092377, 'oxford': 3.550467572873346, 'wales': 3.683325337988394, 'doctorate': 3.6866980224670334, 'identity': 4.569763106712868, 'has': 1.285492619232117, 'arts': 2.183972890940773, 'won': 1.3836400683164753, 'mortality': 7.115294378317303, 'ritual': 19.055299202986674, 'prize': 2.7453192387302345, 'recently': 2.6417526348076485, 'oddest': 9.600201028105303, 'been': 1.954954670959205, 'honorary': 3.3890990690123997, 'uppsala': 6.567654781428597, 'number': 2.12302108305424, 'old': 2.905638969584208, 'on': 0.5532382600518011, 'member': 1.2204325126007385, 'in': 0.006757844450850144, 'attitudes': 6.323056295113127, 'which': 0.7674309670437692, 'clergy': 6.497859019493054, 'with': 0.40493728504412135, 'various': 2.3663846638022705, 'born': 0.268196273764765, 'alastair': 7.0162034756730725}, {'khler': 9.19473591999714, 'president': 1.8067173228316515, 'federal': 3.0888272384982884, 'ribbon': 6.381325203237103, 'bundesverdienstkreuz': 8.588600116426823, 'also': 0.4627270916162349, 'year': 1.3423616371539895, 'arizonain': 9.04058524016988, 'cross': 3.899757454714617, 'lowell': 6.224321454427438, 'station': 3.5755435136415574, 'anderson': 4.532870390332502, 'bowell': 9.887883100557085, 'e': 3.635337162794501, 'which': 0.7674309670437692, '3859': 10.986495389225194, 'choice': 4.077740609909974, 'human': 2.897933583948961, 'international': 1.457919491753774, 'reputation': 4.319538596795987, 'great': 2.7682474625394486, 'interestfreimut': 10.986495389225194, 'document': 5.535456935659494, 'suppression': 7.431147327735781, 'religious': 4.021415043623787, 'nazi': 5.755386772370608, 'references': 5.653776595959825, 'community': 2.693196030513871, 'astronomers': 7.990763115671204, 'honoured': 10.572103631669016, 'times': 2.1000862223759134, 'resistance': 5.309741586956912, 'namings': 9.887883100557085, 'other': 1.4424007566948476, 'cultural': 3.3132722681034856, 'systematically': 7.322933743095548, 'discovered': 8.199927493389367, 'him': 1.5755843267871936, 'freelancer': 7.094675091114568, 'byproduct': 8.421546031763658, 'haydn': 6.696035948076803, 'work': 2.7987275394509097, 'retired': 2.359013843914834, 'bande': 8.789270811888976, 'or': 5.738674622467448, 'mesa': 6.464706812176154, 'wrongly': 7.248825770941826, 'germany': 3.0033964485143017, 'during': 1.3174651479035495, 'horst': 7.348909229498808, 'fighters': 5.708380729994677, 'tautenburg': 21.972990778450388, 'numerous': 2.4220370053418425, '1995': 2.222129668695386, 'himself': 2.8194272108839566, 'in': 0.003861625400485797, 'freimuthhe': 10.986495389225194, 'schwarzschild': 9.887883100557085, 'observatory': 18.940999664289865, 'july': 1.9428000946579587, 'amateur': 3.713402793225672, 'a': 0.02809592236291573, 'small': 3.140296573727769, 'considered': 3.150520807503628, 'thuringia': 8.278445188122983, 'schmidt': 6.199003646443148, 'merit': 4.525027212871477, 'at': 0.645957859962386, 'is': 0.02761625047551999, 'achieved': 3.692118089936373, '1930': 4.918069800981084, 'give': 3.978894775273341, 'search': 4.389349687338543, 'not': 1.5880170751336171, 'telescope': 6.669007275688884, '17': 2.7543211528412543, 'against': 2.0079609791418744, 'to': 0.23472468840899613, 'as': 0.7630171320744707, 'astronomer': 6.555678590381881, 'scientific': 7.349218450296059, 'galaxies': 7.348909229498808, 'october': 1.9182947844101343, 'of': 0.02078088099555762, 'the': 0.0016252454811826135, 'german': 9.75843545534788, 'his': 1.3130572760682866, 'few': 3.0010110324913715, 'by': 1.1236602361859211, 'he': 0.853474230634896, 'topics': 4.279633052622447, 'with': 0.40493728504412135, 'first': 0.6956048713993103, 'examples': 5.648957309523876, 'born': 0.268196273764765, 'ahnert': 10.986495389225194, 'has': 1.285492619232117, 'jensch': 10.986495389225194, 'brngen': 43.945981556900776, 'and': 0.002980575592194913, 'historical': 3.80718741972116, 'freimut': 10.986495389225194, 'asteroids': 22.755894022689116, '2006': 3.041475810769012, 'research': 4.395194159760633, 'on': 0.36882550670120073, '3181': 10.986495389225194, 'had': 1.177428412308558, 'done': 3.8676691401631165, 'awarded': 2.354189390708452, 'famous': 3.2150066291075783, 'spare': 5.718637230161866, '519': 7.941972951501771, 'studied': 2.2933341149871773, 'managers': 5.449161122206657, 'geographical': 6.27696518791286, 'time': 1.3253342074200498, 'was': 0.2380973568365504, 'regime': 4.8683981911838465, 'prestigious': 3.6263914162360424, 'asteroid': 7.054669756500869, 'enough': 4.154541823659339, 'karl': 5.081133541170624, '2424': 10.986495389225194, 'gdr': 15.041518972850936, 'name': 2.433549028103139, 'restricted': 6.224321454427438, 'am': 3.7920585381248597, 'wellsubstantiated': 10.986495389225194, 'reunification': 6.892150827003094, '3245': 10.986495389225194, 'politically': 5.202670206895457, 'objects': 5.160495281844744, 'include': 4.349090423370428, 'continues': 3.3444509863519367, 'neutral': 6.7380001471758355, 'for': 0.29145011737314763, 'such': 1.763337513538397, 'be': 1.4062480045415613, 'related': 3.723866788250953, 'qualities': 6.166213823620158, 'scientists': 4.934406220300778, 'composers': 4.295653111806631, 'sources': 4.8596262051110095, '3941': 10.986495389225194, 'iau': 8.421546031763658, 'after': 0.9443334420013064, 'but': 1.313994565464302, 'names': 13.773701373329235, 'chose': 4.3414044197195505}, {'paul': 5.548396501990852, '8': 2.7572509724892824, 'called': 2.0784770664403074, 'cd': 3.769051957528662, 'on': 0.36882550670120073, 'ensemble': 4.052098179296636, 'german': 3.2528118184492936, 'groupe': 7.431147327735781, 'with': 0.20246864252206068, 'international': 1.457919491753774, 'hokuto': 10.293348208665249, 'ombre': 9.377057476791094, 'e': 3.635337162794501, 'luci': 9.19473591999714, 'litteri': 10.986495389225194, 'requiem': 6.174311033852777, 'silesius': 10.293348208665249, 'angelus': 8.683910296231149, 'include': 2.174545211685214, 'most': 1.4186204428983973, 'among': 2.299897032948229, 'works': 2.214349949980095, '100': 2.9741457498974, 'more': 1.673778950632145, 'cs': 7.0162034756730725, 'boulez': 7.157853992736099, 'pierre': 4.86181199833099, 'webern': 9.19473591999714, 'composed': 3.9268777609338112, 'anton': 5.868501576808439, 'composers': 4.295653111806631, 'by': 0.37455341206197373, 'influenced': 4.199778438620113, 'klee': 16.843092063527315, 'un': 4.379845203026979, 'competition': 3.0047621025333084, 'sortisatio': 10.986495389225194, 'brahms': 6.422147197757358, 'johannes': 6.088655589274283, 'sacred': 5.202670206895457, 'fribourg': 7.585298007563039, 'cantata': 7.115294378317303, 'du': 4.286995049063516, 'musique': 5.8565966743021205, 'jury': 4.329768865046803, 'honor': 3.850012180634947, 'argentinahe': 8.789270811888976, 'as': 0.3815085660372354, 'college': 1.5613662703175555, '1973': 2.808137223619358, 'compositions': 4.3624301614253005, 'holds': 2.8415259721373194, 'master': 6.244919460305487, 'research': 2.1975970798803166, 'famous': 3.2150066291075783, 'festival': 7.744726320875228, 'for': 0.07286252934328691, 'john': 1.9913303989140443, 'such': 1.763337513538397, '10': 2.3157231098806563, 'rptiteur': 9.887883100557085, 'variously': 6.655762048938863, 'conductor': 13.24263853959356, 'was': 0.4761947136731008, 'studied': 2.2933341149871773, 'founding': 3.09703623982067, 'heidelberg': 5.982549083279735, 'foundationfrom': 9.600201028105303, 'university': 2.5420290144635542, 'cagehe': 10.986495389225194, 'gdanskbrm': 10.986495389225194, 'philharmonie': 7.297615935111258, 'of': 0.08727970018134201, 'the': 0.002641023906921747, 'institute': 2.1793227663084926, 'conservatoire': 5.625203223515769, 'berkeleyfrom': 10.293348208665249, 'slovakia': 6.259107570512853, 'is': 0.11046500190207996, 'at': 0.645957859962386, 'rector': 5.4852371786804675, 'conducting': 4.596254722159845, 'pardubice': 8.683910296231149, 'concours': 7.272923322520886, 'republic': 3.4165677339825424, 'then': 1.4309354361561304, 'conductorbrm': 10.986495389225194, 'lacroix': 8.588600116426823, 'aspen': 5.693190564500702, 'schatt': 10.986495389225194, 'a': 0.06181102919841461, '1944': 4.044338683525725, 'swiss': 14.565806699226162, 'head': 2.464115671121657, 'april': 1.9892244829917467, 'his': 0.2626114552136573, 'music': 12.549548608814243, 'brm': 9.04058524016988, 'de': 7.1197950288360445, 'musicology': 6.323056295113127, 'chief': 2.552031845407953, 'thring': 10.986495389225194, 'city': 1.7402088904755424, 'suissebrm': 10.986495389225194, 'and': 0.011177158470730924, 'musicales': 7.690658523220865, 'director': 1.6150570969066835, 'from': 1.7625320279138068, 'than': 2.0650378102773113, 'academy': 4.710518963536593, 'piano': 3.6534723748387132, 'to': 0.32861456377259457, 'high': 1.906719387270128, 'painter': 4.267482234839934, 'pieces': 4.110230777334428, 'school': 2.4455745584347035, 'conservatory': 4.293171720955246, 'des': 4.127930354433829, '1987': 7.450811947559449, 'regular': 2.918719193446304, 'arts': 2.183972890940773, 'choir': 4.857445179164649, 'curtis': 5.299520032885375, '2000': 1.8763068991994527, 'science': 2.3447863231113892, 'president': 1.8067173228316515, 'board': 4.439578782949358, '1999': 3.9936033767292685, 'lucerne': 13.311524097877726, '2001': 1.9280249665871378, '2006': 3.041475810769012, 'composition': 8.067533489200652, 'worked': 3.107783706724218, 'association': 2.1546374540272892, 'born': 0.268196273764765, 'europenne': 8.907053847545358, 'junge': 7.941972951501771, 'california': 2.345669637363682, 'basel': 23.45012563928774, 'council': 2.3398541306220704, 'classes': 4.318267140807791, 'composer': 6.458033245282031, '1984': 2.5258725492973513, '1990': 2.3683714792305164, 'jeunesses': 8.588600116426823, 'in': 0.005792438100728695, 'member': 4.881730050402954, 'zentralschweiz': 10.986495389225194, 'regio': 7.941972951501771, 'he': 2.13368557658724, 'binningenbasel': 10.986495389225194, 'graduated': 2.2579073935292953, 'gave': 3.274946409596048, 'guest': 6.26889036391861, 'chamber': 7.270674325589002, 'national': 1.1860931647723914, 'philharmonic': 4.3811974682769925, 'czech': 4.7136183826790266}, {'ideology': 6.166213823620158, 'student': 3.095538673086275, 'greatwood': 10.986495389225194, 'mexicomarcus': 10.986495389225194, 'caicos': 8.683910296231149, 'turks': 7.728398851203712, 'instructor': 4.153463656438993, 'aida': 6.655762048938863, 'quotes': 6.642689967371511, 'egypt': 5.012685777355933, '2001': 1.9280249665871378, 'corps': 4.476237048702044, 'finally': 3.813303646738596, 'westbourne': 9.887883100557085, 'attended': 2.2859811406819186, 'returned': 2.224475435663605, '1941': 4.236564195436625, '1997': 2.1298344522079455, 'pennsylvania': 3.677952591686004, 'friends': 3.5987861501441536, 'sussex': 5.4811638532928315, 'india': 3.443222042519748, 'early': 1.929422753652229, 'us': 1.9319904488071395, 'trained': 3.6340542889816114, 'members': 2.8274067345572838, 'changed': 3.9725799144146667, 'hc': 6.475635882708344, 'coldstream': 9.19473591999714, 'freediver': 9.19473591999714, 'harrow': 6.943444121390644, 'mother': 3.112517009620693, 'wellington': 5.497557663068508, 'chapel': 5.358874275534557, 'intelligence': 4.254284682757988, 'as': 0.5086780880496472, 'foundation': 2.714435767014782, 'viii': 6.752388884627935, 'at': 0.21531928665412867, 'is': 0.05523250095103998, 'system': 3.0888272384982884, 'separated': 5.76613956414687, 'brokerage': 7.322933743095548, 'kingdom': 3.7280832386298877, 'the': 0.0022347125366260936, 'of': 0.03740558579200372, 'simpson': 33.16145925048621, 'then': 2.861870872312261, 'only': 1.819375719703575, 'with': 0.6074059275661821, 'child': 9.83425416590348, 'ne': 4.553555296486015, 'baptised': 8.683910296231149, 'to': 0.1408348130453977, 'aharon': 18.08117048033976, 'husband': 3.7092476625937105, 'record': 2.1528869065343033, 'same': 2.2492032766809724, 'train': 4.503388037767995, 'both': 1.6730570592454443, 'son': 5.152438960310069, 'spence': 7.37557747658097, '1962': 3.2103799121264522, 'ibiza': 7.054669756500869, '27': 3.110616229728885, 'name': 2.433549028103139, 'kirk': 5.982549083279735, 'ferreras': 10.293348208665249, 'solomons': 78.9545293586688, 'mt': 11.873278763951314, 'ten': 2.9294347072594293, '1946': 3.8033836874819134, 'shipping': 6.304364162100975, 'aldrich': 7.520759486425468, '2008': 1.5093391374786154, '1939': 4.378494763929107, 'no': 2.396423552396384, '1958': 3.4175997258181985, 'school': 2.4455745584347035, 'best': 1.5336010724149785, 'cuba': 5.005081177970713, 'b': 10.034792843892667, '1992': 2.278351314316948, 'born': 0.268196273764765, 'former': 2.714626224198417, 'september': 3.8023030148473933, '1960': 3.2957522256833225, 'teach': 4.564873121418676, 'uk': 8.371829993731193, 'national': 1.1860931647723914, 'house': 2.325548234164261, 'childhood': 4.128981326679804, 'spent': 2.418609083493439, 'a': 0.022476737890332586, 'wallis': 7.895452935866879, 'joined': 1.9082017981693435, 'inducted': 3.6213152632041816, 'young': 2.4099018545275093, 'his': 2.626114552136573, 'third': 2.3506306680914584, 'london': 2.219789391474679, 'pinna': 10.986495389225194, 'eilat': 8.588600116426823, 'later': 1.4294496043477696, 'huntemuller': 10.986495389225194, 'officer': 2.92690306033765, 'guards': 12.104042912189005, 'wife': 5.367963341422074, 'mary': 7.60373247301576, 'settlements': 6.908957945319475, 'in': 0.02606597145327913, 'henry': 7.907742256394376, 'together': 2.8423969258866704, 'were': 1.521978023354629, 'trainers': 6.7238155121838785, 'father': 7.6159568278312495, 'was': 0.3968289280609173, 'micronesia': 8.09612363132903, 'married': 6.983928785155566, 'francisco': 3.2563205939789728, 'zeev': 8.789270811888976, 'partner': 3.4248536436364145, 'lived': 3.378120914844411, 'and': 0.018628597451218205, 'raffray': 10.986495389225194, 'firm': 3.3971595660545773, 'switzerlandin': 8.588600116426823, 'but': 1.313994565464302, '1965the': 10.293348208665249, '1957': 3.520840079091138, 'edward': 3.876615926152923, 'england': 5.293511246412102, 'time': 1.3253342074200498, 'scuba': 7.0744723837970485, 'into': 1.6050629424066056, 'regiment': 5.930249583876886, 'east': 2.8400760661271907, 'who': 0.9098952189804214, 'from': 0.29375533798563447, 'le': 4.078740110243057, 'institut': 5.713495830661447, 'commissioned': 3.9636273031425526, 'two': 1.0988831858473562, 'moved': 2.0172079891067893, 'work': 1.3993637697254548, 'israeli': 9.44619425326714, '196768': 6.752388884627935, 'year': 1.3423616371539895, 'sinai': 6.9975113426609195, 'defense': 3.794313330511949, 'action': 3.467888172409942, 'on': 0.5532382600518011, 'united': 1.5679220786705559, 'golan': 8.347438059609935, 'israel': 8.159481221153282, 'heights': 5.399246730824944, 'years': 3.2257142982741165, 'association': 2.1546374540272892, '1973': 2.808137223619358, 'barracks': 7.054669756500869, 'joy': 5.313172122053702, 'forces': 3.861212297714483, 'another': 2.603062187988481, 'fathers': 4.4897203990393315, 'corisande': 10.986495389225194, 'he': 1.706948461269792, 'him': 1.5755843267871936, 'aharons': 21.972990778450388, '1998': 2.0687826320938068, 'jackson': 4.197523646233024, '25': 2.7469019349192254, 'freedivingsolomons': 10.986495389225194, 'an': 0.2982390890818971, '22': 2.83833894930357, '2010': 1.5928339601219734, 'they': 1.8993401178193898, 'saw': 3.4321605654994465, 'communal': 6.6170475367581725, 'served': 1.5362723499305253, 'had': 2.354856824617116, 'sons': 3.8620171267317702, 'uri': 7.402976450769084, 'agricultural': 5.041074780618619, 'nadav': 10.986495389225194, 'limits': 5.299520032885375, 'for': 0.21858758802986072, 'rosh': 8.213906666985412, '1932': 4.936761933993236, '1975': 2.762331876587333, 'second': 1.6724258314865346, 'april': 1.9892244829917467, 'traveled': 4.392081929475416, 'holderborn': 10.986495389225194, 'greece': 9.267731985811256, 'mexico': 3.6417763350755217, 'settled': 4.687546142369252, 'taught': 2.8485149347730556, 'where': 2.178152424181346, 'many': 1.639964662798746, 'known': 1.4457727152652031, 'met': 3.361876403065796, 'pipin': 10.986495389225194, 'ernest': 22.40800130574442, 'middle': 3.5105894198577974, 'constant': 5.501698455734539, 'weight': 5.237102403316941, 'died': 7.648195783738953, 'disciplines': 5.663485410086786, 'rosey': 8.588600116426823, 'mariateresa': 10.986495389225194, 'are': 3.543927625261087, '1964': 3.06677562830062, 'currently': 1.637088969126014, 'freedivers': 10.986495389225194, 'freediving': 18.38947183999428, 'team': 3.464084885261381}, {'four': 1.922106072733316, 'boys': 3.9073109946155262, 'wife': 2.683981670711037, 'their': 1.5201958369931787, 'jersey': 3.5563812506633936, 'teaneck': 7.61919955923872, 'resides': 3.627027750969573, 'californiaweil': 10.986495389225194, 'southern': 3.1528951655640904, 'fundraiser': 6.250296940830698, 'successful': 2.679282762596886, 'endowment': 4.8596262051110095, '750': 6.875621525051883, 'over': 1.4878231559557336, 'fund': 3.882351296237667, 'by': 0.37455341206197373, 'township': 5.579323617765075, 'girls': 3.986160928949964, 'govoha': 10.986495389225194, 'medrash': 9.19473591999714, 'leaders': 3.8741679445142827, 'jerseyin': 8.153282045168979, 'with': 0.6074059275661821, 'term': 3.1064471882536173, 'committee': 2.468102917233475, 'worked': 3.107783706724218, 'education': 2.4487155642005685, 'jewish': 4.181880869162571, 'advocating': 5.760748715511993, 'a': 0.011238368945166293, 'elchanan': 8.789270811888976, 'ohr': 8.683910296231149, 'who': 0.9098952189804214, 'yael': 8.789270811888976, 'schwarzenegger': 7.0744723837970485, 'university': 1.6946860096423695, 'businessweil': 10.986495389225194, 'lakewood': 7.728398851203712, 'young': 2.4099018545275093, 'from': 0.29375533798563447, 'public': 2.029113653642407, 'while': 1.8364359481339414, 'byavneh': 10.293348208665249, 'kerem': 9.04058524016988, 'invocations': 9.887883100557085, 'and': 0.008941726776584738, 'across': 3.180613348996573, 'affairs': 2.9405866469544146, 'upstate': 6.351766400995558, 'the': 0.0007110448980173934, 'of': 0.02078088099555762, 'masters': 2.9307029382474243, 'york': 5.103142634286618, 'up': 1.5635467678501844, 'at': 0.43063857330825733, 'is': 0.02761625047551999, 'rabbi': 23.957132461844317, 'has': 1.713990158976156, 'cattle': 6.555678590381881, 'weil': 14.920269729218067, 'congregations': 14.109339513001737, 'steven': 4.3584540130456615, 'strongly': 4.925038470297177, 'theological': 4.92971137599657, 'h': 7.893670078726237, 'in': 0.009654063501214493, 'closely': 4.591233791109745, 'yeshivat': 8.501588739437194, 'arnold': 5.154612911941677, 'attended': 2.2859811406819186, 'new': 4.435766328062637, '250': 5.187402734764668, 'synagogues': 8.09612363132903, 'his': 0.5252229104273146, 'business': 2.3749015223874728, 'dick': 4.577966598165696, 'families': 8.988511108409446, 'ordained': 4.577966598165696, 'jimmy': 4.254284682757988, 'seminary': 4.785986215182504, 'torah': 7.115294378317303, 'earned': 2.3840423538581335, 'as': 0.2543390440248236, 'an': 0.2982390890818971, 'administration': 3.2952952917023315, 'then': 1.4309354361561304, 'isaac': 5.782488702148399, 'he': 1.493579903611068, 'oak': 5.557149760270754, 'park': 3.199528386610323, 'michigan': 3.6606878866294212, 'beth': 17.448034182561127, 'american': 2.2547555688500136, 'school': 2.4455745584347035, 'jacob': 11.045327168399169, 'yeshiva': 6.7238155121838785, 'expanded': 4.547145018125096, 'on': 0.18441275335060037, 'hills': 9.44619425326714, 'three': 1.4915025293575952, 'programming': 4.613175599648182, 'california': 2.345669637363682, 'stern': 5.570394987020774, 'israel': 16.318962442306564, 'stephen': 3.8125370694684007, 'considered': 3.150520807503628, 'substantially': 6.781802769834228, 'increased': 14.250377397064469, 'currently': 1.637088969126014, 'membership': 9.356793895431327, 'grew': 2.9691878815366133, 'farm': 4.107139584764755, 'delivered': 4.920387299121447, 'for': 0.14572505868657382, 'most': 1.4186204428983973, 'congregation': 11.458000034394825, 'delshad': 10.986495389225194, 'president': 3.613434645663303, 'both': 1.6730570592454443, 'george': 2.7958637083216553, 'w': 3.6528189935675104, 'was': 0.15873157122436693, 'beverly': 10.970474357360935, 'mayors': 5.713495830661447, 'cheney': 7.520759486425468, 'country': 2.6743602815767815, 'governor': 3.394129260705398, 'bush': 4.170855399150863, 'served': 1.5362723499305253, 'vice': 3.0711472199621164, 'internationally': 3.60748726159689, 'visiting': 3.407327421829118, 'to': 0.04694493768179923, 'high': 1.906719387270128, 'became': 1.3300599330549516, 'scholar': 3.638551566076507, 'webb': 6.088655589274283, 'residence': 4.6496696580787535}, {'inside': 4.186325320922995, 'songs': 2.9508926963066124, 'siren': 7.402976450769084, 'distracted': 8.683910296231149, 'become': 2.4964678658817263, 'not': 1.5880170751336171, 'your': 3.7127090713802997, 'foremost': 5.4811638532928315, 'first': 0.6956048713993103, 'successful': 2.679282762596886, 'be': 1.4062480045415613, 'board': 2.219789391474679, 'candidates': 4.464402591055042, 'with': 0.20246864252206068, 'beltway': 8.789270811888976, 'heard': 4.072758038565509, 'time': 1.3253342074200498, 'on': 0.36882550670120073, 'come': 3.672608557591732, 'would': 2.136551161989598, 'so': 2.661916544088344, 'candidate': 3.1473637409508615, 'karls': 8.907053847545358, 'for': 0.07286252934328691, '2010': 1.5928339601219734, '1958': 3.4175997258181985, '2007in': 5.663485410086786, 'july': 3.8856001893159173, 'that': 0.6614069466714981, 'meeting': 4.01858618742331, 'victory': 3.384593429350028, 'committee': 4.93620583446695, 'chosen': 3.80186623650788, 'as': 0.5086780880496472, 'job': 3.446936559924164, 'to': 0.1408348130453977, 'all': 3.2862224869824943, '6925': 10.986495389225194, '1': 2.0978765819243166, 'since': 1.455376717308041, 'retirement': 3.2137426727564526, 'setting': 4.359777639976169, '2007s': 7.520759486425468, 'letter': 4.604679371819096, 'he': 0.640105672976172, 'october': 1.9182947844101343, 'led': 2.2402561008421333, 'single': 2.887244827428234, 'figure': 3.950346895474658, 'ken': 4.501860153589942, 'at': 0.21531928665412867, 'is': 0.05523250095103998, '24': 2.8790765775052196, 'former': 1.3573131120992086, 'born': 0.268196273764765, 'gary': 4.004560712068805, 'know': 4.168664817771044, 'office': 2.6240864116098233, 'serving': 2.8470548673505855, 'every': 3.306319748788604, 'political': 2.322262455159642, 'finally': 3.813303646738596, 'a': 0.03371510683549888, 'marginin': 9.04058524016988, 'statewide': 5.574849337370154, 'partys': 4.346619555398658, 'by': 1.1236602361859211, 'in': 0.005792438100728695, 'national': 1.1860931647723914, 'thingit': 10.986495389225194, 'of': 0.024937057194669147, 'the': 0.0017268233237565267, 'significantly': 5.544077678703401, 'fargo': 7.035251670643767, 'north': 9.728796439429818, 'won': 1.3836400683164753, 'us': 5.795971346421418, 'state': 5.1271718211495525, 'margin': 4.8168846567337384, 'election': 5.14178410714118, 'lead': 2.7774591234501234, 'chairman': 13.168526270502834, 'republican': 18.018744697431412, '3512': 9.600201028105303, 'including': 1.2272824458461182, 'dakota': 22.75271209070863, 'about': 3.8530257976751474, 'majorities': 8.421546031763658, 'wasnt': 5.078412451056264, 'and': 0.004470863388292369, 'senator': 3.9056274925344123, 'director': 3.230114193813367, 'during': 1.3174651479035495, 'station': 3.5755435136415574, 'republicans': 11.185735685745666, 'his': 0.2626114552136573, 'terms': 3.8240978918694766, 'members': 2.8274067345572838, 'increased': 4.75012579902149, 'representative': 3.4544072456834716, 'legislature': 4.474750059580466, 'getting': 4.301883661557267, 'party': 9.41604461389689, 'place': 2.5222811225998436, 'currently': 1.637088969126014, 'both': 3.3461141184908887, 'house': 2.325548234164261, 'exactly': 5.923900356198227, 'senate': 3.3880960599012306, 'wrote': 2.545535503808546, 'was': 0.15873157122436693, 'finance': 7.385595337247514, 'executive': 2.4958515330424933, 'into': 1.6050629424066056, 'houses': 4.740388623743631, 'learned': 4.275972279772766, 'i': 2.4031399955552883, 'rolling': 4.8401661315562965, 'emineth': 10.986495389225194, 'one': 0.9309307338087167, 'me': 3.227734845067532, 'it': 1.3165805834938153, 'train': 4.503388037767995, 'pieces': 4.110230777334428, 'description': 5.949542786811565, 'their': 1.5201958369931787, 'wheels': 6.592046234552756, 'motion': 4.260261986866447}, {'pieces': 4.110230777334428, 'films': 2.78045762644638, 'own': 2.269959656680699, 'frontline': 13.476000294351671, 'outstanding': 3.383594927020439, 'emmy': 4.226080698141766, 'news': 2.822839213056762, '2009': 1.5644364836042695, 'international': 1.457919491753774, 'hot': 4.097922929659831, 'was': 0.15873157122436693, 'television': 2.00180169878134, 'bitter': 6.016682089649193, 'sometimes': 4.078740110243057, 'cynical': 7.585298007563039, 'leaving': 3.3202734635624696, 'men': 3.721765211295327, 'young': 2.4099018545275093, 'idealistic': 8.213906666985412, 'one': 0.9309307338087167, 'year': 1.3423616371539895, 'soldiers': 5.181360420308706, 'unique': 4.030902780828897, 'la': 2.801702735060116, 'aka': 4.654993539331503, 'individual': 3.825649482560895, 'platoon': 13.311524097877726, 'cinematography': 6.332535039067671, 'white': 6.394909975135435, 'spend': 5.030658019760364, 'named': 2.0300155412252816, 'released': 2.0078348995855078, 'west': 2.602605045123377, 'unrest': 6.752388884627935, 'civil': 3.3244978303233013, 'pacific': 3.8660510168327065, 'australian': 2.8766691132067175, 'south': 2.2386667807364518, 'issues': 3.0010110324913715, 'banff': 6.332535039067671, 'on': 0.36882550670120073, 'paris': 3.190026146139137, 'iraq': 17.747378587965535, 'canal': 6.0520214560945025, 'afghanistan': 9.4197037997671, '1976': 2.71622627778857, 'awarded': 2.354189390708452, 'festival': 2.5815754402917426, 'along': 2.5088749729287803, 'were': 1.521978023354629, 'known': 1.4457727152652031, 'maker': 5.227593615347914, 'based': 2.299897032948229, 'kurdish': 6.682430296021025, 'he': 1.280211345952344, 'melbourne': 3.8914310119380633, 'festivalin': 6.158181651922893, 'papua': 6.158181651922893, 'as': 0.5086780880496472, 'cameraman': 6.752388884627935, 'best': 3.067202144829957, 'briefinghe': 10.293348208665249, 'israel': 4.079740610576641, 'had': 1.177428412308558, 'maldavsky': 10.986495389225194, 'july': 1.9428000946579587, 'veterans': 4.982608322118655, 'network': 3.154481208719725, '2002': 1.8753125887822302, 'then': 1.4309354361561304, 'frontlinein': 10.986495389225194, 'currently': 1.637088969126014, 'began': 3.454920191420506, 'timothy': 5.175354396248494, '1999': 1.9968016883646342, 'entering': 4.389349687338543, 'conflict': 4.3866248900123574, 'when': 1.3806055739282235, 'documentary': 19.335744608429835, 'such': 1.763337513538397, 'for': 0.5100377054030083, 'in': 0.01255028255157884, 'to': 0.04694493768179923, 'length': 9.96521664423731, 'francegrucza': 10.986495389225194, 'film': 10.16556958528976, 'his': 1.3130572760682866, 'achievement': 3.8148385664566797, 'baghdad': 5.827440090010665, 'work': 2.7987275394509097, 'documented': 5.351705786055945, 'selected': 2.779911774904442, 'at': 0.43063857330825733, 'look': 4.303134443458919, 'is': 0.11046500190207996, 'repatriated': 7.990763115671204, 'kosovan': 10.986495389225194, 'won': 1.3836400683164753, 'who': 1.8197904379608427, '1': 2.0978765819243166, 'since': 1.455376717308041, 'refugees': 5.7032916604872055, 'escaped': 5.723805200320308, 'war': 5.619645234553478, 'kosovo': 6.134465125305577, 'pbs': 4.763919121153825, 'granted': 4.523465932304524, 'correspondent': 4.3811974682769925, 'pakistan': 4.577966598165696, 'born': 0.268196273764765, 'zones': 6.604468754551313, 'australia': 8.60575934052612, 'safe': 5.17835289924475, 'haven': 5.557149760270754, 'section': 3.923447225837022, 'covering': 4.482207215688549, 'including': 1.2272824458461182, 'enclave': 8.347438059609935, 'craft': 5.289401902719789, 'yuri': 6.332535039067671, 'grucza': 43.945981556900776, 'entered': 3.3434917536644764, 'working': 2.074561053063768, 'first': 0.6956048713993103, 'continues': 3.3444509863519367, 'north': 2.4321991098574545, 'career': 1.3050270203415668, 'country': 2.6743602815767815, 'canadian': 2.766899935048114, 'has': 0.428497539744039, 'the': 0.0014220897960347868, 'of': 0.012468528597334574, 'during': 1.3174651479035495, 'docs': 7.520759486425468, '2003': 1.8013702663900752, 'invasion': 5.187402734764668, 'produce': 4.200907744217265, 'worked': 3.107783706724218, 'french': 2.9278516770095764, 'a': 0.03371510683549888, 'extensively': 3.7786355177927193, 'palestinian': 5.67822769182399, 'and': 0.006706295082438554, 'territories': 5.7290000171974125, '2006': 1.520737905384506, 'with': 0.20246864252206068, 'world': 1.370623244696304, 'feature': 6.387467336817337}, {'officials': 4.417013968810898, 'four': 1.922106072733316, 'continued': 2.720588055069447, 'religions': 5.923900356198227, 'december': 2.001425829579395, 'traveled': 4.392081929475416, '2009': 3.128872967208539, 'affairs': 2.9405866469544146, 'position': 2.3300621307174527, 'utah': 4.656774483702498, 'newswriters': 9.887883100557085, 'conference': 6.081171581224123, 'reverend': 6.199003646443148, 'hollywood': 3.902268967127278, 'organizations': 3.4799036091543534, 'become': 2.4964678658817263, '2006': 3.041475810769012, 'scholastics': 8.907053847545358, 'happiness': 6.134465125305577, 'way': 2.9688582293167167, 'criminon': 10.986495389225194, 'members': 2.8274067345572838, 'nonprofit': 4.1621217191821085, 'able': 3.7487171973017515, 'living': 3.051265849408287, 'its': 1.6875948402695313, 'applied': 4.096904080870728, 'vice': 12.284588879848465, 'organization': 5.775705090931553, 'served': 1.5362723499305253, 'working': 2.074561053063768, 'tech': 4.866197970274244, 'being': 1.7938099524877322, 'city': 1.7402088904755424, 'center': 2.378000039402171, 'represented': 2.8985478345825246, 'facilities': 5.22130428644035, 'owning': 6.843360662833661, 'executive': 2.4958515330424933, 'supervise': 7.808441558877249, 'professions': 6.796840647198769, 'up': 1.5635467678501844, 'took': 2.2103282894939196, 'spokespersons': 8.789270811888976, 'subsequently': 2.8793779184748045, 'falcons': 5.868501576808439, 'atlanta': 3.9450837254303837, 'melbourne': 3.8914310119380633, 'years': 1.0752380994247055, '2010': 1.5928339601219734, 'seven': 2.7917137507818355, 'after': 0.9443334420013064, 'by': 1.8727670603098687, '1988': 2.4491074905234376, 'encouraged': 4.96790217472896, 'college': 6.245465081270222, 'as': 0.7630171320744707, 'was': 0.4761947136731008, 'official': 3.1501256286800703, 'mateo': 14.148944767594097, 'received': 1.5396609815666638, 'church': 20.401194492434843, 'california': 7.0370089120910455, 'san': 5.182487737228398, 'there': 2.3005725945344695, 'teams': 3.1672609353661243, 'listed': 3.9149220250136625, 'camino': 7.348909229498808, 'and': 0.00819658287853601, 'doug': 4.990043300606173, 'redwood': 7.115294378317303, 'procareer': 9.887883100557085, 'scientology': 61.8271908096297, 'consultant': 3.456552018623606, '1960s': 3.5713202796118995, 'founded': 2.7103551696667347, 'el': 3.9442092172854513, 'august': 2.000173951599175, 'play': 4.540574836146684, 'stockton': 6.7238155121838785, 'media': 2.527567105940933, 'signed': 2.5176524587500038, 'australia': 2.86858644684204, 'former': 2.714626224198417, 'recruited': 4.4897203990393315, 'born': 0.268196273764765, 'religion': 4.3650897374610595, 'narconon': 9.887883100557085, 'played': 3.0908804008769675, 'robert': 2.802818806604537, 'performance': 2.7455828475362956, '15': 2.527567105940933, 'secular': 5.956057467832759, 'a': 0.08428776708874719, 'better': 3.445873860568042, 'football': 17.909994658969975, 'professional': 1.950151325296976, 'steelers': 12.41474379222733, '2004': 1.6903443608359008, 'adams': 29.22361958245296, 'serve': 3.618155702913813, 'american': 1.1273777844250068, 'school': 2.4455745584347035, 'tight': 5.723805200320308, 'he': 2.347054134245964, 'schoolhe': 6.752388884627935, 'pacific': 3.8660510168327065, 'end': 2.419560105914143, 'teacherin': 8.278445188122983, '1946': 3.8033836874819134, 'under': 1.8347379746813095, 'of': 0.08312352398223048, 'the': 0.0030473352772174005, 'other': 2.884801513389695, 'an': 0.2982390890818971, 'helped': 2.9399460319421156, 'coach': 8.166396178480582, 'playing': 2.0910027577735617, 'for': 0.43717517605972145, 'where': 2.178152424181346, 'national': 3.558279494317174, 'bob': 3.5498781239909682, 'worked': 1.553891853362109, 'association': 4.3092749080545785, 'league': 6.2570213529299, 'education': 2.4487155642005685, 'companies': 3.484860931341781, 'basketball': 3.6746092251480293, 'single': 2.887244827428234, 'drafted': 3.7085568162795326, 'senior': 2.2990532222492712, 'said': 2.808417925375587, '1973': 2.808137223619358, 'within': 9.086903960983264, 'during': 2.634930295807099, 'season': 1.8875336052324008, 'had': 1.177428412308558, '1966': 3.087341905882097, 'out': 1.8484031814566355, 'finished': 2.6924457491231664, 'attended': 2.2859811406819186, 'trackandfield': 9.600201028105303, 'applying': 5.923900356198227, 'public': 2.029113653642407, 'while': 3.672871896267883, 'participating': 4.958216868994496, 'at': 1.0765964332706432, 'is': 0.02761625047551999, 'sports': 3.001691999490788, 'president': 7.226869291326606, 'including': 2.4545648916922365, 'full': 3.003055326218652, 'one': 0.9309307338087167, 'held': 2.1669778486203057, 'scholarship': 3.67127699947222, 'world': 1.370623244696304, '1968': 2.8997774689212887, 'captain': 3.6799639902856893, 'offense': 6.111298066024043, 'chuck': 5.120027332291897, 'not': 1.5880170751336171, 'noll': 8.347438059609935, 'international': 2.915838983507548, 'free': 2.956736868784372, 'agent': 3.752318209475346, 'with': 0.40493728504412135, 'fitness': 5.334006208956544, 'pittsburgh': 8.491952059237942, 'in': 0.010619469851335942, 'bruce': 4.226080698141766, 'member': 2.440865025201477, 'to': 0.32861456377259457, 'high': 3.813438774540256, 'became': 1.3300599330549516, 'scovil': 10.986495389225194, 'scientologist': 8.588600116426823, 'methodology': 5.739471317064708, 'programs': 3.3415760442663376, 'his': 0.5252229104273146}, {'merged': 5.046324136504762, 'year': 1.3423616371539895, 'later': 1.4294496043477696, 'permanent': 3.9183233888371527, 'taillon': 9.377057476791094, 'gilles': 6.532148092971687, 'interim': 4.632125348427844, 'named': 2.0300155412252816, 'on': 0.18441275335060037, 'resignation': 4.161035352969887, 'his': 0.2626114552136573, 'announced': 2.7377046555287814, 'mario': 5.163449493742175, 'leader': 8.19589952185635, 'declined': 5.035852836637467, '2009': 1.5644364836042695, 'support': 3.0010110324913715, 'though': 3.3439712549922924, 'even': 3.282585179608883, '44': 5.108759607445555, 'reelection': 4.126880485570992, 'her': 1.5502153786328006, '2008': 1.5093391374786154, 'leaderin': 8.501588739437194, '29': 3.134445181959305, 'march': 1.9573172463231197, '22': 2.83833894930357, 'boissonneault': 10.986495389225194, 'laurent': 6.475635882708344, 'vote': 7.684176417808111, '59': 5.579323617765075, '2012she': 7.520759486425468, 'lotbinire': 10.986495389225194, '2007': 2.975946139511159, 'district': 2.774469584601757, '1988': 2.4491074905234376, 'health': 2.994564869372717, 'electoral': 4.561626365319807, 'initially': 3.6873739265143946, '1987': 2.4836039825198166, 'opposition': 3.7973276508048714, 'elected': 2.23819047684557, 'quebec': 9.100690041711534, 'municipality': 5.493433945884646, 'she': 7.909936190856877, 'official': 3.1501256286800703, 'liberal': 3.7344414373723804, 'caq': 17.814107695090716, '1964': 3.06677562830062, 'dumont': 7.654290879049991, '4': 2.437803530749586, 'du': 4.286995049063516, 'mental': 4.694926249666874, 'sylvie': 7.460134864609033, 'riding': 4.28946114155871, 'into': 1.6050629424066056, 'qubec': 11.822643147982735, 'roy': 22.601753324937874, 'finished': 5.384891498246333, 'deputy': 2.9993106409917214, 'tuque': 10.293348208665249, '15': 2.527567105940933, 'merger': 5.548416080301998, 'third': 2.3506306680914584, '26': 3.0388168179236272, 'politician': 2.6023765520342987, 'incumbent': 4.181880869162571, 'la': 2.801702735060116, 'february': 2.1088344556315284, 'candidate': 3.1473637409508615, 'november': 1.9726566376168002, 'party': 4.708022306948445, 'as': 0.2543390440248236, 'became': 1.3300599330549516, 'to': 0.1408348130453977, 'from': 0.8812660139569034, 'canada': 2.68571842837374, 'arthabaska': 10.986495389225194, 'of': 0.049874114389338295, 'the': 0.00243786822177392, 'assembly': 6.686983507328953, '2003': 5.404110799170226, 'mauricie': 9.19473591999714, 'adq': 26.05173088869345, '37': 5.020348650101503, 'national': 2.3721863295447827, 'for': 0.29145011737314763, 'nowdefunct': 6.224321454427438, '2012': 5.381429857463196, 'born': 0.268196273764765, 'coalition': 4.275972279772766, 'voteparti': 10.986495389225194, 'is': 0.02761625047551999, 'avenir': 8.789270811888976, 'appointed': 2.2003443343554556, 'in': 0.008688657151093043, 'member': 2.440865025201477, 'was': 0.5555604992852843, 'awarded': 2.354189390708452, 'law': 2.4538226269605703, 'degree': 2.0206498944742566, 'previously': 2.7704072905928783, 'universit': 5.399246730824944, 'laval': 6.555678590381881, 'admitted': 4.4226398626930665, '27': 3.110616229728885, 'and': 0.002980575592194913, 'lawyer': 3.7980826527282407, 'barreau': 9.19473591999714, 'years': 2.150476198849411, 'including': 1.2272824458461182, 'second': 1.6724258314865346, 'saintsophiedelvrard': 10.986495389225194, 'won': 1.3836400683164753, 'voteon': 8.347438059609935, '12': 2.511583590065563, 'until': 5.277303788049553, 'organizations': 3.4799036091543534, 'reelected': 7.36530432789498, 'mayor': 3.580999726025722, 'with': 1.2148118551323641, 'a': 0.01685755341774944, '1998': 2.0687826320938068, 'also': 0.4627270916162349, 'worked': 1.553891853362109, 'bcancour': 10.986495389225194, 'regional': 3.3579777626501386, 'county': 2.8412358227083288, 'partys': 4.346619555398658, 'quebecroy': 10.293348208665249, 'votein': 7.322933743095548, 'first': 0.6956048713993103, 'sharply': 7.0162034756730725, 'election': 10.28356821428236, 'qubcois': 6.453895896071939, 'pq': 7.552508184740048, 'served': 1.5362723499305253, 'jeanguy': 9.887883100557085, 'house': 2.325548234164261, 'represented': 2.8985478345825246, 'par': 6.037735498847026, 'that': 1.3228138933429963, 'easily': 5.202670206895457}, {'their': 1.5201958369931787, 'thanks': 5.282712914568993, 'would': 2.136551161989598, 'who': 0.9098952189804214, 'ally': 6.199003646443148, 'fell': 4.604679371819096, 'how': 3.0810537401649083, 'karaoke': 7.348909229498808, 'rituals': 6.892150827003094, 'turn': 4.267482234839934, '2013': 1.9545642372230505, 'august': 2.000173951599175, 'woman': 3.4124503838529945, 'third': 2.3506306680914584, 'haircutsheffields': 10.986495389225194, 'for': 0.07286252934328691, 'discusses': 6.111298066024043, 'true': 4.118520980254901, 'mans': 5.279385124476319, 'duran': 14.497651541883652, 'about': 1.9265128988375737, 'girls': 3.986160928949964, 'talking': 5.205751873432865, 'called': 4.156954132880615, '2010': 1.5928339601219734, 'second': 3.344851662973069, 'no': 2.396423552396384, 'couple': 4.076742107580384, 'after': 0.9443334420013064, 'city': 1.7402088904755424, 'yale': 3.984339434821573, 'attended': 2.2859811406819186, 'before': 1.4967823726683713, 'pop': 3.5913878426627086, 'with': 0.20246864252206068, 'library': 4.04144432549936, 'in': 0.01158487620145739, 'dj': 4.263865594369746, 'version': 3.5105894198577974, 'which': 0.7674309670437692, 'print': 4.355812003582822, 'young': 2.4099018545275093, 'that': 0.6614069466714981, 'was': 0.2380973568365504, 'to': 0.1408348130453977, 'prior': 2.956736868784372, '2006': 1.520737905384506, 'essays': 4.180772835808209, 'late': 2.374355720500003, 'reviews': 7.881437624691365, 'loss': 4.05991835600247, 'crist': 8.042056410058754, 'quest': 5.292763250422495, 'boston': 3.2049394299898544, 'american': 1.1273777844250068, 'sheffield': 14.712829436546246, 'it': 1.3165805834938153, 'brooklyn': 4.150236111948127, '2009': 1.5644364836042695, 'crists': 9.887883100557085, 'first': 0.6956048713993103, 'childrensheffield': 10.986495389225194, '2': 2.2482408126990716, 'on': 0.18441275335060037, 'rob': 4.785986215182504, 'magazine': 2.456583425401182, 'writing': 2.61409678271219, 'and': 0.009686870674633467, 'become': 2.4964678658817263, 'virginia': 3.7444130299682326, 'had': 1.177428412308558, '1966': 3.087341905882097, 'editor': 5.484848237858817, 'born': 0.268196273764765, 'an': 0.5964781781637942, 'journalist': 3.1247683114012137, 'folded': 5.693190564500702, '2007': 2.975946139511159, 'blender': 8.501588739437194, 'stone': 4.332342869041976, 'rene': 6.2951475069960505, 'of': 0.033249409592892194, 'the': 0.0007110448980173934, 'currently': 1.637088969126014, 'place': 2.5222811225998436, 'a': 0.04495347578066517, 'author': 2.2935018580052677, 'contributing': 8.853760303463904, 'spin': 5.723805200320308, 'february': 2.1088344556315284, 'yorksheffields': 10.986495389225194, 'is': 0.16569750285311993, 'at': 1.0765964332706432, 'university': 0.8473430048211847, 'virginiahis': 9.887883100557085, 'book': 6.008414123677527, 'he': 0.640105672976172, 'love': 17.842886757110133, 'where': 1.089076212090673, 'july': 1.9428000946579587, 'met': 6.723752806131592, 'tape': 10.859334655051313, 'life': 2.1907617832744593, 'bright': 5.602000326436105, 'by': 0.37455341206197373, 'lives': 2.532029027717262, 'rolling': 4.8401661315562965, 'one': 1.8618614676174334, '1997': 2.1298344522079455, 'received': 1.5396609815666638, 'song': 2.869182927623221, 'excerpt': 7.272923322520886, 'death': 3.1568650000750016, 'january': 3.770824006371922, 'eyes': 4.8023464982877115, 'cooler': 8.683910296231149, 'culture': 3.1328905761273576, 'married': 2.327976261718522, 'gq': 6.158181651922893, 'released': 6.023504698756524, 'random': 5.410546286078878, 'house': 2.325548234164261, 'radio': 2.349033365418012, 'featured': 2.542518260140216, 'starred': 3.5683145664984064, 'remarried': 6.709829270209139, 'publishers': 4.653215761085504, 'weekly': 3.608736480997322, 'journalmost': 10.986495389225194, 'around': 2.637957563839097, 'music': 5.378377975206105, 'his': 0.5252229104273146, 'takes': 4.586237943916373, 'charlottesville': 7.225295273531632, 'mutual': 5.380693322929197, 'native': 3.244961799943366, 'wife': 5.367963341422074, 'fellow': 2.364041687151464, 'issue': 3.92773723670653, 'station': 3.5755435136415574, 'wtju': 9.887883100557085, 'continues': 3.3444509863519367, 'mix': 10.005118217076008, 'time': 1.3253342074200498, 'new': 1.7743065312250548, 'york': 1.701047544762206}, {'royal': 2.8056144472288045, 'leopoldinain': 10.986495389225194, 'der': 4.68570959456195, 'eg': 5.316614466244674, 'academies': 6.166213823620158, 'several': 3.2410394514351255, 'honoris': 6.250296940830698, 'germany': 3.0033964485143017, 'poland': 8.839645918843907, 'doctor': 3.608736480997322, 'p': 8.339519017260452, 'for': 0.07286252934328691, 'bucharest': 6.0520214560945025, 'society': 4.8896094524171385, 'japan': 6.518801808890705, 'hoff': 8.278445188122983, 'vant': 10.293348208665249, 'h': 3.9468350393631186, 'assemblies': 7.179832899454874, 'causa': 6.2329051981188295, 'watermediated': 10.986495389225194, 'joannides': 10.986495389225194, 'particularly': 3.63919568848203, 'laboratoryindustrial': 10.986495389225194, 'involved': 2.674114792438443, 'elementary': 4.96062941539988, 'understanding': 4.349237357940737, 'improve': 4.779919462500267, 'have': 1.4416847832984716, 'studies': 2.3430220318986272, 'chemistries': 10.986495389225194, '2014': 2.2073995783446634, 'solidstate': 8.042056410058754, 'include': 2.174545211685214, 'geo': 7.1363477875151355, 'electro': 6.497859019493054, 'junction': 6.908957945319475, 'chemistry': 4.842309755099548, 'emergence': 5.96921555241027, 'field': 2.6946982841764604, 'interfacial': 9.377057476791094, 'original': 2.9143400810369444, 'an': 0.2982390890818971, 'him': 1.5755843267871936, 'isotopes': 7.585298007563039, 'faraday': 8.907053847545358, 'specific': 5.0865980356427025, 'probes': 7.990763115671204, 'taken': 3.500442771362054, 'elements': 4.564873121418676, 'ches': 10.293348208665249, 'which': 0.7674309670437692, 'based': 2.299897032948229, 'europaea': 7.37557747658097, 'heterogeneous': 7.851001173296044, 'has': 2.142487698720195, 'work': 2.7987275394509097, 'humboldt': 6.016682089649193, 'preparationmichel': 10.986495389225194, '1995his': 8.09612363132903, 'universitaire': 8.153282045168979, 'gassolid': 10.986495389225194, 'techniques': 4.231891289737232, 'et': 4.506450827298541, 'epr': 10.293348208665249, 'institut': 5.713495830661447, 'prize': 2.7453192387302345, 'pierre': 4.86181199833099, 'physical': 4.001779069106929, 'organisation': 8.656968686708892, 'congress': 3.6131210793151456, 'titanium': 8.213906666985412, 'universities': 3.8033836874819134, 'vi': 5.787998357959369, '200004': 8.907053847545358, 'on': 0.36882550670120073, 'curie': 14.862294655471562, 'he': 1.06684278829362, 'position': 2.3300621307174527, 'provided': 3.8148385664566797, '196971': 8.213906666985412, '1975': 2.762331876587333, 'contributed': 3.4405772380158712, 'association': 2.1546374540272892, 'doctorate': 3.6866980224670334, 'was': 0.15873157122436693, 'science': 2.3447863231113892, 'president': 1.8067173228316515, 'chemistrys': 9.887883100557085, 'marie': 4.814794791814279, '1993': 2.3032794139845048, 'studied': 2.2933341149871773, 'senior': 2.2990532222492712, 'publications': 3.253249742695399, 'von': 4.696779818316197, 'france': 9.02352498042739, 'supramolecular': 9.377057476791094, 'michel': 5.211943843680786, 'born': 0.268196273764765, 'a': 0.01685755341774944, 'professor': 4.021730409869374, 'lyon': 11.366380962332236, 'opening': 3.7259727911353417, 'dioxide': 7.728398851203712, 'completed': 3.0653226676381795, 'deutsche': 5.3270131734655735, 'sue': 5.437419304329975, 'awards': 2.283985132035204, 'promotion': 7.782862023876127, 'paris': 6.380052292278274, 'led': 4.480512201684267, 'culminating': 5.787998357959369, 'che': 7.0744723837970485, 'romania': 5.131423467022767, 'international': 4.373758475261322, 'akademie': 7.035251670643767, 'catalyst': 6.532148092971687, 'study': 2.82912494803842, 'sklodowskacurie': 10.986495389225194, 'europacat': 10.986495389225194, 'processes': 10.26858581890144, 'postdoctoral': 4.7540473726746715, 'catalysis': 55.26817055106815, 'presidentfounder': 9.887883100557085, 'm': 3.0903147806097033, 'member': 2.440865025201477, 'in': 0.01255028255157884, 'appointed': 2.2003443343554556, 'de': 2.3732650096120147, 'the': 0.0014220897960347868, 'of': 0.07896734778311897, 'university': 2.5420290144635542, 'naturforscher': 10.293348208665249, 'cracow': 7.690658523220865, '1968': 2.8997774689212887, 'transition': 4.721194176487485, 'molecular': 5.137170609278335, 'and': 0.008941726776584738, 'as': 0.2543390440248236, 'to': 0.23472468840899613, 'academia': 5.373367282837124, 'his': 0.7878343656409719, 'around': 2.637957563839097, '400': 4.696779818316197, 'coordination': 5.755386772370608, 'journals': 3.887293645672102, 'been': 1.954954670959205, 'being': 1.7938099524877322, 'very': 2.811792506755733, 'portugal': 4.970338229526841, 'j': 3.2558813231614545, 'pioneered': 5.108759607445555, 'active': 2.7479584590534256, 'european': 2.590340526186013, '13th': 4.9534091674263925, 'federation': 3.870101245131729, 'lectureship': 7.0162034756730725, 'netherlands': 3.987985746974593, 'fellow': 2.364041687151464, 'biennial': 5.602000326436105, 'societies': 10.467845500799122, 'with': 0.6074059275661821, 'colloidal': 8.789270811888976, 'creation': 4.03568062078261, 'highranking': 6.696035948076803, 'cycle': 5.012685777355933, 'lisbon': 5.644161137260383, 'approach': 4.100985719190377, 'now': 1.96695239252401, 'awarded': 2.354189390708452, 'gaylussac': 10.986495389225194, 'famous': 3.2150066291075783, 'activity': 4.8168846567337384, 'congresses': 6.696035948076803, 'iacs': 10.293348208665249, 'princeton': 4.300634442156835, 'largely': 9.00677607553599, 'research': 2.1975970798803166, 'is': 0.02761625047551999, 'at': 0.8612771466165147, 'devoted': 4.68570959456195, 'efcats': 10.986495389225194, '2004his': 7.728398851203712, 'involving': 4.620024941493757, 'liquidsolid': 10.986495389225194, 'solidsolid': 10.986495389225194, 'interfaces': 6.859361004180102}, {'north': 2.4321991098574545, 'consultant': 3.456552018623606, 'societies': 10.467845500799122, 'network': 3.154481208719725, 'as': 0.2543390440248236, 'series': 1.877080935838972, 'colloquium': 7.851001173296044, 'coordinator': 4.233057470627415, 'founding': 6.19407247964134, 'scholarshe': 9.887883100557085, 'society': 2.4448047262085693, 'honor': 3.850012180634947, 'delta': 5.402999080443495, 'beta': 5.38807343022682, 'america': 2.5998665678300736, 'african': 3.582216271187926, 'who': 1.8197904379608427, 'landscapes': 5.839000912411741, 'marquis': 6.979162203992724, 'boards': 3.993480266292234, 'editorial': 3.9582939571671902, 'serves': 9.22881504638355, 'eastern': 7.261708572501882, 'legal': 3.4243337579995425, 'industry': 2.9570625486439512, 'widely': 3.270925854704986, 'published': 1.9250031139854273, 'taught': 2.8485149347730556, 'en': 4.442583543660402, 'cultuur': 9.887883100557085, 'politics': 6.079755651961443, 'mediterranean': 5.9758600951289385, 'mediaculture': 10.986495389225194, 'theory': 3.527156494004899, 'reviews': 3.9407188123456827, 'lawyers': 4.96062941539988, 'journals': 7.774587291344204, 'scholarly': 4.927372193643397, 'several': 1.6205197257175628, 'states': 1.824400329877006, 'associate': 3.1540844620372743, '2003': 1.8013702663900752, 'comparative': 4.814794791814279, 'sean': 4.818978898336853, 'phi': 5.145853731851796, 'literature': 3.391108110371222, 'english': 2.239461125047026, 'language': 3.4581636225179473, 'international': 1.457919491753774, 'communitybased': 7.054669756500869, 'columbia': 6.464885500378874, 'editor': 2.7424241189294083, 'professor': 2.010865204934687, 'lateral': 23.97228934701361, 'literary': 3.5773589453050665, 'humanities': 4.614883541993338, 'includeculture': 10.986495389225194, 'membership': 4.6783969477156635, 'currently': 1.637088969126014, 'history': 2.1447579606246094, 'critic': 3.842877786521073, 'lateralhis': 10.986495389225194, 'award': 3.2644556968847374, 'of': 0.04156176199111524, 'the': 0.0017268233237565267, 'university': 3.389372019284739, 'media': 5.055134211881866, 'doukkali': 10.986495389225194, 'jaafar': 9.600201028105303, 'morocco': 17.005126186142935, 'johnson': 4.121647611254334, 'member': 1.2204325126007385, 'in': 0.008688657151093043, 'includecultural': 10.986495389225194, 'academic': 3.1414709719837104, 'george': 5.591727416643311, 'college': 3.122732540635111, 'from': 0.8812660139569034, 'phd': 2.5603215961961254, '1974': 2.77067759739274, 'azemmour': 10.986495389225194, 'islam': 5.313172122053702, 'aksikas': 21.972990778450388, 'ma': 3.5077605636573193, 'a': 0.022476737890332586, 'arab': 4.8683981911838465, 'and': 0.013412590164877109, 'for': 0.29145011737314763, 'fields': 4.109199317727766, 'united': 1.5679220786705559, 'he': 1.706948461269792, 'edited': 7.5781200702572065, 'chicago': 5.858235801334405, 'received': 1.5396609815666638, 'akhawayn': 10.986495389225194, 'also': 1.8509083664649395, 'including': 2.4545648916922365, 'president': 1.8067173228316515, 'association': 2.1546374540272892, 'his': 0.2626114552136573, 'volumes': 4.906562194129604, 'antar': 9.887883100557085, 'ofand': 10.293348208665249, 'studies': 32.80230844658078, 'law': 2.4538226269605703, 'with': 0.20246864252206068, 'awards': 2.283985132035204, 'andrews': 5.362477883037855, 'american': 2.2547555688500136, '2014arab': 10.986495389225194, 'general': 2.220724845237937, 'forms': 4.507985747016625, '2010': 1.5928339601219734, 'sirah': 10.293348208665249, 'modernities2009': 10.986495389225194, 'industries': 9.70619469245709, 'interpretation': 5.122864213627097, 'mason': 10.592271869802268, '2011': 1.7023470901042919, 'purchase': 5.3270131734655735, 'chouaib': 10.986495389225194, 'born': 0.268196273764765, 'neoliberal': 8.09612363132903, 'cultures': 5.154612911941677, 'vision': 4.476237048702044, 'at': 0.645957859962386, 'is': 0.13808125237759994, '2002his': 8.042056410058754, 'al': 3.8326615876463515, 'an': 1.1929563563275885, 'cultural': 36.44599494913834, 'other': 1.4424007566948476, 'journal': 12.101895693367297, 'publications': 3.253249742695399, 'holds': 5.683051944274639, 'books': 2.2488823524163437, 'interventions': 6.812108119329557, 'muslim': 4.91114935813651, 'illinois': 3.7401273091227334, 'ba': 3.1536878727003295, 'islamic': 9.571972430365008, 'culture': 3.1328905761273576, 'inaugural': 4.142745440218969, 'issue': 7.85547447341306, 'on': 0.9220637667530018, 'middle': 7.021178839715595, 'critical': 10.441359632121216, 'times': 2.1000862223759134, 'numerous': 2.4220370053418425, 'engaged': 4.561626365319807, 'migratie': 10.986495389225194, 'scholarship': 3.67127699947222, 'special': 5.404487183206555, 'work': 1.3993637697254548, 'has': 1.285492619232117, 'appeared': 2.0682467981894925}, {'theme': 4.300634442156835, '1980': 2.5468314003181947, 'calls': 4.625192911652199, '2012': 1.7938099524877322, 'june': 1.9026256813029605, 'conference': 6.081171581224123, 'online': 7.121083464295307, 'organized': 8.127702995498613, 'local': 2.5829189245959245, 'spiritual': 4.748170764185686, 'education': 2.4487155642005685, 'veganism': 8.789270811888976, 'specializing': 4.390714875263883, 'berkeley': 4.144879912747602, 'california': 2.345669637363682, 'state': 1.7090572737165175, 'francisco': 3.2563205939789728, 'humanities': 4.614883541993338, 'masters': 2.9307029382474243, '1975': 2.762331876587333, 'audio': 4.548743739488793, 'phd': 2.5603215961961254, 'maine': 5.344588318287081, 'throughout': 2.8924222411558422, 'he': 1.280211345952344, 'societies': 5.233922750399561, 'centers': 4.806478735572622, 'diethe': 10.293348208665249, 'steve': 3.492621502441635, 'church': 3.400199082072474, 'new': 0.8871532656125274, 'through': 2.028984878933582, 'thought': 4.01858618742331, 'who': 0.9098952189804214, 'animal': 9.43101391473379, 'lectured': 4.621744632373283, 'world': 2.741246489392608, '1990': 2.3683714792305164, 'for': 0.07286252934328691, 'where': 1.089076212090673, 'inner': 5.172364857400128, 'veganpalooza': 10.986495389225194, 'outer': 5.956057467832759, 'circle': 9.375092284738503, 'events': 3.0624230643017776, 'animals': 5.070293326617759, 'north': 2.4321991098574545, 'administrative': 4.515695885442592, 'carman': 8.421546031763658, 'with': 0.40493728504412135, 'on': 0.18441275335060037, 'zen': 6.44320060695519, '1115': 9.04058524016988, 'speaker': 7.161999452051444, 'august': 2.000173951599175, 'progressive': 4.197523646233024, 'guest': 3.134445181959305, 'america': 2.5998665678300736, 'vegan': 21.284025273343705, 'unity': 5.355283607403829, 'judy': 5.526909875081035, 'performed': 2.5307521601251795, 'korea': 4.379845203026979, 'diet': 6.002888767516858, 'tuttle': 25.042314178829805, 'a': 0.022476737890332586, 'context': 4.997533972335331, 'prussack': 10.986495389225194, 'at': 0.645957859962386, 'is': 0.11046500190207996, 'college': 1.5613662703175555, 'harmony': 5.668375395380978, 'prayer': 5.911321573991367, 'born': 0.268196273764765, 'former': 1.3573131120992086, 'been': 0.9774773354796025, 'amazon': 5.850696952174933, 'american': 1.1273777844250068, '1953': 3.6463085539050786, 'other': 2.884801513389695, 'an': 0.8947172672456913, 'frequent': 4.215705965316214, 'bestseller': 5.137170609278335, 'university': 1.6946860096423695, 'waterville': 9.04058524016988, 'compassion': 6.709829270209139, 'will': 2.679776346022504, 'worldwide': 3.504376465673079, 'since': 2.910753434616082, 'peace': 11.378428712490248, '1': 2.0978765819243166, 'musician': 3.0064717969145494, 'and': 0.01266744626682838, '2010': 1.5928339601219734, 'monk': 5.9175911870049624, 'conferences': 4.216853412372691, 'science': 2.3447863231113892, 'author': 2.2935018580052677, 'of': 0.03740558579200372, 'the': 0.00121893411088696, 'international': 2.915838983507548, 'was': 0.07936578561218346, 'first': 0.6956048713993103, 'spoke': 4.91345085512479, 'rights': 6.13355125660124, 'has': 1.285492619232117, 'colby': 7.322933743095548, 'inspirational': 6.037735498847026, 'obtained': 3.5599463168278898, 'zone': 5.012685777355933, 'm': 3.0903147806097033, 'classical': 3.5932322944613566, 'in': 0.008688657151093043, 'writer': 2.511166401907656, 'made': 1.519886215502974, 'debut': 2.1723135660368764, 'bachelors': 3.576753435144271, '8th': 4.785986215182504, 'festival': 2.5815754402917426, 'vegetarian': 13.563605539668457, 'san': 5.182487737228398, 'diego': 3.9183233888371527, 'cofounder': 3.903946819869894, 'about': 1.9265128988375737, 'studied': 2.2933341149871773, 'philosophy': 3.5926170991174384, 'music': 3.5855853168040697, 'his': 0.7878343656409719, '1995': 2.222129668695386, 'degree': 4.041299788948513, 'emphasis': 4.987558827278511, 'literature': 3.391108110371222, 'from': 0.8812660139569034}, {'every': 3.306319748788604, 'featured': 2.542518260140216, 'correspondents': 7.225295273531632, 'foreign': 3.1908488528906003, 'to': 0.04694493768179923, 'songwriting': 5.11719847609142, 'lent': 6.27696518791286, 'without': 3.199528386610323, 'entitled': 3.208702762886364, 'cd': 3.769051957528662, 'jazz': 3.5088911460276053, 'image': 4.331055038857547, 'phd': 2.5603215961961254, 'starr': 6.126682984863522, 'chicago': 2.9291179006672023, 'georgia': 8.025904739410109, '1978': 2.6743602815767815, 'since': 2.910753434616082, 'schools': 3.2150066291075783, 'primary': 3.3550637246482893, 'taught': 2.8485149347730556, 'has': 0.856995079488078, 'industry': 2.9570625486439512, 'bram': 7.0162034756730725, 'film': 4.066227834115904, 'his': 0.2626114552136573, '1993': 2.3032794139845048, 'having': 2.448323791423765, 'stone': 4.332342869041976, 'edwin': 5.673289410183407, 'movie': 3.300792327990647, 'goofy': 8.347438059609935, 'batman': 6.351766400995558, 'beast': 5.82170941530168, 'work': 1.3993637697254548, 'hard': 4.057957571060529, 'moving': 3.1908488528906003, 'predator': 7.654290879049991, 'platoon': 6.655762048938863, 'honor': 3.850012180634947, '1980s': 2.9688582293167167, 'films': 2.78045762644638, 'major': 2.0581201293715634, 'cagney': 8.501588739437194, 'voice': 3.2616069499021205, 'from': 0.5875106759712689, 'dallas': 4.279633052622447, 'well': 3.0590586835751963, 'concerned': 4.987558827278511, 'working': 4.149122106127536, 'first': 0.6956048713993103, '2009': 1.5644364836042695, 'released': 2.0078348995855078, 'mainstream': 4.584578192498009, 'her': 10.851507650429603, 'with': 0.40493728504412135, 'awardwinning': 3.859604580326386, 'elsevier': 7.767619564356994, 'press': 2.722647257856288, 'shows': 2.8354504435401706, '1990': 2.3683714792305164, 'focal': 6.908957945319475, 'won': 1.3836400683164753, 'text': 4.656774483702498, 'grail': 7.728398851203712, 'only': 1.819375719703575, '2014': 4.414799156689327, 'in': 0.010619469851335942, 'mdiv': 7.348909229498808, 'the': 0.0014220897960347868, 'of': 0.02078088099555762, 'universities': 3.8033836874819134, '1955': 3.556974546438732, 'lacey': 7.402976450769084, 'book': 2.002804707892509, '2001': 1.9280249665871378, 'foley': 33.61907756091939, 'january': 1.885412003185961, 'published': 1.9250031139854273, 'noises': 7.489987827758714, 'known': 2.8915454305304062, 'achieved': 3.692118089936373, 'behind': 3.26116535130806, 'history': 2.1447579606246094, 'currently': 1.637088969126014, 'academy': 2.3552594817682966, 'ball': 12.592570938699073, 'theme': 4.300634442156835, '8': 2.7572509724892824, 'editor': 2.7424241189294083, 'professor': 2.010865204934687, 'glendale': 7.094675091114568, 'california': 2.345669637363682, 'including': 1.2272824458461182, 'author': 2.2935018580052677, 'school': 1.2227872792173518, 'american': 1.1273777844250068, '1999': 1.9968016883646342, 'she': 4.7459617145141255, 'beauty': 4.442583543660402, 'dr': 3.0061296241139486, 'on': 0.36882550670120073, 'artist': 4.863627506795931, 'art': 2.4446095852185854, 'postproduction': 6.892150827003094, 'ament': 36.77894367998856, 'singer': 2.7818235602743835, 'academic': 6.282941943967421, 'virginia': 3.7444130299682326, 'born': 0.268196273764765, 'david': 4.9025316706457165, 'by': 0.37455341206197373, 'endowed': 6.04485296661589, 'cuesta': 9.04058524016988, 'and': 0.010432014572682195, 'musician': 3.0064717969145494, 'as': 0.7630171320744707, 'king': 3.452801679376562, 'best': 1.5336010724149785, 'knots': 7.348909229498808, 'college': 3.122732540635111, 'personalities': 5.449161122206657, 'die': 4.504918259948763, 'f': 4.126880485570992, 'actress': 3.318869297640204, 'exhusband': 7.728398851203712, 'landing': 5.67822769182399, 'off': 2.9969349398913288, 'b': 3.3449309479642224, 'chair': 2.9874881759812397, 'which': 0.7674309670437692, 'telecommunications': 5.215054266095178, 'is': 0.11046500190207996, 'at': 0.21531928665412867, 'despite': 3.327324021559136, 'state': 6.83622909486607, 'university': 4.236715024105924, 'invited': 3.4300674197849412, 'for': 0.29145011737314763, 'such': 3.526675027076794, 'song': 2.869182927623221, 'also': 1.3881812748487046, '1989': 2.404826178624592, 'explicitly': 6.961143698490045, 'appearance': 3.3277958309568954, 'studies': 2.3430220318986272, 'development': 2.3538329480028426, 'television': 4.00360339756268, 'updated': 5.793538538334984, 'late': 2.374355720500003, 'net': 5.056906245835299, 'started': 2.1106492114865967, 'dracula': 6.908957945319475, 'letterman': 6.134465125305577, 'other': 1.4424007566948476, 'an': 1.1929563563275885, 'ever': 2.956736868784372, 'ministry': 3.5907737806231492, 'prizzis': 10.293348208665249, 'a': 0.02809592236291573, 'guest': 3.134445181959305, 'stokers': 8.213906666985412, 'though': 3.3439712549922924, 'vanessa': 6.088655589274283, 'career': 1.3050270203415668, 'dancer': 4.566500461078052, 'night': 6.558865467709443, 'success': 5.762979703355896, 'returns': 5.644161137260383, 'world': 1.370623244696304, 'sound': 7.0531612459681785, 'depaul': 6.696035948076803, 'edmund': 5.886628961400996, 'program': 2.393082171897548, 'after': 0.9443334420013064, '2004': 1.6903443608359008, '1990s': 3.1109960967799863, 'experience': 3.162849458390242, 'columbia': 3.232442750189437, 'gaining': 4.773889293473675}, {'part': 1.9194481870754878, 'xxiii': 7.895452935866879, 'super': 7.717603379755592, 'td': 5.844831832722535, '1': 2.0978765819243166, 'reception': 5.844831832722535, '92': 5.620519374203343, '123': 6.323056295113127, 'with': 0.6074059275661821, 'carry': 5.3200687011127625, 'returns': 5.644161137260383, 'carries': 5.996062802446458, '325': 7.202305755306933, '1391': 9.887883100557085, 'rushed': 6.532148092971687, 'throughout': 2.8924222411558422, 'washington': 2.6391419771008557, 'averaging': 16.567990752598753, '49ers': 13.184092469105511, 'francisco': 6.5126411879579456, 'san': 5.182487737228398, 'dolphins': 6.464706812176154, 'miami': 4.077740609909974, 'league': 2.0856737843099666, 'also': 0.9254541832324698, '1997': 2.1298344522079455, 'eleven': 4.397568911691675, 'leading': 2.5307521601251795, 'years': 2.150476198849411, 'successful': 2.679282762596886, 'before': 1.4967823726683713, 'five': 2.2137301792754096, 'team': 1.7320424426306904, '25': 2.7469019349192254, 'number': 2.12302108305424, 'wearing': 5.233922750399561, 'from': 0.5875106759712689, '89': 5.982549083279735, 'kentucky': 9.331454189949223, '228': 7.248825770941826, 'seasons': 2.6358291487042704, '63': 5.22130428644035, 'winning': 2.416330313042851, 'fifth': 3.556974546438732, 'university': 0.8473430048211847, 'setting': 4.359777639976169, 'weighs': 6.259107570512853, '9': 2.8700783164309898, '3': 2.3430220318986272, 'today': 3.4098856222521565, 'draft': 3.240194726993755, 'former': 1.3573131120992086, 'born': 0.268196273764765, 'played': 3.0908804008769675, '85': 5.648957309523876, 'went': 2.0519085188355186, 'may': 1.7899497282712007, 'd1a': 10.986495389225194, 'redskins': 6.5797761419609415, 'logan': 6.361522575940923, 'stands': 5.202670206895457, 'then': 1.4309354361561304, 'enjoyed': 4.373111170845635, 'attended': 2.2859811406819186, 'running': 3.3516747114796512, 'added': 4.280856294365192, 'a': 0.01685755341774944, '44': 5.108759607445555, 'football': 5.117141331134278, 'and': 0.0022354316941461845, 'play': 4.540574836146684, 'american': 1.1273777844250068, '206': 6.979162203992724, 'four': 1.922106072733316, 'nflmarc': 10.986495389225194, 'that': 0.6614069466714981, 'playing': 2.0910027577735617, 'xxix': 8.588600116426823, 'of': 0.016624704796446097, 'the': 0.0013205119534608735, '1135': 10.293348208665249, 'marc': 32.877458728213384, 'college': 1.5613662703175555, 'as': 0.3815085660372354, 'to': 0.09388987536359845, 'per': 7.704803336064657, 'anthony': 4.025199343315028, 'in': 0.009654063501214493, '1987': 4.967207965039633, 'back': 2.443829401835926, 'ncaa': 8.108094995305372, 'his': 1.3130572760682866, 'sophomore': 10.405340413790913, 'hall': 2.6353567821390396, 'junior': 3.176142705500905, 'senior': 2.2990532222492712, '1985': 2.5324550128142254, '1965': 3.0866000660854644, 'fame': 3.0071564939628668, 'bowl': 18.050418771491678, 'on': 0.7376510134024015, 'scored': 3.2294442471931806, 'record': 2.1528869065343033, 'cincinnati': 4.392081929475416, '15': 2.527567105940933, 'career': 1.3050270203415668, 'round': 2.897933583948961, 'touchdowns': 5.750053426395245, 'just': 2.7007299687108643, 'by': 0.37455341206197373, 'very': 2.811792506755733, 'receptions': 12.684208980167643, 'plays': 2.869182927623221, '1830': 8.588600116426823, 'national': 1.1860931647723914, 'two': 2.1977663716947125, 'kickoff': 6.796840647198769, 'mvp': 5.14005661416747, 'performance': 2.7455828475362956, 'for': 0.36431264671643454, 'had': 1.177428412308558, 'kick': 5.362477883037855, 'longest': 9.226351199296364, 'return': 6.3849925994423975, 'yards': 39.5509004443425, 'well': 1.5295293417875981, 'scrimmage': 7.767619564356994, 'records': 2.678542843954175, 'still': 2.700225936442129, '60': 4.1556211545790145, 'lbs': 6.313666554763288, 'was': 0.15873157122436693, 'at': 0.43063857330825733, 'is': 0.02761625047551999, 'selected': 2.779911774904442, 'nfl': 4.361103021217239, 'bengals': 21.048610427019216, 'tds': 14.595231870222516, 'he': 0.640105672976172}, {'silverbacks': 7.851001173296044, 'three': 1.4915025293575952, 'him': 1.5755843267871936, 'released': 2.0078348995855078, 'before': 1.4967823726683713, 'game': 2.4168995190159084, 'one': 0.9309307338087167, 'fracture': 6.908957945319475, 'suffered': 4.044338683525725, '1': 2.0978765819243166, 'scorer': 4.831637295208776, 'leading': 2.5307521601251795, 'teams': 3.1672609353661243, 'islanders': 6.134465125305577, 'puerto': 4.756013941646713, 'second': 1.6724258314865346, 'joined': 1.9082017981693435, '2006': 3.041475810769012, 'rhinos': 7.248825770941826, 'moved': 2.0172079891067893, '2004': 1.6903443608359008, 'riverhounds': 9.600201028105303, 'pittsburgh': 4.245976029618971, 'nine': 3.2624907325491286, '2003': 1.8013702663900752, 'as': 0.1271695220124118, 'serving': 2.8470548673505855, 'development': 2.3538329480028426, 'graduated': 2.2579073935292953, 'mls': 6.126682984863522, 'from': 0.29375533798563447, 'pioneer': 4.267482234839934, '2007': 1.4879730697555795, 'mens': 7.6220113512019445, 'seven': 2.7917137507818355, 'overall': 3.3986781692317676, 'bachelor': 3.357491499572237, '1997': 2.1298344522079455, 'donovan': 6.391375539090604, 'on': 0.9220637667530018, 'goals': 6.916327245035895, 'degree': 2.0206498944742566, 'played': 7.727201002192419, 'urban': 4.031856524344207, 'and': 0.002980575592194913, 'then': 2.861870872312261, '2002': 1.8753125887822302, 'four': 1.922106072733316, 'most': 1.4186204428983973, 'coach': 2.722132059493527, 'an': 0.2982390890818971, 'playing': 2.0910027577735617, 'all': 3.2862224869824943, 'team': 6.928169770522762, '26': 3.0388168179236272, 'atlanta': 3.9450837254303837, 'ann': 4.470302313182231, 'a': 0.02809592236291573, 'is': 0.02761625047551999, 'born': 0.268196273764765, 'former': 1.3573131120992086, 'nscaa': 8.278445188122983, 'in': 0.01158487620145739, 'american': 2.2547555688500136, 'school': 2.4455745584347035, 'vancouver': 8.438304527919604, 'spot': 4.285764279677384, 'february': 6.326503366894585, 'state': 1.7090572737165175, 'forwardwoolfolk': 10.986495389225194, 'stanford': 4.109199317727766, 'up': 1.5635467678501844, '2005': 1.6425861253275964, 'woolfolk': 39.55153240222834, 'rochester': 5.015233549434732, 'he': 2.7737912495634123, 'usl': 6.555678590381881, '6': 2.5744405159322614, 'assistant': 2.5220702633476124, 'university': 1.6946860096423695, 'only': 1.819375719703575, 'arbor': 5.943070272305948, 'for': 0.21858758802986072, 'corey': 6.486685718894929, 'free': 2.956736868784372, 'was': 0.15873157122436693, 'soccer': 12.827916839318299, 'attended': 4.571962281363837, '49th': 6.9975113426609195, 'signed': 5.0353049175000075, 'to': 0.1408348130453977, 'high': 3.813438774540256, 'with': 1.4172804976544247, 'first': 0.6956048713993103, 'stress': 5.8565966743021205, 'planning': 3.824873386286007, '2001': 7.712099866348551, 'san': 2.591243868614199, 'jose': 4.6496696580787535, 'earthquakes': 13.958324407985447, 'superdraft': 7.61919955923872, 'drafted': 3.7085568162795326, 'preseason': 10.467845500799122, 'round': 2.897933583948961, 'games': 4.466247936448583, 'waived': 5.930249583876886, '30': 2.6266580085851636, 'lost': 2.731706463076469, 'may': 1.7899497282712007, 'thunder': 5.51422471555372, '1996': 2.135691193468776, '18': 2.726778428203672, 'gemini': 6.1907048436284535, 'roster': 4.719294840683832, 'december': 2.001425829579395, 'whitecaps': 7.431147327735781, 'rico': 4.955810128963931, 'scoring': 3.525429874870911, 'landon': 7.690658523220865, 'michigan': 7.3213757732588425, 'june': 1.9026256813029605, 'league': 2.0856737843099666, 'minnesota': 3.9798001623881536, '5th': 4.370430204092377, 'aleague': 6.709829270209139, 'broke': 3.959180875185418, 'his': 0.2626114552136573, '1983': 2.57266471080411, 'foot': 5.151684652162589, 'the': 0.0020315568514782667, 'of': 0.016624704796446097, 'part': 1.9194481870754878, 'season': 1.8875336052324008, 'time': 1.3253342074200498, 'where': 3.267228636272019, 'dayton': 5.850696952174933, '2000': 1.8763068991994527, 'premier': 3.6766139034004075}, {'news': 2.822839213056762, 'television': 2.00180169878134, 'radio': 2.349033365418012, 'appeared': 2.0682467981894925, 'when': 1.3806055739282235, 'occasion': 5.020348650101503, 'show': 2.1689013529494012, 'rap': 5.279385124476319, 'daily': 3.536415819417696, '945': 8.501588739437194, 'jamn': 9.600201028105303, 'unavailable': 7.0744723837970485, 'akrobatik': 21.972990778450388, 'rapper': 5.11719847609142, 'boston': 3.2049394299898544, 'filled': 5.160495281844744, 'tv': 2.5660333867687286, 'created': 2.7752840274321713, 'which': 0.7674309670437692, 'morning': 3.823322998378552, 'committee': 2.468102917233475, 'industry': 2.9570625486439512, 'follow': 4.691229387785548, 'years': 1.0752380994247055, 'more': 1.673778950632145, 'even': 3.282585179608883, 'win': 2.5472637392786686, 'on': 0.7376510134024015, 'went': 2.0519085188355186, 'fellow': 2.364041687151464, 'zulu': 7.690658523220865, 'nyc': 5.205751873432865, 'world': 1.370623244696304, 'battles': 6.241563260861944, 'freestyle': 5.421974981902501, 'battle': 4.4142128465311865, 'entertainment': 7.141436827619602, 'perform': 3.956522477518808, 'math': 12.13302892679414, 'umasslowell': 10.986495389225194, '1990s': 3.1109960967799863, 'artist': 2.4318137533979653, 'northeastern': 11.609423677866218, 'several': 3.2410394514351255, 'including': 1.2272824458461182, 'fulltime': 3.795819354892987, 'lowell': 6.224321454427438, 'awards': 2.283985132035204, 'album': 9.805063341291433, 'mic': 7.0744723837970485, 'year': 1.3423616371539895, 'programs': 3.3415760442663376, 'his': 0.5252229104273146, 'east': 2.8400760661271907, 'from': 0.5875106759712689, 'coast': 3.675277004805566, 'areas': 3.774938655911393, 'competed': 3.4706063040100688, 'up': 1.5635467678501844, 'adjunct': 4.467348101284799, 'university': 0.8473430048211847, 'lasell': 10.986495389225194, '617live': 10.986495389225194, 'lecturer': 3.63726456461186, 'book': 4.005609415785018, 'hop': 14.65852931161539, 'part': 3.8388963741509756, 'regularly': 3.4954077956903187, 'hip': 14.12392189517805, 'a': 0.03371510683549888, 'professor': 4.021730409869374, 'shows': 2.8354504435401706, 'bostonhe': 9.19473591999714, 'state': 1.7090572737165175, 'new': 0.8871532656125274, '2005': 1.6425861253275964, 'sports': 3.001691999490788, 'at': 1.7225542932330293, 'is': 0.16569750285311993, 'lyrical': 17.829210816917843, 'mass': 4.390714875263883, 'and': 0.00819658287853601, 'massachusetts': 7.262986936239876, 'but': 1.313994565464302, 'such': 1.763337513538397, 'for': 0.21858758802986072, 'segments': 5.688178022677158, 'candidate': 3.1473637409508615, 'teaches': 3.7712554104950966, 'been': 1.954954670959205, 'schools': 3.2150066291075783, 'in': 0.008688657151093043, 'highly': 3.573128053529954, 'college': 4.6840988109526664, 'an': 0.8947172672456913, 'other': 1.4424007566948476, 'all': 3.2862224869824943, 'to': 0.23472468840899613, 'nation': 3.9980822072256026, 'universal': 4.5110626725211045, 'as': 0.2543390440248236, 'infiniti': 9.04058524016988, 'the': 0.0013205119534608735, 'of': 0.016624704796446097, 'course': 3.4316368681845186, 'supremacy': 8.153282045168979, 'albook': 10.986495389225194, 'performs': 4.322086368874786, 'courses': 8.35491216636443, 'bay': 3.73515040585298, 'only': 1.819375719703575, 'england': 2.646755623206051, 'latest': 3.96719873551015, 'doctoral': 4.506450827298541, 'rated': 5.184377013848131, 'who': 0.9098952189804214, 'won': 1.3836400683164753, 'arts': 2.183972890940773, 'movies': 4.061882993176634, 'parttime': 4.726913925160272, 'institute': 2.1793227663084926, 'em': 12.147681006978285, '82013': 10.986495389225194, 'both': 1.6730570592454443, 'put': 7.27452912922372, 'they': 1.8993401178193898, 'entitled': 3.208702762886364, 'appear': 4.067800170204723, 'speaks': 4.651441137727136, 'together': 2.8423969258866704, 'has': 1.713990158976156, 'worlds': 3.5737313717986314, 'mathematics': 4.234225013083452, 'first': 0.6956048713993103, 'curriculum': 5.4610424500934105, 'finals': 4.071764496506632, 'shame': 13.751243050103765, 'he': 1.280211345952344, 'also': 0.9254541832324698, 'received': 1.5396609815666638, 'ms': 4.24479469457314, 'many': 4.919893988396238, 'different': 6.116178726089319, 'venues': 4.3362163406377725, 'primarily': 7.384236179872746, 'colleges': 4.491229833288186, 'universities': 3.8033836874819134, 'bs': 4.389349687338543, 'invitation': 4.995030842117212, 'early': 1.929422753652229, 'mid': 4.850930498143455}, {'film': 2.033113917057952, 'restaurant': 5.007609624324072, 'sushi': 8.09612363132903, 'ltd': 4.465874261666498, 'television': 2.00180169878134, 'bohai': 10.293348208665249, 'studioszhejiang': 10.986495389225194, 'production': 2.7492806858757053, 'her': 1.5502153786328006, 'gong': 6.9975113426609195, 'shui': 8.213906666985412, 'company': 2.195009362476192, 'ruo': 10.293348208665249, 'autobiography': 4.888421107058954, 'an': 0.2982390890818971, 'icableye': 10.986495389225194, 'acting': 3.1974549875677174, 'productions': 3.482654642526243, 'atv': 7.654290879049991, 'series': 1.877080935838972, 'starred': 3.5683145664984064, 'shan': 7.767619564356994, 'also': 0.4627270916162349, 'exposure': 5.4811638532928315, 'month': 3.8660510168327065, 'get': 3.4474683334011993, 'moved': 2.0172079891067893, 'june': 1.9026256813029605, 'on': 0.36882550670120073, 'midautumn': 10.293348208665249, 'mc': 5.782488702148399, 'special': 2.7022435916032777, 'additionally': 4.532870390332502, 'onsite': 7.895452935866879, 'tvbs': 9.19473591999714, '2004': 1.6903443608359008, 'mcin': 10.986495389225194, 'association': 2.1546374540272892, 'worked': 1.553891853362109, 'has': 0.428497539744039, 'mandarin': 6.453895896071939, 'one': 0.9309307338087167, 'scholarship': 3.67127699947222, 'evening': 4.412815222264548, 'fluent': 5.330503578405342, 'english': 2.239461125047026, 'host': 3.5010037811944397, 'careerye': 10.986495389225194, 'group': 1.9855189451548496, 'movie': 6.601584655981294, 'immigrated': 5.693190564500702, 'then': 1.4309354361561304, 'talent': 3.81024085720805, 'rich': 9.012901654597082, 'after': 2.833000326003919, 'management': 2.8772704361352397, 'few': 3.0010110324913715, 'pursue': 8.2245937875438, 'college': 1.5613662703175555, 'reporter': 3.8272034844276295, 'as': 0.2543390440248236, 'chairman': 2.6337052541005668, 'from': 0.5875106759712689, 'contract': 6.317711685717544, 'signed': 5.0353049175000075, 'industry': 2.9570625486439512, 'eternal': 6.304364162100975, 'miss': 8.274858213183473, 'limited': 3.9073109946155262, '2005': 3.285172250655193, 'left': 6.574102430436168, '1980': 2.5468314003181947, 'president': 1.8067173228316515, 'science': 2.3447863231113892, 'attended': 2.2859811406819186, 'chinese': 11.364935436369754, 'botany': 6.979162203992724, 'dewey': 6.859361004180102, 'was': 0.2380973568365504, 'shang': 8.588600116426823, 'actress': 3.318869297640204, 'or': 1.9128915408224825, 'born': 0.268196273764765, 'xuan': 19.200402056210606, 'tvb': 31.070478257427975, 'with': 0.6074059275661821, 'ye': 45.315049108440284, 'competition': 3.0047621025333084, '14': 2.673133438090794, 'games': 2.2331239682242914, 'career': 2.6100540406831336, 'vice': 3.0711472199621164, '2006apart': 10.986495389225194, 'february': 2.1088344556315284, 'international': 4.373758475261322, 'currently': 1.637088969126014, 'place': 2.5222811225998436, 'hengdian': 10.986495389225194, 'broadcast': 3.453871770436406, 'in': 0.01158487620145739, 'producer': 2.6157162162644934, 'age': 2.138848033513307, 'and': 0.006706295082438554, 'she': 17.40185961988513, '1999': 5.990405065093903, 'athens': 4.503388037767995, 'roles': 3.204105053637735, 'student': 3.095538673086275, 'michelle': 10.565425829137986, 'won': 2.7672801366329507, 'cantonese': 7.248825770941826, 'united': 1.5679220786705559, 'a': 0.06743021367099776, '1998': 2.0687826320938068, 'more': 1.673778950632145, 'accepted': 3.96719873551015, 'lost': 2.731706463076469, 'states': 1.824400329877006, 'is': 0.08284875142655997, 'at': 0.8612771466165147, 'china': 3.5581621950343885, 'for': 0.07286252934328691, 'such': 1.763337513538397, '10': 2.3157231098806563, 'john': 1.9913303989140443, 'chamber': 3.635337162794501, 'to': 0.2816696260907954, 'high': 1.906719387270128, 'engineering': 3.3507085278296103, 'lue': 10.986495389225194, 'loveye': 10.986495389225194, 'school': 1.2227872792173518, 'where': 1.089076212090673, 'dramas': 5.561545371743792, 'first': 0.6956048713993103, 'owner': 7.948760189837629, 'fair': 4.432561985199383, 'wellesley': 6.812108119329557, 'by': 0.37455341206197373, 'but': 1.313994565464302, 'industryin': 6.9975113426609195, 'graduating': 3.3840940535593758, 'entertainment': 3.570718413809801, 'july': 3.8856001893159173, 'winning': 2.416330313042851, 'pageant': 5.266183612617783, 'offered': 3.96719873551015, 'had': 1.177428412308558, 'sector': 4.363759065275354, 'number': 2.12302108305424, 'titled': 3.4887336886026254, 'cctvshe': 10.986495389225194, 'the': 0.00121893411088696, 'of': 0.02078088099555762, 'leading': 2.5307521601251795, 'olympic': 3.520840079091138, 'famous': 6.430013258215157, 'happiness': 6.134465125305577, 'published': 1.9250031139854273, 'triumph': 5.673289410183407, 'before': 1.4967823726683713, 'skies': 6.961143698490045}, {'average': 3.9106865252468075, 'line': 3.5623301081831658, 'place': 2.5222811225998436, '20059': 9.887883100557085, 'analysis': 3.923447225837022, '16': 2.680270173193033, 'issued': 4.429717033067152, 'opinions': 5.874507600868651, '440some': 10.986495389225194, 'stonewalledof': 10.986495389225194, 'solve': 6.323056295113127, 'try': 4.374454354392102, 'pressure': 5.17835289924475, 'cold': 4.918069800981084, 'light': 3.740840321630659, 'shed': 6.44320060695519, 'veldes': 10.293348208665249, 'relating': 5.1115646583731635, 'claims': 12.716726587187637, 'amendment': 5.592867842872833, 'fourth': 3.078843794514105, '1998': 2.0687826320938068, 'december': 2.001425829579395, 'authorities': 4.500334600281105, 'jovin': 10.986495389225194, 'suzanne': 6.04485296661589, 'investigation': 4.10816892093387, 'inception': 5.391784009623355, 'name': 2.433549028103139, 'haven': 5.557149760270754, 'new': 0.8871532656125274, 'city': 1.7402088904755424, 'sued': 5.539758017558884, 'velde': 17.367820592462298, 'de': 7.1197950288360445, 'professor': 2.010865204934687, 'yet': 4.092839034622559, 'himchatigny': 10.986495389225194, 'ohara': 7.0162034756730725, 'victims': 4.7941328997503225, 'toward': 4.84876833513896, 'alone': 4.8683981911838465, 'attitude': 5.739471317064708, 'vote': 3.8420882089040553, 'date': 3.8350099253204593, '117': 6.52058727057061, 'june': 1.9026256813029605, 'allowing': 9.684619510199097, 'approved': 5.433535804303577, 'used': 2.7818235602743835, 'provided': 3.8148385664566797, 'newman': 5.833203794727416, 'associations': 4.479217676840182, 'qualified': 8.28123102792229, 'barack': 5.067601534952048, 'been': 4.887386677398013, '2005': 1.6425861253275964, 'and': 0.01564802185902329, 'tried': 4.3375108392004185, 'decision': 3.7830898681420995, 'journal': 3.025473923341824, 'judicial': 24.12644033765059, 'california': 2.345669637363682, 'editorial': 3.9582939571671902, 'april': 1.9892244829917467, 'vacated': 5.070293326617759, 'complaint': 12.207386933277647, 'supervisory': 6.3421044900838215, 'unusual': 9.719252410222019, 'appeal': 13.519352481895623, 'have': 7.208423916492358, 'thorough': 7.115294378317303, 'partyline': 10.986495389225194, 'government': 2.306673274360738, 'prevent': 5.227593615347914, 'competent': 14.148944767594097, 'nominated': 5.779355837305751, 'determine': 6.0738405034891425, 'grounds': 5.289401902719789, 'more': 1.673778950632145, 'fair': 8.865123970398766, 'order': 2.8044952529317895, 'lenient': 8.789270811888976, '4': 2.437803530749586, 'prisoner': 5.362477883037855, 'ross': 28.005163652872557, 'challenges': 5.01014447992726, 'michael': 5.346266876181588, 'delayed': 6.2679965179301, '26': 6.0776336358472545, 'when': 4.141816721784671, 'whole': 4.551948870437741, 'defendants': 6.6170475367581725, 'national': 1.1860931647723914, 'sexual': 9.253843041105634, 'restraint': 7.808441558877249, 'since': 1.455376717308041, 'prosecution': 5.457066301713771, 'justice': 3.3410976897965607, 'view': 4.2214564124446525, 'american': 1.1273777844250068, 'awarded': 2.354189390708452, 'bill': 3.1038031829361685, 'upon': 6.603422891404819, 'proceed': 7.225295273531632, 'one': 2.79279220142615, 'longrange': 7.37557747658097, '2004': 1.6903443608359008, 'developing': 3.7973276508048714, 'study': 2.82912494803842, 'filed': 14.12392189517805, 'nomination': 18.84892951257868, 'judges': 14.592007739132425, 'advised': 5.276068371850324, 'practice': 3.336326688380194, 'sentence': 9.149354243030595, 'having': 2.448323791423765, 'record': 4.3057738130686065, 'temperament': 7.728398851203712, '29': 3.134445181959305, 'confirmed': 4.1621217191821085, 'court': 34.75679527253082, 'his': 2.1008916417092585, 'chief': 2.552031845407953, 'prohibition': 7.297615935111258, 'imposed': 6.166213823620158, 'no': 4.792847104792768, 'under': 1.8347379746813095, 'dismissed': 14.747272983668113, 'to': 1.4083481304539769, 'less': 3.9574078250755322, 'sentencing': 12.572030046865557, 'rights': 6.13355125660124, 'bench': 9.386152220757426, 'amendments': 6.979162203992724, 'executed': 5.833203794727416, 'cruel': 6.604468754551313, 'favor': 5.224444006445018, 'full': 3.003055326218652, 'plans': 4.504918259948763, 'were': 3.043956046709258, 'second': 6.689703325946138, 'ab': 5.145853731851796, 'warren': 4.792089998120522, 'well': 3.0590586835751963, 'offenders': 7.0162034756730725, 'found': 8.649910910818223, '1980': 2.5468314003181947, '12page': 9.887883100557085, 'by': 4.494640944743685, 'present': 3.679293074460456, 'robert': 2.802818806604537, 'supreme': 3.9140734886878232, 'claimed': 3.846042346124036, 'be': 4.218744013624684, 'it': 1.3165805834938153, 'own': 2.269959656680699, 'was': 0.9523894273462016, '1994': 11.187778788437397, 'three': 2.9830050587151904, 'childrens': 7.1913937349790364, '2': 2.2482408126990716, 'advocacy': 4.827400000733261, 'award': 1.6322278484423687, 'from': 2.056287365899441, 'who': 5.459371313882528, 'federal': 27.799445146484597, 'o': 4.532870390332502, 'jd': 4.551948870437741, 'yale': 11.953018304464718, 'cabranes': 10.293348208665249, 'chatigny': 175.7839262276031, 'certainly': 6.199003646443148, 'is': 0.11046500190207996, 'eginton': 10.986495389225194, 'house': 2.325548234164261, 'subsequently': 2.8793779184748045, 'northern': 3.310021742836038, 'clerk': 4.997533972335331, 'fiscal': 5.750053426395245, 'disorder': 5.755386772370608, 'neil': 4.5439552227569955, 'judiciary': 33.03513879529922, 'forceful': 7.654290879049991, '28': 3.0552106276993034, 'august': 2.000173951599175, 'indeed': 5.469042492760487, 'w': 3.6528189935675104, 'if': 6.5997481085611485, 'reasonable': 12.929413624352309, 'connecticut': 31.523716264375967, 'september': 5.70345452227109, 'course': 3.4316368681845186, 'samuel': 4.796179983372047, 'actions': 9.659032807279278, 'attention': 3.4269358932174945, 'against': 8.031843916567498, 'state': 3.418114547433035, 'even': 3.282585179608883, '2006': 1.520737905384506, '10': 2.3157231098806563, 'complained': 6.3421044900838215, 'where': 1.089076212090673, 'upward': 8.153282045168979, '1973': 2.808137223619358, 'march': 3.9146344926462393, 'united': 4.703766236011668, 'appeals': 14.321667880421025, 'district': 22.195756676814057, 'bias': 6.52058727057061, 'eighth': 4.526590934847659, 'tasked': 6.629786562535602, 'served': 7.681361749652627, 'had': 3.5322852369256745, 'tempered': 8.153282045168979, 'death': 12.627460000300006, 'rosss': 8.042056410058754, 'rule': 9.175800909379973, 'compassionate': 7.348909229498808, 'commission': 5.945642492785018, 'in': 0.022204346052793332, '20052006': 5.782488702148399, 'editor': 2.7424241189294083, 'has': 5.141970476928468, 'chatignys': 65.91897233535116, 'states': 9.12200164938503, 'sensitive': 5.936639381975657, 'note': 5.14005661416747, 'jose': 4.6496696580787535, 'brown': 3.6547804194987283, 'stepchild': 9.600201028105303, 'bruce': 4.226080698141766, 'crimes': 4.922710180537586, 'seat': 6.40404430697745, 'execution': 5.943070272305948, 'received': 4.618982944699991, 'assistant': 2.5220702633476124, 'university': 2.5420290144635542, 'a': 0.11800287392424608, 'behalf': 4.711733367983255, 'centered': 5.936639381975657, 'considerationopposition': 10.986495389225194, 'abusing': 7.248825770941826, 'set': 2.699470364060131, '2009': 1.5644364836042695, 'senate': 13.552384239604923, 'law': 14.722935761763422, 'the': 0.009243583674226114, 'important': 3.297124281695504, 'unanimous': 5.880549915324614, 'allens': 6.781802769834228, 'different': 6.116178726089319, 'not': 3.1760341502672342, 'unbiased': 8.421546031763658, 'conti': 7.431147327735781, 'leaked': 6.52058727057061, 'times': 2.1000862223759134, 'us': 13.523933141649977, 'council': 4.679708261244141, 'obama': 4.810628119119433, 'waive': 17.814107695090716, 'failed': 3.579784659047554, 'cases': 4.340104874377465, 'jon': 4.514149094724294, 'rating': 5.377023594040234, '2nd': 3.899757454714617, 'school': 1.2227872792173518, 'this': 1.2818856957987381, 'megans': 9.377057476791094, 'outstanding': 3.383594927020439, 'circuit': 20.428823625900108, 'he': 2.347054134245964, 'executive': 2.4958515330424933, 'committee': 17.276720420634327, '1952': 3.610613241010182, '12': 2.511583590065563, 'association': 2.1546374540272892, 'our': 3.573128053529954, 'an': 2.385912712655177, 'years': 2.150476198849411, 'attorney': 7.318744193931803, 'includes': 3.2024383865852655, 'him': 7.877921633935968, 'letter': 9.209358743638193, 'u': 5.163449493742175, '2010': 6.371335840487894, 'seventeen': 5.3029156218865126, 'left': 2.191367476812056, 'elaborate': 6.696035948076803, 'stating': 4.932056042955824, 'call': 4.110230777334428, 's': 3.8079499054614945, 'into': 3.2101258848132113, 'courts': 4.934406220300778, 'questions': 4.693076110378713, 'departure': 9.068892869575937, 'duty': 4.857445179164649, 'judge': 83.20327164260772, 'fitness': 10.668012417913088, 'delegates': 6.142308302766603, 'serve': 3.618155702913813, 'may': 1.7899497282712007, 'close': 3.5416621153330006, 'either': 4.495771854722687, '5': 4.9358063537904995, 'dutyrequired': 10.986495389225194, 'involving': 4.620024941493757, 'enumerated': 10.986495389225194, '1': 2.0978765819243166, 'cocounsel': 8.278445188122983, 'director': 1.6150570969066835, 'woody': 5.868501576808439, 'sic': 6.812108119329557, 'allen': 4.373111170845635, 'than': 4.1300756205546225, 'gained': 3.3796108580055644, 'unsuccessfully': 4.831637295208776, 'career': 1.3050270203415668, 'prosecutor': 5.3200687011127625, '2003': 3.6027405327801505, 'publicly': 4.537605995078337, '1978': 2.6743602815767815, 'stated': 3.7501560464708503, 'taunton': 7.431147327735781, 'probable': 7.851001173296044, 'cause': 4.8023464982877115, 'dealt': 5.421974981902501, 'reportedly': 4.941490075189183, 'minor': 3.3865934300166955, 'before': 2.9935647453367427, 'standing': 4.233057470627415, 'reversed': 12.823568821443622, 'van': 11.53100396419072, 'elected': 2.23819047684557, '2001': 3.8560499331742757, 'murderer': 12.951271765416688, 'georgetown': 10.092648273009525, 'agenda': 5.648957309523876, 'sexoffender': 10.986495389225194, 'version': 3.5105894198577974, 'registry': 7.248825770941826, 'efforts': 3.83893611803574, '3': 2.3430220318986272, 'sentences': 11.810182048481462, 'childpornography': 10.986495389225194, 'at': 0.43063857330825733, 'or': 3.825783081644965, 'potentially': 6.381325203237103, 'recommended': 5.227593615347914, 'minimum': 5.996062802446458, 'most': 1.4186204428983973, 'downward': 8.278445188122983, 'with': 1.0123432126103034, 'departures': 7.808441558877249, '2006judge': 10.293348208665249, 'half': 3.421220107326263, 'long': 2.7823704566511536, 'threatened': 5.358874275534557, 'take': 6.225034019241386, 'never': 2.9922004028092166, '15': 2.527567105940933, 'away': 3.6873739265143946, '2008he': 6.134465125305577, 'attorneys': 5.4610424500934105, 'ruination': 10.986495389225194, 'license': 5.282712914568993, 'aspect': 5.9758600951289385, 'lawyer': 3.7980826527282407, 'eighttime': 7.895452935866879, 'girls': 3.986160928949964, 'born': 0.268196273764765, 'young': 2.4099018545275093, 'sentencings': 10.986495389225194, 'july': 1.9428000946579587, 'women': 3.0715123833768, 'killers': 6.629786562535602, 'student': 3.095538673086275, '24page': 10.293348208665249, 'wrote': 7.636606511425638, 'washington': 2.6391419771008557, 'mental': 4.694926249666874, 'made': 1.519886215502974, 'appellate': 6.00976164680462, 'himself': 5.638854421767913, 'james': 2.762331876587333, 'of': 0.18287175276090706, 'support': 3.0010110324913715, 'victimsupport': 10.986495389225194, 'temperatein': 10.986495389225194, 'republican': 3.6037489394862825, 'language': 3.4581636225179473, 'former': 4.071939336297626, 'appointees': 8.09612363132903, 'for': 1.3843880575224512, 'said': 2.808417925375587, 'section': 3.923447225837022, 'they': 3.7986802356387797, 'without': 6.399056773220646, 'any': 5.9918370149625435, 'reservation': 7.322933743095548, 'while': 3.672871896267883, 'each': 3.168869946171825, 'circumstances': 11.241038748406686, 'impartial': 8.278445188122983, 'we': 13.530389682813254, 'called': 2.0784770664403074, 'believe': 9.50025159804298, 'appropriate': 5.989283115461079, 'examination': 5.634637255749128, 'criminal': 7.918361750370836, 'proven': 6.023650758965287, 'charges': 4.056000623273568, '19791980': 7.1363477875151355, 'steps': 5.465034471362948, 'shows': 2.8354504435401706, 'ensure': 5.6393878585077255, 'president': 3.613434645663303, 'appropriately': 7.728398851203712, 'facts': 6.023650758965287, 'person': 3.7037342096196015, 'that': 13.228138933429962, 'sadism': 10.293348208665249, 'committed': 4.542364132524754, 'understanding': 4.349237357940737, 'rate': 5.262910287272813, 'there': 4.601145189068939, 'only': 3.63875143940715, 'defendant': 6.892150827003094, 'appealed': 5.868501576808439, 'dismissal': 5.839000912411741, 'center': 4.756000078804342, 'are': 1.7719638126305435, 'strong': 6.944481472817569, 'ma': 3.5077605636573193, 'opinion': 4.83376269452109, 'makes': 4.298140675278432, 'worked': 1.553891853362109, 'civil': 3.3244978303233013, 'candidate': 3.1473637409508615, 'matters': 4.606372852325429, 'then': 1.4309354361561304, 'punishment': 5.905091024240731, 'over': 1.4878231559557336, 'violation': 5.874507600868651, 'its': 1.6875948402695313, 'case': 24.169611755635934, 'motivated': 5.9175911870049624, 'penalty': 4.864002579710808, 'very': 2.811792506755733, '19801981judge': 10.986495389225194, 'but': 2.627989130928604, 'on': 3.5038423136614067, 'bar': 7.972321857899928, 'perception': 5.799109583384439, 'e': 3.635337162794501, 'discharge': 12.762650406474206, 'prosecutors': 11.50010685279049, 'as': 1.1445256981117062, 'clinton': 4.542364132524754, 'misconductin': 10.986495389225194, 'thrust': 7.272923322520886, 'action': 3.467888172409942, 'resolution': 5.334006208956544, 'minded': 7.808441558877249, 'proceeding': 7.225295273531632}, {'literature': 3.391108110371222, 'musical': 2.7953093845824055, 'form': 3.233730580373866, 'become': 2.4964678658817263, 'has': 0.428497539744039, 'rhyme': 7.272923322520886, 'lyrical': 5.943070272305948, 'fusing': 7.37557747658097, 'popular': 2.764478952022998, 'rb': 5.000043383940756, 'genre': 4.5632484256916745, 'fusion': 5.348140719891449, 'esp': 7.690658523220865, 'folklore': 6.21581076475953, 'history': 2.1447579606246094, 'references': 5.653776595959825, 'frequent': 4.215705965316214, 'making': 2.7223896254962385, 'poetry': 15.123440851259321, 'traditional': 7.256603272984323, 'using': 3.288012601344248, 'normally': 6.134465125305577, '2000s': 4.633865992905628, 'what': 2.819143402169124, 'beyond': 4.220303674564844, 'war': 2.809822617276739, 'issues': 3.0010110324913715, 'covering': 4.482207215688549, 'noted': 3.443222042519748, 'decade': 3.9816133995123346, 'as': 0.1271695220124118, 'across': 3.180613348996573, 'modern': 6.2743431423692675, 'ballads': 6.332535039067671, 'rapidly': 5.816011394187043, 'lyricist': 11.288322274520766, 'pinyin': 5.259647641637997, 'pulling': 6.9975113426609195, 'chou': 39.70986475750885, 'hired': 3.7793765330174383, 'awards': 2.283985132035204, 'album': 2.4512658353228582, 'together': 2.8423969258866704, 'known': 2.8915454305304062, 'best': 3.067202144829957, 'calls': 4.625192911652199, 'golden': 3.618155702913813, 'taiwanese': 6.1907048436284535, 'with': 0.8098745700882427, 'family': 2.2773603976380117, 'multigolden': 10.986495389225194, 'majority': 3.919175540571719, 'love': 2.9738144595183553, 'he': 0.853474230634896, 'nominated': 2.8896779186528754, 'collaboration': 3.7154868509442025, 'discussed': 5.299520032885375, 'runin': 7.941972951501771, 'released': 2.0078348995855078, 'jay': 18.311866392662782, '2000': 1.8763068991994527, 'fame': 3.0071564939628668, 'contemporary': 3.069687898287591, 'vincent': 4.94624067794778, 'in': 0.006757844450850144, 'taiwan': 5.100391357775038, 'similar': 4.161035352969887, 'hualien': 9.600201028105303, 'rock': 2.943474503926912, 'blue': 3.5791776787557774, 'sent': 3.865242935980653, 'at': 0.21531928665412867, 'is': 0.08284875142655997, 'refer': 6.030668331623933, 'entrepreneur': 4.175251010623901, 'since': 1.455376717308041, 'find': 4.207710491540017, 'fang': 45.124556918552805, 'career': 2.6100540406831336, '26': 3.0388168179236272, 'kong': 4.253093497387835, 'chinese': 22.729870872739507, 'was': 0.15873157122436693, 'hoping': 6.44320060695519, 'to': 0.32861456377259457, 'a': 0.039334291308082026, 'fng': 10.986495389225194, 'born': 0.268196273764765, 'wellfangs': 10.986495389225194, 'complemented': 7.489987827758714, '1997': 2.1298344522079455, 'on': 0.36882550670120073, 'entrepreneurvincent': 10.986495389225194, 'impressed': 5.337521151063989, 'melody': 11.89908557362313, 'for': 0.43717517605972145, 'january': 1.885412003185961, 'samples': 6.332535039067671, 'award': 1.6322278484423687, 'titled': 3.4887336886026254, 'of': 0.016624704796446097, 'the': 0.00060946705544348, 'limelight': 6.567654781428597, 'who': 0.9098952189804214, 'won': 1.3836400683164753, '1969': 2.8490995591685433, 'and': 0.0037257194902436414, '19th': 4.965472039875668, 'writing': 5.22819356542438, 'white': 3.1974549875677174, 'music': 3.5855853168040697, 'his': 1.838280186495601, 'porcelain': 7.489987827758714, 'sung': 5.01014447992726, 'by': 0.7491068241239475, 'just': 2.7007299687108643, 'asia': 3.7458456949697285, 'from': 0.5875106759712689, 'into': 1.6050629424066056, 'songwriting': 5.11719847609142, 'lyrics': 13.675170349621794, 'had': 1.177428412308558, 'record': 4.3057738130686065, 'style': 9.606066460466176, 'companies': 3.484860931341781, 'wide': 3.5647195955805473, 'new': 1.7743065312250548, 'wnshn': 10.986495389225194, 'that': 0.6614069466714981, 'passion': 4.429717033067152, 'company': 2.195009362476192, 'jacky': 7.851001173296044, 'su': 6.875621525051883, 'singersongwriter': 4.048210905208235, 'contributes': 5.377023594040234, 'owner': 3.9743800949188146, 'wu': 6.351766400995558, 'work': 2.7987275394509097, 'started': 2.1106492114865967, 'are': 1.7719638126305435, 'first': 0.6956048713993103, 'chous': 9.887883100557085, 'yan': 7.1363477875151355, 'then': 1.4309354361561304, 'produced': 2.511583590065563, 'albums': 3.020602654140666, 'made': 1.519886215502974, 'hong': 4.229562999977641, 'which': 1.5348619340875385, 'please': 6.2951475069960505, 'grew': 2.9691878815366133}, {'httpwwwsamoaobserverwsindexphpoptioncomcontentviewarticleid31878tributetocatid1latestnewsitemid50': 10.986495389225194, 'lemalu': 10.293348208665249, '9': 2.8700783164309898, 'short': 2.711119014388788, 'politics': 3.0398778259807213, 'retiring': 3.8140708121003493, 'february': 2.1088344556315284, 'speeches': 5.839000912411741, 'collection': 3.2771870558393252, 'see': 3.465177409025954, 'own': 2.269959656680699, 'exclusive': 5.227593615347914, 'help': 3.4662608327505664, 'kitchen': 5.620519374203343, 'with': 0.20246864252206068, 'falling': 5.477107052597217, 'bachelor': 3.357491499572237, 'about': 1.9265128988375737, 'observer': 5.078412451056264, 'money': 3.5623301081831658, 'had': 1.177428412308558, 'telephone': 5.6393878585077255, 'introduce': 5.82170941530168, 'services': 3.018868649891378, 'public': 2.029113653642407, 'colony': 6.0738405034891425, 'arrived': 4.84876833513896, 'when': 1.3806055739282235, 'twentieth': 5.574849337370154, 'early': 1.929422753652229, 'poemsin': 9.887883100557085, 'community': 2.693196030513871, 'name': 4.867098056206278, 'grandfather': 9.52783824230765, 'ancestry': 5.9626148683789175, 'german': 6.505623636898587, 'having': 2.448323791423765, 'descent': 4.7136183826790266, 'boarding': 6.1907048436284535, 'germanswedishsamoan': 10.986495389225194, 'electionretzlaff': 10.986495389225194, 'joined': 1.9082017981693435, 'going': 3.512858280728988, 'leader': 2.73196650728545, 'studied': 2.2933341149871773, 'true': 4.118520980254901, 'falelatai': 10.986495389225194, 'richest': 6.05924170406799, 'college': 1.5613662703175555, 'as': 0.3815085660372354, 'kings': 4.174150295047715, 'telefoni': 54.93247694612597, 'alesana': 9.600201028105303, 'school': 1.2227872792173518, 'educated': 3.3282678630638425, 'partyretzlaff': 10.986495389225194, 'paternal': 6.486685718894929, 'human': 2.897933583948961, 'rights': 3.06677562830062, 'samoan': 22.20892935230725, '21': 2.797250863489293, 'auckland': 15.76918681875486, 'servant': 5.25639560625162, 'may': 1.7899497282712007, 'was': 0.31746314244873386, 'paul': 2.774198250995426, 'theodor': 7.489987827758714, 'protection': 4.349237357940737, '2011': 6.809388360417167, 'run': 2.7873060301471266, 'by': 0.7491068241239475, 'hermann': 13.338014551377768, 'retzlaff': 29.663649301671256, 'shipping': 6.304364162100975, 'of': 0.049874114389338295, 'the': 0.0019299790089043535, 'march': 1.9573172463231197, 'love': 8.921443378555066, 'he': 2.347054134245964, 'from': 0.8812660139569034, 'addition': 2.6415150204546234, 'son': 2.5762194801550344, 'self': 5.276068371850324, 'agriculture': 4.548743739488793, '1986in': 7.272923322520886, 'practice': 3.336326688380194, 'zealand': 7.657519809950576, 'new': 1.7743065312250548, 'thine': 9.887883100557085, 'fisheries': 5.982549083279735, 'tribute': 9.285229910197726, 'labourhe': 9.600201028105303, 'born': 0.268196273764765, 'former': 1.3573131120992086, 'at': 0.645957859962386, 'is': 0.08284875142655997, 'confirmed': 4.1621217191821085, 'before': 1.4967823726683713, 'samoa': 19.928069902114533, 'country': 2.6743602815767815, 'deputy': 8.997931922975164, 'not': 1.5880170751336171, 'prime': 6.905603358753124, '1952': 3.610613241010182, 'commerce': 4.278411305372125, '1991': 2.3750835225699753, 'given': 2.9959185074812718, 'law': 4.907645253921141, 'on': 0.18441275335060037, 'misa': 25.765800349280468, 'minister': 10.993948560027166, 'postal': 6.44320060695519, 'in': 0.01255028255157884, 'seat': 6.40404430697745, 'appointed': 2.2003443343554556, '1988': 2.4491074905234376, 'health': 2.994564869372717, 'resigned': 3.306319748788604, 'his': 1.838280186495601, 'for': 0.14572505868657382, 'books': 2.2488823524163437, 'holds': 2.8415259721373194, 'election': 5.14178410714118, 'samatau': 10.986495389225194, 'initially': 3.6873739265143946, 'marrying': 6.475635882708344, 'young': 4.8198037090550185, 'that': 1.3228138933429963, 'articles': 2.9787953763411688, 'part': 1.9194481870754878, 'story': 2.9774647041554636, 'a': 0.02809592236291573, 'government': 2.306673274360738, 'tofilau': 9.887883100557085, 'position': 2.3300621307174527, 'eti': 9.19473591999714, 'forests': 6.2951475069960505, '1996': 2.135691193468776, 'to': 0.46944937681799226, 'became': 1.3300599330549516, 'opposition': 3.7973276508048714, '2001': 1.9280249665871378, 'retain': 5.653776595959825, 'years': 1.0752380994247055, 'currently': 1.637088969126014, 'and': 0.005961151184389826, 'attorneygeneral': 13.85210475735755, 'portfolios': 5.930249583876886, 'inherited': 6.06651446339707, 'held': 2.1669778486203057, 'role': 2.20355903287593, 'industry': 2.9570625486439512, 'has': 1.285492619232117, 'two': 1.0988831858473562, 'stated': 3.7501560464708503, 'century': 3.516271253325228, 'university': 0.8473430048211847, 'winning': 2.416330313042851, 'will': 2.679776346022504, 'be': 2.8124960090831226, 'standing': 4.233057470627415, 'published': 3.8500062279708547, '22': 2.83833894930357, 'general': 2.220724845237937}, {'views': 4.526590934847659, 'solitary': 6.592046234552756, 'almost': 3.546348708562506, 'economics': 3.497083305716475, 'would': 2.136551161989598, 'predicted': 6.259107570512853, 'what': 2.819143402169124, 'above': 4.86181199833099, 'noise': 5.5883326877074415, 'basis': 4.184100625900883, 'supersonic': 8.213906666985412, 'concorde': 8.278445188122983, 'critique': 5.880549915324614, 'sustained': 5.437419304329975, 'her': 3.100430757265601, 'aviation': 5.441317944745632, 'particularly': 3.63919568848203, '1960s': 3.5713202796118995, '1998in': 6.411784410721811, '4': 2.437803530749586, 'channel': 3.3662806186507392, 'development': 2.3538329480028426, 'television': 2.00180169878134, 'five': 2.2137301792754096, 'made': 1.519886215502974, '1987': 2.4836039825198166, 'until': 1.7591012626831841, 'with': 0.20246864252206068, 'alongside': 3.2975820523603985, 'on': 0.18441275335060037, 'long': 2.7823704566511536, 'spring': 3.725270297253273, 'editor': 8.227272356788225, 'expressgoldring': 10.986495389225194, 'pollution': 6.361522575940923, 'she': 9.491923429028251, 'it': 2.6331611669876307, 'where': 1.089076212090673, 'for': 0.36431264671643454, 'staff': 3.1712883270361067, 'then': 1.4309354361561304, 'whittam': 9.887883100557085, 'of': 0.049874114389338295, 'the': 0.0018284011663304402, 'british': 2.238031759283139, 'economist': 9.229767083986676, 'and': 0.0037257194902436414, 'moved': 2.0172079891067893, 'wellfounded': 10.293348208665249, 'an': 0.2982390890818971, 'all': 1.6431112434912472, 'rising': 4.59961606986255, 'journalist': 3.1247683114012137, 'noted': 3.443222042519748, 'series': 3.754161871677944, 'late': 4.748711441000006, 'paper': 4.013889137923441, 'departure': 4.534446434787968, 'dissent': 6.796840647198769, 'margaret': 4.734591506059306, 'anglofrench': 8.907053847545358, 'business': 4.7498030447749455, 'left': 4.382734953624112, 'a': 0.03371510683549888, 'commercial': 3.4285004306943883, 'radio': 2.349033365418012, 'in': 0.003861625400485797, 'member': 1.2204325126007385, 'obe': 5.323534909089249, 'trenchant': 8.588600116426823, 'deputy': 2.9993106409917214, 'graduated': 2.2579073935292953, '1976': 2.71622627778857, 'rank': 4.261461747058352, 'regular': 2.918719193446304, 'who': 1.8197904379608427, 'is': 0.02761625047551999, 'at': 0.645957859962386, 'smith': 3.6437161998933485, 'time': 3.9760026222601494, 'main': 3.1970408231385212, 'out': 1.8484031814566355, '1940s': 5.911321573991367, 'mary': 7.60373247301576, 'disastrous': 6.796840647198769, 'mcrae': 7.402976450769084, 'also': 0.9254541832324698, 'voice': 3.2616069499021205, 'from': 0.5875106759712689, 'broadcasteran': 10.986495389225194, 'norman': 4.90885314587616, 'bbc': 6.353096605496808, 'goldring': 43.945981556900776, 'audit': 6.016682089649193, 'wake': 4.995030842117212, 'developed': 3.092923315720292, 'lady': 4.273539188548124, 'authored': 4.0628667610867675, 'aircraft': 5.224444006445018, 'university': 0.8473430048211847, 'its': 3.3751896805390627, 'became': 3.9901797991648547, 'to': 0.2816696260907954, 'turned': 6.788258521410796, 'be': 2.8124960090831226, '1993': 2.3032794139845048, 'suddenly': 5.923900356198227, '1974': 2.77067759739274, 'screened': 5.279385124476319, 'following': 1.9609195556941061, 'dispute': 5.078412451056264, 'alastair': 7.0162034756730725, 'editorship': 7.157853992736099, 'flagship': 5.602000326436105, 'surprise': 5.276068371850324, 'over': 1.4878231559557336, 'daily': 3.536415819417696, 'analytical': 6.150213482273716, 'was': 0.07936578561218346, 'burnet': 9.04058524016988, 'journalism': 3.7712554104950966, 'analysis': 3.923447225837022, 'become': 2.4964678658817263, 'andreas': 5.827440090010665, 'chronicle': 5.13429290945072, 'correspondent': 4.3811974682769925, 'meantime': 6.709829270209139, 'wrote': 2.545535503808546, 'documentaries': 8.952474097404089, 'weekly': 3.608736480997322, 'column': 4.236564195436625, 'investors': 5.570394987020774, 'hall': 2.6353567821390396, 'edited': 3.7890600351286032, 'by': 0.37455341206197373, 'one': 0.9309307338087167, 'economists': 6.475635882708344, 'oxford': 3.550467572873346, 'presenters': 6.486685718894929, '4s': 5.911321573991367, 'as': 0.1271695220124118, 'currentaffairs': 10.986495389225194, 'into': 1.6050629424066056, 'programme': 7.475982633709168, 'staying': 5.723805200320308}, {'preservation': 5.565960389952909, 'historic': 4.506450827298541, 'family': 2.2773603976380117, 'on': 0.18441275335060037, 'focused': 3.684673047087262, 'where': 1.089076212090673, 'faculty': 3.0247765732438294, 'returning': 3.587709113805246, 'before': 1.4967823726683713, 'carolina': 3.756656611073944, 'north': 2.4321991098574545, 'powe': 10.986495389225194, 'practiced': 5.163449493742175, 'reviewshe': 8.588600116426823, 'editorinchief': 4.825288067530118, 'kuchel': 10.293348208665249, 'thomas': 3.3202734635624696, 'senator': 3.9056274925344123, 'state': 1.7090572737165175, 'house': 2.325548234164261, '14': 2.673133438090794, '1942': 4.106111307039189, 'from': 1.1750213519425379, 'provost': 5.949542786811565, 'later': 1.4294496043477696, '1996': 2.135691193468776, 'undergraduate': 4.056000623273568, 'representatives': 3.742267873621844, 'ceo': 3.594463821710603, 'schools': 3.2150066291075783, 'united': 1.5679220786705559, 'executive': 2.4958515330424933, 'sixth': 3.9477118478366533, 'assembly': 3.3434917536644764, 'september': 1.9011515074236967, 'and': 0.006706295082438554, 'occidental': 7.115294378317303, 'in': 0.009654063501214493, 'southwestern': 5.827440090010665, 'durham': 5.211943843680786, 'college': 3.122732540635111, 'westerberg': 9.600201028105303, 'any': 2.9959185074812718, 'outside': 3.6528189935675104, 'was': 0.5555604992852843, 'schoolpreviously': 10.293348208665249, 'including': 1.2272824458461182, 'president': 3.613434645663303, 'legal': 3.4243337579995425, 'an': 0.2982390890818971, 'dean': 14.806697906626363, 'longest': 4.613175599648182, 'director': 1.6150570969066835, 'ucla': 33.319711039564105, 'susan': 4.680220102277179, 'she': 18.983846858056502, '1964': 3.06677562830062, 'became': 1.3300599330549516, 'to': 0.1408348130453977, 'scholar': 3.638551566076507, 'administrator': 4.604679371819096, 'november': 1.9726566376168002, 'giving': 4.102008737182412, 'schoolsprager': 10.986495389225194, 'served': 1.5362723499305253, 'trustee': 4.573036432057838, 'prager': 18.08117048033976, 'second': 1.6724258314865346, 'legislators': 6.207371896113665, '2013': 1.9545642372230505, '1982': 2.559664637889348, 'currently': 1.637088969126014, 'history': 6.434273881873828, 'of': 0.08312352398223048, 'the': 0.0018284011663304402, 'community': 2.693196030513871, 'through': 2.028984878933582, 'dartmouth': 5.592867842872833, '1': 2.0978765819243166, 'since': 1.455376717308041, 'senate': 3.3880960599012306, 'law': 36.80733940440855, '2008': 1.5093391374786154, 'her': 6.200861514531202, 'is': 0.05523250095103998, 'at': 0.43063857330825733, 'tenure': 3.595080154549836, 'masters': 2.9307029382474243, 'alphin': 10.986495389225194, 'one': 0.9309307338087167, 'first': 1.3912097427986205, 'female': 3.502688701559359, 'born': 0.268196273764765, 'deans': 6.142308302766603, 'starting': 3.2952952917023315, 'states': 1.824400329877006, 'porter': 5.668375395380978, 'alumnusalumna': 10.986495389225194, 'become': 2.4964678658817263, 'california': 9.382678549454727, 'woman': 3.4124503838529945, 'number': 2.12302108305424, 'american': 3.3821333532750204, 'school': 3.6683618376520553, 'serve': 3.618155702913813, 'sacramento': 10.938084985520973, 'a': 0.02809592236291573, 'small': 3.140296573727769, 'during': 1.3174651479035495, 'grew': 2.9691878815366133, 'sloughhouse': 10.986495389225194, 'as': 0.2543390440248236, 'town': 3.20077449269057, 'us': 5.795971346421418, 'also': 0.4627270916162349, 'received': 4.618982944699991, 'degree': 6.061949683422769, 'up': 1.5635467678501844, 'stanford': 12.327597953183298, 'university': 1.6946860096423695, 'property': 4.367756405707975, 'for': 0.14572505868657382, 'years': 1.0752380994247055, 'association': 4.3092749080545785, 'term': 3.1064471882536173, 'worked': 1.553891853362109}, {'jikany': 10.293348208665249, 'sobat': 10.293348208665249, 'bank': 3.579784659047554, 'nyayin': 10.986495389225194, 'said': 2.808417925375587, 'soldiersthe': 10.293348208665249, 'attack': 13.353762354634608, 'by': 0.37455341206197373, 'revenge': 5.905091024240731, 'spla': 17.814107695090716, 'section': 3.923447225837022, 'janaigatliek': 10.986495389225194, '12': 2.511583590065563, 'on': 0.7376510134024015, 'statea': 9.19473591999714, 'nile': 6.943444121390644, '30': 2.6266580085851636, 'upper': 4.8997206623128875, 'duar': 10.986495389225194, 'division': 2.7906099979103978, 'group': 1.9855189451548496, '4th': 4.198650406915615, 'deputy': 2.9993106409917214, 'has': 0.428497539744039, 'general': 2.220724845237937, 'united': 1.5679220786705559, 'he': 0.213368557658724, 'commander': 8.199927493389367, 'state': 1.7090572737165175, '8th': 4.785986215182504, 'primarily': 3.692118089936373, 'men': 3.721765211295327, 'his': 0.2626114552136573, 'command': 9.123252730639614, 'an': 0.2982390890818971, 'other': 1.4424007566948476, 'announced': 2.7377046555287814, 'and': 0.005961151184389826, 'launched': 3.594463821710603, 'august': 2.000173951599175, 'called': 4.156954132880615, 'civilians': 6.453895896071939, 'war': 5.619645234553478, 'peoples': 3.7631997096628798, 'alliance': 3.993480266292234, 'kong': 4.253093497387835, 'sudanese': 7.402976450769084, 'yual': 32.95948616767558, '1995': 2.222129668695386, 'declaration': 5.982549083279735, 'along': 2.5088749729287803, 'second': 1.6724258314865346, 'bul': 9.04058524016988, 'considerable': 5.012685777355933, 'river': 4.105084085582659, 'then': 1.4309354361561304, 'than': 2.0650378102773113, 'difficulty': 6.166213823620158, '19832005in': 10.986495389225194, 'bath': 16.10917287467587, 'jonglei': 9.887883100557085, 'until': 1.7591012626831841, 'ssdf': 10.293348208665249, 'yoal': 32.95948616767558, 'faction': 11.64341883060336, 'splm': 9.19473591999714, 'a': 0.01685755341774944, 'ulang': 10.986495389225194, 'leader': 2.73196650728545, 'sudan': 18.47454495576868, 'south': 4.4773335614729035, 'been': 2.932432006438807, 'soldiers': 5.181360420308706, 'gordon': 4.401703996839478, 'divisions': 5.433535804303577, 'machar': 9.600201028105303, 'killed': 4.482207215688549, 'or': 1.9128915408224825, 'had': 2.354856824617116, 'anyanya': 20.586696417330497, 'involved': 2.674114792438443, 'hill': 3.794313330511949, 'was': 0.2380973568365504, 'yohannes': 30.880044625995744, 'militia': 13.718722008360205, 'may': 1.7899497282712007, 'garang': 9.600201028105303, 'matip': 10.986495389225194, 'of': 0.02909323339378067, 'the': 0.0017268233237565267, 'lam': 7.157853992736099, 'mobile': 4.870603263742161, 'forces': 19.306061488572414, 'etc': 4.639106179569184, 'become': 2.4964678658817263, 'george': 2.7958637083216553, 'people': 2.5151367341527564, 'both': 3.3461141184908887, 'athor': 10.986495389225194, '1991': 4.750167045139951, 'whose': 3.276290194792662, 'raids': 7.552508184740048, 'army': 6.87061704385809, '1994': 2.2375557576874794, 'liberation': 5.145853731851796, 'ayod': 10.986495389225194, 'are': 1.7719638126305435, 'nuer': 48.001005140526516, 'be': 1.4062480045415613, 'ejected': 7.115294378317303, 'is': 0.02761625047551999, 'at': 0.43063857330825733, 'alleged': 4.441145728890775, 'during': 1.3174651479035495, 'part': 1.9194481870754878, 'democratic': 3.1026721743330414, 'that': 1.3228138933429963, '1993the': 8.213906666985412, 'made': 1.519886215502974, 'based': 2.299897032948229, 'more': 1.673778950632145, 'accepted': 3.96719873551015, 'governmentsponsored': 8.421546031763658, 'in': 0.009654063501214493, 'nasir': 15.883945903003543, 'waat': 10.986495389225194, 'major': 2.0581201293715634, 'lou': 15.571312915379465, 'april': 1.9892244829917467, 'rieklater': 10.986495389225194, 'retaliation': 7.348909229498808, 'riek': 9.377057476791094, 'splmanasir': 10.986495389225194, 'dengjohannes': 10.986495389225194, 'joining': 3.1656545093178505, 'to': 0.09388987536359845, '2': 4.496481625398143, 'juba': 8.501588739437194, 'east': 2.8400760661271907, 'akol': 9.887883100557085, 'from': 0.5875106759712689, 'mayom': 10.986495389225194, 'cattle': 6.555678590381881, 'declared': 4.504918259948763, 'gave': 3.274946409596048, 'under': 9.173689873406548, 'paulino': 17.814107695090716, 'including': 1.2272824458461182, 'matiep': 10.986495389225194, 'defense': 3.794313330511949, 'doleib': 10.986495389225194, 'combined': 4.310672167590346, 'john': 1.9913303989140443, 'for': 0.14572505868657382, 'these': 2.5975902181104877, '8': 2.7572509724892824, 'breakaway': 7.0744723837970485, 'militiathe': 10.986495389225194, 'ended': 3.3430124821479934, 'now': 1.96695239252401, 'civil': 6.6489956606466025, 'johannes': 12.177311178548566, 'january': 3.770824006371922, '2005': 1.6425861253275964, '2006': 3.041475810769012, 'with': 0.20246864252206068}, {'their': 1.5201958369931787, 'proctor': 7.690658523220865, 'currently': 1.637088969126014, 'fairleigh': 7.520759486425468, 'visiting': 3.407327421829118, 'center': 2.378000039402171, 'poetry': 3.7808602128148303, 'faculty': 3.0247765732438294, 'member': 1.2204325126007385, 'university': 1.6946860096423695, 'columbia': 3.232442750189437, 'arts': 4.367945781881546, 'liberal': 3.7344414373723804, 'eugene': 4.9925339619186255, 'otherssorrentino': 10.986495389225194, 'bookforum': 8.683910296231149, 'dickinson': 6.224321454427438, 'city': 3.480417780951085, 'open': 3.1842860729780766, 'house': 2.325548234164261, 'mcsweeneys': 7.851001173296044, 'granta': 7.431147327735781, 'playboy': 5.693190564500702, 'publications': 3.253249742695399, 'such': 1.763337513538397, 'has': 0.856995079488078, 'characterizations': 8.683910296231149, 'descriptions': 6.943444121390644, 'recording': 2.9764678607434605, 'fiction': 3.6411305488083254, 'its': 3.3751896805390627, 'inaugural': 4.142745440218969, 'simon': 3.916621260766622, 'up': 1.5635467678501844, 'them': 2.497495932179739, 'text': 4.656774483702498, 'next': 5.340879337721104, 'incorporated': 5.292763250422495, 'experimental': 4.191908808348695, 'dublin': 4.3811974682769925, 'same': 4.498406553361945, 'postmodernist': 8.153282045168979, 'period': 3.028967986994421, 'felt': 4.687546142369252, 'editor': 2.7424241189294083, 'widely': 3.270925854704986, 'partner': 3.4248536436364145, 'used': 2.7818235602743835, 'patty': 6.543844132734878, 'book': 10.014023539462544, 'treatment': 4.3571321357877455, 'so': 2.661916544088344, 'trance': 20.214000441527507, 'with': 0.8098745700882427, 'into': 1.6050629424066056, 'playback': 6.979162203992724, 'secondary': 4.1174809385594875, 'session': 4.351862031363509, '2005': 6.570344501310386, 'section': 3.923447225837022, 'multitrack': 9.04058524016988, 'percussion': 5.25639560625162, 'we': 3.3825974207033136, 'a': 0.05619184472583146, 'unterberg': 9.887883100557085, 'story': 2.9774647041554636, 'to': 0.1408348130453977, 'corresponding': 6.166213823620158, 'many': 4.919893988396238, 'rican': 5.688178022677158, 'harris': 4.711733367983255, 'finalist': 4.370430204092377, 'los': 5.147548438811336, 'children': 2.4252853123921825, 'lethem': 8.789270811888976, 'an': 0.5964781781637942, 'he': 0.640105672976172, 'of': 0.07481117158400744, 'award': 3.2644556968847374, '20': 2.441881602232965, 'appeared': 2.0682467981894925, 'that': 1.9842208400144945, 'new': 3.5486130624501095, 'name': 2.433549028103139, 'ortiz': 6.7238155121838785, 'novelist': 8.89381886721505, 'mets': 10.251418331518657, 'booksin': 7.348909229498808, 'pioneered': 5.108759607445555, 'about': 3.8530257976751474, 'bookworld': 9.887883100557085, 'and': 0.011177158470730924, 'praised': 4.66933070247791, 'street': 3.250188292676909, 'nothing': 4.726913925160272, 'subtly': 7.895452935866879, 'on': 0.7376510134024015, 'gilbert': 5.526909875081035, 'vocals': 4.28946114155871, 'short': 2.711119014388788, 'draws': 5.51422471555372, 'national': 1.1860931647723914, 'jonathan': 4.394821657216536, 'descent': 4.7136183826790266, 'first': 0.6956048713993103, 'conjunctions': 8.588600116426823, 'forthhis': 10.293348208665249, 'timesin': 6.926052378678775, 'christopher': 4.141679910016931, '1963': 3.2103799121264522, 'soft': 5.570394987020774, 'work': 2.7987275394509097, 'satire': 6.00976164680462, 'but': 2.627989130928604, 'sorrentino': 49.43941550278542, 'techniques': 4.231891289737232, '92nd': 7.0744723837970485, 'ended': 3.3430124821479934, 'esquire': 6.286015023432778, 'magazine': 2.456583425401182, 'american': 3.3821333532750204, 'born': 0.268196273764765, 'boshier': 10.293348208665249, 'titles': 3.5713202796118995, 'son': 2.5762194801550344, 'more': 1.673778950632145, 'dialogue': 4.96790217472896, 'pseudonymous': 8.907053847545358, '20102011': 5.943070272305948, 'is': 0.13808125237759994, 'at': 1.0765964332706432, 'taught': 2.8485149347730556, 'riveting': 7.767619564356994, 'college': 1.5613662703175555, 'puerto': 4.756013941646713, 'may': 1.7899497282712007, 'focus': 3.594463821710603, 'epic': 5.163449493742175, 'published': 5.775009341956282, 'death': 3.1568650000750016, 'victoria': 3.941590272095824, 'press': 5.445294515712576, 'lush': 7.202305755306933, 'several': 1.6205197257175628, 'his': 1.0504458208546292, 'film': 4.066227834115904, 'format': 5.028070696195412, 'sound': 14.106322491936357, 'carefully': 6.781802769834228, 'writers': 7.088005332861507, '1995': 2.222129668695386, 'in': 0.008688657151093043, 'modernist': 6.453895896071939, 'novel': 9.959415567435325, 'times': 2.1000862223759134, 'fall': 7.268108577963223, 'tempura': 21.972990778450388, 'artist': 2.4318137533979653, 'writer': 7.5334992057229675, 'lists': 5.282712914568993, 'lives': 2.532029027717262, 'ivan': 5.425813758209666, 'innovations': 5.833203794727416, 'harpers': 5.9175911870049624, 'hearst': 7.431147327735781, 'was': 0.7142920705096512, 'echoes': 6.709829270209139, 'contains': 5.1965352183279405, 'tin': 6.0738405034891425, 'for': 0.36431264671643454, 'imaginative': 6.567654781428597, 'deep': 4.283307275984332, 'departures': 7.808441558877249, 'as': 0.5086780880496472, 'detail': 5.713495830661447, 'impac': 7.489987827758714, 'scamssorrentinos': 10.986495389225194, 'reviewers': 6.766987684049088, 'school': 2.4455745584347035, 'best': 1.5336010724149785, 'reads': 6.411784410721811, 'series': 1.877080935838972, '2007': 2.975946139511159, 'international': 1.457919491753774, '61': 5.344588318287081, 'literary': 3.5773589453050665, 'intended': 4.939123210178916, 'essential': 5.355283607403829, 'upon': 3.3017114457024097, 'longlisted': 7.115294378317303, 'one': 1.8618614676174334, 'postmodern': 6.103693466638823, 'by': 1.1236602361859211, 'the': 0.0031489131197913137, '2006': 1.520737905384506, 'york': 5.103142634286618, 'lang': 5.989283115461079, 'were': 1.521978023354629, 'authors': 4.320811671442786, '1974': 2.77067759739274, 'fugitives': 7.520759486425468, 'moviemaking': 9.04058524016988, 'structured': 6.796840647198769, 'behind': 3.26116535130806, 'conklin': 8.683910296231149, 'according': 6.874825356825817, '2010': 1.5928339601219734, 'fictional': 5.306322780208127, 'angeles': 5.3878937504988675, 'year': 1.3423616371539895, 'wrote': 2.545535503808546, 'hyperliterary': 10.986495389225194, 'y': 4.59961606986255, 'account': 4.4212304191898335, '2009': 1.5644364836042695, 'believeniks': 10.986495389225194, 'season': 1.8875336052324008, 'playful': 6.8276123058655225, 'poke': 8.588600116426823, 'collaboration': 3.7154868509442025, 'moments': 5.4852371786804675, 'novella': 6.464706812176154, 'father': 2.53865227594375, 'commercial': 3.4285004306943883, 'wish': 5.489327163931993, 'monograph': 5.744748374165552, 'minna': 8.278445188122983, 'revealed': 4.528157105880404, 'skull': 6.432618497624653, 'saga': 6.150213482273716, 'entries': 5.874507600868651, 'second': 1.6724258314865346, 'april': 1.9892244829917467, '2014': 2.2073995783446634, 'it': 1.3165805834938153, 'named': 4.060031082450563, 'announced': 2.7377046555287814, 'derek': 5.089341521588453, 'would': 2.136551161989598, 'also': 0.4627270916162349, 'publish': 5.296135934901134, 'other': 1.4424007566948476, 'attention': 3.4269358932174945, 'schustersorrentinos': 10.986495389225194}, {'about': 1.9265128988375737, 'catalyze': 9.887883100557085, 'to': 0.04694493768179923, 'lounges': 9.04058524016988, 'lectures': 4.331055038857547, 'paj': 9.600201028105303, 'airwaves': 6.859361004180102, 'arts': 2.183972890940773, 'organized': 4.063851497749306, 'publication': 3.9574078250755322, 'their': 1.5201958369931787, '2003': 1.8013702663900752, 'free103point9': 10.986495389225194, 'with': 0.20246864252206068, 'began': 1.727460095710253, 'broadcasts': 5.089341521588453, 'panel': 4.24479469457314, 'concerts': 4.0501526533911445, 'has': 0.856995079488078, 'book': 2.002804707892509, 'project': 5.289216839418013, 'senior': 2.2990532222492712, 'interviewed': 4.374454354392102, '20012004': 6.9975113426609195, 'threechannel': 10.293348208665249, 'ages': 5.406765563238972, 'material': 4.063851497749306, 'through': 4.057969757867164, 'bullshit': 8.421546031763658, 'listening': 5.5883326877074415, 'unpublished': 6.351766400995558, 'same': 2.2492032766809724, 'repaired': 8.09612363132903, 'convocations': 9.377057476791094, 'should': 3.858801689877796, 'words': 4.404470250332368, 'art': 2.4446095852185854, 'as': 0.3815085660372354, 'discussions': 11.437274460323732, '1994': 2.2375557576874794, 'atm': 8.347438059609935, 'organizing': 5.292763250422495, '1990s': 3.1109960967799863, 'scene': 3.553420040326614, 'alexis': 6.259107570512853, 'bank': 3.579784659047554, 'stereo': 6.8276123058655225, 'be': 1.4062480045415613, 'poetry': 7.561720425629661, 'possibility': 5.739471317064708, 'without': 3.199528386610323, 'the': 0.0011173562683130468, 'of': 0.016624704796446097, 'active': 2.7479584590534256, 'on': 1.1064765201036022, 'ecological': 6.158181651922893, 'york': 3.402095089524412, 'summer': 2.726778428203672, 'life': 2.1907617832744593, 'he': 1.06684278829362, 'new': 1.7743065312250548, 'songs': 2.9508926963066124, 'all': 3.2862224869824943, 'an': 0.5964781781637942, 'artists': 5.450454477295092, 'says': 8.527731188739493, 'lobbies': 8.501588739437194, 'writer': 2.511166401907656, 'side': 3.0715123833768, 'born': 0.268196273764765, 'abandoned': 5.316614466244674, 'a': 0.01685755341774944, 'city': 1.7402088904755424, 'radio': 4.698066730836024, 'college': 1.5613662703175555, 'word': 4.5312968258850725, 'emerging': 4.635609672510455, 'bhagat': 9.19473591999714, 'crosssection': 8.789270811888976, 'lands': 5.905091024240731, '2': 2.2482408126990716, 'sculpture': 4.689386069291259, 'moving': 3.1908488528906003, 'raised': 3.059531844362216, 'one': 0.9309307338087167, 'in': 0.008688657151093043, 'member': 1.2204325126007385, 'manifested': 7.585298007563039, 'ghost': 5.262910287272813, 'studied': 2.2933341149871773, 'performances': 3.352641829543426, 'spoken': 4.798231266142604, 'early': 1.929422753652229, 'generation': 3.9943989618093063, 'match': 3.475517637211099, 'goddard': 13.419658540418277, 'produced': 2.511583590065563, 'artist': 2.4318137533979653, 'radioplays': 10.293348208665249, 'around': 2.637957563839097, 'transmission': 6.250296940830698, 'practicing': 5.262910287272813, 'his': 0.7878343656409719, 'multichannel': 8.421546031763658, 'lower': 4.515695885442592, 'tape': 5.429667327525657, 'and': 0.008941726776584738, 'installations': 10.675042302127977, 'chinas': 5.874507600868651, 'tapecollages': 10.986495389225194, 'for': 0.14572505868657382, 'sound': 21.159483737904537, 'voice': 3.2616069499021205, 'east': 2.8400760661271907, 'from': 0.5875106759712689, 'collegehe': 7.094675091114568, '19992009': 8.501588739437194, 'version': 7.021178839715595, 'producing': 3.830318751744579, 'notably': 3.7639293704030234, 'speak': 4.812709285323257, 'recorded': 2.7070519015125285, 'that': 1.9842208400144945, 'deep': 4.283307275984332, 'design': 3.1789853470090015, 'sun': 4.156701651712769, 'death': 3.1568650000750016, 'working': 2.074561053063768, 'first': 0.6956048713993103, 'lecture': 19.562683307171877, 'utilized': 6.497859019493054, 'bandshell': 10.293348208665249, 'world': 1.370623244696304, 'or': 1.9128915408224825, 'everybody': 12.572030046865557, 'democracy': 8.73551281141595, 'collages': 7.225295273531632, 'no': 4.792847104792768, 'train': 4.503388037767995, 'was': 0.15873157122436693, 'opens': 6.509158574746988, 'blood': 4.4852057186848056, 'industrial': 4.147018950996352, 'included': 2.4446095852185854, 'curator': 5.054250201777184, 'strength': 5.059569363254783, 'authority': 3.959180875185418, 'at': 0.43063857330825733, 'is': 0.11046500190207996, 'look': 4.303134443458919, 'whitman': 6.796840647198769, 'neutral': 6.7380001471758355, 'mirror': 5.592867842872833, '1': 2.0978765819243166}, {'but': 1.313994565464302, '1966': 3.087341905882097, 'campaigned': 5.570394987020774, 'full': 3.003055326218652, '2005': 1.6425861253275964, '2001': 1.9280249665871378, 'synodte': 10.986495389225194, 'general': 2.220724845237937, 'anglican': 11.50010685279049, 'aotearoa': 8.683910296231149, 'o': 4.532870390332502, 'churchs': 5.755386772370608, 'phopatanga': 10.986495389225194, 'auckland': 5.25639560625162, 'adviser': 4.313197421457541, 'honorary': 3.3890990690123997, 'arbitrator': 7.272923322520886, '1999he': 6.5797761419609415, 'publishers': 4.653215761085504, 'tango': 6.174311033852777, 'kooti': 10.986495389225194, 'author': 2.2935018580052677, 'national': 1.1860931647723914, 'two': 1.0988831858473562, 'which': 0.7674309670437692, 'database': 5.827440090010665, 'land': 11.869567432556424, 'mori': 6.432618497624653, 'for': 0.21858758802986072, 'kkiri': 10.293348208665249, 'puni': 10.293348208665249, 'commission': 2.972821246392509, 'trust': 8.18770749610621, 'crown': 9.216138411147215, 'with': 0.20246864252206068, 'capacities': 5.473066643060212, 'voted': 3.922591427753126, 'acted': 8.274858213183473, 'them': 2.497495932179739, 'has': 1.285492619232117, 'contracted': 5.9175911870049624, 'consultant': 3.456552018623606, 'variety': 3.4068165661347387, 'primary': 3.3550637246482893, 'his': 0.2626114552136573, 'waitangifrom': 10.986495389225194, 'treaty': 11.79779810798562, 'undergraduate': 4.056000623273568, 'church': 3.400199082072474, 'wellington': 5.497557663068508, 'degrees': 3.774938655911393, 'respect': 5.067601534952048, 'volumes': 4.906562194129604, 'related': 3.723866788250953, 'huia': 9.887883100557085, 'include': 2.174545211685214, 'tertiary': 6.908957945319475, 'formal': 4.779919462500267, 'appointed': 2.2003443343554556, 'member': 1.2204325126007385, 'in': 0.016411907952064635, 'moriowned': 10.986495389225194, 'balliol': 7.0162034756730725, 'schoolhis': 8.683910296231149, 'williams': 3.850012180634947, 'england': 5.293511246412102, 'doctoral': 4.506450827298541, 'collegiate': 4.584578192498009, 'whenua': 10.986495389225194, 'history': 6.434273881873828, 'region': 3.7189699613970224, 'oxford': 7.100935145746692, 'te': 18.02928494041386, 'contracts': 5.489327163931993, 'was': 0.6349262848974677, 'universities': 3.8033836874819134, 'included': 2.4446095852185854, 'and': 0.01266744626682838, 'dean': 3.7016744766565908, 'an': 0.8947172672456913, 'legal': 13.69733503199817, '1994': 2.2375557576874794, 'ballb': 9.887883100557085, 'deputy': 2.9993106409917214, 'published': 5.775009341956282, 'david': 2.4512658353228582, 'former': 1.3573131120992086, 'occupation': 5.535456935659494, 'holds': 2.8415259721373194, 'bcl': 8.683910296231149, 'from': 1.7625320279138068, '2000': 1.8763068991994527, 'phd': 2.5603215961961254, 'rental': 13.92228739698009, 'solicitor': 5.782488702148399, 'promoted': 3.5191243223076345, 'is': 0.11046500190207996, 'at': 0.8612771466165147, 'by': 0.7491068241239475, 'vernon': 5.9758600951289385, 'he': 1.9203170189285161, 'faculty': 3.0247765732438294, 'never': 2.9922004028092166, '1995': 2.222129668695386, 'zealand': 19.14379952487644, 'degree': 2.0206498944742566, 'party': 2.3540111534742225, 'salaam': 7.248825770941826, 'graduate': 2.6750971107885535, 'university': 5.0840580289271085, 'victoria': 3.941590272095824, 'whanui': 10.986495389225194, 'hawkes': 7.157853992736099, 'came': 2.4364478609380096, 'a': 0.06743021367099776, 'professorhe': 7.990763115671204, '1971': 2.857025624440964, '18641909': 10.986495389225194, 'professor': 6.032595614804061, 'law': 19.630581015684562, 'es': 6.174311033852777, '1992': 2.278351314316948, 'where': 1.089076212090673, 'rhodes': 5.683190481166118, 'research': 4.395194159760633, 'college': 1.5613662703175555, 'tanzania': 11.992125604892916, 'as': 0.5086780880496472, 'legislation': 4.687546142369252, 'responsible': 3.421220107326263, 'court': 5.79279921208847, 'qualification': 5.362477883037855, 'colonial': 11.609423677866218, 'educated': 3.3282678630638425, 'dar': 6.926052378678775, 'chapters': 5.002559108538004, 'associate': 3.1540844620372743, 'bay': 3.73515040585298, 'that': 1.3228138933429963, 'hinota': 10.986495389225194, 'education': 2.4487155642005685, 'analysis': 3.923447225837022, 'also': 0.4627270916162349, 'diploma': 4.4527065512918504, 'of': 0.07481117158400744, 'the': 0.0017268233237565267, 'diptheolhe': 10.986495389225194, 'barrister': 11.68966366544507, 'act': 3.4597778278724887, 'numerous': 2.4220370053418425, 'scholar': 3.638551566076507, 'to': 0.32861456377259457, 'high': 1.906719387270128, 'wanganui': 9.377057476791094, 'practising': 6.304364162100975, 'certificate': 5.015233549434732, 'native': 3.244961799943366, 'manual': 6.05924170406799, 'qualifications': 6.182474344491938, 'academic': 3.1414709719837104, 'aucklands': 8.347438059609935, '1991': 2.3750835225699753, 'waitangirelated': 10.986495389225194, 'new': 4.435766328062637, 'time': 1.3253342074200498, 'wrote': 2.545535503808546, 'during': 1.3174651479035495, 'articles': 2.9787953763411688, 'forestry': 18.498641470860473, 'employed': 4.31572906837932, 'book': 2.002804707892509, 'on': 0.5532382600518011, 'theology': 4.555164307291715, 'issues': 6.002022064982743, 'indigenous': 5.1965352183279405}, {'2007': 1.4879730697555795, 'illustrious': 6.859361004180102, 'surrealistic': 7.728398851203712, 'often': 2.862641126119281, 'shapes': 6.351766400995558, 'geometric': 6.669007275688884, 'citizen': 4.332342869041976, 'actors': 4.251903729252247, 'italian': 3.516271253325228, 'harlequins': 7.115294378317303, 'still': 2.700225936442129, 'include': 2.174545211685214, '1997': 2.1298344522079455, 'workshop': 4.5172450724294215, 'teaching': 3.095538673086275, 'created': 2.7752840274321713, '1991roux': 10.986495389225194, 'reopened': 6.961143698490045, 'it': 1.3165805834938153, 'when': 1.3806055739282235, 'pacfico': 9.04058524016988, 'arcade': 6.8276123058655225, 'shopping': 5.755386772370608, 'that': 0.6614069466714981, 'four': 1.922106072733316, 'one': 0.9309307338087167, '1988': 2.4491074905234376, 'dc': 3.4581636225179473, 'washington': 2.6391419771008557, 'collection': 3.2771870558393252, 'prestigious': 3.6263914162360424, 'work': 1.3993637697254548, 'restoration': 5.518435248090063, 'rome': 4.125831717776908, 'named': 2.0300155412252816, 'cupola': 10.986495389225194, 'prize': 5.490638477460469, 'travelled': 4.744272123770029, '1948': 3.713402793225672, 'as': 0.2543390440248236, '1956': 3.512858280728988, 'to': 0.3755595014543938, 'contributed': 3.4405772380158712, 'phillips': 5.083862055823828, 'worked': 3.107783706724218, 'assistant': 2.5220702633476124, 'arts': 2.183972890940773, 'so': 2.661916544088344, 'themes': 4.613175599648182, 'studied': 2.2933341149871773, 'he': 1.9203170189285161, 'uruguayan': 7.202305755306933, 'were': 1.521978023354629, 'known': 1.4457727152652031, 'continued': 2.720588055069447, 'born': 0.53639254752953, 'buenos': 20.060934197738927, 'roux': 23.30285869307098, 'fine': 3.577964822330568, 'umberto': 7.61919955923872, 'city': 1.7402088904755424, 'sicily': 6.859361004180102, '1929': 5.030658019760364, 'jujuy': 9.377057476791094, 'in': 0.016411907952064635, 'for': 0.07286252934328691, 'where': 2.178152424181346, 'art': 4.889219170437171, 'international': 1.457919491753774, 'wellknown': 4.265069688434551, 'argentina': 8.850929446657243, 'watercolors': 7.460134864609033, 'his': 1.3130572760682866, 'exhibiting': 6.411784410721811, 'nonnis': 10.986495389225194, 'and': 0.008941726776584738, 'was': 0.4761947136731008, 'father': 2.53865227594375, 'there': 2.3005725945344695, 'among': 2.299897032948229, 'traveled': 4.392081929475416, 'frescoes': 9.19473591999714, 'earned': 2.3840423538581335, 'collages': 7.225295273531632, 'an': 0.8947172672456913, 'cultural': 3.3132722681034856, 'other': 1.4424007566948476, 'bottega': 9.19473591999714, 'aires': 20.27040613980819, 'ral': 6.642689967371511, 'london': 2.219789391474679, 'projects': 3.0071564939628668, 'guillermo': 6.432618497624653, 'argentine': 10.162267082341248, '1960': 3.2957522256833225, 'by': 0.37455341206197373, 'frescoesroux': 10.986495389225194, 'relocated': 4.86181199833099, 'returned': 4.44895087132721, 'province': 3.997160123250634, '1966': 3.087341905882097, 'xiii': 7.0744723837970485, 'taught': 2.8485149347730556, 'own': 2.269959656680699, 'until': 1.7591012626831841, 'painthe': 10.293348208665249, 'lived': 3.378120914844411, 'new': 1.7743065312250548, 'decoration': 6.592046234552756, 'york': 1.701047544762206, 'from': 0.29375533798563447, '1967': 3.01368460510379, 'added': 8.561712588730384, 'a': 0.011238368945166293, 'extensively': 3.7786355177927193, 'berlin': 3.767585681606134, 'munich': 4.6496696580787535, 'paris': 3.190026146139137, '1975': 2.762331876587333, 'is': 0.02761625047551999, 'at': 0.21531928665412867, 'painter': 12.802446704519802, 'school': 1.2227872792173518, 'paulo': 5.120027332291897, 'biennial': 5.602000326436105, 'highest': 3.43846641929018, 'this': 1.2818856957987381, 'honors': 3.7995943688135627, 'followed': 2.9768000314822727, 'life': 2.1907617832744593, 'konex': 8.683910296231149, 'galeras': 10.986495389225194, 'rouxs': 10.986495389225194, 'the': 0.0008126227405913067, 'of': 0.016624704796446097, 'illustrator': 5.259647641637997, 'award': 1.6322278484423687, 'are': 1.7719638126305435, 'first': 0.6956048713993103, 'realm': 6.259107570512853, 'they': 1.8993401178193898, '1982': 2.559664637889348}, {'nursing': 5.89889905399281, 'resides': 3.627027750969573, 'children': 2.4252853123921825, '20': 2.441881602232965, 'may': 1.7899497282712007, 'whom': 3.2571997149147127, 'meyers': 7.272923322520886, 'i': 2.4031399955552883, 'age': 2.138848033513307, 'died': 3.8240978918694766, '1940': 4.294411646718566, '10': 2.3157231098806563, 'from': 0.29375533798563447, 'mountford': 10.293348208665249, 'helen': 5.035852836637467, 'to': 0.1408348130453977, 'married': 4.655952523437044, 'oldest': 4.759958719937729, 'december': 2.001425829579395, 'corps': 4.476237048702044, 'during': 1.3174651479035495, 'was': 0.3968289280609173, 'and': 0.005961151184389826, 'midway': 5.880549915324614, 'new': 0.8871532656125274, 'war': 2.809822617276739, 'operated': 4.936761933993236, 'guinea': 5.771559631616209, 'served': 3.0725446998610506, 'west': 5.205210090246754, 'home': 2.4210836255384827, 'frances': 5.362477883037855, 'after': 0.9443334420013064, 'she': 1.5819872381713753, 'military': 3.2789831946248538, 'a': 0.02809592236291573, 'world': 1.370623244696304, '29': 3.134445181959305, 'australia': 2.86858644684204, 'former': 1.3573131120992086, 'born': 0.53639254752953, 'ross': 4.66752727547876, 'silver': 3.506631258060168, 'william': 3.09180453879957, 'delray': 9.377057476791094, 'academy': 2.3552594817682966, 'jr': 3.465718974162397, 'islands': 9.389852499333749, '2015': 4.0289980183482434, 'golf': 8.958435353680365, 'philippine': 5.683190481166118, 'february': 2.1088344556315284, '1930s': 6.21581076475953, 'medal': 2.8585003334532493, 'lieutenant': 8.778699374677085, 'turned': 3.394129260705398, 'an': 0.2982390890818971, 'florida': 3.3623648035639047, 'general': 6.662174535713811, '1937': 4.553555296486015, 'commander': 4.099963746694684, 'wed': 6.908957945319475, 'pennsylvania': 7.355905183372008, 'jane': 4.548743739488793, 'point': 6.864321130998893, '1933': 4.922710180537586, 'his': 0.5252229104273146, 'retired': 4.718027687829668, 'us': 1.9319904488071395, 'also': 0.4627270916162349, 'in': 0.006757844450850144, 'of': 0.04156176199111524, 'the': 0.0013205119534608735, 'command': 9.123252730639614, 'ii': 3.3077063910260405, 'with': 0.6074059275661821, 'march': 1.9573172463231197, 'united': 6.2716883146822235, 'he': 2.560422691904688, '100': 5.9482914997948, 'japan': 3.2594009044453527, 'graduate': 5.350194221577107, 'states': 7.297601319508024, 'army': 20.61185113157427, 'engineers': 5.125709165759329, 'eventually': 3.0940433457048417, 'formerly': 3.500442771362054, 'living': 3.051265849408287, '2011': 1.7023470901042919, 'rank': 4.261461747058352, 'ely': 29.840539458436133, '3': 2.3430220318986272, 'star': 8.956426283704628, 'deputy': 5.998621281983443, 'beach': 4.012016478200149, 'commanding': 5.7032916604872055, 'son': 2.5762194801550344, 'development': 2.3538329480028426, 'logistic': 8.501588739437194, 'materiel': 8.421546031763658, 'is': 0.11046500190207996, 'at': 0.645957859962386, 'merit': 4.525027212871477, 'on': 0.18441275335060037, 'near': 3.511723206827324, 'gave': 3.274946409596048, '25': 2.7469019349192254, 'j': 3.2558813231614545, 'd': 3.8381496453251267, 'awards': 2.283985132035204, 'include': 2.174545211685214, 'distinguished': 3.426414924203367, 'bronze': 3.987985746974593, 'two': 1.0988831858473562, 'stationed': 5.868501576808439, 'legions': 8.501588739437194, 'retirement': 3.2137426727564526, 'avid': 5.240292198685041, 'pittsburgh': 4.245976029618971, 'had': 1.177428412308558, 'golfer': 4.941490075189183, 'service': 2.600778560597343, 'course': 3.4316368681845186, 'three': 1.4915025293575952, 'designed': 3.83893611803574, 'sycamore': 8.347438059609935, 'up': 1.5635467678501844, '2014': 2.2073995783446634, 'when': 2.761211147856447, '1911': 7.489987827758714, 'jonas': 6.422147197757358, 'as': 0.1271695220124118}, {'today': 3.4098856222521565, 'midlands': 5.9175911870049624, 'star': 2.9854754279015427, 'between': 2.0402507798946505, '400': 4.696779818316197, 'nearly': 3.8452502668747033, 'ian': 4.245976029618971, 'related': 3.723866788250953, 'not': 1.5880170751336171, 'diseasehe': 9.887883100557085, 'still': 2.700225936442129, 'other': 1.4424007566948476, 'claimed': 3.846042346124036, 'dudley': 6.696035948076803, 'car': 3.952988904937497, 'seriously': 5.457066301713771, '1970': 2.813766284359722, '1966': 3.087341905882097, 'alzheimers': 6.509158574746988, 'lesley': 13.208937509102626, 'children': 2.4252853123921825, 'two': 2.1977663716947125, 'have': 1.4416847832984716, 'walsall': 13.593681294397538, 'tiptonhe': 10.986495389225194, 'which': 0.7674309670437692, 'made': 1.519886215502974, 'sides': 5.051601193605607, 'steven': 4.3584540130456615, 'alan': 3.932045731092254, 'making': 2.7223896254962385, 'top': 2.2740644157484557, 'roper': 23.825918854505314, 'wolves': 6.002888767516858, 'first': 0.6956048713993103, 'beginning': 3.4285004306943883, 'that': 0.6614069466714981, '196465': 7.0162034756730725, 'been': 0.9774773354796025, '27': 3.110616229728885, 'and': 0.0052160072863410975, 'union': 2.8368936534890397, 'break': 4.061882993176634, 'but': 2.627989130928604, 'wanderers': 5.839000912411741, 'into': 1.6050629424066056, 'three': 1.4915025293575952, 'age': 2.138848033513307, 'landlord': 7.654290879049991, '1': 2.0978765819243166, 'since': 1.455376717308041, 'at': 0.645957859962386, 'is': 0.05523250095103998, 'staffordshire': 7.054669756500869, 'professional': 1.950151325296976, 'born': 0.8045888212942951, 'september': 1.9011515074236967, 'express': 4.654993539331503, 'youth': 2.9583663297934346, 'cup': 2.672643121826987, 'to': 0.1408348130453977, 'injured': 4.471782698352665, 'unable': 4.470302313182231, 'as': 0.1271695220124118, 'team': 3.464084885261381, 'footballerhe': 7.728398851203712, 'lives': 5.064058055434524, 'one': 0.9309307338087167, '16': 2.680270173193033, '1962': 3.2103799121264522, 'public': 2.029113653642407, '1964': 3.06677562830062, 'mid': 4.850930498143455, 'may': 3.5798994565424014, 'games': 2.2331239682242914, 'career': 2.6100540406831336, '2014': 2.2073995783446634, 'when': 1.3806055739282235, '2008references': 10.986495389225194, 'teenage': 5.100391357775038, 'began': 1.727460095710253, 'appearances': 2.8360274776011907, 'now': 1.96695239252401, 'club': 4.417263349208051, 'tipton': 16.556890376245967, 'second': 1.6724258314865346, '1950s': 4.411419548625574, 'a': 0.022476737890332586, 'twice': 3.3301582227950113, 'football': 5.117141331134278, 'in': 0.01255028255157884, 'suffers': 6.892150827003094, 'valerie': 6.401527910554623, 'england': 5.293511246412102, 'his': 1.0504458208546292, 'year': 1.3423616371539895, '1995': 2.222129668695386, 'played': 1.5454402004384837, 'spent': 2.418609083493439, 'of': 0.024937057194669147, 'the': 0.00121893411088696, 'fellows': 5.911321573991367, 'wolverhampton': 6.381325203237103, 'march': 1.9573172463231197, 'he': 0.426737115317448, 'debut': 2.1723135660368764, '10': 2.3157231098806563, 'for': 0.14572505868657382, '32': 4.3717697890214335, '1939': 4.378494763929107, 'years': 1.0752380994247055, 'was': 0.2380973568365504, '60': 4.1556211545790145, 'win': 2.5472637392786686, 'seasonafter': 6.543844132734878, 'over': 1.4878231559557336, 'middlesbrough': 6.475635882708344, 'who': 0.9098952189804214, 'hometown': 4.3414044197195505, 'league': 4.171347568619933, 'division': 2.7906099979103978, 'girlshe': 8.907053847545358, 'were': 1.521978023354629, 'retiring': 3.8140708121003493, 'park': 3.199528386610323, 'with': 0.20246864252206068, 'mostly': 3.8741679445142827, 'fullback': 5.713495830661447, 'scoring': 3.525429874870911, 'remained': 3.3202734635624696, 'retired': 2.359013843914834, 'until': 1.7591012626831841, 'there': 2.3005725945344695, 'end': 2.419560105914143, 'from': 0.5875106759712689, 'crash': 5.078412451056264, 'house': 2.325548234164261, 'has': 0.428497539744039, 'married': 2.327976261718522, '1982': 5.119329275778696, 'signed': 2.5176524587500038, 'they': 1.8993401178193898}, {'concerts': 4.0501526533911445, 'festivals': 3.7508762481584443, 'appear': 4.067800170204723, 'continues': 3.3444509863519367, 'hurricane': 5.522663584199584, 'benefit': 4.955810128963931, 'barber': 5.911321573991367, 'star': 2.9854754279015427, 'war': 2.809822617276739, 'front': 3.717575261031473, 'bandsman': 10.293348208665249, 'age': 6.416544100539921, 'guard': 4.556775911186057, '600': 5.526909875081035, 'national': 1.1860931647723914, 'illinoisafter': 10.293348208665249, 'later': 1.4294496043477696, 'many': 3.279929325597492, 'concert': 7.006501946302689, 'vic': 5.465034471362948, 'chair': 5.9749763519624794, 'held': 4.3339556972406115, 'scholarship': 3.67127699947222, 'albums': 6.041205308281332, 'university': 0.8473430048211847, 'lasted': 4.8997206623128875, 'music': 1.7927926584020348, 'his': 1.838280186495601, '250': 5.187402734764668, 'series': 1.877080935838972, 'was': 0.15873157122436693, 'talent': 3.81024085720805, 'of': 0.012468528597334574, 'the': 0.00243786822177392, 'local': 2.5829189245959245, 'piece': 4.144879912747602, 'fellow': 2.364041687151464, 'with': 2.6320923527867888, 'girard': 8.347438059609935, 'trombonist': 6.7380001471758355, 'working': 2.074561053063768, 'playing': 2.0910027577735617, 'al': 3.8326615876463515, 'ava': 7.520759486425468, 'other': 1.4424007566948476, 'job': 3.446936559924164, 'to': 0.32861456377259457, 'very': 2.811792506755733, '16': 2.680270173193033, 'victims': 4.7941328997503225, 'jazz': 14.035564584110421, 'landed': 5.030658019760364, 'and': 0.009686870674633467, 'quincy': 25.144060093731113, 'musician': 3.0064717969145494, 'symphony': 3.8733532805181063, 'while': 1.8364359481339414, 'violin': 4.706099550264999, '12': 2.511583590065563, 'first': 2.782419485597241, 'show': 6.506704058848204, 'korean': 4.732666577649721, 'played': 3.0908804008769675, 'tour': 2.8485149347730556, 'persuaded': 6.088655589274283, '1995': 2.222129668695386, 'havens': 31.404004693184177, 'born': 0.268196273764765, 'flanagan': 7.179832899454874, '3': 2.3430220318986272, 'on': 0.7376510134024015, 'is': 0.05523250095103998, 'girards': 9.600201028105303, 'tenure': 3.595080154549836, 'by': 0.7491068241239475, 'joined': 3.816403596338687, 'who': 0.9098952189804214, 'from': 0.8812660139569034, 'at': 1.291915719924772, 'lead': 2.7774591234501234, 'school': 1.2227872792173518, 'american': 1.1273777844250068, 'big': 2.940266288149817, 'band': 18.239061512711093, 'serving': 2.8470548673505855, 'welk': 23.553003519888133, 'soloist': 4.480711329096966, 'zarchy': 10.986495389225194, '1955': 3.556974546438732, 'tromboneborn': 10.986495389225194, 'camp': 4.206573481752942, 'years': 2.150476198849411, '1960': 6.591504451366645, 'performed': 2.5307521601251795, 'both': 1.6730570592454443, 'groups': 3.4295448172122946, 'george': 2.7958637083216553, '1930': 4.918069800981084, 'schools': 3.2150066291075783, 'a': 0.05057266025324832, 'recognized': 3.4931781403630495, 'musical': 2.7953093845824055, 'may': 1.7899497282712007, 'lawrence': 8.848102591062949, 'family': 2.2773603976380117, 'professional': 3.900302650593952, 'an': 0.2982390890818971, 'instruments': 4.457076550962969, 'ended': 3.3430124821479934, 'dixieland': 8.09612363132903, 'in': 0.013515688901700289, 'illinois': 11.2203819273682, 'throughout': 5.7848444823116845, 'popular': 2.764478952022998, 'studying': 3.612493529875034, 'trombone': 18.52293310155833, 'also': 0.9254541832324698, '2005': 1.6425861253275964, 'michigan': 3.6606878866294212, 'seven': 2.7917137507818355, 'orchestra': 13.865043331002266, 'left': 2.191367476812056, '1956': 3.512858280728988, '1985': 2.5324550128142254, 'along': 2.5088749729287803, 'bob': 21.29926874394581, 'door': 5.289401902719789, '1957': 3.520840079091138, 'pete': 4.823180585190553, 'campbell': 5.015233549434732, 'instrument': 4.88617643720513, 'met': 3.361876403065796, 'as': 0.5086780880496472, 'cats': 5.497557663068508, 'idol': 5.240292198685041, 'featured': 2.542518260140216, 'dance': 7.122275004396085, 'jack': 3.7624705809393637, 'katrinabob': 10.986495389225194, 'interlochen': 7.431147327735781, 'hirt': 36.16234096067952, 'dans': 6.381325203237103, 'during': 2.634930295807099, 'bourbon': 7.61919955923872, 'street': 3.250188292676909, 'when': 2.761211147856447, 'famous': 3.2150066291075783, 'line': 3.5623301081831658, 'began': 1.727460095710253, 'time': 1.3253342074200498, 'consisted': 5.477107052597217, 'hucko': 10.986495389225194, 'he': 2.560422691904688, 'fountain': 6.926052378678775, 'formed': 3.148546473199911, 'recorded': 5.414103803025057, 'appeared': 2.0682467981894925, 'that': 0.6614069466714981, 'ralph': 4.844457983637838, 'for': 0.29145011737314763, 'good': 3.0884556984605758, 'record': 2.1528869065343033, 'lives': 2.532029027717262, 'southland': 7.402976450769084, 'times': 2.1000862223759134, 'teagardenin': 10.986495389225194, 'audio': 4.548743739488793, 'verve': 7.272923322520886, 'pier': 6.943444121390644, 'west': 2.602605045123377, 'carolina': 3.756656611073944, 'fidelity': 7.552508184740048, 'about': 1.9265128988375737, 'money': 3.5623301081831658, 'dozen': 4.72309712663357, 'musiciansbob': 10.986495389225194, 'stayed': 4.2662752340899, 'this': 2.5637713915974762, 'group': 1.9855189451548496, 'until': 3.5182025253663682, 'world': 1.370623244696304, 'new': 2.6614597968375824, 'coast': 3.675277004805566, 'move': 3.6606878866294212, 'join': 3.5785710666655954, 'their': 1.5201958369931787, 'weekly': 3.608736480997322, 'orleans': 13.733899794497088, 'tv': 2.5660333867687286, '1982': 2.559664637889348, 'nelson': 4.640859028396599, 'there': 2.3005725945344695, '23': 2.9691878815366133, 'continued': 2.720588055069447, 'raising': 5.000043383940756, '1982following': 9.887883100557085, 'freelance': 4.29938678135868, 'often': 2.862641126119281, 'crosby': 6.532148092971687, 'benny': 5.956057467832759, 'label': 3.3017114457024097, 'goodman': 5.930249583876886, 'led': 2.2402561008421333, 'clarinetist': 6.669007275688884, 'peanuts': 8.278445188122983, 'great': 2.7682474625394486, 'pacific': 3.8660510168327065, 'ringwald': 10.293348208665249, 'labels': 4.808551275174594, 'vocalspiano': 10.986495389225194, 'don': 3.921736361433392, 'saxophone': 5.437419304329975, 'zeke': 8.347438059609935, 'trumpetin': 9.19473591999714, 'north': 2.4321991098574545, 'pops': 6.1907048436284535}, {'bird': 5.433535804303577, 'fallen': 6.126682984863522, '2010': 1.5928339601219734, 'compilation': 4.672947342948099, 'hall': 2.6353567821390396, 'elizabeth': 4.044338683525725, 'appearing': 3.7487171973017515, 'concert': 3.5032509731513444, 'artist': 4.863627506795931, 'spearheaded': 6.05924170406799, 'appeared': 2.0682467981894925, 'project': 2.6446084197090065, '2008': 1.5093391374786154, 'songbirdchristie': 10.986495389225194, 'strange': 5.469042492760487, 'dark': 4.269900615704216, 'free': 2.956736868784372, 'funky': 6.604468754551313, 'magazine': 2.456583425401182, 'brilliantly': 7.520759486425468, 'spin': 5.723805200320308, 'brought': 3.350225785845821, 'copy': 5.557149760270754, 'votel': 19.77576620111417, 'watch': 4.696779818316197, 'andy': 4.338807015661865, 'spouse': 7.054669756500869, 'manchesterbased': 8.789270811888976, 'when': 1.3806055739282235, 'until': 1.7591012626831841, 'ladies': 10.87483860865995, 'languished': 8.789270811888976, 'bearded': 8.421546031763658, 'participated': 3.2647036124076587, 'pressed': 7.054669756500869, 'were': 1.521978023354629, 'renewed': 5.634637255749128, 'copies': 4.500334600281105, 'only': 1.819375719703575, 'be': 1.4062480045415613, 'it': 1.3165805834938153, 'considered': 3.150520807503628, 'london': 2.219789391474679, 'went': 2.0519085188355186, 'weavers': 7.808441558877249, 'his': 0.2626114552136573, 'music': 1.7927926584020348, 'folk': 12.444270565133554, 'reminiscent': 6.2951475069960505, 'chart': 8.566614551968664, 'novelty': 7.115294378317303, '2006': 1.520737905384506, 'pennsylvania': 3.677952591686004, 'sound': 3.5265806229840893, 'release': 2.9982917922026187, 'having': 2.448323791423765, 'in': 0.007723250800971594, 'label': 3.3017114457024097, '100': 5.9482914997948, 'original': 2.9143400810369444, 'backed': 5.3200687011127625, 'unreleased': 6.224321454427438, 'which': 2.302292901131308, 'described': 9.475372071298093, 'by': 1.8727670603098687, 'onions': 9.04058524016988, 'she': 1.5819872381713753, 'american': 1.1273777844250068, 'lost': 2.731706463076469, 'onionflavored': 10.986495389225194, 'and': 0.005961151184389826, 'funyuns': 10.986495389225194, 'singersongwriter': 4.048210905208235, 'hit': 2.9751402800639086, 'as': 0.8901866540868826, 'commercial': 6.8570008613887765, 'noncommercial': 7.941972951501771, 'to': 0.09388987536359845, 'billboard': 4.325920239385508, 'adapted': 9.633769313467477, 'dropped': 4.203170188621234, 'album': 17.15886084726001, 'recording': 2.9764678607434605, 'from': 0.5875106759712689, 'later': 1.4294496043477696, 'dj': 4.263865594369746, 'track': 3.490953445340938, 'minor': 3.3865934300166955, 'ever': 2.956736868784372, 'an': 0.8947172672456913, 'christie': 31.07905382379765, 'received': 1.5396609815666638, 'song': 2.869182927623221, 'records': 2.678542843954175, '63': 5.22130428644035, 'is': 0.05523250095103998, 'at': 0.43063857330825733, 'a': 0.05619184472583146, '1970': 2.813766284359722, 'kazoo': 8.789270811888976, 'on': 0.9220637667530018, 'hill': 3.794313330511949, 'i': 7.209419986665865, 'written': 2.3444332157630874, 'attention': 3.4269358932174945, 'of': 0.016624704796446097, 'the': 0.0016252454811826135, 'performing': 3.1247683114012137, 'recorded': 2.7070519015125285, 'cd': 3.769051957528662, 'vocal': 4.147018950996352, 'peaked': 5.3270131734655735, 'cochrane': 7.489987827758714, 'philadelphia': 3.7078664469045117, 'love': 8.921443378555066, 'national': 1.1860931647723914, 'john': 1.9913303989140443, 'for': 0.21858758802986072, 'christies': 6.567654781428597, 'guest': 3.134445181959305, 'psychedelic': 6.126682984863522, 'rpm': 7.348909229498808, 'chorus': 5.4610424500934105, 'players': 3.081791475351448, 'queen': 3.854796878758283, 'male': 4.378494763929107, 'jane': 4.548743739488793, 'hot': 4.097922929659831, 'singersin': 9.19473591999714, 'canada': 2.68571842837374, 'tv': 2.5660333867687286, 'however': 2.41879921563585, 'obscurity': 7.654290879049991, 'single': 2.887244827428234, 'three': 1.4915025293575952, 'fared': 7.520759486425468, 'susan': 4.680220102277179, 'much': 2.983801226941256, 'better': 3.445873860568042, 'weaver': 6.7238155121838785, '19': 2.8848176417706224, 'canadian': 2.766899935048114, 'donald': 4.460000529654404, 'august': 2.000173951599175, '1930s': 6.21581076475953, 'tune': 11.521497431023986, 'filled': 5.160495281844744, 'was': 0.2380973568365504, 'breathy': 9.600201028105303, 'late': 2.374355720500003, 'backup': 5.0865980356427025, '60s': 5.760748715511993, 'with': 0.6074059275661821, 'snack': 8.501588739437194, 'vinyl': 5.816011394187043, 'singles': 3.7372803321108052, 'food': 4.058937482946877, 'television': 2.00180169878134, 'lady': 4.273539188548124, 'reaching': 4.5439552227569955, '1': 2.0978765819243166, 'turtles': 7.248825770941826, 'songs': 2.9508926963066124, '1966': 6.174683811764194, 'had': 1.177428412308558, '1980signed': 10.986495389225194, 'paint': 5.249923091746003, 'columbia': 6.464885500378874}, {'burke': 5.956057467832759, 'sarah': 4.589565734009048, 'setting': 4.359777639976169, 'later': 1.4294496043477696, 'jake': 5.698228358530659, 'southeast': 4.936761933993236, 'up': 1.5635467678501844, 'developed': 3.092923315720292, 'quarters': 6.943444121390644, 'cramped': 9.04058524016988, 'those': 3.0921773253835703, 'result': 3.377624760033935, 'their': 1.5201958369931787, 'above': 4.86181199833099, 'directly': 4.694926249666874, 'daughters': 4.187439527166398, 'they': 1.8993401178193898, 'husband': 3.7092476625937105, 'with': 0.20246864252206068, 'motel': 14.75115495316194, 'owned': 4.222610480662759, 'montana': 5.535456935659494, 'helena': 6.1907048436284535, 'innkeeper': 9.19473591999714, 'living': 3.051265849408287, 'before': 1.4967823726683713, 'hines': 7.225295273531632, 'beginning': 3.4285004306943883, 'include': 2.174545211685214, 'american': 1.1273777844250068, 'family': 2.2773603976380117, 'techniques': 4.231891289737232, 'where': 2.178152424181346, 'two': 1.0988831858473562, 'rutherford': 6.875621525051883, 'lived': 3.378120914844411, 'becoming': 2.90749713054004, 'license': 5.282712914568993, 'liveaboard': 10.986495389225194, 'times': 2.1000862223759134, 'york': 1.701047544762206, 'careful': 6.796840647198769, 'walker': 4.616594406396968, 'scuba': 7.0744723837970485, 'new': 0.8871532656125274, 'private': 3.0147192663445668, 'marilyn': 5.7032916604872055, 'minnesota': 7.959600324776307, 'phillip': 5.782488702148399, 'became': 1.3300599330549516, 'to': 0.32861456377259457, 'as': 0.635847610062059, 'lobby': 6.118960938769612, 'earned': 2.3840423538581335, 'according': 3.4374126784129087, 'novelsgunn': 10.986495389225194, 'harlequin': 7.767619564356994, 'set': 5.398940728120262, 'the': 0.0009142005831652201, 'of': 0.03740558579200372, 'elizabeth': 4.044338683525725, 'gunn': 35.08101737836536, 'publishers': 4.653215761085504, 'path': 5.105962402824494, 'career': 2.6100540406831336, 'an': 0.5964781781637942, 'city': 1.7402088904755424, 'procedurals': 9.887883100557085, 'second': 1.6724258314865346, 'write': 3.862822604020587, 'is': 0.08284875142655997, 'in': 0.008688657151093043, 'series': 3.754161871677944, 'stasio': 10.293348208665249, 'forge': 6.961143698490045, 'arizona': 4.154541823659339, 'results': 4.248342894629237, 'her': 17.052369164960805, 'apartment': 5.804711838933109, 'mountains': 5.334006208956544, 'mystery': 4.9534091674263925, 'into': 1.6050629424066056, 'diver': 6.926052378678775, 'and': 0.0052160072863410975, 'desire': 5.0865980356427025, 'sailing': 5.850696952174933, 'research': 2.1975970798803166, 'police': 3.4098856222521565, 'years': 1.0752380994247055, 'novels': 4.006419448663431, 'one': 0.9309307338087167, 'lives': 2.532029027717262, 'precisiontooled': 10.986495389225194, 'fictional': 5.306322780208127, 'dell': 7.157853992736099, 'severn': 8.588600116426823, 'houseprior': 10.986495389225194, 'travel': 8.335142647899346, 'sky': 4.457076550962969, 'pilots': 5.734221961178564, 'hiked': 8.907053847545358, 'moved': 4.034415978213579, 'deserts': 8.09612363132903, 'travelled': 4.744272123770029, 'small': 3.140296573727769, 'a': 0.05057266025324832, 'extensively': 3.7786355177927193, 'us': 3.863980897614279, 'tucson': 17.80991814592697, 'canada': 2.68571842837374, 'mexico': 3.6417763350755217, 'around': 2.637957563839097, 'europe': 2.7615279103106105, 'author': 2.2935018580052677, 'including': 1.2272824458461182, 'several': 1.6205197257175628, 'sailor': 6.030668331623933, 'while': 1.8364359481339414, 'was': 0.15873157122436693, 'began': 1.727460095710253, 'grew': 2.9691878815366133, 'articles': 2.9787953763411688, 'raised': 3.059531844362216, 'she': 6.327948952685501, '1999': 1.9968016883646342, 'many': 1.639964662798746, 'made': 1.519886215502974, 'writer': 7.5334992057229675, 'which': 0.7674309670437692, 'together': 2.8423969258866704, 'retiring': 3.8140708121003493, 'were': 1.521978023354629, 'published': 1.9250031139854273, 'regional': 3.3579777626501386, 'papers': 3.858801689877796, 'this': 1.2818856957987381, 'fulltime': 3.795819354892987}, {'us': 1.9319904488071395, 'atlanta': 3.9450837254303837, 'indianapolis': 5.017787829239828, 'england': 2.646755623206051, 'fletcher': 5.949542786811565, 'mccannerickson': 9.887883100557085, 'regularly': 3.4954077956903187, 'his': 0.2626114552136573, 'use': 3.0455556268974027, 'pearson': 6.081220610786765, 'agencies': 4.744272123770029, 'more': 3.34755790126429, 'many': 1.639964662798746, 'pizza': 6.7238155121838785, 'papa': 6.555678590381881, 'including': 1.2272824458461182, 'clients': 4.506450827298541, 'over': 2.975646311911467, 'work': 2.7987275394509097, 'storyboard': 7.37557747658097, 'live': 2.586285553294776, 'done': 3.8676691401631165, 'spot': 4.285764279677384, 'network': 3.154481208719725, 'batman': 6.351766400995558, 'superman': 6.555678590381881, 'well': 1.5295293417875981, 'feature': 3.1937336684086683, 'full': 3.003055326218652, 'motorola': 7.035251670643767, 'ghostbusters': 8.09612363132903, 'extreme': 5.083862055823828, 'on': 0.18441275335060037, 'mashhe': 10.986495389225194, 'means': 4.473265278312887, '40': 3.490953445340938, 'johns': 4.304386791775386, 'times': 2.1000862223759134, 'all': 3.2862224869824943, 'advets': 10.986495389225194, 'realism': 6.037735498847026, 'years': 1.0752380994247055, 'comics': 10.25712446948347, 'hollow': 6.7238155121838785, 'worked': 1.553891853362109, 'bent': 6.979162203992724, 'was': 0.15873157122436693, 'with': 0.20246864252206068, 'cowritten': 4.970338229526841, '1954': 3.6225818878193747, 'commercial': 3.4285004306943883, 'painted': 10.4426085728807, 'realms': 7.322933743095548, 'warner': 4.70985189988355, 'city': 1.7402088904755424, 'washington': 2.6391419771008557, 'animated': 4.556775911186057, 'new': 0.8871532656125274, 'animation': 4.936761933993236, '15': 2.527567105940933, 'shows': 2.8354504435401706, 'noted': 3.443222042519748, 'for': 0.5100377054030083, 'art': 4.889219170437171, 'he': 0.640105672976172, 'united': 1.5679220786705559, 'comic': 4.398945374400398, 'program': 2.393082171897548, 'fairly': 6.030668331623933, 'viking': 6.555678590381881, 'a': 0.03371510683549888, 'story': 2.9774647041554636, 'the': 0.00060946705544348, 'of': 0.02909323339378067, 'born': 0.268196273764765, 'uncommon': 6.979162203992724, 'graphic': 9.075211990156674, 'in': 0.0019308127002428985, 'medium': 5.24670247704596, 'glory': 5.629909114553182, 'bros': 5.4811638532928315, 'book': 2.002804707892509, 'york': 1.701047544762206, 'nbm': 10.293348208665249, 'artisthe': 7.690658523220865, 'from': 0.5875106759712689, 'cartoon': 10.619483173913824, 'hampton': 11.50010685279049, 'some': 2.1974446757041473, 'spent': 2.418609083493439, 'video': 3.081791475351448, 'year': 1.3423616371539895, 'and': 0.008941726776584738, 'that': 1.9842208400144945, 'into': 1.6050629424066056, 'tv': 5.132066773537457, 'period': 3.028967986994421, 'graduated': 2.2579073935292953, 'school': 1.2227872792173518, 'arts': 4.367945781881546, 'tundra': 8.907053847545358, 'visual': 3.988899406243268, 'storyboarding': 8.501588739437194, 'highlights': 5.240292198685041, 'fricksfirestone': 10.986495389225194, 'smash': 6.166213823620158, 'include': 4.349090423370428, 'sequential': 7.585298007563039, 'uk': 2.7906099979103978, 'legend': 4.464402591055042, 'publishing': 7.196335059296175, 'has': 0.856995079488078, 'always': 3.859604580326386, 'sleepy': 7.990763115671204, 'verdilak': 10.986495389225194, 'drew': 4.419822959421953, 'states': 1.824400329877006, '96': 5.810345656651365, 'horror': 4.683876413480289, 'develop': 4.124784048744464, 'as': 0.3815085660372354, 'bo': 6.002888767516858, 'page': 4.293171720955246, 'college': 1.5613662703175555, 'length': 4.982608322118655, 'sony': 4.72309712663357, 'to': 0.04694493768179923, 'mcmahon': 7.0162034756730725, 'professor': 2.010865204934687, 'is': 0.02761625047551999, 'at': 0.21531928665412867, 'savannah': 6.669007275688884, 'wrote': 2.545535503808546, 'design': 3.1789853470090015, 'moving': 3.1908488528906003, 'toward': 4.84876833513896, 'original': 2.9143400810369444, 'helping': 3.9398481113764383, 'ad': 5.067601534952048, 'dc': 6.916327245035895, 'novel': 3.3198051891451086, 'incarnation': 6.381325203237103, 'their': 1.5201958369931787, 'before': 1.4967823726683713, 'cocacola': 6.543844132734878, 'popular': 2.764478952022998, 'behind': 3.26116535130806, 'commercials': 4.392081929475416, 'bellsouth': 8.683910296231149, 'novels': 4.006419448663431, 'one': 0.9309307338087167, 'most': 1.4186204428983973}, {'1995': 2.222129668695386, 'lettres': 6.486685718894929, 'et': 4.506450827298541, 'ordre': 6.943444121390644, 'officier': 7.767619564356994, 'berlin': 3.767585681606134, 'officer': 2.92690306033765, 'june': 1.9026256813029605, 'rome': 4.125831717776908, '2009': 1.5644364836042695, '11': 2.5966811271387873, 'paris': 6.380052292278274, 'republic': 10.249703201947627, 'honour': 4.620024941493757, 'legion': 5.510031837293684, 'national': 1.1860931647723914, 'times': 2.1000862223759134, 'contemporary': 3.069687898287591, 'artist': 2.4318137533979653, 'honours': 4.056000623273568, 'highest': 3.43846641929018, 'with': 0.20246864252206068, 'have': 1.4416847832984716, 'chevalier': 6.111298066024043, 'each': 3.168869946171825, 'republics': 6.8276123058655225, 'german': 3.2528118184492936, 'by': 0.37455341206197373, 'officially': 4.4226398626930665, 'been': 0.9774773354796025, '2006': 1.520737905384506, 'stature': 6.629786562535602, 'theatre': 2.993550841907088, 'fields': 4.109199317727766, 'nicknamed': 4.725003704904152, 'often': 2.862641126119281, 'des': 8.255860708867658, 'stems': 7.248825770941826, '17': 2.7543211528412543, 'hair': 5.249923091746003, 'has': 2.142487698720195, 'to': 0.09388987536359845, 'as': 0.3815085660372354, 'rossa': 8.907053847545358, 'having': 2.448323791423765, 'colour': 5.713495830661447, 'goro': 8.683910296231149, 'artistic': 3.7537622530475794, 'she': 9.491923429028251, 'television': 2.00180169878134, 'personalities': 5.449161122206657, 'this': 1.2818856957987381, 'july': 1.9428000946579587, 'which': 1.5348619340875385, 'bjolkati': 10.986495389225194, 'milva': 9.887883100557085, 'music': 1.7927926584020348, 'film': 2.033113917057952, 'internationally': 3.60748726159689, 'la': 2.801702735060116, 'most': 2.8372408857967946, 'particularly': 3.63919568848203, 'known': 2.8915454305304062, 'personality': 4.0847581825686206, 'popular': 11.057915808091993, 'simultaneously': 5.14005661416747, 'actress': 3.318869297640204, 'italian': 31.646441279927053, 'due': 2.7324867986603505, 'born': 0.268196273764765, 'omri': 8.501588739437194, 'commander': 8.199927493389367, 'order': 8.413485758795368, 'theatrical': 4.738452514716765, 'success': 2.881489851677948, 'female': 3.502688701559359, 'world': 1.370623244696304, 'an': 0.2982390890818971, 'musical': 8.385928153747216, 'the': 0.0022347125366260936, 'of': 0.07896734778311897, 'arts': 2.183972890940773, 'who': 0.9098952189804214, 'ilva': 20.586696417330497, 'numerous': 2.4220370053418425, 'both': 1.6730570592454443, 'from': 0.29375533798563447, 'biolcati': 10.986495389225194, 'birth': 4.309411927978059, 'for': 0.07286252934328691, 'pronunciation': 4.67476058007228, 'triumphed': 7.808441558877249, 'where': 1.089076212090673, 'press': 2.722647257856288, '1939': 4.378494763929107, 'panther': 6.6170475367581725, 'greece': 4.633865992905628, '2': 2.2482408126990716, 'singer': 2.7818235602743835, 'maria': 8.773249780024715, 'and': 0.010432014572682195, 'abroad': 4.161035352969887, 'also': 0.9254541832324698, 'received': 3.0793219631333275, 'merit': 9.050054425742953, 'is': 0.11046500190207996, 'three': 1.4915025293575952, 'names': 4.591233791109745, 'singers': 9.123252730639614, 'french': 5.855703354019153, '1960s': 3.5713202796118995, 'in': 0.008688657151093043, 'combining': 5.292763250422495, 'enormous': 6.111298066024043, 'italy': 10.100313526327572, 'fact': 4.110230777334428, 'stages': 4.925038470297177, 'germany': 6.006792897028603, 'on': 0.18441275335060037, 'additionally': 4.532870390332502, 'over': 1.4878231559557336, 'bestowed': 6.030668331623933, 'places': 4.48670834856934, 'native': 3.244961799943366, 'stage': 2.894255982500984, 'participated': 3.2647036124076587, 'televised': 5.262910287272813, 'animals': 5.070293326617759, 'events': 3.0624230643017776, '2007': 1.4879730697555795, 'programmes': 4.6029887543411885, 'successful': 2.679282762596886, 'one': 0.9309307338087167, 'albums': 3.020602654140666, 'france': 3.0078416601424633, 'her': 6.200861514531202, 'japan': 3.2594009044453527, 'korea': 4.379845203026979, 'federal': 3.0888272384982884, 'day': 2.661431695593997, 'spain': 3.7515969689103628, 'only': 1.819375719703575, 'recognised': 4.997533972335331, 'south': 2.2386667807364518, 'september': 1.9011515074236967, 'acclaim': 4.279633052622447, 'americahaving': 10.986495389225194, 'red': 3.274498882177525, 'released': 2.0078348995855078, 'remains': 3.9056274925344123}, {'1980s': 2.9688582293167167, 'activists': 5.299520032885375, 'independence': 4.59961606986255, 'events': 3.0624230643017776, 'surrounding': 5.089341521588453, 'true': 4.118520980254901, 'formosa': 8.501588739437194, 'dark': 4.269900615704216, 'well': 1.5295293417875981, 'starbucks': 7.728398851203712, 'short': 2.711119014388788, 'produced': 2.511583590065563, 'starred': 3.5683145664984064, 'room': 4.31572906837932, 'boom': 12.047301517930574, 'based': 2.299897032948229, 'writer': 2.511166401907656, 'marty': 5.816011394187043, 'lefty': 7.552508184740048, 'proof': 5.874507600868651, 'waiting': 5.469042492760487, 'democracy': 4.367756405707975, 'theatre': 2.993550841907088, 'quarterlife': 10.986495389225194, 'internet': 3.81024085720805, 'winner': 3.212900921865, 'central': 2.8997774689212887, 'comedy': 6.987470176605631, 'affairs': 2.9405866469544146, 'was': 0.07936578561218346, 'major': 2.0581201293715634, 'series': 1.877080935838972, 'transferring': 5.658619220435613, 'where': 1.089076212090673, 'for': 0.21858758802986072, 'michigan': 3.6606878866294212, 'bush': 4.170855399150863, 'tufts': 6.016682089649193, 'to': 0.1877797507271969, 'scene': 3.553420040326614, 'hollywood': 3.902268967127278, 'under': 3.669475949362619, 'will': 2.679776346022504, 'university': 2.5420290144635542, 'actor': 8.87412067533283, 'entertainmenttiao': 10.986495389225194, 'received': 3.0793219631333275, 'he': 1.280211345952344, 'stage': 2.894255982500984, 'performance': 2.7455828475362956, 'awardwinning': 3.859604580326386, 'cbs': 4.290696472166703, 'producer': 7.84714864879348, 'tiao': 21.972990778450388, 'international': 5.831677967015096, 'relations': 3.445873860568042, 'feature': 3.1937336684086683, 'taiwanese': 12.381409687256907, 'story': 2.9774647041554636, 'a': 0.04495347578066517, 'at': 0.21531928665412867, 'is': 0.05523250095103998, 'manhattan': 4.491229833288186, 'and': 0.00819658287853601, 'in': 0.009654063501214493, 'cum': 4.608069205573607, 'economist': 4.614883541993338, 'american': 1.1273777844250068, 'raised': 3.059531844362216, 'entering': 4.389349687338543, 'magna': 5.402999080443495, 'born': 0.268196273764765, 'ma': 3.5077605636573193, 'went': 2.0519085188355186, 'kansas': 4.086772281940322, 'from': 0.5875106759712689, 'film': 6.099341751173856, 'his': 1.0504458208546292, 'before': 2.9935647453367427, 'the': 0.0015236676386087002, 'of': 0.02078088099555762, 'credits': 7.728871015192103, 'field': 2.6946982841764604, 'columbia': 3.232442750189437, 'fulbright': 4.987558827278511, 'however': 2.41879921563585, 'tv': 5.132066773537457, 'scholarship': 3.67127699947222, 'ba': 3.1536878727003295, 'research': 2.1975970798803166, 'worked': 4.661675560086327, 'association': 2.1546374540272892, 'southeast': 4.936761933993236, 'asian': 3.8524016680323285, 'politics': 6.079755651961443, 'nations': 3.361876403065796, 'as': 0.5086780880496472, 'leave': 4.000853571585986, 'on': 0.5532382600518011, 'philippinestiao': 10.986495389225194, 'betrayed': 7.851001173296044, 'presidential': 3.6934777094524125, 'er': 6.391375539090604, 'clinton': 4.542364132524754, 'independent': 2.7994743218816898, 'decided': 3.3560341274415673, 'become': 2.4964678658817263, 'an': 0.5964781781637942, 'stories': 3.3976655109173812, 'yes': 5.739471317064708, 'fellow': 2.364041687151464, 'w': 3.6528189935675104, 'career': 1.3050270203415668, 'mencia': 9.377057476791094, '2002': 1.8753125887822302, 'stan': 5.477107052597217, 'management': 2.8772704361352397, 'include': 4.349090423370428, 'pursue': 4.1122968937719, 'has': 0.428497539744039, 'writertranslator': 10.986495389225194, 'madtv': 8.683910296231149, 'laude': 4.644373970504043, 'fox': 8.139560737743171, 'extremities': 9.19473591999714, 'dear': 6.21581076475953, 'untold': 7.035251670643767, 'cello': 5.539758017558884, 'administration': 6.590590583404663, 'tlc': 7.1363477875151355, 'manila': 5.6158573610975315, 'george': 2.7958637083216553, 'mind': 4.374454354392102}, {'located': 4.174150295047715, 'moms': 7.895452935866879, 'homeless': 5.82170941530168, 'transition': 4.721194176487485, 'publicly': 4.537605995078337, 'serve': 3.618155702913813, 'africanamerican': 5.108759607445555, 'becomes': 5.648957309523876, 'board': 4.439578782949358, 'limiteds': 9.600201028105303, 'newly': 4.060900192114726, 'mr': 6.833135467965085, 'money': 7.1246602163663315, 'with': 0.20246864252206068, 'matters': 9.212745704650859, 'alliance': 3.993480266292234, 'signing': 4.123737476173793, 'after': 0.9443334420013064, 'formed': 3.148546473199911, 'side': 3.0715123833768, 'which': 1.5348619340875385, 'limited': 15.629243978462105, '2013': 1.9545642372230505, 'overseas': 4.616594406396968, 'invest': 6.752388884627935, 'become': 2.4964678658817263, 'move': 3.6606878866294212, 'included': 2.4446095852185854, 'yearprimos': 10.986495389225194, 'services': 9.056605949674134, 'financial': 10.260553123358193, 'its': 1.6875948402695313, 'saluted': 8.683910296231149, 'magazine': 2.456583425401182, 'enterprise': 4.91114935813651, 'opened': 3.7023605830299893, 'regional': 3.3579777626501386, 'under': 3.669475949362619, 'visionary': 6.088655589274283, 'assets': 5.457066301713771, 'has': 0.428497539744039, 'investor': 5.526909875081035, '2012': 1.7938099524877322, 'domestic': 4.483705343309571, 'to': 0.23472468840899613, 'institutional': 5.358874275534557, 'partners': 8.988511108409446, 'india': 6.886444085039496, 'industry': 2.9570625486439512, 'not': 1.5880170751336171, 'investors': 5.570394987020774, 'cofounder': 3.903946819869894, '1955': 3.556974546438732, 'that': 1.9842208400144945, 'company': 2.195009362476192, 'south': 2.2386667807364518, 'states': 1.824400329877006, 'appointed': 2.2003443343554556, 'in': 0.01255028255157884, 'firms': 10.189702354798847, 'investment': 4.169759508630226, 'whose': 3.276290194792662, 'women': 3.0715123833768, 'estate': 17.33452943948739, 'innovation': 4.509523026335511, 'born': 0.268196273764765, 'advises': 6.453895896071939, 'management': 5.754540872270479, 'international': 1.457919491753774, 'position': 2.3300621307174527, 'director': 1.6150570969066835, 'quintin': 9.04058524016988, 'kids': 4.521907085535233, 'companyin': 6.669007275688884, 'pension': 6.111298066024043, 'center': 2.378000039402171, 'addition': 2.6415150204546234, 'chairman': 7.9011157623017, 'forbes': 5.163449493742175, 'launched': 7.188927643421206, 'also': 0.4627270916162349, 'funds': 4.5126046928729195, 'strategic': 4.274754994169014, 'the': 0.0015236676386087002, 'of': 0.05403029058844982, 'latest': 3.96719873551015, 'baldwin': 6.323056295113127, 'capital': 26.65564933823046, 'is': 0.19331375332863993, 'real': 13.482817268757445, 'markets': 4.769889288140329, 'llc': 10.195234861784627, 'iii': 4.273539188548124, 'philanthropy': 6.391375539090604, 'primo': 53.33439691467104, 'primos': 10.293348208665249, 'angeles': 2.6939468752494338, 'if': 3.2998740542805742, 'e': 3.635337162794501, 'shelter': 6.323056295113127, 'minorityowned': 30.880044625995744, 'capri': 63.16362348693503, 'billion': 4.621744632373283, 'listed': 3.9149220250136625, 'and': 0.006706295082438554, 'children': 2.4252853123921825, 'firm': 10.191478698163731, 'largest': 3.5593512558165785, 'americas': 12.505994453313132, 'black': 3.1224597301527437, '404': 8.278445188122983, 'ranked': 3.8210019141643485, 'underserved': 7.654290879049991, 'ceo': 3.594463821710603, '1947in': 10.293348208665249, 'march': 1.9573172463231197, 'united': 1.5679220786705559, 'nonexecutive': 5.850696952174933, 'global': 9.619830822464015, 'one': 4.654653669043584, 'renaming': 7.61919955923872, '2006': 1.520737905384506, '14': 2.673133438090794, 'commercial': 3.4285004306943883, 'as': 0.3815085660372354, 'top': 2.2740644157484557, 'their': 1.5201958369931787, 'twenty': 4.176352939110058, 'acumen': 7.690658523220865, 'this': 1.2818856957987381, 'richest': 6.05924170406799, 'contributor': 4.094869492172941, 'cnbc': 6.158181651922893, 'indianregistered': 10.986495389225194, 'americans': 4.761936959949835, 'urban': 8.063713048688413, 'world': 1.370623244696304, 'listprimo': 10.986495389225194, 'regular': 2.918719193446304, 'african': 3.582216271187926, 'who': 0.9098952189804214, 'fundsas': 10.293348208665249, 'a': 0.022476737890332586, 'industrys': 6.391375539090604, 'known': 2.8915454305304062, 'business': 2.3749015223874728, 'his': 1.0504458208546292, 'west': 2.602605045123377, '2000': 1.8763068991994527, 'plaza': 6.06651446339707, 'september': 1.9011515074236967, 'developed': 3.092923315720292, 'founder': 2.9784625422558864, 'first': 2.0868146141979307, 'mezzanine': 9.887883100557085, 'was': 0.31746314244873386, 'other': 1.4424007566948476, 'an': 0.5964781781637942, 'directors': 3.3244978303233013, 'early': 1.929422753652229, 'malls': 8.09612363132903, 'for': 0.29145011737314763, 'such': 1.763337513538397, 'los': 2.573774219405668, 'oldest': 4.759958719937729, 'purchased': 4.7423284885614585, 'on': 0.7376510134024015, 'hills': 4.72309712663357, 'chicago': 2.9291179006672023, 'leadership': 3.2049394299898544, 'crenshaw': 7.990763115671204}, {'pops': 6.1907048436284535, 'theme': 4.300634442156835, 'without': 3.199528386610323, 'used': 2.7818235602743835, 'paul': 2.774198250995426, 'vocals': 4.28946114155871, 'provided': 3.8148385664566797, 'leonard': 4.872813209392963, 'open': 3.1842860729780766, '1993': 2.3032794139845048, 'unexploited': 9.887883100557085, 'otherwise': 5.602000326436105, 'displayed': 5.373367282837124, 'where': 1.089076212090673, '2007': 1.4879730697555795, 'programmes': 4.6029887543411885, 'schools': 3.2150066291075783, 'number': 4.24604216610848, 'talents': 5.072992383586924, '1983': 2.57266471080411, 'palms': 7.402976450769084, 'among': 2.299897032948229, 'episode': 3.8125370694684007, 'unexpected': 5.782488702148399, 'tales': 4.91114935813651, '1987': 2.4836039825198166, 'cops': 7.179832899454874, 'star': 2.9854754279015427, '1985': 2.5324550128142254, 'storm': 4.980142229623461, 'mortality': 7.115294378317303, 'productions': 3.482654642526243, 'on': 0.5532382600518011, 'plays': 2.869182927623221, 'two': 2.1977663716947125, 'university': 0.8473430048211847, 'alternative': 4.208848795590078, 'tvs': 5.886628961400996, 'played': 3.0908804008769675, 'has': 1.285492619232117, 'top': 2.2740644157484557, 'recently': 2.6417526348076485, 'auld': 9.377057476791094, 'pit': 6.361522575940923, 'guest': 6.26889036391861, 'had': 1.177428412308558, 'also': 1.3881812748487046, 'revolution': 4.3825515646247215, 'appeared': 2.0682467981894925, 'game': 2.4168995190159084, 'was': 0.2380973568365504, 'recent': 2.9383462875599924, 'more': 3.34755790126429, 'longrunning': 10.843949963805002, 'play': 2.270287418073342, 'and': 0.0052160072863410975, 'governoramong': 10.986495389225194, 'boyard': 9.600201028105303, 'as': 0.7630171320744707, 'both': 1.6730570592454443, 'segment': 5.266183612617783, 'appearances': 5.672054955202381, 'childrens': 3.5956968674895182, 'role': 2.20355903287593, 'title': 2.5500785078362447, 'casino': 5.535456935659494, 'british': 2.238031759283139, 'known': 1.4457727152652031, 'unbound': 8.09612363132903, 'to': 0.1408348130453977, 'leeds': 4.892925619180058, 'became': 1.3300599330549516, 'in': 0.017377314302186087, 'big': 2.940266288149817, '1960s': 3.5713202796118995, 'new': 0.8871532656125274, 'blott': 10.293348208665249, 'organon': 10.293348208665249, 'catweazle': 10.986495389225194, 'who': 3.6395808759216854, 'vocal': 4.147018950996352, 'shakespeare': 5.007609624324072, 'deadly': 6.111298066024043, 'series': 11.262485615033832, 'video': 3.081791475351448, '1995bayldon': 10.986495389225194, 'riding': 4.28946114155871, 'opportunity': 4.279633052622447, 'such': 1.763337513538397, 'for': 0.14572505868657382, 'he': 1.493579903611068, 'love': 2.9738144595183553, 'avengers': 6.9975113426609195, 'creature': 6.908957945319475, 'first': 1.3912097427986205, 'dramas': 5.561545371743792, 'audio': 4.548743739488793, 'west': 2.602605045123377, 'caseyin': 10.293348208665249, 'after': 1.8886668840026128, 'born': 0.53639254752953, 'version': 3.5105894198577974, 'gummidge': 10.293348208665249, '7': 2.727813892960958, 'doctors': 4.91114935813651, 'magic': 4.498811370740584, 'envy': 7.941972951501771, 'actor': 2.958040225110943, 'turning': 4.566500461078052, 'parts': 8.167505304133202, 'show': 2.1689013529494012, 'watch': 4.696779818316197, 'include': 4.349090423370428, 'bayldon': 21.972990778450388, 'january': 1.885412003185961, 'down': 5.8953212628748926, 'several': 1.6205197257175628, '1965': 3.0866000660854644, 'geoffrey': 5.6158573610975315, '1961': 3.3207419573634955, 'the': 0.0031489131197913137, 'bayldons': 10.986495389225194, 'crowman': 10.986495389225194, 'of': 0.049874114389338295, 'yorkshire': 5.005081177970713, 'appearance': 6.655591661913791, '1971': 2.857025624440964, 'newtons': 7.808441558877249, 'roles': 6.40821010727547, '197072': 8.421546031763658, 'second': 1.6724258314865346, 'landscape': 5.007609624324072, '1924': 5.6393878585077255, 'is': 0.02761625047551999, '1986': 2.487466168436628, 'many': 1.639964662798746, 'simplicio': 10.293348208665249, 'bbc': 12.706193210993616, 'including': 2.4545648916922365, 'science': 2.3447863231113892, 'sheltering': 8.588600116426823, 'from': 0.29375533798563447, 'doctor': 18.04368240498661, 'fiction': 3.6411305488083254, 'five': 2.2137301792754096, 'portraying': 5.839000912411741, 'television': 12.010810192688039, 'episodes': 4.181880869162571, 'an': 0.2982390890818971, 'playing': 2.0910027577735617, 'other': 1.4424007566948476, 'tricks': 6.241563260861944, 'dramatisation': 8.213906666985412, 'sir': 3.956522477518808, 'worzel': 9.887883100557085, '197981': 7.941972951501771, 'king': 3.452801679376562, 'grandad': 9.600201028105303, 'seven': 2.7917137507818355, 'porridge': 17.57854162377795, 'which': 0.7674309670437692, 'based': 2.299897032948229, 'made': 3.039772431005948, 'a': 0.03371510683549888, 'q': 5.734221961178564, 'finish': 3.6593720969659014, 'his': 0.2626114552136573, 'film': 6.099341751173856, '1967': 9.04105381531137, 'hardcastles': 10.293348208665249, 'angelsother': 10.986495389225194, '1970s': 3.216272185066409, 'rat': 6.381325203237103, 'singing': 3.7965732184793866, 'with': 0.20246864252206068, 'royale': 7.248825770941826, 'by': 0.37455341206197373, 'magnificent': 6.642689967371511, 'marc': 4.696779818316197, 'sins': 7.094675091114568, 'wizard': 6.150213482273716, 'bolant': 10.986495389225194, '1998he': 6.567654781428597, 'rex': 6.166213823620158, 'fort': 4.4212304191898335, 'boogie': 6.979162203992724, '1979': 5.206581675624547}, {'uwe': 7.690658523220865, 'serving': 2.8470548673505855, 'international': 1.457919491753774, 'founding': 3.09703623982067, 'american': 1.1273777844250068, '2005': 1.6425861253275964, 'cited': 4.149162574539603, 'became': 1.3300599330549516, 'defined': 5.629909114553182, 'scipulfdietrich': 10.986495389225194, '2002': 1.8753125887822302, 'by': 0.37455341206197373, 'scientist': 3.9372405479693575, 'later': 1.4294496043477696, 'young': 2.4099018545275093, 'that': 0.6614069466714981, 'via': 4.163209266869507, 'chapter': 4.290696472166703, 'german': 6.505623636898587, 'founders': 4.744272123770029, 'seven': 2.7917137507818355, 'wide': 3.5647195955805473, 'experiments': 11.336750790761956, 'real': 3.3707043171893614, 'won': 1.3836400683164753, 'laboratory': 4.290696472166703, 'dgof': 10.986495389225194, '1994': 2.2375557576874794, 'data': 4.477726252253513, 'big': 2.940266288149817, 'media': 2.527567105940933, 'social': 2.6226865047083137, 'cognition': 6.464706812176154, 'measurement': 6.401527910554623, 'tests': 5.330503578405342, 'experimental': 12.575726425046085, 'used': 2.7818235602743835, 'method': 4.767895269533465, 'experimenting': 13.087688265469756, 'particular': 3.836578553093086, 'online': 7.121083464295307, 'world': 1.370623244696304, 'or': 1.9128915408224825, 'lab': 4.977682203782599, 'methodologies': 7.225295273531632, 'universities': 3.8033836874819134, 'field': 2.6946982841764604, 'web': 8.459125999955281, 'spanish': 3.7365698525072064, 'scientists': 4.934406220300778, 'top': 2.2740644157484557, 'him': 3.1511686535743872, 'ranked': 3.8210019141643485, 'cientificas': 10.293348208665249, 'private': 3.0147192663445668, 'investigaciones': 8.907053847545358, 'de': 2.3732650096120147, 'journal': 6.050947846683648, 'superior': 4.9042764788487485, 'consejo': 8.501588739437194, 'based': 2.299897032948229, 'neuroscience': 5.996062802446458, 'standards': 4.653215761085504, 'book': 2.002804707892509, 'lecturer': 3.63726456461186, 'switzerland': 4.161035352969887, 'affiliated': 9.803991952300047, 'jointly': 5.4811638532928315, 'remains': 3.9056274925344123, 'one': 1.8618614676174334, 'bilbao': 7.035251670643767, 'was': 0.31746314244873386, '7th': 4.626921520552817, 'tenured': 6.142308302766603, 'deusto': 9.887883100557085, 'tbingen': 14.189350182229136, '2009': 3.128872967208539, 'working': 4.149122106127536, 'first': 2.0868146141979307, 'between': 2.0402507798946505, 'an': 0.8947172672456913, 'matzat': 10.986495389225194, 'political': 2.322262455159642, 'currently': 1.637088969126014, 'iscience': 21.972990778450388, 'wrote': 2.545535503808546, 'ikerbasque': 32.95948616767558, 'boulder': 5.839000912411741, 'and': 0.011177158470730924, 'articles': 2.9787953763411688, 'assessment': 5.380693322929197, 'president': 1.8067173228316515, 'science': 7.034358969334168, 'holds': 2.8415259721373194, 'a': 0.04495347578066517, 'ulfdietrich': 21.972990778450388, 'is': 0.11046500190207996, 'at': 1.0765964332706432, 'since': 1.455376717308041, 'editor': 2.7424241189294083, 'methodology': 5.739471317064708, 'professor': 6.032595614804061, 'reips': 65.91897233535116, 'spain': 7.5031939378207255, 'for': 0.43717517605972145, 'in': 0.016411907952064635, 'psychological': 9.845420361075172, '1995': 2.222129668695386, 'spent': 2.418609083493439, 'his': 1.3130572760682866, 'oberassistent': 10.986495389225194, 'faculty': 3.0247765732438294, 'habilitation': 6.696035948076803, 'full': 3.003055326218652, 'founded': 2.7103551696667347, 'dr': 3.0061296241139486, 'on': 0.9220637667530018, 'elected': 2.23819047684557, 'sciences': 3.1600522537691806, 'phd': 2.5603215961961254, 'methods': 9.046931864609048, '2004': 1.6903443608359008, 'from': 0.8812660139569034, 'with': 0.8098745700882427, 'affiliation': 6.182474344491938, 'general': 2.220724845237937, 'he': 1.9203170189285161, '1997': 4.259668904415891, 'received': 4.618982944699991, 'konstanz': 8.347438059609935, 'legendi': 9.04058524016988, 'society': 7.334414178625708, '2013': 1.9545642372230505, 'until': 1.7591012626831841, 'nonnorth': 9.887883100557085, 'chair': 2.9874881759812397, 'department': 4.679708261244141, 'ma': 3.5077605636573193, 'zurich': 5.344588318287081, 'venia': 8.907053847545358, 'title': 2.5500785078362447, 'privatdozent': 10.293348208665249, 'sonoma': 7.0744723837970485, '2014ulfdietrich': 10.986495389225194, 'germany': 3.0033964485143017, 'article': 3.7064871363410066, 'california': 2.345669637363682, 'journals': 3.887293645672102, 'conducting': 9.19250944431969, 'where': 2.178152424181346, '1992': 2.278351314316948, 'state': 1.7090572737165175, 'most': 2.8372408857967946, 'undergraduate': 4.056000623273568, 'university': 5.931401033748293, 'assistant': 2.5220702633476124, 'graduate': 2.6750971107885535, 'psychology': 42.507153749828674, 'years': 1.0752380994247055, 'both': 1.6730570592454443, 'had': 2.354856824617116, 'attended': 2.2859811406819186, 'fulltime': 3.795819354892987, 'jens': 7.035251670643767, 'kolleg': 9.887883100557085, 'computers': 5.377023594040234, 'internet': 15.2409634288322, 'walter': 4.448355565457525, '2012': 1.7938099524877322, 'internetbased': 29.50230990632388, 'honorable': 5.253154112327449, 'majored': 5.539758017558884, 'its': 3.3751896805390627, 'research': 8.790388319521266, 'rhetoric': 6.8276123058655225, 'as': 0.1271695220124118, 'causality': 8.347438059609935, 'student': 3.095538673086275, 'minor': 3.3865934300166955, 'the': 0.002641023906921747, 'of': 0.08727970018134201, 'prof': 5.151684652162589, 'award': 3.2644556968847374, 'leibniz': 8.09612363132903, 'colorado': 4.065823884976511, 'basis': 4.184100625900883}, {'ncehr': 10.986495389225194, 'various': 2.3663846638022705, '1988': 2.4491074905234376, '1986': 2.487466168436628, 'as': 0.1271695220124118, 'society': 2.4448047262085693, 'frsqprofessor': 10.986495389225194, 'law': 2.4538226269605703, 'researchers': 5.289401902719789, 'network': 3.154481208719725, 'representing': 3.535253704237518, 'evaluation': 5.406765563238972, 'quebec': 4.550345020855767, 'gnthiq': 10.986495389225194, 'group': 1.9855189451548496, 'interinstitutional': 9.04058524016988, 'director': 1.6150570969066835, 'currently': 1.637088969126014, 'genetic': 5.625203223515769, 'to': 0.09388987536359845, 'reference': 4.67113738770286, 'bioethics': 20.345408309502684, 'chicoutimi': 17.814107695090716, 'd': 3.8381496453251267, 'collge': 13.50477776925587, 'department': 4.679708261244141, 'recherche': 6.892150827003094, 'richard': 3.0501926960232346, 'ethics': 18.577495882016173, 'researcher': 4.168664817771044, 'sshrc': 9.19473591999714, 'medicine': 3.823322998378552, 'canadian': 2.766899935048114, 'has': 0.856995079488078, 'albert': 13.028116968232565, 'with': 0.6074059275661821, 'he': 1.280211345952344, 'funded': 9.754495612921657, 'interdisciplinary': 5.433535804303577, 'thought': 4.01858618742331, 'screening': 6.142308302766603, 'analysis': 3.923447225837022, 'de': 14.239590057672089, 'books': 2.2488823524163437, 'and': 0.008941726776584738, 'analyse': 7.690658523220865, 'fonds': 8.278445188122983, 'mlanon': 41.173392834660994, 'sant': 7.094675091114568, 'teaches': 3.7712554104950966, 'together': 2.8423969258866704, 'known': 1.4457727152652031, 'scientist': 3.9372405479693575, 'du': 8.573990098127032, 'two': 1.0988831858473562, 'founding': 3.09703623982067, 'qubec': 5.911321573991367, 'more': 1.673778950632145, 'on': 0.5532382600518011, 'j': 3.2558813231614545, 'who': 0.9098952189804214, 'is': 0.22093000380415992, 'at': 0.43063857330825733, 'codirector': 10.710567214807657, 'sociology': 4.70797396505935, 'marcel': 5.713495830661447, 'french': 2.9278516770095764, 'specialty': 5.7032916604872055, 'from': 0.8812660139569034, 'member': 3.6612975378022155, 'in': 0.01255028255157884, 'for': 0.07286252934328691, 'where': 2.178152424181346, 'an': 0.5964781781637942, 'division': 2.7906099979103978, 'book': 2.002804707892509, 'a': 0.05057266025324832, 'qubecfrsq': 10.986495389225194, 'committee': 2.468102917233475, 'worked': 1.553891853362109, 'philosopher': 10.25712446948347, 'of': 0.04156176199111524, 'the': 0.0014220897960347868, 'vicepresident': 4.295653111806631, 'works': 2.214349949980095, 'philosophy': 7.185234198234877, 'his': 0.5252229104273146, 'committees': 4.1174809385594875, 'mostly': 7.748335889028565, 'camus': 24.641720000956237, 'by': 0.7491068241239475, 'la': 2.801702735060116, 'programme': 3.737991316854584, 'graduate': 2.6750971107885535, 'en': 4.442583543660402, 'chercheurs': 10.986495389225194, 'ethical': 5.457066301713771, 'bioethicshe': 10.293348208665249, 'served': 1.5362723499305253, 'soutien': 9.887883100557085, 'des': 4.127930354433829, 'received': 1.5396609815666638, 'also': 1.3881812748487046, 'lambertprofessor': 10.986495389225194, 'associate': 3.1540844620372743, 'professor': 2.010865204934687, 'universit': 16.197740192474832, 'canada': 2.68571842837374, 'program': 2.393082171897548, 'pense': 9.377057476791094, 'authored': 4.0628667610867675, 'clinical': 4.6783969477156635, 'masters': 2.9307029382474243, 'issues': 3.0010110324913715, 'pscche': 10.986495389225194, 'some': 2.1974446757041473, 'religion': 4.3650897374610595, 'degree': 2.0206498944742566, 'testing': 5.399246730824944, 'experimental': 4.191908808348695, 'genetics': 17.14048749198434, 'biologist': 5.82170941530168, 'articles': 2.9787953763411688, 'fribourg': 7.585298007563039, 'laval': 6.555678590381881, 'sa': 5.526909875081035, 'doctorate': 3.6866980224670334, 'switzerlandprofessor': 10.986495389225194, 'particular': 3.836578553093086, 'than': 2.0650378102773113}, {'compliance': 6.464706812176154, 'operations': 3.811771079388818, 'york': 1.701047544762206, 'division': 2.7906099979103978, 'international': 2.915838983507548, '2002': 1.8753125887822302, 'headquarters': 4.689386069291259, 'president': 3.613434645663303, 'platform': 4.765905219125455, 'digital': 3.842877786521073, 'radioin': 7.322933743095548, 'delta': 5.402999080443495, 'eagle': 5.410546286078878, '964': 9.600201028105303, 'network': 3.154481208719725, 'system': 3.0888272384982884, 'automation': 6.875621525051883, 'studio': 3.0810537401649083, 'master': 3.1224597301527437, 'customer': 6.150213482273716, 'star': 2.9854754279015427, 'served': 1.5362723499305253, 'launching': 5.418150885464097, 'vice': 6.142294439924233, 'key': 3.552238007092059, '1995': 2.222129668695386, 'played': 1.5454402004384837, 'associated': 3.7764157610544062, '20': 2.441881602232965, 'over': 1.4878231559557336, 'where': 1.089076212090673, 'ukrd': 32.95948616767558, 'new': 1.7743065312250548, 'merged': 5.046324136504762, 'computerised': 18.75411495358219, 'running': 3.3516747114796512, 'pioneering': 4.717399105518933, 'world': 2.741246489392608, 'tomorrows': 7.115294378317303, 'bbc': 3.176548302748404, 'cornwall': 6.3421044900838215, 'up': 1.5635467678501844, 'set': 2.699470364060131, 'based': 2.299897032948229, 'which': 2.302292901131308, 'investment': 4.169759508630226, 'company': 2.195009362476192, 'departed': 5.6158573610975315, 'market': 3.922591427753126, 'companieswhile': 10.986495389225194, 'stock': 4.8401661315562965, 'playoutshortly': 10.986495389225194, 'taking': 3.2200784912055385, 'londonafter': 8.907053847545358, 'with': 0.6074059275661821, 'venture': 4.687546142369252, 'consisting': 5.323534909089249, 'was': 0.31746314244873386, 'news': 5.645678426113524, 'then': 4.292806308468391, 'devonair': 9.887883100557085, 'pirate': 19.204583731663867, 'who': 0.9098952189804214, 'exeter': 5.592867842872833, '102': 6.088655589274283, 'of': 0.033249409592892194, 'the': 0.0013205119534608735, 'provincial': 4.21227150286758, '1980': 2.5468314003181947, 'british': 2.238031759283139, 'station': 14.30217405456623, 'innovations': 5.833203794727416, 'senior': 4.5981064444985424, 'concentrate': 5.41434135704743, 'role': 2.20355903287593, 'launch': 26.638259870788026, 'kiss': 5.316614466244674, 'journalist': 6.249536622802427, 'infinity': 21.164009269502607, 'head': 2.464115671121657, 'technology': 2.910601758926337, 'shows': 2.8354504435401706, 'manchesters': 7.851001173296044, 'moved': 2.0172079891067893, 'newspaper': 3.4624739740190695, 'as': 0.635847610062059, 'became': 2.6601198661099033, 'to': 0.5633392521815908, 'a': 0.03371510683549888, 'featured': 2.542518260140216, 'radio': 35.235500481270186, 'and': 0.007451438980487283, 'joint': 7.538103915057324, 'current': 2.8308461188591933, 'westcountry': 9.600201028105303, 'former': 1.3573131120992086, 'listing': 6.332535039067671, 'hosted': 7.36530432789498, 'on': 0.5532382600518011, 'joined': 3.816403596338687, 'uk': 11.162439991641591, 'technologiesin': 9.377057476791094, '1984': 2.5258725492973513, 'in': 0.008688657151093043, 'newspapers': 3.9574078250755322, 'musicscheduling': 10.986495389225194, 'stations': 12.647117895948643, 'before': 1.4967823726683713, 'launched': 3.594463821710603, 'guildford': 6.6170475367581725, 'research': 2.1975970798803166, 'its': 6.750379361078125, 'form': 3.233730580373866, 'management': 5.754540872270479, 'powell': 40.43906465468641, 'programme': 3.737991316854584, 'growing': 4.272324859315723, 'he': 1.280211345952344, 'chairman': 2.6337052541005668, 'from': 0.8812660139569034, 'media': 2.527567105940933, 'awardwinning': 3.859604580326386, 'breakfast': 5.233922750399561, 'four': 1.922106072733316, 'showpowell': 10.986495389225194, 'building': 3.7287877120651514, 'for': 0.21858758802986072, 'surrey': 5.531174273867493, '1983': 2.57266471080411, 'editor': 2.7424241189294083, 'sound': 21.159483737904537, 'torbay': 8.789270811888976, 'his': 0.2626114552136573, 'music': 3.5855853168040697, 'uks': 5.579323617765075, 'separated': 5.76613956414687, 'capital': 3.8079499054614945, 'at': 0.645957859962386, 'is': 0.02761625047551999, 'promoted': 7.038248644615269, 'working': 2.074561053063768, 'first': 1.3912097427986205, 'after': 1.8886668840026128, 'program': 2.393082171897548, 'october': 3.8365895688202687, 'ceo': 14.377855286842411, 'white': 3.1974549875677174, 'director': 1.6150570969066835, '1986': 4.974932336873256, 'several': 1.6205197257175628, '1991': 2.3750835225699753, 'affairs': 2.9405866469544146, 'group': 5.956556835464549, 'berkshires': 9.19473591999714, 'software': 4.294411646718566, 'included': 2.4446095852185854, 'officer': 2.92690306033765, 'later': 1.4294496043477696, 'being': 1.7938099524877322, 'chief': 2.552031845407953, 'jointly': 5.4811638532928315, 'rcs': 27.58420775999142, 'fox': 4.0697803688715855, 'use': 6.091111253794805, 'plains': 6.44320060695519, 'computing': 5.13429290945072, 'eventually': 3.0940433457048417, 'services': 3.018868649891378, 'county': 17.04741493624997, '24': 2.8790765775052196, 'selector': 6.9975113426609195, 'control': 3.721765211295327, 'day': 2.661431695593997, 'hours': 3.959180875185418, 'gold': 6.218954987205593, '2001': 1.9280249665871378, 'introducing': 5.410546286078878, 'format': 5.028070696195412, 'designed': 3.83893611803574, 'programming': 4.613175599648182, '2014': 2.2073995783446634, 'mike': 3.4799036091543534, 'transitioning': 7.585298007563039, 'fm': 24.755069783502186}, {'4': 2.437803530749586, 'nominees': 6.52058727057061, 'cut': 4.349237357940737, 'not': 1.5880170751336171, 'olympics': 3.460855414183659, 'players': 3.081791475351448, '43': 4.9534091674263925, 'including': 1.2272824458461182, 'group': 1.9855189451548496, 'tournament': 3.521985554588667, '2012': 3.5876199049754645, 'injury': 3.60748726159689, 'recovery': 5.103173000736915, 'aliaksandr': 10.293348208665249, 'did': 2.318987437150089, 'competition': 3.0047621025333084, 'replaced': 3.6225818878193747, 'missed': 4.311933997410768, 'pretournament': 9.377057476791094, 'denmark': 4.719294840683832, 'uefa': 19.360664526225186, 'stage': 2.894255982500984, 'participated': 6.529407224815317, 'preliminary': 5.406765563238972, 'that': 0.6614069466714981, 'subsequently': 2.8793779184748045, 'he': 0.853474230634896, 'under21': 22.874548920647463, 'debut': 2.1723135660368764, '2008': 1.5093391374786154, 'perepechka': 10.986495389225194, 'september': 1.9011515074236967, 'born': 0.268196273764765, '2009': 3.128872967208539, 'first': 1.3912097427986205, '9': 2.8700783164309898, 'withdrawn': 6.313666554763288, 'on': 0.5532382600518011, 'team': 6.928169770522762, '2010': 3.185667920243947, 'national': 1.1860931647723914, 'for': 0.5829002347462953, 'in': 0.009654063501214493, 'netted': 14.230588756634607, 'was': 0.4761947136731008, 'salihorskyurchenko': 10.986495389225194, 'vasilyevich': 9.377057476791094, 'also': 0.4627270916162349, '1989': 2.404826178624592, 'u21': 37.71609014059667, 'championshipon': 8.683910296231149, 'callup': 6.250296940830698, 'by': 0.37455341206197373, 'home': 2.4210836255384827, '22': 2.83833894930357, 'january': 1.885412003185961, 'of': 0.016624704796446097, 'the': 0.0019299790089043535, 'championship': 7.721322658217004, 'toulon': 7.202305755306933, 'belarusian': 14.595231870222516, 'win': 5.094527478557337, 'london': 2.219789391474679, '26': 3.0388168179236272, 'a': 0.02809592236291573, 'russian': 3.7064871363410066, 'matches': 7.9451598288293335, 'match': 6.951035274422198, 'shakhtyor': 10.986495389225194, 'mogilev': 10.986495389225194, 'plays': 2.869182927623221, 'yurchanka': 10.986495389225194, 'latvia': 6.241563260861944, 'belarussian': 9.04058524016988, 'uladzimir': 10.293348208665249, '1': 2.0978765819243166, 'european': 10.361362104744051, 'footballer': 3.2388985505323085, 'november': 1.9726566376168002, 'three': 2.9830050587151904, 'part': 5.758344561226464, 'from': 0.5875106759712689, 'his': 1.5756687312819437, 'and': 0.002980575592194913, 'appearances': 2.8360274776011907, 'all': 3.2862224869824943, 'against': 8.031843916567498, 'to': 0.1877797507271969, 'final': 2.438966998012884, 'earned': 2.3840423538581335, 'who': 0.9098952189804214, '12': 5.023167180131126, 'august': 2.000173951599175, 'yurchenko': 37.50822990716438, 'goal': 3.624484837965461, 'belarus': 12.907791792143877, 'opening': 3.7259727911353417, 'following': 1.9609195556941061, 'scoring': 3.525429874870911, 'austria': 4.482207215688549, 'games': 2.2331239682242914, 'country': 2.6743602815767815, 'reserves': 5.358874275534557, '21': 2.797250863489293, 'qualification': 5.362477883037855, '2011': 6.809388360417167, 'qualifier': 6.224321454427438, 'october': 1.9182947844101343, 'football': 10.234282662268557, 'twice': 3.3301582227950113, 'make': 2.871871502805096, 'help': 3.4662608327505664, '30': 2.6266580085851636, 'italy': 3.366771175442524, 'omanon': 10.986495389225194, 'made': 4.559658646508922, 'side': 3.0715123833768, 'which': 0.7674309670437692, 'is': 0.02761625047551999, 'selected': 5.559823549808884, 'secured': 4.980142229623461, '2': 2.2482408126990716, 'footballers': 6.09614626100344, 'but': 3.9419836963929056, '18': 2.726778428203672, 'senior': 2.2990532222492712, 'as': 0.1271695220124118, 'injured': 8.94356539670533, 'squad': 11.866913739327222, 'friendly': 10.448888012890036, 'june': 1.9026256813029605, 'take': 3.112517009620693}, {'earthbound': 9.377057476791094, 'compositions': 4.3624301614253005, 'versions': 5.157549771614987, 'papas': 8.278445188122983, 'organ': 5.160495281844744, 'which': 0.7674309670437692, 'kenichiro': 9.887883100557085, 'was': 0.07936578561218346, '2010': 1.5928339601219734, '2002': 1.8753125887822302, 'several': 1.6205197257175628, 'conductor': 4.4142128465311865, 'grammy': 4.085764725180022, 'concerts': 8.100305306782289, 'works': 2.214349949980095, 'from': 0.5875106759712689, 'pieces': 4.110230777334428, 'band': 7.816740648304755, 'released': 2.0078348995855078, 'rock': 5.886949007853824, 'been': 1.954954670959205, 'scores': 4.915757661222704, 'uematsus': 21.972990778450388, 'arranged': 10.189702354798847, 'mistwalkersoundtracks': 10.986495389225194, 'studio': 3.0810537401649083, 'age': 2.138848033513307, 'in': 0.007723250800971594, 'began': 1.727460095710253, 'playing': 2.0910027577735617, 'other': 2.884801513389695, 'as': 0.2543390440248236, 'to': 0.09388987536359845, 'selftaught': 6.103693466638823, 'played': 3.0908804008769675, 'uematsu': 28.80060308431591, 'community': 2.693196030513871, 'composers': 4.295653111806631, 'piano': 3.6534723748387132, 'musician': 3.0064717969145494, 'and': 0.004470863388292369, 'or': 1.9128915408224825, 'eleven': 4.397568911691675, 'fukui': 9.04058524016988, 'final': 12.19483499006442, 'famous': 3.2150066291075783, 'with': 1.0123432126103034, 'series': 3.754161871677944, 'development': 2.3538329480028426, 'tsuyoshi': 8.683910296231149, 'fantasy': 23.3556869385143, 'video': 15.40895737675724, '1959': 3.379113963585403, 'he': 1.706948461269792, 'march': 1.9573172463231197, 'colleagues': 4.672947342948099, 'scoring': 3.525429874870911, 'considered': 3.150520807503628, 'have': 4.325054349895415, 'smile': 6.21581076475953, 'born': 0.268196273764765, 'black': 3.1224597301527437, 'japanese': 3.7501560464708503, 'together': 2.8423969258866704, 'known': 1.4457727152652031, 'is': 0.05523250095103998, 'at': 0.21531928665412867, 'since': 2.910753434616082, 'game': 12.084497595079542, 'john': 1.9913303989140443, 'for': 0.14572505868657382, 'where': 1.089076212090673, 'games': 4.466247936448583, 'composer': 3.2290166226410153, 'the': 0.0011173562683130468, 'of': 0.024937057194669147, 'a': 0.022476737890332586, 'enix': 17.57854162377795, 'majority': 3.919175540571719, 'titles': 7.142640559223799, 'best': 1.5336010724149785, 'performed': 5.061504320250359, 'years': 1.0752380994247055, 'met': 3.361876403065796, 'arnie': 7.941972951501771, 'most': 2.8372408857967946, 'music': 3.5855853168040697, 'his': 1.0504458208546292, 'these': 2.5975902181104877, 'influenceuematsu': 10.986495389225194, 'joined': 1.9082017981693435, 'on': 0.36882550670120073, '21': 2.797250863489293, 'square': 18.344951775665493, '18': 2.726778428203672, 'composed': 3.9268777609338112, 'later': 1.4294496043477696, '2004': 1.6903443608359008, 'twelve': 4.231891289737232, 'hironobu': 9.887883100557085, 'sakaguchi': 9.600201028105303, 'awardwinning': 3.859604580326386, 'they': 1.8993401178193898, 'elton': 5.827440090010665, 'worked': 3.107783706724218, '1986': 2.487466168436628, 'many': 3.279929325597492, 'freelancer': 7.094675091114568, 'notably': 3.7639293704030234, 'after': 0.9443334420013064, 'found': 2.8833036369394076, 'own': 2.269959656680699, 'biggest': 4.1122968937719, 'company': 2.195009362476192, 'called': 4.156954132880615, 'respected': 4.781937626656504, 'label': 3.3017114457024097, 'please': 6.2951475069960505, 'dog': 4.704228642329188, 'creator': 4.618308202874702, 'left': 2.191367476812056, 'ear': 5.9758600951289385, 'sekito': 10.986495389225194, 'nobuo': 17.367820592462298, 'records': 2.678542843954175, 'has': 1.285492619232117, 'including': 1.2272824458461182, 'electronic': 3.9916454033921234, 'albums': 3.020602654140666, 'one': 0.9309307338087167, 'ones': 4.746219544054425, 'developed': 3.092923315720292, 'keyboards': 5.2434922014157115, 'roth': 6.304364162100975, 'by': 0.37455341206197373, 'mages': 10.986495389225194, 'sakaguchis': 10.986495389225194}, {'charleston': 11.68966366544507, 'teaches': 3.7712554104950966, '2008currently': 9.377057476791094, 'publication': 3.9574078250755322, 'student': 3.095538673086275, 'resulted': 4.015765311081669, 'course': 3.4316368681845186, 'three': 1.4915025293575952, 'it': 1.3165805834938153, 'create': 3.7071765538105743, 'how': 3.0810537401649083, 'what': 2.819143402169124, 'students': 3.289374071942569, 'teach': 4.564873121418676, 'working': 2.074561053063768, 'college': 1.5613662703175555, 'this': 2.5637713915974762, 'inquiry': 10.506308224654898, 'director': 1.6150570969066835, 'clemson': 13.593681294397538, 'allan': 5.038460400044548, 'uncle': 4.730745347471827, 'at': 0.43063857330825733, 'is': 0.19331375332863993, 'more': 1.673778950632145, 'mcsweeneys': 7.851001173296044, 'frequently': 3.7653902910426984, 'fictionhe': 9.377057476791094, 'taught': 2.8485149347730556, 'publishing': 3.5981675296480873, 'dictionary': 5.698228358530659, 'press': 2.722647257856288, 'raging': 7.460134864609033, 'guilfoile': 10.986495389225194, 'stumbling': 8.421546031763658, 'fiction': 3.6411305488083254, 'focus': 3.594463821710603, 'may': 1.7899497282712007, 'in': 0.006757844450850144, 'anthologized': 6.892150827003094, 'recent': 2.9383462875599924, 'inspired': 3.8163758457755663, 'been': 1.954954670959205, 'warner': 9.4197037997671, 'has': 0.856995079488078, 'northbrook': 8.907053847545358, 'news': 2.822839213056762, 'sc': 11.376356045354315, 'morning': 3.823322998378552, 'contain': 6.199003646443148, 'debut': 2.1723135660368764, 'tow': 8.278445188122983, 'editor': 5.484848237858817, 'with': 0.20246864252206068, 'writing': 5.22819356542438, 'creative': 13.85854454809426, 'edited': 3.7890600351286032, 'america': 2.5998665678300736, 'an': 0.2982390890818971, 'and': 0.006706295082438554, 'american': 2.2547555688500136, '1970': 2.813766284359722, 'internet': 3.81024085720805, 'of': 0.024937057194669147, 'the': 0.00121893411088696, 'to': 0.1877797507271969, 'imprint': 5.673289410183407, 'politically': 5.202670206895457, 'writer': 7.5334992057229675, 'seagerhe': 10.986495389225194, 'future': 3.2998740542805742, 'frequent': 4.215705965316214, 'author': 2.2935018580052677, 'griffith': 6.286015023432778, 'series': 3.754161871677944, 'previously': 2.7704072905928783, 'collaborates': 5.96921555241027, 'czar': 8.09612363132903, 'born': 0.53639254752953, 'four': 1.922106072733316, 'most': 2.8372408857967946, 'work': 1.3993637697254548, 'books': 6.746647057249032, 'nuts': 7.297615935111258, 'contributor': 4.094869492172941, 'university': 0.8473430048211847, 'tendency': 6.555678590381881, 'incwarner': 10.986495389225194, 'illinois': 3.7401273091227334, 'warners': 7.552508184740048, 'novel': 3.3198051891451086, 'was': 0.3968289280609173, 'yellow': 5.391784009623355, 'funny': 5.421974981902501, 'man': 2.863827365878787, 'published': 1.9250031139854273, 'book': 2.002804707892509, 'kevin': 4.026147660123887, 'reviewed': 4.9925339619186255, 'humor': 10.532367225235566, 'his': 0.7878343656409719, 'he': 1.06684278829362, 'dedicated': 3.948589425778012, 'by': 1.498213648247895, 'publishers': 4.653215761085504, 'kirkus': 7.225295273531632, 'reviews': 3.9407188123456827, 'a': 0.02809592236291573, 'story': 2.9774647041554636, 'collection': 3.2771870558393252, 'short': 2.711119014388788, 'day': 2.661431695593997, 'army': 3.435308521929045, 'weekly': 3.608736480997322, 'publications': 3.253249742695399, 'john': 1.9913303989140443, 'for': 0.07286252934328691, 'michael': 2.673133438090794, 'tough': 5.351705786055945, 'lsu': 6.669007275688884, 'chief': 2.552031845407953, 'shoe': 6.5797761419609415, 'humorous': 5.505856465883203, 'distributed': 4.704228642329188, 'fw': 8.588600116426823, 'great': 2.7682474625394486}, {'georgia': 4.012952369705054, 'church': 3.400199082072474, 'bible': 5.249923091746003, 'cofounded': 3.923447225837022, 'theological': 4.92971137599657, 'attended': 2.2859811406819186, 'draft': 3.240194726993755, 'nba': 4.503388037767995, 'drafted': 3.7085568162795326, 'not': 1.5880170751336171, 'years': 1.0752380994247055, 'next': 2.670439668860552, 'significant': 3.7624705809393637, 'him': 1.5755843267871936, 'but': 1.313994565464302, 'believe': 4.75012579902149, 'surprised': 6.166213823620158, 'potential': 4.5172450724294215, 'fulfilling': 7.202305755306933, 'came': 2.4364478609380096, 'one': 0.9309307338087167, 'title': 2.5500785078362447, 'john': 3.9826607978280886, 'for': 0.36431264671643454, 'rebounds': 10.914132603427541, 'seminary': 9.571972430365008, 'play': 4.540574836146684, 'doug': 14.970129901818519, 'woodens': 9.377057476791094, 'college': 3.122732540635111, 'west': 2.602605045123377, 'kentucky': 4.665727094974612, 'later': 2.858899208695539, 'pivot': 8.213906666985412, 'workfollowing': 9.600201028105303, 'magazine': 2.456583425401182, 'illustrated': 4.57961540315588, 'much': 2.983801226941256, 'ucla': 4.759958719937729, 'career': 2.6100540406831336, 'school': 1.2227872792173518, 'american': 1.1273777844250068, 'wooden': 18.57211453088536, '1964': 3.06677562830062, 'retired': 2.359013843914834, '543': 8.421546031763658, 'player': 2.134402625748065, '64': 5.22130428644035, 'a': 0.05057266025324832, 'future': 3.2998740542805742, 'anchoring': 6.655762048938863, 'championships': 3.0462676240794924, '1966': 3.087341905882097, 'lily': 12.723045151881847, 'tenure': 3.595080154549836, 'at': 0.8612771466165147, 'sports': 3.001691999490788, 'is': 0.05523250095103998, 'pastor': 5.282712914568993, 'currently': 1.637088969126014, 'basketball': 7.349218450296059, 'university': 0.8473430048211847, 'of': 0.016624704796446097, 'the': 0.0009142005831652201, 'coach': 2.722132059493527, 'playing': 2.0910027577735617, 'bruin': 8.421546031763658, 'he': 1.06684278829362, 'on': 0.18441275335060037, 'who': 0.9098952189804214, 'won': 2.7672801366329507, 'sophomore': 5.202670206895457, 'hall': 2.6353567821390396, 'his': 1.3130572760682866, 'hard': 4.057957571060529, 'championship': 2.573774219405668, '1965mcintosh': 10.986495389225194, 'cover': 3.7092476625937105, 'reserve': 4.2284008847974635, 'lilburn': 9.377057476791094, 'stated': 3.7501560464708503, 'national': 2.3721863295447827, 'mcinstosh': 10.986495389225194, 'two': 3.296649557542069, 'california': 2.345669637363682, 'through': 2.028984878933582, 'los': 2.573774219405668, 'didnt': 4.383907497035858, '11': 2.5966811271387873, 'angeles': 2.6939468752494338, 'was': 0.2380973568365504, 'minutes': 4.058937482946877, 'key': 3.552238007092059, 'they': 1.8993401178193898, 'closest': 5.839000912411741, 'their': 3.0403916739863575, '30': 2.6266580085851636, 'appeared': 2.0682467981894925, 'game': 4.833799038031817, 'grabbing': 7.61919955923872, 'went': 2.0519085188355186, 'duke': 4.479217676840182, 'dallas': 4.279633052622447, 'center': 2.378000039402171, 'from': 0.29375533798563447, 'bruins': 6.199003646443148, 'mcintosh': 37.60379743212734, 'junior': 6.35228541100181, 'senior': 2.2990532222492712, 'coaching': 3.746562797904725, 'to': 0.09388987536359845, 'high': 1.906719387270128, 'against': 2.0079609791418744, 'became': 1.3300599330549516, 'in': 0.006757844450850144, 'per': 7.704803336064657, 'and': 0.0052160072863410975, '486': 8.501588739437194, 'first': 0.6956048713993103, 'starter': 10.010162355941427, 'seasons': 2.6358291487042704, 'contributor': 4.094869492172941, 'fame': 3.0071564939628668, '1965': 3.0866000660854644, 'cornerstone': 6.875621525051883, 'say': 4.479217676840182, 'champions': 4.0082816465944955, 'scored': 3.2294442471931806, 'players': 3.081791475351448, 'points': 3.465718974162397, 'as': 0.5086780880496472, '57': 5.4811638532928315, 'gameyears': 10.293348208665249, 'would': 4.273102323979196, 'that': 2.6456277866859925}, {'2010': 1.5928339601219734, 'magazine': 2.456583425401182, 'review': 3.227734845067532, 'mits': 7.0744723837970485, 'under': 1.8347379746813095, 'top': 2.2740644157484557, 'systemsmuchnick': 10.986495389225194, 'acquired': 4.229562999977641, 'was': 0.15873157122436693, '22': 2.83833894930357, 'role': 2.20355903287593, 'chief': 2.552031845407953, 'into': 1.6050629424066056, 'which': 0.7674309670437692, 'over': 1.4878231559557336, 'innovators': 6.6170475367581725, 'peggs': 9.887883100557085, 'executive': 2.4958515330424933, 'walmart': 7.460134864609033, '2014': 2.2073995783446634, 'when': 1.3806055739282235, 'december': 2.001425829579395, 'network': 3.154481208719725, 'served': 1.5362723499305253, 'partner': 3.4248536436364145, 'its': 1.6875948402695313, 'billion': 4.621744632373283, 'technology': 2.910601758926337, 'edited': 3.7890600351286032, 'partners': 4.494255554204723, 'point': 3.4321605654994465, 'users': 5.653776595959825, 'by': 0.7491068241239475, '35': 12.806072082604508, 'passing': 4.963047796264162, 'announced': 2.7377046555287814, '2012': 3.5876199049754645, '15': 2.527567105940933, 'officer': 2.92690306033765, 'later': 1.4294496043477696, 'product': 4.616594406396968, 'year': 1.3423616371539895, 'one': 1.8618614676174334, 'consumerfacing': 10.986495389225194, 'down': 2.9476606314374463, 'direction': 4.177456083182215, 'new': 0.8871532656125274, 'this': 1.2818856957987381, 'exclusively': 5.041074780618619, 'apps': 14.697818458997617, '3': 2.3430220318986272, 'web': 8.459125999955281, 'take': 3.112517009620693, 'application': 14.419436206717865, 'photos': 5.429667327525657, 'attending': 4.0347232248262825, 'with': 0.40493728504412135, 'investors': 5.570394987020774, 'built': 4.061882993176634, 'that': 0.6614069466714981, 'company': 4.390018724952384, '2011': 1.7023470901042919, 'derdikin': 10.986495389225194, 'adobe': 7.094675091114568, 'derdik': 10.986495389225194, 'israel': 8.159481221153282, 'contest': 3.9056274925344123, 'spark': 6.859361004180102, 'michael': 2.673133438090794, 'worth1000': 10.986495389225194, 'until': 1.7591012626831841, '2013': 1.9545642372230505, 'muchnick': 29.663649301671256, 'around': 2.637957563839097, 'business': 2.3749015223874728, 'suite': 16.93248341178115, 'shifted': 5.634637255749128, 'author': 2.2935018580052677, 'popular': 2.764478952022998, 'hoffman': 6.207371896113665, 'and': 0.004470863388292369, 'linkedin': 8.278445188122983, 'september': 5.70345452227109, 'photoediting': 10.986495389225194, 'thirdparty': 7.895452935866879, 'closed': 4.632125348427844, 'programmer': 5.744748374165552, 'growth': 8.946530556625774, 'brought': 3.350225785845821, '2007': 1.4879730697555795, 'site': 4.171952491965236, 'aviary': 30.880044625995744, 'entrepreneurin': 9.377057476791094, 'school': 1.2227872792173518, 'smart': 5.683190481166118, 'while': 1.8364359481339414, 'from': 0.29375533798563447, 'avi': 7.851001173296044, 'seeing': 5.227593615347914, 'benjamin': 4.835892620778915, '17': 2.7543211528412543, 'multimedia': 14.874650606983488, 'immediate': 5.154612911941677, 'march': 1.9573172463231197, 'he': 1.280211345952344, 'cardozo': 7.941972951501771, 'n': 4.282081034261087, 'notable': 3.3146685913464133, 'million': 6.035659377517918, 'law': 2.4538226269605703, 'artist': 2.4318137533979653, 'ito': 7.895452935866879, 'together': 2.8423969258866704, '1979': 2.6032908378122737, 'cofounded': 7.846894451674044, 'of': 0.02078088099555762, 'the': 0.00060946705544348, 'as': 0.3815085660372354, 'stepped': 4.682046586803213, 'to': 0.1408348130453977, 'ceo': 7.188927643421206, 'raised': 3.059531844362216, 'tobias': 6.796840647198769, 'former': 1.3573131120992086, 'monthly': 4.653215761085504, 'born': 0.268196273764765, 'mobile': 4.870603263742161, 'galpert': 10.986495389225194, 'in': 0.003861625400485797, 'venture': 9.375092284738503, 'a': 0.005619184472583146, 'citing': 5.070293326617759, 'amazon': 5.850696952174933, 'founder': 5.956925084511773, 'bezos': 9.19473591999714, '2002': 1.8753125887822302, 'mit': 4.7540473726746715, 'awardwinning': 3.859604580326386, 'media': 2.527567105940933, 'director': 1.6150570969066835, 'joi': 9.377057476791094, 'reid': 5.625203223515769, 'firm': 3.3971595660545773, 'an': 0.5964781781637942, 'other': 1.4424007566948476, 'stalling': 8.907053847545358, 'active': 2.7479584590534256, 'strategy': 4.316997299367315, 'at': 0.21531928665412867, 'is': 0.02761625047551999, 'capital': 11.423849716384483, 'aviarys': 21.972990778450388, 'named': 2.0300155412252816, 'powering': 8.907053847545358, 'on': 0.7376510134024015, 'across': 3.180613348996573, 'lab': 4.977682203782599, 'phones': 6.642689967371511, 'creative': 6.92927227404713, 'enormous': 6.111298066024043, '3500': 7.61919955923872, 'jeff': 4.24479469457314, 'chose': 4.3414044197195505, 'focus': 3.594463821710603}, {'following': 1.9609195556941061, 'board': 4.439578782949358, 'by': 0.37455341206197373, 'was': 0.15873157122436693, 'schoolsin': 7.851001173296044, 'finnish': 4.927372193643397, 'where': 2.178152424181346, 'art': 2.4446095852185854, 'producer': 2.6157162162644934, 'pictures': 4.29938678135868, 'secondary': 4.1174809385594875, 'year': 1.3423616371539895, 'napiereducated': 10.986495389225194, 'since': 1.455376717308041, 'industries': 9.70619469245709, '2011': 1.7023470901042919, 'institute': 4.358645532616985, 'industry': 2.9570625486439512, 'halfhour': 6.859361004180102, 'and': 0.004470863388292369, 'robin': 4.775895312200541, 'he': 1.9203170189285161, 'drama': 6.7721861094495885, 'with': 0.40493728504412135, 'creative': 17.323180685117826, 'stirling': 6.422147197757358, 'garthamlock': 10.986495389225194, 'the': 0.0014220897960347868, 'of': 0.03740558579200372, 'workshop': 4.5172450724294215, 'director': 4.84517129072005, 'edinburgh': 29.68058282456274, 'made': 1.519886215502974, 'for': 0.14572505868657382, 'documentary': 6.445248202809944, 'college': 1.5613662703175555, 'partnership': 4.1599501656686, 'mediafunded': 10.986495389225194, 'eu': 5.526909875081035, 'school': 1.2227872792173518, '1959': 3.379113963585403, 'academy': 7.06577844530489, 'films': 2.78045762644638, 'as': 0.5086780880496472, 'glasgow': 9.563875253313007, '2010': 1.5928339601219734, 'scotland': 15.973921065168936, 'company': 2.195009362476192, 'university': 3.389372019284739, 'joined': 3.816403596338687, 'screen': 16.988635047472084, 'born': 0.53639254752953, 'macpherson': 7.690658523220865, 'affairs': 2.9405866469544146, 'entered': 3.3434917536644764, 'first': 0.6956048713993103, 'napier': 21.675885820594896, 'television': 2.00180169878134, 'development': 2.3538329480028426, 'professor': 2.010865204934687, 'government': 2.306673274360738, 'a': 0.01685755341774944, 'baftanominated': 10.293348208665249, 'april': 1.9892244829917467, 'irish': 3.660029775384872, 'at': 1.5072350065789006, 'is': 0.02761625047551999, 'coproducer': 6.142308302766603, 'fellini': 8.09612363132903, 'film': 8.132455668231808, 'current': 2.8308461188591933, 'including': 1.2272824458461182, 'whose': 3.276290194792662, 'scottishbafta': 10.986495389225194, 'man': 2.863827365878787, 'estonian': 6.199003646443148, '1989': 2.404826178624592, '1997': 2.1298344522079455, 'established': 3.0759047769687164, 'an': 0.5964781781637942, 'trust': 4.093853748053105, 'independent': 2.7994743218816898, 'asylum': 5.850696952174933, 'production': 2.7492806858757053, 'include': 2.174545211685214, '2002': 1.8753125887822302, 'to': 0.04694493768179923, 'became': 1.3300599330549516, 'collaboration': 3.7154868509442025, 'skillset': 10.293348208665249, 'nominated': 2.8896779186528754, 'appointed': 4.400688668710911, 'in': 0.004827031750607246, 'tree': 5.022916045606748, 'fellers': 9.19473591999714, 'media': 2.527567105940933, 'awardwinning': 3.859604580326386, 'im': 4.295653111806631, 'years': 1.0752380994247055, 'has': 0.428497539744039, 'liarafter': 10.986495389225194, 'national': 1.1860931647723914, 'two': 1.0988831858473562, 'executive': 2.4958515330424933, 'scottish': 8.00912142413761, '2005': 1.6425861253275964, 'butterfly': 5.602000326436105, '2008': 1.5093391374786154, 'led': 2.2402561008421333, 'engage': 5.923900356198227}, {'pastel': 7.895452935866879, 'recently': 2.6417526348076485, '3': 2.3430220318986272, 'ny': 4.412815222264548, 'art': 4.889219170437171, 'wallkill': 10.986495389225194, 'painting': 4.125831717776908, 'studying': 3.612493529875034, 'been': 0.9774773354796025, 'performing': 3.1247683114012137, 'bill': 3.1038031829361685, 'waldron': 8.347438059609935, 'paintings': 4.4142128465311865, 'mal': 6.669007275688884, 'collaborated': 3.761741983457223, 'taught': 2.8485149347730556, 'rutgers': 5.296135934901134, 'university': 1.6946860096423695, 'temple': 4.658558605495999, 'bachelors': 3.576753435144271, 'dance': 7.122275004396085, 'silvanobefore': 10.986495389225194, 'silverman': 7.37557747658097, 'name': 2.433549028103139, 'changed': 3.9725799144146667, 'marriage': 4.115404094614648, 'lovano': 16.19224726265806, 'joe': 7.219974525797949, 'ensemble': 4.052098179296636, 'part': 1.9194481870754878, 'werner': 12.047301517930574, 'narrator': 6.259107570512853, 'pianist': 4.07474808897352, '10th': 4.70797396505935, 'kenny': 9.794901027556696, 'records': 2.678542843954175, 'end': 2.419560105914143, 'jsl': 10.986495389225194, 'which': 0.7674309670437692, 'vocal': 4.147018950996352, 'cd': 7.538103915057324, 'composers': 4.295653111806631, 'piano': 7.3069447496774265, 'sheila': 6.2951475069960505, 'work': 1.3993637697254548, 'womens': 3.4374126784129087, 'media': 2.527567105940933, 'indigo': 7.431147327735781, 'trio': 4.43541505418179, 'and': 0.011922302368779652, 'with': 0.8098745700882427, 'singing': 3.7965732184793866, 'performs': 4.322086368874786, 'husband': 3.7092476625937105, 'lee': 3.5895467866041804, 'karin': 7.054669756500869, 'in': 0.006757844450850144, 'composer': 9.687049867923045, 'similarity': 7.402976450769084, 'shows': 2.8354504435401706, 'norwegian': 4.457076550962969, 'style': 3.202022153488725, 'women': 3.0715123833768, 'saxophonist': 5.429667327525657, 'a': 0.02809592236291573, 'leader': 2.73196650728545, 'city': 1.7402088904755424, 'wind': 4.86181199833099, 'singer': 5.563647120548767, 'underrepresented': 8.213906666985412, 'moods': 8.153282045168979, 'for': 0.36431264671643454, 'at': 0.43063857330825733, 'is': 0.13808125237759994, '1951': 3.7037342096196015, 'original': 2.9143400810369444, 'beginning': 3.4285004306943883, 'jordan': 4.777905363128566, 'born': 0.268196273764765, 'degree': 2.0206498944742566, 'some': 2.1974446757041473, 'played': 3.0908804008769675, 'montgomery': 5.445231844066768, 'jazz': 10.526673438082817, 'jeanne': 6.696035948076803, 'trumpet': 5.473066643060212, 'krog': 10.293348208665249, 'silvano': 43.94635405944488, 'judi': 7.520759486425468, 'by': 0.37455341206197373, 'jazzed': 9.377057476791094, 'just': 2.7007299687108643, 'native': 3.244961799943366, 'she': 11.073910667199627, 'many': 3.279929325597492, 'on': 0.7376510134024015, 'united': 1.5679220786705559, 'philadelphia': 7.4157328938090235, 'collegesshe': 10.293348208665249, 'her': 12.401723029062405, 'wrote': 5.091071007617092, 'states': 1.824400329877006, 'bears': 5.017787829239828, 'tenor': 5.306322780208127, 'scholar': 3.638551566076507, 'to': 0.09388987536359845, 'frisell': 7.990763115671204, 'flute': 5.362477883037855, 'as': 0.3815085660372354, 'featured': 2.542518260140216, 'collection': 3.2771870558393252, 'college': 1.5613662703175555, 'dobbins': 9.04058524016988, 'standards': 4.653215761085504, 'new': 0.8871532656125274, 'voice': 6.523213899804241, 'recording': 2.9764678607434605, 'from': 1.1750213519425379, 'of': 0.02909323339378067, 'the': 0.00040631137029565337, 'without': 3.199528386610323, 'watercolor': 7.094675091114568, 'vibes': 7.895452935866879, 'other': 1.4424007566948476, 'an': 0.2982390890818971, 'compositions': 4.3624301614253005, 'since': 1.455376717308041, 'songbook': 7.0744723837970485, 'empathetic': 8.588600116426823, 'toured': 3.527156494004899, 'also': 0.4627270916162349, 'his': 0.2626114552136573, 'music': 5.378377975206105, 'researches': 6.432618497624653, 'europe': 5.523055820621221, 'writes': 3.738702807457348, 'or': 1.9128915408224825, 'great': 2.7682474625394486, 'lori': 6.766987684049088, 'studied': 2.2933341149871773, 'lyrics': 4.558390116540598, 'solo': 2.838628259301248, 'aside': 5.418150885464097, 'attending': 4.0347232248262825, 'songs': 2.9508926963066124, 'had': 2.354856824617116, 'well': 1.5295293417875981, 'has': 2.999482778208273, 'no': 4.792847104792768, 'chamber': 3.635337162794501, 'school': 1.2227872792173518, 'upon': 3.3017114457024097, 'american': 1.1273777844250068, 'pieces': 4.110230777334428, '2011': 1.7023470901042919, 'formerly': 3.500442771362054, 'stages': 4.925038470297177, 'york': 1.701047544762206, 'river': 4.105084085582659, 'percussion': 10.51279121250324, 'sketches': 5.923900356198227, 'scored': 3.2294442471931806}, {'when': 1.3806055739282235, 'means': 4.473265278312887, 'reputation': 4.319538596795987, 'very': 2.811792506755733, 'accessible': 6.037735498847026, 'cultural': 3.3132722681034856, 'responsibility': 4.451254118211536, 'future': 3.2998740542805742, 'stability': 6.05924170406799, 'inequality': 6.567654781428597, 'stand': 4.428297586412926, 'traditions': 5.215054266095178, 'more': 3.34755790126429, 'while': 1.8364359481339414, 'part': 1.9194481870754878, 'same': 2.2492032766809724, 'likeverd': 10.986495389225194, 'ideal': 6.250296940830698, 'chosen': 3.80186623650788, 'globally': 17.56979002290636, 'award': 1.6322278484423687, 'them': 2.497495932179739, 'awards': 2.283985132035204, 'position': 2.3300621307174527, 'several': 1.6205197257175628, '2008': 1.5093391374786154, 'anthology': 4.558390116540598, 'example': 4.318267140807791, 'articles': 2.9787953763411688, 'numerous': 2.4220370053418425, 'chapters': 5.002559108538004, 'recommended': 5.227593615347914, 'highly': 3.573128053529954, 'tutu': 7.61919955923872, 'desmond': 6.1907048436284535, 'foreword': 6.304364162100975, '2010': 1.5928339601219734, 'written': 2.3444332157630874, 'security': 3.4915091552746613, 'gender': 4.881702156810209, 'third': 2.3506306680914584, 'emotion': 6.401527910554623, '2009': 1.5644364836042695, '2007': 1.4879730697555795, 'choice': 8.155481219819947, 'high': 1.906719387270128, 'journal': 3.025473923341824, 'as': 0.2543390440248236, 'been': 0.9774773354796025, 'international': 1.457919491753774, 'enemies': 6.766987684049088, 'making': 2.7223896254962385, 'des': 4.127930354433829, 'maison': 7.272923322520886, 'ac4': 10.986495389225194, 'rooted': 6.332535039067671, 'complexity': 6.111298066024043, 'conflict': 13.159874670037073, 'cooperation': 4.581266931194353, 'consortium': 5.602000326436105, 'universitys': 3.980706369971692, 'columbia': 3.232442750189437, 'dissertation': 4.781937626656504, 'affiliated': 14.705987928450071, '1997': 4.259668904415891, 'modern': 3.1371715711846337, 'indonesian': 5.868501576808439, 'graduated': 2.2579073935292953, 'advanced': 3.7639293704030234, 'under': 1.8347379746813095, 'often': 2.862641126119281, 'norway': 31.94273897984172, 'heritage': 8.644172737749573, 'research': 8.790388319521266, 'core': 4.814794791814279, 'oslo': 9.882980150378366, 'doctorate': 7.373396044934067, '2001': 5.784074899761413, '2003': 1.8013702663900752, 'background': 4.274754994169014, 'first': 1.3912097427986205, 'confirmed': 4.1621217191821085, 'has': 3.8564778576963508, 'west': 5.205210090246754, '4': 2.437803530749586, 'impact': 4.04144432549936, 'up': 1.5635467678501844, 'academic': 3.1414709719837104, 'familys': 5.421974981902501, 'second': 3.344851662973069, 'languages': 4.000853571585986, 'cultures': 5.154612911941677, 'global': 9.619830822464015, 'one': 0.9309307338087167, 'middle': 3.5105894198577974, 'wish': 5.489327163931993, 'deeply': 5.402999080443495, 'fluently': 7.1363477875151355, 'doctoral': 4.506450827298541, 'practitioners': 6.126682984863522, 'practice': 3.336326688380194, 'level': 3.2406271594329263, 'academics': 6.002888767516858, 'germany': 9.010189345542905, 'that': 4.629848626700487, 'psychol': 10.293348208665249, '3': 4.6860440637972545, 'published': 3.8500062279708547, 'france': 3.0078416601424633, 'fellowship': 3.7479985483308296, 'studies': 2.3430220318986272, 'president': 1.8067173228316515, 'silesia': 7.808441558877249, 'founding': 3.09703623982067, 'by': 1.1236602361859211, 'studied': 4.586668229974355, 'rwanda': 6.05924170406799, 'concerned': 4.987558827278511, 'community': 5.386392061027742, 'doctorates': 6.111298066024043, 'points': 3.465718974162397, 'others': 2.8003093949991116, 'danish': 4.91114935813651, 'humanities': 4.614883541993338, 'had': 1.177428412308558, 'and': 0.02533489253365676, 'hamburg': 20.41269200294766, 'base': 4.021415043623787, 'scholar': 3.638551566076507, 'belgium': 4.4897203990393315, 'asia': 3.7458456949697285, 'genocides': 9.19473591999714, 'east': 2.8400760661271907, 'two': 1.0988831858473562, 'humiliationher': 10.986495389225194, 'decent': 6.604468754551313, '2009lindner': 10.986495389225194, 'holds': 2.8415259721373194, 'election': 2.57089205357059, 'culture': 3.1328905761273576, 'is': 0.33139500570623986, 'at': 1.5072350065789006, 'transcend': 8.042056410058754, 'a': 0.0730493981435809, 'locally': 11.088155357406801, 'may': 3.5798994565424014, 'speaks': 4.651441137727136, 'testament': 6.0520214560945025, 'since': 4.366130151924123, 'promote': 4.3717697890214335, 'peace': 7.585619141660165, 'from': 2.056287365899441, 'who': 0.9098952189804214, 'lhomme': 7.895452935866879, 'spends': 6.04485296661589, 'parliament': 3.3146685913464133, '13': 2.714435767014782, 'enjoys': 5.399246730824944, 'years': 3.2257142982741165, 'greater': 4.273539188548124, 'hameln': 10.986495389225194, 'med': 6.696035948076803, 'which': 0.7674309670437692, '1984': 5.0517450985947026, 'australia': 2.86858644684204, 'experiences': 4.293171720955246, 'wrote': 2.545535503808546, 'traumatic': 6.926052378678775, 'psychological': 4.922710180537586, 'transdisciplinary': 16.556890376245967, '1994': 4.475111515374959, 'frankfurt': 5.163449493742175, 'medicine': 11.469968995135655, 'other': 2.884801513389695, 'an': 0.5964781781637942, 'evelin': 10.293348208665249, 'her': 17.052369164960805, 'japan': 3.2594009044453527, 'hebrewsince': 10.986495389225194, 'focuses': 4.3571321357877455, 'it': 3.9497417504814463, 'own': 2.269959656680699, 'be': 1.4062480045415613, '1978': 2.6743602815767815, 'workin': 6.7380001471758355, 'obtained': 3.5599463168278898, 'because': 2.8793779184748045, 'marriage': 4.115404094614648, 'human': 8.693800751846883, 'hierarchical': 7.895452935866879, 'believes': 15.26802456476536, 'unique': 4.030902780828897, 'following': 1.9609195556941061, 'to': 0.32861456377259457, 'dignity': 53.03829250028482, 'historical': 3.80718741972116, 'dr': 6.012259248227897, 'founded': 2.7103551696667347, 'therefore': 5.046324136504762, 'understanding': 4.349237357940737, 'somalia': 6.781802769834228, 'german': 3.2528118184492936, 'on': 0.9220637667530018, 'humiliation': 31.963052462684814, 'were': 1.521978023354629, 'honor': 3.850012180634947, 'formed': 3.148546473199911, 'obstacles': 6.979162203992724, 'displaced': 6.604468754551313, 'individual': 3.825649482560895, 'received': 1.5396609815666638, 'furthermore': 5.7770092363837735, 'cairo': 10.898322244413315, 'parents': 3.452801679376562, 'hagtvets': 10.986495389225194, 'candidate': 3.1473637409508615, 'gerda': 8.421546031763658, 'way': 2.9688582293167167, 'strongest': 5.949542786811565, 'university': 5.931401033748293, 'both': 3.3461141184908887, 'honored': 4.140615513961145, '1977': 2.6962027980008787, 'also': 2.776362549697409, 'born': 0.268196273764765, 'sinology': 9.19473591999714, 'norwegian': 31.199535856740784, 'advocates': 5.457066301713771, 'philosopher': 5.128562234741735, 'bernt': 8.501588739437194, 'goetheuniversitt': 10.293348208665249, 'chinese': 3.788311812123251, 'am': 3.7920585381248597, 'in': 0.03861625400485797, 'main': 6.3940816462770425, 'book': 10.014023539462544, 'usa': 5.9898062143142035, 'philosophy': 3.5926170991174384, 'comes': 4.613175599648182, 'participated': 3.2647036124076587, 'better': 3.445873860568042, 'counselor': 5.544077678703401, 'europe': 2.7615279103106105, 'social': 5.245373009416627, 'heidelberg': 5.982549083279735, 'egypt': 5.012685777355933, 'ethics': 4.644373970504043, 'programme': 3.737991316854584, 'equality': 26.705242457909783, 'de': 2.3732650096120147, 'of': 0.062342642986672865, 'dagfinn': 8.588600116426823, 'thailand': 5.067601534952048, 'fllesdalsince': 10.986495389225194, 'grew': 2.9691878815366133, '1991': 2.3750835225699753, '1954': 3.6225818878193747, 'lived': 6.756241829688822, 'arabic': 4.507985747016625, 'worked': 1.553891853362109, 'title': 2.5500785078362447, 'where': 2.178152424181346, 'was': 0.2380973568365504, 'clinical': 4.6783969477156635, 'message': 10.393070436655881, 'psychologist': 5.425813758209666, 'health': 2.994564869372717, 'black': 3.1224597301527437, 'mostly': 3.8741679445142827, 'importance': 4.892925619180058, 'law': 2.4538226269605703, 'important': 9.891372845086511, 'american': 1.1273777844250068, 'lindner': 25.264638095290973, 'for': 0.5829002347462953, 'china': 3.5581621950343885, 'humandhs': 10.986495389225194, 'zealand': 3.828759904975288, 'the': 0.0031489131197913137, 'africa': 6.723752806131592, 'burundi': 7.179832899454874, 'sciences': 6.320104507538361, 'familiar': 5.526909875081035, 'make': 2.871871502805096, 'she': 34.80371923977026, 'switzerland': 4.161035352969887, 'prisoners': 5.445231844066768, 'ngo': 5.76613956414687, '1946': 3.8033836874819134, 'organized': 4.063851497749306, 'outstanding': 3.383594927020439, 'councils': 5.309741586956912, 'english': 2.239461125047026, 'have': 1.4416847832984716, 'festival': 2.5815754402917426, 'psychology': 12.752146124948602, 'time': 2.6506684148400996, 'did': 2.318987437150089, 'european': 2.590340526186013, '1994she': 8.683910296231149, 'french': 2.9278516770095764, 'rights': 3.06677562830062, 'being': 1.7938099524877322, 'egyptian': 5.548416080301998, 'paris': 3.190026146139137, 'with': 1.2148118551323641, 'number': 2.12302108305424, 'swedish': 4.24479469457314, 'world': 2.741246489392608, 'new': 2.6614597968375824, 'japanese': 3.7501560464708503, 'sustainable': 5.022916045606748, 'york': 1.701047544762206, 'kenya': 5.190437638459822, 'dutch': 4.132140886970173, 'among': 6.899691098844688, '1993': 2.3032794139845048, 'portuguese': 4.91345085512479, 'russian': 3.7064871363410066}, {'computing': 5.13429290945072, 'entitled': 3.208702762886364, 'regular': 2.918719193446304, 'wrote': 2.545535503808546, 'beginning': 3.4285004306943883, 'developing': 3.7973276508048714, 'klein': 5.930249583876886, 'klaus': 6.166213823620158, 'column': 4.236564195436625, 'collaborated': 3.761741983457223, 'cologne': 5.561545371743792, 'spent': 2.418609083493439, 'pcbased': 9.377057476791094, 'first': 0.6956048713993103, 'summers': 5.771559631616209, 'taught': 2.8485149347730556, 'personal': 3.033177042664763, 'potential': 4.5172450724294215, 'explored': 5.341048491581956, 'more': 1.673778950632145, 'bs': 4.389349687338543, 'emphasizes': 6.629786562535602, 'suny': 12.177311178548566, 'was': 0.15873157122436693, 'houston': 3.935505942157149, 'served': 1.5362723499305253, 'with': 0.6074059275661821, 'york': 1.701047544762206, 'years': 3.2257142982741165, 'two': 2.1977663716947125, 'same': 2.2492032766809724, 'evaluator': 8.347438059609935, 'commercially': 5.501698455734539, 'before': 1.4967823726683713, 'interactive': 4.783959872037272, 'returned': 4.44895087132721, '1969': 2.8490995591685433, 'state': 1.7090572737165175, 'biology': 4.561626365319807, '1967': 3.01368460510379, 'knowledge': 4.1621217191821085, 'community': 8.079588091541613, 'through': 4.057969757867164, 'doctorate': 3.6866980224670334, 'retardation': 7.990763115671204, 'later': 2.858899208695539, 'from': 2.3500427038850757, '1980': 7.640494200954584, 'ms': 4.24479469457314, 'abledata': 10.986495389225194, 'science': 4.6895726462227785, 'including': 1.2272824458461182, 'use': 3.0455556268974027, 'president': 1.8067173228316515, 'tenure': 3.595080154549836, 'associate': 6.308168924074549, '1976': 5.43245255557714, 'that': 0.6614069466714981, 'offering': 5.122864213627097, 'maryland': 21.259518646261235, 'university': 9.320773053033033, 'assistant': 2.5220702633476124, 'public': 12.174681921854443, 'brockports': 10.986495389225194, 'while': 1.8364359481339414, '2005': 1.6425861253275964, 'school': 6.113936396086759, 'serve': 3.618155702913813, 'an': 0.8947172672456913, '1983': 2.57266471080411, 'parkhe': 7.728398851203712, 'education': 29.38458677040682, 'drph': 9.887883100557085, 'than': 2.0650378102773113, 'textbooks': 5.862531409821935, '1986': 2.487466168436628, 'his': 1.838280186495601, 'advanced': 3.7639293704030234, 'educationhealth': 10.986495389225194, 'specialization': 6.174311033852777, 'researcher': 4.168664817771044, 'technology': 5.821203517852674, 'instructor': 4.153463656438993, 'works': 2.214349949980095, 'publications': 3.253249742695399, 'gold': 24.87581994882237, 'duncan': 16.335695532200305, 'software': 12.883234940155699, '19701974': 8.683910296231149, 'dean': 7.4033489533131815, 'robert': 2.802818806604537, 'include': 2.174545211685214, 's': 3.8079499054614945, 'heavily': 4.584578192498009, 'a': 0.05619184472583146, 'phd': 5.120643192392251, 'is': 0.08284875142655997, 'orange': 4.808551275174594, 'the': 0.0030473352772174005, 'of': 0.17455940036268403, 'texas': 6.335325890843579, 'as': 0.7630171320744707, 'leave': 4.000853571585986, 'systems': 3.6411305488083254, 'such': 1.763337513538397, 'pieces': 4.110230777334428, 'for': 0.14572505868657382, 'oregon': 4.721194176487485, 'application': 9.612957471145243, 'brockport': 16.843092063527315, 'articles': 2.9787953763411688, 'during': 2.634930295807099, 'he': 3.20052836488086, 'seventy': 5.956057467832759, 'healthquest': 10.986495389225194, 'cancer': 4.269900615704216, 'research': 6.59279123964095, 'in': 0.02413515875303623, 'illinois': 7.480254618245467, 'practice': 3.336326688380194, 'informatics': 6.5797761419609415, 'these': 2.5975902181104877, 'evaluation': 10.813531126477944, 'published': 3.8500062279708547, 'dozens': 5.1115646583731635, 'support': 3.0010110324913715, 'fulltime': 3.795819354892987, 'organizations': 3.4799036091543534, 'society': 2.4448047262085693, 'earned': 7.152127061574401, 'college': 7.806831351587777, 'absence': 5.078412451056264, 'expert': 3.781602879020521, 'to': 0.32861456377259457, 'county': 2.8412358227083288, 'partnered': 5.369724291558623, 'earning': 3.857197840295821, '2002': 1.8753125887822302, 'there': 2.3005725945344695, '1978': 2.6743602815767815, 'services': 3.018868649891378, 'by': 0.37455341206197373, 'after': 0.9443334420013064, '1999': 1.9968016883646342, 'completing': 4.251903729252247, 'multimediabased': 10.986495389225194, 'degree': 2.0206498944742566, 'working': 2.074561053063768, 'on': 0.7376510134024015, 'second': 3.344851662973069, 'joined': 5.72460539450803, 'mental': 9.389852499333749, 'promotion': 7.782862023876127, 'next': 2.670439668860552, 'has': 0.428497539744039, 'faculty': 9.074329719731487, 'followed': 2.9768000314822727, 'southern': 6.305790331128181, 'f': 4.126880485570992, 'siuc': 30.880044625995744, 'human': 5.795867167897922, 'management': 2.8772704361352397, 'became': 2.6601198661099033, 'invited': 3.4300674197849412, 'received': 1.5396609815666638, 'us': 1.9319904488071395, 'health': 83.84781634243608, '1989': 2.404826178624592, 'also': 0.4627270916162349, '1984': 2.5258725492973513, 'several': 4.861559177152689, 'position': 2.3300621307174527, 'initiative': 4.30564071043498, 'park': 6.399056773220646, '1988': 2.4491074905234376, 'since': 1.455376717308041, 'new': 0.8871532656125274, 'world': 1.370623244696304, 'organization': 2.8878525454657766, 'where': 3.267228636272019, 'help': 3.4662608327505664, 'reestablish': 7.767619564356994, 'technologies': 4.518796663120841, 'and': 0.01564802185902329, 'july': 1.9428000946579587, 'whos': 5.24670247704596, 'department': 11.699270653110352, 'division': 2.7906099979103978, '1990': 2.3683714792305164, 'time': 1.3253342074200498, 'began': 1.727460095710253, 'educational': 3.908997335655963, 'dividing': 7.520759486425468, 'between': 2.0402507798946505, 'macro': 7.851001173296044, 'international': 1.457919491753774, 'defense': 3.794313330511949, '1994': 2.2375557576874794, 'chair': 2.9874881759812397, 'american': 1.1273777844250068, 'computer': 7.125853889932055, 'umds': 10.986495389225194, 'vice': 3.0711472199621164, 'been': 0.9774773354796025, 'professor': 8.043460819738748, 'performance': 2.7455828475362956, 'lab': 9.955364407565199, 'prior': 2.956736868784372, 'umd': 10.986495389225194, 'carbondale': 7.990763115671204, 'director': 4.84517129072005, 'training': 2.870974507678425, 'applications': 9.563875253313007, 'at': 2.799150726503673, 'ranging': 4.769889288140329, 'video': 3.081791475351448, 'journal': 3.025473923341824, 'decision': 3.7830898681420995, 'david': 2.4512658353228582, 'course': 6.863273736369037, 'computers': 21.508094376160937, 'papers': 3.858801689877796}, {'1992': 2.278351314316948, 'film': 2.033113917057952, 'starred': 3.5683145664984064, 'stuardashe': 10.986495389225194, 'donizetti': 8.09612363132903, 'montecchi': 9.600201028105303, 'capuleti': 9.377057476791094, 'don': 3.921736361433392, 'del': 4.026147660123887, 'forza': 7.37557747658097, 'verdi': 6.52058727057061, 'et': 4.506450827298541, 'samson': 6.908957945319475, 'saintsans': 8.09612363132903, 'cavalleria': 7.728398851203712, 'e': 3.635337162794501, 'mascagni': 10.293348208665249, 'cenerentola': 8.278445188122983, 'siviglia': 7.895452935866879, 'di': 4.462933083075682, 'rossini': 7.61919955923872, 'tutte': 6.961143698490045, 'fan': 4.331055038857547, 'notably': 3.7639293704030234, 'works': 2.214349949980095, 'also': 0.9254541832324698, 'il': 14.853041870101313, 'she': 9.491923429028251, 'destino': 7.431147327735781, 'octavian': 8.907053847545358, 'callas': 7.990763115671204, 'travelled': 4.744272123770029, 'karajan': 7.431147327735781, 'soon': 3.379113963585403, '1965': 3.0866000660854644, 'salzburg': 5.557149760270754, 'from': 0.29375533798563447, 'frankfurt': 5.163449493742175, 'munich': 4.6496696580787535, '1958': 3.4175997258181985, 'leading': 2.5307521601251795, 'on': 0.36882550670120073, 'before': 2.9935647453367427, 'known': 1.4457727152652031, 'six': 2.4538226269605703, '1968': 2.8997774689212887, 'marriage': 4.115404094614648, 'trovatore': 7.272923322520886, 'athens': 4.503388037767995, 'austrian': 5.114377599749778, 'began': 1.727460095710253, 'the': 0.0008126227405913067, 'of': 0.024937057194669147, 'greek': 13.48731556416806, 'duett': 10.986495389225194, 'november': 1.9726566376168002, 'semiramide': 9.04058524016988, 'born': 0.53639254752953, 'cos': 6.908957945319475, 'then': 1.4309354361561304, 'moving': 3.1908488528906003, 'singer': 2.7818235602743835, 'opera': 17.20552819806685, '19': 2.8848176417706224, '1944': 4.044338683525725, 'a': 0.02809592236291573, 'going': 3.512858280728988, 'barbiere': 7.767619564356994, '1970': 2.813766284359722, 'm': 3.0903147806097033, 'in': 0.01158487620145739, 'age': 2.138848033513307, 'regular': 2.918719193446304, 'under': 3.669475949362619, 'graduated': 2.2579073935292953, 'national': 1.1860931647723914, 'mezzosopranobaltsa': 10.986495389225194, 'carlos': 4.370430204092377, 'appearance': 3.3277958309568954, 'algeri': 8.683910296231149, 'continue': 4.121647611254334, 'became': 2.6601198661099033, 'to': 0.23472468840899613, 'as': 0.2543390440248236, 'was': 0.07936578561218346, 'is': 0.05523250095103998, 'at': 0.8612771466165147, 'lefkada': 9.887883100557085, 'piano': 3.6534723748387132, 'times': 2.1000862223759134, 'concentrate': 5.41434135704743, 'her': 1.5502153786328006, 'first': 0.6956048713993103, 'playing': 4.182005515547123, 'an': 0.5964781781637942, 'cherubino': 8.789270811888976, 'aida': 6.655762048938863, 'scholarship': 3.67127699947222, 'figaro': 6.199003646443148, 'appear': 4.067800170204723, 'der': 4.68570959456195, 'mozart': 5.429667327525657, 'agnes': 6.5797761419609415, 'rosenkavalier': 7.728398851203712, 'studying': 3.612493529875034, 'state': 3.418114547433035, 'guidance': 5.205751873432865, 'kammersngerin': 9.04058524016988, 'herbert': 5.227593615347914, 'rusticana': 7.690658523220865, 'von': 4.696779818316197, 'prestigious': 3.6263914162360424, 'festival': 2.5815754402917426, 'campanello': 10.293348208665249, '1980her': 9.04058524016988, 'most': 1.4186204428983973, 'i': 4.806279991110577, 'la': 5.603405470120232, 'well': 1.5295293417875981, 'dalila': 8.421546031763658, 'has': 0.856995079488078, 'vienna': 8.899607583267779, 'performance': 2.7455828475362956, 'that': 0.6614069466714981, 'carmen': 5.473066643060212, 'by': 0.7491068241239475, 'georges': 5.348140719891449, 'bizet': 8.501588739437194, 'made': 1.519886215502974, 'which': 0.7674309670437692, 'sung': 10.02028895985452, 'conservatoire': 5.625203223515769, 'number': 2.12302108305424, 'litaliana': 8.907053847545358, 'singing': 3.7965732184793866, 'baltsa': 20.586696417330497, 'with': 0.20246864252206068, 'jos': 4.548743739488793, 'bellini': 7.728398851203712, 'maria': 8.773249780024715, 'and': 0.0014902877960974565, 'carreras': 7.654290879049991}, {'shortlist': 7.37557747658097, 'final': 2.438966998012884, 'but': 1.313994565464302, 'language': 3.4581636225179473, 'foreign': 3.1908488528906003, '83rd': 7.61919955923872, 'croatias': 7.61919955923872, 'be': 1.4062480045415613, 'on': 0.18441275335060037, 'went': 2.0519085188355186, 'national': 1.1860931647723914, 'best': 3.067202144829957, 'it': 2.6331611669876307, 'arena': 4.726913925160272, 'golden': 3.618155702913813, 'independence': 4.59961606986255, 'ceasefire': 7.990763115671204, 'their': 1.5201958369931787, 'unit': 4.203170188621234, 'army': 3.435308521929045, 'festival': 2.5815754402917426, 'pula': 8.09612363132903, 'blacks': 5.7032916604872055, 'submission': 6.642689967371511, 'drama': 3.3860930547247943, '1982': 2.559664637889348, 'zvonimir': 9.377057476791094, 'tesla': 7.808441558877249, 'deals': 5.1115646583731635, '2009': 3.128872967208539, 'number': 2.12302108305424, 'zagreb': 11.011712931766406, 'refuse': 6.9975113426609195, 'produced': 2.511583590065563, 'won': 1.3836400683164753, 'who': 0.9098952189804214, 'hometown': 4.3414044197195505, 'nikola': 7.460134864609033, 'fictional': 5.306322780208127, 'nepokoreni': 10.986495389225194, '199192': 6.030668331623933, 'he': 0.640105672976172, 'cowritten': 4.970338229526841, 'for': 0.21858758802986072, 'such': 1.763337513538397, 'university': 0.8473430048211847, 'award': 1.6322278484423687, 'titled': 3.4887336886026254, 'of': 0.016624704796446097, 'the': 0.0019299790089043535, 'series': 7.508323743355888, 'directed': 2.925008522353868, 'croatian': 21.844169800373642, 'angeles': 2.6939468752494338, 'short': 2.711119014388788, 'war': 5.619645234553478, 'in': 0.007723250800971594, 'tv': 5.132066773537457, 'primary': 3.3550637246482893, 'a': 0.039334291308082026, 'awards': 4.567970264070408, '1971': 2.857025624440964, '1980s': 2.9688582293167167, 'screenwriterborn': 9.377057476791094, 'finished': 2.6924457491231664, '4': 2.437803530749586, 'feature': 3.1937336684086683, 'june': 1.9026256813029605, 'smogovci': 10.986495389225194, 'born': 0.268196273764765, 'by': 0.37455341206197373, 'semester': 6.0738405034891425, 'juri': 42.50794369718597, 'education': 2.4487155642005685, 'minor': 3.3865934300166955, 'director': 3.230114193813367, 'appeared': 2.0682467981894925, 'arms': 5.030658019760364, 'and': 0.0052160072863410975, 'during': 1.3174651479035495, 'biographical': 5.718637230161866, '10part': 8.588600116426823, 'teenager': 4.835892620778915, 'as': 0.3815085660372354, 'grad': 7.61919955923872, 'directing': 8.708987223659129, 'was': 0.07936578561218346, 'film': 18.29802525352157, 'his': 0.5252229104273146, 'critically': 4.424051295531474, 'spent': 2.418609083493439, '1977': 2.6962027980008787, 'loyola': 5.713495830661447, 'psychological': 4.922710180537586, 'secondary': 4.1174809385594875, 'failed': 3.579784659047554, 'popular': 2.764478952022998, 'studying': 3.612493529875034, 'childrens': 3.5956968674895182, '1982after': 8.347438059609935, 'make': 2.871871502805096, 'graduating': 3.3840940535593758, 'partisan': 6.796840647198769, 'from': 0.29375533798563447, 'academy': 9.421037927073186, 'while': 1.8364359481339414, 'to': 0.23472468840899613, 'high': 1.906719387270128, 'school': 1.2227872792173518, 'selected': 2.779911774904442, 'is': 0.02761625047551999, 'at': 0.8612771466165147, 'los': 2.573774219405668, '1992': 2.278351314316948, 'returned': 2.224475435663605, 'films': 2.78045762644638, 'croatia': 5.309741586956912, 'department': 2.3398541306220704, 'dramatic': 4.479217676840182, 'goran': 7.322933743095548, 'lay': 5.497557663068508, 'osijek': 7.941972951501771, 'art': 2.4446095852185854, 'roles': 3.204105053637735, 'student': 3.095538673086275, 'down': 2.9476606314374463, 'several': 1.6205197257175628, 'documentarieshis': 10.293348208665249, 'directorial': 5.760748715511993, 'enrolled': 4.798231266142604, 'debut': 2.1723135660368764, 'which': 0.7674309670437692, 'codirected': 6.030668331623933, 'with': 0.40493728504412135, 'marymount': 6.8276123058655225, 'devi': 14.189350182229136, 'acclaimed': 3.766121552501245}, {'yushchenko': 9.19473591999714, 'presidency': 4.582921191290379, 'during': 1.3174651479035495, 'stepan': 9.377057476791094, 'shukhevych': 10.986495389225194, 'heroes': 5.306322780208127, 'nationalistic': 8.347438059609935, 'such': 1.763337513538397, 'glorification': 9.600201028105303, 'official': 3.1501256286800703, 'opposed': 4.717399105518933, 'role': 2.20355903287593, 'none': 10.87483860865995, 'played': 1.5454402004384837, 'nationalists': 8.213906666985412, 'genocide': 5.892745188418432, 'interpretation': 5.122864213627097, 'roman': 4.455617761499309, 'challenged': 4.829516403639639, 'america': 2.5998665678300736, 'north': 2.4321991098574545, 'diaspora': 6.27696518791286, 'both': 1.6730570592454443, 'debates': 5.7290000171974125, 'heated': 6.812108119329557, 'increasing': 5.048959184142768, 'subject': 3.60936167639124, 'historical': 3.80718741972116, 'calls': 4.625192911652199, 'ukraine': 20.847775374723145, 'almost': 3.546348708562506, 'nationalism': 6.2951475069960505, 'holocaust': 10.72495576607571, 'particular': 3.836578553093086, 'slavs': 9.19473591999714, 'since': 1.455376717308041, 'eastern': 3.630854286250941, 'habsburg': 8.588600116426823, 'nationalist': 5.67822769182399, 'church': 3.400199082072474, 'or': 1.9128915408224825, 'focused': 3.684673047087262, 'late': 2.374355720500003, 'interests': 3.804903444613329, 'connecticut': 4.503388037767995, 'what': 2.819143402169124, 'stamford': 6.752388884627935, 'also': 0.4627270916162349, 'received': 1.5396609815666638, 'he': 1.706948461269792, 'st': 2.511374974230865, '2014in': 6.629786562535602, 'studied': 2.2933341149871773, 'greek': 8.991543709445374, 'his': 1.5756687312819437, 'basil': 6.7238155121838785, 'become': 2.4964678658817263, 'iconography': 7.272923322520886, 'that': 1.3228138933429963, 'italian': 3.516271253325228, 'catholic': 7.874481095938715, 'by': 0.7491068241239475, '1970s80s': 9.19473591999714, 'as': 0.5086780880496472, 'wanted': 4.054047497652686, 'ethnic': 4.853097346228545, 'pursue': 4.1122968937719, 'seminary': 4.785986215182504, 'vocationhimka': 10.986495389225194, 'mixed': 4.392081929475416, 'sacred': 5.202670206895457, 'canadian': 2.766899935048114, 'background': 4.274754994169014, 'edmonton': 5.0920925549603435, 'priest': 4.642614955098863, 'contention': 6.843360662833661, 'side': 3.0715123833768, 'at': 0.43063857330825733, 'is': 0.05523250095103998, 'initially': 3.6873739265143946, 'michigan': 7.3213757732588425, 'historian': 8.177580892193117, 'view': 4.2214564124446525, '18': 2.726778428203672, 'polish': 4.626921520552817, 'fathers': 4.4897203990393315, 'academic': 3.1414709719837104, 'in': 0.019308127002428985, '1960s': 3.5713202796118995, 'culture': 3.1328905761273576, 'ba': 3.1536878727003295, 'may': 1.7899497282712007, 'mothers': 5.131423467022767, 'phd': 5.120643192392251, 'from': 0.5875106759712689, 'on': 0.7376510134024015, '1949': 3.761741983457223, 'and': 0.010432014572682195, 'sometimes': 4.078740110243057, 'ukrainian': 27.30521225046705, 'johnpaul': 9.600201028105303, 'retired': 4.718027687829668, 'a': 0.02809592236291573, '1971': 2.857025624440964, 'due': 2.7324867986603505, 'born': 0.268196273764765, 'however': 2.41879921563585, 'viktor': 6.21581076475953, 'history': 10.723789803123047, '1990s': 6.221992193559973, 'of': 0.06649881918578439, 'the': 0.0016252454811826135, 'holodomor': 10.293348208665249, 'socialism': 13.392071896153606, 'myths': 6.44320060695519, 'university': 3.389372019284739, 'with': 0.20246864252206068, 'himka': 43.945981556900776, 'radicalization': 8.347438059609935, 'political': 2.322262455159642, 'influenced': 4.199778438620113, 'dissertation': 4.781937626656504, 'views': 4.526590934847659, 'left': 2.191367476812056, 'end': 2.419560105914143, 'alberta': 9.81770629175232, 'classics': 4.790051261430674, 'did': 2.318987437150089, 'not': 1.5880170751336171, 'byzantineslavonic': 10.986495389225194, 'studies': 2.3430220318986272, '1977': 5.392405596001757, 'respectively': 4.366422182694838, 'title': 2.5500785078362447, 'detroit': 4.053072363494479, 'was': 0.15873157122436693, 'austria': 4.482207215688549, '18671890': 10.986495389225194, 'marxist': 6.332535039067671, 'bandera': 9.377057476791094, 'but': 1.313994565464302, 'to': 0.1877797507271969, 'became': 3.9901797991648547, 'taught': 2.8485149347730556, 'postmodernism': 7.552508184740048, '2012': 1.7938099524877322, 'defined': 5.629909114553182, 'especially': 3.6225818878193747, '1992': 2.278351314316948, 'galicia': 7.61919955923872, 'professor': 4.021730409869374, 'methodology': 5.739471317064708, 'eclecticsince': 10.986495389225194, 'department': 2.3398541306220704, 'full': 3.003055326218652}, {'upheld': 6.199003646443148, 'colleagues': 4.672947342948099, 'barak': 8.347438059609935, 'aharon': 9.04058524016988, 'allowed': 3.887293645672102, 'compensation': 11.123090743487584, 'highest': 3.43846641929018, 'awarded': 2.354189390708452, 'court': 2.896399606044235, 'dalia': 9.600201028105303, 'judge': 6.93360597021731, 'would': 2.136551161989598, 'different': 6.116178726089319, 'hundred': 9.278212359138369, 'sense': 4.586237943916373, 'unique': 4.030902780828897, 'text': 4.656774483702498, 'reconstructed': 7.552508184740048, 'as': 0.1271695220124118, 'copyright': 5.96921555241027, 'dorner': 10.293348208665249, 'document': 5.535456935659494, 'law': 2.4538226269605703, 'given': 5.9918370149625435, 'years': 1.0752380994247055, 'material': 4.063851497749306, 'without': 3.199528386610323, 'edition': 3.595080154549836, 'permission': 5.868501576808439, 'facsimile': 8.683910296231149, '1992': 2.278351314316948, 'included': 2.4446095852185854, 'so': 2.661916544088344, '1993': 2.3032794139845048, 'titleqimron': 10.986495389225194, 'be': 2.8124960090831226, 'should': 3.858801689877796, 'reconstructions': 16.556890376245967, 'decided': 6.7120682548831345, 'shanks': 16.843092063527315, 'caseshershel': 10.986495389225194, 'impossible': 5.606598035684735, 'qimrons': 10.986495389225194, 'society': 4.8896094524171385, 'access': 4.473265278312887, 'grounds': 5.289401902719789, 'they': 1.8993401178193898, 'original': 2.9143400810369444, 'twovolume': 7.585298007563039, 'toward': 4.84876833513896, 'attitude': 5.739471317064708, 'about': 3.8530257976751474, 'eleven': 4.397568911691675, 'also': 0.4627270916162349, 'some': 8.789778702816589, 'available': 7.893670078726237, 'not': 3.1760341502672342, 'if': 6.5997481085611485, 'proprietary': 6.9975113426609195, 'still': 2.700225936442129, 'archaeology': 11.543119263232418, 'sea': 21.385955244834477, 'an': 0.2982390890818971, '1980s': 2.9688582293167167, 'difficult': 4.632125348427844, 'team': 5.196127327892071, 'particular': 3.836578553093086, '1976': 2.71622627778857, 'been': 4.887386677398013, 'that': 3.3070347333574905, 'them': 2.497495932179739, 'has': 0.428497539744039, 'qumranin': 10.986495389225194, 'international': 1.457919491753774, 'several': 1.6205197257175628, 'publishing': 3.5981675296480873, 'scholars': 14.370153784292022, '40': 3.490953445340938, 'israel': 4.079740610576641, 'negev': 7.941972951501771, 'teamduring': 8.501588739437194, 'research': 2.1975970798803166, 'its': 1.6875948402695313, 'bengurion': 7.990763115671204, 'made': 4.559658646508922, 'which': 3.069723868175077, 'frustrated': 6.669007275688884, 'on': 2.028540286856604, 'the': 0.003859958017808707, 'of': 0.07065499538489592, 'he': 1.06684278829362, 'appeal': 4.506450827298541, 'his': 1.0504458208546292, 'intellectual': 4.719294840683832, 'in': 0.016411907952064635, 'ancient': 4.715506957366895, 'department': 2.3398541306220704, 'generally': 4.608069205573607, 'elisha': 8.789270811888976, 'currently': 1.637088969126014, 'and': 0.002980575592194913, 'eventually': 3.0940433457048417, 'one': 0.9309307338087167, 'biblical': 11.489496748331105, 'decades': 4.126880485570992, 'were': 3.043956046709258, 'known': 1.4457727152652031, 'completed': 3.0653226676381795, '4qmmt': 21.972990778450388, 'academic': 3.1414709719837104, 'longoverdue': 9.377057476791094, 'study': 2.82912494803842, 'is': 0.08284875142655997, 'at': 0.8612771466165147, 'hershel': 8.789270811888976, 'since': 1.455376717308041, 'professor': 2.010865204934687, 'a': 0.02809592236291573, 'hebrew': 19.728224171823296, '1994': 2.2375557576874794, 'editorinchief': 4.825288067530118, 'university': 1.6946860096423695, 'aggravation': 9.600201028105303, 'dissertation': 4.781937626656504, 'researchers': 10.578803805439579, 'writing': 2.61409678271219, 'found': 2.8833036369394076, 'cave': 6.158181651922893, 'had': 8.241998886159907, '1970s': 3.216272185066409, '2000': 1.8763068991994527, 'phd': 2.5603215961961254, '4': 2.437803530749586, 'verdict': 6.134465125305577, '1979': 2.6032908378122737, 'even': 3.282585179608883, 'took': 2.2103282894939196, '1959': 3.379113963585403, 'favor': 5.224444006445018, 'reconstruction': 5.497557663068508, 'scrolls': 54.098791958425984, 'was': 0.4761947136731008, 'coopted': 7.520759486425468, 'jerusalem': 4.84876833513896, 'by': 0.7491068241239475, 'such': 1.763337513538397, 'property': 4.367756405707975, 'bas': 7.489987827758714, 'for': 0.29145011737314763, 'john': 1.9913303989140443, 'strugnell': 20.586696417330497, 'supreme': 3.9140734886878232, 'assist': 5.103173000736915, 'texts': 10.223129316746327, 'publication': 3.9574078250755322, 'against': 4.015921958283749, 'scholar': 3.638551566076507, 'to': 0.2816696260907954, 'front': 3.717575261031473, 'complained': 6.3421044900838215, 'completing': 4.251903729252247, 'strugnells': 10.986495389225194, 'work': 2.7987275394509097, 'breaching': 8.042056410058754, 'most': 1.4186204428983973, 'but': 1.313994565464302, 'halakhic': 18.38947183999428, 'letter': 9.209358743638193, 'sue': 5.437419304329975, 'alone': 4.8683981911838465, 'fragments': 6.655762048938863, 'published': 7.700012455941709, 'working': 8.298244212255073, 'first': 0.6956048713993103, 'israeli': 9.44619425326714, 'felt': 4.687546142369252, 'it': 1.3165805834938153, 'photographs': 4.682046586803213, 'dead': 21.49070337639216, 'qimron': 65.91897233535116, 'late': 2.374355720500003, 'early': 1.929422753652229, 'others': 2.8003093949991116, 'language': 3.4581636225179473, 'many': 1.639964662798746, 'delay': 6.241563260861944, 'translated': 3.9468350393631186}, {'awardwinning': 3.859604580326386, 'became': 1.3300599330549516, 'completed': 3.0653226676381795, 'four': 1.922106072733316, 'than': 2.0650378102773113, 'more': 1.673778950632145, 'after': 0.9443334420013064, 'surfaced': 6.926052378678775, 'second': 1.6724258314865346, 'use': 3.0455556268974027, 'museums': 4.781937626656504, 'fulbright': 4.987558827278511, 'lectured': 4.621744632373283, 'taught': 2.8485149347730556, 'fellow': 2.364041687151464, 'a': 0.039334291308082026, 'degrees': 3.774938655911393, 'trunks': 8.789270811888976, 'he': 1.06684278829362, 'united': 1.5679220786705559, 'cambridge': 3.654126183296132, 'damaged': 6.037735498847026, 'at': 1.291915719924772, 'permitted': 6.323056295113127, 'educated': 3.3282678630638425, 'american': 3.3821333532750204, 'scottishcanadian': 9.887883100557085, 'leading': 2.5307521601251795, 'connecticut': 4.503388037767995, 'foundationdr': 9.19473591999714, 'born': 0.268196273764765, 'hartford': 16.806000979308315, 'hitchcock': 6.604468754551313, 'boston': 3.2049394299898544, 'because': 2.8793779184748045, 'alice': 4.88617643720513, 'berkeley': 4.144879912747602, 'highest': 3.43846641929018, 'architecture': 8.722206042434477, 'had': 4.709713649234232, 'has': 1.713990158976156, 'well': 1.5295293417875981, 'british': 6.714095277849417, 'prize': 2.7453192387302345, '1969': 2.8490995591685433, 'irvings': 9.600201028105303, 'conducting': 4.596254722159845, 'on': 0.36882550670120073, 'kennedy': 4.279633052622447, 'dr': 6.012259248227897, 'shipped': 7.0744723837970485, 'herbert': 5.227593615347914, 'news': 2.822839213056762, 'day': 2.661431695593997, 'practitioners': 6.126682984863522, 'preparation': 5.465034471362948, 'discovered': 8.199927493389367, 'won': 1.3836400683164753, 'two': 2.1977663716947125, 'stated': 7.500312092941701, 'his': 2.1008916417092585, 'trinity': 4.653215761085504, 'not': 3.1760341502672342, 'article': 7.412974272682013, 'history': 8.579031842498438, 'filed': 4.70797396505935, 'book': 8.011218831570035, 'lecturer': 3.63726456461186, 'an': 0.2982390890818971, 'all': 1.6431112434912472, 'luggage': 7.895452935866879, 'universities': 3.8033836874819134, 'kings': 4.174150295047715, 'awarddr': 9.04058524016988, 'architectural': 10.303369304325178, 'india': 10.329666127559245, 'of': 0.07065499538489592, 'principal': 3.545761681835933, 'in': 0.014481095251821738, 'art': 4.889219170437171, 'grant': 3.978894775273341, 'robert': 2.802818806604537, 'author': 2.2935018580052677, 'including': 1.2272824458461182, 'specializing': 4.390714875263883, 'photography': 4.269900615704216, 'societies': 5.233922750399561, 'press': 8.167941773568865, 'parents': 3.452801679376562, 'oppenheimer': 7.941972951501771, 'indian': 10.533468457975372, 'grandest': 9.887883100557085, 'humanities': 9.229767083986676, '15000': 6.259107570512853, 'holds': 2.8415259721373194, 'summer': 5.453556856407344, 'virginia': 3.7444130299682326, 'trust': 4.093853748053105, 'become': 2.4964678658817263, 'unclaimed': 9.600201028105303, 'and': 0.013412590164877109, 'college': 6.245465081270222, 'as': 0.5086780880496472, '1911': 7.489987827758714, 'baker': 10.119138726509567, 'warehouse': 6.241563260861944, 'to': 0.5163943144997915, 'sir': 7.913044955037616, '1931': 4.9042764788487485, 'yale': 23.906036608929437, 'university': 3.389372019284739, 'empire': 8.724860322850601, '1982': 2.559664637889348, 'creation': 4.03568062078261, 'is': 0.05523250095103998, 'phd': 2.5603215961961254, 'from': 0.8812660139569034, 'was': 0.2380973568365504, '60': 4.1556211545790145, 'davis': 4.174150295047715, 'oxford': 7.100935145746692, '196869': 6.892150827003094, 'grants': 4.827400000733261, 'undertaking': 6.391375539090604, 'britain': 7.769638835211501, 'lutyens': 19.77576620111417, 'for': 0.29145011737314763, 'foundation': 2.714435767014782, 'john': 3.9826607978280886, 'delhi': 15.030433439781781, '16': 2.680270173193033, 'architects': 5.457066301713771, 'successful': 2.679282762596886, 'wesleyan': 5.844831832722535, 'honor': 3.850012180634947, 'exposure': 5.4811638532928315, 'were': 3.043956046709258, 'six': 2.4538226269605703, 'national': 2.3721863295447827, 'research': 10.987985399401584, 'acres': 6.411784410721811, 'contents': 6.859361004180102, 'balliol': 7.0162034756730725, 'continents': 5.880549915324614, 'held': 2.1669778486203057, 'scholarship': 3.67127699947222, 'upon': 3.3017114457024097, 'one': 0.9309307338087167, 'irving': 49.65897516890932, 'lifetime': 4.223765882293315, 'too': 3.954754130462066, 'the': 0.0027426017494956603, 'africa': 3.361876403065796, 'states': 1.824400329877006, 'fellowships': 5.240292198685041, 'historians': 5.892745188418432, 'woodrow': 5.874507600868651, 'wilson': 4.197523646233024, 'story': 2.9774647041554636, 'studies': 4.6860440637972545, 'fellowship': 3.7479985483308296, 'society': 2.4448047262085693, 'accrued': 8.153282045168979, 'institute': 2.1793227663084926, 'learned': 4.275972279772766, 'ernest': 5.602000326436105, 'memorial': 7.968678869643146, 'basis': 4.184100625900883, 'imperial': 5.269467687818973, 'endowment': 4.8596262051110095, 'council': 4.679708261244141, 'guggenheim': 4.9486244693030566, 'been': 1.954954670959205, 'advocate': 4.017645010883246, 'be': 1.4062480045415613, 'historic': 4.506450827298541, 'preservationduring': 10.986495389225194, 'activist': 3.775676935752974, 'dissertation': 9.563875253313007, 'mr': 13.66627093593017, 'material': 4.063851497749306, 'through': 2.028984878933582, 'edwin': 5.673289410183407, 'return': 6.3849925994423975, 'pan': 4.906562194129604, 'new': 1.7743065312250548, 'world': 1.370623244696304, 'lawsuit': 5.313172122053702, 'airways': 6.655762048938863, 'entire': 3.9073109946155262, '1981': 2.5978176200443843, 'lost': 2.731706463076469, 'airline': 6.371374872383935, 'visit': 4.694926249666874, 'weather': 5.344588318287081, 'f': 4.126880485570992, 'airport': 10.374805469529337, 'yearsthe': 7.654290879049991, 'search': 4.389349687338543, 'able': 3.7487171973017515, 'that': 1.3228138933429963, 'placed': 3.579784659047554, 'locate': 7.297615935111258, 'simon': 3.916621260766622, 'trunk': 15.308581758099981, 'late': 2.374355720500003, 'but': 1.313994565464302, 'useless': 7.552508184740048, '35000': 7.248825770941826, 'order': 2.8044952529317895, 'recoup': 9.04058524016988, 'expenses': 6.391375539090604, 'redo': 9.887883100557085}, {'pynacker': 10.986495389225194, 'seventeenthcentury': 8.09612363132903, 'between': 2.0402507798946505, 'by': 0.7491068241239475, 'similarities': 6.892150827003094, 'dutch': 4.132140886970173, 'generated': 5.38807343022682, 'controversy': 4.290696472166703, 'win': 2.5472637392786686, 'brett': 5.708380729994677, 'dobell': 8.789270811888976, 'to': 0.09388987536359845, 'became': 1.3300599330549516, 'landscaped': 9.887883100557085, 'proposal': 5.493433945884646, 'wynne': 15.456797702407425, 'same': 4.498406553361945, 'acknowledged': 5.218174393431422, 'noteworthy': 6.142308302766603, 'has': 0.856995079488078, 'won': 2.7672801366329507, 'queensland': 14.169291379900711, 'goth': 7.990763115671204, 'prizes': 4.582921191290379, 'rmit': 7.520759486425468, 'master': 3.1224597301527437, 'he': 0.853474230634896, 'a': 0.01685755341774944, 'geelong': 5.949542786811565, 'resides': 3.627027750969573, 'completion': 5.282712914568993, 'many': 1.639964662798746, 'project': 2.6446084197090065, 'cosmos': 6.8276123058655225, 'after': 1.8886668840026128, 'prize': 10.981276954920938, 'newcastle': 4.963047796264162, 'adam': 4.537605995078337, 'completed': 3.0653226676381795, 'art': 19.556876681748683, 'for': 0.21858758802986072, 'office': 2.6240864116098233, 'contemporary': 3.069687898287591, 'portrait': 9.940676459053682, 'melbourneleachs': 10.986495389225194, 'bachelor': 3.357491499572237, 'shows': 2.8354504435401706, 'australian': 5.753338226413435, 'leach': 29.395636917995233, 'worked': 1.553891853362109, 'work': 4.198091309176364, '1973': 2.808137223619358, 'an': 0.2982390890818971, 'neo': 7.520759486425468, 'artist': 7.295441260193896, 'tax': 4.545548848592274, 'only': 1.819375719703575, 'south': 2.2386667807364518, 'been': 0.9774773354796025, 'optimism': 7.654290879049991, 'due': 2.7324867986603505, 'born': 0.53639254752953, 'australia': 2.86858644684204, 'was': 0.07936578561218346, 'musical': 2.7953093845824055, 'emerging': 4.635609672510455, 'sam': 4.313197421457541, 'diploma': 4.4527065512918504, 'also': 0.4627270916162349, 'harbour': 6.497859019493054, 'gippsland': 7.431147327735781, 'in': 0.013515688901700289, 'victoria': 3.941590272095824, 'melbourne': 3.8914310119380633, 'years': 1.0752380994247055, '2010': 3.185667920243947, 'adelaide': 4.783959872037272, 'landscape': 10.015219248648144, 'at': 1.291915719924772, 'is': 0.05523250095103998, 'currently': 1.637088969126014, 'horror': 4.683876413480289, 'some': 2.1974446757041473, 'degree': 6.061949683422769, 'australias': 5.062239591810663, 'award': 1.6322278484423687, 'doing': 3.9707829687379648, 'of': 0.049874114389338295, 'the': 0.0017268233237565267, 'year': 2.684723274307979, 'exhibited': 4.318267140807791, 'macquarie': 6.781802769834228, 'several': 1.6205197257175628, 'including': 1.2272824458461182, 'come': 3.672608557591732, 'museum': 9.732280102228238, 'gallery': 11.41015106244574, 'university': 3.389372019284739, 'fine': 7.155929644661136, 'coffs': 9.04058524016988, '2008': 1.5093391374786154, '2009': 1.5644364836042695, 'shilo': 9.887883100557085, 'william': 3.09180453879957, 'ian': 4.245976029618971, 'third': 2.3506306680914584, 'minchin': 8.907053847545358, 'so': 2.661916544088344, 'economics': 3.497083305716475, 'potter': 5.734221961178564, 'still': 2.700225936442129, 'regional': 6.715955525300277, 'his': 1.0504458208546292, 'whiteley': 8.278445188122983, 'hawkesbury': 8.683910296231149, 'public': 2.029113653642407, 'collections': 8.003558138213858, 'gold': 3.1094774936027965, 'galleries': 4.888421107058954, 'coast': 3.675277004805566, 'and': 0.007451438980487283, 'latrobe': 7.728398851203712, 'held': 2.1669778486203057, 'one': 1.8618614676174334, 'most': 1.4186204428983973, 'comedian': 4.529725733653031, 'tim': 4.077740609909974, 'darkness': 6.030668331623933, 'archibald': 13.686721325667323}, {'account': 4.4212304191898335, 'junction': 6.908957945319475, 'authored': 4.0628667610867675, 'expeditionscrowther': 10.986495389225194, 'connection': 4.767895269533465, 'who': 0.9098952189804214, 'around': 2.637957563839097, 'divorced': 4.9925339619186255, 'laura': 5.035852836637467, 'daughters': 4.187439527166398, 'had': 2.354856824617116, 'couple': 4.076742107580384, 'william': 3.09180453879957, 'married': 4.655952523437044, 'met': 3.361876403065796, 'where': 1.089076212090673, 'mit': 4.7540473726746715, 'physics': 4.175251010623901, 'degree': 2.0206498944742566, 'bs': 4.389349687338543, 'connectioncrowther': 10.986495389225194, 'historic': 4.506450827298541, 'surveyed': 8.278445188122983, 'expedition': 5.799109583384439, '1972': 2.8070152038663028, '9': 2.8700783164309898, '115': 6.2329051981188295, 'worked': 1.553891853362109, 'part': 1.9194481870754878, 'weighed': 5.391784009623355, 'a': 0.01685755341774944, 'slight': 6.812108119329557, 'traversal': 10.293348208665249, 'underlying': 6.371374872383935, 'american': 1.1273777844250068, 'wellknown': 4.265069688434551, 'p': 8.339519017260452, '1970s': 3.216272185066409, '1976': 2.71622627778857, 'wilcox': 15.883945903003543, 'early': 1.929422753652229, '1960s': 3.5713202796118995, 'in': 0.004827031750607246, 'also': 0.4627270916162349, 'active': 2.7479584590534256, 'and': 0.007451438980487283, 'see': 3.465177409025954, '1943': 4.053072363494479, 'about': 1.9265128988375737, 'born': 0.268196273764765, 'explorer': 12.364948688983876, 'later': 1.4294496043477696, 'extreme': 5.083862055823828, 'john': 1.9913303989140443, 'for': 0.14572505868657382, 'article': 3.7064871363410066, 'kentucky': 9.331454189949223, 'grand': 3.129788596129354, 'known': 2.8915454305304062, 'were': 1.521978023354629, 'wiccan': 8.347438059609935, 'surveyor': 7.767619564356994, 'thenhusband': 7.654290879049991, 'caves': 7.489987827758714, 'among': 2.299897032948229, 'computer': 3.5629269449660277, 'at': 0.21531928665412867, 'is': 0.08284875142655997, 'connecting': 6.532148092971687, 'pat': 4.621744632373283, 'discovered': 4.099963746694684, 'led': 4.480512201684267, 'attempt': 4.077740609909974, 'frame': 5.804711838933109, 'was': 0.15873157122436693, 'crowther': 43.41955148115574, 'systems': 3.6411305488083254, 'unable': 4.470302313182231, 'as': 0.3815085660372354, 'to': 0.2816696260907954, 'her': 7.751076893164003, 'patricia': 15.58960565498382, 'unwilling': 7.851001173296044, 'note': 5.14005661416747, 'houchins': 10.986495389225194, 'pounds': 4.818978898336853, 'two': 2.1977663716947125, 'earned': 2.3840423538581335, 'final': 2.438966998012884, 'passages': 6.796840647198769, 'programmercrowther': 10.986495389225194, 'attempted': 4.407244177215094, 'dedication': 5.579323617765075, 'this': 1.2818856957987381, 'pursue': 4.1122968937719, 'these': 2.5975902181104877, 'valley': 3.9600685805255584, 'juncture': 8.153282045168979, 'traits': 7.179832899454874, 'that': 1.9842208400144945, 'an': 0.5964781781637942, 'promising': 5.120027332291897, 'other': 1.4424007566948476, 'or': 1.9128915408224825, 'sandy': 5.493433945884646, 'participated': 3.2647036124076587, 'the': 0.0018284011663304402, 'of': 0.02078088099555762, 'september': 1.9011515074236967, 'particular': 3.836578553093086, 'narrow': 6.05924170406799, 'system': 6.177654476996577, 'canyon': 6.259107570512853, 'wiccanpatricia': 10.986495389225194, 'tight': 11.447610400640617, 'cave': 49.26545321538315, 'spot': 8.571528559354768, 'portion': 5.583818007352915, 'will': 2.679776346022504, 'flint': 20.937486611978173, 'expeditions': 12.995718038986109, 'ridge': 17.56979002290636, 'undertaken': 5.96921555241027, 'critical': 3.480453210707072, '1977': 2.6962027980008787, 'proved': 4.529725733653031, 'be': 1.4062480045415613, 'leads': 4.9486244693030566, 'leading': 2.5307521601251795, 'both': 1.6730570592454443, 'mammoth': 14.805952901538168, 'she': 6.327948952685501, 'cavers': 21.972990778450388, 'many': 1.639964662798746, 'connect': 12.398007292886296}, {'series': 1.877080935838972, 'americas': 4.168664817771044, 'physicist': 5.114377599749778, 'female': 3.502688701559359, 'role': 2.20355903287593, 'announced': 2.7377046555287814, '2014': 2.2073995783446634, 'february': 2.1088344556315284, 'wgn': 8.153282045168979, '2013in': 6.182474344491938, 'leeuw': 8.278445188122983, 'composer': 3.2290166226410153, 'mai': 6.859361004180102, 'reinbert': 9.600201028105303, 'wunderschnen': 10.986495389225194, 'im': 4.295653111806631, 'piece': 4.144879912747602, 'that': 0.6614069466714981, 'young': 2.4099018545275093, 'for': 0.07286252934328691, 'moor': 7.202305755306933, 'won': 1.3836400683164753, '2013': 1.9545642372230505, 'lives': 2.532029027717262, 'only': 1.819375719703575, 'toneel': 10.986495389225194, 'upherbers': 10.986495389225194, 'english': 2.239461125047026, 'au': 6.286015023432778, 'theaterschool': 10.293348208665249, 'from': 0.29375533798563447, 'growing': 4.272324859315723, 'was': 0.15873157122436693, 'los': 2.573774219405668, 'violinist': 5.067601534952048, 'hague': 5.668375395380978, 'stopped': 4.88617643720513, 'german': 6.505623636898587, 'fate': 5.936639381975657, 'amsterdam': 22.656484129425362, 'actress': 3.318869297640204, 'manhattan': 4.491229833288186, 'and': 0.007451438980487283, 'pronunciation': 4.67476058007228, 'after': 1.8886668840026128, 'canadian': 2.766899935048114, 'born': 0.53639254752953, 'went': 4.103817037671037, 'played': 1.5454402004384837, 'play': 2.270287418073342, 'rbrs': 10.986495389225194, 'it': 1.3165805834938153, 'speak': 4.812709285323257, 'guido': 6.9975113426609195, 'mira': 14.070503341287534, '1980': 5.093662800636389, 'beths': 9.19473591999714, 'katja': 8.588600116426823, 'kammerspiele': 10.293348208665249, '19': 5.769635283541245, 'dutch': 16.52856354788069, '2003': 1.8013702663900752, 'while': 1.8364359481339414, 'theatre': 8.980652525721265, 'conductor': 8.828425693062373, 'had': 1.177428412308558, 'on': 0.18441275335060037, 'a': 0.022476737890332586, 'monat': 10.986495389225194, 'city': 1.7402088904755424, 'televisionherbers': 10.986495389225194, 'but': 1.313994565464302, 'at': 0.645957859962386, 'is': 0.08284875142655997, 'film': 2.033113917057952, 'ignatius': 7.322933743095548, 'during': 1.3174651479035495, 'pianist': 4.07474808897352, '1993': 2.3032794139845048, 'she': 15.819872381713754, '1999': 1.9968016883646342, 'drama': 3.3860930547247943, 'learned': 4.275972279772766, 'studied': 4.586668229974355, 'performed': 2.5307521601251795, 'psychology': 4.2507153749828674, 'will': 2.679776346022504, 'university': 0.8473430048211847, '19992000': 5.433535804303577, 'gymnasium': 6.629786562535602, 'munich': 13.94900897423626, 'year': 1.3423616371539895, 'oboist': 7.585298007563039, 'her': 4.650646135898402, 'studies': 4.6860440637972545, 'attended': 2.2859811406819186, 'october': 3.8365895688202687, 'local': 2.5829189245959245, 'daughter': 3.170884857190004, 'school': 1.2227872792173518, '20012005during': 10.986495389225194, 'werner': 6.023650758965287, 'netherlands': 3.987985746974593, 'graduation': 4.125831717776908, 'pair': 4.8997206623128875, 'de': 7.1197950288360445, 'herbers': 29.663649301671256, 'trap': 6.629786562535602, 'then': 1.4309354361561304, '2002': 1.8753125887822302, 'to': 0.1877797507271969, 'became': 1.3300599330549516, 'hb': 7.585298007563039, 'alamos': 7.225295273531632, 'vera': 6.422147197757358, 'york': 1.701047544762206, 'studio': 3.0810537401649083, 'bell': 4.618308202874702, 'talentshe': 9.600201028105303, 'ktja': 10.986495389225194, 'new': 0.8871532656125274, '20002001': 5.996062802446458, 'films': 2.78045762644638, 'peter': 2.966224916405956, 'award': 1.6322278484423687, 'the': 0.0015236676386087002, 'of': 0.024937057194669147, 'brush': 6.669007275688884, 'with': 0.40493728504412135, 'ntgent': 10.986495389225194, 'ghent': 6.766987684049088, 'currently': 1.637088969126014, 'het': 6.796840647198769, 'in': 0.01255028255157884, 'member': 2.440865025201477, 'nationale': 5.943070272305948}, {'university': 0.8473430048211847, 'goalkeeping': 6.766987684049088, 'as': 0.1271695220124118, 'briefly': 3.841299254228023, 'had': 1.177428412308558, 'matches': 3.9725799144146667, 'liga': 5.956057467832759, 'mexican': 4.418417477813218, 'serie': 5.89889905399281, 'eredivisie': 7.0744723837970485, 'provides': 4.457076550962969, 'espn': 5.075698745184667, 'service': 2.600778560597343, 'broadcasting': 3.9574078250755322, 'news': 2.822839213056762, '2006he': 5.943070272305948, 'world': 1.370623244696304, 'countrys': 4.613175599648182, 'starred': 3.5683145664984064, 'returned': 2.224475435663605, 'years': 1.0752380994247055, 'several': 1.6205197257175628, 'with': 0.20246864252206068, 'dispute': 5.078412451056264, 'kevin': 4.026147660123887, 'under': 1.8347379746813095, 'coach': 2.722132059493527, 'ever': 2.956736868784372, 'an': 0.5964781781637942, 'where': 3.267228636272019, 'for': 0.7286252934328691, 'appearance': 3.3277958309568954, 'reading': 4.19078961405168, 'promotion': 3.8914310119380633, 'england': 7.940266869618153, 'this': 1.2818856957987381, 'full': 3.003055326218652, 'quinnipiac': 8.907053847545358, 'division': 8.371829993731193, 'on': 0.7376510134024015, 'a': 0.03371510683549888, 'football': 5.117141331134278, 'losing': 3.773463729390325, 'before': 1.4967823726683713, 'bench': 4.693076110378713, 'later': 1.4294496043477696, 'goalkeeper': 5.233922750399561, 'his': 0.5252229104273146, 'mx': 8.042056410058754, 'working': 2.074561053063768, 'portsmouth': 5.793538538334984, 'first': 1.3912097427986205, 'united': 3.1358441573411118, 'he': 1.706948461269792, 'now': 1.96695239252401, '22': 2.83833894930357, 'spent': 2.418609083493439, 'played': 4.636320601315451, 'receiving': 3.73515040585298, 'him': 1.5755843267871936, 'keegans': 8.907053847545358, 'cm': 5.334006208956544, 'regularly': 3.4954077956903187, 'during': 1.3174651479035495, 'part': 1.9194481870754878, 'season': 1.8875336052324008, 'second': 5.017277494459604, 'ruled': 4.934406220300778, 'eligible': 5.501698455734539, 'at': 0.21531928665412867, 'sports': 3.001691999490788, 'tenure': 3.595080154549836, 'is': 0.05523250095103998, 'out': 1.8484031814566355, 'finished': 2.6924457491231664, 'shaka': 9.377057476791094, 'worked': 1.553891853362109, 'successive': 5.565960389952909, 'league': 2.0856737843099666, 'term': 3.1064471882536173, 'in': 0.008688657151093043, 'playoffs': 4.823180585190553, 'hislop': 8.907053847545358, 'national': 1.1860931647723914, 'two': 2.1977663716947125, 'commentary': 4.8023464982877115, 'international': 1.457919491753774, 'newcastle': 4.963047796264162, 'chile': 5.094851177399423, 'the': 0.0014220897960347868, 'of': 0.012468528597334574, 'neil': 4.5439552227569955, 'career': 1.3050270203415668, '200203he': 10.986495389225194, 'seasons': 2.6358291487042704, 'team': 6.928169770522762, 'was': 0.3968289280609173, 'top': 2.2740644157484557, 'contention': 6.843360662833661, 'which': 1.5348619340875385, 'side': 3.0715123833768, '1st': 8.294037901992704, 'despite': 3.327324021559136, 'finishing': 3.5202678330097132, 'overall': 3.3986781692317676, 'fa': 4.835892620778915, 'slot': 5.718637230161866, 'following': 1.9609195556941061, 'ham': 5.989283115461079, 'separate': 4.8401661315562965, 'occasions': 4.253093497387835, 'west': 2.602605045123377, 'premier': 3.6766139034004075, 'cup': 5.345286243653974, 'born': 0.268196273764765, 'former': 1.3573131120992086, 'runnerup': 4.249528431223339, 'february': 2.1088344556315284, 'medal': 2.8585003334532493, '1969': 2.8490995591685433, 'won': 1.3836400683164753, 'opted': 5.634637255749128, '2006': 1.520737905384506, 'and': 0.005961151184389826, 'play': 6.810862254220026, 'against': 2.0079609791418744, 'became': 1.3300599330549516, 'to': 0.1408348130453977, 'both': 1.6730570592454443, 'majority': 3.919175540571719, 'trinidad': 12.01952329360924, 'tobago': 12.762650406474206, 'initially': 3.6873739265143946, 'automatic': 5.9626148683789175, 'also': 0.9254541832324698, 'u21': 6.286015023432778, 'but': 2.627989130928604, 'end': 2.419560105914143}, {'soundtrack': 4.507985747016625, 'frizzell': 9.04058524016988, 'stravinsky': 7.054669756500869, 'cites': 5.949542786811565, 'soulhe': 10.986495389225194, 'floor': 5.1487649420592545, 'demand': 5.190437638459822, 'chapter': 4.290696472166703, 'productions': 3.482654642526243, 'circle': 4.687546142369252, 'full': 3.003055326218652, 'long': 2.7823704566511536, 'sought': 8.654402939083115, 'fantastic': 5.89889905399281, 'seen': 3.4810031144877702, 'heights': 5.399246730824944, 'player': 2.134402625748065, 'great': 2.7682474625394486, 'imprint': 5.673289410183407, 'came': 2.4364478609380096, 'changes': 4.525027212871477, 'harsh': 6.332535039067671, 'due': 2.7324867986603505, 'label': 6.603422891404819, 'whether': 4.744272123770029, 'close': 3.5416621153330006, 'records2009': 10.986495389225194, 'are': 1.7719638126305435, 'version': 3.5105894198577974, 'webster': 6.182474344491938, 'filling': 5.9758600951289385, 'charles': 3.3550637246482893, 'worldclass': 6.629786562535602, 'up': 1.5635467678501844, 'legend': 4.464402591055042, 'teamed': 4.91345085512479, 'saw': 3.4321605654994465, 'way': 2.9688582293167167, 'across': 3.180613348996573, 'along': 2.5088749729287803, 'amazing': 5.227593615347914, 'some': 2.1974446757041473, 'shostakovich': 7.115294378317303, 'collaborations': 4.808551275174594, 'shoulders': 7.225295273531632, 'rubbing': 9.04058524016988, 'williams': 3.850012180634947, 'projects': 3.0071564939628668, 'jordan': 4.777905363128566, 'replife': 10.986495389225194, 'hill': 3.794313330511949, 'clara': 5.989283115461079, 'vocalists': 6.27696518791286, 'spacemartins': 10.986495389225194, 'another': 2.603062187988481, 'trademark': 16.806000979308315, 'their': 4.560587510979536, 'allows': 5.625203223515769, 'flown': 6.696035948076803, 'hone': 7.654290879049991, 'helps': 5.668375395380978, 'diluted': 8.907053847545358, 'mould': 7.767619564356994, 'breaking': 4.387986360610679, 'ideas': 4.288227335109782, 'out': 1.8484031814566355, 'industry': 8.871187645931855, 'launch': 4.439709978464671, 'years': 1.0752380994247055, '13': 2.714435767014782, 'hold': 4.144879912747602, 'nineties': 6.1907048436284535, 'one': 0.9309307338087167, 'concentrates': 6.892150827003094, 'albums': 3.020602654140666, 'scoring': 3.525429874870911, 'mantis': 8.421546031763658, 'following': 1.9609195556941061, 'content': 4.611470569397098, 'within': 9.086903960983264, 'tomb': 13.85210475735755, 'omar': 5.7770092363837735, 'now': 1.96695239252401, 'ltd': 4.465874261666498, 'top': 2.2740644157484557, 'england': 2.646755623206051, 'time': 1.3253342074200498, 'ashes': 6.391375539090604, 'at': 0.43063857330825733, 'was': 0.2380973568365504, 'early': 3.858845507304458, 'realm': 6.259107570512853, 'in': 0.007723250800971594, 'name': 4.867098056206278, 'scene': 3.553420040326614, 'invite': 6.926052378678775, 'soundmartin': 10.986495389225194, 'midland': 6.709829270209139, 'zed': 7.851001173296044, 'cartoons': 5.713495830661447, 'mancinis': 9.377057476791094, 'his': 3.676560372991202, 'company': 8.780037449904768, 'into': 3.2101258848132113, 'raider': 15.790905871733758, 'north': 2.4321991098574545, 'worlds': 3.5737313717986314, 'appropriately': 7.728398851203712, 'working': 2.074561053063768, 'design': 3.1789853470090015, 'labfunk': 10.986495389225194, 'occasions': 4.253093497387835, 'to': 0.7041740652269884, 'job': 3.446936559924164, 'iveson': 28.80060308431591, 'nu': 7.0744723837970485, 'atjazz': 76.90546772457635, 'be': 1.4062480045415613, 'it': 1.3165805834938153, 'own': 4.539919313361398, 'print': 4.355812003582822, 'uks': 5.579323617765075, 'video': 6.163582950702896, 'house': 4.651096468328522, 'very': 2.811792506755733, 'himself': 2.8194272108839566, 'from': 0.5875106759712689, 'for': 0.7286252934328691, 'the': 0.00243786822177392, 'famous': 3.2150066291075783, 'well': 1.5295293417875981, 'better': 3.445873860568042, 'most': 1.4186204428983973, 'left': 2.191367476812056, 'work': 1.3993637697254548, 'games': 6.699371904672875, 'composer': 3.2290166226410153, 'writes': 3.738702807457348, 'a': 0.05057266025324832, 'story': 2.9774647041554636, '1998': 2.0687826320938068, 'practice': 3.336326688380194, 'record': 6.45866071960291, 'martin': 28.01252084748426, 'with': 1.2148118551323641, 'gamesnot': 10.986495389225194, 'releases': 9.155933196331391, 'lara': 6.696035948076803, 'computer': 3.5629269449660277, 'works': 4.42869989996019, '3rd': 4.133196296039116, 'rework': 8.588600116426823, 'towns': 5.583818007352915, 'dj': 4.263865594369746, 'contributions': 3.5498781239909682, 'audio': 4.548743739488793, 'deborah': 5.688178022677158, 'development': 2.3538329480028426, 'sawhney': 9.04058524016988, 'misspent': 10.293348208665249, 'ranges': 6.09614626100344, 'heart': 3.7764157610544062, 'deep': 4.283307275984332, 'that': 1.3228138933429963, 'bias': 6.52058727057061, 'under': 1.8347379746813095, 'core': 4.814794791814279, 'led': 2.2402561008421333, 'new': 2.6614597968375824, 'world': 2.741246489392608, 'returns': 5.644161137260383, 'hiphop': 5.296135934901134, 'and': 0.01564802185902329, 'runs': 3.5323543110785156, 'this': 6.409428478993691, 'series': 1.877080935838972, 'jazz': 3.5088911460276053, 'he': 0.640105672976172, 'recordings': 3.6580580363300323, 'synonymous': 7.431147327735781, 'many': 3.279929325597492, 'your': 3.7127090713802997, 'companyfrom': 9.04058524016988, 'martins': 10.768753136690986, 'croft': 7.728398851203712, 'moniker': 5.956057467832759, 'sinclar': 8.789270811888976, 'fujio': 9.600201028105303, 'arrived': 4.84876833513896, 'debut': 4.344627132073753, 'owns': 4.584578192498009, 'take': 3.112517009620693, 'darkness': 6.030668331623933, 'angel': 4.8683981911838465, 'musicians': 7.1175130973846015, 'eastern': 3.630854286250941, 'underground': 4.587900454689986, 'sound': 7.0531612459681785, 'reworking': 7.552508184740048, 'featured': 2.542518260140216, 'has': 2.570985238464234, 'emi': 5.592867842872833, 'known': 4.337318145795609, 'also': 2.3136354580811744, 'remixing': 28.901181094126528, 'skateboarding': 7.552508184740048, 'on': 0.7376510134024015, 'environment': 3.8660510168327065, 'throughout': 2.8924222411558422, 'which': 2.302292901131308, 'channel': 3.3662806186507392, 'john': 3.9826607978280886, 'frontier': 5.982549083279735, 'akatsuka': 9.887883100557085, 'musical': 2.7953093845824055, 'renowned': 4.064837205074066, 'aspirations': 6.766987684049088, 'henri': 6.134465125305577, 'other': 1.4424007566948476, 'helped': 2.9399460319421156, 'named': 2.0300155412252816, 'do': 3.162449378368902, 'samethe': 10.986495389225194, 'success': 2.881489851677948, 'including': 3.681847337538355, 'first': 0.6956048713993103, 'ep': 4.529725733653031, 'here': 4.0697803688715855, '1996': 2.135691193468776, 'illustrations': 5.750053426395245, 'wellreceived': 6.6170475367581725, 'inspirational': 6.037735498847026, 'producers': 8.911235522998618, 'album': 9.805063341291433, 'prolific': 4.547145018125096, 'something': 4.272324859315723, 'artists': 2.725227238647546, 'such': 1.763337513538397, 'licensed': 5.366094523508044, 'production': 5.498561371751411, 'japan': 6.518801808890705, 'gives': 4.872813209392963, 'sonykioon': 10.986495389225194, 'studio': 6.162107480329817, 'youth': 2.9583663297934346, 'as': 0.635847610062059, 'cover': 3.7092476625937105, 'concentrate': 5.41434135704743, 'artwork': 5.062239591810663, 'influencers': 8.042056410058754, 'music': 7.171170633608139, 'career': 1.3050270203415668, 'animated': 4.556775911186057, 'two': 1.0988831858473562, 'bob': 3.5498781239909682, 'been': 1.954954670959205, 'labresults': 10.986495389225194, 'digital': 3.842877786521073, 'miso': 10.293348208665249, 'class': 3.280782565330767, 'soon': 3.379113963585403, 'by': 1.498213648247895, 'after': 2.833000326003919, 'producer': 5.231432432528987, 'had': 1.177428412308558, 'distinct': 5.923900356198227, 'songs': 2.9508926963066124, 'established': 3.0759047769687164, 'scenemartin': 10.986495389225194, 'remixer': 14.272695575030271, 'or': 1.9128915408224825, 'british': 2.238031759283139, 'nitin': 8.278445188122983, 'mainstream': 4.584578192498009, 'jazzanova': 10.293348208665249, 'but': 2.627989130928604, 'of': 0.03740558579200372, 'even': 3.282585179608883, 'is': 0.13808125237759994, 'panther': 6.6170475367581725, 'continuation': 6.796840647198769, 'these': 2.5975902181104877, 'further': 6.5669754134919165, 'requested': 10.914132603427541, 'pink': 5.3200687011127625, 'records': 2.678542843954175, 'still': 2.700225936442129, 'heavily': 9.169156384996018, 'states': 1.824400329877006, 'techniques': 4.231891289737232, 'more': 1.673778950632145, 'perfect': 4.757984385634011, 'forward': 3.8848194176057507, 'later': 2.858899208695539, 'its': 1.6875948402695313, 'artist': 2.4318137533979653, 'voice': 3.2616069499021205, 'few': 3.0010110324913715, 'pitch': 5.028070696195412, 'trying': 4.706099550264999}, {'women': 3.0715123833768, 'sexiest': 6.655762048938863, '100': 2.9741457498974, 'no': 2.396423552396384, '2003': 1.8013702663900752, 'clown': 6.682430296021025, '2002in': 6.21581076475953, 'old': 2.905638969584208, '2001': 1.9280249665871378, 'express': 4.654993539331503, 'angel': 4.8683981911838465, 'roles': 3.204105053637735, 'loves': 5.449161122206657, 'sander': 7.489987827758714, 'again': 2.3853287640327783, 'sanderin': 10.986495389225194, 'alongside': 3.2975820523603985, 'differently': 7.37557747658097, 'love': 2.9738144595183553, 'seen': 3.4810031144877702, '2006': 1.520737905384506, 'clinic': 5.344588318287081, 'forest': 4.586237943916373, 'heaven': 5.351705786055945, 'twentyyearold': 9.377057476791094, '2005': 3.285172250655193, 'rymanher': 10.986495389225194, 'angelsin': 10.293348208665249, 'wild': 4.433987502190604, 'investigators': 6.313666554763288, 'scene': 3.553420040326614, 'crime': 4.026147660123887, 'took': 2.2103282894939196, 'properlyin': 10.986495389225194, 'writers': 3.5440026664307536, 'fhmgermanys': 10.986495389225194, 'allowing': 4.842309755099548, 'appear': 4.067800170204723, 'new': 0.8871532656125274, 'time': 1.3253342074200498, 'enough': 4.154541823659339, 'ice': 4.091825349791713, 'up': 1.5635467678501844, 'free': 2.956736868784372, 'you': 2.914652239616036, 'able': 3.7487171973017515, 'erol': 9.04058524016988, 'unavailable': 7.0744723837970485, 'when': 1.3806055739282235, 'projects': 3.0071564939628668, 'accepted': 3.96719873551015, 'equivalent': 5.493433945884646, 'seebergwhile': 10.986495389225194, 'is': 0.05523250095103998, '2008': 1.5093391374786154, 'her': 7.751076893164003, 'greenlit': 9.04058524016988, 'was': 0.7142920705096512, 'lexx': 27.12175572050964, 'television': 4.00360339756268, 'role': 11.017795164379649, 'succeeded': 3.912378573027832, 'courses': 4.177456083182215, 'such': 1.763337513538397, 'for': 0.14572505868657382, 'commissioner': 4.073752568732018, 'known': 1.4457727152652031, 'studying': 3.612493529875034, 'movie': 3.300792327990647, 'character': 3.5492890223539018, 'german': 13.011247273797174, 'xenia': 8.501588739437194, 'a': 0.011238368945166293, 'payday': 7.941972951501771, 'advanced': 3.7639293704030234, 'actress': 3.318869297640204, 'included': 2.4446095852185854, 'hiatus': 5.437419304329975, 'beer': 6.002888767516858, 'conflicts': 5.570394987020774, 'the': 0.0025394460643478334, 'of': 0.02909323339378067, 'ranked': 3.8210019141643485, 'gap': 5.531174273867493, 'drama': 3.3860930547247943, 'habermann': 10.293348208665249, '17': 2.7543211528412543, 'commit': 5.996062802446458, 'appearing': 3.7487171973017515, '1976': 2.71622627778857, 'felicitas': 9.887883100557085, 'ard': 7.094675091114568, 'leah': 7.348909229498808, 'who': 1.8197904379608427, 'school': 1.2227872792173518, 'graduation': 4.125831717776908, 'pumuckl': 10.293348208665249, '1': 2.0978765819243166, 'fear': 5.120027332291897, 'rebecca': 5.698228358530659, '16': 2.680270173193033, 'series': 11.262485615033832, 'has': 0.428497539744039, 'well': 1.5295293417875981, 'orourke': 8.09612363132903, 'olivia': 6.1907048436284535, 'senior': 2.2990532222492712, 'appeared': 4.136493596378985, 'bellringer': 10.986495389225194, 'scheduling': 7.348909229498808, '1999': 1.9968016883646342, 'deal': 3.576753435144271, 'she': 22.147821334399254, 'fire': 4.1174809385594875, 'played': 4.636320601315451, 'zev': 8.042056410058754, 'broadcast': 3.453871770436406, 'in': 0.015446501601943188, 'placement': 6.323056295113127, 'numerous': 2.4220370053418425, 'best': 1.5336010724149785, 'schedule': 5.449161122206657, 'and': 0.00819658287853601, 'monkey': 6.199003646443148, 'black': 3.1224597301527437, 'soon': 3.379113963585403, 'promises': 6.567654781428597, 'however': 2.41879921563585, 'tv': 12.830166933843643, 'dancing': 4.730745347471827, 'cans': 8.153282045168979, 'episodes': 8.363761738325142, 'other': 1.4424007566948476, 'ultimately': 8.63399459873463, 'playing': 2.0910027577735617, 'eva': 17.448034182561127, 'lessons': 9.608820965017125, 'after': 0.9443334420013064, 'write': 3.862822604020587, 'obtained': 3.5599463168278898, 'first': 2.0868146141979307, '1997': 2.1298344522079455, 'diploma': 4.4527065512918504, 'received': 1.5396609815666638, 'also': 0.4627270916162349, 'moderated': 7.37557747658097, 'season': 3.7750672104648015, 'children': 2.4252853123921825, 'diehlin': 10.986495389225194, 'on': 0.36882550670120073, '19951996while': 10.986495389225194, 'between': 4.080501559789301, 'thus': 4.195273926499008, 'films': 2.78045762644638, 'seasons': 5.271658297408541, '2': 2.2482408126990716, 'only': 1.819375719703575, 'zdf': 7.851001173296044, 'by': 0.7491068241239475, 'roth': 6.304364162100975, 'beach': 4.012016478200149, 'january': 1.885412003185961, 'club': 2.2086316746040255, 'unable': 4.470302313182231, 'as': 0.5086780880496472, 'high': 1.906719387270128, 'to': 0.2816696260907954, 'rosamunde': 9.19473591999714, 'twoyear': 4.736520146965711, 'film': 4.066227834115904, 'two': 3.296649557542069, 'sisters': 4.756013941646713, 'born': 0.268196273764765, 'rosa': 5.787998357959369, 'due': 2.7324867986603505, 'comedy': 3.4937350883028153, 'pilcher': 9.19473591999714, 'second': 3.344851662973069, 'show': 2.1689013529494012, 'singing': 3.7965732184793866, 'with': 0.6074059275661821}, {'table': 4.987558827278511, 'top': 2.2740644157484557, 'against': 2.0079609791418744, 'fixture': 5.82170941530168, 'boxing': 5.108759607445555, 'charge': 3.8922605433004387, 'unitedon': 9.600201028105303, 'cambridge': 3.654126183296132, 'quinn': 6.030668331623933, 'september': 1.9011515074236967, 'knee': 4.808551275174594, 'persistent': 6.796840647198769, 'due': 2.7324867986603505, 'retired': 2.359013843914834, 'licence': 6.118960938769612, 'wembley': 5.892745188418432, 'playoff': 4.492741549373508, 'winning': 2.416330313042851, 'matches': 3.9725799144146667, '122': 6.796840647198769, 'next': 2.670439668860552, 'gained': 3.3796108580055644, '199798': 5.868501576808439, '1995castle': 10.986495389225194, '199394': 5.833203794727416, '2011': 1.7023470901042919, 'transferring': 5.658619220435613, 'clubs': 3.4464050690798693, 'taken': 3.500442771362054, 'alltime': 4.393450855082757, 'mccall': 7.272923322520886, 'partner': 3.4248536436364145, 'alongside': 3.2975820523603985, 'back': 2.443829401835926, 'intimate': 5.750053426395245, 'foot': 5.151684652162589, 'allaction': 9.19473591999714, 'boy': 4.012016478200149, 'golden': 3.618155702913813, 'parks': 5.289401902719789, 'became': 3.9901797991648547, 'super': 3.858801689877796, 'dunstable': 9.04058524016988, 'favourite': 5.114377599749778, 'stevie': 5.782488702148399, 'advice': 4.846610836998939, 'denis': 5.7032916604872055, 'relegation': 5.473066643060212, 'following': 3.9218391113882123, 'relationship': 3.85160453765931, 'new': 0.8871532656125274, 'uefa': 4.8401661315562965, 'birmingham': 8.693239110797316, 'seeking': 4.810628119119433, 'with': 0.8098745700882427, 'gould': 6.642689967371511, 'jimmy': 4.254284682757988, 'captainhe': 8.347438059609935, 'ever': 2.956736868784372, 'orients': 9.887883100557085, 'continued': 2.720588055069447, 'voted': 3.922591427753126, 'athletic': 3.984339434821573, 'xi': 5.539758017558884, 'poll': 10.25712446948347, 'his': 3.413948917777545, 'year': 2.684723274307979, 'team': 3.464084885261381, 'director': 1.6150570969066835, 'indeed': 5.469042492760487, 'on': 0.9220637667530018, 'developed': 3.092923315720292, 'secondhalf': 7.402976450769084, 'division': 5.5812199958207955, 'third': 2.3506306680914584, 'pfa': 13.85210475735755, '2014': 2.2073995783446634, 'named': 6.090046623675844, 'halftime': 6.629786562535602, 'shilton': 8.789270811888976, 'was': 0.4761947136731008, 'took': 2.2103282894939196, 'coaching': 3.746562797904725, 'win': 2.5472637392786686, 'bobby': 4.460000529654404, 'paid': 4.48821323974876, '2001': 1.9280249665871378, 'wigan': 6.111298066024043, 'also': 0.4627270916162349, '1984': 2.5258725492973513, 'career': 1.3050270203415668, '2006': 1.520737905384506, 'the': 0.002641023906921747, 'attention': 3.4269358932174945, 'of': 0.045717938190226765, 'barnstorming': 9.19473591999714, 'castle': 40.803130862200305, 'net': 5.056906245835299, 'firm': 3.3971595660545773, 'and': 0.008941726776584738, 'minutes': 4.058937482946877, 'for': 0.43717517605972145, 'english': 2.239461125047026, '32': 4.3717697890214335, 'barking': 7.690658523220865, 'general': 2.220724845237937, '1966': 3.087341905882097, 'senior': 2.2990532222492712, 'may': 1.7899497282712007, 'manager': 8.470227040925938, 'in': 0.021238939702671884, 'liverpool': 4.68570959456195, 'duly': 7.179832899454874, 'scout': 4.92971137599657, 'born': 0.268196273764765, 'former': 1.3573131120992086, 'newlook': 9.377057476791094, 'castles': 7.808441558877249, 'league': 4.171347568619933, 'steve': 6.98524300488327, 'road': 3.567114806306502, 'kenny': 4.897450513778348, 'is': 0.02761625047551999, 'city': 3.480417780951085, 'football': 7.675711996701418, 'late': 2.374355720500003, 'goals': 10.374490867553842, 'playercoach': 6.126682984863522, 'a': 0.10676450497907979, 'vein': 6.8276123058655225, 'he': 2.13368557658724, 'december': 4.00285165915879, 'greatest': 3.7530399706037554, 'one': 1.8618614676174334, 'leyton': 13.447631024367757, 'rally': 5.477107052597217, 'attracted': 4.640859028396599, 'fine': 3.577964822330568, 'orient': 19.460057156684787, '16': 2.680270173193033, '1992': 2.278351314316948, 'from': 0.29375533798563447, 'who': 0.9098952189804214, 'first': 0.6956048713993103, 'injuryin': 7.990763115671204, '12': 2.511583590065563, 'three': 4.474507588072786, 'eventually': 3.0940433457048417, 'total': 3.2767385247710297, 'between': 2.0402507798946505, 'tier': 5.76613956414687, 'gillingham': 6.961143698490045, 'second': 3.344851662973069, 'peterborough': 12.047301517930574, 'to': 0.61028418986339, 'as': 0.635847610062059, 'injured': 4.471782698352665, 'amassing': 7.094675091114568, 'left': 4.382734953624112, 'highlights': 5.240292198685041, 'free': 5.913473737568744, '322': 7.728398851203712, 'twitter': 5.544077678703401, 'enough': 4.154541823659339, 'appearances': 2.8360274776011907, 'place': 2.5222811225998436, 'unitedplymouth': 10.986495389225194, 'them': 2.497495932179739, 'plymouth': 5.868501576808439, 'at': 1.291915719924772, 'target': 5.262910287272813, 'before': 1.4967823726683713, 'style': 6.40404430697745, 'boss': 10.423887687361573, '2013': 1.9545642372230505, 'combative': 7.808441558877249, 'worth': 4.625192911652199, '13th': 4.9534091674263925, 'an': 0.5964781781637942, '22': 2.83833894930357, 'dalglish': 8.588600116426823, 'thanks': 5.282712914568993, 'angilley': 10.986495389225194, 'undisputed': 14.862294655471562, 'county': 2.8412358227083288, 'wimbledon': 5.744748374165552, 'had': 2.354856824617116, 'ending': 4.547145018125096, 'midfielder': 4.804410482508563, 'brisbane': 4.881702156810209, 'instructing': 7.767619564356994, 'midfield': 16.737970853295224, 'start': 3.281232914358869, '17': 2.7543211528412543, 'negotiations': 5.0976174308923135, 'seen': 3.4810031144877702, '225000': 8.789270811888976, 'transfer': 8.825630444529097, 'fee': 5.114377599749778, 'final': 7.316900994038653, 'headed': 4.374454354392102, 'marched': 7.851001173296044, 'by': 0.7491068241239475, 'website': 3.6659684269524546, 'were': 1.521978023354629, 'promptly': 6.497859019493054, 'separate': 4.8401661315562965, 'preseason': 5.233922750399561, 'argyle': 46.40850593774922, 'park': 3.199528386610323, 'but': 1.313994565464302, 'personal': 3.033177042664763, 'played': 6.181760801753935, 'friendly': 5.224444006445018, 'action': 3.467888172409942, 'fans': 8.07136124156522, '199091': 6.126682984863522, 'would': 2.136551161989598, 'royston': 8.042056410058754, 'joined': 1.9082017981693435, 'have': 1.4416847832984716, 'day': 2.661431695593997, 'meaningful': 6.812108119329557, 'expected': 4.866197970274244, 'town': 6.40154898538114, 'wait': 11.785490376836863, 'notched': 6.979162203992724, 'end': 2.419560105914143, 'until': 1.7591012626831841, 'game': 7.250698557047725, 'see': 3.465177409025954, 'october': 1.9182947844101343, 'their': 1.5201958369931787, 'season': 9.437668026162005, 'marvel': 6.2679965179301, 'turned': 3.394129260705398, 'victory': 3.384593429350028, 'out': 1.8484031814566355, '200001': 5.810345656651365, 'own': 2.269959656680699, 'it': 1.3165805834938153, 'be': 2.8124960090831226, '1993': 2.3032794139845048, 'well': 1.5295293417875981, 'scored': 6.458888494386361, 'debut': 2.1723135660368764, 'saw': 3.4321605654994465, '20': 4.88376320446593, 'that': 1.3228138933429963, 'vs': 5.01014447992726, 'seasons': 5.271658297408541, 'up': 1.5635467678501844, 'more': 1.673778950632145, 'similar': 4.161035352969887, 'campaign': 3.025822780837077, 'playoffs': 4.823180585190553, 'home': 7.263250876615448, 'incidentally': 7.348909229498808, 'peter': 2.966224916405956, 'bagging': 8.789270811888976, 'hattrick': 6.3421044900838215, 'assistant': 2.5220702633476124, 'squad': 3.955637913109074, 'highlight': 5.557149760270754, 'stockport': 6.752388884627935, 'over': 1.4878231559557336, 'christmas': 4.324640648679884, 'six': 2.4538226269605703, 'moved': 2.0172079891067893, 'recordbreaking': 6.781802769834228, 'astonishing': 7.035251670643767, 'feat': 5.1965352183279405, 'spells': 5.316614466244674, 'confirmed': 4.1621217191821085}, {'voltaires': 9.887883100557085, '2014': 2.2073995783446634, 'album': 4.9025316706457165, 'needles': 7.851001173296044, 'everyday': 5.377023594040234, 'track': 3.490953445340938, 'cover': 3.7092476625937105, 'show': 2.1689013529494012, 'judge': 3.466802985108655, 'guest': 3.134445181959305, 'as': 0.1271695220124118, 'october': 1.9182947844101343, 'hollywood': 3.902268967127278, 'resides': 3.627027750969573, 'appearance': 3.3277958309568954, 'cameo': 5.6393878585077255, 'armens': 10.986495389225194, 'network': 3.154481208719725, 'representing': 3.535253704237518, 'showcases': 6.752388884627935, 'records': 2.678542843954175, 'bats': 5.3200687011127625, 'fork': 7.402976450769084, 'bowl': 4.5126046928729195, 'released': 2.0078348995855078, 'cd': 3.769051957528662, 'logo': 6.2329051981188295, 'songs': 2.9508926963066124, 'solo': 2.838628259301248, 'variet': 9.887883100557085, 'release': 2.9982917922026187, '2010': 4.77850188036592, 'madness': 6.391375539090604, 'song': 2.869182927623221, 'almond': 7.808441558877249, 'collaboration': 3.7154868509442025, 'bands': 3.520840079091138, 'performed': 2.5307521601251795, 'including': 1.2272824458461182, 'glamourhe': 10.986495389225194, 'stone': 4.332342869041976, 'rolling': 4.8401661315562965, 'village': 3.9268777609338112, 'musical': 2.7953093845824055, 'my': 2.903166780438819, 'post': 2.9162144958312948, 'times': 2.1000862223759134, 'york': 3.402095089524412, 'king': 3.452801679376562, 'currently': 1.637088969126014, 'party': 2.3540111534742225, 'melodic': 6.182474344491938, 'known': 1.4457727152652031, 'instrumentation': 6.453895896071939, 'debut': 2.1723135660368764, 'hbo': 5.22130428644035, 'armenian': 11.912114935665517, 'recorded': 2.7070519015125285, 'combination': 5.03325205493741, 'konzerthaus': 7.520759486425468, 'along': 2.5088749729287803, 'boulder': 5.839000912411741, 'folk': 8.296180376755702, 'play': 2.270287418073342, 'master': 3.1224597301527437, 'hotel': 4.400323734370519, 'ikebana': 9.887883100557085, 'cnn': 4.765905219125455, 'american': 1.1273777844250068, 'concerts': 4.0501526533911445, 'theremin': 32.38449452531612, 'factory': 4.68570959456195, 'concert': 3.5032509731513444, 'arts': 2.183972890940773, 'pg13': 10.293348208665249, 'iran': 4.883936794611626, 'performer': 4.073752568732018, 'museum': 6.488186734818825, 'new': 1.7743065312250548, 'taught': 2.8485149347730556, 'mother': 3.112517009620693, 'playing': 2.0910027577735617, 'californiain': 6.709829270209139, 'an': 0.5964781781637942, 'a': 0.022476737890332586, 'marc': 4.696779818316197, 'armen': 17.814107695090716, 'vh1': 6.2951475069960505, 'standards': 4.653215761085504, 'tehran': 5.804711838933109, 'vienna': 4.449803791633889, 'fuses': 8.042056410058754, 'laments': 8.789270811888976, 'ra': 13.04117454114122, 'first': 0.6956048713993103, 'are': 1.7719638126305435, 'i': 2.4031399955552883, 'british': 2.238031759283139, 'la': 2.801702735060116, 'descent': 4.7136183826790266, 'influence': 4.000853571585986, 'dietch': 10.293348208665249, 'singer': 2.7818235602743835, 'opera': 3.4411056396133706, 'monsterhe': 10.986495389225194, 'various': 2.3663846638022705, 'born': 0.268196273764765, 'aunt': 6.126682984863522, 'played': 3.0908804008769675, 'classical': 7.186464588922713, 'in': 0.005792438100728695, 'to': 0.04694493768179923, 'from': 0.29375533798563447, 'recording': 2.9764678607434605, 'voice': 3.2616069499021205, 'mama': 6.174311033852777, 'center': 2.378000039402171, 'was': 0.07936578561218346, 'many': 3.279929325597492, 'raised': 6.119063688724432, 'by': 0.7491068241239475, 'arrangementra': 10.986495389225194, 'film': 2.033113917057952, 'music': 3.5855853168040697, 'his': 2.1008916417092585, 'arias': 6.979162203992724, 'for': 0.21858758802986072, 'very': 2.811792506755733, 'plays': 2.869182927623221, 'himself': 2.8194272108839566, 'art': 2.4446095852185854, 'their': 1.5201958369931787, 'pianist': 4.07474808897352, 'projects': 6.0143129879257335, 'lounge': 6.103693466638823, 'visual': 3.988899406243268, 'iranianarmenian': 10.986495389225194, 'musicarmen': 10.986495389225194, 'has': 1.713990158976156, 'halloween': 6.875621525051883, 'is': 0.05523250095103998, 'at': 0.21531928665412867, 'of': 0.012468528597334574, 'the': 0.0013205119534608735, 'he': 1.06684278829362, 'united': 1.5679220786705559, 'artist': 4.863627506795931, 'nations': 3.361876403065796, 'with': 0.8098745700882427, 'wiener': 6.908957945319475, 'mozartsaal': 10.986495389225194, 'heritage': 4.322086368874786, 'knitting': 7.489987827758714, 'etc': 4.639106179569184, 'sharon': 5.653776595959825, 'both': 3.3461141184908887, 'lincoln': 4.480711329096966, 'and': 0.008941726776584738, 'bb': 6.6170475367581725, 'joes': 6.961143698490045, 'cbgbs': 8.347438059609935, 'appeared': 6.204740394568478, 'gershwin': 7.179832899454874, 'been': 0.9774773354796025, 'pub': 5.930249583876886, 'featured': 2.542518260140216, 'on': 1.1064765201036022, 'modern': 6.2743431423692675, 'mtv': 4.717399105518933, 'vogue': 5.457066301713771}, {'by': 0.37455341206197373, 'barony': 8.588600116426823, 'presumptive': 8.09612363132903, 'heir': 6.304364162100975, 'josiehe': 10.986495389225194, 'katie': 6.199003646443148, 'amy': 5.160495281844744, 'have': 1.4416847832984716, 'schoettle': 10.986495389225194, 'anne': 9.003720307179885, 'our': 3.573128053529954, 'days': 3.0398778259807213, 'wife': 2.683981670711037, 'nanny': 7.054669756500869, 'los': 2.573774219405668, 'show': 2.1689013529494012, 'sheffield': 4.9042764788487485, 'maxwell': 5.880549915324614, 'charles': 3.3550637246482893, 'brother': 6.072691003146352, 'older': 4.370430204092377, 'which': 0.7674309670437692, 'writer': 5.022332803815312, 'as': 0.2543390440248236, 'known': 2.8915454305304062, 'best': 3.067202144829957, 'on': 0.7376510134024015, 'his': 1.0504458208546292, 'around': 5.275915127678194, 'vic': 5.465034471362948, 'theatres': 5.341048491581956, 'to': 0.1877797507271969, 'college': 1.5613662703175555, 'repertory': 5.51422471555372, 'series': 1.877080935838972, 'eton': 6.332535039067671, 'he': 1.493579903611068, 'speech': 4.43113849741453, 'live': 2.586285553294776, 'geoffrey': 5.6158573610975315, 'held': 2.1669778486203057, 'lives': 2.532029027717262, 'gameshis': 8.153282045168979, 'went': 4.103817037671037, 'london': 4.439578782949358, 'a': 0.02809592236291573, 'shaughnessey': 10.986495389225194, 'producer': 10.462864865057973, 'of': 0.02078088099555762, 'the': 0.0016252454811826135, 'directs': 5.526909875081035, 'touring': 3.8397232097725573, 'world': 1.370623244696304, 'television': 8.00720679512536, 'shaughnessy': 34.35440046570729, 'central': 2.8997774689212887, 'executive': 2.4958515330424933, 'britishborn': 6.908957945319475, 'wade': 6.199003646443148, 'young': 2.4099018545275093, 'actor': 8.87412067533283, 'become': 2.4964678658817263, 'spelled': 6.118960938769612, 'uk': 5.5812199958207955, 'also': 0.9254541832324698, 'director': 3.230114193813367, 'james': 2.762331876587333, 'restless': 6.371374872383935, 'former': 1.3573131120992086, 'david': 4.9025316706457165, 'and': 0.013412590164877109, 'becoming': 2.90749713054004, 'directing': 4.3544936118295645, 'beautiful': 4.576320507259028, 'principal': 3.545761681835933, 'father': 2.53865227594375, 'is': 0.16569750285311993, 'at': 0.21531928665412867, 'old': 2.905638969584208, 'movies': 4.061882993176634, 'upstairs': 7.094675091114568, 'school': 1.2227872792173518, 'educated': 3.3282678630638425, 'turned': 3.394129260705398, 'downstairs': 7.851001173296044, 'with': 0.40493728504412135, 'company': 2.195009362476192, 'in': 0.006757844450850144, 'perform': 3.956522477518808, 'then': 1.4309354361561304, 'national': 1.1860931647723914, 'for': 0.36431264671643454, 'including': 1.2272824458461182, '18': 2.726778428203672, 'moved': 2.0172079891067893, 'months': 3.0427126967665687, 'tours': 4.057957571060529, 'godspell': 7.941972951501771, 'mackintosh': 7.690658523220865, 'acted': 4.137429106591736, 'both': 1.6730570592454443, 'uslater': 10.986495389225194, 'head': 2.464115671121657, 'cartoons': 5.713495830661447, 'three': 1.4915025293575952, 'drama': 6.7721861094495885, 'into': 1.6050629424066056, 'producing': 3.830318751744579, 'all': 1.6431112434912472, 'ultimately': 4.316997299367315, 'developing': 3.7973276508048714, 'commercials': 4.392081929475416, 'angeles': 2.6939468752494338, 'now': 1.96695239252401, 'bold': 5.996062802446458, 'freelance': 4.29938678135868, 'basis': 4.184100625900883, 'theatre': 8.980652525721265, 'while': 1.8364359481339414, 'daytime': 5.693190564500702, 'seen': 3.4810031144877702, 'started': 2.1106492114865967, 'voiceovers': 7.0162034756730725, 'service': 2.600778560597343, 'daughters': 4.187439527166398, 'actors': 4.251903729252247, 'work': 1.3993637697254548, 'provides': 4.457076550962969, 'cameron': 5.377023594040234, 'films': 2.78045762644638, 'video': 3.081791475351448, 'was': 0.15873157122436693, 'alfred': 4.8596262051110095, 'scriptwriter': 6.696035948076803}, {'they': 1.8993401178193898, 'said': 2.808417925375587, 'someone': 10.195234861784627, 'instead': 3.8056641901806385, 'better': 3.445873860568042, 'got': 3.2070284217668696, 'happy': 4.8401661315562965, 'very': 2.811792506755733, 'that': 1.9842208400144945, 'vancouver': 8.438304527919604, 'told': 3.965411424936054, 'having': 2.448323791423765, 'liberals': 5.579323617765075, 'criticized': 4.568130453288983, 'however': 2.41879921563585, 'criticism': 4.3650897374610595, 'offer': 4.625192911652199, 'accepted': 3.96719873551015, 'harpers': 5.9175911870049624, 'serving': 2.8470548673505855, 'leftleaning': 7.895452935866879, 'floor': 5.1487649420592545, 'about': 1.9265128988375737, 'emerson': 18.17772511220397, 'liberal': 3.7344414373723804, 'approach': 4.100985719190377, 'resulted': 4.015765311081669, 'firestorm': 8.683910296231149, 'which': 1.5348619340875385, 'coordinator': 4.233057470627415, 'election': 5.14178410714118, 'claimed': 3.846042346124036, 'retirement': 3.2137426727564526, 'but': 1.313994565464302, '2005': 1.6425861253275964, '24': 2.8790765775052196, 'new': 1.7743065312250548, 'stephen': 3.8125370694684007, 'chosen': 3.80186623650788, 'named': 2.0300155412252816, 'conservative': 11.439910940215787, 'leader': 13.659832536427249, 'bargain': 6.812108119329557, 'triggered': 6.592046234552756, 'chuck': 5.120027332291897, 'switch': 5.658619220435613, 'caucus': 5.122864213627097, 'revolt': 7.054669756500869, 'continued': 2.720588055069447, 'faced': 4.495771854722687, 'federal': 3.0888272384982884, 'day': 7.984295086781991, 'crossing': 5.552773385670955, 'stockwell': 7.690658523220865, 'folded': 5.693190564500702, '1990s': 3.1109960967799863, '1980s': 2.9688582293167167, 'interim': 4.632125348427844, '1942': 4.106111307039189, 'minority': 4.6496696580787535, '1970s': 3.216272185066409, 'strongly': 4.925038470297177, 'had': 2.354856824617116, 'and': 0.007451438980487283, 'mp': 13.29768595559815, '2006': 3.041475810769012, 'politician': 2.6023765520342987, 'role': 2.20355903287593, 'newspaper': 3.4624739740190695, 'belinda': 7.202305755306933, 'as': 1.6532037861613533, 'to': 0.2816696260907954, 'from': 0.5875106759712689, 'clarks': 6.843360662833661, 'an': 0.2982390890818971, 'resigned': 13.225278995154415, 'people': 2.5151367341527564, 'harper': 10.82868271409486, 'house': 6.9766447024927825, '1974': 2.77067759739274, 'convention': 4.417013968810898, 'leadership': 3.2049394299898544, 'been': 0.9774773354796025, 'vancouversunshine': 9.600201028105303, 'columbia': 12.929771000757748, 'first': 0.6956048713993103, 'he': 2.347054134245964, '19': 2.8848176417706224, 'west': 2.602605045123377, 'who': 1.8197904379608427, 'parliament': 9.94400577403924, 'reynolds': 28.491141792653295, 'after': 1.8886668840026128, 'the': 0.0025394460643478334, 'of': 0.05403029058844982, 'country': 2.6743602815767815, 'social': 5.245373009416627, 'provincial': 8.42454300573516, 'january': 3.770824006371922, 'government': 6.920019823082214, 'a': 0.0730493981435809, 'coastsea': 9.600201028105303, 'end': 2.419560105914143, 'emersons': 9.377057476791094, 'pc': 5.142950972193835, 'leaderreynolds': 10.986495389225194, 'canadian': 5.533799870096228, 'suburban': 5.7290000171974125, 'david': 2.4512658353228582, 'born': 0.268196273764765, 'douglas': 4.558390116540598, 'asked': 3.664645675436838, 'reelected': 3.68265216394749, 'in': 0.021238939702671884, 'member': 1.2204325126007385, 'john': 1.9913303989140443, 'for': 0.21858758802986072, 'candidate': 6.294727481901723, 'conservatives': 11.386381129001403, '1997': 4.259668904415891, 'also': 0.4627270916162349, 'into': 1.6050629424066056, 'riding': 12.868383424676129, 'was': 1.0317552129583851, 'sky': 4.457076550962969, 'stronachs': 9.887883100557085, 'assembly': 3.3434917536644764, 'progressive': 4.197523646233024, 'active': 2.7479584590534256, 'whip': 5.289401902719789, 'alliance': 7.986960532584468, 'disagreeing': 8.501588739437194, 'with': 0.20246864252206068, 'eventually': 3.0940433457048417, 'joe': 3.6099872628989744, 'place': 2.5222811225998436, 'party': 9.41604461389689, 'policiesbeginning': 10.986495389225194, 'tory': 6.52058727057061, '1983': 2.57266471080411, 'remained': 6.640546927124939, 'until': 5.277303788049553, 'served': 4.6088170497915755, 'have': 1.4416847832984716, 'credit': 8.967410686619141, '1977': 2.6962027980008787, 'speaker': 3.580999726025722, 'legislative': 3.6283016364921616, 'cabinet': 7.632751691551133, 'on': 0.36882550670120073, 'minister': 10.993948560027166, 'defeated': 3.4068165661347387, '1986': 2.487466168436628, 'is': 0.02761625047551999, 'at': 0.43063857330825733, 'british': 8.952127037132556, 'well': 1.5295293417875981, 'coming': 3.7624705809393637, '1991': 2.3750835225699753, 'fifth': 3.556974546438732, 'strahl': 10.293348208665249, 'politics': 3.0398778259807213, 'when': 5.522422295712894, 'commons': 5.120027332291897, 'his': 1.3130572760682866, 'bid': 4.613175599648182, '2001': 1.9280249665871378, 'elected': 4.47638095369114, 'opposition': 11.391982952414615, 'reelectionreynolds': 10.986495389225194, '1972': 2.8070152038663028, 'returned': 2.224475435663605, 'campaign': 3.025822780837077, 'reform': 8.185678069245117, 'red': 3.274498882177525, 'chief': 2.552031845407953, 'this': 1.2818856957987381}, {'onfield': 7.690658523220865, 'amputated': 7.895452935866879, 'lower': 4.515695885442592, 'infection': 6.766987684049088, 'gangrene': 9.600201028105303, 'onset': 6.926052378678775, 'scoresby': 9.377057476791094, '2001': 1.9280249665871378, 'his': 0.7878343656409719, 'noted': 3.443222042519748, 'with': 0.20246864252206068, 'leg': 9.728005159421617, 'fine': 3.577964822330568, 'managed': 3.5225587847562694, 'expected': 4.866197970274244, 'progress': 4.767895269533465, 'midfielder': 4.804410482508563, 'carltona': 10.986495389225194, '16': 2.680270173193033, 'kicks': 6.224321454427438, 'disposals': 6.2679965179301, '39': 5.020348650101503, 'didnt': 4.383907497035858, 'record': 2.1528869065343033, 'compiled': 4.870603263742161, 'age': 2.138848033513307, 'nearly': 3.8452502668747033, 'debut': 2.1723135660368764, 'on': 0.18441275335060037, 'kilda': 11.96509816655947, 'by': 0.37455341206197373, 'released': 2.0078348995855078, 'years': 1.0752380994247055, 'retain': 5.653776595959825, 'did': 2.318987437150089, '1985': 5.064910025628451, 'winless': 7.585298007563039, 'this': 1.2818856957987381, '23': 5.938375763073227, 'fairest': 5.653776595959825, 'captaining': 6.411784410721811, 'best': 1.5336010724149785, 'winning': 2.416330313042851, 'against': 2.0079609791418744, 'to': 0.2816696260907954, 'as': 0.2543390440248236, 'its': 5.062784520808594, 'brice': 8.153282045168979, 'rules': 3.8272034844276295, 'end': 2.419560105914143, 'only': 1.819375719703575, 'team': 1.7320424426306904, 'season': 1.8875336052324008, 'during': 1.3174651479035495, 'not': 3.1760341502672342, 'leaguegreig': 10.293348208665249, 'a': 0.02809592236291573, 'football': 17.909994658969975, 'at': 0.645957859962386, 'is': 0.02761625047551999, 'despite': 3.327324021559136, 'votes': 3.7875641485370206, 'suffered': 4.044338683525725, 'wish': 5.489327163931993, '31': 3.294838566414648, 'october': 1.9182947844101343, 'described': 3.1584573570993646, 'some': 2.1974446757041473, 'handballs': 8.421546031763658, 'played': 3.0908804008769675, 'handballin': 10.293348208665249, 'hawthorn': 12.253365969727044, 'under': 1.8347379746813095, 'camberwell': 14.979975655517428, 'following': 1.9609195556941061, '19s': 8.042056410058754, 'it': 1.3165805834938153, 'him': 3.1511686535743872, 'built': 4.061882993176634, 'be': 1.4062480045415613, 'after': 0.9443334420013064, 'griegs': 8.789270811888976, 'in': 0.009654063501214493, 'shining': 6.696035948076803, 'for': 0.29145011737314763, 'and': 0.004470863388292369, 'creative': 3.464636137023565, 'greig': 7.895452935866879, 'award': 1.6322278484423687, 'the': 0.0015236676386087002, 'of': 0.012468528597334574, 'st': 5.02274994846173, 'he': 1.06684278829362, 'trialled': 8.907053847545358, 'nine': 3.2624907325491286, 'collingwood': 5.982549083279735, 'preseason': 5.233922750399561, 'but': 1.313994565464302, 'was': 0.2380973568365504, 'also': 0.4627270916162349, 'due': 2.7324867986603505, 'suburban': 5.7290000171974125, 'former': 1.3573131120992086, 'born': 0.268196273764765, 'recruited': 8.979440798078663, 'last': 2.407078854628825, 'senior': 2.2990532222492712, '1980s': 2.9688582293167167, 'listin': 7.552508184740048, '1990': 4.736742958461033, 'ailing': 7.225295273531632, '1991': 4.750167045139951, 'turned': 3.394129260705398, 'club': 6.625895023812077, 'polled': 6.199003646443148, 'australian': 8.630007339620153, 'ten': 2.9294347072594293, 'grieg': 7.585298007563039, 'j': 6.511762646322909, 'broken': 4.4212304191898335, 'whilst': 4.442583543660402, 'liston': 7.654290879049991, 'dean': 3.7016744766565908, 'footballer': 3.2388985505323085, 'trophy': 4.378494763929107, 'round': 2.897933583948961, 'games': 4.466247936448583, '21': 2.797250863489293, 'vfl': 10.506308224654898, 'changed': 3.9725799144146667, 'an': 0.2982390890818971, 'playing': 2.0910027577735617, 'coach': 2.722132059493527, 'victorian': 9.129746242837353, 'name': 2.433549028103139, 'gary': 4.004560712068805, 'out': 1.8484031814566355, 'performances': 3.352641829543426, '1968': 2.8997774689212887, 'sole': 5.030658019760364, 'light': 3.740840321630659, 'which': 1.5348619340875385, 'clubs': 3.4464050690798693, 'mishap': 8.683910296231149, 'association': 2.1546374540272892, 'league': 6.2570213529299, 'vfagrieg': 10.986495389225194, 'nevertheless': 5.505856465883203, 'subsequently': 2.8793779184748045, 'strongly': 4.925038470297177, 'had': 2.354856824617116}, ... ]"
            ]
          },
          "metadata": {},
          "execution_count": 27
        }
      ]
    },
    {
      "cell_type": "code",
      "metadata": {
        "colab": {
          "base_uri": "https://localhost:8080/",
          "height": 104
        },
        "id": "ThHA7YgO_zBg",
        "outputId": "72c4175f-e2f9-4ebf-ee67-87d6ddc2e6a3"
      },
      "source": [
        "model_tf_idf = turicreate.nearest_neighbors.create(wiki, label='name', features=['tf_idf'],\n",
        "                                                   method='brute_force', distance='euclidean')"
      ],
      "execution_count": 28,
      "outputs": [
        {
          "output_type": "display_data",
          "data": {
            "text/html": [
              "<pre>Starting brute force nearest neighbors model training.</pre>"
            ],
            "text/plain": [
              "Starting brute force nearest neighbors model training."
            ]
          },
          "metadata": {}
        },
        {
          "output_type": "display_data",
          "data": {
            "text/html": [
              "<pre>Validating distance components.</pre>"
            ],
            "text/plain": [
              "Validating distance components."
            ]
          },
          "metadata": {}
        },
        {
          "output_type": "display_data",
          "data": {
            "text/html": [
              "<pre>Initializing model data.</pre>"
            ],
            "text/plain": [
              "Initializing model data."
            ]
          },
          "metadata": {}
        },
        {
          "output_type": "display_data",
          "data": {
            "text/html": [
              "<pre>Initializing distances.</pre>"
            ],
            "text/plain": [
              "Initializing distances."
            ]
          },
          "metadata": {}
        },
        {
          "output_type": "display_data",
          "data": {
            "text/html": [
              "<pre>Done.</pre>"
            ],
            "text/plain": [
              "Done."
            ]
          },
          "metadata": {}
        }
      ]
    },
    {
      "cell_type": "code",
      "metadata": {
        "colab": {
          "base_uri": "https://localhost:8080/",
          "height": 371
        },
        "id": "gVCcIBZQ_zBh",
        "outputId": "6be4f862-b8af-4e2e-9990-839d21695840"
      },
      "source": [
        "model_tf_idf.query(wiki[wiki['name'] == 'Barack Obama'], label='name', k=10)"
      ],
      "execution_count": 29,
      "outputs": [
        {
          "output_type": "display_data",
          "data": {
            "text/html": [
              "<pre>Starting pairwise querying.</pre>"
            ],
            "text/plain": [
              "Starting pairwise querying."
            ]
          },
          "metadata": {}
        },
        {
          "output_type": "display_data",
          "data": {
            "text/html": [
              "<pre>+--------------+---------+-------------+--------------+</pre>"
            ],
            "text/plain": [
              "+--------------+---------+-------------+--------------+"
            ]
          },
          "metadata": {}
        },
        {
          "output_type": "display_data",
          "data": {
            "text/html": [
              "<pre>| Query points | # Pairs | % Complete. | Elapsed Time |</pre>"
            ],
            "text/plain": [
              "| Query points | # Pairs | % Complete. | Elapsed Time |"
            ]
          },
          "metadata": {}
        },
        {
          "output_type": "display_data",
          "data": {
            "text/html": [
              "<pre>+--------------+---------+-------------+--------------+</pre>"
            ],
            "text/plain": [
              "+--------------+---------+-------------+--------------+"
            ]
          },
          "metadata": {}
        },
        {
          "output_type": "display_data",
          "data": {
            "text/html": [
              "<pre>| 0            | 1       | 0.00169288  | 24.718ms     |</pre>"
            ],
            "text/plain": [
              "| 0            | 1       | 0.00169288  | 24.718ms     |"
            ]
          },
          "metadata": {}
        },
        {
          "output_type": "display_data",
          "data": {
            "text/html": [
              "<pre>| Done         |         | 100         | 512.217ms    |</pre>"
            ],
            "text/plain": [
              "| Done         |         | 100         | 512.217ms    |"
            ]
          },
          "metadata": {}
        },
        {
          "output_type": "display_data",
          "data": {
            "text/html": [
              "<pre>+--------------+---------+-------------+--------------+</pre>"
            ],
            "text/plain": [
              "+--------------+---------+-------------+--------------+"
            ]
          },
          "metadata": {}
        },
        {
          "output_type": "execute_result",
          "data": {
            "text/html": [
              "<div style=\"max-height:1000px;max-width:1500px;overflow:auto;\"><table frame=\"box\" rules=\"cols\">\n",
              "    <tr>\n",
              "        <th style=\"padding-left: 1em; padding-right: 1em; text-align: center\">query_label</th>\n",
              "        <th style=\"padding-left: 1em; padding-right: 1em; text-align: center\">reference_label</th>\n",
              "        <th style=\"padding-left: 1em; padding-right: 1em; text-align: center\">distance</th>\n",
              "        <th style=\"padding-left: 1em; padding-right: 1em; text-align: center\">rank</th>\n",
              "    </tr>\n",
              "    <tr>\n",
              "        <td style=\"padding-left: 1em; padding-right: 1em; text-align: center; vertical-align: top\">Barack Obama</td>\n",
              "        <td style=\"padding-left: 1em; padding-right: 1em; text-align: center; vertical-align: top\">Barack Obama</td>\n",
              "        <td style=\"padding-left: 1em; padding-right: 1em; text-align: center; vertical-align: top\">0.0</td>\n",
              "        <td style=\"padding-left: 1em; padding-right: 1em; text-align: center; vertical-align: top\">1</td>\n",
              "    </tr>\n",
              "    <tr>\n",
              "        <td style=\"padding-left: 1em; padding-right: 1em; text-align: center; vertical-align: top\">Barack Obama</td>\n",
              "        <td style=\"padding-left: 1em; padding-right: 1em; text-align: center; vertical-align: top\">Phil Schiliro</td>\n",
              "        <td style=\"padding-left: 1em; padding-right: 1em; text-align: center; vertical-align: top\">106.86101369140928</td>\n",
              "        <td style=\"padding-left: 1em; padding-right: 1em; text-align: center; vertical-align: top\">2</td>\n",
              "    </tr>\n",
              "    <tr>\n",
              "        <td style=\"padding-left: 1em; padding-right: 1em; text-align: center; vertical-align: top\">Barack Obama</td>\n",
              "        <td style=\"padding-left: 1em; padding-right: 1em; text-align: center; vertical-align: top\">Jeff Sessions</td>\n",
              "        <td style=\"padding-left: 1em; padding-right: 1em; text-align: center; vertical-align: top\">108.87167421571077</td>\n",
              "        <td style=\"padding-left: 1em; padding-right: 1em; text-align: center; vertical-align: top\">3</td>\n",
              "    </tr>\n",
              "    <tr>\n",
              "        <td style=\"padding-left: 1em; padding-right: 1em; text-align: center; vertical-align: top\">Barack Obama</td>\n",
              "        <td style=\"padding-left: 1em; padding-right: 1em; text-align: center; vertical-align: top\">Jesse Lee (politician)</td>\n",
              "        <td style=\"padding-left: 1em; padding-right: 1em; text-align: center; vertical-align: top\">109.04569790902957</td>\n",
              "        <td style=\"padding-left: 1em; padding-right: 1em; text-align: center; vertical-align: top\">4</td>\n",
              "    </tr>\n",
              "    <tr>\n",
              "        <td style=\"padding-left: 1em; padding-right: 1em; text-align: center; vertical-align: top\">Barack Obama</td>\n",
              "        <td style=\"padding-left: 1em; padding-right: 1em; text-align: center; vertical-align: top\">Samantha Power</td>\n",
              "        <td style=\"padding-left: 1em; padding-right: 1em; text-align: center; vertical-align: top\">109.10810616502708</td>\n",
              "        <td style=\"padding-left: 1em; padding-right: 1em; text-align: center; vertical-align: top\">5</td>\n",
              "    </tr>\n",
              "    <tr>\n",
              "        <td style=\"padding-left: 1em; padding-right: 1em; text-align: center; vertical-align: top\">Barack Obama</td>\n",
              "        <td style=\"padding-left: 1em; padding-right: 1em; text-align: center; vertical-align: top\">Bob Menendez</td>\n",
              "        <td style=\"padding-left: 1em; padding-right: 1em; text-align: center; vertical-align: top\">109.78186710530214</td>\n",
              "        <td style=\"padding-left: 1em; padding-right: 1em; text-align: center; vertical-align: top\">6</td>\n",
              "    </tr>\n",
              "    <tr>\n",
              "        <td style=\"padding-left: 1em; padding-right: 1em; text-align: center; vertical-align: top\">Barack Obama</td>\n",
              "        <td style=\"padding-left: 1em; padding-right: 1em; text-align: center; vertical-align: top\">Eric Stern (politician)</td>\n",
              "        <td style=\"padding-left: 1em; padding-right: 1em; text-align: center; vertical-align: top\">109.9577880796839</td>\n",
              "        <td style=\"padding-left: 1em; padding-right: 1em; text-align: center; vertical-align: top\">7</td>\n",
              "    </tr>\n",
              "    <tr>\n",
              "        <td style=\"padding-left: 1em; padding-right: 1em; text-align: center; vertical-align: top\">Barack Obama</td>\n",
              "        <td style=\"padding-left: 1em; padding-right: 1em; text-align: center; vertical-align: top\">James A. Guest</td>\n",
              "        <td style=\"padding-left: 1em; padding-right: 1em; text-align: center; vertical-align: top\">110.41388871759888</td>\n",
              "        <td style=\"padding-left: 1em; padding-right: 1em; text-align: center; vertical-align: top\">8</td>\n",
              "    </tr>\n",
              "    <tr>\n",
              "        <td style=\"padding-left: 1em; padding-right: 1em; text-align: center; vertical-align: top\">Barack Obama</td>\n",
              "        <td style=\"padding-left: 1em; padding-right: 1em; text-align: center; vertical-align: top\">Roland Grossenbacher</td>\n",
              "        <td style=\"padding-left: 1em; padding-right: 1em; text-align: center; vertical-align: top\">110.47060870018983</td>\n",
              "        <td style=\"padding-left: 1em; padding-right: 1em; text-align: center; vertical-align: top\">9</td>\n",
              "    </tr>\n",
              "    <tr>\n",
              "        <td style=\"padding-left: 1em; padding-right: 1em; text-align: center; vertical-align: top\">Barack Obama</td>\n",
              "        <td style=\"padding-left: 1em; padding-right: 1em; text-align: center; vertical-align: top\">Tulsi Gabbard</td>\n",
              "        <td style=\"padding-left: 1em; padding-right: 1em; text-align: center; vertical-align: top\">110.69699799880009</td>\n",
              "        <td style=\"padding-left: 1em; padding-right: 1em; text-align: center; vertical-align: top\">10</td>\n",
              "    </tr>\n",
              "</table>\n",
              "[10 rows x 4 columns]<br/>\n",
              "</div>"
            ],
            "text/plain": [
              "Columns:\n",
              "\tquery_label\tstr\n",
              "\treference_label\tstr\n",
              "\tdistance\tfloat\n",
              "\trank\tint\n",
              "\n",
              "Rows: 10\n",
              "\n",
              "Data:\n",
              "+--------------+-------------------------+--------------------+------+\n",
              "| query_label  |     reference_label     |      distance      | rank |\n",
              "+--------------+-------------------------+--------------------+------+\n",
              "| Barack Obama |       Barack Obama      |        0.0         |  1   |\n",
              "| Barack Obama |      Phil Schiliro      | 106.86101369140928 |  2   |\n",
              "| Barack Obama |      Jeff Sessions      | 108.87167421571077 |  3   |\n",
              "| Barack Obama |  Jesse Lee (politician) | 109.04569790902957 |  4   |\n",
              "| Barack Obama |      Samantha Power     | 109.10810616502708 |  5   |\n",
              "| Barack Obama |       Bob Menendez      | 109.78186710530214 |  6   |\n",
              "| Barack Obama | Eric Stern (politician) | 109.9577880796839  |  7   |\n",
              "| Barack Obama |      James A. Guest     | 110.41388871759888 |  8   |\n",
              "| Barack Obama |   Roland Grossenbacher  | 110.47060870018983 |  9   |\n",
              "| Barack Obama |      Tulsi Gabbard      | 110.69699799880009 |  10  |\n",
              "+--------------+-------------------------+--------------------+------+\n",
              "[10 rows x 4 columns]"
            ]
          },
          "metadata": {},
          "execution_count": 29
        }
      ]
    },
    {
      "cell_type": "markdown",
      "metadata": {
        "id": "bPurJHBK_zBh"
      },
      "source": [
        "Let's determine whether this list makes sense.\n",
        "* With a notable exception of Roland Grossenbacher, the other 8 are all American politicians who are contemporaries of Barack Obama.\n",
        "* Phil Schiliro, Jesse Lee, Samantha Power, and Eric Stern worked for Obama.\n",
        "\n",
        "Clearly, the results are more plausible with the use of TF-IDF. Let's take a look at the word vector for Obama and Schilirio's pages. Notice that TF-IDF representation assigns a weight to each word. This weight captures relative importance of that word in the document. Let us sort the words in Obama's article by their TF-IDF weights; we do the same for Schiliro's article as well."
      ]
    },
    {
      "cell_type": "code",
      "metadata": {
        "id": "noCY_Ukx_zBi"
      },
      "source": [
        "def top_words_tf_idf(name):\n",
        "    row = wiki[wiki['name'] == name]\n",
        "    word_count_table = row[['tf_idf']].stack('tf_idf', new_column_name=['word','weight'])\n",
        "    return word_count_table.sort('weight', ascending=False)"
      ],
      "execution_count": 30,
      "outputs": []
    },
    {
      "cell_type": "code",
      "metadata": {
        "colab": {
          "base_uri": "https://localhost:8080/",
          "height": 284
        },
        "id": "zO6gligH_zBi",
        "outputId": "b5c35a5d-97cc-4b36-bd5a-82d484185bfc"
      },
      "source": [
        "obama_tf_idf = top_words_tf_idf('Barack Obama')\n",
        "obama_tf_idf"
      ],
      "execution_count": 31,
      "outputs": [
        {
          "output_type": "execute_result",
          "data": {
            "text/html": [
              "<div style=\"max-height:1000px;max-width:1500px;overflow:auto;\"><table frame=\"box\" rules=\"cols\">\n",
              "    <tr>\n",
              "        <th style=\"padding-left: 1em; padding-right: 1em; text-align: center\">word</th>\n",
              "        <th style=\"padding-left: 1em; padding-right: 1em; text-align: center\">weight</th>\n",
              "    </tr>\n",
              "    <tr>\n",
              "        <td style=\"padding-left: 1em; padding-right: 1em; text-align: center; vertical-align: top\">obama</td>\n",
              "        <td style=\"padding-left: 1em; padding-right: 1em; text-align: center; vertical-align: top\">43.2956530720749</td>\n",
              "    </tr>\n",
              "    <tr>\n",
              "        <td style=\"padding-left: 1em; padding-right: 1em; text-align: center; vertical-align: top\">act</td>\n",
              "        <td style=\"padding-left: 1em; padding-right: 1em; text-align: center; vertical-align: top\">27.67822262297991</td>\n",
              "    </tr>\n",
              "    <tr>\n",
              "        <td style=\"padding-left: 1em; padding-right: 1em; text-align: center; vertical-align: top\">iraq</td>\n",
              "        <td style=\"padding-left: 1em; padding-right: 1em; text-align: center; vertical-align: top\">17.747378587965535</td>\n",
              "    </tr>\n",
              "    <tr>\n",
              "        <td style=\"padding-left: 1em; padding-right: 1em; text-align: center; vertical-align: top\">control</td>\n",
              "        <td style=\"padding-left: 1em; padding-right: 1em; text-align: center; vertical-align: top\">14.887060845181308</td>\n",
              "    </tr>\n",
              "    <tr>\n",
              "        <td style=\"padding-left: 1em; padding-right: 1em; text-align: center; vertical-align: top\">law</td>\n",
              "        <td style=\"padding-left: 1em; padding-right: 1em; text-align: center; vertical-align: top\">14.722935761763422</td>\n",
              "    </tr>\n",
              "    <tr>\n",
              "        <td style=\"padding-left: 1em; padding-right: 1em; text-align: center; vertical-align: top\">ordered</td>\n",
              "        <td style=\"padding-left: 1em; padding-right: 1em; text-align: center; vertical-align: top\">14.533373950913514</td>\n",
              "    </tr>\n",
              "    <tr>\n",
              "        <td style=\"padding-left: 1em; padding-right: 1em; text-align: center; vertical-align: top\">military</td>\n",
              "        <td style=\"padding-left: 1em; padding-right: 1em; text-align: center; vertical-align: top\">13.115932778499415</td>\n",
              "    </tr>\n",
              "    <tr>\n",
              "        <td style=\"padding-left: 1em; padding-right: 1em; text-align: center; vertical-align: top\">involvement</td>\n",
              "        <td style=\"padding-left: 1em; padding-right: 1em; text-align: center; vertical-align: top\">12.784385241175055</td>\n",
              "    </tr>\n",
              "    <tr>\n",
              "        <td style=\"padding-left: 1em; padding-right: 1em; text-align: center; vertical-align: top\">response</td>\n",
              "        <td style=\"padding-left: 1em; padding-right: 1em; text-align: center; vertical-align: top\">12.784385241175055</td>\n",
              "    </tr>\n",
              "    <tr>\n",
              "        <td style=\"padding-left: 1em; padding-right: 1em; text-align: center; vertical-align: top\">democratic</td>\n",
              "        <td style=\"padding-left: 1em; padding-right: 1em; text-align: center; vertical-align: top\">12.410688697332166</td>\n",
              "    </tr>\n",
              "</table>\n",
              "[273 rows x 2 columns]<br/>Note: Only the head of the SFrame is printed.<br/>You can use print_rows(num_rows=m, num_columns=n) to print more rows and columns.\n",
              "</div>"
            ],
            "text/plain": [
              "Columns:\n",
              "\tword\tstr\n",
              "\tweight\tfloat\n",
              "\n",
              "Rows: 273\n",
              "\n",
              "Data:\n",
              "+-------------+--------------------+\n",
              "|     word    |       weight       |\n",
              "+-------------+--------------------+\n",
              "|    obama    |  43.2956530720749  |\n",
              "|     act     | 27.67822262297991  |\n",
              "|     iraq    | 17.747378587965535 |\n",
              "|   control   | 14.887060845181308 |\n",
              "|     law     | 14.722935761763422 |\n",
              "|   ordered   | 14.533373950913514 |\n",
              "|   military  | 13.115932778499415 |\n",
              "| involvement | 12.784385241175055 |\n",
              "|   response  | 12.784385241175055 |\n",
              "|  democratic | 12.410688697332166 |\n",
              "+-------------+--------------------+\n",
              "[273 rows x 2 columns]\n",
              "Note: Only the head of the SFrame is printed.\n",
              "You can use print_rows(num_rows=m, num_columns=n) to print more rows and columns."
            ]
          },
          "metadata": {},
          "execution_count": 31
        }
      ]
    },
    {
      "cell_type": "code",
      "metadata": {
        "colab": {
          "base_uri": "https://localhost:8080/",
          "height": 284
        },
        "id": "ee1rHKo3_zBj",
        "outputId": "0e3f967e-1532-4492-cf4f-fb3c581e9852"
      },
      "source": [
        "schiliro_tf_idf = top_words_tf_idf('Phil Schiliro')\n",
        "schiliro_tf_idf"
      ],
      "execution_count": 32,
      "outputs": [
        {
          "output_type": "execute_result",
          "data": {
            "text/html": [
              "<div style=\"max-height:1000px;max-width:1500px;overflow:auto;\"><table frame=\"box\" rules=\"cols\">\n",
              "    <tr>\n",
              "        <th style=\"padding-left: 1em; padding-right: 1em; text-align: center\">word</th>\n",
              "        <th style=\"padding-left: 1em; padding-right: 1em; text-align: center\">weight</th>\n",
              "    </tr>\n",
              "    <tr>\n",
              "        <td style=\"padding-left: 1em; padding-right: 1em; text-align: center; vertical-align: top\">schiliro</td>\n",
              "        <td style=\"padding-left: 1em; padding-right: 1em; text-align: center; vertical-align: top\">21.972990778450388</td>\n",
              "    </tr>\n",
              "    <tr>\n",
              "        <td style=\"padding-left: 1em; padding-right: 1em; text-align: center; vertical-align: top\">staff</td>\n",
              "        <td style=\"padding-left: 1em; padding-right: 1em; text-align: center; vertical-align: top\">15.856441635180534</td>\n",
              "    </tr>\n",
              "    <tr>\n",
              "        <td style=\"padding-left: 1em; padding-right: 1em; text-align: center; vertical-align: top\">congressional</td>\n",
              "        <td style=\"padding-left: 1em; padding-right: 1em; text-align: center; vertical-align: top\">13.547087656327776</td>\n",
              "    </tr>\n",
              "    <tr>\n",
              "        <td style=\"padding-left: 1em; padding-right: 1em; text-align: center; vertical-align: top\">daschleschiliro</td>\n",
              "        <td style=\"padding-left: 1em; padding-right: 1em; text-align: center; vertical-align: top\">10.986495389225194</td>\n",
              "    </tr>\n",
              "    <tr>\n",
              "        <td style=\"padding-left: 1em; padding-right: 1em; text-align: center; vertical-align: top\">obama</td>\n",
              "        <td style=\"padding-left: 1em; padding-right: 1em; text-align: center; vertical-align: top\">9.621256238238866</td>\n",
              "    </tr>\n",
              "    <tr>\n",
              "        <td style=\"padding-left: 1em; padding-right: 1em; text-align: center; vertical-align: top\">waxman</td>\n",
              "        <td style=\"padding-left: 1em; padding-right: 1em; text-align: center; vertical-align: top\">9.04058524016988</td>\n",
              "    </tr>\n",
              "    <tr>\n",
              "        <td style=\"padding-left: 1em; padding-right: 1em; text-align: center; vertical-align: top\">president</td>\n",
              "        <td style=\"padding-left: 1em; padding-right: 1em; text-align: center; vertical-align: top\">9.033586614158258</td>\n",
              "    </tr>\n",
              "    <tr>\n",
              "        <td style=\"padding-left: 1em; padding-right: 1em; text-align: center; vertical-align: top\">2014from</td>\n",
              "        <td style=\"padding-left: 1em; padding-right: 1em; text-align: center; vertical-align: top\">8.683910296231149</td>\n",
              "    </tr>\n",
              "    <tr>\n",
              "        <td style=\"padding-left: 1em; padding-right: 1em; text-align: center; vertical-align: top\">law</td>\n",
              "        <td style=\"padding-left: 1em; padding-right: 1em; text-align: center; vertical-align: top\">7.361467880881711</td>\n",
              "    </tr>\n",
              "    <tr>\n",
              "        <td style=\"padding-left: 1em; padding-right: 1em; text-align: center; vertical-align: top\">consultant</td>\n",
              "        <td style=\"padding-left: 1em; padding-right: 1em; text-align: center; vertical-align: top\">6.913104037247212</td>\n",
              "    </tr>\n",
              "</table>\n",
              "[119 rows x 2 columns]<br/>Note: Only the head of the SFrame is printed.<br/>You can use print_rows(num_rows=m, num_columns=n) to print more rows and columns.\n",
              "</div>"
            ],
            "text/plain": [
              "Columns:\n",
              "\tword\tstr\n",
              "\tweight\tfloat\n",
              "\n",
              "Rows: 119\n",
              "\n",
              "Data:\n",
              "+-----------------+--------------------+\n",
              "|       word      |       weight       |\n",
              "+-----------------+--------------------+\n",
              "|     schiliro    | 21.972990778450388 |\n",
              "|      staff      | 15.856441635180534 |\n",
              "|  congressional  | 13.547087656327776 |\n",
              "| daschleschiliro | 10.986495389225194 |\n",
              "|      obama      | 9.621256238238866  |\n",
              "|      waxman     |  9.04058524016988  |\n",
              "|    president    | 9.033586614158258  |\n",
              "|     2014from    | 8.683910296231149  |\n",
              "|       law       | 7.361467880881711  |\n",
              "|    consultant   | 6.913104037247212  |\n",
              "+-----------------+--------------------+\n",
              "[119 rows x 2 columns]\n",
              "Note: Only the head of the SFrame is printed.\n",
              "You can use print_rows(num_rows=m, num_columns=n) to print more rows and columns."
            ]
          },
          "metadata": {},
          "execution_count": 32
        }
      ]
    },
    {
      "cell_type": "markdown",
      "metadata": {
        "id": "Hx5wzqvs_zBj"
      },
      "source": [
        "Using the **join** operation we learned earlier, try your hands at computing the common words shared by Obama's and Schiliro's articles. Sort the common words by their TF-IDF weights in Obama's document."
      ]
    },
    {
      "cell_type": "code",
      "metadata": {
        "colab": {
          "base_uri": "https://localhost:8080/",
          "height": 284
        },
        "id": "nWH78dhA_zBk",
        "outputId": "4923275c-f7c9-4363-cbfa-feeb730b84eb"
      },
      "source": [
        "obama_schiliro_tf_idf = obama_tf_idf.join(schiliro_tf_idf, on='word')\n",
        "obama_schiliro_tf_idf.rename({'weight':'obama','weight.1':'schiliro'}, inplace=True)\n",
        "obama_schiliro_tf_idf"
      ],
      "execution_count": 33,
      "outputs": [
        {
          "output_type": "execute_result",
          "data": {
            "text/html": [
              "<div style=\"max-height:1000px;max-width:1500px;overflow:auto;\"><table frame=\"box\" rules=\"cols\">\n",
              "    <tr>\n",
              "        <th style=\"padding-left: 1em; padding-right: 1em; text-align: center\">word</th>\n",
              "        <th style=\"padding-left: 1em; padding-right: 1em; text-align: center\">obama</th>\n",
              "        <th style=\"padding-left: 1em; padding-right: 1em; text-align: center\">schiliro</th>\n",
              "    </tr>\n",
              "    <tr>\n",
              "        <td style=\"padding-left: 1em; padding-right: 1em; text-align: center; vertical-align: top\">obama</td>\n",
              "        <td style=\"padding-left: 1em; padding-right: 1em; text-align: center; vertical-align: top\">43.2956530720749</td>\n",
              "        <td style=\"padding-left: 1em; padding-right: 1em; text-align: center; vertical-align: top\">9.621256238238866</td>\n",
              "    </tr>\n",
              "    <tr>\n",
              "        <td style=\"padding-left: 1em; padding-right: 1em; text-align: center; vertical-align: top\">law</td>\n",
              "        <td style=\"padding-left: 1em; padding-right: 1em; text-align: center; vertical-align: top\">14.722935761763422</td>\n",
              "        <td style=\"padding-left: 1em; padding-right: 1em; text-align: center; vertical-align: top\">7.361467880881711</td>\n",
              "    </tr>\n",
              "    <tr>\n",
              "        <td style=\"padding-left: 1em; padding-right: 1em; text-align: center; vertical-align: top\">democratic</td>\n",
              "        <td style=\"padding-left: 1em; padding-right: 1em; text-align: center; vertical-align: top\">12.410688697332166</td>\n",
              "        <td style=\"padding-left: 1em; padding-right: 1em; text-align: center; vertical-align: top\">6.205344348666083</td>\n",
              "    </tr>\n",
              "    <tr>\n",
              "        <td style=\"padding-left: 1em; padding-right: 1em; text-align: center; vertical-align: top\">senate</td>\n",
              "        <td style=\"padding-left: 1em; padding-right: 1em; text-align: center; vertical-align: top\">10.164288179703693</td>\n",
              "        <td style=\"padding-left: 1em; padding-right: 1em; text-align: center; vertical-align: top\">3.3880960599012306</td>\n",
              "    </tr>\n",
              "    <tr>\n",
              "        <td style=\"padding-left: 1em; padding-right: 1em; text-align: center; vertical-align: top\">presidential</td>\n",
              "        <td style=\"padding-left: 1em; padding-right: 1em; text-align: center; vertical-align: top\">7.386955418904825</td>\n",
              "        <td style=\"padding-left: 1em; padding-right: 1em; text-align: center; vertical-align: top\">3.6934777094524125</td>\n",
              "    </tr>\n",
              "    <tr>\n",
              "        <td style=\"padding-left: 1em; padding-right: 1em; text-align: center; vertical-align: top\">president</td>\n",
              "        <td style=\"padding-left: 1em; padding-right: 1em; text-align: center; vertical-align: top\">7.226869291326606</td>\n",
              "        <td style=\"padding-left: 1em; padding-right: 1em; text-align: center; vertical-align: top\">9.033586614158258</td>\n",
              "    </tr>\n",
              "    <tr>\n",
              "        <td style=\"padding-left: 1em; padding-right: 1em; text-align: center; vertical-align: top\">policy</td>\n",
              "        <td style=\"padding-left: 1em; padding-right: 1em; text-align: center; vertical-align: top\">6.095386282141427</td>\n",
              "        <td style=\"padding-left: 1em; padding-right: 1em; text-align: center; vertical-align: top\">3.0476931410707135</td>\n",
              "    </tr>\n",
              "    <tr>\n",
              "        <td style=\"padding-left: 1em; padding-right: 1em; text-align: center; vertical-align: top\">states</td>\n",
              "        <td style=\"padding-left: 1em; padding-right: 1em; text-align: center; vertical-align: top\">5.473200989631017</td>\n",
              "        <td style=\"padding-left: 1em; padding-right: 1em; text-align: center; vertical-align: top\">1.824400329877006</td>\n",
              "    </tr>\n",
              "    <tr>\n",
              "        <td style=\"padding-left: 1em; padding-right: 1em; text-align: center; vertical-align: top\">office</td>\n",
              "        <td style=\"padding-left: 1em; padding-right: 1em; text-align: center; vertical-align: top\">5.2481728232196465</td>\n",
              "        <td style=\"padding-left: 1em; padding-right: 1em; text-align: center; vertical-align: top\">2.6240864116098233</td>\n",
              "    </tr>\n",
              "    <tr>\n",
              "        <td style=\"padding-left: 1em; padding-right: 1em; text-align: center; vertical-align: top\">2011</td>\n",
              "        <td style=\"padding-left: 1em; padding-right: 1em; text-align: center; vertical-align: top\">5.107041270312876</td>\n",
              "        <td style=\"padding-left: 1em; padding-right: 1em; text-align: center; vertical-align: top\">3.4046941802085837</td>\n",
              "    </tr>\n",
              "</table>\n",
              "[47 rows x 3 columns]<br/>Note: Only the head of the SFrame is printed.<br/>You can use print_rows(num_rows=m, num_columns=n) to print more rows and columns.\n",
              "</div>"
            ],
            "text/plain": [
              "Columns:\n",
              "\tword\tstr\n",
              "\tobama\tfloat\n",
              "\tschiliro\tfloat\n",
              "\n",
              "Rows: 47\n",
              "\n",
              "Data:\n",
              "+--------------+--------------------+--------------------+\n",
              "|     word     |       obama        |      schiliro      |\n",
              "+--------------+--------------------+--------------------+\n",
              "|    obama     |  43.2956530720749  | 9.621256238238866  |\n",
              "|     law      | 14.722935761763422 | 7.361467880881711  |\n",
              "|  democratic  | 12.410688697332166 | 6.205344348666083  |\n",
              "|    senate    | 10.164288179703693 | 3.3880960599012306 |\n",
              "| presidential | 7.386955418904825  | 3.6934777094524125 |\n",
              "|  president   | 7.226869291326606  | 9.033586614158258  |\n",
              "|    policy    | 6.095386282141427  | 3.0476931410707135 |\n",
              "|    states    | 5.473200989631017  | 1.824400329877006  |\n",
              "|    office    | 5.2481728232196465 | 2.6240864116098233 |\n",
              "|     2011     | 5.107041270312876  | 3.4046941802085837 |\n",
              "+--------------+--------------------+--------------------+\n",
              "[47 rows x 3 columns]\n",
              "Note: Only the head of the SFrame is printed.\n",
              "You can use print_rows(num_rows=m, num_columns=n) to print more rows and columns."
            ]
          },
          "metadata": {},
          "execution_count": 33
        }
      ]
    },
    {
      "cell_type": "markdown",
      "metadata": {
        "id": "2s5tDukt_zBk"
      },
      "source": [
        "The first 10 words should say: Obama, law, democratic, Senate, presidential, president, policy, states, office, 2011."
      ]
    },
    {
      "cell_type": "markdown",
      "metadata": {
        "id": "1ME3BV_w_zBk"
      },
      "source": [
        "**Quiz Question**. Among the words that appear in both Barack Obama and Phil Schiliro, take the 5 that have largest weights in Obama. How many of the articles in the Wikipedia dataset contain all of those 5 words?"
      ]
    },
    {
      "cell_type": "code",
      "metadata": {
        "colab": {
          "base_uri": "https://localhost:8080/"
        },
        "id": "BRKix1gf_zBl",
        "outputId": "2783c0d9-4385-49ac-a87d-58195002f007"
      },
      "source": [
        "common_words = set(obama_schiliro_tf_idf.sort('obama', ascending=False)[:5]['word'])\n",
        "\n",
        "def has_top_words(word_count_vector):\n",
        "    # extract the keys of word_count_vector and convert it to a set\n",
        "    unique_words = set(word_count_vector.keys())\n",
        "    # return True if common_words is a subset of unique_words\n",
        "    # return False otherwise\n",
        "    return common_words.issubset(unique_words)\n",
        "\n",
        "wiki['has_top_words'] = wiki['word_count'].apply(has_top_words)\n",
        "\n",
        "# use has_top_words column to answer the quiz question\n",
        "wiki['has_top_words'].sum()"
      ],
      "execution_count": 34,
      "outputs": [
        {
          "output_type": "execute_result",
          "data": {
            "text/plain": [
              "14"
            ]
          },
          "metadata": {},
          "execution_count": 34
        }
      ]
    },
    {
      "cell_type": "markdown",
      "metadata": {
        "id": "n0IjGj0n_zBm"
      },
      "source": [
        "Notice the huge difference in this calculation using TF-IDF scores instead  of raw word counts. We've eliminated noise arising from extremely common words."
      ]
    },
    {
      "cell_type": "markdown",
      "metadata": {
        "id": "kU69amSR_zBm"
      },
      "source": [
        "## Choosing metrics"
      ]
    },
    {
      "cell_type": "markdown",
      "metadata": {
        "id": "Nu039r___zBm"
      },
      "source": [
        "You may wonder why Joe Biden, Obama's running mate in two presidential elections, is missing from the query results of `model_tf_idf`. Let's find out why. First, compute the distance between TF-IDF features of Obama and Biden."
      ]
    },
    {
      "cell_type": "markdown",
      "metadata": {
        "id": "Tb5_gBoS_zBn"
      },
      "source": [
        "**Quiz Question**. Compute the Euclidean distance between TF-IDF features of Obama and Biden. Recall: When using Boolean filter in SFrame/SArray, take the index 0 to access the first match. (Round your answer to three decimal places.)"
      ]
    },
    {
      "cell_type": "code",
      "metadata": {
        "id": "Jlw6LtROO7jj"
      },
      "source": [
        "obama_count = wiki[wiki['name'] == 'Barack Obama']['tf_idf'][0]"
      ],
      "execution_count": 35,
      "outputs": []
    },
    {
      "cell_type": "code",
      "metadata": {
        "id": "WppylqWXO4j9"
      },
      "source": [
        "biden_count = wiki[wiki['name'] == 'Joe Biden']['tf_idf'][0]"
      ],
      "execution_count": 36,
      "outputs": []
    },
    {
      "cell_type": "code",
      "metadata": {
        "colab": {
          "base_uri": "https://localhost:8080/"
        },
        "id": "Ut98erY9_zBn",
        "outputId": "a5bd609d-baa6-46e2-b01c-48d4b709bef3"
      },
      "source": [
        "turicreate.toolkits.distances.euclidean(obama_count,biden_count)"
      ],
      "execution_count": 37,
      "outputs": [
        {
          "output_type": "execute_result",
          "data": {
            "text/plain": [
              "123.29745600964294"
            ]
          },
          "metadata": {},
          "execution_count": 37
        }
      ]
    },
    {
      "cell_type": "markdown",
      "metadata": {
        "id": "Ahn2e8no_zBn"
      },
      "source": [
        "The distance is larger than the distances we found for the 10 nearest neighbors, which we repeat here for readability:"
      ]
    },
    {
      "cell_type": "code",
      "metadata": {
        "colab": {
          "base_uri": "https://localhost:8080/",
          "height": 371
        },
        "id": "e-F--ugn_zBo",
        "outputId": "f9b58c27-167b-46fd-80f7-3e97847e1fdb"
      },
      "source": [
        "model_tf_idf.query(wiki[wiki['name'] == 'Barack Obama'], label='name', k=10)"
      ],
      "execution_count": 38,
      "outputs": [
        {
          "output_type": "display_data",
          "data": {
            "text/html": [
              "<pre>Starting pairwise querying.</pre>"
            ],
            "text/plain": [
              "Starting pairwise querying."
            ]
          },
          "metadata": {}
        },
        {
          "output_type": "display_data",
          "data": {
            "text/html": [
              "<pre>+--------------+---------+-------------+--------------+</pre>"
            ],
            "text/plain": [
              "+--------------+---------+-------------+--------------+"
            ]
          },
          "metadata": {}
        },
        {
          "output_type": "display_data",
          "data": {
            "text/html": [
              "<pre>| Query points | # Pairs | % Complete. | Elapsed Time |</pre>"
            ],
            "text/plain": [
              "| Query points | # Pairs | % Complete. | Elapsed Time |"
            ]
          },
          "metadata": {}
        },
        {
          "output_type": "display_data",
          "data": {
            "text/html": [
              "<pre>+--------------+---------+-------------+--------------+</pre>"
            ],
            "text/plain": [
              "+--------------+---------+-------------+--------------+"
            ]
          },
          "metadata": {}
        },
        {
          "output_type": "display_data",
          "data": {
            "text/html": [
              "<pre>| 0            | 1       | 0.00169288  | 18.138ms     |</pre>"
            ],
            "text/plain": [
              "| 0            | 1       | 0.00169288  | 18.138ms     |"
            ]
          },
          "metadata": {}
        },
        {
          "output_type": "display_data",
          "data": {
            "text/html": [
              "<pre>| Done         |         | 100         | 527.667ms    |</pre>"
            ],
            "text/plain": [
              "| Done         |         | 100         | 527.667ms    |"
            ]
          },
          "metadata": {}
        },
        {
          "output_type": "display_data",
          "data": {
            "text/html": [
              "<pre>+--------------+---------+-------------+--------------+</pre>"
            ],
            "text/plain": [
              "+--------------+---------+-------------+--------------+"
            ]
          },
          "metadata": {}
        },
        {
          "output_type": "execute_result",
          "data": {
            "text/html": [
              "<div style=\"max-height:1000px;max-width:1500px;overflow:auto;\"><table frame=\"box\" rules=\"cols\">\n",
              "    <tr>\n",
              "        <th style=\"padding-left: 1em; padding-right: 1em; text-align: center\">query_label</th>\n",
              "        <th style=\"padding-left: 1em; padding-right: 1em; text-align: center\">reference_label</th>\n",
              "        <th style=\"padding-left: 1em; padding-right: 1em; text-align: center\">distance</th>\n",
              "        <th style=\"padding-left: 1em; padding-right: 1em; text-align: center\">rank</th>\n",
              "    </tr>\n",
              "    <tr>\n",
              "        <td style=\"padding-left: 1em; padding-right: 1em; text-align: center; vertical-align: top\">Barack Obama</td>\n",
              "        <td style=\"padding-left: 1em; padding-right: 1em; text-align: center; vertical-align: top\">Barack Obama</td>\n",
              "        <td style=\"padding-left: 1em; padding-right: 1em; text-align: center; vertical-align: top\">0.0</td>\n",
              "        <td style=\"padding-left: 1em; padding-right: 1em; text-align: center; vertical-align: top\">1</td>\n",
              "    </tr>\n",
              "    <tr>\n",
              "        <td style=\"padding-left: 1em; padding-right: 1em; text-align: center; vertical-align: top\">Barack Obama</td>\n",
              "        <td style=\"padding-left: 1em; padding-right: 1em; text-align: center; vertical-align: top\">Phil Schiliro</td>\n",
              "        <td style=\"padding-left: 1em; padding-right: 1em; text-align: center; vertical-align: top\">106.86101369140928</td>\n",
              "        <td style=\"padding-left: 1em; padding-right: 1em; text-align: center; vertical-align: top\">2</td>\n",
              "    </tr>\n",
              "    <tr>\n",
              "        <td style=\"padding-left: 1em; padding-right: 1em; text-align: center; vertical-align: top\">Barack Obama</td>\n",
              "        <td style=\"padding-left: 1em; padding-right: 1em; text-align: center; vertical-align: top\">Jeff Sessions</td>\n",
              "        <td style=\"padding-left: 1em; padding-right: 1em; text-align: center; vertical-align: top\">108.87167421571077</td>\n",
              "        <td style=\"padding-left: 1em; padding-right: 1em; text-align: center; vertical-align: top\">3</td>\n",
              "    </tr>\n",
              "    <tr>\n",
              "        <td style=\"padding-left: 1em; padding-right: 1em; text-align: center; vertical-align: top\">Barack Obama</td>\n",
              "        <td style=\"padding-left: 1em; padding-right: 1em; text-align: center; vertical-align: top\">Jesse Lee (politician)</td>\n",
              "        <td style=\"padding-left: 1em; padding-right: 1em; text-align: center; vertical-align: top\">109.04569790902957</td>\n",
              "        <td style=\"padding-left: 1em; padding-right: 1em; text-align: center; vertical-align: top\">4</td>\n",
              "    </tr>\n",
              "    <tr>\n",
              "        <td style=\"padding-left: 1em; padding-right: 1em; text-align: center; vertical-align: top\">Barack Obama</td>\n",
              "        <td style=\"padding-left: 1em; padding-right: 1em; text-align: center; vertical-align: top\">Samantha Power</td>\n",
              "        <td style=\"padding-left: 1em; padding-right: 1em; text-align: center; vertical-align: top\">109.10810616502708</td>\n",
              "        <td style=\"padding-left: 1em; padding-right: 1em; text-align: center; vertical-align: top\">5</td>\n",
              "    </tr>\n",
              "    <tr>\n",
              "        <td style=\"padding-left: 1em; padding-right: 1em; text-align: center; vertical-align: top\">Barack Obama</td>\n",
              "        <td style=\"padding-left: 1em; padding-right: 1em; text-align: center; vertical-align: top\">Bob Menendez</td>\n",
              "        <td style=\"padding-left: 1em; padding-right: 1em; text-align: center; vertical-align: top\">109.78186710530214</td>\n",
              "        <td style=\"padding-left: 1em; padding-right: 1em; text-align: center; vertical-align: top\">6</td>\n",
              "    </tr>\n",
              "    <tr>\n",
              "        <td style=\"padding-left: 1em; padding-right: 1em; text-align: center; vertical-align: top\">Barack Obama</td>\n",
              "        <td style=\"padding-left: 1em; padding-right: 1em; text-align: center; vertical-align: top\">Eric Stern (politician)</td>\n",
              "        <td style=\"padding-left: 1em; padding-right: 1em; text-align: center; vertical-align: top\">109.9577880796839</td>\n",
              "        <td style=\"padding-left: 1em; padding-right: 1em; text-align: center; vertical-align: top\">7</td>\n",
              "    </tr>\n",
              "    <tr>\n",
              "        <td style=\"padding-left: 1em; padding-right: 1em; text-align: center; vertical-align: top\">Barack Obama</td>\n",
              "        <td style=\"padding-left: 1em; padding-right: 1em; text-align: center; vertical-align: top\">James A. Guest</td>\n",
              "        <td style=\"padding-left: 1em; padding-right: 1em; text-align: center; vertical-align: top\">110.41388871759888</td>\n",
              "        <td style=\"padding-left: 1em; padding-right: 1em; text-align: center; vertical-align: top\">8</td>\n",
              "    </tr>\n",
              "    <tr>\n",
              "        <td style=\"padding-left: 1em; padding-right: 1em; text-align: center; vertical-align: top\">Barack Obama</td>\n",
              "        <td style=\"padding-left: 1em; padding-right: 1em; text-align: center; vertical-align: top\">Roland Grossenbacher</td>\n",
              "        <td style=\"padding-left: 1em; padding-right: 1em; text-align: center; vertical-align: top\">110.47060870018983</td>\n",
              "        <td style=\"padding-left: 1em; padding-right: 1em; text-align: center; vertical-align: top\">9</td>\n",
              "    </tr>\n",
              "    <tr>\n",
              "        <td style=\"padding-left: 1em; padding-right: 1em; text-align: center; vertical-align: top\">Barack Obama</td>\n",
              "        <td style=\"padding-left: 1em; padding-right: 1em; text-align: center; vertical-align: top\">Tulsi Gabbard</td>\n",
              "        <td style=\"padding-left: 1em; padding-right: 1em; text-align: center; vertical-align: top\">110.69699799880009</td>\n",
              "        <td style=\"padding-left: 1em; padding-right: 1em; text-align: center; vertical-align: top\">10</td>\n",
              "    </tr>\n",
              "</table>\n",
              "[10 rows x 4 columns]<br/>\n",
              "</div>"
            ],
            "text/plain": [
              "Columns:\n",
              "\tquery_label\tstr\n",
              "\treference_label\tstr\n",
              "\tdistance\tfloat\n",
              "\trank\tint\n",
              "\n",
              "Rows: 10\n",
              "\n",
              "Data:\n",
              "+--------------+-------------------------+--------------------+------+\n",
              "| query_label  |     reference_label     |      distance      | rank |\n",
              "+--------------+-------------------------+--------------------+------+\n",
              "| Barack Obama |       Barack Obama      |        0.0         |  1   |\n",
              "| Barack Obama |      Phil Schiliro      | 106.86101369140928 |  2   |\n",
              "| Barack Obama |      Jeff Sessions      | 108.87167421571077 |  3   |\n",
              "| Barack Obama |  Jesse Lee (politician) | 109.04569790902957 |  4   |\n",
              "| Barack Obama |      Samantha Power     | 109.10810616502708 |  5   |\n",
              "| Barack Obama |       Bob Menendez      | 109.78186710530214 |  6   |\n",
              "| Barack Obama | Eric Stern (politician) | 109.9577880796839  |  7   |\n",
              "| Barack Obama |      James A. Guest     | 110.41388871759888 |  8   |\n",
              "| Barack Obama |   Roland Grossenbacher  | 110.47060870018983 |  9   |\n",
              "| Barack Obama |      Tulsi Gabbard      | 110.69699799880009 |  10  |\n",
              "+--------------+-------------------------+--------------------+------+\n",
              "[10 rows x 4 columns]"
            ]
          },
          "metadata": {},
          "execution_count": 38
        }
      ]
    },
    {
      "cell_type": "markdown",
      "metadata": {
        "id": "r9VWTlge_zBo"
      },
      "source": [
        "But one may wonder, is Biden's article that different from Obama's, more so than, say, Schiliro's? It turns out that, when we compute nearest neighbors using the Euclidean distances, we unwittingly favor short articles over long ones. Let us compute the length of each Wikipedia document, and examine the document lengths for the 100 nearest neighbors to Obama's page."
      ]
    },
    {
      "cell_type": "code",
      "metadata": {
        "id": "Jra1tywp_zBp"
      },
      "source": [
        "def compute_length(row):\n",
        "    return len(row['text'].split(' '))\n",
        "\n",
        "wiki['length'] = wiki.apply(compute_length) "
      ],
      "execution_count": 39,
      "outputs": []
    },
    {
      "cell_type": "code",
      "metadata": {
        "colab": {
          "base_uri": "https://localhost:8080/",
          "height": 139
        },
        "id": "WSNmbCFY_zBp",
        "outputId": "4f808ba7-bdec-4dc6-89fb-48db31209ab9"
      },
      "source": [
        "nearest_neighbors_euclidean = model_tf_idf.query(wiki[wiki['name'] == 'Barack Obama'], label='name', k=100)\n",
        "nearest_neighbors_euclidean = nearest_neighbors_euclidean.join(wiki[['name', 'length']], on={'reference_label':'name'})"
      ],
      "execution_count": 40,
      "outputs": [
        {
          "output_type": "display_data",
          "data": {
            "text/html": [
              "<pre>Starting pairwise querying.</pre>"
            ],
            "text/plain": [
              "Starting pairwise querying."
            ]
          },
          "metadata": {}
        },
        {
          "output_type": "display_data",
          "data": {
            "text/html": [
              "<pre>+--------------+---------+-------------+--------------+</pre>"
            ],
            "text/plain": [
              "+--------------+---------+-------------+--------------+"
            ]
          },
          "metadata": {}
        },
        {
          "output_type": "display_data",
          "data": {
            "text/html": [
              "<pre>| Query points | # Pairs | % Complete. | Elapsed Time |</pre>"
            ],
            "text/plain": [
              "| Query points | # Pairs | % Complete. | Elapsed Time |"
            ]
          },
          "metadata": {}
        },
        {
          "output_type": "display_data",
          "data": {
            "text/html": [
              "<pre>+--------------+---------+-------------+--------------+</pre>"
            ],
            "text/plain": [
              "+--------------+---------+-------------+--------------+"
            ]
          },
          "metadata": {}
        },
        {
          "output_type": "display_data",
          "data": {
            "text/html": [
              "<pre>| 0            | 1       | 0.00169288  | 23.954ms     |</pre>"
            ],
            "text/plain": [
              "| 0            | 1       | 0.00169288  | 23.954ms     |"
            ]
          },
          "metadata": {}
        },
        {
          "output_type": "display_data",
          "data": {
            "text/html": [
              "<pre>| Done         |         | 100         | 530.12ms     |</pre>"
            ],
            "text/plain": [
              "| Done         |         | 100         | 530.12ms     |"
            ]
          },
          "metadata": {}
        },
        {
          "output_type": "display_data",
          "data": {
            "text/html": [
              "<pre>+--------------+---------+-------------+--------------+</pre>"
            ],
            "text/plain": [
              "+--------------+---------+-------------+--------------+"
            ]
          },
          "metadata": {}
        }
      ]
    },
    {
      "cell_type": "code",
      "metadata": {
        "colab": {
          "base_uri": "https://localhost:8080/",
          "height": 284
        },
        "id": "sh1dNm-F_zBq",
        "outputId": "89abde08-e289-4ecd-b78c-43c6d8cde844"
      },
      "source": [
        "nearest_neighbors_euclidean.sort('rank')"
      ],
      "execution_count": 41,
      "outputs": [
        {
          "output_type": "execute_result",
          "data": {
            "text/html": [
              "<div style=\"max-height:1000px;max-width:1500px;overflow:auto;\"><table frame=\"box\" rules=\"cols\">\n",
              "    <tr>\n",
              "        <th style=\"padding-left: 1em; padding-right: 1em; text-align: center\">query_label</th>\n",
              "        <th style=\"padding-left: 1em; padding-right: 1em; text-align: center\">reference_label</th>\n",
              "        <th style=\"padding-left: 1em; padding-right: 1em; text-align: center\">distance</th>\n",
              "        <th style=\"padding-left: 1em; padding-right: 1em; text-align: center\">rank</th>\n",
              "        <th style=\"padding-left: 1em; padding-right: 1em; text-align: center\">length</th>\n",
              "    </tr>\n",
              "    <tr>\n",
              "        <td style=\"padding-left: 1em; padding-right: 1em; text-align: center; vertical-align: top\">Barack Obama</td>\n",
              "        <td style=\"padding-left: 1em; padding-right: 1em; text-align: center; vertical-align: top\">Barack Obama</td>\n",
              "        <td style=\"padding-left: 1em; padding-right: 1em; text-align: center; vertical-align: top\">0.0</td>\n",
              "        <td style=\"padding-left: 1em; padding-right: 1em; text-align: center; vertical-align: top\">1</td>\n",
              "        <td style=\"padding-left: 1em; padding-right: 1em; text-align: center; vertical-align: top\">540</td>\n",
              "    </tr>\n",
              "    <tr>\n",
              "        <td style=\"padding-left: 1em; padding-right: 1em; text-align: center; vertical-align: top\">Barack Obama</td>\n",
              "        <td style=\"padding-left: 1em; padding-right: 1em; text-align: center; vertical-align: top\">Phil Schiliro</td>\n",
              "        <td style=\"padding-left: 1em; padding-right: 1em; text-align: center; vertical-align: top\">106.86101369140928</td>\n",
              "        <td style=\"padding-left: 1em; padding-right: 1em; text-align: center; vertical-align: top\">2</td>\n",
              "        <td style=\"padding-left: 1em; padding-right: 1em; text-align: center; vertical-align: top\">208</td>\n",
              "    </tr>\n",
              "    <tr>\n",
              "        <td style=\"padding-left: 1em; padding-right: 1em; text-align: center; vertical-align: top\">Barack Obama</td>\n",
              "        <td style=\"padding-left: 1em; padding-right: 1em; text-align: center; vertical-align: top\">Jeff Sessions</td>\n",
              "        <td style=\"padding-left: 1em; padding-right: 1em; text-align: center; vertical-align: top\">108.87167421571077</td>\n",
              "        <td style=\"padding-left: 1em; padding-right: 1em; text-align: center; vertical-align: top\">3</td>\n",
              "        <td style=\"padding-left: 1em; padding-right: 1em; text-align: center; vertical-align: top\">230</td>\n",
              "    </tr>\n",
              "    <tr>\n",
              "        <td style=\"padding-left: 1em; padding-right: 1em; text-align: center; vertical-align: top\">Barack Obama</td>\n",
              "        <td style=\"padding-left: 1em; padding-right: 1em; text-align: center; vertical-align: top\">Jesse Lee (politician)</td>\n",
              "        <td style=\"padding-left: 1em; padding-right: 1em; text-align: center; vertical-align: top\">109.04569790902957</td>\n",
              "        <td style=\"padding-left: 1em; padding-right: 1em; text-align: center; vertical-align: top\">4</td>\n",
              "        <td style=\"padding-left: 1em; padding-right: 1em; text-align: center; vertical-align: top\">216</td>\n",
              "    </tr>\n",
              "    <tr>\n",
              "        <td style=\"padding-left: 1em; padding-right: 1em; text-align: center; vertical-align: top\">Barack Obama</td>\n",
              "        <td style=\"padding-left: 1em; padding-right: 1em; text-align: center; vertical-align: top\">Samantha Power</td>\n",
              "        <td style=\"padding-left: 1em; padding-right: 1em; text-align: center; vertical-align: top\">109.10810616502708</td>\n",
              "        <td style=\"padding-left: 1em; padding-right: 1em; text-align: center; vertical-align: top\">5</td>\n",
              "        <td style=\"padding-left: 1em; padding-right: 1em; text-align: center; vertical-align: top\">310</td>\n",
              "    </tr>\n",
              "    <tr>\n",
              "        <td style=\"padding-left: 1em; padding-right: 1em; text-align: center; vertical-align: top\">Barack Obama</td>\n",
              "        <td style=\"padding-left: 1em; padding-right: 1em; text-align: center; vertical-align: top\">Bob Menendez</td>\n",
              "        <td style=\"padding-left: 1em; padding-right: 1em; text-align: center; vertical-align: top\">109.78186710530214</td>\n",
              "        <td style=\"padding-left: 1em; padding-right: 1em; text-align: center; vertical-align: top\">6</td>\n",
              "        <td style=\"padding-left: 1em; padding-right: 1em; text-align: center; vertical-align: top\">220</td>\n",
              "    </tr>\n",
              "    <tr>\n",
              "        <td style=\"padding-left: 1em; padding-right: 1em; text-align: center; vertical-align: top\">Barack Obama</td>\n",
              "        <td style=\"padding-left: 1em; padding-right: 1em; text-align: center; vertical-align: top\">Eric Stern (politician)</td>\n",
              "        <td style=\"padding-left: 1em; padding-right: 1em; text-align: center; vertical-align: top\">109.9577880796839</td>\n",
              "        <td style=\"padding-left: 1em; padding-right: 1em; text-align: center; vertical-align: top\">7</td>\n",
              "        <td style=\"padding-left: 1em; padding-right: 1em; text-align: center; vertical-align: top\">255</td>\n",
              "    </tr>\n",
              "    <tr>\n",
              "        <td style=\"padding-left: 1em; padding-right: 1em; text-align: center; vertical-align: top\">Barack Obama</td>\n",
              "        <td style=\"padding-left: 1em; padding-right: 1em; text-align: center; vertical-align: top\">James A. Guest</td>\n",
              "        <td style=\"padding-left: 1em; padding-right: 1em; text-align: center; vertical-align: top\">110.41388871759888</td>\n",
              "        <td style=\"padding-left: 1em; padding-right: 1em; text-align: center; vertical-align: top\">8</td>\n",
              "        <td style=\"padding-left: 1em; padding-right: 1em; text-align: center; vertical-align: top\">215</td>\n",
              "    </tr>\n",
              "    <tr>\n",
              "        <td style=\"padding-left: 1em; padding-right: 1em; text-align: center; vertical-align: top\">Barack Obama</td>\n",
              "        <td style=\"padding-left: 1em; padding-right: 1em; text-align: center; vertical-align: top\">Roland Grossenbacher</td>\n",
              "        <td style=\"padding-left: 1em; padding-right: 1em; text-align: center; vertical-align: top\">110.47060870018983</td>\n",
              "        <td style=\"padding-left: 1em; padding-right: 1em; text-align: center; vertical-align: top\">9</td>\n",
              "        <td style=\"padding-left: 1em; padding-right: 1em; text-align: center; vertical-align: top\">201</td>\n",
              "    </tr>\n",
              "    <tr>\n",
              "        <td style=\"padding-left: 1em; padding-right: 1em; text-align: center; vertical-align: top\">Barack Obama</td>\n",
              "        <td style=\"padding-left: 1em; padding-right: 1em; text-align: center; vertical-align: top\">Tulsi Gabbard</td>\n",
              "        <td style=\"padding-left: 1em; padding-right: 1em; text-align: center; vertical-align: top\">110.69699799880009</td>\n",
              "        <td style=\"padding-left: 1em; padding-right: 1em; text-align: center; vertical-align: top\">10</td>\n",
              "        <td style=\"padding-left: 1em; padding-right: 1em; text-align: center; vertical-align: top\">228</td>\n",
              "    </tr>\n",
              "</table>\n",
              "[100 rows x 5 columns]<br/>Note: Only the head of the SFrame is printed.<br/>You can use print_rows(num_rows=m, num_columns=n) to print more rows and columns.\n",
              "</div>"
            ],
            "text/plain": [
              "Columns:\n",
              "\tquery_label\tstr\n",
              "\treference_label\tstr\n",
              "\tdistance\tfloat\n",
              "\trank\tint\n",
              "\tlength\tint\n",
              "\n",
              "Rows: 100\n",
              "\n",
              "Data:\n",
              "+--------------+-------------------------+--------------------+------+--------+\n",
              "| query_label  |     reference_label     |      distance      | rank | length |\n",
              "+--------------+-------------------------+--------------------+------+--------+\n",
              "| Barack Obama |       Barack Obama      |        0.0         |  1   |  540   |\n",
              "| Barack Obama |      Phil Schiliro      | 106.86101369140928 |  2   |  208   |\n",
              "| Barack Obama |      Jeff Sessions      | 108.87167421571077 |  3   |  230   |\n",
              "| Barack Obama |  Jesse Lee (politician) | 109.04569790902957 |  4   |  216   |\n",
              "| Barack Obama |      Samantha Power     | 109.10810616502708 |  5   |  310   |\n",
              "| Barack Obama |       Bob Menendez      | 109.78186710530214 |  6   |  220   |\n",
              "| Barack Obama | Eric Stern (politician) | 109.9577880796839  |  7   |  255   |\n",
              "| Barack Obama |      James A. Guest     | 110.41388871759888 |  8   |  215   |\n",
              "| Barack Obama |   Roland Grossenbacher  | 110.47060870018983 |  9   |  201   |\n",
              "| Barack Obama |      Tulsi Gabbard      | 110.69699799880009 |  10  |  228   |\n",
              "+--------------+-------------------------+--------------------+------+--------+\n",
              "[100 rows x 5 columns]\n",
              "Note: Only the head of the SFrame is printed.\n",
              "You can use print_rows(num_rows=m, num_columns=n) to print more rows and columns."
            ]
          },
          "metadata": {},
          "execution_count": 41
        }
      ]
    },
    {
      "cell_type": "markdown",
      "metadata": {
        "id": "u2VTywe8_zBr"
      },
      "source": [
        "To see how these document lengths compare to the lengths of other documents in the corpus, let's make a histogram of the document lengths of Obama's 100 nearest neighbors and compare to a histogram of document lengths for all documents."
      ]
    },
    {
      "cell_type": "code",
      "metadata": {
        "colab": {
          "base_uri": "https://localhost:8080/",
          "height": 657
        },
        "id": "cRhIOsC2_zBr",
        "outputId": "d1a11750-139b-43a5-ecf7-3fe21628487c"
      },
      "source": [
        "plt.figure(figsize=(10.5,4.5))\n",
        "plt.hist(wiki['length'], 50, color='k', edgecolor='None', histtype='stepfilled', normed=True,\n",
        "         label='Entire Wikipedia', zorder=3, alpha=0.8)\n",
        "plt.hist(nearest_neighbors_euclidean['length'], 50, color='r', edgecolor='None', histtype='stepfilled', normed=True,\n",
        "         label='100 NNs of Obama (Euclidean)', zorder=10, alpha=0.8)\n",
        "plt.axvline(x=wiki['length'][wiki['name'] == 'Barack Obama'][0], color='k', linestyle='--', linewidth=4,\n",
        "           label='Length of Barack Obama', zorder=2)\n",
        "plt.axvline(x=wiki['length'][wiki['name'] == 'Joe Biden'][0], color='g', linestyle='--', linewidth=4,\n",
        "           label='Length of Joe Biden', zorder=1)\n",
        "plt.axis([0, 1000, 0, 0.04])\n",
        "\n",
        "plt.legend(loc='best', prop={'size':15})\n",
        "plt.title('Distribution of document length')\n",
        "plt.xlabel('# of words')\n",
        "plt.ylabel('Percentage')\n",
        "plt.rcParams.update({'font.size':16})\n",
        "plt.tight_layout()"
      ],
      "execution_count": 42,
      "outputs": [
        {
          "output_type": "error",
          "ename": "AttributeError",
          "evalue": "ignored",
          "traceback": [
            "\u001b[0;31m---------------------------------------------------------------------------\u001b[0m",
            "\u001b[0;31mAttributeError\u001b[0m                            Traceback (most recent call last)",
            "\u001b[0;32m<ipython-input-42-52ba4b128709>\u001b[0m in \u001b[0;36m<module>\u001b[0;34m()\u001b[0m\n\u001b[1;32m      1\u001b[0m \u001b[0mplt\u001b[0m\u001b[0;34m.\u001b[0m\u001b[0mfigure\u001b[0m\u001b[0;34m(\u001b[0m\u001b[0mfigsize\u001b[0m\u001b[0;34m=\u001b[0m\u001b[0;34m(\u001b[0m\u001b[0;36m10.5\u001b[0m\u001b[0;34m,\u001b[0m\u001b[0;36m4.5\u001b[0m\u001b[0;34m)\u001b[0m\u001b[0;34m)\u001b[0m\u001b[0;34m\u001b[0m\u001b[0;34m\u001b[0m\u001b[0m\n\u001b[1;32m      2\u001b[0m plt.hist(wiki['length'], 50, color='k', edgecolor='None', histtype='stepfilled', normed=True,\n\u001b[0;32m----> 3\u001b[0;31m          label='Entire Wikipedia', zorder=3, alpha=0.8)\n\u001b[0m\u001b[1;32m      4\u001b[0m plt.hist(nearest_neighbors_euclidean['length'], 50, color='r', edgecolor='None', histtype='stepfilled', normed=True,\n\u001b[1;32m      5\u001b[0m          label='100 NNs of Obama (Euclidean)', zorder=10, alpha=0.8)\n",
            "\u001b[0;32m/usr/local/lib/python3.7/dist-packages/matplotlib/pyplot.py\u001b[0m in \u001b[0;36mhist\u001b[0;34m(x, bins, range, density, weights, cumulative, bottom, histtype, align, orientation, rwidth, log, color, label, stacked, data, **kwargs)\u001b[0m\n\u001b[1;32m   2608\u001b[0m         \u001b[0malign\u001b[0m\u001b[0;34m=\u001b[0m\u001b[0malign\u001b[0m\u001b[0;34m,\u001b[0m \u001b[0morientation\u001b[0m\u001b[0;34m=\u001b[0m\u001b[0morientation\u001b[0m\u001b[0;34m,\u001b[0m \u001b[0mrwidth\u001b[0m\u001b[0;34m=\u001b[0m\u001b[0mrwidth\u001b[0m\u001b[0;34m,\u001b[0m \u001b[0mlog\u001b[0m\u001b[0;34m=\u001b[0m\u001b[0mlog\u001b[0m\u001b[0;34m,\u001b[0m\u001b[0;34m\u001b[0m\u001b[0;34m\u001b[0m\u001b[0m\n\u001b[1;32m   2609\u001b[0m         color=color, label=label, stacked=stacked, **({\"data\": data}\n\u001b[0;32m-> 2610\u001b[0;31m         if data is not None else {}), **kwargs)\n\u001b[0m\u001b[1;32m   2611\u001b[0m \u001b[0;34m\u001b[0m\u001b[0m\n\u001b[1;32m   2612\u001b[0m \u001b[0;34m\u001b[0m\u001b[0m\n",
            "\u001b[0;32m/usr/local/lib/python3.7/dist-packages/matplotlib/__init__.py\u001b[0m in \u001b[0;36minner\u001b[0;34m(ax, data, *args, **kwargs)\u001b[0m\n\u001b[1;32m   1563\u001b[0m     \u001b[0;32mdef\u001b[0m \u001b[0minner\u001b[0m\u001b[0;34m(\u001b[0m\u001b[0max\u001b[0m\u001b[0;34m,\u001b[0m \u001b[0;34m*\u001b[0m\u001b[0margs\u001b[0m\u001b[0;34m,\u001b[0m \u001b[0mdata\u001b[0m\u001b[0;34m=\u001b[0m\u001b[0;32mNone\u001b[0m\u001b[0;34m,\u001b[0m \u001b[0;34m**\u001b[0m\u001b[0mkwargs\u001b[0m\u001b[0;34m)\u001b[0m\u001b[0;34m:\u001b[0m\u001b[0;34m\u001b[0m\u001b[0;34m\u001b[0m\u001b[0m\n\u001b[1;32m   1564\u001b[0m         \u001b[0;32mif\u001b[0m \u001b[0mdata\u001b[0m \u001b[0;32mis\u001b[0m \u001b[0;32mNone\u001b[0m\u001b[0;34m:\u001b[0m\u001b[0;34m\u001b[0m\u001b[0;34m\u001b[0m\u001b[0m\n\u001b[0;32m-> 1565\u001b[0;31m             \u001b[0;32mreturn\u001b[0m \u001b[0mfunc\u001b[0m\u001b[0;34m(\u001b[0m\u001b[0max\u001b[0m\u001b[0;34m,\u001b[0m \u001b[0;34m*\u001b[0m\u001b[0mmap\u001b[0m\u001b[0;34m(\u001b[0m\u001b[0msanitize_sequence\u001b[0m\u001b[0;34m,\u001b[0m \u001b[0margs\u001b[0m\u001b[0;34m)\u001b[0m\u001b[0;34m,\u001b[0m \u001b[0;34m**\u001b[0m\u001b[0mkwargs\u001b[0m\u001b[0;34m)\u001b[0m\u001b[0;34m\u001b[0m\u001b[0;34m\u001b[0m\u001b[0m\n\u001b[0m\u001b[1;32m   1566\u001b[0m \u001b[0;34m\u001b[0m\u001b[0m\n\u001b[1;32m   1567\u001b[0m         \u001b[0mbound\u001b[0m \u001b[0;34m=\u001b[0m \u001b[0mnew_sig\u001b[0m\u001b[0;34m.\u001b[0m\u001b[0mbind\u001b[0m\u001b[0;34m(\u001b[0m\u001b[0max\u001b[0m\u001b[0;34m,\u001b[0m \u001b[0;34m*\u001b[0m\u001b[0margs\u001b[0m\u001b[0;34m,\u001b[0m \u001b[0;34m**\u001b[0m\u001b[0mkwargs\u001b[0m\u001b[0;34m)\u001b[0m\u001b[0;34m\u001b[0m\u001b[0;34m\u001b[0m\u001b[0m\n",
            "\u001b[0;32m/usr/local/lib/python3.7/dist-packages/matplotlib/axes/_axes.py\u001b[0m in \u001b[0;36mhist\u001b[0;34m(self, x, bins, range, density, weights, cumulative, bottom, histtype, align, orientation, rwidth, log, color, label, stacked, **kwargs)\u001b[0m\n\u001b[1;32m   6817\u001b[0m             \u001b[0;32mif\u001b[0m \u001b[0mpatch\u001b[0m\u001b[0;34m:\u001b[0m\u001b[0;34m\u001b[0m\u001b[0;34m\u001b[0m\u001b[0m\n\u001b[1;32m   6818\u001b[0m                 \u001b[0mp\u001b[0m \u001b[0;34m=\u001b[0m \u001b[0mpatch\u001b[0m\u001b[0;34m[\u001b[0m\u001b[0;36m0\u001b[0m\u001b[0;34m]\u001b[0m\u001b[0;34m\u001b[0m\u001b[0;34m\u001b[0m\u001b[0m\n\u001b[0;32m-> 6819\u001b[0;31m                 \u001b[0mp\u001b[0m\u001b[0;34m.\u001b[0m\u001b[0mupdate\u001b[0m\u001b[0;34m(\u001b[0m\u001b[0mkwargs\u001b[0m\u001b[0;34m)\u001b[0m\u001b[0;34m\u001b[0m\u001b[0;34m\u001b[0m\u001b[0m\n\u001b[0m\u001b[1;32m   6820\u001b[0m                 \u001b[0;32mif\u001b[0m \u001b[0mlbl\u001b[0m \u001b[0;32mis\u001b[0m \u001b[0;32mnot\u001b[0m \u001b[0;32mNone\u001b[0m\u001b[0;34m:\u001b[0m\u001b[0;34m\u001b[0m\u001b[0;34m\u001b[0m\u001b[0m\n\u001b[1;32m   6821\u001b[0m                     \u001b[0mp\u001b[0m\u001b[0;34m.\u001b[0m\u001b[0mset_label\u001b[0m\u001b[0;34m(\u001b[0m\u001b[0mlbl\u001b[0m\u001b[0;34m)\u001b[0m\u001b[0;34m\u001b[0m\u001b[0;34m\u001b[0m\u001b[0m\n",
            "\u001b[0;32m/usr/local/lib/python3.7/dist-packages/matplotlib/artist.py\u001b[0m in \u001b[0;36mupdate\u001b[0;34m(self, props)\u001b[0m\n\u001b[1;32m   1004\u001b[0m \u001b[0;34m\u001b[0m\u001b[0m\n\u001b[1;32m   1005\u001b[0m         \u001b[0;32mwith\u001b[0m \u001b[0mcbook\u001b[0m\u001b[0;34m.\u001b[0m\u001b[0m_setattr_cm\u001b[0m\u001b[0;34m(\u001b[0m\u001b[0mself\u001b[0m\u001b[0;34m,\u001b[0m \u001b[0meventson\u001b[0m\u001b[0;34m=\u001b[0m\u001b[0;32mFalse\u001b[0m\u001b[0;34m)\u001b[0m\u001b[0;34m:\u001b[0m\u001b[0;34m\u001b[0m\u001b[0;34m\u001b[0m\u001b[0m\n\u001b[0;32m-> 1006\u001b[0;31m             \u001b[0mret\u001b[0m \u001b[0;34m=\u001b[0m \u001b[0;34m[\u001b[0m\u001b[0m_update_property\u001b[0m\u001b[0;34m(\u001b[0m\u001b[0mself\u001b[0m\u001b[0;34m,\u001b[0m \u001b[0mk\u001b[0m\u001b[0;34m,\u001b[0m \u001b[0mv\u001b[0m\u001b[0;34m)\u001b[0m \u001b[0;32mfor\u001b[0m \u001b[0mk\u001b[0m\u001b[0;34m,\u001b[0m \u001b[0mv\u001b[0m \u001b[0;32min\u001b[0m \u001b[0mprops\u001b[0m\u001b[0;34m.\u001b[0m\u001b[0mitems\u001b[0m\u001b[0;34m(\u001b[0m\u001b[0;34m)\u001b[0m\u001b[0;34m]\u001b[0m\u001b[0;34m\u001b[0m\u001b[0;34m\u001b[0m\u001b[0m\n\u001b[0m\u001b[1;32m   1007\u001b[0m \u001b[0;34m\u001b[0m\u001b[0m\n\u001b[1;32m   1008\u001b[0m         \u001b[0;32mif\u001b[0m \u001b[0mlen\u001b[0m\u001b[0;34m(\u001b[0m\u001b[0mret\u001b[0m\u001b[0;34m)\u001b[0m\u001b[0;34m:\u001b[0m\u001b[0;34m\u001b[0m\u001b[0;34m\u001b[0m\u001b[0m\n",
            "\u001b[0;32m/usr/local/lib/python3.7/dist-packages/matplotlib/artist.py\u001b[0m in \u001b[0;36m<listcomp>\u001b[0;34m(.0)\u001b[0m\n\u001b[1;32m   1004\u001b[0m \u001b[0;34m\u001b[0m\u001b[0m\n\u001b[1;32m   1005\u001b[0m         \u001b[0;32mwith\u001b[0m \u001b[0mcbook\u001b[0m\u001b[0;34m.\u001b[0m\u001b[0m_setattr_cm\u001b[0m\u001b[0;34m(\u001b[0m\u001b[0mself\u001b[0m\u001b[0;34m,\u001b[0m \u001b[0meventson\u001b[0m\u001b[0;34m=\u001b[0m\u001b[0;32mFalse\u001b[0m\u001b[0;34m)\u001b[0m\u001b[0;34m:\u001b[0m\u001b[0;34m\u001b[0m\u001b[0;34m\u001b[0m\u001b[0m\n\u001b[0;32m-> 1006\u001b[0;31m             \u001b[0mret\u001b[0m \u001b[0;34m=\u001b[0m \u001b[0;34m[\u001b[0m\u001b[0m_update_property\u001b[0m\u001b[0;34m(\u001b[0m\u001b[0mself\u001b[0m\u001b[0;34m,\u001b[0m \u001b[0mk\u001b[0m\u001b[0;34m,\u001b[0m \u001b[0mv\u001b[0m\u001b[0;34m)\u001b[0m \u001b[0;32mfor\u001b[0m \u001b[0mk\u001b[0m\u001b[0;34m,\u001b[0m \u001b[0mv\u001b[0m \u001b[0;32min\u001b[0m \u001b[0mprops\u001b[0m\u001b[0;34m.\u001b[0m\u001b[0mitems\u001b[0m\u001b[0;34m(\u001b[0m\u001b[0;34m)\u001b[0m\u001b[0;34m]\u001b[0m\u001b[0;34m\u001b[0m\u001b[0;34m\u001b[0m\u001b[0m\n\u001b[0m\u001b[1;32m   1007\u001b[0m \u001b[0;34m\u001b[0m\u001b[0m\n\u001b[1;32m   1008\u001b[0m         \u001b[0;32mif\u001b[0m \u001b[0mlen\u001b[0m\u001b[0;34m(\u001b[0m\u001b[0mret\u001b[0m\u001b[0;34m)\u001b[0m\u001b[0;34m:\u001b[0m\u001b[0;34m\u001b[0m\u001b[0;34m\u001b[0m\u001b[0m\n",
            "\u001b[0;32m/usr/local/lib/python3.7/dist-packages/matplotlib/artist.py\u001b[0m in \u001b[0;36m_update_property\u001b[0;34m(self, k, v)\u001b[0m\n\u001b[1;32m   1000\u001b[0m                 \u001b[0;32mif\u001b[0m \u001b[0;32mnot\u001b[0m \u001b[0mcallable\u001b[0m\u001b[0;34m(\u001b[0m\u001b[0mfunc\u001b[0m\u001b[0;34m)\u001b[0m\u001b[0;34m:\u001b[0m\u001b[0;34m\u001b[0m\u001b[0;34m\u001b[0m\u001b[0m\n\u001b[1;32m   1001\u001b[0m                     raise AttributeError('{!r} object has no property {!r}'\n\u001b[0;32m-> 1002\u001b[0;31m                                          .format(type(self).__name__, k))\n\u001b[0m\u001b[1;32m   1003\u001b[0m                 \u001b[0;32mreturn\u001b[0m \u001b[0mfunc\u001b[0m\u001b[0;34m(\u001b[0m\u001b[0mv\u001b[0m\u001b[0;34m)\u001b[0m\u001b[0;34m\u001b[0m\u001b[0;34m\u001b[0m\u001b[0m\n\u001b[1;32m   1004\u001b[0m \u001b[0;34m\u001b[0m\u001b[0m\n",
            "\u001b[0;31mAttributeError\u001b[0m: 'Polygon' object has no property 'normed'"
          ]
        },
        {
          "output_type": "display_data",
          "data": {
            "image/png": "[encoded data removed]",
            "text/plain": [
              "<Figure size 756x324 with 1 Axes>"
            ]
          },
          "metadata": {
            "needs_background": "light"
          }
        }
      ]
    },
    {
      "cell_type": "markdown",
      "metadata": {
        "id": "LlFlXy_D_zBs"
      },
      "source": [
        "Relative to the rest of Wikipedia, nearest neighbors of Obama are overwhemingly short, most of them being shorter than 300 words. The bias towards short articles is not appropriate in this application as there is really no reason to  favor short articles over long articles (they are all Wikipedia articles, after all). Many of the Wikipedia articles are 300 words or more, and both Obama and Biden are over 300 words long.\n",
        "\n",
        "**Note**: For the interest of computation time, the dataset given here contains _excerpts_ of the articles rather than full text. For instance, the actual Wikipedia article about Obama is around 25000 words. Do not be surprised by the low numbers shown in the histogram."
      ]
    },
    {
      "cell_type": "markdown",
      "metadata": {
        "id": "GmsA2_Z8_zBt"
      },
      "source": [
        "**Note:** Both word-count features and TF-IDF are proportional to word frequencies. While TF-IDF penalizes very common words, longer articles tend to have longer TF-IDF vectors simply because they have more words in them."
      ]
    },
    {
      "cell_type": "markdown",
      "metadata": {
        "collapsed": true,
        "id": "tfApPpnw_zBt"
      },
      "source": [
        "To remove this bias, we turn to **cosine distances**:\n",
        "$$\n",
        "d(\\mathbf{x},\\mathbf{y}) = 1 - \\frac{\\mathbf{x}^T\\mathbf{y}}{\\|\\mathbf{x}\\| \\|\\mathbf{y}\\|}\n",
        "$$\n",
        "Cosine distances let us compare word distributions of two articles of varying lengths.\n",
        "\n",
        "Let us train a new nearest neighbor model, this time with cosine distances.  We then repeat the search for Obama's 100 nearest neighbors."
      ]
    },
    {
      "cell_type": "code",
      "metadata": {
        "colab": {
          "base_uri": "https://localhost:8080/",
          "height": 104
        },
        "id": "urvFNyOR_zBu",
        "outputId": "9db0308c-4676-4f30-ad77-91b7e23552ed"
      },
      "source": [
        "model2_tf_idf = turicreate.nearest_neighbors.create(wiki, label='name', features=['tf_idf'],\n",
        "                                                    method='brute_force', distance='cosine')"
      ],
      "execution_count": 43,
      "outputs": [
        {
          "output_type": "display_data",
          "data": {
            "text/html": [
              "<pre>Starting brute force nearest neighbors model training.</pre>"
            ],
            "text/plain": [
              "Starting brute force nearest neighbors model training."
            ]
          },
          "metadata": {}
        },
        {
          "output_type": "display_data",
          "data": {
            "text/html": [
              "<pre>Validating distance components.</pre>"
            ],
            "text/plain": [
              "Validating distance components."
            ]
          },
          "metadata": {}
        },
        {
          "output_type": "display_data",
          "data": {
            "text/html": [
              "<pre>Initializing model data.</pre>"
            ],
            "text/plain": [
              "Initializing model data."
            ]
          },
          "metadata": {}
        },
        {
          "output_type": "display_data",
          "data": {
            "text/html": [
              "<pre>Initializing distances.</pre>"
            ],
            "text/plain": [
              "Initializing distances."
            ]
          },
          "metadata": {}
        },
        {
          "output_type": "display_data",
          "data": {
            "text/html": [
              "<pre>Done.</pre>"
            ],
            "text/plain": [
              "Done."
            ]
          },
          "metadata": {}
        }
      ]
    },
    {
      "cell_type": "code",
      "metadata": {
        "colab": {
          "base_uri": "https://localhost:8080/",
          "height": 139
        },
        "id": "Ckz-zDH8_zBu",
        "outputId": "c5211bb5-c80b-4673-92ec-58b3a8448792"
      },
      "source": [
        "nearest_neighbors_cosine = model2_tf_idf.query(wiki[wiki['name'] == 'Barack Obama'], label='name', k=100)\n",
        "nearest_neighbors_cosine = nearest_neighbors_cosine.join(wiki[['name', 'length']], on={'reference_label':'name'})"
      ],
      "execution_count": 44,
      "outputs": [
        {
          "output_type": "display_data",
          "data": {
            "text/html": [
              "<pre>Starting pairwise querying.</pre>"
            ],
            "text/plain": [
              "Starting pairwise querying."
            ]
          },
          "metadata": {}
        },
        {
          "output_type": "display_data",
          "data": {
            "text/html": [
              "<pre>+--------------+---------+-------------+--------------+</pre>"
            ],
            "text/plain": [
              "+--------------+---------+-------------+--------------+"
            ]
          },
          "metadata": {}
        },
        {
          "output_type": "display_data",
          "data": {
            "text/html": [
              "<pre>| Query points | # Pairs | % Complete. | Elapsed Time |</pre>"
            ],
            "text/plain": [
              "| Query points | # Pairs | % Complete. | Elapsed Time |"
            ]
          },
          "metadata": {}
        },
        {
          "output_type": "display_data",
          "data": {
            "text/html": [
              "<pre>+--------------+---------+-------------+--------------+</pre>"
            ],
            "text/plain": [
              "+--------------+---------+-------------+--------------+"
            ]
          },
          "metadata": {}
        },
        {
          "output_type": "display_data",
          "data": {
            "text/html": [
              "<pre>| 0            | 1       | 0.00169288  | 25.614ms     |</pre>"
            ],
            "text/plain": [
              "| 0            | 1       | 0.00169288  | 25.614ms     |"
            ]
          },
          "metadata": {}
        },
        {
          "output_type": "display_data",
          "data": {
            "text/html": [
              "<pre>| Done         |         | 100         | 515.304ms    |</pre>"
            ],
            "text/plain": [
              "| Done         |         | 100         | 515.304ms    |"
            ]
          },
          "metadata": {}
        },
        {
          "output_type": "display_data",
          "data": {
            "text/html": [
              "<pre>+--------------+---------+-------------+--------------+</pre>"
            ],
            "text/plain": [
              "+--------------+---------+-------------+--------------+"
            ]
          },
          "metadata": {}
        }
      ]
    },
    {
      "cell_type": "code",
      "metadata": {
        "colab": {
          "base_uri": "https://localhost:8080/",
          "height": 284
        },
        "id": "tKD_B68__zBv",
        "outputId": "0332ed95-da5e-466f-d241-7412c0138efc"
      },
      "source": [
        "nearest_neighbors_cosine.sort('rank')"
      ],
      "execution_count": 45,
      "outputs": [
        {
          "output_type": "execute_result",
          "data": {
            "text/html": [
              "<div style=\"max-height:1000px;max-width:1500px;overflow:auto;\"><table frame=\"box\" rules=\"cols\">\n",
              "    <tr>\n",
              "        <th style=\"padding-left: 1em; padding-right: 1em; text-align: center\">query_label</th>\n",
              "        <th style=\"padding-left: 1em; padding-right: 1em; text-align: center\">reference_label</th>\n",
              "        <th style=\"padding-left: 1em; padding-right: 1em; text-align: center\">distance</th>\n",
              "        <th style=\"padding-left: 1em; padding-right: 1em; text-align: center\">rank</th>\n",
              "        <th style=\"padding-left: 1em; padding-right: 1em; text-align: center\">length</th>\n",
              "    </tr>\n",
              "    <tr>\n",
              "        <td style=\"padding-left: 1em; padding-right: 1em; text-align: center; vertical-align: top\">Barack Obama</td>\n",
              "        <td style=\"padding-left: 1em; padding-right: 1em; text-align: center; vertical-align: top\">Barack Obama</td>\n",
              "        <td style=\"padding-left: 1em; padding-right: 1em; text-align: center; vertical-align: top\">0.0</td>\n",
              "        <td style=\"padding-left: 1em; padding-right: 1em; text-align: center; vertical-align: top\">1</td>\n",
              "        <td style=\"padding-left: 1em; padding-right: 1em; text-align: center; vertical-align: top\">540</td>\n",
              "    </tr>\n",
              "    <tr>\n",
              "        <td style=\"padding-left: 1em; padding-right: 1em; text-align: center; vertical-align: top\">Barack Obama</td>\n",
              "        <td style=\"padding-left: 1em; padding-right: 1em; text-align: center; vertical-align: top\">Joe Biden</td>\n",
              "        <td style=\"padding-left: 1em; padding-right: 1em; text-align: center; vertical-align: top\">0.7031386767335749</td>\n",
              "        <td style=\"padding-left: 1em; padding-right: 1em; text-align: center; vertical-align: top\">2</td>\n",
              "        <td style=\"padding-left: 1em; padding-right: 1em; text-align: center; vertical-align: top\">414</td>\n",
              "    </tr>\n",
              "    <tr>\n",
              "        <td style=\"padding-left: 1em; padding-right: 1em; text-align: center; vertical-align: top\">Barack Obama</td>\n",
              "        <td style=\"padding-left: 1em; padding-right: 1em; text-align: center; vertical-align: top\">Samantha Power</td>\n",
              "        <td style=\"padding-left: 1em; padding-right: 1em; text-align: center; vertical-align: top\">0.7429819023278823</td>\n",
              "        <td style=\"padding-left: 1em; padding-right: 1em; text-align: center; vertical-align: top\">3</td>\n",
              "        <td style=\"padding-left: 1em; padding-right: 1em; text-align: center; vertical-align: top\">310</td>\n",
              "    </tr>\n",
              "    <tr>\n",
              "        <td style=\"padding-left: 1em; padding-right: 1em; text-align: center; vertical-align: top\">Barack Obama</td>\n",
              "        <td style=\"padding-left: 1em; padding-right: 1em; text-align: center; vertical-align: top\">Hillary Rodham Clinton</td>\n",
              "        <td style=\"padding-left: 1em; padding-right: 1em; text-align: center; vertical-align: top\">0.7583583978869676</td>\n",
              "        <td style=\"padding-left: 1em; padding-right: 1em; text-align: center; vertical-align: top\">4</td>\n",
              "        <td style=\"padding-left: 1em; padding-right: 1em; text-align: center; vertical-align: top\">580</td>\n",
              "    </tr>\n",
              "    <tr>\n",
              "        <td style=\"padding-left: 1em; padding-right: 1em; text-align: center; vertical-align: top\">Barack Obama</td>\n",
              "        <td style=\"padding-left: 1em; padding-right: 1em; text-align: center; vertical-align: top\">Eric Stern (politician)</td>\n",
              "        <td style=\"padding-left: 1em; padding-right: 1em; text-align: center; vertical-align: top\">0.7705612276009977</td>\n",
              "        <td style=\"padding-left: 1em; padding-right: 1em; text-align: center; vertical-align: top\">5</td>\n",
              "        <td style=\"padding-left: 1em; padding-right: 1em; text-align: center; vertical-align: top\">255</td>\n",
              "    </tr>\n",
              "    <tr>\n",
              "        <td style=\"padding-left: 1em; padding-right: 1em; text-align: center; vertical-align: top\">Barack Obama</td>\n",
              "        <td style=\"padding-left: 1em; padding-right: 1em; text-align: center; vertical-align: top\">Robert Gibbs</td>\n",
              "        <td style=\"padding-left: 1em; padding-right: 1em; text-align: center; vertical-align: top\">0.7846775047506501</td>\n",
              "        <td style=\"padding-left: 1em; padding-right: 1em; text-align: center; vertical-align: top\">6</td>\n",
              "        <td style=\"padding-left: 1em; padding-right: 1em; text-align: center; vertical-align: top\">257</td>\n",
              "    </tr>\n",
              "    <tr>\n",
              "        <td style=\"padding-left: 1em; padding-right: 1em; text-align: center; vertical-align: top\">Barack Obama</td>\n",
              "        <td style=\"padding-left: 1em; padding-right: 1em; text-align: center; vertical-align: top\">Eric Holder</td>\n",
              "        <td style=\"padding-left: 1em; padding-right: 1em; text-align: center; vertical-align: top\">0.7880390729434777</td>\n",
              "        <td style=\"padding-left: 1em; padding-right: 1em; text-align: center; vertical-align: top\">7</td>\n",
              "        <td style=\"padding-left: 1em; padding-right: 1em; text-align: center; vertical-align: top\">232</td>\n",
              "    </tr>\n",
              "    <tr>\n",
              "        <td style=\"padding-left: 1em; padding-right: 1em; text-align: center; vertical-align: top\">Barack Obama</td>\n",
              "        <td style=\"padding-left: 1em; padding-right: 1em; text-align: center; vertical-align: top\">Jesse Lee (politician)</td>\n",
              "        <td style=\"padding-left: 1em; padding-right: 1em; text-align: center; vertical-align: top\">0.7909264153663161</td>\n",
              "        <td style=\"padding-left: 1em; padding-right: 1em; text-align: center; vertical-align: top\">8</td>\n",
              "        <td style=\"padding-left: 1em; padding-right: 1em; text-align: center; vertical-align: top\">216</td>\n",
              "    </tr>\n",
              "    <tr>\n",
              "        <td style=\"padding-left: 1em; padding-right: 1em; text-align: center; vertical-align: top\">Barack Obama</td>\n",
              "        <td style=\"padding-left: 1em; padding-right: 1em; text-align: center; vertical-align: top\">Henry Waxman</td>\n",
              "        <td style=\"padding-left: 1em; padding-right: 1em; text-align: center; vertical-align: top\">0.7983226028934733</td>\n",
              "        <td style=\"padding-left: 1em; padding-right: 1em; text-align: center; vertical-align: top\">9</td>\n",
              "        <td style=\"padding-left: 1em; padding-right: 1em; text-align: center; vertical-align: top\">279</td>\n",
              "    </tr>\n",
              "    <tr>\n",
              "        <td style=\"padding-left: 1em; padding-right: 1em; text-align: center; vertical-align: top\">Barack Obama</td>\n",
              "        <td style=\"padding-left: 1em; padding-right: 1em; text-align: center; vertical-align: top\">Joe the Plumber</td>\n",
              "        <td style=\"padding-left: 1em; padding-right: 1em; text-align: center; vertical-align: top\">0.799466360041952</td>\n",
              "        <td style=\"padding-left: 1em; padding-right: 1em; text-align: center; vertical-align: top\">10</td>\n",
              "        <td style=\"padding-left: 1em; padding-right: 1em; text-align: center; vertical-align: top\">217</td>\n",
              "    </tr>\n",
              "</table>\n",
              "[100 rows x 5 columns]<br/>Note: Only the head of the SFrame is printed.<br/>You can use print_rows(num_rows=m, num_columns=n) to print more rows and columns.\n",
              "</div>"
            ],
            "text/plain": [
              "Columns:\n",
              "\tquery_label\tstr\n",
              "\treference_label\tstr\n",
              "\tdistance\tfloat\n",
              "\trank\tint\n",
              "\tlength\tint\n",
              "\n",
              "Rows: 100\n",
              "\n",
              "Data:\n",
              "+--------------+-------------------------+--------------------+------+--------+\n",
              "| query_label  |     reference_label     |      distance      | rank | length |\n",
              "+--------------+-------------------------+--------------------+------+--------+\n",
              "| Barack Obama |       Barack Obama      |        0.0         |  1   |  540   |\n",
              "| Barack Obama |        Joe Biden        | 0.7031386767335749 |  2   |  414   |\n",
              "| Barack Obama |      Samantha Power     | 0.7429819023278823 |  3   |  310   |\n",
              "| Barack Obama |  Hillary Rodham Clinton | 0.7583583978869676 |  4   |  580   |\n",
              "| Barack Obama | Eric Stern (politician) | 0.7705612276009977 |  5   |  255   |\n",
              "| Barack Obama |       Robert Gibbs      | 0.7846775047506501 |  6   |  257   |\n",
              "| Barack Obama |       Eric Holder       | 0.7880390729434777 |  7   |  232   |\n",
              "| Barack Obama |  Jesse Lee (politician) | 0.7909264153663161 |  8   |  216   |\n",
              "| Barack Obama |       Henry Waxman      | 0.7983226028934733 |  9   |  279   |\n",
              "| Barack Obama |     Joe the Plumber     | 0.799466360041952  |  10  |  217   |\n",
              "+--------------+-------------------------+--------------------+------+--------+\n",
              "[100 rows x 5 columns]\n",
              "Note: Only the head of the SFrame is printed.\n",
              "You can use print_rows(num_rows=m, num_columns=n) to print more rows and columns."
            ]
          },
          "metadata": {},
          "execution_count": 45
        }
      ]
    },
    {
      "cell_type": "markdown",
      "metadata": {
        "id": "krAl_4Mz_zBv"
      },
      "source": [
        "From a glance at the above table, things look better.  For example, we now see Joe Biden as Barack Obama's nearest neighbor!  We also see Hillary Clinton on the list.  This list looks even more plausible as nearest neighbors of Barack Obama.\n",
        "\n",
        "Let's make a plot to better visualize the effect of having used cosine distance in place of Euclidean on our TF-IDF vectors."
      ]
    },
    {
      "cell_type": "code",
      "metadata": {
        "id": "lt5Y3L39_zBw"
      },
      "source": [
        "plt.figure(figsize=(10.5,4.5))\n",
        "plt.figure(figsize=(10.5,4.5))\n",
        "plt.hist(wiki['length'], 50, color='k', edgecolor='None', histtype='stepfilled', normed=True,\n",
        "         label='Entire Wikipedia', zorder=3, alpha=0.8)\n",
        "plt.hist(nearest_neighbors_euclidean['length'], 50, color='r', edgecolor='None', histtype='stepfilled', normed=True,\n",
        "         label='100 NNs of Obama (Euclidean)', zorder=10, alpha=0.8)\n",
        "plt.hist(nearest_neighbors_cosine['length'], 50, color='b', edgecolor='None', histtype='stepfilled', normed=True,\n",
        "         label='100 NNs of Obama (cosine)', zorder=11, alpha=0.8)\n",
        "plt.axvline(x=wiki['length'][wiki['name'] == 'Barack Obama'][0], color='k', linestyle='--', linewidth=4,\n",
        "           label='Length of Barack Obama', zorder=2)\n",
        "plt.axvline(x=wiki['length'][wiki['name'] == 'Joe Biden'][0], color='g', linestyle='--', linewidth=4,\n",
        "           label='Length of Joe Biden', zorder=1)\n",
        "plt.axis([0, 1000, 0, 0.04])\n",
        "plt.legend(loc='best', prop={'size':15})\n",
        "plt.title('Distribution of document length')\n",
        "plt.xlabel('# of words')\n",
        "plt.ylabel('Percentage')\n",
        "plt.rcParams.update({'font.size': 16})\n",
        "plt.tight_layout()"
      ],
      "execution_count": null,
      "outputs": []
    },
    {
      "cell_type": "markdown",
      "metadata": {
        "id": "tJYnLaGA_zBw"
      },
      "source": [
        "Indeed, the 100 nearest neighbors using cosine distance provide a sampling across the range of document lengths, rather than just short articles like Euclidean distance provided."
      ]
    },
    {
      "cell_type": "markdown",
      "metadata": {
        "id": "xl5eh5fa_zBx"
      },
      "source": [
        "**Moral of the story**: In deciding the features and distance measures, check if they produce results that make sense for your particular application."
      ]
    },
    {
      "cell_type": "markdown",
      "metadata": {
        "id": "JdO-zQJ8_zBx"
      },
      "source": [
        "# Problem with cosine distances: tweets vs. long articles"
      ]
    },
    {
      "cell_type": "markdown",
      "metadata": {
        "id": "jXKVOs2D_zBx"
      },
      "source": [
        "Happily ever after? Not so fast. Cosine distances ignore all document lengths, which may be great in certain situations but not in others. For instance, consider the following (admittedly contrived) example."
      ]
    },
    {
      "cell_type": "markdown",
      "metadata": {
        "id": "Is-e-rbA_zBy"
      },
      "source": [
        "```\n",
        "+--------------------------------------------------------+\n",
        "|                                             +--------+ |\n",
        "|  One that shall not be named                | Follow | |\n",
        "|  @username                                  +--------+ |\n",
        "|                                                        |\n",
        "|  Democratic governments control law in response to     |\n",
        "|  popular act.                                          |\n",
        "|                                                        |\n",
        "|  8:05 AM - 16 May 2016                                 |\n",
        "|                                                        |\n",
        "|  Reply   Retweet (1,332)   Like (300)                  |\n",
        "|                                                        |\n",
        "+--------------------------------------------------------+\n",
        "```"
      ]
    },
    {
      "cell_type": "markdown",
      "metadata": {
        "id": "z8DPapwF_zBy"
      },
      "source": [
        "How similar is this tweet to Barack Obama's Wikipedia article? Let's transform the tweet into TF-IDF features, using an encoder fit to the Wikipedia dataset.  (That is, let's treat this tweet as an article in our Wikipedia dataset and see what happens.)"
      ]
    },
    {
      "cell_type": "code",
      "metadata": {
        "colab": {
          "base_uri": "https://localhost:8080/",
          "height": 93
        },
        "id": "HQ7qAXhh_zBz",
        "outputId": "546dc4d6-0d8f-46c2-96d5-08a1218e2765"
      },
      "source": [
        "sf = turicreate.SFrame({'text': ['democratic governments control law in response to popular act']})\n",
        "sf['word_count'] = turicreate.text_analytics.count_words(sf['text'])\n",
        "\n",
        "encoder = turicreate.toolkits._feature_engineering.TFIDF(features=['word_count'], output_column_prefix='tf_idf')\n",
        "encoder.fit(wiki)\n",
        "sf = encoder.transform(sf)\n",
        "sf"
      ],
      "execution_count": 46,
      "outputs": [
        {
          "output_type": "execute_result",
          "data": {
            "text/html": [
              "<div style=\"max-height:1000px;max-width:1500px;overflow:auto;\"><table frame=\"box\" rules=\"cols\">\n",
              "    <tr>\n",
              "        <th style=\"padding-left: 1em; padding-right: 1em; text-align: center\">text</th>\n",
              "        <th style=\"padding-left: 1em; padding-right: 1em; text-align: center\">word_count</th>\n",
              "        <th style=\"padding-left: 1em; padding-right: 1em; text-align: center\">tf_idf.word_count</th>\n",
              "    </tr>\n",
              "    <tr>\n",
              "        <td style=\"padding-left: 1em; padding-right: 1em; text-align: center; vertical-align: top\">democratic governments<br>control law in response ...</td>\n",
              "        <td style=\"padding-left: 1em; padding-right: 1em; text-align: center; vertical-align: top\">{&#x27;act&#x27;: 1.0, &#x27;popular&#x27;:<br>1.0, &#x27;in&#x27;: 1.0, &#x27;law&#x27;: ...</td>\n",
              "        <td style=\"padding-left: 1em; padding-right: 1em; text-align: center; vertical-align: top\">{&#x27;act&#x27;:<br>3.4597778278724887, ...</td>\n",
              "    </tr>\n",
              "</table>\n",
              "[1 rows x 3 columns]<br/>\n",
              "</div>"
            ],
            "text/plain": [
              "Columns:\n",
              "\ttext\tstr\n",
              "\tword_count\tdict\n",
              "\ttf_idf.word_count\tdict\n",
              "\n",
              "Rows: 1\n",
              "\n",
              "Data:\n",
              "+-------------------------------+-------------------------------+\n",
              "|              text             |           word_count          |\n",
              "+-------------------------------+-------------------------------+\n",
              "| democratic governments con... | {'act': 1.0, 'popular': 1.... |\n",
              "+-------------------------------+-------------------------------+\n",
              "+-------------------------------+\n",
              "|       tf_idf.word_count       |\n",
              "+-------------------------------+\n",
              "| {'act': 3.4597778278724887... |\n",
              "+-------------------------------+\n",
              "[1 rows x 3 columns]"
            ]
          },
          "metadata": {},
          "execution_count": 46
        }
      ]
    },
    {
      "cell_type": "markdown",
      "metadata": {
        "id": "rcS_SbbI_zBz"
      },
      "source": [
        "Let's look at the TF-IDF vectors for this tweet and for Barack Obama's Wikipedia entry, just to visually see their differences."
      ]
    },
    {
      "cell_type": "code",
      "metadata": {
        "colab": {
          "base_uri": "https://localhost:8080/"
        },
        "id": "suOYdbat_zBz",
        "outputId": "ae17ee7c-4202-478d-9bac-4fd973a8fed8"
      },
      "source": [
        "tweet_tf_idf = sf[0]['tf_idf.word_count']\n",
        "tweet_tf_idf"
      ],
      "execution_count": 47,
      "outputs": [
        {
          "output_type": "execute_result",
          "data": {
            "text/plain": [
              "{'act': 3.4597778278724887,\n",
              " 'control': 3.721765211295327,\n",
              " 'democratic': 3.1026721743330414,\n",
              " 'governments': 4.167571323949673,\n",
              " 'in': 0.0009654063501214492,\n",
              " 'law': 2.4538226269605703,\n",
              " 'popular': 2.764478952022998,\n",
              " 'response': 4.261461747058352,\n",
              " 'to': 0.04694493768179923}"
            ]
          },
          "metadata": {},
          "execution_count": 47
        }
      ]
    },
    {
      "cell_type": "code",
      "metadata": {
        "colab": {
          "base_uri": "https://localhost:8080/",
          "height": 185
        },
        "id": "taquBRnP_zB0",
        "outputId": "e363930c-c410-4680-aa19-cb2a4cc42e12"
      },
      "source": [
        "obama = wiki[wiki['name'] == 'Barack Obama']\n",
        "obama"
      ],
      "execution_count": 48,
      "outputs": [
        {
          "output_type": "execute_result",
          "data": {
            "text/html": [
              "<div style=\"max-height:1000px;max-width:1500px;overflow:auto;\"><table frame=\"box\" rules=\"cols\">\n",
              "    <tr>\n",
              "        <th style=\"padding-left: 1em; padding-right: 1em; text-align: center\">URI</th>\n",
              "        <th style=\"padding-left: 1em; padding-right: 1em; text-align: center\">name</th>\n",
              "        <th style=\"padding-left: 1em; padding-right: 1em; text-align: center\">text</th>\n",
              "        <th style=\"padding-left: 1em; padding-right: 1em; text-align: center\">word_count</th>\n",
              "        <th style=\"padding-left: 1em; padding-right: 1em; text-align: center\">has_top_words</th>\n",
              "    </tr>\n",
              "    <tr>\n",
              "        <td style=\"padding-left: 1em; padding-right: 1em; text-align: center; vertical-align: top\">&lt;http://dbpedia.org/resou<br>rce/Barack_Obama&gt; ...</td>\n",
              "        <td style=\"padding-left: 1em; padding-right: 1em; text-align: center; vertical-align: top\">Barack Obama</td>\n",
              "        <td style=\"padding-left: 1em; padding-right: 1em; text-align: center; vertical-align: top\">barack hussein obama ii<br>brk husen bm born august ...</td>\n",
              "        <td style=\"padding-left: 1em; padding-right: 1em; text-align: center; vertical-align: top\">{&#x27;normalize&#x27;: 1.0,<br>&#x27;sought&#x27;: 1.0, &#x27;combat&#x27;: ...</td>\n",
              "        <td style=\"padding-left: 1em; padding-right: 1em; text-align: center; vertical-align: top\">1</td>\n",
              "    </tr>\n",
              "</table>\n",
              "<table frame=\"box\" rules=\"cols\">\n",
              "    <tr>\n",
              "        <th style=\"padding-left: 1em; padding-right: 1em; text-align: center\">tf_idf</th>\n",
              "        <th style=\"padding-left: 1em; padding-right: 1em; text-align: center\">length</th>\n",
              "    </tr>\n",
              "    <tr>\n",
              "        <td style=\"padding-left: 1em; padding-right: 1em; text-align: center; vertical-align: top\">{&#x27;normalize&#x27;:<br>10.293348208665249, ...</td>\n",
              "        <td style=\"padding-left: 1em; padding-right: 1em; text-align: center; vertical-align: top\">540</td>\n",
              "    </tr>\n",
              "</table>\n",
              "[? rows x 7 columns]<br/>Note: Only the head of the SFrame is printed. This SFrame is lazily evaluated.<br/>You can use sf.materialize() to force materialization.\n",
              "</div>"
            ],
            "text/plain": [
              "Columns:\n",
              "\tURI\tstr\n",
              "\tname\tstr\n",
              "\ttext\tstr\n",
              "\tword_count\tdict\n",
              "\thas_top_words\tint\n",
              "\ttf_idf\tdict\n",
              "\tlength\tint\n",
              "\n",
              "Rows: Unknown\n",
              "\n",
              "Data:\n",
              "+-------------------------------+--------------+-------------------------------+\n",
              "|              URI              |     name     |              text             |\n",
              "+-------------------------------+--------------+-------------------------------+\n",
              "| <http://dbpedia.org/resour... | Barack Obama | barack hussein obama ii br... |\n",
              "+-------------------------------+--------------+-------------------------------+\n",
              "+-------------------------------+---------------+-------------------------------+\n",
              "|           word_count          | has_top_words |             tf_idf            |\n",
              "+-------------------------------+---------------+-------------------------------+\n",
              "| {'normalize': 1.0, 'sought... |       1       | {'normalize': 10.293348208... |\n",
              "+-------------------------------+---------------+-------------------------------+\n",
              "+--------+\n",
              "| length |\n",
              "+--------+\n",
              "|  540   |\n",
              "+--------+\n",
              "[? rows x 7 columns]\n",
              "Note: Only the head of the SFrame is printed. This SFrame is lazily evaluated.\n",
              "You can use sf.materialize() to force materialization."
            ]
          },
          "metadata": {},
          "execution_count": 48
        }
      ]
    },
    {
      "cell_type": "markdown",
      "metadata": {
        "id": "jaTC7vqA_zB0"
      },
      "source": [
        "Now, compute the cosine distance between the Barack Obama article and this tweet:"
      ]
    },
    {
      "cell_type": "code",
      "metadata": {
        "colab": {
          "base_uri": "https://localhost:8080/"
        },
        "id": "abTWdQlj_zB6",
        "outputId": "5feee840-79c0-43d9-dcda-f773d93adad3"
      },
      "source": [
        "obama_tf_idf = obama[0]['tf_idf']\n",
        "turicreate.toolkits.distances.cosine(obama_tf_idf, tweet_tf_idf)"
      ],
      "execution_count": 49,
      "outputs": [
        {
          "output_type": "execute_result",
          "data": {
            "text/plain": [
              "0.7059183777794328"
            ]
          },
          "metadata": {},
          "execution_count": 49
        }
      ]
    },
    {
      "cell_type": "markdown",
      "metadata": {
        "id": "FP8OvRn4_zB7"
      },
      "source": [
        "Let's compare this distance to the distance between the Barack Obama article and all of its Wikipedia 10 nearest neighbors:"
      ]
    },
    {
      "cell_type": "code",
      "metadata": {
        "colab": {
          "base_uri": "https://localhost:8080/",
          "height": 371
        },
        "id": "w4ZuZnbY_zB7",
        "outputId": "348195c4-3783-4f79-8add-6ffe63302369"
      },
      "source": [
        "model2_tf_idf.query(obama, label='name', k=10)"
      ],
      "execution_count": 50,
      "outputs": [
        {
          "output_type": "display_data",
          "data": {
            "text/html": [
              "<pre>Starting pairwise querying.</pre>"
            ],
            "text/plain": [
              "Starting pairwise querying."
            ]
          },
          "metadata": {}
        },
        {
          "output_type": "display_data",
          "data": {
            "text/html": [
              "<pre>+--------------+---------+-------------+--------------+</pre>"
            ],
            "text/plain": [
              "+--------------+---------+-------------+--------------+"
            ]
          },
          "metadata": {}
        },
        {
          "output_type": "display_data",
          "data": {
            "text/html": [
              "<pre>| Query points | # Pairs | % Complete. | Elapsed Time |</pre>"
            ],
            "text/plain": [
              "| Query points | # Pairs | % Complete. | Elapsed Time |"
            ]
          },
          "metadata": {}
        },
        {
          "output_type": "display_data",
          "data": {
            "text/html": [
              "<pre>+--------------+---------+-------------+--------------+</pre>"
            ],
            "text/plain": [
              "+--------------+---------+-------------+--------------+"
            ]
          },
          "metadata": {}
        },
        {
          "output_type": "display_data",
          "data": {
            "text/html": [
              "<pre>| 0            | 1       | 0.00169288  | 19.908ms     |</pre>"
            ],
            "text/plain": [
              "| 0            | 1       | 0.00169288  | 19.908ms     |"
            ]
          },
          "metadata": {}
        },
        {
          "output_type": "display_data",
          "data": {
            "text/html": [
              "<pre>| Done         |         | 100         | 509.525ms    |</pre>"
            ],
            "text/plain": [
              "| Done         |         | 100         | 509.525ms    |"
            ]
          },
          "metadata": {}
        },
        {
          "output_type": "display_data",
          "data": {
            "text/html": [
              "<pre>+--------------+---------+-------------+--------------+</pre>"
            ],
            "text/plain": [
              "+--------------+---------+-------------+--------------+"
            ]
          },
          "metadata": {}
        },
        {
          "output_type": "execute_result",
          "data": {
            "text/html": [
              "<div style=\"max-height:1000px;max-width:1500px;overflow:auto;\"><table frame=\"box\" rules=\"cols\">\n",
              "    <tr>\n",
              "        <th style=\"padding-left: 1em; padding-right: 1em; text-align: center\">query_label</th>\n",
              "        <th style=\"padding-left: 1em; padding-right: 1em; text-align: center\">reference_label</th>\n",
              "        <th style=\"padding-left: 1em; padding-right: 1em; text-align: center\">distance</th>\n",
              "        <th style=\"padding-left: 1em; padding-right: 1em; text-align: center\">rank</th>\n",
              "    </tr>\n",
              "    <tr>\n",
              "        <td style=\"padding-left: 1em; padding-right: 1em; text-align: center; vertical-align: top\">Barack Obama</td>\n",
              "        <td style=\"padding-left: 1em; padding-right: 1em; text-align: center; vertical-align: top\">Barack Obama</td>\n",
              "        <td style=\"padding-left: 1em; padding-right: 1em; text-align: center; vertical-align: top\">0.0</td>\n",
              "        <td style=\"padding-left: 1em; padding-right: 1em; text-align: center; vertical-align: top\">1</td>\n",
              "    </tr>\n",
              "    <tr>\n",
              "        <td style=\"padding-left: 1em; padding-right: 1em; text-align: center; vertical-align: top\">Barack Obama</td>\n",
              "        <td style=\"padding-left: 1em; padding-right: 1em; text-align: center; vertical-align: top\">Joe Biden</td>\n",
              "        <td style=\"padding-left: 1em; padding-right: 1em; text-align: center; vertical-align: top\">0.7031386767335749</td>\n",
              "        <td style=\"padding-left: 1em; padding-right: 1em; text-align: center; vertical-align: top\">2</td>\n",
              "    </tr>\n",
              "    <tr>\n",
              "        <td style=\"padding-left: 1em; padding-right: 1em; text-align: center; vertical-align: top\">Barack Obama</td>\n",
              "        <td style=\"padding-left: 1em; padding-right: 1em; text-align: center; vertical-align: top\">Samantha Power</td>\n",
              "        <td style=\"padding-left: 1em; padding-right: 1em; text-align: center; vertical-align: top\">0.7429819023278823</td>\n",
              "        <td style=\"padding-left: 1em; padding-right: 1em; text-align: center; vertical-align: top\">3</td>\n",
              "    </tr>\n",
              "    <tr>\n",
              "        <td style=\"padding-left: 1em; padding-right: 1em; text-align: center; vertical-align: top\">Barack Obama</td>\n",
              "        <td style=\"padding-left: 1em; padding-right: 1em; text-align: center; vertical-align: top\">Hillary Rodham Clinton</td>\n",
              "        <td style=\"padding-left: 1em; padding-right: 1em; text-align: center; vertical-align: top\">0.7583583978869676</td>\n",
              "        <td style=\"padding-left: 1em; padding-right: 1em; text-align: center; vertical-align: top\">4</td>\n",
              "    </tr>\n",
              "    <tr>\n",
              "        <td style=\"padding-left: 1em; padding-right: 1em; text-align: center; vertical-align: top\">Barack Obama</td>\n",
              "        <td style=\"padding-left: 1em; padding-right: 1em; text-align: center; vertical-align: top\">Eric Stern (politician)</td>\n",
              "        <td style=\"padding-left: 1em; padding-right: 1em; text-align: center; vertical-align: top\">0.7705612276009977</td>\n",
              "        <td style=\"padding-left: 1em; padding-right: 1em; text-align: center; vertical-align: top\">5</td>\n",
              "    </tr>\n",
              "    <tr>\n",
              "        <td style=\"padding-left: 1em; padding-right: 1em; text-align: center; vertical-align: top\">Barack Obama</td>\n",
              "        <td style=\"padding-left: 1em; padding-right: 1em; text-align: center; vertical-align: top\">Robert Gibbs</td>\n",
              "        <td style=\"padding-left: 1em; padding-right: 1em; text-align: center; vertical-align: top\">0.7846775047506501</td>\n",
              "        <td style=\"padding-left: 1em; padding-right: 1em; text-align: center; vertical-align: top\">6</td>\n",
              "    </tr>\n",
              "    <tr>\n",
              "        <td style=\"padding-left: 1em; padding-right: 1em; text-align: center; vertical-align: top\">Barack Obama</td>\n",
              "        <td style=\"padding-left: 1em; padding-right: 1em; text-align: center; vertical-align: top\">Eric Holder</td>\n",
              "        <td style=\"padding-left: 1em; padding-right: 1em; text-align: center; vertical-align: top\">0.7880390729434777</td>\n",
              "        <td style=\"padding-left: 1em; padding-right: 1em; text-align: center; vertical-align: top\">7</td>\n",
              "    </tr>\n",
              "    <tr>\n",
              "        <td style=\"padding-left: 1em; padding-right: 1em; text-align: center; vertical-align: top\">Barack Obama</td>\n",
              "        <td style=\"padding-left: 1em; padding-right: 1em; text-align: center; vertical-align: top\">Jesse Lee (politician)</td>\n",
              "        <td style=\"padding-left: 1em; padding-right: 1em; text-align: center; vertical-align: top\">0.7909264153663161</td>\n",
              "        <td style=\"padding-left: 1em; padding-right: 1em; text-align: center; vertical-align: top\">8</td>\n",
              "    </tr>\n",
              "    <tr>\n",
              "        <td style=\"padding-left: 1em; padding-right: 1em; text-align: center; vertical-align: top\">Barack Obama</td>\n",
              "        <td style=\"padding-left: 1em; padding-right: 1em; text-align: center; vertical-align: top\">Henry Waxman</td>\n",
              "        <td style=\"padding-left: 1em; padding-right: 1em; text-align: center; vertical-align: top\">0.7983226028934733</td>\n",
              "        <td style=\"padding-left: 1em; padding-right: 1em; text-align: center; vertical-align: top\">9</td>\n",
              "    </tr>\n",
              "    <tr>\n",
              "        <td style=\"padding-left: 1em; padding-right: 1em; text-align: center; vertical-align: top\">Barack Obama</td>\n",
              "        <td style=\"padding-left: 1em; padding-right: 1em; text-align: center; vertical-align: top\">Joe the Plumber</td>\n",
              "        <td style=\"padding-left: 1em; padding-right: 1em; text-align: center; vertical-align: top\">0.799466360041952</td>\n",
              "        <td style=\"padding-left: 1em; padding-right: 1em; text-align: center; vertical-align: top\">10</td>\n",
              "    </tr>\n",
              "</table>\n",
              "[10 rows x 4 columns]<br/>\n",
              "</div>"
            ],
            "text/plain": [
              "Columns:\n",
              "\tquery_label\tstr\n",
              "\treference_label\tstr\n",
              "\tdistance\tfloat\n",
              "\trank\tint\n",
              "\n",
              "Rows: 10\n",
              "\n",
              "Data:\n",
              "+--------------+-------------------------+--------------------+------+\n",
              "| query_label  |     reference_label     |      distance      | rank |\n",
              "+--------------+-------------------------+--------------------+------+\n",
              "| Barack Obama |       Barack Obama      |        0.0         |  1   |\n",
              "| Barack Obama |        Joe Biden        | 0.7031386767335749 |  2   |\n",
              "| Barack Obama |      Samantha Power     | 0.7429819023278823 |  3   |\n",
              "| Barack Obama |  Hillary Rodham Clinton | 0.7583583978869676 |  4   |\n",
              "| Barack Obama | Eric Stern (politician) | 0.7705612276009977 |  5   |\n",
              "| Barack Obama |       Robert Gibbs      | 0.7846775047506501 |  6   |\n",
              "| Barack Obama |       Eric Holder       | 0.7880390729434777 |  7   |\n",
              "| Barack Obama |  Jesse Lee (politician) | 0.7909264153663161 |  8   |\n",
              "| Barack Obama |       Henry Waxman      | 0.7983226028934733 |  9   |\n",
              "| Barack Obama |     Joe the Plumber     | 0.799466360041952  |  10  |\n",
              "+--------------+-------------------------+--------------------+------+\n",
              "[10 rows x 4 columns]"
            ]
          },
          "metadata": {},
          "execution_count": 50
        }
      ]
    },
    {
      "cell_type": "markdown",
      "metadata": {
        "id": "-cMoI0gB_zB8"
      },
      "source": [
        "With cosine distances, the tweet is \"nearer\" to Barack Obama than everyone else, except for Joe Biden!  This probably is not something we want. If someone is reading the Barack Obama Wikipedia page, would you want to recommend they read this tweet? Ignoring article lengths completely resulted in nonsensical results. In practice, it is common to enforce maximum or minimum document lengths. After all, when someone is reading a long article from _The Atlantic_, you wouldn't recommend him/her a tweet."
      ]
    }
  ]
}